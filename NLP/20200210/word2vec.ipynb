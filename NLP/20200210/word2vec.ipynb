{
 "cells": [
  {
   "cell_type": "code",
   "execution_count": 19,
   "metadata": {
    "ExecuteTime": {
     "end_time": "2020-02-10T06:38:13.224647Z",
     "start_time": "2020-02-10T06:38:13.221647Z"
    }
   },
   "outputs": [],
   "source": [
    "from gensim.models import Word2Vec\n",
    "import matplotlib.pyplot as plt\n",
    "import codecs\n",
    "from konlpy.tag import Twitter\n",
    "from gensim.models import word2vec\n",
    "from konlpy.utils import pprint\n",
    "from sklearn.manifold import TSNE\n",
    "from konlpy.tag import Okt"
   ]
  },
  {
   "cell_type": "code",
   "execution_count": null,
   "metadata": {
    "ExecuteTime": {
     "end_time": "2020-02-10T04:36:05.318883Z",
     "start_time": "2020-02-10T04:36:05.301674Z"
    }
   },
   "outputs": [],
   "source": [
    "sentences = [\n",
    "                ['this', 'is', 'a',   'good',      'product'],\n",
    "                ['it',   'is', 'a',   'excellent', 'product'],\n",
    "                ['it',   'is', 'a',   'bad',       'product'],\n",
    "                ['that', 'is', 'the', 'worst',     'product']\n",
    "            ]\n",
    "\n",
    "# 문장을 이용하여 단어와 벡터를 생성한다.\n",
    "model = Word2Vec(sentences, size=5, window=3, min_count=2)"
   ]
  },
  {
   "cell_type": "code",
   "execution_count": null,
   "metadata": {
    "ExecuteTime": {
     "end_time": "2020-02-10T04:36:07.616628Z",
     "start_time": "2020-02-10T04:36:07.612659Z"
    }
   },
   "outputs": [],
   "source": [
    "# 단어벡터를 구한다.\n",
    "word_vectors = model.wv"
   ]
  },
  {
   "cell_type": "code",
   "execution_count": null,
   "metadata": {
    "ExecuteTime": {
     "end_time": "2020-02-10T04:36:10.538341Z",
     "start_time": "2020-02-10T04:36:10.534341Z"
    }
   },
   "outputs": [],
   "source": [
    "print(word_vectors[\"this\"])\n",
    "print(word_vectors[\"the\"])"
   ]
  },
  {
   "cell_type": "code",
   "execution_count": null,
   "metadata": {
    "ExecuteTime": {
     "end_time": "2020-02-10T04:38:00.776950Z",
     "start_time": "2020-02-10T04:38:00.772932Z"
    }
   },
   "outputs": [],
   "source": [
    "vocabs = word_vectors.vocab.keys()\n",
    "print(vocabs)"
   ]
  },
  {
   "cell_type": "code",
   "execution_count": null,
   "metadata": {
    "ExecuteTime": {
     "end_time": "2020-02-10T04:39:35.177426Z",
     "start_time": "2020-02-10T04:39:35.172426Z"
    }
   },
   "outputs": [],
   "source": [
    "word_vectors_list = [word_vectors[v] for v in vocabs]\n",
    "print(word_vectors_list)"
   ]
  },
  {
   "cell_type": "code",
   "execution_count": null,
   "metadata": {
    "ExecuteTime": {
     "end_time": "2020-02-10T04:49:17.534967Z",
     "start_time": "2020-02-10T04:49:17.530009Z"
    }
   },
   "outputs": [],
   "source": [
    "print(model.wv.similarity(w1='it', w2='the'))"
   ]
  },
  {
   "cell_type": "code",
   "execution_count": null,
   "metadata": {
    "ExecuteTime": {
     "end_time": "2020-02-10T04:49:23.302718Z",
     "start_time": "2020-02-10T04:49:23.298767Z"
    }
   },
   "outputs": [],
   "source": [
    "model.wv.most_similar('it')"
   ]
  },
  {
   "cell_type": "code",
   "execution_count": null,
   "metadata": {
    "ExecuteTime": {
     "end_time": "2020-02-10T05:14:16.115106Z",
     "start_time": "2020-02-10T05:14:15.812825Z"
    }
   },
   "outputs": [],
   "source": [
    "#파일 읽기 함수. 첫줄 헤더를 제외하고 한 줄씩 읽어서 data 에 담아서 리턴 한다.\n",
    "def read_data(filename):\n",
    "    with open(filename, encoding='utf-8', mode='r') as f:\n",
    "        data = [line.split('\\t') for line in f.read().splitlines()]\n",
    "        data = data[1:]   # header 제외\n",
    "    return data\n",
    "\n",
    "ratings_train = read_data('ratings_train.txt')"
   ]
  },
  {
   "cell_type": "code",
   "execution_count": null,
   "metadata": {
    "ExecuteTime": {
     "end_time": "2020-02-10T05:19:20.114468Z",
     "start_time": "2020-02-10T05:19:20.110507Z"
    }
   },
   "outputs": [],
   "source": [
    "print(ratings_train[0])"
   ]
  },
  {
   "cell_type": "code",
   "execution_count": 20,
   "metadata": {
    "ExecuteTime": {
     "end_time": "2020-02-10T06:38:29.000554Z",
     "start_time": "2020-02-10T06:38:28.253239Z"
    }
   },
   "outputs": [],
   "source": [
    "okt = Okt()\n",
    "def tokens(doc):\n",
    "    return ['/'.join(t) for t in okt.pos(doc, norm=True, stem=True)]"
   ]
  },
  {
   "cell_type": "code",
   "execution_count": null,
   "metadata": {
    "ExecuteTime": {
     "end_time": "2020-02-10T05:20:32.949257Z",
     "start_time": "2020-02-10T05:20:30.323253Z"
    }
   },
   "outputs": [],
   "source": [
    "tokens('아 더빙.. 진짜 짜증나네요 목소리')"
   ]
  },
  {
   "cell_type": "code",
   "execution_count": null,
   "metadata": {
    "ExecuteTime": {
     "end_time": "2020-02-10T05:22:27.590123Z",
     "start_time": "2020-02-10T05:22:27.564118Z"
    }
   },
   "outputs": [],
   "source": [
    "# 파일중에서 영화 리뷰 데이타만 담기\n",
    "docs = []\n",
    "for row in ratings_train:\n",
    "    docs.append(row[1])\n",
    "print(docs[:10])"
   ]
  },
  {
   "cell_type": "code",
   "execution_count": null,
   "metadata": {
    "ExecuteTime": {
     "end_time": "2020-02-10T05:28:23.214398Z",
     "start_time": "2020-02-10T05:23:31.826902Z"
    }
   },
   "outputs": [],
   "source": [
    "data = [tokens(d) for d in docs]"
   ]
  },
  {
   "cell_type": "code",
   "execution_count": null,
   "metadata": {
    "ExecuteTime": {
     "end_time": "2020-02-10T05:39:01.094714Z",
     "start_time": "2020-02-10T05:38:56.775679Z"
    }
   },
   "outputs": [],
   "source": [
    "w2v_model = word2vec.Word2Vec(data, size=100, window=3)"
   ]
  },
  {
   "cell_type": "code",
   "execution_count": null,
   "metadata": {
    "ExecuteTime": {
     "end_time": "2020-02-10T05:30:19.106827Z",
     "start_time": "2020-02-10T05:30:18.929788Z"
    }
   },
   "outputs": [],
   "source": [
    "w2v_model.save('naver.model')"
   ]
  },
  {
   "cell_type": "code",
   "execution_count": null,
   "metadata": {
    "ExecuteTime": {
     "end_time": "2020-02-10T05:31:13.079576Z",
     "start_time": "2020-02-10T05:31:13.066576Z"
    }
   },
   "outputs": [],
   "source": [
    "vocabs = w2v_model.wv.vocab.keys()\n",
    "print(vocabs)"
   ]
  },
  {
   "cell_type": "code",
   "execution_count": null,
   "metadata": {},
   "outputs": [],
   "source": [
    "\n",
    "\n",
    "\n"
   ]
  },
  {
   "cell_type": "code",
   "execution_count": null,
   "metadata": {
    "ExecuteTime": {
     "end_time": "2020-02-10T05:35:00.502925Z",
     "start_time": "2020-02-10T05:35:00.496928Z"
    }
   },
   "outputs": [],
   "source": [
    "print(w2v_model.wv.most_similar(positive=tokens(u'남자 여배우'), \n",
    "        negative=tokens(u'배우'), topn=5))"
   ]
  },
  {
   "cell_type": "code",
   "execution_count": null,
   "metadata": {
    "ExecuteTime": {
     "end_time": "2020-02-10T05:45:11.261290Z",
     "start_time": "2020-02-10T05:45:11.257678Z"
    }
   },
   "outputs": [],
   "source": [
    "print(w2v_model.wv.most_similar(tokens('엄마')))"
   ]
  },
  {
   "cell_type": "code",
   "execution_count": null,
   "metadata": {
    "ExecuteTime": {
     "end_time": "2020-02-10T06:25:46.780005Z",
     "start_time": "2020-02-10T06:25:46.560926Z"
    }
   },
   "outputs": [],
   "source": [
    "w2v_model = Word2Vec.load(\"naver.model\")"
   ]
  },
  {
   "cell_type": "code",
   "execution_count": null,
   "metadata": {
    "ExecuteTime": {
     "end_time": "2020-02-10T06:25:49.253688Z",
     "start_time": "2020-02-10T06:25:49.248688Z"
    }
   },
   "outputs": [],
   "source": [
    "vocabs = w2v_model.wv.vocab.keys()\n",
    "print(len(vocabs))"
   ]
  },
  {
   "cell_type": "code",
   "execution_count": null,
   "metadata": {
    "ExecuteTime": {
     "end_time": "2020-02-10T06:09:53.576088Z",
     "start_time": "2020-02-10T06:09:53.565088Z"
    }
   },
   "outputs": [],
   "source": [
    "vocab = list(w2v_model.wv.vocab)\n",
    "print(vocab)"
   ]
  },
  {
   "cell_type": "code",
   "execution_count": 10,
   "metadata": {
    "ExecuteTime": {
     "end_time": "2020-02-10T06:26:09.739947Z",
     "start_time": "2020-02-10T06:26:09.671948Z"
    }
   },
   "outputs": [
    {
     "name": "stdout",
     "output_type": "stream",
     "text": [
      "(27477, 100)\n",
      "[[ 4.0819529e-01 -8.4327132e-01 -3.5046235e-01 ...  1.8095580e+00\n",
      "  -1.0547279e+00 -8.2400024e-02]\n",
      " [-3.1744769e-01 -3.6357215e-01 -6.6273427e-01 ...  7.8319174e-01\n",
      "  -5.3199142e-01  5.0992185e-01]\n",
      " [-1.5255909e-01 -4.6779764e-01  6.4982933e-01 ... -2.8316092e-01\n",
      "  -6.1875921e-01  6.8003766e-02]\n",
      " ...\n",
      " [-6.9187622e-04 -3.0505581e-02 -7.4676205e-03 ... -3.1667246e-04\n",
      "   6.2526227e-03  2.7786281e-02]\n",
      " [ 2.7441485e-02  6.0024532e-03  2.0997250e-02 ... -3.1012481e-02\n",
      "  -8.6847050e-03  2.1675326e-02]\n",
      " [ 3.8935917e-03 -7.9850629e-03  2.3721796e-02 ... -1.8747423e-02\n",
      "  -2.9154336e-03 -3.7520421e-03]]\n"
     ]
    },
    {
     "name": "stderr",
     "output_type": "stream",
     "text": [
      "C:\\ProgramData\\Anaconda3\\lib\\site-packages\\ipykernel_launcher.py:1: DeprecationWarning: Call to deprecated `__getitem__` (Method will be removed in 4.0.0, use self.wv.__getitem__() instead).\n",
      "  \"\"\"Entry point for launching an IPython kernel.\n"
     ]
    }
   ],
   "source": [
    "X = w2v_model[vocab]\n",
    "print(X.shape)\n",
    "print(X)"
   ]
  },
  {
   "cell_type": "code",
   "execution_count": 11,
   "metadata": {
    "ExecuteTime": {
     "end_time": "2020-02-10T06:26:13.012752Z",
     "start_time": "2020-02-10T06:26:13.009844Z"
    }
   },
   "outputs": [],
   "source": [
    "tsne = TSNE(n_components=2)"
   ]
  },
  {
   "cell_type": "code",
   "execution_count": 12,
   "metadata": {
    "ExecuteTime": {
     "end_time": "2020-02-10T06:26:16.332137Z",
     "start_time": "2020-02-10T06:26:14.759506Z"
    }
   },
   "outputs": [],
   "source": [
    "X_tsne = tsne.fit_transform(X[:300,:])"
   ]
  },
  {
   "cell_type": "code",
   "execution_count": 13,
   "metadata": {
    "ExecuteTime": {
     "end_time": "2020-02-10T06:26:17.592404Z",
     "start_time": "2020-02-10T06:26:17.584404Z"
    }
   },
   "outputs": [
    {
     "name": "stdout",
     "output_type": "stream",
     "text": [
      "(300, 2)\n",
      "[[ 2.01106048e+00 -6.17125320e+00]\n",
      " [-8.76215553e+00  4.65234947e+00]\n",
      " [ 9.60011578e+00 -8.64094162e+00]\n",
      " [ 9.63464546e+00  8.03406048e+00]\n",
      " [-6.63544059e-01 -8.59703445e+00]\n",
      " [-9.02257442e+00  7.17326212e+00]\n",
      " [ 1.22732282e+00 -5.39254522e+00]\n",
      " [ 9.50200272e+00 -8.64481258e+00]\n",
      " [ 4.05293703e+00 -2.72179890e+00]\n",
      " [ 9.72334290e+00 -1.37169914e+01]\n",
      " [-2.53272867e+00 -1.09316292e+01]\n",
      " [-8.02097511e+00  1.22976580e+01]\n",
      " [ 1.18087854e+01 -4.32354069e+00]\n",
      " [ 9.40695477e+00 -8.64566135e+00]\n",
      " [-6.45182562e+00  4.23745489e+00]\n",
      " [-9.62124538e+00  6.70665646e+00]\n",
      " [-3.98929811e+00  2.09926605e+00]\n",
      " [-5.64007044e+00  1.51600647e+00]\n",
      " [ 8.79638004e+00  5.30746460e+00]\n",
      " [-4.20896828e-01  7.98225498e+00]\n",
      " [-1.28725672e+00  3.59975189e-01]\n",
      " [ 1.73277521e+00 -3.02785802e+00]\n",
      " [ 7.81330645e-01 -1.47222924e+00]\n",
      " [ 9.66889191e+00 -1.36202383e+01]\n",
      " [ 5.95197248e+00 -1.42857170e+01]\n",
      " [-1.40767097e+01  4.73167181e+00]\n",
      " [-4.54912567e+00 -3.52452159e+00]\n",
      " [ 1.10046089e+00 -3.56196016e-01]\n",
      " [-5.37482691e+00  7.17612457e+00]\n",
      " [-2.19743681e+00 -6.05351567e-01]\n",
      " [ 2.23100170e-01 -5.65682220e+00]\n",
      " [ 1.20675812e+01  2.18895459e+00]\n",
      " [ 2.30227041e+00  8.86498928e+00]\n",
      " [-1.23381195e+01 -1.99231255e+00]\n",
      " [-9.72151184e+00 -1.27841330e+01]\n",
      " [-3.02522965e-02 -3.21062922e+00]\n",
      " [ 1.16285515e+00  1.93301129e+00]\n",
      " [-1.99808061e+00  1.43489039e+00]\n",
      " [-1.49333067e+01  5.73819637e-01]\n",
      " [-3.29240131e+00  9.67759800e+00]\n",
      " [-2.56323886e+00  1.33202136e+00]\n",
      " [ 2.60189223e+00  8.35007381e+00]\n",
      " [-5.56769085e+00  4.16385078e+00]\n",
      " [ 8.66216660e+00  1.45762615e+01]\n",
      " [ 2.61754084e+00  7.22561955e-01]\n",
      " [-6.97072935e+00 -6.49252796e+00]\n",
      " [ 2.19494796e+00  5.57578707e+00]\n",
      " [-7.50907564e+00 -6.53395355e-01]\n",
      " [ 7.53089619e+00 -4.98151159e+00]\n",
      " [-1.82759345e+00  7.08358884e-01]\n",
      " [-1.67013705e+00  1.05063224e+00]\n",
      " [ 7.97661209e+00  5.95020342e+00]\n",
      " [-9.26480293e+00  8.06902313e+00]\n",
      " [-4.14648628e+00 -4.45585394e+00]\n",
      " [ 2.88113880e+00 -2.46137738e-01]\n",
      " [ 1.87286869e-01  6.65156460e+00]\n",
      " [-4.98131371e+00 -1.83642209e+00]\n",
      " [-7.21358728e+00 -1.47569342e+01]\n",
      " [-1.18264782e+00 -1.28096466e+01]\n",
      " [-3.55270195e+00 -1.22458611e+01]\n",
      " [-3.10358977e+00 -1.12205715e+01]\n",
      " [-7.30611801e+00 -1.46668396e+01]\n",
      " [-1.79340005e+00 -1.22688522e+01]\n",
      " [-1.04934072e+00  4.77427304e-01]\n",
      " [-8.95596695e+00 -1.27628498e+01]\n",
      " [ 2.20646763e+00  6.11315727e+00]\n",
      " [ 1.03602009e+01 -8.60495949e+00]\n",
      " [ 3.90945697e+00 -5.96251392e+00]\n",
      " [-9.04975414e+00 -1.26544104e+01]\n",
      " [-9.15395737e+00 -1.05977850e+01]\n",
      " [-4.32765865e+00  2.67027426e+00]\n",
      " [-9.01503468e+00 -9.37404060e+00]\n",
      " [ 7.61202765e+00  4.15708303e+00]\n",
      " [ 8.37513256e+00  8.79797280e-01]\n",
      " [-3.81566191e+00  9.84913731e+00]\n",
      " [ 1.13758411e+01  2.39756656e+00]\n",
      " [ 2.02435160e+00  1.34975796e+01]\n",
      " [ 4.63298893e+00  3.71709013e+00]\n",
      " [ 2.65562510e+00  3.76148391e+00]\n",
      " [-9.16699696e+00 -1.07354898e+01]\n",
      " [ 1.58194628e+01  2.65087342e+00]\n",
      " [-8.22554207e+00 -9.71061110e-01]\n",
      " [-7.89734498e-02  9.29451346e-01]\n",
      " [-1.15482628e+00  1.21683371e+00]\n",
      " [-7.35530186e+00  9.01142406e+00]\n",
      " [-1.04365277e+00  1.11372499e+01]\n",
      " [ 5.49830580e+00  2.76117861e-01]\n",
      " [ 3.70319176e+00  1.36278620e+01]\n",
      " [-5.94607878e+00 -9.75314617e+00]\n",
      " [ 7.03246641e+00 -1.42481849e-01]\n",
      " [-9.22845268e+00 -3.41450739e+00]\n",
      " [ 9.41455364e+00  7.88470316e+00]\n",
      " [-8.60738277e+00  2.18397069e+00]\n",
      " [ 2.82999563e+00  9.83847809e+00]\n",
      " [ 7.30016136e+00 -4.05872059e+00]\n",
      " [ 9.82336330e+00 -2.74585962e-01]\n",
      " [-5.90628958e+00  1.03004932e+01]\n",
      " [ 6.96339726e-01 -4.22881842e+00]\n",
      " [ 2.61743712e+00 -8.85043859e-01]\n",
      " [ 4.56934310e-02 -4.55311745e-01]\n",
      " [ 2.59107566e+00  1.19027414e+01]\n",
      " [ 5.64818239e+00  3.60920858e+00]\n",
      " [ 7.19901466e+00  1.08062067e+01]\n",
      " [-8.01929092e+00  1.23079872e+01]\n",
      " [ 7.21260786e+00  1.85378683e+00]\n",
      " [ 1.58358955e+01  1.82973790e+00]\n",
      " [ 8.43939018e+00 -1.07850111e+00]\n",
      " [-9.61368084e-01  8.80281544e+00]\n",
      " [ 2.68081069e+00 -4.72883272e+00]\n",
      " [ 4.80951648e-03  7.04237080e+00]\n",
      " [-4.57220554e+00  5.29553318e+00]\n",
      " [-1.23182774e+01 -1.98117161e+00]\n",
      " [ 3.39879107e+00  2.67882085e+00]\n",
      " [ 1.48481255e+01  3.45404959e+00]\n",
      " [-1.23165293e+01  6.69226551e+00]\n",
      " [-6.90970898e+00 -3.88338423e+00]\n",
      " [ 1.84850961e-01 -4.36854792e+00]\n",
      " [ 8.27345371e+00 -8.73177433e+00]\n",
      " [ 1.27512560e+01  7.74657393e+00]\n",
      " [ 9.31027222e+00 -1.26155853e+01]\n",
      " [-1.40804777e+01  4.72158575e+00]\n",
      " [ 1.06116886e+01 -3.56810760e+00]\n",
      " [-2.67244005e+00  5.92700338e+00]\n",
      " [-2.18825579e+00  6.46536207e+00]\n",
      " [-5.23383951e+00  4.21923971e+00]\n",
      " [-4.06533623e+00  1.40789661e+01]\n",
      " [-1.40950727e+00 -9.84756708e-01]\n",
      " [ 4.22120094e+00 -6.73967409e+00]\n",
      " [ 1.33382702e+00  9.47729290e-01]\n",
      " [ 1.80752838e+00 -1.50403891e+01]\n",
      " [-1.30821455e+00  1.58406401e+01]\n",
      " [ 1.80480683e+00 -1.50276861e+01]\n",
      " [ 1.80963635e+00 -1.49900465e+01]\n",
      " [-4.19769144e+00 -7.12202978e+00]\n",
      " [-4.02530861e+00 -9.91751480e+00]\n",
      " [-1.83991325e+00 -6.37615824e+00]\n",
      " [-2.94020009e+00 -4.96908283e+00]\n",
      " [-2.42277312e+00  5.24784040e+00]\n",
      " [-1.70537567e+00  4.90964890e+00]\n",
      " [-1.06350136e+00  4.12562370e+00]\n",
      " [ 9.37123108e+00  2.55426192e+00]\n",
      " [ 8.72949028e+00  1.45871124e+01]\n",
      " [-2.06399393e+00  6.10414386e-01]\n",
      " [ 9.19087601e+00  2.64317060e+00]\n",
      " [ 5.42026091e+00  4.03597736e+00]\n",
      " [-3.58220053e+00  5.95733643e+00]\n",
      " [ 1.80975294e+00  1.27017128e+00]\n",
      " [ 8.94417953e+00  1.46199379e+01]\n",
      " [-4.81027031e+00 -7.52311897e+00]\n",
      " [-6.57128620e+00 -6.40376091e+00]\n",
      " [ 5.89683342e+00 -3.10480088e-01]\n",
      " [ 3.44082713e+00  6.11885500e+00]\n",
      " [-1.03910532e+01 -4.79856920e+00]\n",
      " [-3.99334669e-01 -2.52973795e-01]\n",
      " [ 1.09389629e+01  1.07707548e+01]\n",
      " [-4.11291647e+00 -6.27018404e+00]\n",
      " [-5.17223024e+00 -5.37529755e+00]\n",
      " [-3.75157428e+00 -1.11466656e+01]\n",
      " [-3.91889882e+00 -5.53885174e+00]\n",
      " [ 7.35375762e-01  2.53572869e+00]\n",
      " [-8.32457185e-01 -5.19463110e+00]\n",
      " [-4.72105503e+00  1.49150789e+00]\n",
      " [-5.34874010e+00  2.76431918e+00]\n",
      " [-6.30896521e+00  3.08875680e+00]\n",
      " [-1.54639518e+00  9.50353813e+00]\n",
      " [-1.47097397e+00  9.20503426e+00]\n",
      " [-1.31994939e+00  1.03543634e+01]\n",
      " [ 2.92855215e+00  9.13634109e+00]\n",
      " [-6.52020025e+00 -3.87961721e+00]\n",
      " [-1.95454013e+00 -1.24684298e+00]\n",
      " [-1.49289742e+01  5.75063705e-01]\n",
      " [ 3.67728782e+00 -1.10758867e+01]\n",
      " [ 1.01750479e+01 -1.21082664e+00]\n",
      " [ 5.81599712e+00  1.56085241e+00]\n",
      " [ 3.35029340e+00  1.35045710e+01]\n",
      " [ 4.60602665e+00  1.19122553e+00]\n",
      " [ 3.90327382e+00 -1.97990441e+00]\n",
      " [ 4.75029945e-01  4.02657795e+00]\n",
      " [ 1.02070572e+02 -1.65754528e+01]\n",
      " [-5.20947361e+00 -8.01284027e+00]\n",
      " [ 4.44894493e-01  4.37589550e+00]\n",
      " [ 8.15758705e+00  6.45705414e+00]\n",
      " [ 3.17365384e+00 -7.23713446e+00]\n",
      " [ 2.78761101e+00 -3.11302066e+00]\n",
      " [ 1.04382105e+01  2.60655308e+00]\n",
      " [ 3.60177732e+00 -1.08959732e+01]\n",
      " [-6.28303385e+00  6.97557783e+00]\n",
      " [-7.98857450e+00  1.51241100e+00]\n",
      " [ 2.75948668e+00 -5.94904613e+00]\n",
      " [ 1.90437865e+00 -2.27093434e+00]\n",
      " [-2.01528645e+00 -4.90380192e+00]\n",
      " [ 5.58634138e+00  3.30454421e+00]\n",
      " [ 1.29407864e+01  4.40897846e+00]\n",
      " [-2.32612062e+00 -8.60481358e+00]\n",
      " [-1.55918801e+00 -6.57862234e+00]\n",
      " [ 9.03364658e+00  7.69698000e+00]\n",
      " [-2.58183026e+00 -8.24467564e+00]\n",
      " [-6.25978291e-01 -6.94135785e-01]\n",
      " [ 2.83059788e+00 -1.66743028e+00]\n",
      " [ 4.47494030e+00  1.03184824e+01]\n",
      " [-7.74290562e-01 -1.66762352e+00]\n",
      " [-2.62816262e+00  4.98449993e+00]\n",
      " [ 6.21506405e+00 -9.63719273e+00]\n",
      " [-3.62257147e+00 -4.22401381e+00]\n",
      " [ 5.05350590e-01 -2.08518457e+00]\n",
      " [-8.58278465e+00  4.40214586e+00]\n",
      " [ 1.18302731e-02  1.49903107e+01]\n",
      " [-2.86122751e+00 -3.72885728e+00]\n",
      " [ 4.75920868e+00 -6.52489614e+00]\n",
      " [-1.07918215e+00 -2.70266223e+00]\n",
      " [-3.24858260e+00 -2.20735264e+00]\n",
      " [ 5.34349251e+00  7.86299324e+00]\n",
      " [ 1.35957050e+00  2.59801060e-01]\n",
      " [-1.75394714e-01  4.06363964e-01]\n",
      " [ 4.13283300e+00 -6.63170993e-01]\n",
      " [ 3.98269391e+00 -1.17018881e+01]\n",
      " [ 3.59641409e+00  4.11640072e+00]\n",
      " [-9.09723854e+00  5.37233055e-01]\n",
      " [-7.44918108e+00  1.44006693e+00]\n",
      " [-3.07466340e+00 -1.96504116e+00]\n",
      " [ 1.67628670e+00  2.56418681e+00]\n",
      " [-8.82966328e+00  5.85439587e+00]\n",
      " [ 6.11502838e+00  6.70515490e+00]\n",
      " [-1.46434247e+00  2.23504400e+00]\n",
      " [ 7.38380909e+00 -5.29997444e+00]\n",
      " [-9.99267197e+00 -4.46455431e+00]\n",
      " [-9.42863345e-01 -1.91416323e-01]\n",
      " [-8.58187294e+00 -8.06931400e+00]\n",
      " [-6.14585280e-01  2.15719986e+00]\n",
      " [-1.10861855e+01  9.52992260e-01]\n",
      " [-2.00601220e+00  2.00986052e+00]\n",
      " [ 1.80375457e+00 -2.70720333e-01]\n",
      " [-1.02697527e+00  1.57307172e+00]\n",
      " [ 5.13016558e+00 -4.13400602e+00]\n",
      " [ 3.51504183e+00  8.87264061e+00]\n",
      " [ 5.07563496e+00 -1.10039282e+00]\n",
      " [ 3.65509415e+00  1.68491125e-01]\n",
      " [ 5.59080696e+00  5.49653578e+00]\n",
      " [-7.99646521e+00 -3.52451134e+00]\n",
      " [ 7.14412832e+00  1.08502073e+01]\n",
      " [ 7.88471127e+00 -9.49234843e-01]\n",
      " [ 2.28247476e+00  5.70449305e+00]\n",
      " [ 6.16250563e+00 -2.46522570e+00]\n",
      " [-1.08689489e+01  2.90544200e+00]\n",
      " [ 9.87566662e+00 -3.54587626e+00]\n",
      " [ 1.83404875e+00 -9.72652531e+00]\n",
      " [ 1.27616730e+01  7.74176931e+00]\n",
      " [-4.82954788e+00  4.72943962e-01]\n",
      " [ 1.00808697e+01  2.71195352e-01]\n",
      " [ 1.15195637e+01 -3.95578790e+00]\n",
      " [ 6.56688738e+00  7.86282241e-01]\n",
      " [ 5.50300074e+00  1.02718365e+00]\n",
      " [-1.90815616e+00 -3.28032827e+00]\n",
      " [-2.92436337e+00 -7.82962894e+00]\n",
      " [ 1.09741888e+01 -3.68329501e+00]\n",
      " [-3.90467405e+00  9.16470945e-01]\n",
      " [-2.76776731e-01 -9.26231003e+00]\n",
      " [-2.02121705e-01 -9.52168083e+00]\n",
      " [ 5.75282955e+00  8.46823120e+00]\n",
      " [ 4.32532167e+00  1.45562574e-01]\n",
      " [-4.23488712e+00 -7.78585255e-01]\n",
      " [ 3.23808223e-01 -7.10432148e+00]\n",
      " [-1.55122399e+00  1.58489287e+00]\n",
      " [ 2.83052444e-01  5.77561796e-01]\n",
      " [ 7.83674765e+00 -5.50181055e+00]\n",
      " [-4.11392832e+00  1.40778790e+01]\n",
      " [-2.72640610e+00 -7.35341907e-02]\n",
      " [ 4.49980640e+00 -7.81734180e+00]\n",
      " [ 1.21484919e+01 -1.14704561e+00]\n",
      " [-6.56651258e+00 -1.59779167e+00]\n",
      " [ 1.57884626e+01  2.63363576e+00]\n",
      " [-3.98126572e-01  2.30396315e-01]\n",
      " [ 7.39128351e+00  3.76970458e+00]\n",
      " [ 2.70477462e+00  1.31639910e+01]\n",
      " [-1.80589890e+00  1.03907881e+01]\n",
      " [-1.61346555e+00  9.56096935e+00]\n",
      " [ 1.53386128e+00 -7.56241369e+00]\n",
      " [ 4.47505522e+00 -7.86707401e+00]\n",
      " [-5.40605593e+00  9.44401622e-01]\n",
      " [-3.26968360e+00  7.34049797e+00]\n",
      " [-3.27934101e-02  1.50223541e+01]\n",
      " [ 6.97892237e+00 -3.43321705e+00]\n",
      " [-1.76534545e+00 -2.18034387e-02]\n",
      " [-5.44489384e+00  6.95187140e+00]\n",
      " [ 3.17985702e+00  1.43948925e+00]\n",
      " [-9.29974556e+00 -3.88962770e+00]\n",
      " [ 4.79644179e-01 -6.81010199e+00]\n",
      " [ 3.30836606e+00  2.92613912e+00]\n",
      " [ 1.05459509e+01  4.13420975e-01]\n",
      " [-6.71141005e+00 -9.62812722e-01]\n",
      " [ 5.94651699e+00 -1.42805538e+01]\n",
      " [-7.23208189e+00 -1.47444820e+01]\n",
      " [ 4.97951359e-01 -4.70780671e-01]\n",
      " [ 5.85948676e-02 -1.15092480e+00]\n",
      " [-1.03141032e-01 -1.99491954e+00]\n",
      " [-4.80139303e+00 -4.52740526e+00]\n",
      " [-6.29090488e-01  9.23857808e-01]\n",
      " [ 1.71952558e+00 -1.31103861e+00]\n",
      " [-8.99615765e+00  6.91930437e+00]\n",
      " [ 7.67738581e-01 -5.17858267e+00]]\n"
     ]
    }
   ],
   "source": [
    "print(X_tsne.shape)\n",
    "print(X_tsne)"
   ]
  },
  {
   "cell_type": "code",
   "execution_count": 17,
   "metadata": {
    "ExecuteTime": {
     "end_time": "2020-02-10T06:27:59.857019Z",
     "start_time": "2020-02-10T06:27:59.638955Z"
    }
   },
   "outputs": [
    {
     "data": {
      "image/png": "[encoded data removed]",
      "text/plain": [
       "<Figure size 432x288 with 1 Axes>"
      ]
     },
     "metadata": {
      "needs_background": "light"
     },
     "output_type": "display_data"
    }
   ],
   "source": [
    "from matplotlib import font_manager, rc\n",
    "import matplotlib as mpl\n",
    "font_name = font_manager.FontProperties(fname=\"c:/Windows/Fonts/malgun.ttf\").get_name()\n",
    "rc('font', family=font_name)\n",
    "mpl.rcParams['axes.unicode_minus'] = False\n",
    "\n",
    "plt.scatter(X_tsne[:,0], X_tsne[:,1], c='red')\n",
    "\n",
    "words = vocab[:20]    \n",
    "for i, word in enumerate(words):\n",
    "    plt.text(X_tsne[i,0], X_tsne[i,1 ], word, fontsize=8) \n",
    "plt.savefig('out.png', dpi=200)\n"
   ]
  },
  {
   "cell_type": "code",
   "execution_count": 77,
   "metadata": {
    "ExecuteTime": {
     "end_time": "2020-02-10T07:03:21.202731Z",
     "start_time": "2020-02-10T07:03:20.848737Z"
    }
   },
   "outputs": [
    {
     "name": "stderr",
     "output_type": "stream",
     "text": [
      "C:\\ProgramData\\Anaconda3\\lib\\site-packages\\ipykernel_launcher.py:3: DeprecationWarning: Call to deprecated `__getitem__` (Method will be removed in 4.0.0, use self.wv.__getitem__() instead).\n",
      "  This is separate from the ipykernel package so we can avoid doing imports until\n",
      "C:\\ProgramData\\Anaconda3\\lib\\site-packages\\ipykernel_launcher.py:7: DeprecationWarning: Call to deprecated `__getitem__` (Method will be removed in 4.0.0, use self.wv.__getitem__() instead).\n",
      "  import sys\n"
     ]
    },
    {
     "data": {
      "text/plain": [
       "<matplotlib.collections.PathCollection at 0x254c7fdc808>"
      ]
     },
     "execution_count": 77,
     "metadata": {},
     "output_type": "execute_result"
    },
    {
     "data": {
      "image/png": "[encoded data removed]",
      "text/plain": [
       "<Figure size 432x288 with 1 Axes>"
      ]
     },
     "metadata": {
      "needs_background": "light"
     },
     "output_type": "display_data"
    }
   ],
   "source": [
    "group1 = w2v_model.wv.most_similar(tokens('짜증나다'), topn=30)\n",
    "group1 = [w for ( w,  s )  in  group1 ]\n",
    "X1 = w2v_model[group1]\n",
    "\n",
    "group2 = w2v_model.wv.most_similar(tokens('정우성'), topn=30)\n",
    "group2 = [w for ( w,  s )  in  group2 ]\n",
    "X2 = w2v_model[group2]\n",
    "\n",
    "X_tsne =tsne.fit_transform(np.vstack([X1, X2]))\n",
    "\n",
    "label = np.hstack([0*np.ones(30), np.ones(30)  ])\n",
    "c = [ 'red'  if l == 0  else 'blue'  for l in label ]\n",
    "\n",
    "\n",
    "plt.scatter(X_tsne[:,0], X_tsne[:,1], color=c)"
   ]
  },
  {
   "cell_type": "code",
   "execution_count": 74,
   "metadata": {
    "ExecuteTime": {
     "end_time": "2020-02-10T07:02:49.845601Z",
     "start_time": "2020-02-10T07:02:49.840649Z"
    }
   },
   "outputs": [
    {
     "name": "stdout",
     "output_type": "stream",
     "text": [
      "[0. 0. 0. 0. 0. 0. 0. 0. 0. 0. 0. 0. 0. 0. 0. 0. 0. 0. 0. 0. 0. 0. 0. 0.\n",
      " 0. 0. 0. 0. 0. 0. 1. 1. 1. 1. 1. 1. 1. 1. 1. 1. 1. 1. 1. 1. 1. 1. 1. 1.\n",
      " 1. 1. 1. 1. 1. 1. 1. 1. 1. 1. 1. 1.]\n",
      "['red', 'red', 'red', 'red', 'red', 'red', 'red', 'red', 'red', 'red', 'red', 'red', 'red', 'red', 'red', 'red', 'red', 'red', 'red', 'red', 'red', 'red', 'red', 'red', 'red', 'red', 'red', 'red', 'red', 'red', 'blue', 'blue', 'blue', 'blue', 'blue', 'blue', 'blue', 'blue', 'blue', 'blue', 'blue', 'blue', 'blue', 'blue', 'blue', 'blue', 'blue', 'blue', 'blue', 'blue', 'blue', 'blue', 'blue', 'blue', 'blue', 'blue', 'blue', 'blue', 'blue', 'blue']\n"
     ]
    }
   ],
   "source": []
  },
  {
   "cell_type": "code",
   "execution_count": 75,
   "metadata": {
    "ExecuteTime": {
     "end_time": "2020-02-10T07:03:02.514264Z",
     "start_time": "2020-02-10T07:03:02.409250Z"
    }
   },
   "outputs": [
    {
     "data": {
      "text/plain": [
       "<matplotlib.collections.PathCollection at 0x254c7fe2e48>"
      ]
     },
     "execution_count": 75,
     "metadata": {},
     "output_type": "execute_result"
    },
    {
     "data": {
      "image/png": "[encoded data removed]",
      "text/plain": [
       "<Figure size 432x288 with 1 Axes>"
      ]
     },
     "metadata": {
      "needs_background": "light"
     },
     "output_type": "display_data"
    }
   ],
   "source": []
  }
 ],
 "metadata": {
  "kernelspec": {
   "display_name": "Python 3",
   "language": "python",
   "name": "python3"
  },
  "language_info": {
   "codemirror_mode": {
    "name": "ipython",
    "version": 3
   },
   "file_extension": ".py",
   "mimetype": "text/x-python",
   "name": "python",
   "nbconvert_exporter": "python",
   "pygments_lexer": "ipython3",
   "version": "3.7.4"
  },
  "varInspector": {
   "cols": {
    "lenName": 16,
    "lenType": 16,
    "lenVar": 40
   },
   "kernels_config": {
    "python": {
     "delete_cmd_postfix": "",
     "delete_cmd_prefix": "del ",
     "library": "var_list.py",
     "varRefreshCmd": "print(var_dic_list())"
    },
    "r": {
     "delete_cmd_postfix": ") ",
     "delete_cmd_prefix": "rm(",
     "library": "var_list.r",
     "varRefreshCmd": "cat(var_dic_list()) "
    }
   },
   "types_to_exclude": [
    "module",
    "function",
    "builtin_function_or_method",
    "instance",
    "_Feature"
   ],
   "window_display": false
  }
 },
 "nbformat": 4,
 "nbformat_minor": 2
}
