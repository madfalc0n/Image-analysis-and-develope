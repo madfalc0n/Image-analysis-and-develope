{
 "cells": [
  {
   "cell_type": "markdown",
   "metadata": {},
   "source": [
    "# Post 레코드 생성"
   ]
  },
  {
   "cell_type": "code",
   "execution_count": 5,
   "metadata": {
    "ExecuteTime": {
     "end_time": "2020-02-18T01:23:36.140197Z",
     "start_time": "2020-02-18T01:23:36.137264Z"
    }
   },
   "outputs": [],
   "source": [
    "from blog.models import Post\n",
    "from django.contrib.auth.models import User"
   ]
  },
  {
   "cell_type": "code",
   "execution_count": 2,
   "metadata": {
    "ExecuteTime": {
     "end_time": "2020-02-18T01:18:05.276005Z",
     "start_time": "2020-02-18T01:18:05.274004Z"
    }
   },
   "outputs": [],
   "source": [
    "p = Post(title=\"오늘 점심 메뉴\", text=\"머지?\")"
   ]
  },
  {
   "cell_type": "code",
   "execution_count": 11,
   "metadata": {
    "ExecuteTime": {
     "end_time": "2020-02-18T01:28:20.324523Z",
     "start_time": "2020-02-18T01:28:20.312524Z"
    }
   },
   "outputs": [
    {
     "name": "stdout",
     "output_type": "stream",
     "text": [
      "lee\n"
     ]
    }
   ],
   "source": [
    "u = User.objects.all().get(username='lee')\n",
    "print(u)\n",
    "p = Post(title=\"오늘 점심 메뉴\", text=\"머지?\", author=u)\n",
    "p.save()"
   ]
  },
  {
   "cell_type": "code",
   "execution_count": 12,
   "metadata": {
    "ExecuteTime": {
     "end_time": "2020-02-18T01:31:41.395208Z",
     "start_time": "2020-02-18T01:31:41.384135Z"
    }
   },
   "outputs": [],
   "source": [
    "p.title = \"오늘 점심 메뉴~~~\"\n",
    "p.publish()"
   ]
  },
  {
   "cell_type": "code",
   "execution_count": 13,
   "metadata": {
    "ExecuteTime": {
     "end_time": "2020-02-18T01:33:02.203016Z",
     "start_time": "2020-02-18T01:33:02.199064Z"
    }
   },
   "outputs": [
    {
     "name": "stdout",
     "output_type": "stream",
     "text": [
      "오늘 점심 메뉴~~~\n"
     ]
    }
   ],
   "source": [
    "print(p.title)"
   ]
  },
  {
   "cell_type": "code",
   "execution_count": 14,
   "metadata": {
    "ExecuteTime": {
     "end_time": "2020-02-18T01:36:13.914542Z",
     "start_time": "2020-02-18T01:36:13.902605Z"
    }
   },
   "outputs": [
    {
     "data": {
      "text/plain": [
       "<Post: 오늘 저녁 메뉴>"
      ]
     },
     "execution_count": 14,
     "metadata": {},
     "output_type": "execute_result"
    }
   ],
   "source": [
    "Post.objects.create(title=\"오늘 저녁 메뉴\", text=\"머지?\", author=u)"
   ]
  },
  {
   "cell_type": "code",
   "execution_count": 31,
   "metadata": {
    "ExecuteTime": {
     "end_time": "2020-02-18T03:01:52.165727Z",
     "start_time": "2020-02-18T03:01:52.100663Z"
    }
   },
   "outputs": [
    {
     "name": "stdout",
     "output_type": "stream",
     "text": [
      "<QuerySet []>\n"
     ]
    }
   ],
   "source": [
    "from django.contrib.auth import authenticate\n",
    "\n",
    "\n",
    "u = User.objects.filter(username='home', password=make_password('choikt1234'))\n",
    "print(u)"
   ]
  }
 ],
 "metadata": {
  "kernelspec": {
   "display_name": "Django Shell-Plus",
   "language": "python",
   "name": "django_extensions"
  },
  "language_info": {
   "codemirror_mode": {
    "name": "ipython",
    "version": 3
   },
   "file_extension": ".py",
   "mimetype": "text/x-python",
   "name": "python",
   "nbconvert_exporter": "python",
   "pygments_lexer": "ipython3",
   "version": "3.6.10"
  },
  "varInspector": {
   "cols": {
    "lenName": 16,
    "lenType": 16,
    "lenVar": 40
   },
   "kernels_config": {
    "python": {
     "delete_cmd_postfix": "",
     "delete_cmd_prefix": "del ",
     "library": "var_list.py",
     "varRefreshCmd": "print(var_dic_list())"
    },
    "r": {
     "delete_cmd_postfix": ") ",
     "delete_cmd_prefix": "rm(",
     "library": "var_list.r",
     "varRefreshCmd": "cat(var_dic_list()) "
    }
   },
   "types_to_exclude": [
    "module",
    "function",
    "builtin_function_or_method",
    "instance",
    "_Feature"
   ],
   "window_display": false
  }
 },
 "nbformat": 4,
 "nbformat_minor": 4
}
