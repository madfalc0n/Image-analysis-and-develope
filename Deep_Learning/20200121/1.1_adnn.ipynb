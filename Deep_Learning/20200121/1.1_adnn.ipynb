{
 "cells": [
  {
   "cell_type": "code",
   "execution_count": 23,
   "metadata": {
    "ExecuteTime": {
     "end_time": "2020-01-21T06:38:45.809707Z",
     "start_time": "2020-01-21T06:38:45.805037Z"
    }
   },
   "outputs": [],
   "source": [
    "import matplotlib.pyplot as plt\n",
    "from sklearn.model_selection import train_test_split\n",
    "from keras.datasets import mnist\n",
    "from keras.models import Sequential\n",
    "from keras.utils.np_utils import to_categorical\n",
    "from keras.models import Sequential\n",
    "from keras.layers import Activation, Dense\n",
    "from keras import optimizers\n",
    "from keras.layers import Dropout\n",
    "import numpy as np\n",
    "from keras.wrappers.scikit_learn import KerasClassifier\n",
    "from sklearn.ensemble import VotingClassifier\n",
    "from sklearn.metrics import accuracy_score\n",
    "from keras.layers import BatchNormalization"
   ]
  },
  {
   "cell_type": "code",
   "execution_count": 49,
   "metadata": {
    "ExecuteTime": {
     "end_time": "2020-01-21T06:41:22.717372Z",
     "start_time": "2020-01-21T06:41:22.513822Z"
    }
   },
   "outputs": [],
   "source": [
    "(X_train, y_train), (X_test, y_test) = mnist.load_data() #C:\\Users\\student\\.keras\\datasets\\ 에 데이터 있다."
   ]
  },
  {
   "cell_type": "code",
   "execution_count": 3,
   "metadata": {
    "ExecuteTime": {
     "end_time": "2020-01-21T06:16:04.459802Z",
     "start_time": "2020-01-21T06:16:04.445227Z"
    }
   },
   "outputs": [
    {
     "name": "stdout",
     "output_type": "stream",
     "text": [
      "(60000, 28, 28)\n",
      "(60000,)\n"
     ]
    }
   ],
   "source": [
    "#numpy 타입이다\n",
    "print(X_train.shape)\n",
    "print(y_train.shape)"
   ]
  },
  {
   "cell_type": "code",
   "execution_count": 4,
   "metadata": {
    "ExecuteTime": {
     "end_time": "2020-01-21T06:16:07.515084Z",
     "start_time": "2020-01-21T06:16:07.349428Z"
    }
   },
   "outputs": [
    {
     "data": {
      "image/png": "[encoded data removed]",
      "text/plain": [
       "<Figure size 432x288 with 1 Axes>"
      ]
     },
     "metadata": {
      "needs_background": "light"
     },
     "output_type": "display_data"
    },
    {
     "name": "stdout",
     "output_type": "stream",
     "text": [
      "Label:  5\n"
     ]
    }
   ],
   "source": [
    "plt.imshow(X_train[0])    # show first number in the dataset\n",
    "plt.show()\n",
    "print('Label: ', y_train[0])"
   ]
  },
  {
   "cell_type": "code",
   "execution_count": 5,
   "metadata": {
    "ExecuteTime": {
     "end_time": "2020-01-21T06:16:08.008056Z",
     "start_time": "2020-01-21T06:16:07.916986Z"
    }
   },
   "outputs": [
    {
     "data": {
      "image/png": "[encoded data removed]",
      "text/plain": [
       "<Figure size 432x288 with 1 Axes>"
      ]
     },
     "metadata": {
      "needs_background": "light"
     },
     "output_type": "display_data"
    },
    {
     "name": "stdout",
     "output_type": "stream",
     "text": [
      "Label:  7\n"
     ]
    }
   ],
   "source": [
    "plt.imshow(X_test[0])    # show first number in the dataset\n",
    "plt.show()\n",
    "print('Label: ', y_test[0])"
   ]
  },
  {
   "cell_type": "code",
   "execution_count": 6,
   "metadata": {
    "ExecuteTime": {
     "end_time": "2020-01-21T06:16:08.257852Z",
     "start_time": "2020-01-21T06:16:08.253865Z"
    }
   },
   "outputs": [
    {
     "data": {
      "text/plain": [
       "60000"
      ]
     },
     "execution_count": 6,
     "metadata": {},
     "output_type": "execute_result"
    }
   ],
   "source": [
    "X_train.shape[0] # 갯수"
   ]
  },
  {
   "cell_type": "code",
   "execution_count": 63,
   "metadata": {
    "ExecuteTime": {
     "end_time": "2020-01-21T06:44:35.383819Z",
     "start_time": "2020-01-21T06:44:35.380884Z"
    }
   },
   "outputs": [],
   "source": [
    "# reshaping X data: (n, 28, 28) => (n, 784)\n",
    "X_train = X_train.reshape((X_train.shape[0], -1)) # -1은 나머지 영역은 한개 묶어서 하나의 차원으로 변경하라\n",
    "X_test = X_test.reshape((X_test.shape[0], -1))"
   ]
  },
  {
   "cell_type": "code",
   "execution_count": 64,
   "metadata": {
    "ExecuteTime": {
     "end_time": "2020-01-21T06:44:37.184858Z",
     "start_time": "2020-01-21T06:44:37.132401Z"
    }
   },
   "outputs": [],
   "source": [
    "# use only 33% of training data to expedite the training process\n",
    "#한번 돌때마다 랜덤으로 바뀜 \n",
    "# 전체 데이터중 33퍼만 트레인으로 쓰겠다.\n",
    "X_train, _ , y_train, _ = train_test_split(X_train, y_train, test_size = 0.67, random_state = 7) "
   ]
  },
  {
   "cell_type": "code",
   "execution_count": 9,
   "metadata": {
    "ExecuteTime": {
     "end_time": "2020-01-21T06:16:08.720219Z",
     "start_time": "2020-01-21T06:16:08.716193Z"
    }
   },
   "outputs": [
    {
     "name": "stdout",
     "output_type": "stream",
     "text": [
      "(19800, 784)\n",
      "[6 9 2 ... 5 5 3]\n"
     ]
    }
   ],
   "source": [
    "print(X_train.shape)\n",
    "print(y_train)"
   ]
  },
  {
   "cell_type": "code",
   "execution_count": 65,
   "metadata": {
    "ExecuteTime": {
     "end_time": "2020-01-21T06:44:40.557710Z",
     "start_time": "2020-01-21T06:44:40.553721Z"
    }
   },
   "outputs": [],
   "source": [
    "# 원핫 인코딩 사용, 1 -> 0,0,1    2 -> 0,1,0   3 -> 1,0,0\n",
    "# converting y data into categorical (one-hot encoding)\n",
    "y_train = to_categorical(y_train)\n",
    "y_test = to_categorical(y_test)"
   ]
  },
  {
   "cell_type": "code",
   "execution_count": 11,
   "metadata": {
    "ExecuteTime": {
     "end_time": "2020-01-21T06:16:08.985523Z",
     "start_time": "2020-01-21T06:16:08.980537Z"
    }
   },
   "outputs": [
    {
     "name": "stdout",
     "output_type": "stream",
     "text": [
      "(19800, 784) (10000, 784) (19800, 10) (10000, 10)\n"
     ]
    }
   ],
   "source": [
    "print(X_train.shape, X_test.shape, y_train.shape, y_test.shape)"
   ]
  },
  {
   "cell_type": "markdown",
   "metadata": {},
   "source": [
    "##  Basic MLP model"
   ]
  },
  {
   "cell_type": "code",
   "execution_count": 12,
   "metadata": {
    "ExecuteTime": {
     "end_time": "2020-01-21T06:16:09.258905Z",
     "start_time": "2020-01-21T06:16:09.253897Z"
    }
   },
   "outputs": [],
   "source": [
    "model = Sequential()"
   ]
  },
  {
   "cell_type": "code",
   "execution_count": 13,
   "metadata": {
    "ExecuteTime": {
     "end_time": "2020-01-21T06:16:09.425072Z",
     "start_time": "2020-01-21T06:16:09.380010Z"
    }
   },
   "outputs": [],
   "source": [
    "model.add(Dense(50, input_shape = (784, )))\n",
    "model.add(Activation('sigmoid')) #Input\n",
    "model.add(Dense(50))\n",
    "model.add(Activation('sigmoid'))\n",
    "model.add(Dense(50))\n",
    "model.add(Activation('sigmoid'))\n",
    "model.add(Dense(50))\n",
    "model.add(Activation('sigmoid'))\n",
    "model.add(Dense(10))\n",
    "model.add(Activation('softmax')) #output, #소프트 맥스는 확률로 나온다"
   ]
  },
  {
   "cell_type": "code",
   "execution_count": 14,
   "metadata": {
    "ExecuteTime": {
     "end_time": "2020-01-21T06:16:09.537376Z",
     "start_time": "2020-01-21T06:16:09.508454Z"
    }
   },
   "outputs": [],
   "source": [
    "sgd = optimizers.SGD(lr = 0.001) #Adam하면 금방 올라감\n",
    "model.compile(optimizer = sgd, loss = 'categorical_crossentropy', metrics = ['accuracy'])"
   ]
  },
  {
   "cell_type": "code",
   "execution_count": 15,
   "metadata": {
    "ExecuteTime": {
     "end_time": "2020-01-21T06:16:37.007732Z",
     "start_time": "2020-01-21T06:16:09.645126Z"
    }
   },
   "outputs": [],
   "source": [
    "history = model.fit(X_train, y_train, batch_size = 256, validation_split = 0.3, epochs = 200, verbose = 0)\n",
    "#validation_split은 또다시 train 셋을 나눔 , 0.3이면 70퍼만 쓰겠다는 내용"
   ]
  },
  {
   "cell_type": "code",
   "execution_count": 16,
   "metadata": {
    "ExecuteTime": {
     "end_time": "2020-01-21T06:16:37.128997Z",
     "start_time": "2020-01-21T06:16:37.026218Z"
    }
   },
   "outputs": [
    {
     "data": {
      "image/png": "[encoded data removed]",
      "text/plain": [
       "<Figure size 432x288 with 1 Axes>"
      ]
     },
     "metadata": {
      "needs_background": "light"
     },
     "output_type": "display_data"
    }
   ],
   "source": [
    "plt.plot(history.history['accuracy'])\n",
    "plt.plot(history.history['val_accuracy'])\n",
    "plt.legend(['training', 'validation'], loc = 'upper left')\n",
    "plt.show()"
   ]
  },
  {
   "cell_type": "code",
   "execution_count": 17,
   "metadata": {
    "ExecuteTime": {
     "end_time": "2020-01-21T06:16:37.339529Z",
     "start_time": "2020-01-21T06:16:37.148016Z"
    }
   },
   "outputs": [
    {
     "name": "stdout",
     "output_type": "stream",
     "text": [
      "10000/10000 [==============================] - 0s 18us/step\n",
      "Test accuracy:  0.11349999904632568\n"
     ]
    }
   ],
   "source": [
    "results = model.evaluate(X_test, y_test)\n",
    "print('Test accuracy: ', results[1])"
   ]
  },
  {
   "cell_type": "markdown",
   "metadata": {},
   "source": [
    "## 1. Weight Initialization\n",
    "\n",
    " "
   ]
  },
  {
   "cell_type": "markdown",
   "metadata": {},
   "source": [
    "- Xavier\n",
    "- Uniform distribution : sqrt( 6 / (fan_in + fan_out))\n",
    "- Normal distribution  : N(0, sqrt(2. / (fan_in + fan_out)))\n",
    "\n",
    "- HE\n",
    "- Uniform distribution : limit is sqrt( 6 / fan_in)\n",
    "- Normal distribution : N(0, sqrt(2 / fan_in))"
   ]
  },
  {
   "cell_type": "code",
   "execution_count": 18,
   "metadata": {
    "ExecuteTime": {
     "end_time": "2020-01-21T06:16:37.361732Z",
     "start_time": "2020-01-21T06:16:37.356801Z"
    }
   },
   "outputs": [],
   "source": [
    "# from now on, create a function to generate (return) models\n",
    "def mlp_model():\n",
    "    model = Sequential()\n",
    "    \n",
    "    model.add(Dense(50, input_shape = (784, ), kernel_initializer='he_normal'))     # use he_normal initializer\n",
    "    model.add(Activation('sigmoid'))    \n",
    "    model.add(Dense(50, kernel_initializer='he_normal'))                            # use he_normal initializer\n",
    "    model.add(Activation('sigmoid'))    \n",
    "    model.add(Dense(50, kernel_initializer='he_normal'))                            # use he_normal initializer\n",
    "    model.add(Activation('sigmoid'))    \n",
    "    model.add(Dense(50, kernel_initializer='he_normal'))                            # use he_normal initializer\n",
    "    model.add(Activation('sigmoid'))    \n",
    "    model.add(Dense(10, kernel_initializer='he_normal'))                            # use he_normal initializer\n",
    "    model.add(Activation('softmax'))\n",
    "    \n",
    "    sgd = optimizers.SGD(lr = 0.001)\n",
    "    model.compile(optimizer = sgd, loss = 'categorical_crossentropy', metrics = ['accuracy'])\n",
    "    \n",
    "    return model"
   ]
  },
  {
   "cell_type": "code",
   "execution_count": 19,
   "metadata": {
    "ExecuteTime": {
     "end_time": "2020-01-21T06:17:36.500794Z",
     "start_time": "2020-01-21T06:16:37.378773Z"
    }
   },
   "outputs": [],
   "source": [
    "model = mlp_model()\n",
    "history = model.fit(X_train, y_train, validation_split = 0.3, epochs = 100, verbose = 0)"
   ]
  },
  {
   "cell_type": "code",
   "execution_count": 20,
   "metadata": {
    "ExecuteTime": {
     "end_time": "2020-01-21T06:17:36.623758Z",
     "start_time": "2020-01-21T06:17:36.519038Z"
    }
   },
   "outputs": [
    {
     "data": {
      "image/png": "[encoded data removed]",
      "text/plain": [
       "<Figure size 432x288 with 1 Axes>"
      ]
     },
     "metadata": {
      "needs_background": "light"
     },
     "output_type": "display_data"
    }
   ],
   "source": [
    "plt.plot(history.history['accuracy'])\n",
    "plt.plot(history.history['val_accuracy'])\n",
    "plt.legend(['training', 'validation'], loc = 'upper left')\n",
    "plt.show()"
   ]
  },
  {
   "cell_type": "code",
   "execution_count": 21,
   "metadata": {
    "ExecuteTime": {
     "end_time": "2020-01-21T06:17:36.832731Z",
     "start_time": "2020-01-21T06:17:36.642709Z"
    }
   },
   "outputs": [
    {
     "name": "stdout",
     "output_type": "stream",
     "text": [
      "10000/10000 [==============================] - 0s 19us/step\n",
      "Test accuracy:  0.4803999960422516\n"
     ]
    }
   ],
   "source": [
    "results = model.evaluate(X_test, y_test)\n",
    "print('Test accuracy: ', results[1])"
   ]
  },
  {
   "cell_type": "markdown",
   "metadata": {},
   "source": [
    "## 2. Nonlinearity (Activation function)"
   ]
  },
  {
   "cell_type": "code",
   "execution_count": 22,
   "metadata": {
    "ExecuteTime": {
     "end_time": "2020-01-21T06:17:36.853690Z",
     "start_time": "2020-01-21T06:17:36.848664Z"
    }
   },
   "outputs": [],
   "source": [
    "def mlp_model():\n",
    "    model = Sequential()\n",
    "    \n",
    "    model.add(Dense(50, input_shape = (784, )))\n",
    "    model.add(Activation('relu'))    # use relu\n",
    "    model.add(Dense(50))\n",
    "    model.add(Activation('relu'))    # use relu\n",
    "    model.add(Dense(50))\n",
    "    model.add(Activation('relu'))    # use relu\n",
    "    model.add(Dense(50))\n",
    "    model.add(Activation('relu'))    # use relu\n",
    "    model.add(Dense(10))\n",
    "    model.add(Activation('softmax'))\n",
    "    \n",
    "    sgd = optimizers.SGD(lr = 0.001)\n",
    "    model.compile(optimizer = sgd, loss = 'categorical_crossentropy', metrics = ['accuracy'])\n",
    "    \n",
    "    return model"
   ]
  },
  {
   "cell_type": "code",
   "execution_count": 23,
   "metadata": {
    "ExecuteTime": {
     "end_time": "2020-01-21T06:18:35.697274Z",
     "start_time": "2020-01-21T06:17:36.868611Z"
    }
   },
   "outputs": [],
   "source": [
    "model = mlp_model()\n",
    "history = model.fit(X_train, y_train, validation_split = 0.3, epochs = 100, verbose = 0)"
   ]
  },
  {
   "cell_type": "code",
   "execution_count": 24,
   "metadata": {
    "ExecuteTime": {
     "end_time": "2020-01-21T06:18:35.820585Z",
     "start_time": "2020-01-21T06:18:35.715661Z"
    }
   },
   "outputs": [
    {
     "data": {
      "image/png": "[encoded data removed]",
      "text/plain": [
       "<Figure size 432x288 with 1 Axes>"
      ]
     },
     "metadata": {
      "needs_background": "light"
     },
     "output_type": "display_data"
    }
   ],
   "source": [
    "plt.plot(history.history['accuracy'])\n",
    "plt.plot(history.history['val_accuracy'])\n",
    "plt.legend(['training', 'validation'], loc = 'upper left')\n",
    "plt.show()"
   ]
  },
  {
   "cell_type": "code",
   "execution_count": 25,
   "metadata": {
    "ExecuteTime": {
     "end_time": "2020-01-21T06:18:36.012735Z",
     "start_time": "2020-01-21T06:18:35.837586Z"
    }
   },
   "outputs": [
    {
     "name": "stdout",
     "output_type": "stream",
     "text": [
      "10000/10000 [==============================] - 0s 17us/step\n",
      "Test lost:  0.43208359052784506\n",
      "Test accuracy:  0.9280999898910522\n"
     ]
    }
   ],
   "source": [
    "results = model.evaluate(X_test, y_test)\n",
    "print('Test lost: ', results[0]) #loss 값\n",
    "print('Test accuracy: ', results[1]) #accuracy 값"
   ]
  },
  {
   "cell_type": "markdown",
   "metadata": {},
   "source": [
    "## 3. Optimizers"
   ]
  },
  {
   "cell_type": "code",
   "execution_count": 26,
   "metadata": {
    "ExecuteTime": {
     "end_time": "2020-01-21T06:18:36.033951Z",
     "start_time": "2020-01-21T06:18:36.028964Z"
    }
   },
   "outputs": [],
   "source": [
    "def mlp_model():\n",
    "    model = Sequential()\n",
    "    \n",
    "    model.add(Dense(50, input_shape = (784, )))\n",
    "    model.add(Activation('sigmoid'))    \n",
    "    model.add(Dense(50))\n",
    "    model.add(Activation('sigmoid'))  \n",
    "    model.add(Dense(50))\n",
    "    model.add(Activation('sigmoid'))    \n",
    "    model.add(Dense(50))\n",
    "    model.add(Activation('sigmoid'))    \n",
    "    model.add(Dense(10))\n",
    "    model.add(Activation('softmax'))\n",
    "    \n",
    "    adam = optimizers.Adam(lr = 0.001)                     # use Adam optimizer\n",
    "    model.compile(optimizer = adam, loss = 'categorical_crossentropy', metrics = ['accuracy'])\n",
    "    \n",
    "    return model"
   ]
  },
  {
   "cell_type": "code",
   "execution_count": 27,
   "metadata": {
    "ExecuteTime": {
     "end_time": "2020-01-21T06:19:40.955074Z",
     "start_time": "2020-01-21T06:18:36.051903Z"
    }
   },
   "outputs": [],
   "source": [
    "model = mlp_model()\n",
    "history = model.fit(X_train, y_train, validation_split = 0.3, epochs = 100, verbose = 0)"
   ]
  },
  {
   "cell_type": "code",
   "execution_count": 28,
   "metadata": {
    "ExecuteTime": {
     "end_time": "2020-01-21T06:19:41.076071Z",
     "start_time": "2020-01-21T06:19:40.972349Z"
    }
   },
   "outputs": [
    {
     "data": {
      "image/png": "[encoded data removed]",
      "text/plain": [
       "<Figure size 432x288 with 1 Axes>"
      ]
     },
     "metadata": {
      "needs_background": "light"
     },
     "output_type": "display_data"
    }
   ],
   "source": [
    "plt.plot(history.history['accuracy'])\n",
    "plt.plot(history.history['val_accuracy'])\n",
    "plt.legend(['training', 'validation'], loc = 'upper left')\n",
    "plt.show()"
   ]
  },
  {
   "cell_type": "code",
   "execution_count": 29,
   "metadata": {
    "ExecuteTime": {
     "end_time": "2020-01-21T06:19:41.267826Z",
     "start_time": "2020-01-21T06:19:41.092029Z"
    }
   },
   "outputs": [
    {
     "name": "stdout",
     "output_type": "stream",
     "text": [
      "10000/10000 [==============================] - 0s 17us/step\n",
      "Test accuracy:  0.9207000136375427\n"
     ]
    }
   ],
   "source": [
    "results = model.evaluate(X_test, y_test)\n",
    "print('Test accuracy: ', results[1])"
   ]
  },
  {
   "cell_type": "markdown",
   "metadata": {},
   "source": [
    "##  4. Batch Normalization"
   ]
  },
  {
   "cell_type": "code",
   "execution_count": 30,
   "metadata": {
    "ExecuteTime": {
     "end_time": "2020-01-21T06:19:41.291864Z",
     "start_time": "2020-01-21T06:19:41.285702Z"
    }
   },
   "outputs": [],
   "source": [
    "def mlp_model():\n",
    "    model = Sequential()\n",
    "    \n",
    "    model.add(Dense(50, input_shape = (784, )))\n",
    "    model.add(BatchNormalization())       \n",
    "    model.add(Activation('sigmoid'))    \n",
    "    model.add(Dense(50))\n",
    "    model.add(BatchNormalization())       \n",
    "    model.add(Activation('sigmoid'))    \n",
    "    model.add(Dense(50))\n",
    "    model.add(BatchNormalization())       \n",
    "    model.add(Activation('sigmoid'))    \n",
    "    model.add(Dense(50))\n",
    "    model.add(BatchNormalization())       \n",
    "    model.add(Activation('sigmoid'))    \n",
    "    model.add(Dense(10))\n",
    "    model.add(Activation('softmax'))\n",
    "    \n",
    "    sgd = optimizers.SGD(lr = 0.001)\n",
    "    model.compile(optimizer = sgd, loss = 'categorical_crossentropy', metrics = ['accuracy'])\n",
    "    \n",
    "    return model"
   ]
  },
  {
   "cell_type": "code",
   "execution_count": 31,
   "metadata": {
    "ExecuteTime": {
     "end_time": "2020-01-21T06:21:06.618571Z",
     "start_time": "2020-01-21T06:19:41.306645Z"
    }
   },
   "outputs": [],
   "source": [
    "model = mlp_model()\n",
    "history = model.fit(X_train, y_train, validation_split = 0.3, epochs = 100, verbose = 0)"
   ]
  },
  {
   "cell_type": "code",
   "execution_count": 32,
   "metadata": {
    "ExecuteTime": {
     "end_time": "2020-01-21T06:21:06.744265Z",
     "start_time": "2020-01-21T06:21:06.640503Z"
    }
   },
   "outputs": [
    {
     "data": {
      "image/png": "[encoded data removed]",
      "text/plain": [
       "<Figure size 432x288 with 1 Axes>"
      ]
     },
     "metadata": {
      "needs_background": "light"
     },
     "output_type": "display_data"
    }
   ],
   "source": [
    "plt.plot(history.history['accuracy'])\n",
    "plt.plot(history.history['val_accuracy'])\n",
    "plt.legend(['training', 'validation'], loc = 'upper left')\n",
    "plt.show()"
   ]
  },
  {
   "cell_type": "code",
   "execution_count": 33,
   "metadata": {
    "ExecuteTime": {
     "end_time": "2020-01-21T06:21:06.977753Z",
     "start_time": "2020-01-21T06:21:06.761181Z"
    }
   },
   "outputs": [
    {
     "name": "stdout",
     "output_type": "stream",
     "text": [
      "10000/10000 [==============================] - 0s 21us/step\n",
      "Test accuracy:  0.9125999808311462\n"
     ]
    }
   ],
   "source": [
    "results = model.evaluate(X_test, y_test)\n",
    "print('Test accuracy: ', results[1])"
   ]
  },
  {
   "cell_type": "markdown",
   "metadata": {
    "ExecuteTime": {
     "end_time": "2020-01-21T04:35:05.492133Z",
     "start_time": "2020-01-21T04:35:05.489181Z"
    }
   },
   "source": [
    "## 5. Dropout (Regularization)"
   ]
  },
  {
   "cell_type": "code",
   "execution_count": 34,
   "metadata": {
    "ExecuteTime": {
     "end_time": "2020-01-21T06:21:07.001915Z",
     "start_time": "2020-01-21T06:21:06.995982Z"
    }
   },
   "outputs": [],
   "source": [
    "def mlp_model():\n",
    "    model = Sequential()\n",
    "    \n",
    "    model.add(Dense(50, input_shape = (784, )))\n",
    "    model.add(Activation('sigmoid'))    \n",
    "    model.add(Dropout(0.5))                        # Dropout layer after Activation\n",
    "    model.add(Dense(50))\n",
    "    model.add(Activation('sigmoid'))\n",
    "    model.add(Dropout(0.5))                        # Dropout layer after Activation\n",
    "    model.add(Dense(50))\n",
    "    model.add(Activation('sigmoid'))    \n",
    "    model.add(Dropout(0.5))                        # Dropout layer after Activation\n",
    "    model.add(Dense(50))\n",
    "    model.add(Activation('sigmoid'))    \n",
    "    model.add(Dropout(0.5))                         # Dropout layer after Activation\n",
    "    model.add(Dense(10))\n",
    "    model.add(Activation('softmax'))\n",
    "    \n",
    "    sgd = optimizers.SGD(lr = 0.001)\n",
    "    model.compile(optimizer = sgd, loss = 'categorical_crossentropy', metrics = ['accuracy'])\n",
    "    \n",
    "    return model"
   ]
  },
  {
   "cell_type": "code",
   "execution_count": 35,
   "metadata": {
    "ExecuteTime": {
     "end_time": "2020-01-21T06:22:22.849834Z",
     "start_time": "2020-01-21T06:21:07.019868Z"
    }
   },
   "outputs": [],
   "source": [
    "model = mlp_model()\n",
    "history = model.fit(X_train, y_train, validation_split = 0.3, epochs = 100, verbose = 0)"
   ]
  },
  {
   "cell_type": "code",
   "execution_count": 36,
   "metadata": {
    "ExecuteTime": {
     "end_time": "2020-01-21T06:22:22.988748Z",
     "start_time": "2020-01-21T06:22:22.867141Z"
    }
   },
   "outputs": [
    {
     "data": {
      "image/png": "[encoded data removed]",
      "text/plain": [
       "<Figure size 432x288 with 1 Axes>"
      ]
     },
     "metadata": {
      "needs_background": "light"
     },
     "output_type": "display_data"
    }
   ],
   "source": [
    "plt.plot(history.history['accuracy'])\n",
    "plt.plot(history.history['val_accuracy'])\n",
    "plt.legend(['training', 'validation'], loc = 'upper left')\n",
    "plt.show()\n",
    "#train이 요동치는 이유는 가중치가 0을 만들어버리기 때문"
   ]
  },
  {
   "cell_type": "code",
   "execution_count": 37,
   "metadata": {
    "ExecuteTime": {
     "end_time": "2020-01-21T06:22:23.148325Z",
     "start_time": "2020-01-21T06:22:23.006765Z"
    }
   },
   "outputs": [
    {
     "name": "stdout",
     "output_type": "stream",
     "text": [
      "10000/10000 [==============================] - 0s 14us/step\n",
      "Test accuracy:  0.11349999904632568\n"
     ]
    }
   ],
   "source": [
    "results = model.evaluate(X_test, y_test)\n",
    "print('Test accuracy: ', results[1])"
   ]
  },
  {
   "cell_type": "markdown",
   "metadata": {},
   "source": [
    "## 6. Model Ensemble"
   ]
  },
  {
   "cell_type": "code",
   "execution_count": 28,
   "metadata": {
    "ExecuteTime": {
     "end_time": "2020-01-21T06:39:09.325798Z",
     "start_time": "2020-01-21T06:39:09.322799Z"
    }
   },
   "outputs": [],
   "source": [
    "import tensorflow as tf\n",
    "import keras\n",
    "import sklearn"
   ]
  },
  {
   "cell_type": "code",
   "execution_count": 66,
   "metadata": {
    "ExecuteTime": {
     "end_time": "2020-01-21T06:44:46.445426Z",
     "start_time": "2020-01-21T06:44:46.441495Z"
    }
   },
   "outputs": [
    {
     "name": "stdout",
     "output_type": "stream",
     "text": [
      "2.1.0\n",
      "2.3.1\n",
      "0.21.3\n"
     ]
    }
   ],
   "source": [
    "print(tf.__version__)\n",
    "print(keras.__version__)\n",
    "print(sklearn.__version__)"
   ]
  },
  {
   "cell_type": "code",
   "execution_count": 67,
   "metadata": {
    "ExecuteTime": {
     "end_time": "2020-01-21T06:44:46.974882Z",
     "start_time": "2020-01-21T06:44:46.969921Z"
    },
    "scrolled": true
   },
   "outputs": [],
   "source": [
    "y_train = np.argmax(y_train, axis = 1)\n",
    "y_test = np.argmax(y_test, axis = 1)"
   ]
  },
  {
   "cell_type": "code",
   "execution_count": 68,
   "metadata": {
    "ExecuteTime": {
     "end_time": "2020-01-21T06:44:47.726593Z",
     "start_time": "2020-01-21T06:44:47.721599Z"
    }
   },
   "outputs": [
    {
     "name": "stdout",
     "output_type": "stream",
     "text": [
      "[6 9 2 ... 5 5 3]\n",
      "[7 2 1 ... 4 5 6]\n"
     ]
    }
   ],
   "source": [
    "print(y_train)\n",
    "print(y_test)"
   ]
  },
  {
   "cell_type": "code",
   "execution_count": 69,
   "metadata": {
    "ExecuteTime": {
     "end_time": "2020-01-21T06:44:48.929481Z",
     "start_time": "2020-01-21T06:44:48.923099Z"
    }
   },
   "outputs": [],
   "source": [
    "def mlp_model():\n",
    "    model = Sequential()\n",
    "    \n",
    "    model.add(Dense(50, input_shape = (784, )))\n",
    "    model.add(Activation('sigmoid'))    \n",
    "    model.add(Dense(50))\n",
    "    model.add(Activation('sigmoid'))    \n",
    "    model.add(Dense(50))\n",
    "    model.add(Activation('sigmoid'))    \n",
    "    model.add(Dense(50))\n",
    "    model.add(Activation('sigmoid'))    \n",
    "    model.add(Dense(10))\n",
    "    model.add(Activation('softmax'))\n",
    "    \n",
    "    sgd = optimizers.SGD(lr = 0.001)\n",
    "    model.compile(optimizer = sgd, loss = 'categorical_crossentropy', metrics = ['accuracy'])\n",
    "    \n",
    "    return model"
   ]
  },
  {
   "cell_type": "code",
   "execution_count": 70,
   "metadata": {
    "ExecuteTime": {
     "end_time": "2020-01-21T06:44:49.525614Z",
     "start_time": "2020-01-21T06:44:49.522595Z"
    }
   },
   "outputs": [],
   "source": [
    "model1 = KerasClassifier(build_fn = mlp_model, epochs = 100, verbose = 1)\n",
    "model2 = KerasClassifier(build_fn = mlp_model, epochs = 100, verbose = 1)\n",
    "model3 = KerasClassifier(build_fn = mlp_model, epochs = 100, verbose = 1)"
   ]
  },
  {
   "cell_type": "code",
   "execution_count": 71,
   "metadata": {
    "ExecuteTime": {
     "end_time": "2020-01-21T06:44:49.789663Z",
     "start_time": "2020-01-21T06:44:49.785675Z"
    }
   },
   "outputs": [],
   "source": [
    "ensemble_clf = VotingClassifier(estimators = [('model1', model1), ('model2', model2), ('model3', model3)], voting = 'soft')"
   ]
  },
  {
   "cell_type": "code",
   "execution_count": 72,
   "metadata": {
    "ExecuteTime": {
     "end_time": "2020-01-21T06:48:10.395970Z",
     "start_time": "2020-01-21T06:44:50.395333Z"
    }
   },
   "outputs": [
    {
     "name": "stdout",
     "output_type": "stream",
     "text": [
      "Epoch 1/100\n",
      "19800/19800 [==============================] - 1s 36us/step - loss: 2.4253 - accuracy: 0.0983\n",
      "Epoch 2/100\n",
      "19800/19800 [==============================] - 1s 32us/step - loss: 2.3292 - accuracy: 0.1021\n",
      "Epoch 3/100\n",
      "19800/19800 [==============================] - 1s 33us/step - loss: 2.3071 - accuracy: 0.1140\n",
      "Epoch 4/100\n",
      "19800/19800 [==============================] - 1s 32us/step - loss: 2.3015 - accuracy: 0.1135\n",
      "Epoch 5/100\n",
      "19800/19800 [==============================] - 1s 33us/step - loss: 2.3000 - accuracy: 0.1135\n",
      "Epoch 6/100\n",
      "19800/19800 [==============================] - 1s 32us/step - loss: 2.2993 - accuracy: 0.1135\n",
      "Epoch 7/100\n",
      "19800/19800 [==============================] - 1s 34us/step - loss: 2.2988 - accuracy: 0.1135\n",
      "Epoch 8/100\n",
      "19800/19800 [==============================] - 1s 33us/step - loss: 2.2984 - accuracy: 0.1135\n",
      "Epoch 9/100\n",
      "19800/19800 [==============================] - 1s 34us/step - loss: 2.2980 - accuracy: 0.1135\n",
      "Epoch 10/100\n",
      "19800/19800 [==============================] - 1s 33us/step - loss: 2.2976 - accuracy: 0.1135\n",
      "Epoch 11/100\n",
      "19800/19800 [==============================] - 1s 33us/step - loss: 2.2972 - accuracy: 0.1135\n",
      "Epoch 12/100\n",
      "19800/19800 [==============================] - 1s 33us/step - loss: 2.2967 - accuracy: 0.1135\n",
      "Epoch 13/100\n",
      "19800/19800 [==============================] - 1s 32us/step - loss: 2.2963 - accuracy: 0.1135\n",
      "Epoch 14/100\n",
      "19800/19800 [==============================] - 1s 33us/step - loss: 2.2959 - accuracy: 0.1135\n",
      "Epoch 15/100\n",
      "19800/19800 [==============================] - 1s 32us/step - loss: 2.2955 - accuracy: 0.1135\n",
      "Epoch 16/100\n",
      "19800/19800 [==============================] - 1s 33us/step - loss: 2.2950 - accuracy: 0.1135\n",
      "Epoch 17/100\n",
      "19800/19800 [==============================] - 1s 33us/step - loss: 2.2946 - accuracy: 0.1135\n",
      "Epoch 18/100\n",
      "19800/19800 [==============================] - 1s 33us/step - loss: 2.2942 - accuracy: 0.1135\n",
      "Epoch 19/100\n",
      "19800/19800 [==============================] - 1s 33us/step - loss: 2.2937 - accuracy: 0.1135\n",
      "Epoch 20/100\n",
      "19800/19800 [==============================] - 1s 33us/step - loss: 2.2933 - accuracy: 0.1135\n",
      "Epoch 21/100\n",
      "19800/19800 [==============================] - 1s 33us/step - loss: 2.2928 - accuracy: 0.1135\n",
      "Epoch 22/100\n",
      "19800/19800 [==============================] - 1s 33us/step - loss: 2.2924 - accuracy: 0.1135\n",
      "Epoch 23/100\n",
      "19800/19800 [==============================] - 1s 33us/step - loss: 2.2919 - accuracy: 0.1135\n",
      "Epoch 24/100\n",
      "19800/19800 [==============================] - 1s 32us/step - loss: 2.2914 - accuracy: 0.1135\n",
      "Epoch 25/100\n",
      "19800/19800 [==============================] - 1s 32us/step - loss: 2.2910 - accuracy: 0.1135\n",
      "Epoch 26/100\n",
      "19800/19800 [==============================] - 1s 33us/step - loss: 2.2905 - accuracy: 0.1135\n",
      "Epoch 27/100\n",
      "19800/19800 [==============================] - 1s 33us/step - loss: 2.2900 - accuracy: 0.1135 0s - loss: 2.2\n",
      "Epoch 28/100\n",
      "19800/19800 [==============================] - 1s 33us/step - loss: 2.2896 - accuracy: 0.1135\n",
      "Epoch 29/100\n",
      "19800/19800 [==============================] - 1s 34us/step - loss: 2.2891 - accuracy: 0.1136\n",
      "Epoch 30/100\n",
      "19800/19800 [==============================] - 1s 33us/step - loss: 2.2886 - accuracy: 0.1135\n",
      "Epoch 31/100\n",
      "19800/19800 [==============================] - 1s 33us/step - loss: 2.2880 - accuracy: 0.1135\n",
      "Epoch 32/100\n",
      "19800/19800 [==============================] - 1s 33us/step - loss: 2.2875 - accuracy: 0.1135 0s - loss: 2.2873 - accu\n",
      "Epoch 33/100\n",
      "19800/19800 [==============================] - 1s 33us/step - loss: 2.2869 - accuracy: 0.1137\n",
      "Epoch 34/100\n",
      "19800/19800 [==============================] - 1s 33us/step - loss: 2.2864 - accuracy: 0.1139\n",
      "Epoch 35/100\n",
      "19800/19800 [==============================] - 1s 33us/step - loss: 2.2858 - accuracy: 0.1140\n",
      "Epoch 36/100\n",
      "19800/19800 [==============================] - 1s 33us/step - loss: 2.2853 - accuracy: 0.1147\n",
      "Epoch 37/100\n",
      "19800/19800 [==============================] - 1s 33us/step - loss: 2.2847 - accuracy: 0.1140\n",
      "Epoch 38/100\n",
      "19800/19800 [==============================] - 1s 33us/step - loss: 2.2841 - accuracy: 0.1146\n",
      "Epoch 39/100\n",
      "19800/19800 [==============================] - 1s 33us/step - loss: 2.2834 - accuracy: 0.1235\n",
      "Epoch 40/100\n",
      "19800/19800 [==============================] - 1s 33us/step - loss: 2.2828 - accuracy: 0.1137\n",
      "Epoch 41/100\n",
      "19800/19800 [==============================] - 1s 33us/step - loss: 2.2822 - accuracy: 0.1163\n",
      "Epoch 42/100\n",
      "19800/19800 [==============================] - 1s 33us/step - loss: 2.2815 - accuracy: 0.1269\n",
      "Epoch 43/100\n",
      "19800/19800 [==============================] - 1s 34us/step - loss: 2.2808 - accuracy: 0.1207\n",
      "Epoch 44/100\n",
      "19800/19800 [==============================] - 1s 33us/step - loss: 2.2801 - accuracy: 0.1256\n",
      "Epoch 45/100\n",
      "19800/19800 [==============================] - 1s 33us/step - loss: 2.2793 - accuracy: 0.1275\n",
      "Epoch 46/100\n",
      "19800/19800 [==============================] - 1s 33us/step - loss: 2.2785 - accuracy: 0.1462\n",
      "Epoch 47/100\n",
      "19800/19800 [==============================] - 1s 33us/step - loss: 2.2778 - accuracy: 0.1357\n",
      "Epoch 48/100\n",
      "19800/19800 [==============================] - 1s 33us/step - loss: 2.2769 - accuracy: 0.1600\n",
      "Epoch 49/100\n",
      "19800/19800 [==============================] - 1s 33us/step - loss: 2.2761 - accuracy: 0.1345\n",
      "Epoch 50/100\n",
      "19800/19800 [==============================] - 1s 33us/step - loss: 2.2752 - accuracy: 0.1645\n",
      "Epoch 51/100\n",
      "19800/19800 [==============================] - 1s 33us/step - loss: 2.2743 - accuracy: 0.1682\n",
      "Epoch 52/100\n",
      "19800/19800 [==============================] - 1s 34us/step - loss: 2.2734 - accuracy: 0.1582\n",
      "Epoch 53/100\n",
      "19800/19800 [==============================] - 1s 33us/step - loss: 2.2724 - accuracy: 0.1681\n",
      "Epoch 54/100\n",
      "19800/19800 [==============================] - 1s 33us/step - loss: 2.2714 - accuracy: 0.1749\n",
      "Epoch 55/100\n",
      "19800/19800 [==============================] - 1s 33us/step - loss: 2.2704 - accuracy: 0.1806\n",
      "Epoch 56/100\n",
      "19800/19800 [==============================] - 1s 34us/step - loss: 2.2693 - accuracy: 0.1884\n",
      "Epoch 57/100\n",
      "19800/19800 [==============================] - 1s 34us/step - loss: 2.2683 - accuracy: 0.1871\n",
      "Epoch 58/100\n",
      "19800/19800 [==============================] - 1s 33us/step - loss: 2.2671 - accuracy: 0.1811\n",
      "Epoch 59/100\n",
      "19800/19800 [==============================] - 1s 34us/step - loss: 2.2660 - accuracy: 0.1983\n",
      "Epoch 60/100\n",
      "19800/19800 [==============================] - 1s 33us/step - loss: 2.2647 - accuracy: 0.1974\n",
      "Epoch 61/100\n",
      "19800/19800 [==============================] - 1s 33us/step - loss: 2.2635 - accuracy: 0.1960\n",
      "Epoch 62/100\n",
      "19800/19800 [==============================] - 1s 33us/step - loss: 2.2621 - accuracy: 0.2040\n",
      "Epoch 63/100\n",
      "19800/19800 [==============================] - 1s 33us/step - loss: 2.2607 - accuracy: 0.1996\n",
      "Epoch 64/100\n",
      "19800/19800 [==============================] - 1s 34us/step - loss: 2.2593 - accuracy: 0.2041\n",
      "Epoch 65/100\n",
      "19800/19800 [==============================] - 1s 35us/step - loss: 2.2577 - accuracy: 0.2060\n",
      "Epoch 66/100\n",
      "19800/19800 [==============================] - 1s 33us/step - loss: 2.2561 - accuracy: 0.2061\n",
      "Epoch 67/100\n",
      "19800/19800 [==============================] - 1s 34us/step - loss: 2.2544 - accuracy: 0.2083\n",
      "Epoch 68/100\n",
      "19800/19800 [==============================] - 1s 33us/step - loss: 2.2526 - accuracy: 0.2115\n",
      "Epoch 69/100\n",
      "19800/19800 [==============================] - 1s 33us/step - loss: 2.2508 - accuracy: 0.2110\n",
      "Epoch 70/100\n",
      "19800/19800 [==============================] - 1s 33us/step - loss: 2.2489 - accuracy: 0.2112\n",
      "Epoch 71/100\n",
      "19800/19800 [==============================] - 1s 33us/step - loss: 2.2469 - accuracy: 0.2121\n",
      "Epoch 72/100\n",
      "19800/19800 [==============================] - 1s 33us/step - loss: 2.2448 - accuracy: 0.2183\n",
      "Epoch 73/100\n",
      "19800/19800 [==============================] - 1s 33us/step - loss: 2.2426 - accuracy: 0.2149\n",
      "Epoch 74/100\n",
      "19800/19800 [==============================] - 1s 33us/step - loss: 2.2403 - accuracy: 0.2157\n",
      "Epoch 75/100\n",
      "19800/19800 [==============================] - 1s 33us/step - loss: 2.2379 - accuracy: 0.2165\n",
      "Epoch 76/100\n",
      "19800/19800 [==============================] - 1s 33us/step - loss: 2.2353 - accuracy: 0.2159\n",
      "Epoch 77/100\n"
     ]
    },
    {
     "name": "stdout",
     "output_type": "stream",
     "text": [
      "19800/19800 [==============================] - 1s 33us/step - loss: 2.2326 - accuracy: 0.2207\n",
      "Epoch 78/100\n",
      "19800/19800 [==============================] - 1s 33us/step - loss: 2.2297 - accuracy: 0.2232\n",
      "Epoch 79/100\n",
      "19800/19800 [==============================] - ETA: 0s - loss: 2.2269 - accuracy: 0.22 - 1s 33us/step - loss: 2.2267 - accuracy: 0.2255\n",
      "Epoch 80/100\n",
      "19800/19800 [==============================] - 1s 33us/step - loss: 2.2236 - accuracy: 0.2245\n",
      "Epoch 81/100\n",
      "19800/19800 [==============================] - 1s 33us/step - loss: 2.2202 - accuracy: 0.2255\n",
      "Epoch 82/100\n",
      "19800/19800 [==============================] - 1s 33us/step - loss: 2.2168 - accuracy: 0.2228\n",
      "Epoch 83/100\n",
      "19800/19800 [==============================] - 1s 33us/step - loss: 2.2131 - accuracy: 0.2249\n",
      "Epoch 84/100\n",
      "19800/19800 [==============================] - 1s 33us/step - loss: 2.2092 - accuracy: 0.2301\n",
      "Epoch 85/100\n",
      "19800/19800 [==============================] - 1s 33us/step - loss: 2.2051 - accuracy: 0.2327\n",
      "Epoch 86/100\n",
      "19800/19800 [==============================] - 1s 33us/step - loss: 2.2007 - accuracy: 0.2302\n",
      "Epoch 87/100\n",
      "19800/19800 [==============================] - 1s 33us/step - loss: 2.1962 - accuracy: 0.2336\n",
      "Epoch 88/100\n",
      "19800/19800 [==============================] - 1s 33us/step - loss: 2.1915 - accuracy: 0.2415\n",
      "Epoch 89/100\n",
      "19800/19800 [==============================] - 1s 33us/step - loss: 2.1864 - accuracy: 0.2413\n",
      "Epoch 90/100\n",
      "19800/19800 [==============================] - 1s 34us/step - loss: 2.1812 - accuracy: 0.2484\n",
      "Epoch 91/100\n",
      "19800/19800 [==============================] - 1s 33us/step - loss: 2.1756 - accuracy: 0.2417\n",
      "Epoch 92/100\n",
      "19800/19800 [==============================] - 1s 33us/step - loss: 2.1698 - accuracy: 0.2438\n",
      "Epoch 93/100\n",
      "19800/19800 [==============================] - 1s 33us/step - loss: 2.1637 - accuracy: 0.2469\n",
      "Epoch 94/100\n",
      "19800/19800 [==============================] - 1s 33us/step - loss: 2.1572 - accuracy: 0.2556\n",
      "Epoch 95/100\n",
      "19800/19800 [==============================] - 1s 33us/step - loss: 2.1505 - accuracy: 0.2498\n",
      "Epoch 96/100\n",
      "19800/19800 [==============================] - 1s 33us/step - loss: 2.1434 - accuracy: 0.2557 0s - loss: 2.143\n",
      "Epoch 97/100\n",
      "19800/19800 [==============================] - 1s 33us/step - loss: 2.1360 - accuracy: 0.2581\n",
      "Epoch 98/100\n",
      "19800/19800 [==============================] - 1s 33us/step - loss: 2.1283 - accuracy: 0.2639\n",
      "Epoch 99/100\n",
      "19800/19800 [==============================] - 1s 33us/step - loss: 2.1204 - accuracy: 0.2620\n",
      "Epoch 100/100\n",
      "19800/19800 [==============================] - 1s 33us/step - loss: 2.1122 - accuracy: 0.2638\n",
      "Epoch 1/100\n",
      "19800/19800 [==============================] - 1s 37us/step - loss: 2.4516 - accuracy: 0.0996\n",
      "Epoch 2/100\n",
      "19800/19800 [==============================] - 1s 33us/step - loss: 2.3274 - accuracy: 0.1035\n",
      "Epoch 3/100\n",
      "19800/19800 [==============================] - 1s 33us/step - loss: 2.3062 - accuracy: 0.1135\n",
      "Epoch 4/100\n",
      "19800/19800 [==============================] - 1s 33us/step - loss: 2.3019 - accuracy: 0.1135\n",
      "Epoch 5/100\n",
      "19800/19800 [==============================] - 1s 33us/step - loss: 2.3010 - accuracy: 0.1135\n",
      "Epoch 6/100\n",
      "19800/19800 [==============================] - 1s 33us/step - loss: 2.3006 - accuracy: 0.1135\n",
      "Epoch 7/100\n",
      "19800/19800 [==============================] - 1s 33us/step - loss: 2.3004 - accuracy: 0.1135\n",
      "Epoch 8/100\n",
      "19800/19800 [==============================] - ETA: 0s - loss: 2.3000 - accuracy: 0.11 - 1s 33us/step - loss: 2.3002 - accuracy: 0.1135\n",
      "Epoch 9/100\n",
      "19800/19800 [==============================] - 1s 33us/step - loss: 2.2999 - accuracy: 0.1135\n",
      "Epoch 10/100\n",
      "19800/19800 [==============================] - 1s 33us/step - loss: 2.2997 - accuracy: 0.1135\n",
      "Epoch 11/100\n",
      "19800/19800 [==============================] - 1s 33us/step - loss: 2.2995 - accuracy: 0.1135\n",
      "Epoch 12/100\n",
      "19800/19800 [==============================] - 1s 35us/step - loss: 2.2993 - accuracy: 0.1135\n",
      "Epoch 13/100\n",
      "19800/19800 [==============================] - 1s 34us/step - loss: 2.2991 - accuracy: 0.1135\n",
      "Epoch 14/100\n",
      "19800/19800 [==============================] - 1s 34us/step - loss: 2.2988 - accuracy: 0.1135\n",
      "Epoch 15/100\n",
      "19800/19800 [==============================] - 1s 34us/step - loss: 2.2986 - accuracy: 0.1135\n",
      "Epoch 16/100\n",
      "19800/19800 [==============================] - 1s 34us/step - loss: 2.2984 - accuracy: 0.1135\n",
      "Epoch 17/100\n",
      "19800/19800 [==============================] - 1s 33us/step - loss: 2.2982 - accuracy: 0.1135\n",
      "Epoch 18/100\n",
      "19800/19800 [==============================] - 1s 34us/step - loss: 2.2980 - accuracy: 0.1135\n",
      "Epoch 19/100\n",
      "19800/19800 [==============================] - 1s 34us/step - loss: 2.2979 - accuracy: 0.1135\n",
      "Epoch 20/100\n",
      "19800/19800 [==============================] - 1s 34us/step - loss: 2.2977 - accuracy: 0.1135\n",
      "Epoch 21/100\n",
      "19800/19800 [==============================] - 1s 34us/step - loss: 2.2974 - accuracy: 0.1135\n",
      "Epoch 22/100\n",
      "19800/19800 [==============================] - 1s 33us/step - loss: 2.2973 - accuracy: 0.1135\n",
      "Epoch 23/100\n",
      "19800/19800 [==============================] - 1s 34us/step - loss: 2.2970 - accuracy: 0.1135\n",
      "Epoch 24/100\n",
      "19800/19800 [==============================] - 1s 34us/step - loss: 2.2969 - accuracy: 0.1135\n",
      "Epoch 25/100\n",
      "19800/19800 [==============================] - 1s 34us/step - loss: 2.2967 - accuracy: 0.1135\n",
      "Epoch 26/100\n",
      "19800/19800 [==============================] - 1s 35us/step - loss: 2.2965 - accuracy: 0.1135\n",
      "Epoch 27/100\n",
      "19800/19800 [==============================] - 1s 34us/step - loss: 2.2963 - accuracy: 0.1135\n",
      "Epoch 28/100\n",
      "19800/19800 [==============================] - 1s 34us/step - loss: 2.2961 - accuracy: 0.1135\n",
      "Epoch 29/100\n",
      "19800/19800 [==============================] - 1s 34us/step - loss: 2.2959 - accuracy: 0.1135\n",
      "Epoch 30/100\n",
      "19800/19800 [==============================] - 1s 34us/step - loss: 2.2957 - accuracy: 0.1135\n",
      "Epoch 31/100\n",
      "19800/19800 [==============================] - 1s 33us/step - loss: 2.2955 - accuracy: 0.1135\n",
      "Epoch 32/100\n",
      "19800/19800 [==============================] - 1s 34us/step - loss: 2.2953 - accuracy: 0.1135\n",
      "Epoch 33/100\n",
      "19800/19800 [==============================] - 1s 34us/step - loss: 2.2951 - accuracy: 0.1135\n",
      "Epoch 34/100\n",
      "19800/19800 [==============================] - 1s 33us/step - loss: 2.2949 - accuracy: 0.1135\n",
      "Epoch 35/100\n",
      "19800/19800 [==============================] - 1s 34us/step - loss: 2.2947 - accuracy: 0.1135\n",
      "Epoch 36/100\n",
      "19800/19800 [==============================] - 1s 34us/step - loss: 2.2944 - accuracy: 0.1135\n",
      "Epoch 37/100\n",
      "19800/19800 [==============================] - 1s 34us/step - loss: 2.2942 - accuracy: 0.1135\n",
      "Epoch 38/100\n",
      "19800/19800 [==============================] - 1s 34us/step - loss: 2.2940 - accuracy: 0.1135\n",
      "Epoch 39/100\n",
      "19800/19800 [==============================] - 1s 34us/step - loss: 2.2938 - accuracy: 0.1135\n",
      "Epoch 40/100\n",
      "19800/19800 [==============================] - 1s 38us/step - loss: 2.2936 - accuracy: 0.1135\n",
      "Epoch 41/100\n",
      "19800/19800 [==============================] - 1s 36us/step - loss: 2.2933 - accuracy: 0.1135\n",
      "Epoch 42/100\n",
      "19800/19800 [==============================] - 1s 35us/step - loss: 2.2931 - accuracy: 0.1135\n",
      "Epoch 43/100\n",
      "19800/19800 [==============================] - 1s 35us/step - loss: 2.2929 - accuracy: 0.1135\n",
      "Epoch 44/100\n",
      "19800/19800 [==============================] - 1s 34us/step - loss: 2.2927 - accuracy: 0.1135\n",
      "Epoch 45/100\n",
      "19800/19800 [==============================] - 1s 36us/step - loss: 2.2924 - accuracy: 0.1135\n",
      "Epoch 46/100\n",
      "19800/19800 [==============================] - 1s 35us/step - loss: 2.2922 - accuracy: 0.1135\n",
      "Epoch 47/100\n",
      "19800/19800 [==============================] - 1s 35us/step - loss: 2.2919 - accuracy: 0.1135\n",
      "Epoch 48/100\n",
      "19800/19800 [==============================] - 1s 34us/step - loss: 2.2917 - accuracy: 0.1135\n",
      "Epoch 49/100\n",
      "19800/19800 [==============================] - 1s 34us/step - loss: 2.2914 - accuracy: 0.1135\n",
      "Epoch 50/100\n",
      "19800/19800 [==============================] - 1s 34us/step - loss: 2.2912 - accuracy: 0.1135\n",
      "Epoch 51/100\n",
      "19800/19800 [==============================] - 1s 35us/step - loss: 2.2909 - accuracy: 0.1135\n",
      "Epoch 52/100\n"
     ]
    },
    {
     "name": "stdout",
     "output_type": "stream",
     "text": [
      "19800/19800 [==============================] - 1s 35us/step - loss: 2.2907 - accuracy: 0.1135\n",
      "Epoch 53/100\n",
      "19800/19800 [==============================] - 1s 35us/step - loss: 2.2904 - accuracy: 0.1135\n",
      "Epoch 54/100\n",
      "19800/19800 [==============================] - 1s 34us/step - loss: 2.2902 - accuracy: 0.1135\n",
      "Epoch 55/100\n",
      "19800/19800 [==============================] - 1s 34us/step - loss: 2.2899 - accuracy: 0.1135\n",
      "Epoch 56/100\n",
      "19800/19800 [==============================] - 1s 34us/step - loss: 2.2896 - accuracy: 0.1135\n",
      "Epoch 57/100\n",
      "19800/19800 [==============================] - 1s 34us/step - loss: 2.2894 - accuracy: 0.1135\n",
      "Epoch 58/100\n",
      "19800/19800 [==============================] - 1s 34us/step - loss: 2.2891 - accuracy: 0.1135\n",
      "Epoch 59/100\n",
      "19800/19800 [==============================] - 1s 34us/step - loss: 2.2888 - accuracy: 0.1135\n",
      "Epoch 60/100\n",
      "19800/19800 [==============================] - 1s 35us/step - loss: 2.2885 - accuracy: 0.1135\n",
      "Epoch 61/100\n",
      "19800/19800 [==============================] - 1s 34us/step - loss: 2.2882 - accuracy: 0.1135\n",
      "Epoch 62/100\n",
      "19800/19800 [==============================] - 1s 34us/step - loss: 2.2879 - accuracy: 0.1135\n",
      "Epoch 63/100\n",
      "19800/19800 [==============================] - 1s 34us/step - loss: 2.2876 - accuracy: 0.1135\n",
      "Epoch 64/100\n",
      "19800/19800 [==============================] - 1s 34us/step - loss: 2.2873 - accuracy: 0.1135\n",
      "Epoch 65/100\n",
      "19800/19800 [==============================] - 1s 34us/step - loss: 2.2870 - accuracy: 0.1135\n",
      "Epoch 66/100\n",
      "19800/19800 [==============================] - 1s 34us/step - loss: 2.2867 - accuracy: 0.1135\n",
      "Epoch 67/100\n",
      "19800/19800 [==============================] - 1s 34us/step - loss: 2.2864 - accuracy: 0.1135\n",
      "Epoch 68/100\n",
      "19800/19800 [==============================] - 1s 34us/step - loss: 2.2860 - accuracy: 0.1135\n",
      "Epoch 69/100\n",
      "19800/19800 [==============================] - 1s 34us/step - loss: 2.2857 - accuracy: 0.1135\n",
      "Epoch 70/100\n",
      "19800/19800 [==============================] - 1s 34us/step - loss: 2.2853 - accuracy: 0.1135\n",
      "Epoch 71/100\n",
      "19800/19800 [==============================] - 1s 34us/step - loss: 2.2850 - accuracy: 0.1135\n",
      "Epoch 72/100\n",
      "19800/19800 [==============================] - 1s 34us/step - loss: 2.2846 - accuracy: 0.1135\n",
      "Epoch 73/100\n",
      "19800/19800 [==============================] - 1s 34us/step - loss: 2.2842 - accuracy: 0.1135\n",
      "Epoch 74/100\n",
      "19800/19800 [==============================] - 1s 35us/step - loss: 2.2839 - accuracy: 0.1135\n",
      "Epoch 75/100\n",
      "19800/19800 [==============================] - 1s 35us/step - loss: 2.2835 - accuracy: 0.1135\n",
      "Epoch 76/100\n",
      "19800/19800 [==============================] - 1s 35us/step - loss: 2.2831 - accuracy: 0.1135\n",
      "Epoch 77/100\n",
      "19800/19800 [==============================] - 1s 34us/step - loss: 2.2827 - accuracy: 0.1135\n",
      "Epoch 78/100\n",
      "19800/19800 [==============================] - 1s 35us/step - loss: 2.2823 - accuracy: 0.1135\n",
      "Epoch 79/100\n",
      "19800/19800 [==============================] - 1s 35us/step - loss: 2.2819 - accuracy: 0.1135\n",
      "Epoch 80/100\n",
      "19800/19800 [==============================] - 1s 34us/step - loss: 2.2814 - accuracy: 0.1135\n",
      "Epoch 81/100\n",
      "19800/19800 [==============================] - 1s 35us/step - loss: 2.2810 - accuracy: 0.1135\n",
      "Epoch 82/100\n",
      "19800/19800 [==============================] - 1s 35us/step - loss: 2.2805 - accuracy: 0.1135\n",
      "Epoch 83/100\n",
      "19800/19800 [==============================] - 1s 38us/step - loss: 2.2801 - accuracy: 0.1135\n",
      "Epoch 84/100\n",
      "19800/19800 [==============================] - 1s 34us/step - loss: 2.2796 - accuracy: 0.1135\n",
      "Epoch 85/100\n",
      "19800/19800 [==============================] - 1s 35us/step - loss: 2.2791 - accuracy: 0.1135\n",
      "Epoch 86/100\n",
      "19800/19800 [==============================] - 1s 34us/step - loss: 2.2786 - accuracy: 0.1135\n",
      "Epoch 87/100\n",
      "19800/19800 [==============================] - 1s 34us/step - loss: 2.2781 - accuracy: 0.1135\n",
      "Epoch 88/100\n",
      "19800/19800 [==============================] - 1s 34us/step - loss: 2.2776 - accuracy: 0.1135\n",
      "Epoch 89/100\n",
      "19800/19800 [==============================] - 1s 34us/step - loss: 2.2770 - accuracy: 0.1135\n",
      "Epoch 90/100\n",
      "19800/19800 [==============================] - 1s 34us/step - loss: 2.2765 - accuracy: 0.1135\n",
      "Epoch 91/100\n",
      "19800/19800 [==============================] - 1s 34us/step - loss: 2.2759 - accuracy: 0.1135\n",
      "Epoch 92/100\n",
      "19800/19800 [==============================] - 1s 34us/step - loss: 2.2753 - accuracy: 0.1135\n",
      "Epoch 93/100\n",
      "19800/19800 [==============================] - 1s 34us/step - loss: 2.2747 - accuracy: 0.1135\n",
      "Epoch 94/100\n",
      "19800/19800 [==============================] - 1s 33us/step - loss: 2.2741 - accuracy: 0.1135\n",
      "Epoch 95/100\n",
      "19800/19800 [==============================] - 1s 34us/step - loss: 2.2734 - accuracy: 0.1135\n",
      "Epoch 96/100\n",
      "19800/19800 [==============================] - 1s 34us/step - loss: 2.2728 - accuracy: 0.1135\n",
      "Epoch 97/100\n",
      "19800/19800 [==============================] - 1s 34us/step - loss: 2.2721 - accuracy: 0.1135\n",
      "Epoch 98/100\n",
      "19800/19800 [==============================] - 1s 34us/step - loss: 2.2714 - accuracy: 0.1135\n",
      "Epoch 99/100\n",
      "19800/19800 [==============================] - 1s 34us/step - loss: 2.2707 - accuracy: 0.1135 0s - loss: 2.2711 - ac\n",
      "Epoch 100/100\n",
      "19800/19800 [==============================] - 1s 34us/step - loss: 2.2700 - accuracy: 0.1135\n",
      "Epoch 1/100\n",
      "19800/19800 [==============================] - 1s 34us/step - loss: 2.3580 - accuracy: 0.1021\n",
      "Epoch 2/100\n",
      "19800/19800 [==============================] - 1s 34us/step - loss: 2.3075 - accuracy: 0.1021\n",
      "Epoch 3/100\n",
      "19800/19800 [==============================] - 1s 34us/step - loss: 2.3014 - accuracy: 0.1123\n",
      "Epoch 4/100\n",
      "19800/19800 [==============================] - 1s 34us/step - loss: 2.3003 - accuracy: 0.1135\n",
      "Epoch 5/100\n",
      "19800/19800 [==============================] - 1s 34us/step - loss: 2.2999 - accuracy: 0.1135\n",
      "Epoch 6/100\n",
      "19800/19800 [==============================] - 1s 34us/step - loss: 2.2996 - accuracy: 0.1135\n",
      "Epoch 7/100\n",
      "19800/19800 [==============================] - 1s 34us/step - loss: 2.2994 - accuracy: 0.1135\n",
      "Epoch 8/100\n",
      "19800/19800 [==============================] - 1s 33us/step - loss: 2.2992 - accuracy: 0.1135\n",
      "Epoch 9/100\n",
      "19800/19800 [==============================] - 1s 35us/step - loss: 2.2989 - accuracy: 0.1135\n",
      "Epoch 10/100\n",
      "19800/19800 [==============================] - 1s 33us/step - loss: 2.2987 - accuracy: 0.1135\n",
      "Epoch 11/100\n",
      "19800/19800 [==============================] - 1s 33us/step - loss: 2.2985 - accuracy: 0.1135\n",
      "Epoch 12/100\n",
      "19800/19800 [==============================] - 1s 33us/step - loss: 2.2983 - accuracy: 0.1135\n",
      "Epoch 13/100\n",
      "19800/19800 [==============================] - 1s 33us/step - loss: 2.2980 - accuracy: 0.1135\n",
      "Epoch 14/100\n",
      "19800/19800 [==============================] - 1s 34us/step - loss: 2.2978 - accuracy: 0.1135\n",
      "Epoch 15/100\n",
      "19800/19800 [==============================] - 1s 33us/step - loss: 2.2975 - accuracy: 0.1135\n",
      "Epoch 16/100\n",
      "19800/19800 [==============================] - 1s 33us/step - loss: 2.2973 - accuracy: 0.1135\n",
      "Epoch 17/100\n",
      "19800/19800 [==============================] - 1s 33us/step - loss: 2.2970 - accuracy: 0.1135\n",
      "Epoch 18/100\n",
      "19800/19800 [==============================] - 1s 33us/step - loss: 2.2968 - accuracy: 0.1135\n",
      "Epoch 19/100\n",
      "19800/19800 [==============================] - 1s 33us/step - loss: 2.2966 - accuracy: 0.1135\n",
      "Epoch 20/100\n",
      "19800/19800 [==============================] - 1s 33us/step - loss: 2.2963 - accuracy: 0.1135\n",
      "Epoch 21/100\n",
      "19800/19800 [==============================] - 1s 33us/step - loss: 2.2961 - accuracy: 0.1135\n",
      "Epoch 22/100\n",
      "19800/19800 [==============================] - 1s 33us/step - loss: 2.2958 - accuracy: 0.1135\n",
      "Epoch 23/100\n",
      "19800/19800 [==============================] - 1s 33us/step - loss: 2.2956 - accuracy: 0.1135\n",
      "Epoch 24/100\n",
      "19800/19800 [==============================] - 1s 33us/step - loss: 2.2953 - accuracy: 0.1135\n",
      "Epoch 25/100\n",
      "19800/19800 [==============================] - 1s 33us/step - loss: 2.2951 - accuracy: 0.1135\n",
      "Epoch 26/100\n",
      "19800/19800 [==============================] - 1s 33us/step - loss: 2.2948 - accuracy: 0.1135\n",
      "Epoch 27/100\n",
      "19800/19800 [==============================] - 1s 33us/step - loss: 2.2945 - accuracy: 0.1135\n",
      "Epoch 28/100\n"
     ]
    },
    {
     "name": "stdout",
     "output_type": "stream",
     "text": [
      "19800/19800 [==============================] - 1s 34us/step - loss: 2.2942 - accuracy: 0.1135\n",
      "Epoch 29/100\n",
      "19800/19800 [==============================] - 1s 33us/step - loss: 2.2940 - accuracy: 0.1135\n",
      "Epoch 30/100\n",
      "19800/19800 [==============================] - 1s 34us/step - loss: 2.2937 - accuracy: 0.1135\n",
      "Epoch 31/100\n",
      "19800/19800 [==============================] - 1s 33us/step - loss: 2.2935 - accuracy: 0.1135\n",
      "Epoch 32/100\n",
      "19800/19800 [==============================] - 1s 34us/step - loss: 2.2932 - accuracy: 0.1135\n",
      "Epoch 33/100\n",
      "19800/19800 [==============================] - 1s 33us/step - loss: 2.2929 - accuracy: 0.1135\n",
      "Epoch 34/100\n",
      "19800/19800 [==============================] - 1s 33us/step - loss: 2.2926 - accuracy: 0.1135\n",
      "Epoch 35/100\n",
      "19800/19800 [==============================] - 1s 33us/step - loss: 2.2923 - accuracy: 0.1135\n",
      "Epoch 36/100\n",
      "19800/19800 [==============================] - 1s 33us/step - loss: 2.2920 - accuracy: 0.1135\n",
      "Epoch 37/100\n",
      "19800/19800 [==============================] - 1s 33us/step - loss: 2.2917 - accuracy: 0.1135\n",
      "Epoch 38/100\n",
      "19800/19800 [==============================] - 1s 33us/step - loss: 2.2914 - accuracy: 0.1135\n",
      "Epoch 39/100\n",
      "19800/19800 [==============================] - 1s 33us/step - loss: 2.2911 - accuracy: 0.1135\n",
      "Epoch 40/100\n",
      "19800/19800 [==============================] - 1s 33us/step - loss: 2.2908 - accuracy: 0.1135\n",
      "Epoch 41/100\n",
      "19800/19800 [==============================] - 1s 33us/step - loss: 2.2905 - accuracy: 0.1135\n",
      "Epoch 42/100\n",
      "19800/19800 [==============================] - 1s 33us/step - loss: 2.2902 - accuracy: 0.1135\n",
      "Epoch 43/100\n",
      "19800/19800 [==============================] - 1s 34us/step - loss: 2.2899 - accuracy: 0.1135\n",
      "Epoch 44/100\n",
      "19800/19800 [==============================] - 1s 33us/step - loss: 2.2896 - accuracy: 0.1135\n",
      "Epoch 45/100\n",
      "19800/19800 [==============================] - 1s 33us/step - loss: 2.2892 - accuracy: 0.1135\n",
      "Epoch 46/100\n",
      "19800/19800 [==============================] - 1s 33us/step - loss: 2.2889 - accuracy: 0.1135\n",
      "Epoch 47/100\n",
      "19800/19800 [==============================] - 1s 33us/step - loss: 2.2885 - accuracy: 0.1135\n",
      "Epoch 48/100\n",
      "19800/19800 [==============================] - 1s 33us/step - loss: 2.2882 - accuracy: 0.1135\n",
      "Epoch 49/100\n",
      "19800/19800 [==============================] - 1s 33us/step - loss: 2.2879 - accuracy: 0.1135 0s - loss: 2.2889 - ac\n",
      "Epoch 50/100\n",
      "19800/19800 [==============================] - 1s 33us/step - loss: 2.2875 - accuracy: 0.1135\n",
      "Epoch 51/100\n",
      "19800/19800 [==============================] - 1s 33us/step - loss: 2.2871 - accuracy: 0.1135\n",
      "Epoch 52/100\n",
      "19800/19800 [==============================] - 1s 33us/step - loss: 2.2868 - accuracy: 0.1135\n",
      "Epoch 53/100\n",
      "19800/19800 [==============================] - 1s 34us/step - loss: 2.2864 - accuracy: 0.1135\n",
      "Epoch 54/100\n",
      "19800/19800 [==============================] - 1s 33us/step - loss: 2.2860 - accuracy: 0.1135\n",
      "Epoch 55/100\n",
      "19800/19800 [==============================] - 1s 33us/step - loss: 2.2856 - accuracy: 0.1135\n",
      "Epoch 56/100\n",
      "19800/19800 [==============================] - 1s 33us/step - loss: 2.2852 - accuracy: 0.1135\n",
      "Epoch 57/100\n",
      "19800/19800 [==============================] - 1s 33us/step - loss: 2.2848 - accuracy: 0.1135\n",
      "Epoch 58/100\n",
      "19800/19800 [==============================] - 1s 33us/step - loss: 2.2844 - accuracy: 0.1135\n",
      "Epoch 59/100\n",
      "19800/19800 [==============================] - 1s 34us/step - loss: 2.2839 - accuracy: 0.1135\n",
      "Epoch 60/100\n",
      "19800/19800 [==============================] - 1s 34us/step - loss: 2.2835 - accuracy: 0.1135\n",
      "Epoch 61/100\n",
      "19800/19800 [==============================] - 1s 34us/step - loss: 2.2830 - accuracy: 0.1135\n",
      "Epoch 62/100\n",
      "19800/19800 [==============================] - 1s 34us/step - loss: 2.2825 - accuracy: 0.1135\n",
      "Epoch 63/100\n",
      "19800/19800 [==============================] - 1s 33us/step - loss: 2.2820 - accuracy: 0.1135\n",
      "Epoch 64/100\n",
      "19800/19800 [==============================] - 1s 33us/step - loss: 2.2815 - accuracy: 0.1135\n",
      "Epoch 65/100\n",
      "19800/19800 [==============================] - 1s 33us/step - loss: 2.2810 - accuracy: 0.1135\n",
      "Epoch 66/100\n",
      "19800/19800 [==============================] - 1s 33us/step - loss: 2.2805 - accuracy: 0.1135\n",
      "Epoch 67/100\n",
      "19800/19800 [==============================] - 1s 33us/step - loss: 2.2800 - accuracy: 0.1135\n",
      "Epoch 68/100\n",
      "19800/19800 [==============================] - 1s 33us/step - loss: 2.2794 - accuracy: 0.1135\n",
      "Epoch 69/100\n",
      "19800/19800 [==============================] - 1s 34us/step - loss: 2.2789 - accuracy: 0.1135\n",
      "Epoch 70/100\n",
      "19800/19800 [==============================] - 1s 34us/step - loss: 2.2783 - accuracy: 0.1135\n",
      "Epoch 71/100\n",
      "19800/19800 [==============================] - 1s 34us/step - loss: 2.2777 - accuracy: 0.1135\n",
      "Epoch 72/100\n",
      "19800/19800 [==============================] - 1s 33us/step - loss: 2.2772 - accuracy: 0.1135\n",
      "Epoch 73/100\n",
      "19800/19800 [==============================] - 1s 33us/step - loss: 2.2766 - accuracy: 0.1135\n",
      "Epoch 74/100\n",
      "19800/19800 [==============================] - 1s 34us/step - loss: 2.2759 - accuracy: 0.1137\n",
      "Epoch 75/100\n",
      "19800/19800 [==============================] - 1s 33us/step - loss: 2.2753 - accuracy: 0.1135\n",
      "Epoch 76/100\n",
      "19800/19800 [==============================] - 1s 33us/step - loss: 2.2746 - accuracy: 0.1135\n",
      "Epoch 77/100\n",
      "19800/19800 [==============================] - 1s 34us/step - loss: 2.2740 - accuracy: 0.1135\n",
      "Epoch 78/100\n",
      "19800/19800 [==============================] - 1s 33us/step - loss: 2.2733 - accuracy: 0.1135\n",
      "Epoch 79/100\n",
      "19800/19800 [==============================] - 1s 33us/step - loss: 2.2725 - accuracy: 0.1142\n",
      "Epoch 80/100\n",
      "19800/19800 [==============================] - 1s 34us/step - loss: 2.2719 - accuracy: 0.1135\n",
      "Epoch 81/100\n",
      "19800/19800 [==============================] - 1s 33us/step - loss: 2.2711 - accuracy: 0.1135\n",
      "Epoch 82/100\n",
      "19800/19800 [==============================] - 1s 33us/step - loss: 2.2703 - accuracy: 0.1137\n",
      "Epoch 83/100\n",
      "19800/19800 [==============================] - 1s 34us/step - loss: 2.2695 - accuracy: 0.1144\n",
      "Epoch 84/100\n",
      "19800/19800 [==============================] - 1s 33us/step - loss: 2.2687 - accuracy: 0.1137\n",
      "Epoch 85/100\n",
      "19800/19800 [==============================] - 1s 33us/step - loss: 2.2678 - accuracy: 0.1144\n",
      "Epoch 86/100\n",
      "19800/19800 [==============================] - 1s 33us/step - loss: 2.2669 - accuracy: 0.1139\n",
      "Epoch 87/100\n",
      "19800/19800 [==============================] - 1s 33us/step - loss: 2.2660 - accuracy: 0.1149\n",
      "Epoch 88/100\n",
      "19800/19800 [==============================] - 1s 33us/step - loss: 2.2650 - accuracy: 0.1191\n",
      "Epoch 89/100\n",
      "19800/19800 [==============================] - ETA: 0s - loss: 2.2643 - accuracy: 0.11 - 1s 33us/step - loss: 2.2640 - accuracy: 0.1181\n",
      "Epoch 90/100\n",
      "19800/19800 [==============================] - 1s 33us/step - loss: 2.2630 - accuracy: 0.1164\n",
      "Epoch 91/100\n",
      "19800/19800 [==============================] - 1s 33us/step - loss: 2.2620 - accuracy: 0.1197\n",
      "Epoch 92/100\n",
      "19800/19800 [==============================] - 1s 33us/step - loss: 2.2609 - accuracy: 0.1338\n",
      "Epoch 93/100\n",
      "19800/19800 [==============================] - 1s 33us/step - loss: 2.2597 - accuracy: 0.1218\n",
      "Epoch 94/100\n",
      "19800/19800 [==============================] - 1s 33us/step - loss: 2.2585 - accuracy: 0.1370\n",
      "Epoch 95/100\n",
      "19800/19800 [==============================] - 1s 33us/step - loss: 2.2573 - accuracy: 0.1214\n",
      "Epoch 96/100\n",
      "19800/19800 [==============================] - 1s 34us/step - loss: 2.2561 - accuracy: 0.1480\n",
      "Epoch 97/100\n",
      "19800/19800 [==============================] - 1s 33us/step - loss: 2.2548 - accuracy: 0.1423\n",
      "Epoch 98/100\n",
      "19800/19800 [==============================] - 1s 33us/step - loss: 2.2534 - accuracy: 0.1853\n",
      "Epoch 99/100\n",
      "19800/19800 [==============================] - 1s 33us/step - loss: 2.2520 - accuracy: 0.1539\n",
      "Epoch 100/100\n",
      "19800/19800 [==============================] - 1s 34us/step - loss: 2.2505 - accuracy: 0.1888\n"
     ]
    },
    {
     "data": {
      "text/plain": [
       "VotingClassifier(estimators=[('model1',\n",
       "                              <keras.wrappers.scikit_learn.KerasClassifier object at 0x000001BAA7E4BB38>),\n",
       "                             ('model2',\n",
       "                              <keras.wrappers.scikit_learn.KerasClassifier object at 0x000001BAA7E4BA90>),\n",
       "                             ('model3',\n",
       "                              <keras.wrappers.scikit_learn.KerasClassifier object at 0x000001BAA7E4BBA8>)],\n",
       "                 flatten_transform=True, n_jobs=None, voting='soft',\n",
       "                 weights=None)"
      ]
     },
     "execution_count": 72,
     "metadata": {},
     "output_type": "execute_result"
    }
   ],
   "source": [
    "ensemble_clf.fit(X_train, y_train)"
   ]
  },
  {
   "cell_type": "code",
   "execution_count": 73,
   "metadata": {
    "ExecuteTime": {
     "end_time": "2020-01-21T06:48:10.937780Z",
     "start_time": "2020-01-21T06:48:10.406889Z"
    }
   },
   "outputs": [
    {
     "name": "stdout",
     "output_type": "stream",
     "text": [
      "10000/10000 [==============================] - 0s 16us/step\n",
      "10000/10000 [==============================] - 0s 16us/step\n",
      "10000/10000 [==============================] - 0s 16us/step\n",
      "Test accuracy: 0.2807\n"
     ]
    }
   ],
   "source": [
    "y_pred = ensemble_clf.predict(X_test)\n",
    "print('Test accuracy:', accuracy_score(y_pred, y_test))"
   ]
  },
  {
   "cell_type": "markdown",
   "metadata": {},
   "source": [
    "# Advanced MLP - 2\n",
    "    - More training set\n",
    "    - Weight Initialization scheme\n",
    "    - Nonlinearity (Activation function)\n",
    "    - Optimizers: adaptvie\n",
    "    - Batch Normalization\n",
    "    - Dropout (Regularization)\n",
    "    - Model Ensemble"
   ]
  },
  {
   "cell_type": "code",
   "execution_count": 74,
   "metadata": {
    "ExecuteTime": {
     "end_time": "2020-01-21T06:48:11.151160Z",
     "start_time": "2020-01-21T06:48:10.949694Z"
    }
   },
   "outputs": [
    {
     "name": "stdout",
     "output_type": "stream",
     "text": [
      "(60000, 784)\n",
      "(10000, 784)\n",
      "(60000,)\n",
      "(10000,)\n"
     ]
    }
   ],
   "source": [
    "(X_train, y_train), (X_test, y_test) = mnist.load_data()\n",
    "# reshaping X data: (n, 28, 28) => (n, 784)\n",
    "X_train = X_train.reshape((X_train.shape[0], X_train.shape[1] * X_train.shape[2]))\n",
    "X_test = X_test.reshape((X_test.shape[0], X_test.shape[1] * X_test.shape[2]))\n",
    "# We use all training data and validate on all test data\n",
    "print(X_train.shape)\n",
    "print(X_test.shape)\n",
    "print(y_train.shape)\n",
    "print(y_test.shape)"
   ]
  },
  {
   "cell_type": "code",
   "execution_count": 75,
   "metadata": {
    "ExecuteTime": {
     "end_time": "2020-01-21T06:48:11.169110Z",
     "start_time": "2020-01-21T06:48:11.163122Z"
    }
   },
   "outputs": [],
   "source": [
    "def mlp_model():\n",
    "    model = Sequential()\n",
    "    \n",
    "    model.add(Dense(50, input_shape = (784, ), kernel_initializer='he_normal'))\n",
    "    model.add(BatchNormalization())\n",
    "    model.add(Activation('relu'))\n",
    "    model.add(Dropout(0.2))\n",
    "    model.add(Dense(50, kernel_initializer='he_normal'))\n",
    "    model.add(BatchNormalization())\n",
    "    model.add(Activation('relu'))    \n",
    "    model.add(Dropout(0.2))\n",
    "    model.add(Dense(50, kernel_initializer='he_normal'))\n",
    "    model.add(BatchNormalization())\n",
    "    model.add(Activation('relu'))\n",
    "    model.add(Dropout(0.2))\n",
    "    model.add(Dense(50, kernel_initializer='he_normal'))\n",
    "    model.add(BatchNormalization())\n",
    "    model.add(Activation('relu'))\n",
    "    model.add(Dropout(0.2))\n",
    "    model.add(Dense(10, kernel_initializer='he_normal'))\n",
    "    model.add(Activation('softmax'))\n",
    "    \n",
    "    adam = optimizers.Adam(lr = 0.001)\n",
    "    model.compile(optimizer = adam, loss = 'categorical_crossentropy', metrics = ['accuracy'])\n",
    "    \n",
    "    return model"
   ]
  },
  {
   "cell_type": "code",
   "execution_count": 79,
   "metadata": {
    "ExecuteTime": {
     "end_time": "2020-01-21T06:58:34.113002Z",
     "start_time": "2020-01-21T06:58:34.107018Z"
    }
   },
   "outputs": [],
   "source": [
    "# create 5 models to ensemble\n",
    "from keras.callbacks import LambdaCallback\n",
    "from keras.callbacks import EarlyStopping\n",
    "from keras.layers import LeakyReLU\n",
    "\n",
    "\n",
    "def lambdaf_(epoch, logs, step) : \n",
    "    if epoch % step == 0 : print(f\"{epoch} => {logs}\")                \n",
    "        \n",
    "def printepoch(step) :   \n",
    "    return LambdaCallback(on_epoch_end=lambda epoch, logs: lambdaf_(epoch, logs, step)  )\n",
    "\n",
    "model1 = KerasClassifier(build_fn = mlp_model, epochs = 3)\n",
    "model2 = KerasClassifier(build_fn = mlp_model, epochs = 3 )\n",
    "model3 = KerasClassifier(build_fn = mlp_model, epochs = 3)\n",
    "model4 = KerasClassifier(build_fn = mlp_model, epochs = 3)\n",
    "model5 = KerasClassifier(build_fn = mlp_model, epochs = 3)\n",
    "\n"
   ]
  },
  {
   "cell_type": "code",
   "execution_count": 80,
   "metadata": {
    "ExecuteTime": {
     "end_time": "2020-01-21T06:58:34.547709Z",
     "start_time": "2020-01-21T06:58:34.544678Z"
    }
   },
   "outputs": [],
   "source": [
    "#ensemble_clf = VotingClassifier(estimators = [('model1', model1), ('model2', model2), ('model3', model3), ('model4', model4), ('model5', model5)], voting = 'soft')\n",
    "ensemble_clf = VotingClassifier(estimators = [('model1', model1), ('model2', model2)], voting = 'soft')"
   ]
  },
  {
   "cell_type": "code",
   "execution_count": 81,
   "metadata": {
    "ExecuteTime": {
     "end_time": "2020-01-21T06:59:03.394109Z",
     "start_time": "2020-01-21T06:58:34.817767Z"
    }
   },
   "outputs": [
    {
     "name": "stdout",
     "output_type": "stream",
     "text": [
      "Epoch 1/3\n",
      "60000/60000 [==============================] - 5s 78us/step - loss: 0.7699 - accuracy: 0.7628\n",
      "Epoch 2/3\n",
      "60000/60000 [==============================] - 4s 66us/step - loss: 0.4304 - accuracy: 0.8760\n",
      "Epoch 3/3\n",
      "60000/60000 [==============================] - 4s 69us/step - loss: 0.3577 - accuracy: 0.8981\n",
      "Epoch 1/3\n",
      "60000/60000 [==============================] - 5s 85us/step - loss: 0.7551 - accuracy: 0.7698\n",
      "Epoch 2/3\n",
      "60000/60000 [==============================] - 4s 73us/step - loss: 0.4263 - accuracy: 0.8764\n",
      "Epoch 3/3\n",
      "60000/60000 [==============================] - 4s 69us/step - loss: 0.3600 - accuracy: 0.8971\n"
     ]
    },
    {
     "data": {
      "text/plain": [
       "VotingClassifier(estimators=[('model1',\n",
       "                              <keras.wrappers.scikit_learn.KerasClassifier object at 0x000001BAA7BA6E48>),\n",
       "                             ('model2',\n",
       "                              <keras.wrappers.scikit_learn.KerasClassifier object at 0x000001BAAC6DBC88>)],\n",
       "                 flatten_transform=True, n_jobs=None, voting='soft',\n",
       "                 weights=None)"
      ]
     },
     "execution_count": 81,
     "metadata": {},
     "output_type": "execute_result"
    }
   ],
   "source": [
    "ensemble_clf.fit(X_train, y_train)"
   ]
  },
  {
   "cell_type": "code",
   "execution_count": 82,
   "metadata": {
    "ExecuteTime": {
     "end_time": "2020-01-21T06:59:04.048086Z",
     "start_time": "2020-01-21T06:59:03.407026Z"
    }
   },
   "outputs": [],
   "source": [
    "y_pred = ensemble_clf.predict(X_test)"
   ]
  },
  {
   "cell_type": "code",
   "execution_count": 83,
   "metadata": {
    "ExecuteTime": {
     "end_time": "2020-01-21T06:59:04.064415Z",
     "start_time": "2020-01-21T06:59:04.060424Z"
    }
   },
   "outputs": [
    {
     "name": "stdout",
     "output_type": "stream",
     "text": [
      "Acc:  0.9618\n"
     ]
    }
   ],
   "source": [
    "print('Acc: ', accuracy_score(y_pred, y_test))"
   ]
  },
  {
   "cell_type": "code",
   "execution_count": null,
   "metadata": {},
   "outputs": [],
   "source": []
  }
 ],
 "metadata": {
  "kernelspec": {
   "display_name": "Python 3",
   "language": "python",
   "name": "python3"
  },
  "language_info": {
   "codemirror_mode": {
    "name": "ipython",
    "version": 3
   },
   "file_extension": ".py",
   "mimetype": "text/x-python",
   "name": "python",
   "nbconvert_exporter": "python",
   "pygments_lexer": "ipython3",
   "version": "3.6.10"
  },
  "toc": {
   "base_numbering": 1,
   "nav_menu": {},
   "number_sections": false,
   "sideBar": true,
   "skip_h1_title": false,
   "title_cell": "Table of Contents",
   "title_sidebar": "Contents",
   "toc_cell": false,
   "toc_position": {},
   "toc_section_display": true,
   "toc_window_display": false
  },
  "varInspector": {
   "cols": {
    "lenName": 16,
    "lenType": 16,
    "lenVar": 40
   },
   "kernels_config": {
    "python": {
     "delete_cmd_postfix": "",
     "delete_cmd_prefix": "del ",
     "library": "var_list.py",
     "varRefreshCmd": "print(var_dic_list())"
    },
    "r": {
     "delete_cmd_postfix": ") ",
     "delete_cmd_prefix": "rm(",
     "library": "var_list.r",
     "varRefreshCmd": "cat(var_dic_list()) "
    }
   },
   "types_to_exclude": [
    "module",
    "function",
    "builtin_function_or_method",
    "instance",
    "_Feature"
   ],
   "window_display": false
  }
 },
 "nbformat": 4,
 "nbformat_minor": 2
}
