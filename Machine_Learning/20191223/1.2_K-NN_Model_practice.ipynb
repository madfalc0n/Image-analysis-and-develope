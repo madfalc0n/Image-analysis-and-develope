{
 "cells": [
  {
   "cell_type": "markdown",
   "metadata": {},
   "source": [
    "## 1. K-NN 알고리즘"
   ]
  },
  {
   "cell_type": "markdown",
   "metadata": {},
   "source": [
    "### 모델 K 값 적용 시\n",
    "1. 생존 여부를 분류할 때 영향을 주는 변수를 선택해서 \n",
    "2. k(최근접을 몇 개까지 볼 것인지 지정)는 되도록 작은 수를 설정하고 홀수로 설정해서 분류분석을 수행합니다.\n",
    "3. 데이터셋에서 생존자 클래스(생존자, 비생존자)의 데이터 수가  동일하다면 정확률로, 생존자 클래스의 데이터 수가 상이하다면 f1통계량으로 모델의 정확도를 판단한다.\n",
    "4. 통상적으로 k=1일때 overfitting(학습 후 test에서 예측하지 못하는 경우) 발생할 가능성이 높습니다"
   ]
  },
  {
   "cell_type": "markdown",
   "metadata": {},
   "source": [
    "#### 모델 적용전\n",
    "- 변수를 0과 1로 채우는 정규화 과정(잡음제거)을 거침\n",
    "- 중복열을 제거하여 다중공선성 문제해결"
   ]
  },
  {
   "cell_type": "code",
   "execution_count": 1,
   "metadata": {},
   "outputs": [],
   "source": [
    "import pandas as pd\n",
    "import numpy as np\n",
    "import seaborn as sns"
   ]
  },
  {
   "cell_type": "code",
   "execution_count": 2,
   "metadata": {},
   "outputs": [],
   "source": [
    "df = sns.load_dataset('titanic')"
   ]
  },
  {
   "cell_type": "code",
   "execution_count": 3,
   "metadata": {},
   "outputs": [
    {
     "name": "stdout",
     "output_type": "stream",
     "text": [
      "<class 'pandas.core.frame.DataFrame'>\n",
      "RangeIndex: 891 entries, 0 to 890\n",
      "Data columns (total 15 columns):\n",
      "survived       891 non-null int64\n",
      "pclass         891 non-null int64\n",
      "sex            891 non-null object\n",
      "age            714 non-null float64\n",
      "sibsp          891 non-null int64\n",
      "parch          891 non-null int64\n",
      "fare           891 non-null float64\n",
      "embarked       889 non-null object\n",
      "class          891 non-null category\n",
      "who            891 non-null object\n",
      "adult_male     891 non-null bool\n",
      "deck           203 non-null category\n",
      "embark_town    889 non-null object\n",
      "alive          891 non-null object\n",
      "alone          891 non-null bool\n",
      "dtypes: bool(2), category(2), float64(2), int64(4), object(5)\n",
      "memory usage: 80.6+ KB\n"
     ]
    }
   ],
   "source": [
    "df.head()\n",
    "df.info()"
   ]
  },
  {
   "cell_type": "code",
   "execution_count": 4,
   "metadata": {},
   "outputs": [
    {
     "name": "stdout",
     "output_type": "stream",
     "text": [
      "15\n",
      "13\n"
     ]
    }
   ],
   "source": [
    "#NaN 값 많은 deck(열) 삭제\n",
    "#embarked와 embark_town 열(변수)는 의미가 동일하므로 embark_town 열 삭제\n",
    "#del df['embark_town']\n",
    "print(len(df.columns))\n",
    "ndf = df.drop(['deck', 'embark_town'], axis=1)\n",
    "print(len(ndf.columns))"
   ]
  },
  {
   "cell_type": "code",
   "execution_count": 5,
   "metadata": {},
   "outputs": [
    {
     "name": "stdout",
     "output_type": "stream",
     "text": [
      "891\n",
      "714\n",
      "          survived      pclass   sex         age       sibsp       parch  \\\n",
      "count   714.000000  714.000000   714  714.000000  714.000000  714.000000   \n",
      "unique         NaN         NaN     2         NaN         NaN         NaN   \n",
      "top            NaN         NaN  male         NaN         NaN         NaN   \n",
      "freq           NaN         NaN   453         NaN         NaN         NaN   \n",
      "mean      0.406162    2.236695   NaN   29.699118    0.512605    0.431373   \n",
      "std       0.491460    0.838250   NaN   14.526497    0.929783    0.853289   \n",
      "min       0.000000    1.000000   NaN    0.420000    0.000000    0.000000   \n",
      "25%       0.000000    1.000000   NaN   20.125000    0.000000    0.000000   \n",
      "50%       0.000000    2.000000   NaN   28.000000    0.000000    0.000000   \n",
      "75%       1.000000    3.000000   NaN   38.000000    1.000000    1.000000   \n",
      "max       1.000000    3.000000   NaN   80.000000    5.000000    6.000000   \n",
      "\n",
      "              fare embarked  class  who adult_male alive alone  \n",
      "count   714.000000      712    714  714        714   714   714  \n",
      "unique         NaN        3      3    3          2     2     2  \n",
      "top            NaN        S  Third  man       True    no  True  \n",
      "freq           NaN      554    355  413        413   424   404  \n",
      "mean     34.694514      NaN    NaN  NaN        NaN   NaN   NaN  \n",
      "std      52.918930      NaN    NaN  NaN        NaN   NaN   NaN  \n",
      "min       0.000000      NaN    NaN  NaN        NaN   NaN   NaN  \n",
      "25%       8.050000      NaN    NaN  NaN        NaN   NaN   NaN  \n",
      "50%      15.741700      NaN    NaN  NaN        NaN   NaN   NaN  \n",
      "75%      33.375000      NaN    NaN  NaN        NaN   NaN   NaN  \n",
      "max     512.329200      NaN    NaN  NaN        NaN   NaN   NaN  \n"
     ]
    }
   ],
   "source": [
    "#age 변수값이 NaN인 행을 삭제\n",
    "print(len(ndf))\n",
    "ndf.dropna(subset=['age'], how='any', axis=0, inplace=True) #how any일경우 하나라도 포함된다면 해당 행(axis =0) 삭제)\n",
    "print(len(ndf))\n",
    "print(ndf.describe(include='all'))"
   ]
  },
  {
   "cell_type": "code",
   "execution_count": 6,
   "metadata": {},
   "outputs": [
    {
     "name": "stdout",
     "output_type": "stream",
     "text": [
      "714\n"
     ]
    }
   ],
   "source": [
    "print(len(ndf['embarked'].isnull()))"
   ]
  },
  {
   "cell_type": "code",
   "execution_count": 7,
   "metadata": {},
   "outputs": [
    {
     "name": "stdout",
     "output_type": "stream",
     "text": [
      "S\n",
      "          survived      pclass   sex         age       sibsp       parch  \\\n",
      "count   714.000000  714.000000   714  714.000000  714.000000  714.000000   \n",
      "unique         NaN         NaN     2         NaN         NaN         NaN   \n",
      "top            NaN         NaN  male         NaN         NaN         NaN   \n",
      "freq           NaN         NaN   453         NaN         NaN         NaN   \n",
      "mean      0.406162    2.236695   NaN   29.699118    0.512605    0.431373   \n",
      "std       0.491460    0.838250   NaN   14.526497    0.929783    0.853289   \n",
      "min       0.000000    1.000000   NaN    0.420000    0.000000    0.000000   \n",
      "25%       0.000000    1.000000   NaN   20.125000    0.000000    0.000000   \n",
      "50%       0.000000    2.000000   NaN   28.000000    0.000000    0.000000   \n",
      "75%       1.000000    3.000000   NaN   38.000000    1.000000    1.000000   \n",
      "max       1.000000    3.000000   NaN   80.000000    5.000000    6.000000   \n",
      "\n",
      "              fare embarked  class  who adult_male alive alone  \n",
      "count   714.000000      714    714  714        714   714   714  \n",
      "unique         NaN        3      3    3          2     2     2  \n",
      "top            NaN        S  Third  man       True    no  True  \n",
      "freq           NaN      556    355  413        413   424   404  \n",
      "mean     34.694514      NaN    NaN  NaN        NaN   NaN   NaN  \n",
      "std      52.918930      NaN    NaN  NaN        NaN   NaN   NaN  \n",
      "min       0.000000      NaN    NaN  NaN        NaN   NaN   NaN  \n",
      "25%       8.050000      NaN    NaN  NaN        NaN   NaN   NaN  \n",
      "50%      15.741700      NaN    NaN  NaN        NaN   NaN   NaN  \n",
      "75%      33.375000      NaN    NaN  NaN        NaN   NaN   NaN  \n",
      "max     512.329200      NaN    NaN  NaN        NaN   NaN   NaN  \n"
     ]
    }
   ],
   "source": [
    "#embark 열 NaN값을 승선도시 중 가장 많이 출연한 데이터 값으로 치환\n",
    "#ndf['embarked'].value_counts(dropna=True).idxmax()\n",
    "most_freq = ndf['embarked'].value_counts(dropna=True).idxmax()\n",
    "print(most_freq)\n",
    "\n",
    "ndf['embarked'].fillna(most_freq, inplace=True)\n",
    "print(ndf.describe(include='all'))"
   ]
  },
  {
   "cell_type": "code",
   "execution_count": 8,
   "metadata": {},
   "outputs": [
    {
     "name": "stdout",
     "output_type": "stream",
     "text": [
      "     female  male\n",
      "0         0     1\n",
      "1         1     0\n",
      "2         1     0\n",
      "3         1     0\n",
      "4         0     1\n",
      "..      ...   ...\n",
      "885       1     0\n",
      "886       0     1\n",
      "887       1     0\n",
      "889       0     1\n",
      "890       0     1\n",
      "\n",
      "[714 rows x 2 columns]\n",
      "     survived  pclass     sex   age  sibsp  parch     fare embarked   class  \\\n",
      "0           0       3    male  22.0      1      0   7.2500        S   Third   \n",
      "1           1       1  female  38.0      1      0  71.2833        C   First   \n",
      "2           1       3  female  26.0      0      0   7.9250        S   Third   \n",
      "3           1       1  female  35.0      1      0  53.1000        S   First   \n",
      "4           0       3    male  35.0      0      0   8.0500        S   Third   \n",
      "..        ...     ...     ...   ...    ...    ...      ...      ...     ...   \n",
      "885         0       3  female  39.0      0      5  29.1250        Q   Third   \n",
      "886         0       2    male  27.0      0      0  13.0000        S  Second   \n",
      "887         1       1  female  19.0      0      0  30.0000        S   First   \n",
      "889         1       1    male  26.0      0      0  30.0000        C   First   \n",
      "890         0       3    male  32.0      0      0   7.7500        Q   Third   \n",
      "\n",
      "       who  adult_male alive  alone  female  male  \n",
      "0      man        True    no  False       0     1  \n",
      "1    woman       False   yes  False       1     0  \n",
      "2    woman       False   yes   True       1     0  \n",
      "3    woman       False   yes  False       1     0  \n",
      "4      man        True    no   True       0     1  \n",
      "..     ...         ...   ...    ...     ...   ...  \n",
      "885  woman       False    no  False       1     0  \n",
      "886    man        True    no   True       0     1  \n",
      "887  woman       False   yes   True       1     0  \n",
      "889    man        True   yes   True       0     1  \n",
      "890    man        True    no   True       0     1  \n",
      "\n",
      "[714 rows x 15 columns]\n"
     ]
    }
   ],
   "source": [
    "\n",
    "# 범주형(문자) 데이터를 숫자로 변환 해주어야 함\n",
    "# survived, pclass, sex, age, sibsp, parch, embarked\n",
    "\n",
    "# 범주형 데이터를 모델이 인식할 수 있는 숫자로 변환 : one-hot encoding\n",
    "onehot_sex = pd.get_dummies(ndf['sex'])\n",
    "print(onehot_sex)\n",
    "\n",
    "ndf = pd.concat([ndf, onehot_sex], axis=1)\n",
    "print(ndf)\n",
    "\n"
   ]
  },
  {
   "cell_type": "code",
   "execution_count": 24,
   "metadata": {},
   "outputs": [
    {
     "name": "stdout",
     "output_type": "stream",
     "text": [
      "     town_C  town_Q  town_S\n",
      "0         0       0       1\n",
      "1         1       0       0\n",
      "2         0       0       1\n",
      "3         0       0       1\n",
      "4         0       0       1\n",
      "..      ...     ...     ...\n",
      "885       0       1       0\n",
      "886       0       0       1\n",
      "887       0       0       1\n",
      "889       1       0       0\n",
      "890       0       1       0\n",
      "\n",
      "[714 rows x 3 columns]\n",
      "     survived  pclass     sex   age  sibsp  parch     fare embarked   class  \\\n",
      "0           0       3    male  22.0      1      0   7.2500        S   Third   \n",
      "1           1       1  female  38.0      1      0  71.2833        C   First   \n",
      "2           1       3  female  26.0      0      0   7.9250        S   Third   \n",
      "3           1       1  female  35.0      1      0  53.1000        S   First   \n",
      "4           0       3    male  35.0      0      0   8.0500        S   Third   \n",
      "..        ...     ...     ...   ...    ...    ...      ...      ...     ...   \n",
      "885         0       3  female  39.0      0      5  29.1250        Q   Third   \n",
      "886         0       2    male  27.0      0      0  13.0000        S  Second   \n",
      "887         1       1  female  19.0      0      0  30.0000        S   First   \n",
      "889         1       1    male  26.0      0      0  30.0000        C   First   \n",
      "890         0       3    male  32.0      0      0   7.7500        Q   Third   \n",
      "\n",
      "       who  ...  alive  alone  female  male  town_C  town_Q  town_S  town_C  \\\n",
      "0      man  ...     no  False       0     1       0       0       1       0   \n",
      "1    woman  ...    yes  False       1     0       1       0       0       1   \n",
      "2    woman  ...    yes   True       1     0       0       0       1       0   \n",
      "3    woman  ...    yes  False       1     0       0       0       1       0   \n",
      "4      man  ...     no   True       0     1       0       0       1       0   \n",
      "..     ...  ...    ...    ...     ...   ...     ...     ...     ...     ...   \n",
      "885  woman  ...     no  False       1     0       0       1       0       0   \n",
      "886    man  ...     no   True       0     1       0       0       1       0   \n",
      "887  woman  ...    yes   True       1     0       0       0       1       0   \n",
      "889    man  ...    yes   True       0     1       1       0       0       1   \n",
      "890    man  ...     no   True       0     1       0       1       0       0   \n",
      "\n",
      "     town_Q  town_S  \n",
      "0         0       1  \n",
      "1         0       0  \n",
      "2         0       1  \n",
      "3         0       1  \n",
      "4         0       1  \n",
      "..      ...     ...  \n",
      "885       1       0  \n",
      "886       0       1  \n",
      "887       0       1  \n",
      "889       0       0  \n",
      "890       1       0  \n",
      "\n",
      "[714 rows x 21 columns]\n"
     ]
    }
   ],
   "source": [
    "onehot_embarked = pd.get_dummies(ndf['embarked'], prefix='town') # embarked 의 컬럼을 각 변수에 따라 town_$로 지정한다.\n",
    "print(onehot_embarked)\n",
    "ndf = pd.concat([ndf, onehot_embarked], axis=1) # ndf에 onehot_embarked 결합한다.\n",
    "print(ndf)\n"
   ]
  },
  {
   "cell_type": "code",
   "execution_count": 10,
   "metadata": {},
   "outputs": [],
   "source": [
    "# 분류분석에 사용할 변수 선택\n",
    "\n",
    "X = ndf[['pclass','female', 'male', 'age', 'sibsp', 'parch', 'town_C', 'town_Q', 'town_S']]\n",
    "Y = ndf['survived']"
   ]
  },
  {
   "cell_type": "code",
   "execution_count": 11,
   "metadata": {},
   "outputs": [
    {
     "name": "stdout",
     "output_type": "stream",
     "text": [
      "     pclass  female  male   age  sibsp  parch  town_C  town_Q  town_S\n",
      "0         3       0     1  22.0      1      0       0       0       1\n",
      "1         1       1     0  38.0      1      0       1       0       0\n",
      "2         3       1     0  26.0      0      0       0       0       1\n",
      "3         1       1     0  35.0      1      0       0       0       1\n",
      "4         3       0     1  35.0      0      0       0       0       1\n",
      "..      ...     ...   ...   ...    ...    ...     ...     ...     ...\n",
      "885       3       1     0  39.0      0      5       0       1       0\n",
      "886       2       0     1  27.0      0      0       0       0       1\n",
      "887       1       1     0  19.0      0      0       0       0       1\n",
      "889       1       0     1  26.0      0      0       1       0       0\n",
      "890       3       0     1  32.0      0      0       0       1       0\n",
      "\n",
      "[714 rows x 9 columns]\n",
      "[[ 0.91123237 -0.75905134  0.75905134 ... -0.47180795 -0.20203051\n",
      "   0.53307848]\n",
      " [-1.47636364  1.31743394 -1.31743394 ...  2.11950647 -0.20203051\n",
      "  -1.87589641]\n",
      " [ 0.91123237  1.31743394 -1.31743394 ... -0.47180795 -0.20203051\n",
      "   0.53307848]\n",
      " ...\n",
      " [-1.47636364  1.31743394 -1.31743394 ... -0.47180795 -0.20203051\n",
      "   0.53307848]\n",
      " [-1.47636364 -0.75905134  0.75905134 ...  2.11950647 -0.20203051\n",
      "  -1.87589641]\n",
      " [ 0.91123237 -0.75905134  0.75905134 ... -0.47180795  4.94974747\n",
      "  -1.87589641]]\n",
      "(714, 9)\n"
     ]
    }
   ],
   "source": [
    "# K-NN 분류 분석을 수행하려면 설정변수를 정규화 해주어야 함(평균 0 , 표준편차 1)\n",
    "from sklearn import preprocessing\n",
    "print(X)\n",
    "X = preprocessing.StandardScaler().fit(X).transform(X)\n",
    "print(X)\n",
    "print(X.shape)"
   ]
  },
  {
   "cell_type": "code",
   "execution_count": 13,
   "metadata": {},
   "outputs": [
    {
     "name": "stdout",
     "output_type": "stream",
     "text": [
      "(499, 9)\n",
      "(215, 9)\n"
     ]
    }
   ],
   "source": [
    "# train data와 test data 비율 7:3으로 데이터 분리\n",
    "from sklearn.model_selection import train_test_split\n",
    "X_train, X_test, Y_train, Y_test = train_test_split(X, Y, test_size=0.3, random_state=10)\n",
    "print(X_train.shape)\n",
    "print(X_test.shape)\n"
   ]
  },
  {
   "cell_type": "code",
   "execution_count": 57,
   "metadata": {},
   "outputs": [
    {
     "data": {
      "text/plain": [
       "KNeighborsClassifier(algorithm='auto', leaf_size=30, metric='minkowski',\n",
       "                     metric_params=None, n_jobs=None, n_neighbors=7, p=2,\n",
       "                     weights='uniform')"
      ]
     },
     "execution_count": 57,
     "metadata": {},
     "output_type": "execute_result"
    }
   ],
   "source": [
    "# KNN 분류 분석으로 모델 생성\n",
    "from sklearn.neighbors import KNeighborsClassifier\n",
    "\n",
    "knn = KNeighborsClassifier(n_neighbors=7)\n",
    "knn.fit(X_train, Y_train)"
   ]
  },
  {
   "cell_type": "code",
   "execution_count": 58,
   "metadata": {},
   "outputs": [],
   "source": [
    "# 학습 데이터로부터 생성된 모델로 예측값 생성\n",
    "y_predict = knn.predict(X_test)\n"
   ]
  },
  {
   "cell_type": "code",
   "execution_count": 49,
   "metadata": {},
   "outputs": [
    {
     "name": "stdout",
     "output_type": "stream",
     "text": [
      "[0, 0, 1, 0, 0, 1, 1, 0, 0, 0]\n",
      "[0, 0, 1, 0, 0, 1, 1, 1, 0, 0]\n"
     ]
    }
   ],
   "source": [
    "print(list(y_predict[:10]))\n",
    "print(list(Y_test[:10]))"
   ]
  },
  {
   "cell_type": "code",
   "execution_count": 59,
   "metadata": {},
   "outputs": [
    {
     "name": "stdout",
     "output_type": "stream",
     "text": [
      "[[113  12]\n",
      " [ 30  60]]\n",
      "              precision    recall  f1-score   support\n",
      "\n",
      "           0       0.79      0.90      0.84       125\n",
      "           1       0.83      0.67      0.74        90\n",
      "\n",
      "    accuracy                           0.80       215\n",
      "   macro avg       0.81      0.79      0.79       215\n",
      "weighted avg       0.81      0.80      0.80       215\n",
      "\n"
     ]
    }
   ],
   "source": [
    "# 모델 검증\n",
    "from sklearn import metrics\n",
    "knn_matrix = metrics.confusion_matrix(Y_test, y_predict)\n",
    "print(knn_matrix) # 혼동매트릭스\n",
    "#print(knn_matrix.shape)\n",
    "\n",
    "knn_report = metrics.classification_report(Y_test, y_predict)\n",
    "print(knn_report)\n",
    "#precision 값이 0과 1이 0.81,0.80 "
   ]
  }
 ],
 "metadata": {
  "kernelspec": {
   "display_name": "Python 3",
   "language": "python",
   "name": "python3"
  },
  "language_info": {
   "codemirror_mode": {
    "name": "ipython",
    "version": 3
   },
   "file_extension": ".py",
   "mimetype": "text/x-python",
   "name": "python",
   "nbconvert_exporter": "python",
   "pygments_lexer": "ipython3",
   "version": "3.7.4"
  }
 },
 "nbformat": 4,
 "nbformat_minor": 4
}
