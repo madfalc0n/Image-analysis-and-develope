{
 "cells": [
  {
   "cell_type": "code",
   "execution_count": 20,
   "metadata": {
    "ExecuteTime": {
     "end_time": "2020-02-10T05:29:07.060676Z",
     "start_time": "2020-02-10T05:29:07.055677Z"
    }
   },
   "outputs": [],
   "source": [
    "from gensim.models import Word2Vec\n",
    "import matplotlib.pyplot as plt\n",
    "import codecs\n",
    "from konlpy.tag import Twitter\n",
    "from gensim.models import word2vec\n",
    "from konlpy.utils import pprint\n",
    "from sklearn.manifold import TSNE"
   ]
  },
  {
   "cell_type": "code",
   "execution_count": 21,
   "metadata": {
    "ExecuteTime": {
     "end_time": "2020-02-10T05:29:07.367583Z",
     "start_time": "2020-02-10T05:29:07.351594Z"
    }
   },
   "outputs": [],
   "source": [
    "sentences = [\n",
    "                ['this', 'is', 'a',   'good',      'product'],\n",
    "                ['it',   'is', 'a',   'excellent', 'product'],\n",
    "                ['it',   'is', 'a',   'bad',       'product'],\n",
    "                ['that', 'is', 'the', 'worst',     'product']\n",
    "            ]\n",
    "# 문장을 이용하여 단어와 벡터를 생성한다.\n",
    "# 문장, 줄이고싶은 차원(M) , 중심단어 주변으로 몇개 단어까지 선택할지 , 최소 단어가 한번이상 반복되는 것들만 고려하겟다(다쓰겠다는말).\n",
    "model = Word2Vec(sentences, size=20, window=3, min_count=1)  "
   ]
  },
  {
   "cell_type": "code",
   "execution_count": 22,
   "metadata": {
    "ExecuteTime": {
     "end_time": "2020-02-10T05:29:08.035010Z",
     "start_time": "2020-02-10T05:29:08.032040Z"
    }
   },
   "outputs": [],
   "source": [
    "# 단어벡터를 구한다.\n",
    "word_vectors = model.wv"
   ]
  },
  {
   "cell_type": "code",
   "execution_count": 23,
   "metadata": {
    "ExecuteTime": {
     "end_time": "2020-02-10T05:29:08.668382Z",
     "start_time": "2020-02-10T05:29:08.663424Z"
    },
    "scrolled": true
   },
   "outputs": [
    {
     "name": "stdout",
     "output_type": "stream",
     "text": [
      "<gensim.models.keyedvectors.Word2VecKeyedVectors object at 0x000001914EA85188>\n",
      "[ 0.01898836  0.01099312 -0.01618253 -0.00703015 -0.00052808  0.00671247\n",
      " -0.01965438 -0.0109596   0.00524843  0.00868691  0.01925845  0.0175457\n",
      "  0.00325898 -0.02328938  0.00639926  0.00428182 -0.00026243 -0.01880239\n",
      "  0.01348029  0.00972941]\n",
      "(20,)\n"
     ]
    }
   ],
   "source": [
    "print(word_vectors)\n",
    "print(word_vectors['this'])\n",
    "print(word_vectors['this'].shape) #20차원의 벡터가 생성"
   ]
  },
  {
   "cell_type": "code",
   "execution_count": 10,
   "metadata": {
    "ExecuteTime": {
     "end_time": "2020-02-10T04:46:28.542752Z",
     "start_time": "2020-02-10T04:46:28.538826Z"
    }
   },
   "outputs": [
    {
     "name": "stdout",
     "output_type": "stream",
     "text": [
      "dict_keys(['this', 'is', 'a', 'good', 'product', 'it', 'excellent', 'bad', 'that', 'the', 'worst'])\n"
     ]
    }
   ],
   "source": [
    "vocabs = word_vectors.vocab.keys()\n",
    "print(vocabs)"
   ]
  },
  {
   "cell_type": "code",
   "execution_count": 11,
   "metadata": {
    "ExecuteTime": {
     "end_time": "2020-02-10T04:46:28.917780Z",
     "start_time": "2020-02-10T04:46:28.907806Z"
    }
   },
   "outputs": [
    {
     "name": "stdout",
     "output_type": "stream",
     "text": [
      "0.008552611\n"
     ]
    },
    {
     "name": "stderr",
     "output_type": "stream",
     "text": [
      "C:\\ProgramData\\Anaconda3\\lib\\site-packages\\ipykernel_launcher.py:1: DeprecationWarning: Call to deprecated `similarity` (Method will be removed in 4.0.0, use self.wv.similarity() instead).\n",
      "  \"\"\"Entry point for launching an IPython kernel.\n"
     ]
    }
   ],
   "source": [
    "print(model.similarity(w1='it', w2='this')) # it 이 4차원 공간에서, the나is 와 비슷하다고 보면됨"
   ]
  },
  {
   "cell_type": "code",
   "execution_count": 14,
   "metadata": {
    "ExecuteTime": {
     "end_time": "2020-02-10T04:47:57.992115Z",
     "start_time": "2020-02-10T04:47:57.988156Z"
    }
   },
   "outputs": [
    {
     "data": {
      "text/plain": [
       "[('is', 0.2248789221048355), ('worst', 0.20427212119102478)]"
      ]
     },
     "execution_count": 14,
     "metadata": {},
     "output_type": "execute_result"
    }
   ],
   "source": [
    "model.wv.most_similar('it', topn=2) # 2개까지 달라"
   ]
  },
  {
   "cell_type": "code",
   "execution_count": 15,
   "metadata": {
    "ExecuteTime": {
     "end_time": "2020-02-10T04:47:59.200666Z",
     "start_time": "2020-02-10T04:47:59.195680Z"
    }
   },
   "outputs": [
    {
     "data": {
      "text/plain": [
       "[('is', 0.2248789221048355),\n",
       " ('worst', 0.20427212119102478),\n",
       " ('a', 0.16028481721878052),\n",
       " ('that', 0.10564703494310379),\n",
       " ('this', 0.00855255126953125),\n",
       " ('excellent', -0.054063089191913605),\n",
       " ('product', -0.07761912792921066),\n",
       " ('good', -0.15170583128929138),\n",
       " ('the', -0.328323632478714),\n",
       " ('bad', -0.4586445391178131)]"
      ]
     },
     "execution_count": 15,
     "metadata": {},
     "output_type": "execute_result"
    }
   ],
   "source": [
    "model.wv.most_similar('it') # 모델 유사도, -값은 반대방향에 있따는 뜻 "
   ]
  }
 ],
 "metadata": {
  "kernelspec": {
   "display_name": "Python 3",
   "language": "python",
   "name": "python3"
  },
  "language_info": {
   "codemirror_mode": {
    "name": "ipython",
    "version": 3
   },
   "file_extension": ".py",
   "mimetype": "text/x-python",
   "name": "python",
   "nbconvert_exporter": "python",
   "pygments_lexer": "ipython3",
   "version": "3.7.4"
  }
 },
 "nbformat": 4,
 "nbformat_minor": 2
}
