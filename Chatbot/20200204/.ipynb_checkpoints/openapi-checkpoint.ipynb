{
 "cells": [
  {
   "cell_type": "code",
   "execution_count": 3,
   "metadata": {
    "ExecuteTime": {
     "end_time": "2020-02-04T03:47:32.006481Z",
     "start_time": "2020-02-04T03:47:31.865940Z"
    }
   },
   "outputs": [],
   "source": [
    "import requests\n",
    "import json\n"
   ]
  },
  {
   "cell_type": "code",
   "execution_count": 5,
   "metadata": {
    "ExecuteTime": {
     "end_time": "2020-02-04T03:48:03.103921Z",
     "start_time": "2020-02-04T03:48:03.097962Z"
    }
   },
   "outputs": [],
   "source": [
    "def get_answer(text, sessionId):\n",
    "    data_send = {\n",
    "        'query': text, 'sessionId': sessionId,\n",
    "        'lang': 'ko', 'timezone' : 'Asia/Seoul'\n",
    "    }\n",
    "    data_header = {\n",
    "        'Authorization': 'Bearer 개인키값',\n",
    "        'Content-Type': 'application/json; charset=utf-8'\n",
    "    }\n",
    "\n",
    "    dialogflow_url = 'https://api.dialogflow.com/v1/query?v=20150910'\n",
    "    res = requests.post(dialogflow_url, data=json.dumps(data_send), headers=data_header)\n",
    "    if res.status_code == requests.codes.ok:\n",
    "       return res.json()    \n",
    "    return {}"
   ]
  },
  {
   "cell_type": "code",
   "execution_count": 11,
   "metadata": {
    "ExecuteTime": {
     "end_time": "2020-02-04T05:59:07.408069Z",
     "start_time": "2020-02-04T05:59:06.762007Z"
    }
   },
   "outputs": [
    {
     "name": "stdout",
     "output_type": "stream",
     "text": [
      "Bot:메뉴를 골라주세요\n"
     ]
    }
   ],
   "source": [
    "dict = get_answer(\"사장님\", 'user01')\n",
    "answer = dict['result']['fulfillment']['speech']\n",
    "print(\"Bot:\" + answer)"
   ]
  }
 ],
 "metadata": {
  "kernelspec": {
   "display_name": "Python 3",
   "language": "python",
   "name": "python3"
  },
  "language_info": {
   "codemirror_mode": {
    "name": "ipython",
    "version": 3
   },
   "file_extension": ".py",
   "mimetype": "text/x-python",
   "name": "python",
   "nbconvert_exporter": "python",
   "pygments_lexer": "ipython3",
   "version": "3.7.4"
  },
  "varInspector": {
   "cols": {
    "lenName": 16,
    "lenType": 16,
    "lenVar": 40
   },
   "kernels_config": {
    "python": {
     "delete_cmd_postfix": "",
     "delete_cmd_prefix": "del ",
     "library": "var_list.py",
     "varRefreshCmd": "print(var_dic_list())"
    },
    "r": {
     "delete_cmd_postfix": ") ",
     "delete_cmd_prefix": "rm(",
     "library": "var_list.r",
     "varRefreshCmd": "cat(var_dic_list()) "
    }
   },
   "types_to_exclude": [
    "module",
    "function",
    "builtin_function_or_method",
    "instance",
    "_Feature"
   ],
   "window_display": false
  }
 },
 "nbformat": 4,
 "nbformat_minor": 2
}
