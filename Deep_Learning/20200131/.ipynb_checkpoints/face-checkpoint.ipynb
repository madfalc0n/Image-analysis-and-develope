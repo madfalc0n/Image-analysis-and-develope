{
 "cells": [
  {
   "cell_type": "code",
   "execution_count": 2,
   "metadata": {
    "ExecuteTime": {
     "end_time": "2020-01-30T08:35:23.765810Z",
     "start_time": "2020-01-30T08:35:23.762862Z"
    }
   },
   "outputs": [],
   "source": [
    "from imutils import face_utils\n",
    "import numpy as np\n",
    "import imutils\n",
    "import dlib\n",
    "import cv2\n",
    "import matplotlib.pyplot as plt\n",
    "import face_recognition\n",
    "import os\n",
    "from imutils import paths"
   ]
  },
  {
   "cell_type": "code",
   "execution_count": null,
   "metadata": {},
   "outputs": [],
   "source": [
    "img = cv2.imread(\"face2.jpg\")\n",
    "\n",
    "face_locations = face_recognition.face_locations(img)\n",
    "print(\"I found {} face(s) in this photograph.\".format(len(face_locations)))\n",
    "\n",
    "for face_location in face_locations:    \n",
    "    top, right, bottom, left = face_location\n",
    "    cv2.rectangle(img, (left, top),  (right, bottom), (0, 0, 255), 3)  \n",
    "imshow(\"\", img) "
   ]
  },
  {
   "cell_type": "code",
   "execution_count": 4,
   "metadata": {
    "ExecuteTime": {
     "end_time": "2020-01-30T08:40:24.336587Z",
     "start_time": "2020-01-30T08:40:23.182477Z"
    }
   },
   "outputs": [],
   "source": [
    "# http://dlib.net/files/shape_predictor_68_face_landmarks.dat.bz2\n",
    "predictor = dlib.shape_predictor(\"shape_predictor_68_face_landmarks.dat\")\n",
    "detector = dlib.get_frontal_face_detector()"
   ]
  },
  {
   "cell_type": "code",
   "execution_count": 8,
   "metadata": {
    "ExecuteTime": {
     "end_time": "2020-01-30T08:47:41.233096Z",
     "start_time": "2020-01-30T08:47:41.198070Z"
    }
   },
   "outputs": [
    {
     "name": "stdout",
     "output_type": "stream",
     "text": [
      "Number of faces detected: 5\n",
      "[(413, 85) (485, 157)]\n",
      "[(93, 77) (165, 149)]\n",
      "[(333, 69) (405, 141)]\n",
      "[(189, 53) (261, 125)]\n",
      "[(245, 61) (317, 133)]\n"
     ]
    }
   ],
   "source": [
    "frame = cv2.imread(\"face2.jpg\")\n",
    "gray = cv2.cvtColor(frame, cv2.COLOR_BGR2GRAY)\n",
    "rects = detector(gray, 0)  \n",
    "print(\"Number of faces detected: {}\".format(len(rects)))\n",
    "for r in rects :\n",
    "    print(r)\n",
    "\n",
    "    "
   ]
  },
  {
   "cell_type": "code",
   "execution_count": 9,
   "metadata": {
    "ExecuteTime": {
     "end_time": "2020-01-30T08:48:05.621402Z",
     "start_time": "2020-01-30T08:48:05.597489Z"
    },
    "scrolled": true
   },
   "outputs": [
    {
     "name": "stdout",
     "output_type": "stream",
     "text": [
      "Detection 0: Left: 413 Top: 85 Right: 485 Bottom: 157\n",
      "Detection 1: Left: 93 Top: 77 Right: 165 Bottom: 149\n",
      "Detection 2: Left: 333 Top: 69 Right: 405 Bottom: 141\n",
      "Detection 3: Left: 189 Top: 53 Right: 261 Bottom: 125\n",
      "Detection 4: Left: 245 Top: 61 Right: 317 Bottom: 133\n"
     ]
    }
   ],
   "source": [
    "for k, d in enumerate(rects):\n",
    "        print(\"Detection {}: Left: {} Top: {} Right: {} Bottom: {}\".format(\n",
    "            k, d.left(), d.top(), d.right(), d.bottom()))\n",
    "        shape = predictor(gray, d)\n",
    "        shape = face_utils.shape_to_np(shape)\n",
    "        for (x, y) in shape:\n",
    "          cv2.circle(frame, (x, y), 2, (0, 255, 0), -1)"
   ]
  },
  {
   "cell_type": "code",
   "execution_count": 10,
   "metadata": {
    "ExecuteTime": {
     "end_time": "2020-01-30T08:48:19.790675Z",
     "start_time": "2020-01-30T08:48:19.780676Z"
    }
   },
   "outputs": [
    {
     "data": {
      "text/plain": [
       "True"
      ]
     },
     "execution_count": 10,
     "metadata": {},
     "output_type": "execute_result"
    }
   ],
   "source": [
    "cv2.imwrite(\"out.jpg\", frame)"
   ]
  }
 ],
 "metadata": {
  "kernelspec": {
   "display_name": "Python 3",
   "language": "python",
   "name": "python3"
  },
  "language_info": {
   "codemirror_mode": {
    "name": "ipython",
    "version": 3
   },
   "file_extension": ".py",
   "mimetype": "text/x-python",
   "name": "python",
   "nbconvert_exporter": "python",
   "pygments_lexer": "ipython3",
   "version": "3.6.10"
  },
  "toc": {
   "base_numbering": 1,
   "nav_menu": {},
   "number_sections": false,
   "sideBar": true,
   "skip_h1_title": false,
   "title_cell": "Table of Contents",
   "title_sidebar": "Contents",
   "toc_cell": false,
   "toc_position": {},
   "toc_section_display": true,
   "toc_window_display": false
  },
  "varInspector": {
   "cols": {
    "lenName": 16,
    "lenType": 16,
    "lenVar": 40
   },
   "kernels_config": {
    "python": {
     "delete_cmd_postfix": "",
     "delete_cmd_prefix": "del ",
     "library": "var_list.py",
     "varRefreshCmd": "print(var_dic_list())"
    },
    "r": {
     "delete_cmd_postfix": ") ",
     "delete_cmd_prefix": "rm(",
     "library": "var_list.r",
     "varRefreshCmd": "cat(var_dic_list()) "
    }
   },
   "types_to_exclude": [
    "module",
    "function",
    "builtin_function_or_method",
    "instance",
    "_Feature"
   ],
   "window_display": false
  }
 },
 "nbformat": 4,
 "nbformat_minor": 4
}
