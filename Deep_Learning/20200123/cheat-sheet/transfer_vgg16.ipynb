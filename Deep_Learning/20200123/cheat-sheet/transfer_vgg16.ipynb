{
 "cells": [
  {
   "cell_type": "code",
   "execution_count": 1,
   "metadata": {
    "ExecuteTime": {
     "end_time": "2020-01-23T03:51:50.505676Z",
     "start_time": "2020-01-23T03:51:45.253668Z"
    }
   },
   "outputs": [
    {
     "name": "stderr",
     "output_type": "stream",
     "text": [
      "Using TensorFlow backend.\n"
     ]
    }
   ],
   "source": [
    "import numpy as np\n",
    "import matplotlib.pyplot as plt\n",
    "%matplotlib inline\n",
    "import keras\n",
    "from keras.preprocessing.image import ImageDataGenerator, load_img"
   ]
  },
  {
   "cell_type": "code",
   "execution_count": 2,
   "metadata": {
    "ExecuteTime": {
     "end_time": "2020-01-23T03:51:50.521673Z",
     "start_time": "2020-01-23T03:51:50.518672Z"
    }
   },
   "outputs": [],
   "source": [
    "train_dir = './clean-dataset/train'\n",
    "validation_dir = './clean-dataset/validation'\n",
    "image_size = 224"
   ]
  },
  {
   "cell_type": "markdown",
   "metadata": {},
   "source": [
    "## Experiment 1: Freezing all layers - Same as Transfer Learning\n",
    "Create the model"
   ]
  },
  {
   "cell_type": "code",
   "execution_count": 3,
   "metadata": {
    "ExecuteTime": {
     "end_time": "2020-01-23T03:56:11.401345Z",
     "start_time": "2020-01-23T03:51:51.325234Z"
    }
   },
   "outputs": [
    {
     "name": "stdout",
     "output_type": "stream",
     "text": [
      "Downloading data from https://github.com/fchollet/deep-learning-models/releases/download/v0.1/vgg16_weights_tf_dim_ordering_tf_kernels_notop.h5\n",
      "58892288/58889256 [==============================] - 258s 4us/step\n",
      "<keras.engine.input_layer.InputLayer object at 0x000001A7CE20E2C8> False\n",
      "<keras.layers.convolutional.Conv2D object at 0x000001A7ED8DE208> False\n",
      "<keras.layers.convolutional.Conv2D object at 0x000001A7ED8F61C8> False\n",
      "<keras.layers.pooling.MaxPooling2D object at 0x000001A7ED91A748> False\n",
      "<keras.layers.convolutional.Conv2D object at 0x000001A7ED91A148> False\n",
      "<keras.layers.convolutional.Conv2D object at 0x000001A7ED929A88> False\n",
      "<keras.layers.pooling.MaxPooling2D object at 0x000001A7ED92C908> False\n",
      "<keras.layers.convolutional.Conv2D object at 0x000001A7ED930CC8> False\n",
      "<keras.layers.convolutional.Conv2D object at 0x000001A7ED935E48> False\n",
      "<keras.layers.convolutional.Conv2D object at 0x000001A7ED937AC8> False\n",
      "<keras.layers.pooling.MaxPooling2D object at 0x000001A7ED93E788> False\n",
      "<keras.layers.convolutional.Conv2D object at 0x000001A7ED93EFC8> False\n",
      "<keras.layers.convolutional.Conv2D object at 0x000001A7EDA45A88> False\n",
      "<keras.layers.convolutional.Conv2D object at 0x000001A7EDA49C48> False\n",
      "<keras.layers.pooling.MaxPooling2D object at 0x000001A7EDA4BC88> False\n",
      "<keras.layers.convolutional.Conv2D object at 0x000001A7EDA4FB48> False\n",
      "<keras.layers.convolutional.Conv2D object at 0x000001A7EDA56608> False\n",
      "<keras.layers.convolutional.Conv2D object at 0x000001A7EDA597C8> False\n",
      "<keras.layers.pooling.MaxPooling2D object at 0x000001A7EDA5DE48> False\n",
      "Model: \"sequential_1\"\n",
      "_________________________________________________________________\n",
      "Layer (type)                 Output Shape              Param #   \n",
      "=================================================================\n",
      "vgg16 (Model)                (None, 7, 7, 512)         14714688  \n",
      "_________________________________________________________________\n",
      "flatten_1 (Flatten)          (None, 25088)             0         \n",
      "_________________________________________________________________\n",
      "dense_1 (Dense)              (None, 1024)              25691136  \n",
      "_________________________________________________________________\n",
      "dropout_1 (Dropout)          (None, 1024)              0         \n",
      "_________________________________________________________________\n",
      "dense_2 (Dense)              (None, 3)                 3075      \n",
      "=================================================================\n",
      "Total params: 40,408,899\n",
      "Trainable params: 25,694,211\n",
      "Non-trainable params: 14,714,688\n",
      "_________________________________________________________________\n"
     ]
    }
   ],
   "source": [
    "from keras.applications import VGG16\n",
    "\n",
    "#Load the VGG model\n",
    "vgg_conv = VGG16(weights='imagenet', include_top=False, input_shape=(image_size, image_size, 3))\n",
    "\n",
    "# Freeze all the layers\n",
    "for layer in vgg_conv.layers[:]:\n",
    "    layer.trainable = False\n",
    "\n",
    "# Check the trainable status of the individual layers\n",
    "for layer in vgg_conv.layers:\n",
    "    print(layer, layer.trainable)\n",
    "\n",
    "\n",
    "from keras import models\n",
    "from keras import layers\n",
    "from keras import optimizers\n",
    "\n",
    "# Create the model\n",
    "model = models.Sequential()\n",
    "\n",
    "# Add the vgg convolutional base model\n",
    "model.add(vgg_conv)\n",
    "\n",
    "# Add new layers\n",
    "model.add(layers.Flatten())\n",
    "model.add(layers.Dense(1024, activation='relu'))\n",
    "model.add(layers.Dropout(0.5))\n",
    "model.add(layers.Dense(3, activation='softmax'))\n",
    "\n",
    "# Show a summary of the model. Check the number of trainable parameters\n",
    "model.summary()"
   ]
  },
  {
   "cell_type": "markdown",
   "metadata": {},
   "source": [
    "## Experiment 1\n",
    "Train the model"
   ]
  },
  {
   "cell_type": "code",
   "execution_count": 4,
   "metadata": {
    "ExecuteTime": {
     "end_time": "2020-01-23T03:56:30.217687Z",
     "start_time": "2020-01-23T03:56:29.966864Z"
    }
   },
   "outputs": [
    {
     "name": "stdout",
     "output_type": "stream",
     "text": [
      "Found 600 images belonging to 3 classes.\n",
      "Found 150 images belonging to 3 classes.\n"
     ]
    }
   ],
   "source": [
    "# No Data augmentation \n",
    "train_datagen = ImageDataGenerator(rescale=1./255)\n",
    "validation_datagen = ImageDataGenerator(rescale=1./255)\n",
    "\n",
    "# Change the batchsize according to your system RAM\n",
    "train_batchsize = 100\n",
    "val_batchsize = 10\n",
    "\n",
    "# Data Generator for Training data\n",
    "train_generator = train_datagen.flow_from_directory(\n",
    "        train_dir,\n",
    "        target_size=(image_size, image_size),\n",
    "        batch_size=train_batchsize,\n",
    "        class_mode='categorical')\n",
    "\n",
    "# Data Generator for Validation data\n",
    "validation_generator = validation_datagen.flow_from_directory(\n",
    "        validation_dir,\n",
    "        target_size=(image_size, image_size),\n",
    "        batch_size=val_batchsize,\n",
    "        class_mode='categorical',\n",
    "        shuffle=False)\n",
    "\n",
    "# Compile the model\n",
    "model.compile(loss='categorical_crossentropy',\n",
    "              optimizer=\"adam\",\n",
    "              metrics=['accuracy'])"
   ]
  },
  {
   "cell_type": "code",
   "execution_count": 5,
   "metadata": {
    "ExecuteTime": {
     "end_time": "2020-01-23T04:01:39.380933Z",
     "start_time": "2020-01-23T03:56:43.066626Z"
    }
   },
   "outputs": [
    {
     "name": "stdout",
     "output_type": "stream",
     "text": [
      "Epoch 1/5\n",
      "6/6 [==============================] - 57s 10s/step - loss: 10.5500 - accuracy: 0.3883 - val_loss: 4.6774e-05 - val_accuracy: 0.5200\n",
      "Epoch 2/5\n",
      "6/6 [==============================] - 60s 10s/step - loss: 2.0654 - accuracy: 0.5900 - val_loss: 0.8519 - val_accuracy: 0.7667\n",
      "Epoch 3/5\n",
      "6/6 [==============================] - 59s 10s/step - loss: 0.7458 - accuracy: 0.7833 - val_loss: 0.0305 - val_accuracy: 0.8400\n",
      "Epoch 4/5\n",
      "6/6 [==============================] - 59s 10s/step - loss: 0.3631 - accuracy: 0.8750 - val_loss: 0.0905 - val_accuracy: 0.9067\n",
      "Epoch 5/5\n",
      "6/6 [==============================] - 60s 10s/step - loss: 0.1807 - accuracy: 0.9333 - val_loss: 0.0211 - val_accuracy: 0.8133\n"
     ]
    }
   ],
   "source": [
    "# Train the Model\n",
    "history = model.fit_generator(\n",
    "      train_generator,\n",
    "      steps_per_epoch=train_generator.samples/train_generator.batch_size ,\n",
    "      epochs=5,\n",
    "      validation_data=validation_generator,\n",
    "      validation_steps=validation_generator.samples/validation_generator.batch_size,\n",
    "      verbose=1)"
   ]
  },
  {
   "cell_type": "code",
   "execution_count": 6,
   "metadata": {
    "ExecuteTime": {
     "end_time": "2020-01-23T04:01:40.530434Z",
     "start_time": "2020-01-23T04:01:39.389933Z"
    }
   },
   "outputs": [
    {
     "data": {
      "image/png": "[encoded data removed]",
      "text/plain": [
       "<Figure size 432x288 with 1 Axes>"
      ]
     },
     "metadata": {
      "needs_background": "light"
     },
     "output_type": "display_data"
    },
    {
     "data": {
      "image/png": "[encoded data removed]",
      "text/plain": [
       "<Figure size 432x288 with 1 Axes>"
      ]
     },
     "metadata": {
      "needs_background": "light"
     },
     "output_type": "display_data"
    }
   ],
   "source": [
    "# Save the Model\n",
    "model.save('all_freezed.h5')\n",
    "\n",
    "# Plot the accuracy and loss curves\n",
    "acc = history.history['accuracy']\n",
    "val_acc = history.history['val_accuracy']\n",
    "loss = history.history['loss']\n",
    "val_loss = history.history['val_loss']\n",
    "\n",
    "epochs = range(len(acc))\n",
    "\n",
    "plt.plot(epochs, acc, 'b', label='Training acc')\n",
    "plt.plot(epochs, val_acc, 'r', label='Validation acc')\n",
    "plt.title('Training and validation accuracy')\n",
    "plt.legend()\n",
    "\n",
    "plt.figure()\n",
    "\n",
    "plt.plot(epochs, loss, 'b', label='Training loss')\n",
    "plt.plot(epochs, val_loss, 'r', label='Validation loss')\n",
    "plt.title('Training and validation loss')\n",
    "plt.legend()\n",
    "\n",
    "plt.show()"
   ]
  }
 ],
 "metadata": {
  "kernelspec": {
   "display_name": "Python 3",
   "language": "python",
   "name": "python3"
  },
  "language_info": {
   "codemirror_mode": {
    "name": "ipython",
    "version": 3
   },
   "file_extension": ".py",
   "mimetype": "text/x-python",
   "name": "python",
   "nbconvert_exporter": "python",
   "pygments_lexer": "ipython3",
   "version": "3.7.4"
  },
  "varInspector": {
   "cols": {
    "lenName": 16,
    "lenType": 16,
    "lenVar": 40
   },
   "kernels_config": {
    "python": {
     "delete_cmd_postfix": "",
     "delete_cmd_prefix": "del ",
     "library": "var_list.py",
     "varRefreshCmd": "print(var_dic_list())"
    },
    "r": {
     "delete_cmd_postfix": ") ",
     "delete_cmd_prefix": "rm(",
     "library": "var_list.r",
     "varRefreshCmd": "cat(var_dic_list()) "
    }
   },
   "types_to_exclude": [
    "module",
    "function",
    "builtin_function_or_method",
    "instance",
    "_Feature"
   ],
   "window_display": false
  }
 },
 "nbformat": 4,
 "nbformat_minor": 2
}
