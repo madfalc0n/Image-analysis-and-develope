{
 "cells": [
  {
   "cell_type": "code",
   "execution_count": 1,
   "metadata": {
    "ExecuteTime": {
     "end_time": "2020-02-21T00:18:18.061670Z",
     "start_time": "2020-02-21T00:18:18.059666Z"
    }
   },
   "outputs": [],
   "source": [
    "from django.db import connection \n",
    "from django.contrib.auth.models import User\n",
    "from myboard import models"
   ]
  },
  {
   "cell_type": "code",
   "execution_count": 2,
   "metadata": {
    "ExecuteTime": {
     "end_time": "2020-02-21T00:18:19.996132Z",
     "start_time": "2020-02-21T00:18:19.993131Z"
    }
   },
   "outputs": [],
   "source": [
    "data = User.objects.all()"
   ]
  },
  {
   "cell_type": "code",
   "execution_count": 3,
   "metadata": {
    "ExecuteTime": {
     "end_time": "2020-02-21T00:18:40.261660Z",
     "start_time": "2020-02-21T00:18:40.218073Z"
    }
   },
   "outputs": [],
   "source": [
    "models.Board??"
   ]
  },
  {
   "cell_type": "code",
   "execution_count": 7,
   "metadata": {
    "ExecuteTime": {
     "end_time": "2020-02-21T00:19:24.301995Z",
     "start_time": "2020-02-21T00:19:24.297992Z"
    }
   },
   "outputs": [
    {
     "data": {
      "text/plain": [
       "{'sql': 'SELECT \"auth_user\".\"id\", \"auth_user\".\"password\", \"auth_user\".\"last_login\", \"auth_user\".\"is_superuser\", \"auth_user\".\"username\", \"auth_user\".\"first_name\", \"auth_user\".\"last_name\", \"auth_user\".\"email\", \"auth_user\".\"is_staff\", \"auth_user\".\"is_active\", \"auth_user\".\"date_joined\" FROM \"auth_user\" LIMIT 21',\n",
       " 'time': '0.000'}"
      ]
     },
     "execution_count": 7,
     "metadata": {},
     "output_type": "execute_result"
    }
   ],
   "source": [
    "connection.queries[-1] "
   ]
  },
  {
   "cell_type": "code",
   "execution_count": 69,
   "metadata": {},
   "outputs": [
    {
     "data": {
      "text/plain": [
       "<RawQuerySet: SELECT max(age ) FROM myapp_user>"
      ]
     },
     "execution_count": 69,
     "metadata": {},
     "output_type": "execute_result"
    }
   ],
   "source": [
    "User.objects.raw('SELECT max(age ) FROM myapp_user')"
   ]
  },
  {
   "cell_type": "code",
   "execution_count": 73,
   "metadata": {},
   "outputs": [
    {
     "name": "stdout",
     "output_type": "stream",
     "text": [
      "30\n"
     ]
    }
   ],
   "source": [
    "cursor = connection.cursor()\n",
    "cursor.execute('SELECT max(age) from myapp_user')\n",
    "max_value = cursor.fetchone()[0]\n",
    "\n",
    "print(max_value)"
   ]
  },
  {
   "cell_type": "code",
   "execution_count": 10,
   "metadata": {
    "ExecuteTime": {
     "end_time": "2020-02-20T23:43:19.116013Z",
     "start_time": "2020-02-20T23:43:19.113022Z"
    }
   },
   "outputs": [],
   "source": [
    "cursor = connection.cursor()\n",
    "cursor.execute('SELECT * from myboard_board')\n",
    "results = cursor.fetchall()"
   ]
  },
  {
   "cell_type": "code",
   "execution_count": 11,
   "metadata": {
    "ExecuteTime": {
     "end_time": "2020-02-20T23:43:21.556048Z",
     "start_time": "2020-02-20T23:43:21.552046Z"
    }
   },
   "outputs": [
    {
     "name": "stdout",
     "output_type": "stream",
     "text": [
      "<class 'list'>\n"
     ]
    }
   ],
   "source": [
    "print(type(results))"
   ]
  },
  {
   "cell_type": "code",
   "execution_count": 12,
   "metadata": {
    "ExecuteTime": {
     "end_time": "2020-02-20T23:43:23.889418Z",
     "start_time": "2020-02-20T23:43:23.880422Z"
    }
   },
   "outputs": [
    {
     "data": {
      "text/plain": [
       "(1,\n",
       " '자동차 검출44343',\n",
       " 'fweew\\r\\n\\r\\nfwef\\r\\newew\\r\\nfwwe\\r\\nefwe\\r\\nf\\r\\newf\\r\\newfewfwefew',\n",
       " datetime.datetime(2020, 2, 19, 5, 8, 56, 774872),\n",
       " 5,\n",
       " None,\n",
       " 'common',\n",
       " 1)"
      ]
     },
     "execution_count": 12,
     "metadata": {},
     "output_type": "execute_result"
    }
   ],
   "source": [
    "results[0]"
   ]
  },
  {
   "cell_type": "code",
   "execution_count": 13,
   "metadata": {
    "ExecuteTime": {
     "end_time": "2020-02-20T23:43:32.213553Z",
     "start_time": "2020-02-20T23:43:32.209504Z"
    }
   },
   "outputs": [
    {
     "name": "stdout",
     "output_type": "stream",
     "text": [
      "(1, '자동차 검출44343', 'fweew\\r\\n\\r\\nfwef\\r\\newew\\r\\nfwwe\\r\\nefwe\\r\\nf\\r\\newf\\r\\newfewfwefew', datetime.datetime(2020, 2, 19, 5, 8, 56, 774872), 5, None, 'common', 1)\n",
      "(2, '32321321', '312312312', datetime.datetime(2020, 2, 19, 7, 39, 27, 299571), 0, None, 'common', 1)\n",
      "(3, '32312323123', '32132133', datetime.datetime(2020, 2, 19, 7, 39, 54, 356455), 0, None, 'common', 1)\n",
      "(4, '32312323123', '32132133', datetime.datetime(2020, 2, 19, 7, 39, 57, 463012), 0, None, 'common', 1)\n",
      "(5, '3231231321', '3213123131231', datetime.datetime(2020, 2, 19, 7, 40, 10, 419637), 0, None, 'common', 1)\n",
      "(6, '2424423424', '4242424\\r\\n24\\r\\n2\\r\\n42\\r\\n42\\r\\n4\\r\\n2', datetime.datetime(2020, 2, 19, 7, 47, 27, 154877), 0, None, 'common', 1)\n",
      "(7, 'nnnbnnnnn', 'nnnnnn', datetime.datetime(2020, 2, 19, 7, 47, 59, 290686), 0, None, 'common', 1)\n",
      "(8, '000000000000', '000000000\\r\\n0\\r\\n0\\r\\n0\\r\\n\\r\\n007777', datetime.datetime(2020, 2, 19, 7, 49, 9, 50042), 2, None, 'data', 1)\n"
     ]
    }
   ],
   "source": [
    "for r in results :\n",
    "    print(r)"
   ]
  },
  {
   "cell_type": "code",
   "execution_count": 14,
   "metadata": {
    "ExecuteTime": {
     "end_time": "2020-02-20T23:43:35.365078Z",
     "start_time": "2020-02-20T23:43:35.360114Z"
    }
   },
   "outputs": [
    {
     "data": {
      "text/plain": [
       "(('id', None, None, None, None, None, None),\n",
       " ('title', None, None, None, None, None, None),\n",
       " ('text', None, None, None, None, None, None),\n",
       " ('created_date', None, None, None, None, None, None),\n",
       " ('cnt', None, None, None, None, None, None),\n",
       " ('image', None, None, None, None, None, None),\n",
       " ('category', None, None, None, None, None, None),\n",
       " ('author_id', None, None, None, None, None, None))"
      ]
     },
     "execution_count": 14,
     "metadata": {},
     "output_type": "execute_result"
    }
   ],
   "source": [
    "cursor.description"
   ]
  },
  {
   "cell_type": "code",
   "execution_count": 31,
   "metadata": {
    "ExecuteTime": {
     "end_time": "2020-02-20T23:51:24.994781Z",
     "start_time": "2020-02-20T23:51:24.990751Z"
    }
   },
   "outputs": [
    {
     "name": "stdout",
     "output_type": "stream",
     "text": [
      "{'a': 1, 'b': 2}\n"
     ]
    }
   ],
   "source": [
    "d = dict(zip(['a', 'b'],  (1,2) ))\n",
    "print(d)"
   ]
  },
  {
   "cell_type": "code",
   "execution_count": 16,
   "metadata": {
    "ExecuteTime": {
     "end_time": "2020-02-20T23:44:38.518424Z",
     "start_time": "2020-02-20T23:44:38.512424Z"
    }
   },
   "outputs": [
    {
     "name": "stdout",
     "output_type": "stream",
     "text": [
      "[{'id': 1, 'title': '자동차 검출44343', 'text': 'fweew\\r\\n\\r\\nfwef\\r\\newew\\r\\nfwwe\\r\\nefwe\\r\\nf\\r\\newf\\r\\newfewfwefew', 'created_date': datetime.datetime(2020, 2, 19, 5, 8, 56, 774872), 'cnt': 5, 'image': None, 'category': 'common', 'author_id': 1}, {'id': 2, 'title': '32321321', 'text': '312312312', 'created_date': datetime.datetime(2020, 2, 19, 7, 39, 27, 299571), 'cnt': 0, 'image': None, 'category': 'common', 'author_id': 1}, {'id': 3, 'title': '32312323123', 'text': '32132133', 'created_date': datetime.datetime(2020, 2, 19, 7, 39, 54, 356455), 'cnt': 0, 'image': None, 'category': 'common', 'author_id': 1}, {'id': 4, 'title': '32312323123', 'text': '32132133', 'created_date': datetime.datetime(2020, 2, 19, 7, 39, 57, 463012), 'cnt': 0, 'image': None, 'category': 'common', 'author_id': 1}, {'id': 5, 'title': '3231231321', 'text': '3213123131231', 'created_date': datetime.datetime(2020, 2, 19, 7, 40, 10, 419637), 'cnt': 0, 'image': None, 'category': 'common', 'author_id': 1}, {'id': 6, 'title': '2424423424', 'text': '4242424\\r\\n24\\r\\n2\\r\\n42\\r\\n42\\r\\n4\\r\\n2', 'created_date': datetime.datetime(2020, 2, 19, 7, 47, 27, 154877), 'cnt': 0, 'image': None, 'category': 'common', 'author_id': 1}, {'id': 7, 'title': 'nnnbnnnnn', 'text': 'nnnnnn', 'created_date': datetime.datetime(2020, 2, 19, 7, 47, 59, 290686), 'cnt': 0, 'image': None, 'category': 'common', 'author_id': 1}, {'id': 8, 'title': '000000000000', 'text': '000000000\\r\\n0\\r\\n0\\r\\n0\\r\\n\\r\\n007777', 'created_date': datetime.datetime(2020, 2, 19, 7, 49, 9, 50042), 'cnt': 2, 'image': None, 'category': 'data', 'author_id': 1}]\n"
     ]
    }
   ],
   "source": [
    "def dictfetchall(cursor):    \n",
    "    desc = cursor.description\n",
    "    return [\n",
    "        dict(zip([col[0] for col in desc], row))\n",
    "        for row in cursor.fetchall()\n",
    "    ]\n",
    "\n",
    "cursor = connection.cursor()\n",
    "cursor.execute('SELECT * from myboard_board')\n",
    "d = dictfetchall(cursor)\n",
    "print(d)"
   ]
  },
  {
   "cell_type": "code",
   "execution_count": 30,
   "metadata": {},
   "outputs": [],
   "source": [
    "from django.test import RequestFactory\n",
    "\n",
    "rf =  RequestFactory()\n",
    "url = '/detailpost?pk=14'\n",
    "my_request = rf.get(url)"
   ]
  },
  {
   "cell_type": "code",
   "execution_count": 31,
   "metadata": {},
   "outputs": [],
   "source": [
    "from myapp import views\n",
    "response = views.index(my_request)"
   ]
  },
  {
   "cell_type": "code",
   "execution_count": 34,
   "metadata": {},
   "outputs": [
    {
     "name": "stdout",
     "output_type": "stream",
     "text": [
      "<class 'django.http.response.HttpResponse'>\n"
     ]
    }
   ],
   "source": [
    "print(type(response))\n"
   ]
  },
  {
   "cell_type": "code",
   "execution_count": 37,
   "metadata": {},
   "outputs": [
    {
     "name": "stdout",
     "output_type": "stream",
     "text": [
      "tempalte h1^^^\n",
      "\n",
      "<form action=/myformviewg2 method=post >\n",
      "  <input type='hidden' name='csrfmiddlewaretoken' value='BzH4lfVleGfHTJTWJ59dlfYXZrtviUNfENNwqbhcM7mI9XD1VhOpJgFB3DeaIvA4' />\n",
      "  <table>\n",
      "  <tr><th><label for=\"id_age\">나이:</label></th><td><input type=\"text\" name=\"age\" maxlength=\"3\" required id=\"id_age\" /></td></tr>\n",
      "<tr><th><label for=\"id_memo\">메모:</label></th><td><textarea name=\"memo\" cols=\"40\" rows=\"10\" required id=\"id_memo\">\n",
      "</textarea></td></tr>\n",
      "<tr><th><label for=\"id_hobby\">취미:</label></th><td><input type=\"text\" name=\"hobby\" maxlength=\"4\" required id=\"id_hobby\" /></td></tr>\n",
      "  </table>\n",
      "  <input type=submit name=id value=\"ok\">\n",
      "</form>\n",
      "\n"
     ]
    }
   ],
   "source": [
    "print(response.content.decode())"
   ]
  },
  {
   "cell_type": "code",
   "execution_count": 46,
   "metadata": {
    "ExecuteTime": {
     "end_time": "2020-02-21T00:01:42.042394Z",
     "start_time": "2020-02-21T00:01:42.029437Z"
    }
   },
   "outputs": [
    {
     "name": "stdout",
     "output_type": "stream",
     "text": [
      "a~~~\n"
     ]
    },
    {
     "ename": "NameError",
     "evalue": "name 'fun' is not defined",
     "output_type": "error",
     "traceback": [
      "\u001b[1;31m---------------------------------------------------------------------------\u001b[0m",
      "\u001b[1;31mNameError\u001b[0m                                 Traceback (most recent call last)",
      "\u001b[1;32m<ipython-input-46-808058710ede>\u001b[0m in \u001b[0;36m<module>\u001b[1;34m\u001b[0m\n\u001b[0;32m     23\u001b[0m \u001b[0ma\u001b[0m \u001b[1;33m=\u001b[0m \u001b[1;33m{\u001b[0m\u001b[1;34m\"1\"\u001b[0m\u001b[1;33m:\u001b[0m\u001b[1;34m\"2\"\u001b[0m\u001b[1;33m}\u001b[0m\u001b[1;33m\u001b[0m\u001b[1;33m\u001b[0m\u001b[0m\n\u001b[0;32m     24\u001b[0m \u001b[0mq\u001b[0m \u001b[1;33m=\u001b[0m \u001b[0mB\u001b[0m\u001b[1;33m(\u001b[0m\u001b[1;33m)\u001b[0m\u001b[1;33m\u001b[0m\u001b[1;33m\u001b[0m\u001b[0m\n\u001b[1;32m---> 25\u001b[1;33m \u001b[0mq\u001b[0m\u001b[1;33m.\u001b[0m\u001b[0mas_view\u001b[0m\u001b[1;33m(\u001b[0m\u001b[0ma\u001b[0m\u001b[1;33m)\u001b[0m\u001b[1;33m\u001b[0m\u001b[1;33m\u001b[0m\u001b[0m\n\u001b[0m",
      "\u001b[1;32m<ipython-input-46-808058710ede>\u001b[0m in \u001b[0;36mas_view\u001b[1;34m(self, request)\u001b[0m\n\u001b[0;32m      8\u001b[0m \u001b[1;33m\u001b[0m\u001b[0m\n\u001b[0;32m      9\u001b[0m     \u001b[1;32mdef\u001b[0m \u001b[0mas_view\u001b[0m\u001b[1;33m(\u001b[0m\u001b[0mself\u001b[0m\u001b[1;33m,\u001b[0m \u001b[0mrequest\u001b[0m\u001b[1;33m)\u001b[0m\u001b[1;33m:\u001b[0m\u001b[1;33m\u001b[0m\u001b[1;33m\u001b[0m\u001b[0m\n\u001b[1;32m---> 10\u001b[1;33m         \u001b[0mfun\u001b[0m\u001b[1;33m(\u001b[0m\u001b[0mself\u001b[0m\u001b[1;33m)\u001b[0m\u001b[1;33m\u001b[0m\u001b[1;33m\u001b[0m\u001b[0m\n\u001b[0m\u001b[0;32m     11\u001b[0m         \u001b[0mprint\u001b[0m\u001b[1;33m(\u001b[0m\u001b[1;34m\"view~~~\"\u001b[0m\u001b[1;33m)\u001b[0m\u001b[1;33m\u001b[0m\u001b[1;33m\u001b[0m\u001b[0m\n\u001b[0;32m     12\u001b[0m \u001b[1;33m\u001b[0m\u001b[0m\n",
      "\u001b[1;31mNameError\u001b[0m: name 'fun' is not defined"
     ]
    }
   ],
   "source": [
    "class B :\n",
    "    def fun(self) :\n",
    "        print(\"a~~~\")\n",
    "        \n",
    "    def index(self, request):\n",
    "        print(\"aaaa\")       \n",
    "        \n",
    "        \n",
    "    def as_view(self, request):\n",
    "        fun(self)\n",
    "        print(\"view~~~\")        \n",
    "        \n",
    "        \n",
    "        \n",
    "class C(B) :\n",
    "    def index(self, req) :\n",
    "        print(\"^^^^^^\")\n",
    "    None\n",
    "        \n",
    "d = C()\n",
    "d.fun()\n",
    "\n",
    "a = {\"1\":\"2\"}\n",
    "q = B()\n",
    "q.as_view(a)"
   ]
  }
 ],
 "metadata": {
  "kernelspec": {
   "display_name": "Django Shell-Plus",
   "language": "python",
   "name": "django_extensions"
  },
  "language_info": {
   "codemirror_mode": {
    "name": "ipython",
    "version": 3
   },
   "file_extension": ".py",
   "mimetype": "text/x-python",
   "name": "python",
   "nbconvert_exporter": "python",
   "pygments_lexer": "ipython3",
   "version": "3.7.4"
  },
  "varInspector": {
   "cols": {
    "lenName": 16,
    "lenType": 16,
    "lenVar": 40
   },
   "kernels_config": {
    "python": {
     "delete_cmd_postfix": "",
     "delete_cmd_prefix": "del ",
     "library": "var_list.py",
     "varRefreshCmd": "print(var_dic_list())"
    },
    "r": {
     "delete_cmd_postfix": ") ",
     "delete_cmd_prefix": "rm(",
     "library": "var_list.r",
     "varRefreshCmd": "cat(var_dic_list()) "
    }
   },
   "types_to_exclude": [
    "module",
    "function",
    "builtin_function_or_method",
    "instance",
    "_Feature"
   ],
   "window_display": false
  }
 },
 "nbformat": 4,
 "nbformat_minor": 2
}
