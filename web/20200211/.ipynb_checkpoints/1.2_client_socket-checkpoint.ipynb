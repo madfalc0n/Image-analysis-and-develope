{
 "cells": [
  {
   "cell_type": "code",
   "execution_count": 4,
   "metadata": {
    "ExecuteTime": {
     "end_time": "2020-02-11T01:13:40.444502Z",
     "start_time": "2020-02-11T01:13:40.438564Z"
    }
   },
   "outputs": [
    {
     "name": "stdout",
     "output_type": "stream",
     "text": [
      "서버 접속 성공\n",
      "send message\n",
      "hello\n"
     ]
    }
   ],
   "source": [
    "import socket\n",
    "\n",
    "sock = socket.socket(socket.AF_INET, socket.SOCK_STREAM)\n",
    "\n",
    "sock.connect(('localhost', 12345))\n",
    "print(\"서버 접속 성공\")\n",
    "sock.send('hello'.encode()) #서버에게 'hello'\n",
    "print(\"send message\")\n",
    "\n",
    "\n",
    "\n",
    "data = sock.recv(65535) #byte 형식으로 데이터를 받으므로 디코딩이 필요하다\n",
    "print(\"서버로 부터 데이터 수신: \"data.decode())\n",
    "print(\"종료\")"
   ]
  },
  {
   "cell_type": "code",
   "execution_count": null,
   "metadata": {},
   "outputs": [],
   "source": []
  }
 ],
 "metadata": {
  "kernelspec": {
   "display_name": "Python 3",
   "language": "python",
   "name": "python3"
  },
  "language_info": {
   "codemirror_mode": {
    "name": "ipython",
    "version": 3
   },
   "file_extension": ".py",
   "mimetype": "text/x-python",
   "name": "python",
   "nbconvert_exporter": "python",
   "pygments_lexer": "ipython3",
   "version": "3.7.4"
  }
 },
 "nbformat": 4,
 "nbformat_minor": 2
}
