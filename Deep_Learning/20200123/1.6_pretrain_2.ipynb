{
 "cells": [
  {
   "cell_type": "code",
   "execution_count": 3,
   "metadata": {
    "ExecuteTime": {
     "end_time": "2020-01-23T06:45:10.599680Z",
     "start_time": "2020-01-23T06:45:10.511163Z"
    }
   },
   "outputs": [],
   "source": [
    "import numpy as np\n",
    "import matplotlib.pyplot as plt\n",
    "%matplotlib inline\n",
    "import keras\n",
    "from keras.preprocessing.image import ImageDataGenerator, load_img"
   ]
  },
  {
   "cell_type": "code",
   "execution_count": 4,
   "metadata": {
    "ExecuteTime": {
     "end_time": "2020-01-23T06:45:25.819479Z",
     "start_time": "2020-01-23T06:45:25.802290Z"
    }
   },
   "outputs": [],
   "source": [
    "train_dir = 'clean-dataset/train'\n",
    "validation_dir = 'clean-dataset/validation'\n",
    "image_size = 224"
   ]
  },
  {
   "cell_type": "code",
   "execution_count": 10,
   "metadata": {
    "ExecuteTime": {
     "end_time": "2020-01-23T06:56:07.535663Z",
     "start_time": "2020-01-23T06:56:07.304864Z"
    }
   },
   "outputs": [
    {
     "name": "stdout",
     "output_type": "stream",
     "text": [
      "<keras.engine.input_layer.InputLayer object at 0x000001208029E550> False\n",
      "<keras.layers.convolutional.Conv2D object at 0x000001208029E0F0> False\n",
      "<keras.layers.convolutional.Conv2D object at 0x000001208029E470> False\n",
      "<keras.layers.pooling.MaxPooling2D object at 0x000001208029E0B8> False\n",
      "<keras.layers.convolutional.Conv2D object at 0x00000120DE369CC0> False\n",
      "<keras.layers.convolutional.Conv2D object at 0x00000120804C9400> False\n",
      "<keras.layers.pooling.MaxPooling2D object at 0x00000120804ACF98> False\n",
      "<keras.layers.convolutional.Conv2D object at 0x00000120803C80B8> False\n",
      "<keras.layers.convolutional.Conv2D object at 0x00000120803B2278> False\n",
      "<keras.layers.convolutional.Conv2D object at 0x0000012080395278> False\n",
      "<keras.layers.pooling.MaxPooling2D object at 0x00000120804B7198> False\n",
      "<keras.layers.convolutional.Conv2D object at 0x00000120804B7320> False\n",
      "<keras.layers.convolutional.Conv2D object at 0x00000120804CE2B0> False\n",
      "<keras.layers.convolutional.Conv2D object at 0x00000120804CEDD8> False\n",
      "<keras.layers.pooling.MaxPooling2D object at 0x00000120804E6898> False\n",
      "<keras.layers.convolutional.Conv2D object at 0x00000120804E66D8> False\n",
      "<keras.layers.convolutional.Conv2D object at 0x00000120804F08D0> False\n",
      "<keras.layers.convolutional.Conv2D object at 0x00000120804F0C18> False\n",
      "<keras.layers.pooling.MaxPooling2D object at 0x00000120804F8518> False\n"
     ]
    }
   ],
   "source": [
    "from keras.applications import VGG16\n",
    "\n",
    "#Load the VGG model\n",
    "vgg_conv = VGG16(weights='imagenet', include_top=False, input_shape=(image_size, image_size, 3))\n",
    "\n",
    "# Freeze all the layers\n",
    "for layer in vgg_conv.layers[:]:\n",
    "#for layer in vgg_conv.layers[:-4]: 0부터 ~ 뒤에서 -4 번까지 만 학습 안하도록 설정, 뒤 4개는 학습 함 \n",
    "    layer.trainable = False  #모든 레이어 학습 안되도록 설정\n",
    "\n",
    "# Check the trainable status of the individual layers\n",
    "for layer in vgg_conv.layers:\n",
    "    print(layer, layer.trainable)"
   ]
  },
  {
   "cell_type": "code",
   "execution_count": 11,
   "metadata": {
    "ExecuteTime": {
     "end_time": "2020-01-23T06:56:12.218040Z",
     "start_time": "2020-01-23T06:56:12.161816Z"
    }
   },
   "outputs": [
    {
     "name": "stdout",
     "output_type": "stream",
     "text": [
      "Model: \"sequential_2\"\n",
      "_________________________________________________________________\n",
      "Layer (type)                 Output Shape              Param #   \n",
      "=================================================================\n",
      "vgg16 (Model)                (None, 7, 7, 512)         14714688  \n",
      "_________________________________________________________________\n",
      "flatten_2 (Flatten)          (None, 25088)             0         \n",
      "_________________________________________________________________\n",
      "dense_3 (Dense)              (None, 64)                1605696   \n",
      "_________________________________________________________________\n",
      "dropout_2 (Dropout)          (None, 64)                0         \n",
      "_________________________________________________________________\n",
      "dense_4 (Dense)              (None, 3)                 195       \n",
      "=================================================================\n",
      "Total params: 16,320,579\n",
      "Trainable params: 1,605,891\n",
      "Non-trainable params: 14,714,688\n",
      "_________________________________________________________________\n"
     ]
    }
   ],
   "source": [
    "from keras import models\n",
    "from keras import layers\n",
    "from keras import optimizers\n",
    "\n",
    "# Create the model\n",
    "model = models.Sequential()\n",
    "\n",
    "# Add the vgg convolutional base model\n",
    "model.add(vgg_conv) ##시퀀셜 네트웍이면 붙일 수 있다.\n",
    "\n",
    "# Add new layers\n",
    "model.add(layers.Flatten())\n",
    "model.add(layers.Dense(64, activation='relu'))\n",
    "model.add(layers.Dropout(0.5))\n",
    "model.add(layers.Dense(3, activation='softmax'))\n",
    "\n",
    "# Show a summary of the model. Check the number of trainable parameters\n",
    "model.summary()"
   ]
  },
  {
   "cell_type": "markdown",
   "metadata": {},
   "source": [
    "##  1. Example"
   ]
  },
  {
   "cell_type": "code",
   "execution_count": 12,
   "metadata": {
    "ExecuteTime": {
     "end_time": "2020-01-23T06:56:15.334031Z",
     "start_time": "2020-01-23T06:56:15.050736Z"
    }
   },
   "outputs": [
    {
     "name": "stdout",
     "output_type": "stream",
     "text": [
      "Found 600 images belonging to 3 classes.\n",
      "Found 150 images belonging to 3 classes.\n"
     ]
    }
   ],
   "source": [
    "# No Data augmentation \n",
    "train_datagen = ImageDataGenerator(rescale=1./255)\n",
    "validation_datagen = ImageDataGenerator(rescale=1./255)\n",
    "\n",
    "# Change the batchsize according to your system RAM\n",
    "train_batchsize = 20\n",
    "val_batchsize = 2\n",
    "\n",
    "# Data Generator for Training data\n",
    "train_generator = train_datagen.flow_from_directory(\n",
    "        train_dir,\n",
    "        target_size=(image_size, image_size),\n",
    "        batch_size=train_batchsize,\n",
    "        class_mode='categorical')\n",
    "\n",
    "# Data Generator for Validation data\n",
    "validation_generator = validation_datagen.flow_from_directory(\n",
    "        validation_dir,\n",
    "        target_size=(image_size, image_size),\n",
    "        batch_size=val_batchsize,\n",
    "        class_mode='categorical',\n",
    "        shuffle=False)\n",
    "\n",
    "# Compile the model\n",
    "model.compile(loss='categorical_crossentropy',\n",
    "              optimizer=\"adam\",\n",
    "              metrics=['accuracy'])"
   ]
  },
  {
   "cell_type": "code",
   "execution_count": 13,
   "metadata": {
    "ExecuteTime": {
     "end_time": "2020-01-23T07:01:05.484232Z",
     "start_time": "2020-01-23T06:56:16.922593Z"
    }
   },
   "outputs": [
    {
     "name": "stdout",
     "output_type": "stream",
     "text": [
      "Epoch 1/5\n",
      "30/30 [==============================] - 55s 2s/step - loss: 1.6532 - accuracy: 0.4617 - val_loss: 0.5817 - val_accuracy: 0.7133\n",
      "Epoch 2/5\n",
      "30/30 [==============================] - 58s 2s/step - loss: 0.7229 - accuracy: 0.6200 - val_loss: 0.6171 - val_accuracy: 0.7733\n",
      "Epoch 3/5\n",
      "30/30 [==============================] - 59s 2s/step - loss: 0.6496 - accuracy: 0.6833 - val_loss: 0.3609 - val_accuracy: 0.8600\n",
      "Epoch 4/5\n",
      "30/30 [==============================] - 57s 2s/step - loss: 0.5281 - accuracy: 0.7183 - val_loss: 0.7150 - val_accuracy: 0.8000\n",
      "Epoch 5/5\n",
      "30/30 [==============================] - 59s 2s/step - loss: 0.5696 - accuracy: 0.7133 - val_loss: 0.6078 - val_accuracy: 0.8933\n"
     ]
    }
   ],
   "source": [
    "# Train the Model\n",
    "history = model.fit_generator(\n",
    "      train_generator,\n",
    "      steps_per_epoch=train_generator.samples/train_generator.batch_size ,\n",
    "      epochs=50,\n",
    "      validation_data=validation_generator,\n",
    "      validation_steps=validation_generator.samples/validation_generator.batch_size,\n",
    "      verbose=1)"
   ]
  },
  {
   "cell_type": "code",
   "execution_count": 14,
   "metadata": {
    "ExecuteTime": {
     "end_time": "2020-01-23T07:01:08.510703Z",
     "start_time": "2020-01-23T07:01:08.179510Z"
    }
   },
   "outputs": [
    {
     "data": {
      "image/png": "[encoded data removed]",
      "text/plain": [
       "<Figure size 432x288 with 1 Axes>"
      ]
     },
     "metadata": {
      "needs_background": "light"
     },
     "output_type": "display_data"
    },
    {
     "data": {
      "image/png": "[encoded data removed]",
      "text/plain": [
       "<Figure size 432x288 with 1 Axes>"
      ]
     },
     "metadata": {
      "needs_background": "light"
     },
     "output_type": "display_data"
    }
   ],
   "source": [
    "# Save the Model\n",
    "model.save('all_freezed.h5')\n",
    "\n",
    "# Plot the accuracy and loss curves\n",
    "acc = history.history['accuracy']\n",
    "val_acc = history.history['val_accuracy']\n",
    "loss = history.history['loss']\n",
    "val_loss = history.history['val_loss']\n",
    "\n",
    "epochs = range(len(acc))\n",
    "\n",
    "plt.plot(epochs, acc, 'b', label='Training acc')\n",
    "plt.plot(epochs, val_acc, 'r', label='Validation acc')\n",
    "plt.title('Training and validation accuracy')\n",
    "plt.legend()\n",
    "\n",
    "plt.figure()\n",
    "\n",
    "plt.plot(epochs, loss, 'b', label='Training loss')\n",
    "plt.plot(epochs, val_loss, 'r', label='Validation loss')\n",
    "plt.title('Training and validation loss')\n",
    "plt.legend()\n",
    "\n",
    "plt.show()"
   ]
  },
  {
   "cell_type": "code",
   "execution_count": null,
   "metadata": {},
   "outputs": [],
   "source": []
  }
 ],
 "metadata": {
  "kernelspec": {
   "display_name": "Python 3",
   "language": "python",
   "name": "python3"
  },
  "language_info": {
   "codemirror_mode": {
    "name": "ipython",
    "version": 3
   },
   "file_extension": ".py",
   "mimetype": "text/x-python",
   "name": "python",
   "nbconvert_exporter": "python",
   "pygments_lexer": "ipython3",
   "version": "3.6.10"
  },
  "toc": {
   "base_numbering": 1,
   "nav_menu": {},
   "number_sections": false,
   "sideBar": true,
   "skip_h1_title": false,
   "title_cell": "Table of Contents",
   "title_sidebar": "Contents",
   "toc_cell": false,
   "toc_position": {},
   "toc_section_display": true,
   "toc_window_display": false
  },
  "varInspector": {
   "cols": {
    "lenName": 16,
    "lenType": 16,
    "lenVar": 40
   },
   "kernels_config": {
    "python": {
     "delete_cmd_postfix": "",
     "delete_cmd_prefix": "del ",
     "library": "var_list.py",
     "varRefreshCmd": "print(var_dic_list())"
    },
    "r": {
     "delete_cmd_postfix": ") ",
     "delete_cmd_prefix": "rm(",
     "library": "var_list.r",
     "varRefreshCmd": "cat(var_dic_list()) "
    }
   },
   "types_to_exclude": [
    "module",
    "function",
    "builtin_function_or_method",
    "instance",
    "_Feature"
   ],
   "window_display": false
  }
 },
 "nbformat": 4,
 "nbformat_minor": 2
}
