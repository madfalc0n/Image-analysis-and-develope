{
 "cells": [
  {
   "cell_type": "markdown",
   "metadata": {},
   "source": [
    "## datas 압축파일을 받아서  '경기도인구데이터'.csv파일을 이용하여 다음 내용을 파이썬  numpy라이브러리를 사용해서 결과를 출력하세요\n",
    "1. 파일 내용을 읽은 후 상위 5개 데이터 확인\n",
    "2. 배열 객체의 크기 확인 \n",
    "3. 중복 지역 존재 여부 확인  \n",
    "4. 2017년 수원시 인구의 합\n",
    "5. 2017년 인구가 50만이상이 지역 출력\n",
    "6. 2017년 경기도 전체 인구의 시별 인구 평균  \n"
   ]
  },
  {
   "cell_type": "code",
   "execution_count": 1,
   "metadata": {},
   "outputs": [],
   "source": [
    "\n",
    "import pandas as pd\n",
    "import numpy as np"
   ]
  },
  {
   "cell_type": "code",
   "execution_count": 9,
   "metadata": {},
   "outputs": [],
   "source": [
    "df = pd.read_csv(\"C:/Users/student/KMH/Image-analysis-and-develope/python/20191216/datas/datas/경기도인구데이터.csv\", encoding=\"cp949\")"
   ]
  },
  {
   "cell_type": "code",
   "execution_count": 11,
   "metadata": {},
   "outputs": [
    {
     "data": {
      "text/plain": [
       "구분      object\n",
       "2007     int64\n",
       "2008     int64\n",
       "2009     int64\n",
       "2010     int64\n",
       "2011     int64\n",
       "2012     int64\n",
       "2013     int64\n",
       "2014     int64\n",
       "2015     int64\n",
       "2016     int64\n",
       "2017     int64\n",
       "dtype: object"
      ]
     },
     "execution_count": 11,
     "metadata": {},
     "output_type": "execute_result"
    }
   ],
   "source": [
    "df.dtypes"
   ]
  },
  {
   "cell_type": "markdown",
   "metadata": {},
   "source": [
    "## 1. 파일 내용을 읽은 후 상위 5개 데이터 확인"
   ]
  },
  {
   "cell_type": "code",
   "execution_count": 12,
   "metadata": {},
   "outputs": [
    {
     "data": {
      "text/html": [
       "<div>\n",
       "<style scoped>\n",
       "    .dataframe tbody tr th:only-of-type {\n",
       "        vertical-align: middle;\n",
       "    }\n",
       "\n",
       "    .dataframe tbody tr th {\n",
       "        vertical-align: top;\n",
       "    }\n",
       "\n",
       "    .dataframe thead th {\n",
       "        text-align: right;\n",
       "    }\n",
       "</style>\n",
       "<table border=\"1\" class=\"dataframe\">\n",
       "  <thead>\n",
       "    <tr style=\"text-align: right;\">\n",
       "      <th></th>\n",
       "      <th>구분</th>\n",
       "      <th>2007</th>\n",
       "      <th>2008</th>\n",
       "      <th>2009</th>\n",
       "      <th>2010</th>\n",
       "      <th>2011</th>\n",
       "      <th>2012</th>\n",
       "      <th>2013</th>\n",
       "      <th>2014</th>\n",
       "      <th>2015</th>\n",
       "      <th>2016</th>\n",
       "      <th>2017</th>\n",
       "    </tr>\n",
       "  </thead>\n",
       "  <tbody>\n",
       "    <tr>\n",
       "      <td>0</td>\n",
       "      <td>수원시장안구</td>\n",
       "      <td>287474</td>\n",
       "      <td>285803</td>\n",
       "      <td>290798</td>\n",
       "      <td>293692</td>\n",
       "      <td>290999</td>\n",
       "      <td>291757</td>\n",
       "      <td>300908</td>\n",
       "      <td>301196</td>\n",
       "      <td>299016</td>\n",
       "      <td>296479</td>\n",
       "      <td>293828</td>\n",
       "    </tr>\n",
       "    <tr>\n",
       "      <td>1</td>\n",
       "      <td>수원시권선구</td>\n",
       "      <td>310553</td>\n",
       "      <td>308177</td>\n",
       "      <td>304097</td>\n",
       "      <td>306783</td>\n",
       "      <td>321176</td>\n",
       "      <td>332633</td>\n",
       "      <td>331773</td>\n",
       "      <td>339835</td>\n",
       "      <td>351053</td>\n",
       "      <td>358393</td>\n",
       "      <td>365653</td>\n",
       "    </tr>\n",
       "    <tr>\n",
       "      <td>2</td>\n",
       "      <td>수원시팔달구</td>\n",
       "      <td>216945</td>\n",
       "      <td>213235</td>\n",
       "      <td>219833</td>\n",
       "      <td>216503</td>\n",
       "      <td>209772</td>\n",
       "      <td>206794</td>\n",
       "      <td>204805</td>\n",
       "      <td>203479</td>\n",
       "      <td>199180</td>\n",
       "      <td>198515</td>\n",
       "      <td>193311</td>\n",
       "    </tr>\n",
       "    <tr>\n",
       "      <td>3</td>\n",
       "      <td>수원시영통구</td>\n",
       "      <td>252730</td>\n",
       "      <td>260210</td>\n",
       "      <td>258421</td>\n",
       "      <td>260557</td>\n",
       "      <td>266542</td>\n",
       "      <td>289074</td>\n",
       "      <td>310671</td>\n",
       "      <td>329718</td>\n",
       "      <td>335375</td>\n",
       "      <td>340654</td>\n",
       "      <td>349836</td>\n",
       "    </tr>\n",
       "    <tr>\n",
       "      <td>4</td>\n",
       "      <td>성남시수정구</td>\n",
       "      <td>256744</td>\n",
       "      <td>248452</td>\n",
       "      <td>242161</td>\n",
       "      <td>241070</td>\n",
       "      <td>236123</td>\n",
       "      <td>233997</td>\n",
       "      <td>228167</td>\n",
       "      <td>223539</td>\n",
       "      <td>219531</td>\n",
       "      <td>232841</td>\n",
       "      <td>236932</td>\n",
       "    </tr>\n",
       "  </tbody>\n",
       "</table>\n",
       "</div>"
      ],
      "text/plain": [
       "       구분    2007    2008    2009    2010    2011    2012    2013    2014  \\\n",
       "0  수원시장안구  287474  285803  290798  293692  290999  291757  300908  301196   \n",
       "1  수원시권선구  310553  308177  304097  306783  321176  332633  331773  339835   \n",
       "2  수원시팔달구  216945  213235  219833  216503  209772  206794  204805  203479   \n",
       "3  수원시영통구  252730  260210  258421  260557  266542  289074  310671  329718   \n",
       "4  성남시수정구  256744  248452  242161  241070  236123  233997  228167  223539   \n",
       "\n",
       "     2015    2016    2017  \n",
       "0  299016  296479  293828  \n",
       "1  351053  358393  365653  \n",
       "2  199180  198515  193311  \n",
       "3  335375  340654  349836  \n",
       "4  219531  232841  236932  "
      ]
     },
     "execution_count": 12,
     "metadata": {},
     "output_type": "execute_result"
    }
   ],
   "source": [
    "df.head(5)"
   ]
  },
  {
   "cell_type": "markdown",
   "metadata": {},
   "source": [
    "## 2. 배열 객체의 크기 확인"
   ]
  },
  {
   "cell_type": "code",
   "execution_count": 13,
   "metadata": {},
   "outputs": [
    {
     "data": {
      "text/plain": [
       "(44, 12)"
      ]
     },
     "execution_count": 13,
     "metadata": {},
     "output_type": "execute_result"
    }
   ],
   "source": [
    "df.shape"
   ]
  },
  {
   "cell_type": "markdown",
   "metadata": {},
   "source": [
    "## 3. 중복 지역 존재 여부 확인"
   ]
  },
  {
   "cell_type": "code",
   "execution_count": 63,
   "metadata": {},
   "outputs": [
    {
     "data": {
      "text/plain": [
       "False"
      ]
     },
     "execution_count": 63,
     "metadata": {},
     "output_type": "execute_result"
    }
   ],
   "source": [
    "#중복 지역은 없다.\n",
    "any(df['구분'].duplicated()) #any는 True가 하나 나와도 True로 반환"
   ]
  },
  {
   "cell_type": "markdown",
   "metadata": {},
   "source": [
    "## 4. 2017년 수원시 인구의 합"
   ]
  },
  {
   "cell_type": "code",
   "execution_count": 45,
   "metadata": {},
   "outputs": [
    {
     "name": "stdout",
     "output_type": "stream",
     "text": [
      "수원시장안구 293828\n",
      "수원시권선구 365653\n",
      "수원시팔달구 193311\n",
      "수원시영통구 349836\n",
      "2017년 수원시 인구의 합:  1202628\n"
     ]
    }
   ],
   "source": [
    "pop_sum = 0\n",
    "for i in range(len(df)):\n",
    "    if df.loc[ i,'구분'].startswith('수원시'):\n",
    "        print(df.loc[ i,'구분'] , df.loc[i,'2017'])\n",
    "        pop_sum += df.loc[i,'2017']\n",
    "    \n",
    "print(\"2017년 수원시 인구의 합: \",pop_sum) "
   ]
  },
  {
   "cell_type": "markdown",
   "metadata": {},
   "source": [
    "## 5. 2017년 인구가 50만이상이 지역 출력"
   ]
  },
  {
   "cell_type": "code",
   "execution_count": 49,
   "metadata": {},
   "outputs": [
    {
     "name": "stdout",
     "output_type": "stream",
     "text": [
      "성남시분당구 인구수:  500212\n",
      "남양주시 인구수:  665321\n",
      "화성시 인구수:  691086\n"
     ]
    }
   ],
   "source": [
    "for i in range(len(df)):\n",
    "    if df.loc[i,'2017'] > 500000:\n",
    "        print(df.loc[ i,'구분'] , \"인구수: \" ,df.loc[i,'2017'])"
   ]
  },
  {
   "cell_type": "markdown",
   "metadata": {},
   "source": [
    "## 6. 2017년 경기도 전체 인구의 시별 인구 평균"
   ]
  },
  {
   "cell_type": "code",
   "execution_count": 70,
   "metadata": {
    "scrolled": true
   },
   "outputs": [
    {
     "data": {
      "text/plain": [
       "{'수원시장안구': 0,\n",
       " '수원시권선구': 0,\n",
       " '수원시팔달구': 0,\n",
       " '수원시영통구': 0,\n",
       " '성남시수정구': 0,\n",
       " '성남시중원구': 0,\n",
       " '성남시분당구': 0,\n",
       " '의정부시': 0,\n",
       " '안양시만안구': 0,\n",
       " '안양시동안구': 0,\n",
       " '부천시원미구': 0,\n",
       " '부천시소사구': 0,\n",
       " '부천시오정구': 0,\n",
       " '광명시': 0,\n",
       " '평택시': 0,\n",
       " '동두천시': 0,\n",
       " '안산시상록구': 0,\n",
       " '안산시단원구': 0,\n",
       " '고양시덕양구': 0,\n",
       " '고양시일산동구': 0,\n",
       " '고양시일산서구': 0,\n",
       " '과천시': 0,\n",
       " '구리시': 0,\n",
       " '남양주시': 0,\n",
       " '오산시': 0,\n",
       " '시흥시': 0,\n",
       " '군포시': 0,\n",
       " '의왕시': 0,\n",
       " '하남시': 0,\n",
       " '용인시처인구': 0,\n",
       " '용인시기흥구': 0,\n",
       " '용인시수지구': 0,\n",
       " '파주시': 0,\n",
       " '이천시': 0,\n",
       " '안성시': 0,\n",
       " '김포시': 0,\n",
       " '화성시': 0,\n",
       " '광주시': 0,\n",
       " '양주시': 0,\n",
       " '포천시': 0,\n",
       " '여주시': 0,\n",
       " '연천군': 0,\n",
       " '가평군': 0,\n",
       " '양평군': 0}"
      ]
     },
     "execution_count": 70,
     "metadata": {},
     "output_type": "execute_result"
    }
   ],
   "source": [
    "#print(np.mean(df.loc[: , '2017']))\n",
    "dict_list = {}\n",
    "sum_v = 0\n",
    "for i in range(len(df)):\n",
    "    temp_str = df.loc[i,'구분']\n",
    "    \n",
    "    dict_list[df.loc[i,'구분']] = 0\n",
    "    \n",
    "    \n",
    "    for j in range(len(df)):\n",
    "        \n",
    "        dict_list[df.loc[j,'구분']] += df.loc[j,'2017']\n",
    "\n",
    "\n",
    "dict_list\n"
   ]
  },
  {
   "cell_type": "code",
   "execution_count": 73,
   "metadata": {},
   "outputs": [
    {
     "data": {
      "text/plain": [
       "2"
      ]
     },
     "execution_count": 73,
     "metadata": {},
     "output_type": "execute_result"
    }
   ],
   "source": [
    "a = '군포시'\n",
    "a.find('시')"
   ]
  }
 ],
 "metadata": {
  "kernelspec": {
   "display_name": "Python 3",
   "language": "python",
   "name": "python3"
  },
  "language_info": {
   "codemirror_mode": {
    "name": "ipython",
    "version": 3
   },
   "file_extension": ".py",
   "mimetype": "text/x-python",
   "name": "python",
   "nbconvert_exporter": "python",
   "pygments_lexer": "ipython3",
   "version": "3.7.4"
  }
 },
 "nbformat": 4,
 "nbformat_minor": 2
}
