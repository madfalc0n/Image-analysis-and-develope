{
 "cells": [
  {
   "cell_type": "code",
   "execution_count": 1,
   "metadata": {
    "ExecuteTime": {
     "end_time": "2020-01-22T01:37:58.389041Z",
     "start_time": "2020-01-22T01:37:56.009308Z"
    }
   },
   "outputs": [
    {
     "name": "stderr",
     "output_type": "stream",
     "text": [
      "Using TensorFlow backend.\n"
     ]
    }
   ],
   "source": [
    "import numpy as np\n",
    "import matplotlib.pyplot as plt\n",
    "\n",
    "#from sklearn import datasets\n",
    "from sklearn.model_selection import train_test_split\n",
    "from keras.utils.np_utils import to_categorical\n",
    "\n",
    "from keras.models import Sequential\n",
    "from keras import optimizers\n",
    "from keras.layers import Dense, Activation, Flatten, Conv2D, MaxPooling2D\n",
    "from keras.layers import BatchNormalization, Dropout\n",
    "import cv2\n",
    "import matplotlib.pyplot as plt\n",
    "\n",
    "import os\n",
    "import sys"
   ]
  },
  {
   "cell_type": "code",
   "execution_count": 127,
   "metadata": {
    "ExecuteTime": {
     "end_time": "2020-01-22T05:00:41.824012Z",
     "start_time": "2020-01-22T05:00:41.789526Z"
    },
    "scrolled": true
   },
   "outputs": [],
   "source": [
    "# 데이터셋 호출(train)\n",
    "train_x = np.zeros((15*3,24,24)) \n",
    "train_y = np.zeros(15*3)\n",
    "#print(train_x)\n",
    "#print(train_y)\n",
    "\n",
    "for i in range (15):\n",
    "    img = cv2.imread('./data/train/triangle/triangle{0:03d}.png'.format(i+1) ,  cv2.IMREAD_GRAYSCALE)\n",
    "    train_x[i,:,:] = img\n",
    "    train_y[i] = 0\n",
    "    \n",
    "    img2 = cv2.imread('./data/train/rectangle/rectangle{0:03d}.png'.format(i+1) ,  cv2.IMREAD_GRAYSCALE)\n",
    "    train_x[i+15,:,:] = img2\n",
    "    train_y[i+15] = 1\n",
    "    \n",
    "    img2 = cv2.imread('./data/train/circle/circle{0:03d}.png'.format(i+1) ,  cv2.IMREAD_GRAYSCALE)\n",
    "    train_x[i+30,:,:] = img2\n",
    "    train_y[i+30] = 2"
   ]
  },
  {
   "cell_type": "code",
   "execution_count": 128,
   "metadata": {
    "ExecuteTime": {
     "end_time": "2020-01-22T05:00:42.841231Z",
     "start_time": "2020-01-22T05:00:42.837172Z"
    },
    "scrolled": true
   },
   "outputs": [],
   "source": [
    "# plt.imshow(train_x[14,:,:])"
   ]
  },
  {
   "cell_type": "code",
   "execution_count": 130,
   "metadata": {
    "ExecuteTime": {
     "end_time": "2020-01-22T05:01:03.212668Z",
     "start_time": "2020-01-22T05:01:03.197699Z"
    }
   },
   "outputs": [
    {
     "name": "stdout",
     "output_type": "stream",
     "text": [
      "(15, 24, 24)\n"
     ]
    }
   ],
   "source": [
    "#데이터셋 호출(test)\n",
    "test_x = np.zeros((15,24,24)) \n",
    "test_y = np.zeros(15)\n",
    "for i in range (5):\n",
    "    img2 = cv2.imread('./data/test/triangle/triangle{0:03d}.png'.format(i+21) ,  cv2.IMREAD_GRAYSCALE)\n",
    "    test_x[i,:,:] = img2\n",
    "    test_y[i] = 0\n",
    "    \n",
    "    img2 = cv2.imread('./data/test/rectangle/rectangle{0:03d}.png'.format(i+21) ,  cv2.IMREAD_GRAYSCALE)\n",
    "    test_x[i+5,:,:] = img2\n",
    "    test_y[i+5] = 1\n",
    "    \n",
    "    img2 = cv2.imread('./data/test/circle/circle{0:03d}.png'.format(i+21) ,  cv2.IMREAD_GRAYSCALE)\n",
    "    test_x[i+10,:,:] = img2\n",
    "    test_y[i+10] = 2\n",
    "\n",
    "print(test_x.shape)"
   ]
  },
  {
   "cell_type": "code",
   "execution_count": 131,
   "metadata": {
    "ExecuteTime": {
     "end_time": "2020-01-22T05:01:12.830559Z",
     "start_time": "2020-01-22T05:01:12.813597Z"
    }
   },
   "outputs": [
    {
     "name": "stdout",
     "output_type": "stream",
     "text": [
      "(15, 24, 24)\n"
     ]
    }
   ],
   "source": [
    "#데이터셋 호출(test_easy)\n",
    "test_easy_x = np.zeros((15,24,24))  \n",
    "test_easy_y = np.zeros(15)\n",
    "for i in range (5):\n",
    "    img3 = cv2.imread('./data/test_easy/triangle/triangle{0:03d}.png'.format(i+16) ,  cv2.IMREAD_GRAYSCALE)\n",
    "    test_easy_x[i,:,:] = img3\n",
    "    test_easy_y[i] = 0\n",
    "    \n",
    "    img3 = cv2.imread('./data/test_easy/rectangle/rectangle{0:03d}.png'.format(i+16) ,  cv2.IMREAD_GRAYSCALE)\n",
    "    test_easy_x[i+5,:,:] = img3\n",
    "    test_easy_y[i+5] = 1\n",
    "    \n",
    "    img3 = cv2.imread('./data/test_easy/circle/circle{0:03d}.png'.format(i+16) ,  cv2.IMREAD_GRAYSCALE)\n",
    "    test_easy_x[i+10,:,:] = img3\n",
    "    test_easy_y[i+10] = 2\n",
    "\n",
    "print(test_easy_x.shape)"
   ]
  },
  {
   "cell_type": "code",
   "execution_count": 134,
   "metadata": {
    "ExecuteTime": {
     "end_time": "2020-01-22T05:01:37.618680Z",
     "start_time": "2020-01-22T05:01:37.613729Z"
    }
   },
   "outputs": [],
   "source": [
    "#3차원에서 4차원으로 변경\n",
    "# 3차원 ->4차원 왜 바꿈? , 칼라영상의 계산의 효율성을 위해\n",
    "train_x = train_x.reshape((train_x.shape[0], train_x.shape[1], train_x.shape[2], 1)) # 갯수 , 사이즈(24,24)  갯수 모르면 -1 써도됨\n",
    "test_x = test_x.reshape((test_x.shape[0], test_x.shape[1], test_x.shape[2], 1))\n",
    "test_easy_x = test_easy_x.reshape((test_easy_x.shape[0], test_easy_x.shape[1], test_easy_x.shape[2], 1))\n",
    "\n",
    "#원핫인코딩\n",
    "train_y = to_categorical(train_y)\n",
    "test_y = to_categorical(test_y)\n",
    "test_easy_y = to_categorical(test_easy_y)"
   ]
  },
  {
   "cell_type": "code",
   "execution_count": 17,
   "metadata": {
    "ExecuteTime": {
     "end_time": "2020-01-22T01:42:01.268916Z",
     "start_time": "2020-01-22T01:42:01.264976Z"
    }
   },
   "outputs": [],
   "source": [
    "# print(train_y[2])\n",
    "# plt.imshow(train_x[2,:,:,0], cmap='gray')\n",
    "# plt.show()"
   ]
  },
  {
   "cell_type": "code",
   "execution_count": 125,
   "metadata": {
    "ExecuteTime": {
     "end_time": "2020-01-22T04:58:07.771109Z",
     "start_time": "2020-01-22T04:58:07.717253Z"
    },
    "scrolled": true
   },
   "outputs": [
    {
     "name": "stdout",
     "output_type": "stream",
     "text": [
      "Model: \"sequential_23\"\n",
      "_________________________________________________________________\n",
      "Layer (type)                 Output Shape              Param #   \n",
      "=================================================================\n",
      "conv2d_44 (Conv2D)           (None, 22, 22, 64)        640       \n",
      "_________________________________________________________________\n",
      "activation_86 (Activation)   (None, 22, 22, 64)        0         \n",
      "_________________________________________________________________\n",
      "max_pooling2d_24 (MaxPooling (None, 11, 11, 64)        0         \n",
      "_________________________________________________________________\n",
      "flatten_23 (Flatten)         (None, 7744)              0         \n",
      "_________________________________________________________________\n",
      "dense_66 (Dense)             (None, 128)               991360    \n",
      "_________________________________________________________________\n",
      "dense_67 (Dense)             (None, 3)                 387       \n",
      "=================================================================\n",
      "Total params: 992,387\n",
      "Trainable params: 992,387\n",
      "Non-trainable params: 0\n",
      "_________________________________________________________________\n"
     ]
    }
   ],
   "source": [
    "model = Sequential()\n",
    "\n",
    "model.add(Conv2D(input_shape = (train_x.shape[1], train_x.shape[2], train_x.shape[3]), \n",
    "                 filters = 64, kernel_size = (3,3), strides = (1,1), padding = 'valid')) \n",
    "# 커널사이즈(3x3)x필터수(32) + 필터수(32, 바이어스) = 320\n",
    "model.add(Activation('relu'))\n",
    "model.add(MaxPooling2D(pool_size = (2,2))) # 영상 중 가장 큰값 , 커널사이즈가 반으로 줄어든다\n",
    "\n",
    "model.add(Flatten()) #1차원으로 변환\n",
    "\n",
    "model.add(Dense(128, activation = 'relu'))\n",
    "\n",
    "model.add(Dense(3, activation = 'softmax')) # 파라미터, (input*노드수) + 바이어스(노드수)\n",
    "\n",
    "adam = optimizers.Adam(lr = 0.001)\n",
    "model.compile(loss = 'categorical_crossentropy', optimizer = adam, metrics = ['accuracy'])\n",
    "model.summary()"
   ]
  },
  {
   "cell_type": "code",
   "execution_count": 166,
   "metadata": {
    "ExecuteTime": {
     "end_time": "2020-01-22T05:08:47.918603Z",
     "start_time": "2020-01-22T05:08:47.773828Z"
    },
    "scrolled": true
   },
   "outputs": [
    {
     "name": "stdout",
     "output_type": "stream",
     "text": [
      "Model: \"sequential_27\"\n",
      "_________________________________________________________________\n",
      "Layer (type)                 Output Shape              Param #   \n",
      "=================================================================\n",
      "conv2d_51 (Conv2D)           (None, 22, 22, 32)        320       \n",
      "_________________________________________________________________\n",
      "batch_normalization_97 (Batc (None, 22, 22, 32)        128       \n",
      "_________________________________________________________________\n",
      "activation_99 (Activation)   (None, 22, 22, 32)        0         \n",
      "_________________________________________________________________\n",
      "max_pooling2d_31 (MaxPooling (None, 11, 11, 32)        0         \n",
      "_________________________________________________________________\n",
      "conv2d_52 (Conv2D)           (None, 9, 9, 64)          18496     \n",
      "_________________________________________________________________\n",
      "batch_normalization_98 (Batc (None, 9, 9, 64)          256       \n",
      "_________________________________________________________________\n",
      "activation_100 (Activation)  (None, 9, 9, 64)          0         \n",
      "_________________________________________________________________\n",
      "max_pooling2d_32 (MaxPooling (None, 4, 4, 64)          0         \n",
      "_________________________________________________________________\n",
      "flatten_27 (Flatten)         (None, 1024)              0         \n",
      "_________________________________________________________________\n",
      "dense_77 (Dense)             (None, 128)               131200    \n",
      "_________________________________________________________________\n",
      "batch_normalization_99 (Batc (None, 128)               512       \n",
      "_________________________________________________________________\n",
      "activation_101 (Activation)  (None, 128)               0         \n",
      "_________________________________________________________________\n",
      "dense_78 (Dense)             (None, 64)                8256      \n",
      "_________________________________________________________________\n",
      "batch_normalization_100 (Bat (None, 64)                256       \n",
      "_________________________________________________________________\n",
      "activation_102 (Activation)  (None, 64)                0         \n",
      "_________________________________________________________________\n",
      "dense_79 (Dense)             (None, 3)                 195       \n",
      "=================================================================\n",
      "Total params: 159,619\n",
      "Trainable params: 159,043\n",
      "Non-trainable params: 576\n",
      "_________________________________________________________________\n"
     ]
    }
   ],
   "source": [
    "model = Sequential()\n",
    "\n",
    "model.add(Conv2D(32, kernel_size = (3,3), input_shape = (24,24,1) )) \n",
    "model.add(BatchNormalization())\n",
    "model.add(Activation('relu'))\n",
    "model.add(MaxPooling2D(pool_size = (2,2)))\n",
    "\n",
    "model.add(Conv2D(64, (3,3)))\n",
    "model.add(BatchNormalization())\n",
    "model.add(Activation('relu'))\n",
    "model.add(MaxPooling2D(pool_size = (2,2)))\n",
    "\n",
    "model.add(Flatten()) #1차원으로 변환\n",
    "\n",
    "model.add(Dense(128))\n",
    "model.add(BatchNormalization()) # 스케일 후 복원하기 위해 파라미터를 가지고 있는다\n",
    "model.add(Activation('relu'))\n",
    "\n",
    "model.add(Dense(64))\n",
    "model.add(BatchNormalization())\n",
    "model.add(Activation('relu'))\n",
    "\n",
    "\n",
    "model.add(Dense(3, activation = 'softmax')) # 파라미터, (input*노드수) + 바이어스(노드수)\n",
    "\n",
    "adam = optimizers.Adam(lr = 0.001)\n",
    "model.compile(loss = 'categorical_crossentropy', optimizer = adam, metrics = ['accuracy'])\n",
    "model.summary()"
   ]
  },
  {
   "cell_type": "code",
   "execution_count": 146,
   "metadata": {
    "ExecuteTime": {
     "end_time": "2020-01-22T05:04:43.113027Z",
     "start_time": "2020-01-22T05:04:43.109053Z"
    },
    "scrolled": true
   },
   "outputs": [],
   "source": [
    "# for l in model.layers:\n",
    "#     print(l.name, end=' ')\n",
    "#     print(l.trainable)\n",
    "    \n",
    "    \n",
    "# w = model.layers[0].get_weights()\n",
    "# print(w[0].shape)\n",
    "# print(w[1].shape)\n",
    "\n",
    "#print(w[0][:,:,0,0]) # 첫번째 레이어의 첫번째 필터\n",
    "#print(w[0][0])\n",
    "#print(w[1][0]) #w[0](첫번째 레이어)의 아웃풋 결과\n",
    "#print(model.layers[0].output)\n",
    "\n",
    "\n",
    "# print(w[0][:,:,0,1]) # 첫번째 레이어의 두번째 필터\n",
    "\n",
    "#model.layers[3].output\n",
    "\n",
    "#필터를 그래프로 표시\n",
    "#plt.imshow(w[0][:,:,0,0], cmap=\"gray\")"
   ]
  },
  {
   "cell_type": "code",
   "execution_count": 226,
   "metadata": {
    "ExecuteTime": {
     "end_time": "2020-01-22T05:25:44.088391Z",
     "start_time": "2020-01-22T05:25:43.806175Z"
    },
    "scrolled": true
   },
   "outputs": [
    {
     "name": "stdout",
     "output_type": "stream",
     "text": [
      "(45, 22, 22, 32)\n"
     ]
    },
    {
     "data": {
      "image/png": "[encoded data removed]",
      "text/plain": [
       "<Figure size 432x288 with 1 Axes>"
      ]
     },
     "metadata": {
      "needs_background": "light"
     },
     "output_type": "display_data"
    },
    {
     "data": {
      "image/png": "[encoded data removed]",
      "text/plain": [
       "<Figure size 432x288 with 1 Axes>"
      ]
     },
     "metadata": {
      "needs_background": "light"
     },
     "output_type": "display_data"
    },
    {
     "data": {
      "image/png": "[encoded data removed]",
      "text/plain": [
       "<Figure size 432x288 with 1 Axes>"
      ]
     },
     "metadata": {
      "needs_background": "light"
     },
     "output_type": "display_data"
    }
   ],
   "source": [
    "from keras.models import Model\n",
    "\n",
    "my_layer_model = Model(inputs=model.input,  # input은 그릇(24,24,1, \n",
    "                       outputs=model.layers[0].output)\n",
    "output = my_layer_model.predict(train_x)\n",
    "\n",
    "\n",
    "print(output.shape) #(45, 22, 22, 32)\n",
    "\n",
    "ifilter = 5\n",
    "iimg = 1\n",
    "\n",
    "#1번째 이미지(원본)\n",
    "plt.imshow(test_x[iimg,:,:,0], cmap=\"gray\") # 마지막 0은 그레이색이기 때문에 0으로 적음\n",
    "plt.show()\n",
    "\n",
    "#5번째 필터\n",
    "w = model.layers[0].get_weights()\n",
    "#filtets, bias = model.layers[0].get_weights()\n",
    "w = w[0]\n",
    "f = w[:,:,0,ifilter]\n",
    "plt.imshow(f, cmap=\"gray\")\n",
    "plt.show()\n",
    "\n",
    "#출력 = 0번째 이미지*(0번째필터 +b)\n",
    "plt.imshow(output[iimg,:,:,ifilter], cmap=\"gray\") # 0번째 테스트 이미지에 5번째 필터를 적용한 결과값 \n",
    "plt.show()"
   ]
  },
  {
   "cell_type": "code",
   "execution_count": 224,
   "metadata": {
    "ExecuteTime": {
     "end_time": "2020-01-22T05:21:37.866566Z",
     "start_time": "2020-01-22T05:21:37.861609Z"
    }
   },
   "outputs": [
    {
     "data": {
      "text/plain": [
       "(3, 1, 32)"
      ]
     },
     "execution_count": 224,
     "metadata": {},
     "output_type": "execute_result"
    }
   ],
   "source": [
    "w[0].shape"
   ]
  },
  {
   "cell_type": "code",
   "execution_count": 121,
   "metadata": {
    "ExecuteTime": {
     "end_time": "2020-01-22T04:57:04.243063Z",
     "start_time": "2020-01-22T04:57:04.182115Z"
    }
   },
   "outputs": [
    {
     "name": "stdout",
     "output_type": "stream",
     "text": [
      "(15, 1024)\n"
     ]
    }
   ],
   "source": [
    "#flatten 의 출력값 찾기\n",
    "my_layer_model = Model(inputs=model.input,  # input은 그릇(24,24,1, \n",
    "                       outputs=model.get_layer('flatten_22').output)\n",
    "output = my_layer_model.predict(test_x) #(15, 1024) 1024개의 데이터가 나옴. 이걸로 학습을 진행함\n",
    "print(output.shape) #(15, 1024)"
   ]
  },
  {
   "cell_type": "code",
   "execution_count": 228,
   "metadata": {
    "ExecuteTime": {
     "end_time": "2020-01-22T05:26:38.660606Z",
     "start_time": "2020-01-22T05:26:38.556819Z"
    }
   },
   "outputs": [
    {
     "name": "stdout",
     "output_type": "stream",
     "text": [
      "(15, 3)\n",
      "[0 0 0 0 0 2 0 0 0 0 0 2 0 0 0]\n",
      "[0 0 0 0 0 1 1 1 1 1 2 2 2 2 2]\n",
      "[1 1 1 1 1 0 0 0 0 0 0 1 0 0 0]\n",
      "6\n",
      "0.4\n"
     ]
    }
   ],
   "source": [
    "#끝 dense의 출력값 찾기\n",
    "my_layer_model = Model(inputs=model.input,  # input은 그릇(24,24,1, \n",
    "                       outputs=model.get_layer('dense_79').output)\n",
    "output = my_layer_model.predict(test_x) #(15, 1024) 1024개의 데이터가 나옴. 이걸로 학습을 진행함\n",
    "print(output.shape) #(15, 3) #15개 샘플(테스트 셋)에 대해  맨 마지막  출력인 output 값을 보겠다(3은 각각의 출력물).\n",
    "#print(output) \n",
    "\"\"\"\n",
    "(15, 1024)\n",
    "(15, 3)\n",
    "[[7.75544180e-08 9.99999881e-01 8.67174378e-27] # 1번째 출력은 3번째값이 젤 높으므로 3번째\n",
    " [4.09071860e-10 1.00000000e+00 7.94883572e-36]\n",
    " [2.32840033e-13 1.00000000e+00 6.01303942e-37]\n",
    " [4.80035912e-16 1.00000000e+00 4.24682454e-36]\n",
    " [1.57335527e-12 1.00000000e+00 2.59579688e-34]\n",
    " [1.08055075e-11 1.00000000e+00 1.80140438e-36]\n",
    " [5.98991817e-14 1.00000000e+00 1.14172364e-35]\n",
    " [7.85966778e-12 1.00000000e+00 3.98081786e-33]\n",
    " [5.39832393e-15 1.00000000e+00 0.00000000e+00]\n",
    " [2.51099785e-09 1.00000000e+00 1.71708240e-30]\n",
    " [6.87468962e-12 1.00000000e+00 0.00000000e+00]\n",
    " [8.78271175e-18 1.00000000e+00 0.00000000e+00]\n",
    " [2.60985816e-10 1.00000000e+00 2.58666338e-34]\n",
    " [3.89798115e-05 9.99961019e-01 1.12293080e-32]\n",
    " [2.09638418e-10 1.00000000e+00 5.03676909e-36]]\n",
    "\n",
    "argmax 사용해서 각각에 대해 높은 값을 출력\n",
    "\"\"\"\n",
    "\n",
    "p = np.argmax(output,axis=1)\n",
    "t = np.argmax(test_y, axis=1)\n",
    "print(p)\n",
    "print(t)\n",
    "print( (p==t)*1)\n",
    "print( sum(p==t)*1)\n",
    "print( sum(p==t)*1 / len(p))"
   ]
  },
  {
   "cell_type": "code",
   "execution_count": null,
   "metadata": {},
   "outputs": [],
   "source": [
    "for i in range(32):\n",
    "    "
   ]
  },
  {
   "cell_type": "markdown",
   "metadata": {},
   "source": [
    "## 모델 성능 그래프"
   ]
  },
  {
   "cell_type": "code",
   "execution_count": 230,
   "metadata": {
    "ExecuteTime": {
     "end_time": "2020-01-22T05:28:01.068808Z",
     "start_time": "2020-01-22T05:27:58.373323Z"
    }
   },
   "outputs": [
    {
     "data": {
      "image/png": "[encoded data removed]",
      "text/plain": [
       "<Figure size 432x288 with 1 Axes>"
      ]
     },
     "metadata": {
      "needs_background": "light"
     },
     "output_type": "display_data"
    },
    {
     "name": "stdout",
     "output_type": "stream",
     "text": [
      "15/15 [==============================] - 0s 504us/step\n",
      "Test_easy accuracy:  1.0\n",
      "15/15 [==============================] - 0s 200us/step\n",
      "Test accuracy:  0.3333333432674408\n"
     ]
    }
   ],
   "source": [
    "history = model.fit(train_x, train_y, batch_size = 20, validation_split = 0.2, epochs = 100, verbose = 0)\n",
    "\n",
    "plt.plot(history.history['accuracy'])\n",
    "plt.plot(history.history['val_accuracy'])\n",
    "plt.legend(['training', 'validation'], loc = 'upper left')\n",
    "plt.show()\n",
    "\n",
    "#y_test_easy = model.predict(test_easy_x)\n",
    "\n",
    "results = model.evaluate(test_easy_x, test_easy_y)\n",
    "print('Test_easy accuracy: ', results[1])\n",
    "\n",
    "results = model.evaluate(test_x, test_y)\n",
    "print('Test accuracy: ', results[1])"
   ]
  },
  {
   "cell_type": "code",
   "execution_count": null,
   "metadata": {},
   "outputs": [],
   "source": []
  }
 ],
 "metadata": {
  "kernelspec": {
   "display_name": "Python 3",
   "language": "python",
   "name": "python3"
  },
  "language_info": {
   "codemirror_mode": {
    "name": "ipython",
    "version": 3
   },
   "file_extension": ".py",
   "mimetype": "text/x-python",
   "name": "python",
   "nbconvert_exporter": "python",
   "pygments_lexer": "ipython3",
   "version": "3.6.10"
  },
  "toc": {
   "base_numbering": 1,
   "nav_menu": {},
   "number_sections": false,
   "sideBar": true,
   "skip_h1_title": false,
   "title_cell": "Table of Contents",
   "title_sidebar": "Contents",
   "toc_cell": false,
   "toc_position": {},
   "toc_section_display": true,
   "toc_window_display": false
  },
  "varInspector": {
   "cols": {
    "lenName": 16,
    "lenType": 16,
    "lenVar": 40
   },
   "kernels_config": {
    "python": {
     "delete_cmd_postfix": "",
     "delete_cmd_prefix": "del ",
     "library": "var_list.py",
     "varRefreshCmd": "print(var_dic_list())"
    },
    "r": {
     "delete_cmd_postfix": ") ",
     "delete_cmd_prefix": "rm(",
     "library": "var_list.r",
     "varRefreshCmd": "cat(var_dic_list()) "
    }
   },
   "position": {
    "height": "766px",
    "left": "1195px",
    "right": "20px",
    "top": "84px",
    "width": "692px"
   },
   "types_to_exclude": [
    "module",
    "function",
    "builtin_function_or_method",
    "instance",
    "_Feature"
   ],
   "window_display": false
  }
 },
 "nbformat": 4,
 "nbformat_minor": 2
}
