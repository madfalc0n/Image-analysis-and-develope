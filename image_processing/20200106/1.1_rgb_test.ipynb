{
 "cells": [
  {
   "cell_type": "code",
   "execution_count": 7,
   "metadata": {},
   "outputs": [],
   "source": [
    "import numpy as np\n",
    "import pandas as pd\n",
    "import matplotlib.pyplot as plt\n",
    "from PIL import Image\n",
    "\n",
    "%matplotlib inline"
   ]
  },
  {
   "cell_type": "code",
   "execution_count": 83,
   "metadata": {},
   "outputs": [
    {
     "name": "stdout",
     "output_type": "stream",
     "text": [
      "<class 'numpy.ndarray'>\n"
     ]
    },
    {
     "data": {
      "text/plain": [
       "<matplotlib.image.AxesImage at 0x1ab094764c8>"
      ]
     },
     "execution_count": 83,
     "metadata": {},
     "output_type": "execute_result"
    },
    {
     "data": {
      "image/png": "[encoded data removed]",
      "text/plain": [
       "<Figure size 432x288 with 1 Axes>"
      ]
     },
     "metadata": {
      "needs_background": "light"
     },
     "output_type": "display_data"
    }
   ],
   "source": [
    "a = np.asarray([ # 4x4 \n",
    "    [0,0,0,0], # 0 검은색\n",
    "    [127,127,127,127], #127 회색\n",
    "    [200,200,200,200], # 200 더 밝은 회색\n",
    "    [255,255,255,255]  # 255 흰색\n",
    "],dtype='uint8') #타입 언사인 int 8 , 8은 비트수, 배열값들이 있으면 언사인 형으로 만듬, 0~255 사이 만 가능, https://kongdols-room.tistory.com/53\n",
    "print(type(a))\n",
    "plt.imshow(a, cmap='gray')"
   ]
  },
  {
   "cell_type": "code",
   "execution_count": 60,
   "metadata": {},
   "outputs": [
    {
     "name": "stdout",
     "output_type": "stream",
     "text": [
      "[[  5   5   5   5]\n",
      " [132 132 132 132]\n",
      " [205 205 205 205]\n",
      " [  4   4   4   4]]\n"
     ]
    },
    {
     "data": {
      "image/png": "[encoded data removed]",
      "text/plain": [
       "<Figure size 432x288 with 1 Axes>"
      ]
     },
     "metadata": {
      "needs_background": "light"
     },
     "output_type": "display_data"
    }
   ],
   "source": [
    "b = a + 5 # a 값에서 각각 5씩 더함\n",
    "plt.imshow(b,cmap='gray')\n",
    "print(b) #255인 값들은 오버플로우가 발생하였음, 255에서 5를더해서 260이었어야 했는데 타입이 uint8 이므로 0~255 의 값을 가짐\n",
    "# 비트 단위로 연산해보면 결과값이 4가 나옴"
   ]
  },
  {
   "cell_type": "code",
   "execution_count": 155,
   "metadata": {},
   "outputs": [
    {
     "name": "stdout",
     "output_type": "stream",
     "text": [
      "[[[255   0   0]\n",
      "  [255   0   0]\n",
      "  [255   0   0]\n",
      "  [255   0   0]]\n",
      "\n",
      " [[  0 255   0]\n",
      "  [  0 255   0]\n",
      "  [  0 255   0]\n",
      "  [  0 255   0]]\n",
      "\n",
      " [[  0   0 255]\n",
      "  [  0   0 255]\n",
      "  [  0   0 255]\n",
      "  [  0   0 255]]\n",
      "\n",
      " [[255 255   0]\n",
      "  [255 255   0]\n",
      "  [255 255   0]\n",
      "  [255 255   0]]]\n",
      "(4, 4, 3)\n"
     ]
    },
    {
     "data": {
      "image/png": "[encoded data removed]",
      "text/plain": [
       "<Figure size 432x288 with 1 Axes>"
      ]
     },
     "metadata": {
      "needs_background": "light"
     },
     "output_type": "display_data"
    }
   ],
   "source": [
    "r = np.array([ # red\n",
    "    [255,255,255,255], \n",
    "    [0,0,0,0], \n",
    "    [0,0,0,0], \n",
    "    [255,255,255,255]  \n",
    "],dtype='uint8')\n",
    "\n",
    "g = np.array([ # green\n",
    "    [0,0,0,0], # 0 검은색\n",
    "    [255,255,255,255], \n",
    "    [0,0,0,0], \n",
    "    [255,255,255,255]  \n",
    "],dtype='uint8')\n",
    "\n",
    "\n",
    "b = np.array([ # blue\n",
    "    [0,0,0,0], # 0 검은색\n",
    "    [0,0,0,0], \n",
    "    [255,255,255,255], \n",
    "    [0,0,0,0]  \n",
    "],dtype='uint8')\n",
    "\n",
    "colors = np.dstack([r,g ,b]) #depth stack , depth(z축)로 쌓아라 , h는 옆으로, v는 밑으로, 반드시 3채널(3개)로 만들어주어야 함\n",
    "print(colors)\n",
    "print(colors.shape)\n",
    "plt.imshow(colors) #각 배열의 \n",
    "plt.show() # 중간에 show를 안해주면 색이 오버라이트 된다\n"
   ]
  },
  {
   "cell_type": "code",
   "execution_count": 156,
   "metadata": {},
   "outputs": [
    {
     "data": {
      "image/png": "[encoded data removed]",
      "text/plain": [
       "<Figure size 432x288 with 1 Axes>"
      ]
     },
     "metadata": {
      "needs_background": "light"
     },
     "output_type": "display_data"
    },
    {
     "data": {
      "image/png": "[encoded data removed]",
      "text/plain": [
       "<Figure size 432x288 with 1 Axes>"
      ]
     },
     "metadata": {
      "needs_background": "light"
     },
     "output_type": "display_data"
    },
    {
     "data": {
      "image/png": "[encoded data removed]",
      "text/plain": [
       "<Figure size 432x288 with 1 Axes>"
      ]
     },
     "metadata": {
      "needs_background": "light"
     },
     "output_type": "display_data"
    }
   ],
   "source": [
    "a = np.zeros((4,4),dtype='uint8')\n",
    "a\n",
    "\n",
    "r2 = np.array([ # red\n",
    "    [255,255,255,255], \n",
    "    [0,0,0,0], \n",
    "    [0,0,0,0], \n",
    "    [255,255,255,255]  \n",
    "],dtype='uint8')\n",
    "\n",
    "\n",
    "\n",
    "g2 = np.array([ # green\n",
    "    [0,0,0,0], # 0 검은색\n",
    "    [255,255,255,255], \n",
    "    [0,0,0,0], \n",
    "    [255,255,255,255]  \n",
    "],dtype='uint8')\n",
    "\n",
    "\n",
    "b2 = np.array([ # blue\n",
    "    [0,0,0,0], # 0 검은색\n",
    "    [75,75,75,75], \n",
    "    [150,150,150,150], \n",
    "    [255,255,255,255]  \n",
    "],dtype='uint8')\n",
    "\n",
    "red_colors = np.dstack([r2,a,a]) \n",
    "green_colors = np.dstack([a,g2 ,a]) \n",
    "blue_colors = np.dstack([a,a ,b2]) \n",
    "\n",
    "\n",
    "plt.imshow(red_colors) \n",
    "plt.show() \n",
    "plt.imshow(green_colors) \n",
    "plt.show() \n",
    "plt.imshow(blue_colors) \n",
    "plt.show() \n"
   ]
  },
  {
   "cell_type": "code",
   "execution_count": 157,
   "metadata": {},
   "outputs": [
    {
     "data": {
      "text/plain": [
       "<matplotlib.image.AxesImage at 0x1ab0937a588>"
      ]
     },
     "execution_count": 157,
     "metadata": {},
     "output_type": "execute_result"
    },
    {
     "data": {
      "image/png": "[encoded data removed]",
      "text/plain": [
       "<Figure size 432x288 with 1 Axes>"
      ]
     },
     "metadata": {
      "needs_background": "light"
     },
     "output_type": "display_data"
    }
   ],
   "source": [
    "all_color = np.hstack([np.dstack([r,g,b]), red_colors,green_colors,blue_colors]) #옆으로 쌓다\n",
    "plt.imshow(all_color)"
   ]
  },
  {
   "cell_type": "code",
   "execution_count": null,
   "metadata": {},
   "outputs": [],
   "source": []
  }
 ],
 "metadata": {
  "kernelspec": {
   "display_name": "Python 3",
   "language": "python",
   "name": "python3"
  },
  "language_info": {
   "codemirror_mode": {
    "name": "ipython",
    "version": 3
   },
   "file_extension": ".py",
   "mimetype": "text/x-python",
   "name": "python",
   "nbconvert_exporter": "python",
   "pygments_lexer": "ipython3",
   "version": "3.6.10"
  },
  "toc": {
   "base_numbering": 1,
   "nav_menu": {},
   "number_sections": false,
   "sideBar": true,
   "skip_h1_title": false,
   "title_cell": "Table of Contents",
   "title_sidebar": "Contents",
   "toc_cell": false,
   "toc_position": {},
   "toc_section_display": true,
   "toc_window_display": false
  },
  "varInspector": {
   "cols": {
    "lenName": 16,
    "lenType": 16,
    "lenVar": 40
   },
   "kernels_config": {
    "python": {
     "delete_cmd_postfix": "",
     "delete_cmd_prefix": "del ",
     "library": "var_list.py",
     "varRefreshCmd": "print(var_dic_list())"
    },
    "r": {
     "delete_cmd_postfix": ") ",
     "delete_cmd_prefix": "rm(",
     "library": "var_list.r",
     "varRefreshCmd": "cat(var_dic_list()) "
    }
   },
   "types_to_exclude": [
    "module",
    "function",
    "builtin_function_or_method",
    "instance",
    "_Feature"
   ],
   "window_display": false
  }
 },
 "nbformat": 4,
 "nbformat_minor": 2
}
