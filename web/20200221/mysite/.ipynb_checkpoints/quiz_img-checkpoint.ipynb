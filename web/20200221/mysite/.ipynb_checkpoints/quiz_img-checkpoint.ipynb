{
 "cells": [
  {
   "cell_type": "code",
   "execution_count": 4,
   "metadata": {
    "ExecuteTime": {
     "end_time": "2020-02-21T06:13:09.669163Z",
     "start_time": "2020-02-21T06:13:09.666195Z"
    }
   },
   "outputs": [],
   "source": [
    "from django.db import connection"
   ]
  },
  {
   "cell_type": "code",
   "execution_count": 12,
   "metadata": {
    "ExecuteTime": {
     "end_time": "2020-02-21T06:15:17.660917Z",
     "start_time": "2020-02-21T06:15:17.656905Z"
    }
   },
   "outputs": [],
   "source": [
    "def dictfetchall(cursor):    \n",
    "    desc = cursor.description\n",
    "    return [\n",
    "        dict(zip([col[0] for col in desc], row))\n",
    "        for row in cursor.fetchall()\n",
    "    ]"
   ]
  },
  {
   "cell_type": "code",
   "execution_count": 23,
   "metadata": {
    "ExecuteTime": {
     "end_time": "2020-02-21T06:27:03.858623Z",
     "start_time": "2020-02-21T06:27:03.855624Z"
    },
    "scrolled": false
   },
   "outputs": [],
   "source": [
    "#SQL 테이블 생성, 테이블 없을 경우 주석 해제하고 생성 ㄱㄱ\n",
    "# sql = \"\"\"\n",
    "# create table myboard_image\n",
    "# (\n",
    "#  id INTEGER PRIMARY KEY AUTOINCREMENT,\n",
    "#  author_id INTEGER NOT NULL,\n",
    "#  filename VARCHAR(10) NOT NULL,\n",
    "#  FOREIGN KEY (author_id) REFERENCES auth_user(id)\n",
    "# )\n",
    "# \"\"\"\n",
    "\n",
    "# 테이블에 값 추가하는 쿼리, 주석 해제 ㄴㄴ\n",
    "# author_id = 2\n",
    "# filename = 'hello.jpg'\n",
    "# sql=f\"\"\"\n",
    "# INSERT INTO myboard_image\n",
    "# (\"id\", \"author_id\", \"filename\")\n",
    "# VALUES ('', {author_id}, '{filename}');\n",
    "# \"\"\"\n",
    "# print(sql)\n",
    "# cursor = connection.cursor()\n",
    "# cursor.execute(sql)"
   ]
  },
  {
   "cell_type": "code",
   "execution_count": 18,
   "metadata": {
    "ExecuteTime": {
     "end_time": "2020-02-21T06:16:25.340196Z",
     "start_time": "2020-02-21T06:16:25.336181Z"
    }
   },
   "outputs": [
    {
     "data": {
      "text/plain": [
       "<django.db.backends.sqlite3.base.SQLiteCursorWrapper at 0x16c3ff63678>"
      ]
     },
     "execution_count": 18,
     "metadata": {},
     "output_type": "execute_result"
    }
   ],
   "source": [
    "username = '이순신'\n",
    "author_id = 2\n",
    "sql = f\"select * from myboard_image where author_id={author_id}\"\n",
    "cursor = connection.cursor()\n",
    "cursor.execute(sql)"
   ]
  },
  {
   "cell_type": "code",
   "execution_count": 19,
   "metadata": {
    "ExecuteTime": {
     "end_time": "2020-02-21T06:16:25.899776Z",
     "start_time": "2020-02-21T06:16:25.895788Z"
    },
    "scrolled": false
   },
   "outputs": [
    {
     "name": "stdout",
     "output_type": "stream",
     "text": [
      "{'data': [{'id': 1, 'author_id': 2, 'filename': 'han1.jpg'}, {'id': 2, 'author_id': 2, 'filename': 'han2.jpg'}, {'id': 3, 'author_id': 2, 'filename': 'han3.jpg'}, {'id': 4, 'author_id': 2, 'filename': 'han4.jpg'}, {'id': 5, 'author_id': 2, 'filename': 'han5.jpg'}, {'id': 6, 'author_id': 2, 'filename': 'han6.jpg'}], 'username': '이순신'}\n"
     ]
    }
   ],
   "source": [
    "data = dictfetchall(cursor)    \n",
    "context = {\"data\":data, \"username\":username}    \n",
    "print(context)"
   ]
  },
  {
   "cell_type": "code",
   "execution_count": 21,
   "metadata": {
    "ExecuteTime": {
     "end_time": "2020-02-21T06:17:14.799925Z",
     "start_time": "2020-02-21T06:17:14.792933Z"
    }
   },
   "outputs": [
    {
     "ename": "NameError",
     "evalue": "name 'request' is not defined",
     "output_type": "error",
     "traceback": [
      "\u001b[1;31m---------------------------------------------------------------------------\u001b[0m",
      "\u001b[1;31mNameError\u001b[0m                                 Traceback (most recent call last)",
      "\u001b[1;32m<ipython-input-21-1ac680a3fb0e>\u001b[0m in \u001b[0;36m<module>\u001b[1;34m\u001b[0m\n\u001b[0;32m      1\u001b[0m \u001b[1;32mfrom\u001b[0m \u001b[0mdjango\u001b[0m\u001b[1;33m.\u001b[0m\u001b[0mshortcuts\u001b[0m \u001b[1;32mimport\u001b[0m \u001b[0mrender\u001b[0m\u001b[1;33m,\u001b[0m \u001b[0mget_object_or_404\u001b[0m\u001b[1;33m,\u001b[0m\u001b[0mredirect\u001b[0m\u001b[1;33m\u001b[0m\u001b[1;33m\u001b[0m\u001b[0m\n\u001b[0;32m      2\u001b[0m \u001b[1;33m\u001b[0m\u001b[0m\n\u001b[1;32m----> 3\u001b[1;33m \u001b[0mresponse\u001b[0m \u001b[1;33m=\u001b[0m \u001b[0mrender\u001b[0m\u001b[1;33m(\u001b[0m\u001b[0mrequest\u001b[0m\u001b[1;33m,\u001b[0m  \u001b[1;34m\"myboard/imglist.html\"\u001b[0m\u001b[1;33m,\u001b[0m \u001b[0mcontext\u001b[0m\u001b[1;33m)\u001b[0m\u001b[1;33m\u001b[0m\u001b[1;33m\u001b[0m\u001b[0m\n\u001b[0m",
      "\u001b[1;31mNameError\u001b[0m: name 'request' is not defined"
     ]
    }
   ],
   "source": [
    "from django.shortcuts import render, get_object_or_404,redirect\n",
    "\n",
    "response = render(request,  \"myboard/imglist.html\", context)"
   ]
  },
  {
   "cell_type": "code",
   "execution_count": null,
   "metadata": {},
   "outputs": [],
   "source": [
    "print(response.content.decode())"
   ]
  }
 ],
 "metadata": {
  "kernelspec": {
   "display_name": "Django Shell-Plus",
   "language": "python",
   "name": "django_extensions"
  },
  "language_info": {
   "codemirror_mode": {
    "name": "ipython",
    "version": 3
   },
   "file_extension": ".py",
   "mimetype": "text/x-python",
   "name": "python",
   "nbconvert_exporter": "python",
   "pygments_lexer": "ipython3",
   "version": "3.7.4"
  }
 },
 "nbformat": 4,
 "nbformat_minor": 2
}
