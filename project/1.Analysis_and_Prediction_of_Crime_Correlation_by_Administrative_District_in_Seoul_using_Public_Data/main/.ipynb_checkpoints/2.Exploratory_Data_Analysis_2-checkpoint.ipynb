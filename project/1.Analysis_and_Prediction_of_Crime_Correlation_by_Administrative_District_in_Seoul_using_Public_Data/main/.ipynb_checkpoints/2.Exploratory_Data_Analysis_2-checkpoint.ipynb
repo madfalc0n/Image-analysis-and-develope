{
 "cells": [
  {
   "cell_type": "markdown",
   "metadata": {},
   "source": [
    "# EDA 탐색적 분석_2"
   ]
  },
  {
   "cell_type": "markdown",
   "metadata": {},
   "source": [
    "## 지도를 통한 시각화"
   ]
  },
  {
   "cell_type": "code",
   "execution_count": 18,
   "metadata": {},
   "outputs": [],
   "source": [
    "#함수 호출\n",
    "import pandas as pd\n",
    "import numpy as np\n",
    "import folium #지도 \n",
    "from folium.features import DivIcon #DivIcon(텍스트) 기능\n",
    "import json"
   ]
  },
  {
   "cell_type": "code",
   "execution_count": 19,
   "metadata": {},
   "outputs": [],
   "source": [
    "#서울 데이터 파일 호출\n",
    "df = pd.read_csv('./data/20200101_seoul_2014_to_2018_crime_cctv_pop_food_sum.csv')\n",
    "ddf = pd.read_csv('./data/20200101_seoul_2014_to_2018_crime_cctv_pop_food_sum.csv')\n",
    "#display(df.head(10))\n",
    "#df.info()\n",
    "\n",
    "#2018년 데이터만 추출\n",
    "df = df[df['년도'] == 2018]\n",
    "\n",
    "#서울 지역구별 중심지 데이터 호출\n",
    "lo_df = pd.read_csv('./data/seoul_map_input_list/hangjeongdong_center.txt',sep=' ',header=None )\n",
    "lo_df.columns = ['지역','위도','경도']\n",
    "#display(lo_df)\n",
    "\n",
    "#서울 지역구별 데이터 호출\n",
    "state_geo = './data/seoul_map_input_list/20191230_seoul_municipalities_geo_simple.json'\n",
    "state_geo = json.load(open(state_geo, encoding='utf-8'))\n",
    "#state_geo"
   ]
  },
  {
   "cell_type": "code",
   "execution_count": 20,
   "metadata": {},
   "outputs": [
    {
     "data": {
      "text/plain": [
       "Index(['년도', '지역', '강도', '살인', '절도', '폭력', '강간강제추행', '살인강간', '강도절도폭력', '범죄합계',\n",
       "       '10만명당범죄수', '한국인', '등록외국인', '세대', '인구합계', 'CCTV', '10만명당CCTV수', '단란주점',\n",
       "       '유흥주점', '단란유흥'],\n",
       "      dtype='object')"
      ]
     },
     "execution_count": 20,
     "metadata": {},
     "output_type": "execute_result"
    }
   ],
   "source": [
    "df.columns"
   ]
  },
  {
   "cell_type": "code",
   "execution_count": 21,
   "metadata": {},
   "outputs": [],
   "source": [
    "cap_map_list = ['강도', '살인', '절도', '폭력', '강간강제추행', '살인강간', '강도절도폭력', '범죄합계',\n",
    "       '10만명당범죄수', '한국인', '등록외국인', '세대', '인구합계', 'CCTV', '10만명당CCTV수', '단란주점',\n",
    "       '유흥주점', '단란유흥']"
   ]
  },
  {
   "cell_type": "code",
   "execution_count": 22,
   "metadata": {},
   "outputs": [
    {
     "data": {
      "text/plain": [
       "['Blues',\n",
       " 'Purples',\n",
       " 'BuGn',\n",
       " 'Greens',\n",
       " 'Oranges',\n",
       " 'Reds',\n",
       " 'YlOrBr',\n",
       " 'YlOrRd',\n",
       " 'OrRd',\n",
       " 'PuRd',\n",
       " 'RdPu',\n",
       " 'BuPu',\n",
       " 'GnBu',\n",
       " 'PuBu',\n",
       " 'YlGnBu',\n",
       " 'PuBuGn',\n",
       " 'BuGn',\n",
       " 'YlGn']"
      ]
     },
     "execution_count": 22,
     "metadata": {},
     "output_type": "execute_result"
    }
   ],
   "source": [
    "#색깔리스트\n",
    "color_list = ['Blues', 'Purples', 'BuGn', 'Greens', 'Oranges', 'Reds', 'YlOrBr', 'YlOrRd', 'OrRd', 'PuRd', 'RdPu', 'BuPu', 'GnBu', 'PuBu', 'YlGnBu', 'PuBuGn', 'BuGn', 'YlGn']\n",
    "color_list"
   ]
  },
  {
   "cell_type": "code",
   "execution_count": 23,
   "metadata": {
    "collapsed": true,
    "jupyter": {
     "outputs_hidden": true
    }
   },
   "outputs": [
    {
     "name": "stdout",
     "output_type": "stream",
     "text": [
      "Blues\n",
      "지역 별 강도수 Blues지도 생성완료\n",
      "Purples\n",
      "지역 별 살인수 Purples지도 생성완료\n",
      "BuGn\n",
      "지역 별 절도수 BuGn지도 생성완료\n",
      "Greens\n",
      "지역 별 폭력수 Greens지도 생성완료\n",
      "Oranges\n",
      "지역 별 강간강제추행수 Oranges지도 생성완료\n",
      "Reds\n",
      "지역 별 살인강간수 Reds지도 생성완료\n",
      "YlOrBr\n",
      "지역 별 강도절도폭력수 YlOrBr지도 생성완료\n",
      "YlOrRd\n",
      "지역 별 범죄합계수 YlOrRd지도 생성완료\n",
      "OrRd\n",
      "지역 별 10만명당범죄수수 OrRd지도 생성완료\n",
      "PuRd\n",
      "지역 별 한국인수 PuRd지도 생성완료\n",
      "RdPu\n",
      "지역 별 등록외국인수 RdPu지도 생성완료\n",
      "BuPu\n",
      "지역 별 세대수 BuPu지도 생성완료\n",
      "GnBu\n",
      "지역 별 인구합계수 GnBu지도 생성완료\n",
      "PuBu\n",
      "지역 별 CCTV수 PuBu지도 생성완료\n",
      "YlGnBu\n",
      "지역 별 10만명당CCTV수수 YlGnBu지도 생성완료\n",
      "PuBuGn\n",
      "지역 별 단란주점수 PuBuGn지도 생성완료\n",
      "BuGn\n",
      "지역 별 유흥주점수 BuGn지도 생성완료\n",
      "YlGn\n",
      "지역 별 단란유흥수 YlGn지도 생성완료\n"
     ]
    }
   ],
   "source": [
    "#cap_map_list 항목별로 지도 생성\n",
    "j = 0\n",
    "for i in cap_map_list:\n",
    "    gg_map = folium.Map(location=[37.5502, 126.982],tiles='Mapbox Bright' ,zoom_start=11) #https://python-visualization.github.io/folium/quickstart.html\n",
    "    folium.Choropleth(geo_data=state_geo,\n",
    "                        data= df,\n",
    "                        columns = ['지역', i],\n",
    "                        fill_color= color_list[j], fill_opacity=1.0, line_opacity=0.7, #fill_opacity - 투명도, 높을수록 짙어짐   line_opacity - 선 굵기, 높을수록 굵어짐\n",
    "                        legend_name = i,\n",
    "                        #threshold_scale=[10000, 100000, 300000, 500000, 700000],\n",
    "                        key_on = 'feature.properties.name').add_to(gg_map)\n",
    "    \n",
    "\n",
    "    #텍스트 표시\n",
    "    for name, at, lng in zip(lo_df.지역, lo_df.위도, lo_df.경도):\n",
    "        folium.map.Marker(\n",
    "            [at, lng-0.01],\n",
    "            icon=DivIcon(\n",
    "                icon_size=(150,36),\n",
    "                icon_anchor=(0,0),\n",
    "                html='<div style=\"font-size: 7pt\">%s</div>' % name,\n",
    "                )\n",
    "            ).add_to(gg_map)\n",
    "\n",
    "    gg_map.save('./data/seoul_map_output_list/seoul_map_'+i+'수.html')\n",
    "    print(color_list[j])\n",
    "    print(\"지역 별 \"+i+\"수 \"+color_list[j] +\"지도 생성완료\")\n",
    "    j += 1\n",
    "    #display(gg_map)\n",
    "    \n"
   ]
  }
 ],
 "metadata": {
  "kernelspec": {
   "display_name": "Python 3",
   "language": "python",
   "name": "python3"
  },
  "language_info": {
   "codemirror_mode": {
    "name": "ipython",
    "version": 3
   },
   "file_extension": ".py",
   "mimetype": "text/x-python",
   "name": "python",
   "nbconvert_exporter": "python",
   "pygments_lexer": "ipython3",
   "version": "3.7.4"
  }
 },
 "nbformat": 4,
 "nbformat_minor": 4
}
