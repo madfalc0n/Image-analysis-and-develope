{
 "cells": [
  {
   "cell_type": "code",
   "execution_count": 1,
   "metadata": {
    "ExecuteTime": {
     "end_time": "2020-01-08T07:24:49.273792Z",
     "start_time": "2020-01-08T07:24:48.838251Z"
    }
   },
   "outputs": [],
   "source": [
    "import scipy.stats as sp\n",
    "import numpy as np\n",
    "import matplotlib.pyplot as plt\n",
    "from PIL import ImageFont, ImageDraw, Image\n",
    "\n",
    "%matplotlib inline\n",
    "import cv2"
   ]
  },
  {
   "cell_type": "code",
   "execution_count": 15,
   "metadata": {
    "ExecuteTime": {
     "end_time": "2020-01-08T07:43:48.453493Z",
     "start_time": "2020-01-08T07:43:48.297208Z"
    }
   },
   "outputs": [
    {
     "name": "stdout",
     "output_type": "stream",
     "text": [
      "-255\n",
      "255\n",
      "\n",
      "-127\n",
      "383\n",
      "\n",
      "0\n",
      "255\n",
      "\n"
     ]
    },
    {
     "data": {
      "text/plain": [
       "<matplotlib.image.AxesImage at 0x2184f4220c8>"
      ]
     },
     "execution_count": 15,
     "metadata": {},
     "output_type": "execute_result"
    },
    {
     "data": {
      "image/png": "[encoded data removed]",
      "text/plain": [
       "<Figure size 432x288 with 1 Axes>"
      ]
     },
     "metadata": {
      "needs_background": "light"
     },
     "output_type": "display_data"
    }
   ],
   "source": [
    "## 엠보싱 필터\n",
    "img = cv2.imread('./data/sand.png', cv2.IMREAD_GRAYSCALE) # 그레이로 불러오기\n",
    "img = img.astype('int16') #  음수도표시하기 위해 초기 타입을 플롯으로 설정\n",
    "\n",
    "kernel = np.array([[0,1,0],\n",
    "                  [0,0,0],\n",
    "                  [0,-1,0]\n",
    "                   ])\n",
    "\n",
    "filtered = cv2.filter2D(img, -1, kernel)\n",
    "\n",
    "#값을 더해주기\n",
    "filtered2 = cv2.filter2D(img, -1, kernel) + 128\n",
    "\n",
    "#정규화 진행\n",
    "filtered3 = cv2.normalize(filtered, None, 0, 255, cv2.NORM_MINMAX)\n",
    "#filtered3 = filtered3.astype('uint8')\n",
    "\n",
    "print(np.min(filtered)) #min 값인 -123은 0으로 보내버림\n",
    "print(np.max(filtered))\n",
    "print()\n",
    "print(np.min(filtered2))\n",
    "print(np.max(filtered2))\n",
    "print()\n",
    "print(np.min(filtered3))\n",
    "print(np.max(filtered3))\n",
    "print()\n",
    "\n",
    "cv2.imwrite('./data/sand_1.jpg',filtered)\n",
    "cv2.imwrite('./data/sand_2.jpg',filtered2)\n",
    "cv2.imwrite('./data/sand_3.jpg',filtered3)\n"
   ]
  },
  {
   "cell_type": "code",
   "execution_count": 6,
   "metadata": {
    "ExecuteTime": {
     "end_time": "2020-01-08T07:30:50.215126Z",
     "start_time": "2020-01-08T07:30:50.180721Z"
    }
   },
   "outputs": [
    {
     "name": "stdout",
     "output_type": "stream",
     "text": [
      "-255\n",
      "255\n",
      "\n",
      "-127\n",
      "383\n",
      "\n",
      "0\n",
      "255\n",
      "\n"
     ]
    },
    {
     "data": {
      "text/plain": [
       "True"
      ]
     },
     "execution_count": 6,
     "metadata": {},
     "output_type": "execute_result"
    }
   ],
   "source": [
    "## 엠보싱 필터\n",
    "img = cv2.imread('./data/sand.png', cv2.IMREAD_GRAYSCALE) # 그레이로 불러오기\n",
    "img = img.astype('int16') #  음수도표시하기 위해 초기 타입을 플롯으로 설정\n",
    "\n",
    "kernel = np.array([[0,0,0],\n",
    "                  [1,0,-1],\n",
    "                  [0,0,0]\n",
    "                   ])\n",
    "\n",
    "filtered = cv2.filter2D(img, -1, kernel)\n",
    "\n",
    "#값을 더해주기\n",
    "filtered2 = cv2.filter2D(img, -1, kernel) + 128\n",
    "\n",
    "#정규화 진행\n",
    "filtered3 = cv2.normalize(filtered, None, 0, 255, cv2.NORM_MINMAX)\n",
    "#filtered3 = filtered3.astype('uint8')\n",
    "\n",
    "print(np.min(filtered)) #min 값인 -123은 0으로 보내버림\n",
    "print(np.max(filtered))\n",
    "print()\n",
    "print(np.min(filtered2))\n",
    "print(np.max(filtered2))\n",
    "print()\n",
    "print(np.min(filtered3))\n",
    "print(np.max(filtered3))\n",
    "print()\n",
    "\n",
    "cv2.imwrite('./data/sand_4.jpg',filtered)\n",
    "cv2.imwrite('./data/sand_5.jpg',filtered2)\n",
    "cv2.imwrite('./data/sand_6.jpg',filtered3)\n",
    "\n",
    "#plt.imshow(cv2.cvtColor(filtered, cv2.COLOR_BGR2RGB))"
   ]
  }
 ],
 "metadata": {
  "kernelspec": {
   "display_name": "Python 3",
   "language": "python",
   "name": "python3"
  },
  "language_info": {
   "codemirror_mode": {
    "name": "ipython",
    "version": 3
   },
   "file_extension": ".py",
   "mimetype": "text/x-python",
   "name": "python",
   "nbconvert_exporter": "python",
   "pygments_lexer": "ipython3",
   "version": "3.7.3"
  }
 },
 "nbformat": 4,
 "nbformat_minor": 2
}
