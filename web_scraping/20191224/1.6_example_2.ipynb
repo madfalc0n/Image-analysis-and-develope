{
 "cells": [
  {
   "cell_type": "markdown",
   "metadata": {},
   "source": [
    "## 2. 정적 웹 페이지 크롤링과 스크래핑 예제\n",
    " - url: https://movie.daum.net/boxoffice/weekly\n",
    " - 박스오피스 1위- 5위 영화제목하고 평점, 댓글 내용을 추출하여 출력하는 웹 크롤링 소스를 구현\n",
    " - 단, 평점이 있더라도 댓글이 비어있는 것은 제외합니다.\n"
   ]
  },
  {
   "cell_type": "code",
   "execution_count": 1,
   "metadata": {},
   "outputs": [],
   "source": [
    "from bs4 import BeautifulSoup\n",
    "import urllib.request as req\n",
    "import re\n",
    "import requests"
   ]
  },
  {
   "cell_type": "code",
   "execution_count": 2,
   "metadata": {},
   "outputs": [],
   "source": [
    "host = 'https://movie.daum.net'\n",
    "req = requests.get(host + '/boxoffice/weekly')\n",
    "html =req.text\n",
    "#print(html)"
   ]
  },
  {
   "cell_type": "code",
   "execution_count": 3,
   "metadata": {},
   "outputs": [],
   "source": [
    "soup = BeautifulSoup(html, 'html.parser')\n",
    "#print(soup)\n",
    "\n",
    "#titles = soup.find('검색')\n",
    "titles = soup.select('.tit_join > a')\n",
    "points = soup.select('.emph_grade')\n",
    "\n",
    "\n",
    "movie_num = 5 # 1위~5위 까지\n",
    "movie_list = {}\n",
    "\n",
    "#영화 제목\n",
    "for i in range(movie_num):\n",
    "    movie_list[titles[i].text] = ['' , ''] \n",
    "\n",
    "#영화 평점\n",
    "for j in range(movie_num):\n",
    "    movie_list[titles[j].text][0] = points[j].text\n"
   ]
  },
  {
   "cell_type": "code",
   "execution_count": 4,
   "metadata": {},
   "outputs": [
    {
     "name": "stdout",
     "output_type": "stream",
     "text": [
      "['133855', '128397', '93004', '135716', '131271']\n"
     ]
    }
   ],
   "source": [
    "#url을 통한 영화 ID get\n",
    "movie_id = []\n",
    "for x in range(movie_num): #영화별 ID로 변경\n",
    "    trans_id = re.findall('\\d+', titles[x]['href'])[0] #숫자 제외하고 모두 삭제\n",
    "    movie_id.append(trans_id)\n",
    "\n",
    "print(movie_id)"
   ]
  },
  {
   "cell_type": "code",
   "execution_count": 5,
   "metadata": {},
   "outputs": [],
   "source": [
    "# 다음 영화 리뷰 get\n",
    "\n",
    "for z in range(movie_num):\n",
    "    test_url = 'https://movie.daum.net/moviedb/grade?movieId=' +movie_id[z] + '&type=netizen'\n",
    "    req_review = requests.get(test_url)\n",
    "    html =req_review.text\n",
    "    soup2 = BeautifulSoup(html, 'html.parser')\n",
    "    review2 = soup2.select('.desc_review') #리뷰관련 속성 get\n",
    "    #print(review2)\n",
    "\n",
    "    note = []\n",
    "    for i in review2:\n",
    "        textline = i.text\n",
    "        textline.rstrip()#공백 제거\n",
    "        textline = re.sub(\"[\\r\\n]\", \"\", textline) #기타 들여쓰기 등 제거\n",
    "        textline = textline.strip()\n",
    "        note.append(textline)\n",
    "\n",
    "    movie_list[titles[z].text][1] = note\n"
   ]
  },
  {
   "cell_type": "code",
   "execution_count": 6,
   "metadata": {},
   "outputs": [
    {
     "name": "stdout",
     "output_type": "stream",
     "text": [
      "영화제목: 백두산\n",
      "평점: 6.9\n",
      "리뷰: ['구성이 너무 허술하다. 진지해야하는 상황에서 맥락에 어울리지 않는 배우들의 연기가 너무 어색하고 부자연스럽다. 면면이 화려한 배우들의 역량이 반도 표현되지 못한 느낌..연출력의 부재.', '엄첨 재미있는데 평점이 왜 이렇지? 이해 안감', '', '시간 아깝지 않게 즐겁게 봤습니다.', '역대 한국 재난영화 중 최고라 봄', '평점이 왜이러지?재밌게 잘봤는뎅', '좋은데  돈많이쓰면  허접할줄 알았는데  이병헌  역시다...연기는....', '평점왜낮지노이해', '영화가 쓰레기인걸 평점테러 웅애웅하네ㅋㅋㅋㅋ 수지 아내인거부터 어이없는데 임산부 하정우 나이값해라', '우리나라도 이제 할리우드 대작 스케일의영화를 만들수 있구나.재미 있었다']\n",
      "-----------------------------------------\n",
      "영화제목: 시동\n",
      "평점: 8.0\n",
      "리뷰: ['연말에 즐기기 딱 좋은 영화입니다.', '', '모야...', '아이들이랑 재밌게 보고 왔습니다박정민배우 연기 참 대단하네요~', '걍 맘편하게 봤네요적당히 웃음도 주고잔잔한 감동도 있고~~전 혼자보느라크게 웃지도 못했는데가족이랑 보면 큰소리로 많이 웃을거 같아요~~', '알바들 애쓰네', '백두산 시동 하나같이 쓰레기뿐이네 한국영화 수준 ㅉ', '올해본영화중최악이었네요 마무리도너무급한느낌이고 편집이이상한건지 보는내내갑갑했어요', '올해 최고로 많이 웃은 영화예요!!', '너무 재미있게 봤네요.ㅎ']\n",
      "-----------------------------------------\n",
      "영화제목: 겨울왕국 2\n",
      "평점: 7.4\n",
      "리뷰: ['1편이 좀 낮다는....', '(*´ ˘ `*)', '', '최고였어요.벌써 6번 봤어요.', '본편같은 후편은 없다~~~딱 맞고요~미안합니다..영화초반부터 너무 잤어요~코까지 골았네요~크리스토프~뮤비 나올때 잠깐 봤어요~ 옆에 ㄱㅖ셨던 분들께 다시한번 사과의 말씀을 드립니다~', '예전 애니에 비하면 격세지감.... 악을 무찌르는것도 아니고 백마탄 왕자도 아니고, 예뻐지는 것도 아니고. 자기 조상들이 과거 잘못한 일을  깨닫고 바로 잡아서, 그 피해자들과도  다함께  잘 지내는 것이 결론임. 그것도 여자 둘이서. 아마 이걸 보고자라는 지금 10세 정도 여아이들의 20년 후 즘이면 세상이 확실하게 변해 있을 듯.', '스토리는 머 어거지로 짜맞춘감이 있지만만화인걸 감안하고 전작보다 월등한 그래픽 감안하면볼만은 했어요 ~', '스토리가 참 얼렁뚱땅 넘기는 느낌 감정선도 이해가 잘 안 간다 노래랑 장면은 멋있지만 공감은 잘 안간다는..', '뭔 이딴게 또천만참 영화볼줄 모르네', '진짜 너무 재밌었다 1편 만큼 좋았다']\n",
      "-----------------------------------------\n",
      "영화제목: 신비아파트 극장판 하늘도깨비 대 요르문간드\n",
      "평점: 7.7\n",
      "리뷰: ['잘했네. .', '그렇게 재미있지는 않았어요. 그래도 아이들이 즐거워 하니 다행입니다.', '1편이 더 재밌긴하지만 국산애니니까 10점', '아이들 만족 백점. 긴 러닝타임 이번에는 돈 아깝지 않다', '어른이 봐도 꿀잼~', '진짜 너무 재밌습니다동생 따라 갔다가 진짜 재밌게 보고 옴', '이거냐 내 사촌동생이 보고와서 재밌어 죽겠다고 왕좋아하는게', '', '애들 이거 완전 좋아하든데 ㄷㄷㄷㄷㄷ', '짱잼 ㅋㅋㅋㅋ 어른이 봐도 재밌네여 주비 매력에 빠져버렷']\n",
      "-----------------------------------------\n",
      "영화제목: 쥬만지: 넥스트 레벨\n",
      "평점: 5.7\n",
      "리뷰: ['', '킬링타임으로 보면 재미있어요~', '1편에  비해  스토리가 많이 빈약하네요.', 'ㅇ', '남친이랑 재밋게 봣는데 평점왜이럼 테러맞음??...', '엄마랑 완전 재밌게 봤어요~~특히 동물박사랑  닥터브레이브스톤이 나이 든 사람 말투 쓰는게 웃겼네요', '드럽게 재미없슴.', '내생에 두손가락  안에 꼽히는 영화!!!극장에서  나오 려다  참고  참음', '좀더 짜임새있게 했다면 좋았을껀데 특히 마지막이 허무해요...', '']\n",
      "-----------------------------------------\n"
     ]
    }
   ],
   "source": [
    "for i,j  in movie_list.items():\n",
    "    print('영화제목:' , i)\n",
    "    print('평점:' , j[0])\n",
    "    print('리뷰:' , j[1])\n",
    "    print('-----------------------------------------')"
   ]
  },
  {
   "cell_type": "code",
   "execution_count": null,
   "metadata": {},
   "outputs": [],
   "source": []
  }
 ],
 "metadata": {
  "kernelspec": {
   "display_name": "Python 3",
   "language": "python",
   "name": "python3"
  },
  "language_info": {
   "codemirror_mode": {
    "name": "ipython",
    "version": 3
   },
   "file_extension": ".py",
   "mimetype": "text/x-python",
   "name": "python",
   "nbconvert_exporter": "python",
   "pygments_lexer": "ipython3",
   "version": "3.7.4"
  }
 },
 "nbformat": 4,
 "nbformat_minor": 4
}
