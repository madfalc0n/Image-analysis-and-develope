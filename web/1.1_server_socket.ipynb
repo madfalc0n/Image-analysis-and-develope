{
 "cells": [
  {
   "cell_type": "code",
   "execution_count": 1,
   "metadata": {
    "ExecuteTime": {
     "end_time": "2020-02-11T05:14:29.018307Z",
     "start_time": "2020-02-11T05:14:29.015264Z"
    }
   },
   "outputs": [],
   "source": [
    "import socket"
   ]
  },
  {
   "cell_type": "code",
   "execution_count": null,
   "metadata": {
    "ExecuteTime": {
     "end_time": "2020-02-11T01:18:06.118087Z",
     "start_time": "2020-02-11T01:17:54.319391Z"
    }
   },
   "outputs": [],
   "source": [
    "server_socket = socket.socket(socket.AF_INET, socket.SOCK_STREAM)\n",
    "#PF_INET는 프로토콜 체계(프로토콜 패밀리)중 하나이고,\n",
    "#AF_INET는 주소 체계(주소 패밀리)중 하나\n",
    "#AF_INET 은 IPv4 를 사용하겠다는 의미\n",
    "\n",
    "#socket.SOCK_STREAM 타입 커넥션 기반 TCP protocol\n",
    "#socket.SOCK_DGRAM 타입 데이터그램 기반 UDP protocol\n",
    "\n",
    "\n",
    "server_socket.bind(('localhost', 12345)) # localhost : 12345 번 할당 \n",
    "server_socket.listen(0) # 12345 포트로 listen 하고있겠다 -> 포트를 오픈하겠다.\n",
    "print(\"listening\")\n",
    "\n",
    "client_socket, addr = server_socket.accept() #\n",
    "print(\"accepting\")\n",
    "\n",
    "data = client_socket.recv(65535) \n",
    "\n",
    "\n",
    "print(\"data 수신: \"+data.decode()) # 디코딩 처리, 한글코드같은 unicode를 인식하기 위함\n",
    "\n",
    "\n",
    "client_socket.send(data) # 받은 데이터를 다시 보냄\n",
    "print(\"클라이언트에게 받은 데이터를 다시 send\")\n",
    "\n",
    "\n",
    "client_socket.close()\n",
    "print(\"소켓통신 close\")"
   ]
  },
  {
   "cell_type": "code",
   "execution_count": null,
   "metadata": {
    "ExecuteTime": {
     "end_time": "2020-02-11T01:39:00.298888Z",
     "start_time": "2020-02-11T01:38:53.307717Z"
    }
   },
   "outputs": [],
   "source": [
    "#GET, POST 방식 LAB\n",
    "server_socket = socket.socket(socket.AF_INET, socket.SOCK_STREAM)\n",
    "\n",
    "server_socket.bind(('localhost', 80)) # localhost : 80 번 할당 \n",
    "server_socket.listen(0) # 80 포트 오픈\n",
    "print(\"listening\")\n",
    "\n",
    "client_socket, addr = server_socket.accept() #\n",
    "print(\"accepting\")\n",
    "data = client_socket.recv(65535) \n",
    "\n",
    "print(\"data 수신: \"+data.decode()) # 디코딩 처리, 한글코드같은 unicode를 인식하기 위함\n",
    "client_socket.close()"
   ]
  },
  {
   "cell_type": "code",
   "execution_count": null,
   "metadata": {
    "ExecuteTime": {
     "end_time": "2020-02-11T01:57:12.843354Z",
     "start_time": "2020-02-11T01:56:31.769534Z"
    },
    "scrolled": true
   },
   "outputs": [],
   "source": [
    "#클라이언트에게 응답 주기\n",
    "\n",
    "server_socket = socket.socket(socket.AF_INET, socket.SOCK_STREAM)\n",
    "\n",
    "server_socket.bind(('localhost', 80)) # localhost : 80 번 할당 \n",
    "server_socket.listen(0) # 80 포트 오픈\n",
    "print(\"listening\")\n",
    "\n",
    "while True:\n",
    "    client_socket, addr = server_socket.accept() #\n",
    "    print(\"accepting\")\n",
    "    \n",
    "    data = ''\n",
    "    data = client_socket.recv(65535) \n",
    "    print(\"data 수신: \"+data.decode()) # 디코딩 처리, 한글코드같은 unicode를 인식하기 위함\n",
    "\n",
    "    client_socket.send('HTTP/1.0 200 OK\\r\\n\\r\\nHello'.encode(\"utf-8\"))\n",
    "    # 헤더정보 ('HTTP/1.0 200 OK\\r\\n\\r\\n') 이후 내용을 출력\n",
    "\n",
    "    client_socket.close()\n",
    "    print(\"소켓통신 close\")"
   ]
  },
  {
   "cell_type": "code",
   "execution_count": 3,
   "metadata": {
    "ExecuteTime": {
     "end_time": "2020-02-11T02:43:36.686941Z",
     "start_time": "2020-02-11T02:43:29.389836Z"
    },
    "scrolled": true
   },
   "outputs": [
    {
     "name": "stdout",
     "output_type": "stream",
     "text": [
      "listening\n",
      "accepting\n",
      "data 수신: GET /index.html HTTP/1.1\n",
      "Host: 127.0.0.1\n",
      "Connection: keep-alive\n",
      "Upgrade-Insecure-Requests: 1\n",
      "User-Agent: Mozilla/5.0 (Windows NT 10.0; Win64; x64) AppleWebKit/537.36 (KHTML, like Gecko) Chrome/79.0.3945.130 Safari/537.36\n",
      "Sec-Fetch-User: ?1\n",
      "Accept: text/html,application/xhtml+xml,application/xml;q=0.9,image/webp,image/apng,*/*;q=0.8,application/signed-exchange;v=b3;q=0.9\n",
      "Sec-Fetch-Site: none\n",
      "Sec-Fetch-Mode: navigate\n",
      "Accept-Encoding: gzip, deflate, br\n",
      "Accept-Language: ko-KR,ko;q=0.9,en-US;q=0.8,en;q=0.7\n",
      "Cookie: __utmz=96992031.1581297499.1.1.utmcsr=(direct)|utmccn=(direct)|utmcmd=(none); __utma=96992031.1116185912.1581297499.1581322072.1581325757.6\n",
      "\n",
      "\n",
      "/index.html\n",
      "소켓통신 close\n"
     ]
    }
   ],
   "source": [
    "#클라이언트에게 시간 알려주기\n",
    "from datetime import datetime\n",
    "\n",
    "server_socket = socket.socket(socket.AF_INET, socket.SOCK_STREAM)\n",
    "\n",
    "server_socket.bind(('localhost', 80)) # localhost : 80 번 할당 \n",
    "server_socket.listen(0) # 80 포트 오픈\n",
    "print(\"listening\")\n",
    "\n",
    "if True:\n",
    "    client_socket, addr = server_socket.accept() #\n",
    "    print(\"accepting\")\n",
    "\n",
    "    data = ''\n",
    "    data = client_socket.recv(65535) \n",
    "    data = data.decode()\n",
    "    print(\"data 수신: \"+data) # 디코딩 처리, 한글코드같은 unicode를 인식하기 위함, byte 타입을 문자열로\n",
    "    data_headers = data.split('\\r\\n')[0]\n",
    "    data_path = data_headers.split(' ')[1]\n",
    "    file = open('.'+data_path, 'rt', encoding='utf-8')\n",
    "    html = file.read()\n",
    "    print(data_path)\n",
    "\n",
    "    header = 'HTTP/1.0 200 OK\\r\\n\\r\\n'\n",
    "    client_socket.send(header.encode(\"utf-8\"))\n",
    "    client_socket.send(html.encode(\"utf-8\"))\n",
    "\n",
    "    # 헤더정보 ('HTTP/1.0 200 OK\\r\\n\\r\\n') 이후 내용을 출력\n",
    "\n",
    "    client_socket.close()\n",
    "    print(\"소켓통신 close\")"
   ]
  },
  {
   "cell_type": "code",
   "execution_count": null,
   "metadata": {
    "ExecuteTime": {
     "start_time": "2020-02-11T05:13:18.185Z"
    },
    "scrolled": false
   },
   "outputs": [
    {
     "name": "stdout",
     "output_type": "stream",
     "text": [
      "listening\n"
     ]
    }
   ],
   "source": [
    "import socket\n",
    "\n",
    "server_socket = socket.socket(socket.AF_INET, socket.SOCK_STREAM)\n",
    "\n",
    "server_socket.bind(('localhost', 80))\n",
    "server_socket.listen(0)\n",
    "print(\"listening\")\n",
    "\n",
    "while  True :\n",
    "    client_socket, addr = server_socket.accept()\n",
    "    print(\"accepting\")\n",
    "    data = client_socket.recv(65535)    \n",
    "    data = data.decode()\n",
    "    print(data)\n",
    "    \n",
    "    headers = data.split(\"\\r\\n\")\n",
    "    filename = headers[0].split(\" \")[1]\n",
    "    \n",
    "    if '.html' in filename :\n",
    "        print(\"html로 빠짐\")\n",
    "        file = open(\".\"+ filename, 'rt', encoding='utf-8') #텍스트로 읽어옴, w-쓰기, r-읽기, t-텍스트, b-바이너리\n",
    "        html = file.read()    \n",
    "        header = 'HTTP/1.0 200 OK\\r\\n\\r\\n'        \n",
    "        client_socket.send(header.encode(\"utf-8\"))\n",
    "        client_socket.send(html.encode(\"utf-8\"))\n",
    "    \n",
    "    elif '.jpg' in filename :\n",
    "        print(\"jpg로 빠짐\")\n",
    "        client_socket.send('HTTP/1.1 200 OK\\r\\n'.encode())\n",
    "        client_socket.send(\"Content-Type: image/jpg\\r\\n\".encode())\n",
    "        client_socket.send(\"Accept-Ranges: bytes\\r\\n\\r\\n\".encode())\n",
    "        file = open(\".\" + filename, \"rb\")            \n",
    "        client_socket.send(file.read())  \n",
    "        file.close()           \n",
    "        \n",
    "    else :\n",
    "        header = 'HTTP/1.0 404 File Not Found\\r\\n\\r\\n'        \n",
    "        client_socket.send(header.encode(\"utf-8\"))\n",
    "    client_socket.close()"
   ]
  },
  {
   "cell_type": "code",
   "execution_count": 7,
   "metadata": {
    "ExecuteTime": {
     "end_time": "2020-02-11T05:25:54.009290Z",
     "start_time": "2020-02-11T05:25:53.957256Z"
    }
   },
   "outputs": [
    {
     "name": "stdout",
     "output_type": "stream",
     "text": [
      "b'a\\xb4\\xf5\\xc7\\xcf\\xb1\\xe2b\\r\\n30\\r\\n'\n",
      "a더하기b\r\n",
      "30\r\n",
      "\n"
     ]
    }
   ],
   "source": [
    "import subprocess #특정어플리케이션을 실행할 수 있게 해주는 모듈\n",
    "\n",
    "output = subprocess.check_output(['python.exe', 'test.py' ]) #실행시킬 프로그램 이름, 프로그램 파일 \n",
    "# bash 에서 `python test.py`를 실행 시키는 것과 똑같음\n",
    "print(output) #b'30\\r\\n'\n",
    "print(output.decode('cp949')) #30 , string 으로 바꾼 결과, 한글이 들어간경우 `cp949`로 인코딩 해주어야 함\n"
   ]
  }
 ],
 "metadata": {
  "kernelspec": {
   "display_name": "Python 3",
   "language": "python",
   "name": "python3"
  },
  "language_info": {
   "codemirror_mode": {
    "name": "ipython",
    "version": 3
   },
   "file_extension": ".py",
   "mimetype": "text/x-python",
   "name": "python",
   "nbconvert_exporter": "python",
   "pygments_lexer": "ipython3",
   "version": "3.7.4"
  }
 },
 "nbformat": 4,
 "nbformat_minor": 2
}
