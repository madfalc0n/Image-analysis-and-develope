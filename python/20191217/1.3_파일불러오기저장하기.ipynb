{
 "cells": [
  {
   "cell_type": "code",
   "execution_count": 2,
   "metadata": {},
   "outputs": [],
   "source": [
    "import pandas as pd\n"
   ]
  },
  {
   "cell_type": "code",
   "execution_count": 6,
   "metadata": {},
   "outputs": [],
   "source": [
    "file_path = './datas/datas/df_sample.json'"
   ]
  },
  {
   "cell_type": "code",
   "execution_count": 7,
   "metadata": {},
   "outputs": [
    {
     "name": "stdout",
     "output_type": "stream",
     "text": [
      "      algol basic c++\n",
      "Jerry     A     C  B+\n",
      "Riah     A+     B   C\n",
      "Paul      B    B+  C+\n",
      "Index(['Jerry', 'Riah', 'Paul'], dtype='object')\n",
      "Index(['algol', 'basic', 'c++'], dtype='object')\n"
     ]
    }
   ],
   "source": [
    "#json 파일 불러오기\n",
    "df = pd.read_json(file_path)\n",
    "print(df)\n",
    "print(df.index)\n",
    "print(df.columns)"
   ]
  },
  {
   "cell_type": "code",
   "execution_count": 14,
   "metadata": {},
   "outputs": [
    {
     "name": "stdout",
     "output_type": "stream",
     "text": [
      "tables[0]\n",
      "   Unnamed: 0  c0  c1  c2  c3\n",
      "0           0   0   1   4   7\n",
      "1           1   1   2   5   8\n",
      "2           2   2   3   6   9\n",
      "tables[1]\n",
      "         name  year        developer  opensource\n",
      "0       NumPy  2006  Travis Oliphant        True\n",
      "1  matplotlib  2003   John D. Hunter        True\n",
      "2      pandas  2008    Wes Mckinneye        True\n"
     ]
    },
    {
     "data": {
      "text/html": [
       "<div>\n",
       "<style scoped>\n",
       "    .dataframe tbody tr th:only-of-type {\n",
       "        vertical-align: middle;\n",
       "    }\n",
       "\n",
       "    .dataframe tbody tr th {\n",
       "        vertical-align: top;\n",
       "    }\n",
       "\n",
       "    .dataframe thead th {\n",
       "        text-align: right;\n",
       "    }\n",
       "</style>\n",
       "<table border=\"1\" class=\"dataframe\">\n",
       "  <thead>\n",
       "    <tr style=\"text-align: right;\">\n",
       "      <th></th>\n",
       "      <th>year</th>\n",
       "      <th>developer</th>\n",
       "      <th>opensource</th>\n",
       "    </tr>\n",
       "    <tr>\n",
       "      <th>name</th>\n",
       "      <th></th>\n",
       "      <th></th>\n",
       "      <th></th>\n",
       "    </tr>\n",
       "  </thead>\n",
       "  <tbody>\n",
       "    <tr>\n",
       "      <td>NumPy</td>\n",
       "      <td>2006</td>\n",
       "      <td>Travis Oliphant</td>\n",
       "      <td>True</td>\n",
       "    </tr>\n",
       "    <tr>\n",
       "      <td>matplotlib</td>\n",
       "      <td>2003</td>\n",
       "      <td>John D. Hunter</td>\n",
       "      <td>True</td>\n",
       "    </tr>\n",
       "    <tr>\n",
       "      <td>pandas</td>\n",
       "      <td>2008</td>\n",
       "      <td>Wes Mckinneye</td>\n",
       "      <td>True</td>\n",
       "    </tr>\n",
       "  </tbody>\n",
       "</table>\n",
       "</div>"
      ],
      "text/plain": [
       "            year        developer  opensource\n",
       "name                                         \n",
       "NumPy       2006  Travis Oliphant        True\n",
       "matplotlib  2003   John D. Hunter        True\n",
       "pandas      2008    Wes Mckinneye        True"
      ]
     },
     "execution_count": 14,
     "metadata": {},
     "output_type": "execute_result"
    }
   ],
   "source": [
    "#html 파일 불러오기\n",
    "file_path = './datas/datas/sample.html'\n",
    "tables = pd.read_html(file_path)\n",
    "#print(len(tables))\n",
    "#print(tables)\n",
    "for i in range(len(tables)):\n",
    "    print(\"tables[%s]\" % i)\n",
    "    print(tables[i])\n",
    "\n",
    "df = tables[1]\n",
    "df.set_index(['name'], inplace=True)\n",
    "df"
   ]
  },
  {
   "cell_type": "code",
   "execution_count": 16,
   "metadata": {},
   "outputs": [
    {
     "name": "stdout",
     "output_type": "stream",
     "text": [
      "    수학  영어   국어  과학\n",
      "이름                 \n",
      "영희  90  95  100  70\n",
      "철수  80  89   80  70\n",
      "삼식  70  90   75  70\n"
     ]
    }
   ],
   "source": [
    "#csv 파일로 저장하기\n",
    "exam_data= {'이름' : ['영희', '철수', '삼식'],\n",
    "                  '수학': [90,80,70],\n",
    "                  '영어': [95,89,90],\n",
    "                  '국어': [100,80,75],\n",
    "                  '과학': [70,70,70]}\n",
    "df = pd.DataFrame(exam_data)\n",
    "df.set_index('이름', inplace=True)\n",
    "print(df)\n",
    "df.to_csv('./20191217_csv출력.csv')\n",
    "\n",
    "\n"
   ]
  },
  {
   "cell_type": "code",
   "execution_count": 17,
   "metadata": {},
   "outputs": [
    {
     "name": "stdout",
     "output_type": "stream",
     "text": [
      "    수학  영어   국어  과학\n",
      "이름                 \n",
      "영희  90  95  100  70\n",
      "철수  80  89   80  70\n",
      "삼식  70  90   75  70\n"
     ]
    }
   ],
   "source": [
    "#json 파일로 저장하기\n",
    "exam_data= {'이름' : ['영희', '철수', '삼식'],\n",
    "                  '수학': [90,80,70],\n",
    "                  '영어': [95,89,90],\n",
    "                  '국어': [100,80,75],\n",
    "                  '과학': [70,70,70]}\n",
    "df = pd.DataFrame(exam_data)\n",
    "df.set_index('이름', inplace=True)\n",
    "print(df)\n",
    "df.to_json('./20191217_json출력.json')\n"
   ]
  },
  {
   "cell_type": "code",
   "execution_count": 18,
   "metadata": {},
   "outputs": [
    {
     "name": "stdout",
     "output_type": "stream",
     "text": [
      "    수학  영어   국어  과학\n",
      "이름                 \n",
      "영희  90  95  100  70\n",
      "철수  80  89   80  70\n",
      "삼식  70  90   75  70\n"
     ]
    }
   ],
   "source": [
    "#excel 파일로 저장\n",
    "exam_data= {'이름' : ['영희', '철수', '삼식'],\n",
    "                  '수학': [90,80,70],\n",
    "                  '영어': [95,89,90],\n",
    "                  '국어': [100,80,75],\n",
    "                  '과학': [70,70,70]}\n",
    "df = pd.DataFrame(exam_data)\n",
    "df.set_index('이름', inplace=True)\n",
    "print(df)\n",
    "df.to_excel('./20191217_excel출력.xlsx')\n"
   ]
  },
  {
   "cell_type": "code",
   "execution_count": 21,
   "metadata": {},
   "outputs": [
    {
     "name": "stdout",
     "output_type": "stream",
     "text": [
      "    c0  c1  c2  c3  c4\n",
      "r0   1   4   7  10  13\n",
      "r1   2   5   8  11  14\n",
      "r2   3   6   9  12  15\n"
     ]
    }
   ],
   "source": [
    "#excel writer 함수 사용해보기\n",
    "dict_data = {'c0': [1,2,3], 'c1': [4,5,6], 'c2': [7,8,9], 'c3': [10,11,12], 'c4': [13,14,15]}\n",
    "df2 = pd.DataFrame(dict_data, index=['r0', 'r1', 'r2'])\n",
    "print(df2)\n",
    "\n",
    "writer = pd.ExcelWriter(\"./df_excel_writer.xlsx\")\n",
    "df.to_excel(writer, sheet_name = 'sheet1')\n",
    "df2.to_excel(writer, sheet_name = 'sheet2')\n",
    "writer.save()"
   ]
  }
 ],
 "metadata": {
  "kernelspec": {
   "display_name": "Python 3",
   "language": "python",
   "name": "python3"
  },
  "language_info": {
   "codemirror_mode": {
    "name": "ipython",
    "version": 3
   },
   "file_extension": ".py",
   "mimetype": "text/x-python",
   "name": "python",
   "nbconvert_exporter": "python",
   "pygments_lexer": "ipython3",
   "version": "3.7.4"
  }
 },
 "nbformat": 4,
 "nbformat_minor": 2
}
