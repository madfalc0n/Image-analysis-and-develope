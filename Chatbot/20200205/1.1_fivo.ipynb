{
 "cells": [
  {
   "cell_type": "code",
   "execution_count": 63,
   "metadata": {
    "ExecuteTime": {
     "end_time": "2020-02-05T01:33:08.284150Z",
     "start_time": "2020-02-05T01:33:08.275382Z"
    }
   },
   "outputs": [
    {
     "name": "stdout",
     "output_type": "stream",
     "text": [
      "102334155\n"
     ]
    }
   ],
   "source": [
    "dict_fi = {1:1 , 2:1}\n",
    "def f(a):\n",
    "    #print(dict_fi)\n",
    "    v = dict_fi.get(a)\n",
    "    if  v != None:\n",
    "        return v\n",
    "    else:\n",
    "        dict_fi[a] = f(a-1) + f(a-2)\n",
    "        return dict_fi[a]\n",
    "\n",
    "print(f(40))\n",
    "\n",
    "\n",
    "\n"
   ]
  },
  {
   "cell_type": "code",
   "execution_count": null,
   "metadata": {},
   "outputs": [],
   "source": []
  }
 ],
 "metadata": {
  "kernelspec": {
   "display_name": "Python 3",
   "language": "python",
   "name": "python3"
  },
  "language_info": {
   "codemirror_mode": {
    "name": "ipython",
    "version": 3
   },
   "file_extension": ".py",
   "mimetype": "text/x-python",
   "name": "python",
   "nbconvert_exporter": "python",
   "pygments_lexer": "ipython3",
   "version": "3.7.4"
  }
 },
 "nbformat": 4,
 "nbformat_minor": 2
}
