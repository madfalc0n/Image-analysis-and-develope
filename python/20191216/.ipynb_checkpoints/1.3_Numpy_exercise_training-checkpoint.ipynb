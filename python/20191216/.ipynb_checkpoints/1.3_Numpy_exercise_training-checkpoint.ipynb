{
 "cells": [
  {
   "cell_type": "markdown",
   "metadata": {},
   "source": [
    "## datas 압축파일을 받아서  '경기도인구데이터'.csv파일을 이용하여 다음 내용을 파이썬  numpy라이브러리를 사용해서 결과를 출력하세요\n",
    "1. 파일 내용을 읽은 후 상위 5개 데이터 확인\n",
    "2. 배열 객체의 크기 확인 \n",
    "3. 중복 지역 존재 여부 확인  \n",
    "4. 2017년 수원시 인구의 합\n",
    "5. 2017년 인구가 50만이상이 지역 출력\n",
    "6. 2017년 경기도 전체 인구의 시별 인구 평균  \n"
   ]
  },
  {
   "cell_type": "code",
   "execution_count": 1,
   "metadata": {},
   "outputs": [],
   "source": [
    "import numpy as np"
   ]
  },
  {
   "cell_type": "code",
   "execution_count": 23,
   "metadata": {},
   "outputs": [],
   "source": [
    "data = np.loadtxt(\"./datas/datas/경기도인구데이터.csv\", delimiter=',', dtype=str)"
   ]
  },
  {
   "cell_type": "code",
   "execution_count": 21,
   "metadata": {},
   "outputs": [
    {
     "data": {
      "text/plain": [
       "array([['수원시장안구', '287474', '285803', '290798', '293692', '290999',\n",
       "        '291757', '300908', '301196', '299016', '296479', '293828'],\n",
       "       ['수원시권선구', '310553', '308177', '304097', '306783', '321176',\n",
       "        '332633', '331773', '339835', '351053', '358393', '365653'],\n",
       "       ['수원시팔달구', '216945', '213235', '219833', '216503', '209772',\n",
       "        '206794', '204805', '203479', '199180', '198515', '193311'],\n",
       "       ['수원시영통구', '252730', '260210', '258421', '260557', '266542',\n",
       "        '289074', '310671', '329718', '335375', '340654', '349836'],\n",
       "       ['성남시수정구', '256744', '248452', '242161', '241070', '236123',\n",
       "        '233997', '228167', '223539', '219531', '232841', '236932']],\n",
       "      dtype='<U7')"
      ]
     },
     "execution_count": 21,
     "metadata": {},
     "output_type": "execute_result"
    }
   ],
   "source": [
    "# 1.파일 내용을 읽은 후 상위 5개 데이터 확인\n",
    "data[:5, :]"
   ]
  },
  {
   "cell_type": "code",
   "execution_count": 22,
   "metadata": {},
   "outputs": [
    {
     "data": {
      "text/plain": [
       "(44, 12)"
      ]
     },
     "execution_count": 22,
     "metadata": {},
     "output_type": "execute_result"
    }
   ],
   "source": [
    "# 2. 배열 객체의 크기 확인\n",
    "data.shape"
   ]
  },
  {
   "cell_type": "code",
   "execution_count": null,
   "metadata": {},
   "outputs": [],
   "source": [
    "# 3.중복 지역 존재 여부 확인 "
   ]
  },
  {
   "cell_type": "code",
   "execution_count": null,
   "metadata": {},
   "outputs": [],
   "source": [
    "# 4.2017년 수원시 인구의 합"
   ]
  },
  {
   "cell_type": "code",
   "execution_count": null,
   "metadata": {},
   "outputs": [],
   "source": [
    "# 5.2017년 인구가 50만이상이 지역 출력"
   ]
  },
  {
   "cell_type": "code",
   "execution_count": null,
   "metadata": {},
   "outputs": [],
   "source": [
    "# 6.2017년 경기도 전체 인구의 시별 인구 평균"
   ]
  }
 ],
 "metadata": {
  "kernelspec": {
   "display_name": "Python 3",
   "language": "python",
   "name": "python3"
  },
  "language_info": {
   "codemirror_mode": {
    "name": "ipython",
    "version": 3
   },
   "file_extension": ".py",
   "mimetype": "text/x-python",
   "name": "python",
   "nbconvert_exporter": "python",
   "pygments_lexer": "ipython3",
   "version": "3.7.4"
  }
 },
 "nbformat": 4,
 "nbformat_minor": 2
}
