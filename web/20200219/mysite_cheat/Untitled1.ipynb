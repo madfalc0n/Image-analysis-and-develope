{
 "cells": [
  {
   "cell_type": "code",
   "execution_count": 1,
   "metadata": {
    "ExecuteTime": {
     "end_time": "2020-02-17T06:18:26.488288Z",
     "start_time": "2020-02-17T06:18:26.485259Z"
    }
   },
   "outputs": [],
   "source": [
    "from myapp.models import User2\n",
    "from django.db.models import Q\n"
   ]
  },
  {
   "cell_type": "code",
   "execution_count": 2,
   "metadata": {
    "ExecuteTime": {
     "end_time": "2020-02-17T06:19:08.433722Z",
     "start_time": "2020-02-17T06:19:08.427745Z"
    }
   },
   "outputs": [
    {
     "name": "stdout",
     "output_type": "stream",
     "text": [
      "kim / 김유신 -----\n",
      "kim2 / 김유신2 -----\n"
     ]
    }
   ],
   "source": [
    "data = User2.objects.all()\n",
    "\n",
    "for d in data : \n",
    "    print(d)"
   ]
  },
  {
   "cell_type": "code",
   "execution_count": 4,
   "metadata": {
    "ExecuteTime": {
     "end_time": "2020-02-17T06:31:05.154466Z",
     "start_time": "2020-02-17T06:31:05.151464Z"
    }
   },
   "outputs": [
    {
     "name": "stdout",
     "output_type": "stream",
     "text": [
      "50\n",
      "김유신\n"
     ]
    }
   ],
   "source": [
    "print(data[0].age)\n",
    "print(data[0].name)"
   ]
  },
  {
   "cell_type": "code",
   "execution_count": 6,
   "metadata": {
    "ExecuteTime": {
     "end_time": "2020-02-17T06:31:49.364406Z",
     "start_time": "2020-02-17T06:31:49.360373Z"
    }
   },
   "outputs": [
    {
     "name": "stdout",
     "output_type": "stream",
     "text": [
      "kim2 / 김유신2 -----\n"
     ]
    }
   ],
   "source": [
    "for d in data :\n",
    "    if d.age > 60 : print(d)"
   ]
  },
  {
   "cell_type": "code",
   "execution_count": 8,
   "metadata": {
    "ExecuteTime": {
     "end_time": "2020-02-17T06:35:18.987531Z",
     "start_time": "2020-02-17T06:35:18.983534Z"
    }
   },
   "outputs": [
    {
     "name": "stdout",
     "output_type": "stream",
     "text": [
      "<QuerySet [<User2: kim / 김유신 ----->, <User2: kim2 / 김유신2 ----->]>\n"
     ]
    }
   ],
   "source": [
    "print(data.filter(age__gte=50))"
   ]
  },
  {
   "cell_type": "code",
   "execution_count": 13,
   "metadata": {
    "ExecuteTime": {
     "end_time": "2020-02-17T06:37:25.851935Z",
     "start_time": "2020-02-17T06:37:25.846969Z"
    }
   },
   "outputs": [
    {
     "name": "stdout",
     "output_type": "stream",
     "text": [
      "<QuerySet [<User2: kim / 김유신 ----->]>\n"
     ]
    }
   ],
   "source": [
    "print(data.filter(name='김유신',  age__gte=50))\n",
    "print(data.filter(name='김유신').filter(age__gte=50))"
   ]
  },
  {
   "cell_type": "code",
   "execution_count": 14,
   "metadata": {
    "ExecuteTime": {
     "end_time": "2020-02-17T06:39:45.384872Z",
     "start_time": "2020-02-17T06:39:45.374810Z"
    }
   },
   "outputs": [
    {
     "data": {
      "text/plain": [
       "<QuerySet [<User2: kim / 김유신 ----->, <User2: kim2 / 김유신2 ----->]>"
      ]
     },
     "execution_count": 14,
     "metadata": {},
     "output_type": "execute_result"
    }
   ],
   "source": [
    "data.filter(name__contains='김')"
   ]
  },
  {
   "cell_type": "code",
   "execution_count": 15,
   "metadata": {
    "ExecuteTime": {
     "end_time": "2020-02-17T06:40:43.820313Z",
     "start_time": "2020-02-17T06:40:43.814315Z"
    }
   },
   "outputs": [
    {
     "data": {
      "text/plain": [
       "<QuerySet [<User2: kim / 김유신 ----->, <User2: kim2 / 김유신2 ----->]>"
      ]
     },
     "execution_count": 15,
     "metadata": {},
     "output_type": "execute_result"
    }
   ],
   "source": [
    "data.filter(name__icontains='김')"
   ]
  },
  {
   "cell_type": "code",
   "execution_count": 16,
   "metadata": {
    "ExecuteTime": {
     "end_time": "2020-02-17T06:45:25.473825Z",
     "start_time": "2020-02-17T06:45:25.468872Z"
    }
   },
   "outputs": [
    {
     "data": {
      "text/plain": [
       "<QuerySet [<User2: kim / 김유신 ----->, <User2: kim2 / 김유신2 ----->]>"
      ]
     },
     "execution_count": 16,
     "metadata": {},
     "output_type": "execute_result"
    }
   ],
   "source": [
    "data.filter( Q(age__gte=50) | Q(name__contains='유')) "
   ]
  }
 ],
 "metadata": {
  "kernelspec": {
   "display_name": "Django Shell-Plus",
   "language": "python",
   "name": "django_extensions"
  },
  "language_info": {
   "codemirror_mode": {
    "name": "ipython",
    "version": 3
   },
   "file_extension": ".py",
   "mimetype": "text/x-python",
   "name": "python",
   "nbconvert_exporter": "python",
   "pygments_lexer": "ipython3",
   "version": "3.6.10"
  },
  "varInspector": {
   "cols": {
    "lenName": 16,
    "lenType": 16,
    "lenVar": 40
   },
   "kernels_config": {
    "python": {
     "delete_cmd_postfix": "",
     "delete_cmd_prefix": "del ",
     "library": "var_list.py",
     "varRefreshCmd": "print(var_dic_list())"
    },
    "r": {
     "delete_cmd_postfix": ") ",
     "delete_cmd_prefix": "rm(",
     "library": "var_list.r",
     "varRefreshCmd": "cat(var_dic_list()) "
    }
   },
   "types_to_exclude": [
    "module",
    "function",
    "builtin_function_or_method",
    "instance",
    "_Feature"
   ],
   "window_display": false
  }
 },
 "nbformat": 4,
 "nbformat_minor": 4
}
