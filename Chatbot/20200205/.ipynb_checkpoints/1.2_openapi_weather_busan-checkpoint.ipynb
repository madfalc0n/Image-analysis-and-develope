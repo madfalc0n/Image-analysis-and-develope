{
 "cells": [
  {
   "cell_type": "code",
   "execution_count": 5,
   "metadata": {
    "ExecuteTime": {
     "end_time": "2020-02-05T02:19:02.160521Z",
     "start_time": "2020-02-05T02:19:02.156532Z"
    }
   },
   "outputs": [],
   "source": [
    "import requests\n",
    "import json\n",
    "import urllib\n",
    "from bs4 import BeautifulSoup"
   ]
  },
  {
   "cell_type": "code",
   "execution_count": 10,
   "metadata": {
    "ExecuteTime": {
     "end_time": "2020-02-05T02:23:05.816377Z",
     "start_time": "2020-02-05T02:23:05.707104Z"
    }
   },
   "outputs": [],
   "source": [
    "url =  \"https://search.naver.com/search.naver?&query=%EB%B6%80%EC%82%B0%EA%B4%91%EC%97%AD%EC%8B%9C%EB%82%A0%EC%94%A8\"\n",
    "res = requests.get(url)\n",
    "html = res.text\n",
    "#print(html) #UTF-8 타입으로 인코딩이 되지 않아 한글이 깨질수도 있다. , 뷰티풀스프에는 자동으로 변환해줌"
   ]
  },
  {
   "cell_type": "code",
   "execution_count": 9,
   "metadata": {
    "ExecuteTime": {
     "end_time": "2020-02-05T02:23:03.715856Z",
     "start_time": "2020-02-05T02:23:03.581337Z"
    }
   },
   "outputs": [],
   "source": [
    "html = urllib.request.urlopen(url).read()\n",
    "#print(html)#UTF-8 타입으로 인코딩이 되지 않아 한글이 깨질수도 있다. , 뷰티풀스프에는 자동으로 변환해줌"
   ]
  },
  {
   "cell_type": "code",
   "execution_count": 8,
   "metadata": {
    "ExecuteTime": {
     "end_time": "2020-02-05T02:23:01.504582Z",
     "start_time": "2020-02-05T02:23:00.961963Z"
    },
    "scrolled": false
   },
   "outputs": [],
   "source": [
    "bs = BeautifulSoup(urllib.request.urlopen(url).read(), \"html.parser\")\n",
    "bs = BeautifulSoup(requests.get(url).text, \"html.parser\")\n",
    "#print(bs.html)"
   ]
  },
  {
   "cell_type": "code",
   "execution_count": 11,
   "metadata": {
    "ExecuteTime": {
     "end_time": "2020-02-05T02:28:37.520751Z",
     "start_time": "2020-02-05T02:28:37.515788Z"
    }
   },
   "outputs": [],
   "source": [
    "city = \"부산광역시\"\n",
    "#인코딩 처리 해주는 함수 urllib.parse.quote_plus(city+\"날씨\")\n",
    "url = \"https://search.naver.com/search.naver?&query=\"\n",
    "url = url + urllib.parse.quote_plus(city+\"날씨\")"
   ]
  },
  {
   "cell_type": "code",
   "execution_count": 13,
   "metadata": {
    "ExecuteTime": {
     "end_time": "2020-02-05T02:28:43.230344Z",
     "start_time": "2020-02-05T02:28:42.948208Z"
    }
   },
   "outputs": [
    {
     "name": "stdout",
     "output_type": "stream",
     "text": [
      "[<span class=\"todaytemp\">2</span>, <span class=\"todaytemp\">-5</span>, <span class=\"todaytemp\">7</span>, <span class=\"todaytemp\">1</span>, <span class=\"todaytemp\">9</span>]\n",
      "[<p class=\"cast_txt\">맑음, 어제보다 4˚ 낮아요</p>, <p class=\"cast_txt\">맑음</p>, <p class=\"cast_txt\">구름많음</p>, <p class=\"cast_txt\">구름많음</p>, <p class=\"cast_txt\">맑음</p>]\n"
     ]
    }
   ],
   "source": [
    "bs = BeautifulSoup(urllib.request.urlopen(url).read(), \"html.parser\")\n",
    "\n",
    "temp = bs.findAll('span', 'todaytemp') # 태그, 클래스\n",
    "desc = bs.findAll('p','cast_txt')# 태그, 클래스\n",
    "\n",
    "print(temp)\n",
    "print(desc)"
   ]
  },
  {
   "cell_type": "code",
   "execution_count": 14,
   "metadata": {
    "ExecuteTime": {
     "end_time": "2020-02-05T02:34:45.963931Z",
     "start_time": "2020-02-05T02:34:45.911076Z"
    }
   },
   "outputs": [
    {
     "name": "stdout",
     "output_type": "stream",
     "text": [
      "[<span class=\"todaytemp\">2</span>, <span class=\"todaytemp\">-5</span>, <span class=\"todaytemp\">7</span>, <span class=\"todaytemp\">1</span>, <span class=\"todaytemp\">9</span>]\n",
      "[<p class=\"cast_txt\">맑음, 어제보다 4˚ 낮아요</p>, <p class=\"cast_txt\">맑음</p>, <p class=\"cast_txt\">구름많음</p>, <p class=\"cast_txt\">구름많음</p>, <p class=\"cast_txt\">맑음</p>]\n"
     ]
    }
   ],
   "source": [
    "#css .이 없으면 태그를 의미, 있으면 클래스명을 의미, #은 idle을 의미 \n",
    "temp = bs.select('span.todaytemp') #표준적인 API 용법 , span 은 태그 .todaytemp 는 클래스이다. 리스트를 반환\n",
    "print(temp)\n",
    "desc = bs.select('p.cast_txt')#p 은 태그 .cast_txt 는 클래스이다. 리스트를 반환\n",
    "print(desc)"
   ]
  }
 ],
 "metadata": {
  "kernelspec": {
   "display_name": "Python 3",
   "language": "python",
   "name": "python3"
  },
  "language_info": {
   "codemirror_mode": {
    "name": "ipython",
    "version": 3
   },
   "file_extension": ".py",
   "mimetype": "text/x-python",
   "name": "python",
   "nbconvert_exporter": "python",
   "pygments_lexer": "ipython3",
   "version": "3.7.4"
  }
 },
 "nbformat": 4,
 "nbformat_minor": 2
}
