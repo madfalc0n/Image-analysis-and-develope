{
 "cells": [
  {
   "cell_type": "code",
   "execution_count": 1,
   "metadata": {
    "ExecuteTime": {
     "end_time": "2020-01-08T05:15:13.471056Z",
     "start_time": "2020-01-08T05:15:11.334926Z"
    }
   },
   "outputs": [],
   "source": [
    "import scipy.stats as sp\n",
    "import numpy as np\n",
    "import matplotlib.pyplot as plt\n",
    "from PIL import ImageFont, ImageDraw, Image\n",
    "\n",
    "%matplotlib inline\n",
    "import cv2"
   ]
  },
  {
   "cell_type": "code",
   "execution_count": 40,
   "metadata": {
    "ExecuteTime": {
     "end_time": "2020-01-08T05:54:14.716283Z",
     "start_time": "2020-01-08T05:54:14.710319Z"
    }
   },
   "outputs": [
    {
     "name": "stdout",
     "output_type": "stream",
     "text": [
      "[[ 0. -2.  0.]\n",
      " [ 0.  0.  0.]\n",
      " [ 0. -2.  0.]]\n"
     ]
    }
   ],
   "source": [
    "img = np.array([[1,2,3],\n",
    "               [200,5,200],\n",
    "               [7,8,9]\n",
    "               ], dtype='float') #원하는 값 얻고싶은경우 형변환 해주어야 함\n",
    "                \n",
    "#convolution, 패딩 값 찾기, 제로패딩이 아니라 리플렉션기법을 사용\n",
    "detect_kernel = np.array([[0,0,0],\n",
    "                  [1,0,-1],\n",
    "                  [0,0,0]\n",
    "                   ])\n",
    "kernel = np.array([[1,1,1],\n",
    "                  [1,1,1],\n",
    "                  [1,1,1]\n",
    "                   ])\n",
    "\n",
    "filtered = cv2.filter2D(img, -1, detect_kernel)\n",
    "print(filtered)"
   ]
  },
  {
   "cell_type": "code",
   "execution_count": 45,
   "metadata": {
    "ExecuteTime": {
     "end_time": "2020-01-08T06:27:39.562237Z",
     "start_time": "2020-01-08T06:27:39.460711Z"
    }
   },
   "outputs": [
    {
     "name": "stdout",
     "output_type": "stream",
     "text": [
      "[[[  0   0   0]\n",
      "  [253 253 253]\n",
      "  [  2   2   2]]\n",
      "\n",
      " [[  0   0   0]\n",
      "  [  1   1   1]\n",
      "  [  0   0   0]]\n",
      "\n",
      " [[  0   0   0]\n",
      "  [254 254 254]\n",
      "  [  0   0   0]]]\n"
     ]
    },
    {
     "data": {
      "text/plain": [
       "<matplotlib.image.AxesImage at 0x25822416748>"
      ]
     },
     "execution_count": 45,
     "metadata": {},
     "output_type": "execute_result"
    },
    {
     "data": {
      "image/png": "[encoded data removed]",
      "text/plain": [
       "<Figure size 432x288 with 1 Axes>"
      ]
     },
     "metadata": {
      "needs_background": "light"
     },
     "output_type": "display_data"
    }
   ],
   "source": [
    "cv2.imwrite('output.jpg',filtered.astype('uint8')) #값이 -2가 나왔지만 보수? 로 인해 254로 나옴\n",
    "img = cv2.imread('output.jpg')\n",
    "print(img)\n",
    "plt.imshow(img)"
   ]
  },
  {
   "cell_type": "code",
   "execution_count": 53,
   "metadata": {
    "ExecuteTime": {
     "end_time": "2020-01-08T06:34:43.456338Z",
     "start_time": "2020-01-08T06:34:43.451306Z"
    }
   },
   "outputs": [
    {
     "name": "stdout",
     "output_type": "stream",
     "text": [
      "[[255.   0. 255.]\n",
      " [255. 255. 255.]\n",
      " [255.   0. 255.]]\n",
      "[[  0. 255.   0.]\n",
      " [  0.   0.   0.]\n",
      " [  0. 255.   0.]]\n"
     ]
    }
   ],
   "source": [
    "#정규화\n",
    "# 색은 기본적으로 0~ 255 값으로 한정되어있기 있다\n",
    "# 0~ 255 값에 포함되기 위해 정규화 과정이 필요할 수 있다.\n",
    "\n",
    "#시작값이 0 인경우\n",
    "#0과 0.7 사이의 값을 0~255로 변경하려면?\n",
    "# 값을 0.7(최대값)로 나누고 255로 곱한다.\n",
    "\n",
    "#시작값이 0이 아닌경우\n",
    "#2와 5 사이의 값을 0~255로 변경하려면?\n",
    "#값-min/ 5(최대값)-2(최소값) * 255로 곱한다.\n",
    "\n",
    "#ptp 함수- >max-min\n",
    "max_v =np.max(filtered)\n",
    "min_v = np.min(filtered)\n",
    "#maxmin = np.ptp(filtered)\n",
    "\n",
    "#정규화\n",
    "n = (filtered - min_v) / (max_v - min_v) * 255 # -2 ~ 0 을 0 ~ 255로 스케일링\n",
    "print(n)\n",
    "\n",
    "#np.abs 는 절대값을 반환\n",
    "n2 = np.abs(filtered) / (np.max(np.abs(filtered))) * 255 # 0~2로 변환 한 것을 0~255로 스케일링\n",
    "print(n2)"
   ]
  },
  {
   "cell_type": "code",
   "execution_count": null,
   "metadata": {},
   "outputs": [],
   "source": []
  }
 ],
 "metadata": {
  "kernelspec": {
   "display_name": "Python 3",
   "language": "python",
   "name": "python3"
  },
  "language_info": {
   "codemirror_mode": {
    "name": "ipython",
    "version": 3
   },
   "file_extension": ".py",
   "mimetype": "text/x-python",
   "name": "python",
   "nbconvert_exporter": "python",
   "pygments_lexer": "ipython3",
   "version": "3.7.4"
  }
 },
 "nbformat": 4,
 "nbformat_minor": 2
}
