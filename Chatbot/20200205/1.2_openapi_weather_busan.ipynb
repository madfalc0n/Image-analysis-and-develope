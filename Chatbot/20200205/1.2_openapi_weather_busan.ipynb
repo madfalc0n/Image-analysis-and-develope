{
 "cells": [
  {
   "cell_type": "code",
   "execution_count": 5,
   "metadata": {
    "ExecuteTime": {
     "end_time": "2020-02-05T02:19:02.160521Z",
     "start_time": "2020-02-05T02:19:02.156532Z"
    }
   },
   "outputs": [],
   "source": [
    "import requests\n",
    "import json\n",
    "import urllib\n",
    "from bs4 import BeautifulSoup"
   ]
  },
  {
   "cell_type": "code",
   "execution_count": 10,
   "metadata": {
    "ExecuteTime": {
     "end_time": "2020-02-05T02:23:05.816377Z",
     "start_time": "2020-02-05T02:23:05.707104Z"
    }
   },
   "outputs": [],
   "source": [
    "url =  \"https://search.naver.com/search.naver?&query=%EB%B6%80%EC%82%B0%EA%B4%91%EC%97%AD%EC%8B%9C%EB%82%A0%EC%94%A8\"\n",
    "res = requests.get(url)\n",
    "html = res.text\n",
    "#print(html) #UTF-8 타입으로 인코딩이 되지 않아 한글이 깨질수도 있다. , 뷰티풀스프에는 자동으로 변환해줌"
   ]
  },
  {
   "cell_type": "code",
   "execution_count": 9,
   "metadata": {
    "ExecuteTime": {
     "end_time": "2020-02-05T02:23:03.715856Z",
     "start_time": "2020-02-05T02:23:03.581337Z"
    }
   },
   "outputs": [],
   "source": [
    "html = urllib.request.urlopen(url).read()\n",
    "#print(html)#UTF-8 타입으로 인코딩이 되지 않아 한글이 깨질수도 있다. , 뷰티풀스프에는 자동으로 변환해줌"
   ]
  },
  {
   "cell_type": "code",
   "execution_count": 8,
   "metadata": {
    "ExecuteTime": {
     "end_time": "2020-02-05T02:23:01.504582Z",
     "start_time": "2020-02-05T02:23:00.961963Z"
    },
    "scrolled": false
   },
   "outputs": [],
   "source": [
    "bs = BeautifulSoup(urllib.request.urlopen(url).read(), \"html.parser\")\n",
    "bs = BeautifulSoup(requests.get(url).text, \"html.parser\")\n",
    "#print(bs.html)"
   ]
  },
  {
   "cell_type": "code",
   "execution_count": 11,
   "metadata": {
    "ExecuteTime": {
     "end_time": "2020-02-05T02:28:37.520751Z",
     "start_time": "2020-02-05T02:28:37.515788Z"
    }
   },
   "outputs": [],
   "source": [
    "city = \"부산광역시\"\n",
    "#인코딩 처리 해주는 함수 urllib.parse.quote_plus(city+\"날씨\")\n",
    "url = \"https://search.naver.com/search.naver?&query=\"\n",
    "url = url + urllib.parse.quote_plus(city+\"날씨\")"
   ]
  },
  {
   "cell_type": "code",
   "execution_count": 13,
   "metadata": {
    "ExecuteTime": {
     "end_time": "2020-02-05T02:28:43.230344Z",
     "start_time": "2020-02-05T02:28:42.948208Z"
    }
   },
   "outputs": [
    {
     "name": "stdout",
     "output_type": "stream",
     "text": [
      "[<span class=\"todaytemp\">2</span>, <span class=\"todaytemp\">-5</span>, <span class=\"todaytemp\">7</span>, <span class=\"todaytemp\">1</span>, <span class=\"todaytemp\">9</span>]\n",
      "[<p class=\"cast_txt\">맑음, 어제보다 4˚ 낮아요</p>, <p class=\"cast_txt\">맑음</p>, <p class=\"cast_txt\">구름많음</p>, <p class=\"cast_txt\">구름많음</p>, <p class=\"cast_txt\">맑음</p>]\n"
     ]
    }
   ],
   "source": [
    "bs = BeautifulSoup(urllib.request.urlopen(url).read(), \"html.parser\")\n",
    "\n",
    "temp = bs.findAll('span', 'todaytemp') # 태그, 클래스\n",
    "desc = bs.findAll('p','cast_txt')# 태그, 클래스\n",
    "\n",
    "print(temp)\n",
    "print(desc)"
   ]
  },
  {
   "cell_type": "code",
   "execution_count": 15,
   "metadata": {
    "ExecuteTime": {
     "end_time": "2020-02-05T02:39:06.572802Z",
     "start_time": "2020-02-05T02:39:06.514921Z"
    }
   },
   "outputs": [
    {
     "name": "stdout",
     "output_type": "stream",
     "text": [
      "-5\n",
      "[<p class=\"cast_txt\">맑음, 어제보다 4˚ 낮아요</p>, <p class=\"cast_txt\">맑음</p>, <p class=\"cast_txt\">구름많음</p>, <p class=\"cast_txt\">구름많음</p>, <p class=\"cast_txt\">맑음</p>]\n"
     ]
    },
    {
     "data": {
      "text/plain": [
       "\"\\n온도 값 2의 절대경로 , '>' 는 자식의 의미\\n#main_pack > div.sc.cs_weather._weather > div:nth-child(2)\\n > div.weather_box > div.weather_area._mainArea\\n > div.today_area._mainTabContent > div.main_info\\n > div > p > span.todaytemp\\n\""
      ]
     },
     "execution_count": 15,
     "metadata": {},
     "output_type": "execute_result"
    }
   ],
   "source": [
    "#css .이 없으면 태그를 의미, 있으면 클래스명을 의미, #은 idle을 의미 \n",
    "temp = bs.select('span.todaytemp') #표준적인 API 용법 , span 은 태그 .todaytemp 는 클래스이다. 리스트를 반환\n",
    "#print(temp[1].text)\n",
    "desc = bs.select('p.cast_txt')#p 은 태그 .cast_txt 는 클래스이다. 리스트를 반환\n",
    "print(desc)\n",
    "\n",
    "\"\"\"\n",
    "온도 값 2의 절대경로 , '>' 는 자식의 의미\n",
    "#main_pack > div.sc.cs_weather._weather > div:nth-child(2)\n",
    " > div.weather_box > div.weather_area._mainArea\n",
    " > div.today_area._mainTabContent > div.main_info\n",
    " > div > p > span.todaytemp\n",
    "\"\"\""
   ]
  },
  {
   "cell_type": "markdown",
   "metadata": {},
   "source": [
    "#  날씨 물어보기"
   ]
  },
  {
   "cell_type": "code",
   "execution_count": 28,
   "metadata": {
    "ExecuteTime": {
     "end_time": "2020-02-05T02:53:40.627600Z",
     "start_time": "2020-02-05T02:53:40.144722Z"
    }
   },
   "outputs": [
    {
     "name": "stdout",
     "output_type": "stream",
     "text": [
      "흐림, 어제보다 4˚ 낮아요\n"
     ]
    }
   ],
   "source": [
    "def getweather(city):\n",
    "    url = \"https://search.naver.com/search.naver?&query=\"\n",
    "    url = url + urllib.parse.quote_plus(city+\"날씨\")\n",
    "    bs = BeautifulSoup(urllib.request.urlopen(url).read(), \"html.parser\") \n",
    "    temp = bs.select('span.todaytemp')\n",
    "    desc = bs.select('p.cast_txt')\n",
    "    result = city +'의 날씨는 '+temp[0].text + '도 입니다.'\n",
    "    #print(result)\n",
    "    #return result\n",
    "    return {'temp':temp[0].text , 'desc':desc[0].text}\n",
    "\n",
    "print(getweather('제주도')['desc'])\n",
    "    "
   ]
  },
  {
   "cell_type": "markdown",
   "metadata": {},
   "source": [
    "# 단어 물어보기"
   ]
  },
  {
   "cell_type": "code",
   "execution_count": 30,
   "metadata": {
    "ExecuteTime": {
     "end_time": "2020-02-05T04:49:51.253993Z",
     "start_time": "2020-02-05T04:49:50.976966Z"
    }
   },
   "outputs": [
    {
     "name": "stdout",
     "output_type": "stream",
     "text": [
      " ‘갑자기 분위기가 싸해진다.’, ‘갑자기 분위기가 싸해지는데’ 등의 뜻을 가지고 있는 신조어이다. ‘갑자기 분위기가 싸해진다’, ‘갑자기 분위기가 싸해지는데’를 줄여 이르는 신조어이다. ‘갑분싸’는... \n",
      "최근 몇 년 사이 프로그래밍을 비전공자들에게 알려주는 문화가 전세계적으로 확산되고 있다. 하버드나 예일대 같은 해외 대학 뿐만 아니라 카이스트, 국민대, 성균관대 등...\n"
     ]
    }
   ],
   "source": [
    "def getmean(word):\n",
    "    url = \"https://search.naver.com/search.naver?where=kdic&query=\"\n",
    "    url = url + urllib.parse.quote_plus(word)\n",
    "    bs = BeautifulSoup(urllib.request.urlopen(url).read(), \"html.parser\") \n",
    "    output = bs.select('p.txt_box')\n",
    "    \n",
    "    return [node.text  for node in output     ] \n",
    "\n",
    "print(getmean('갑분싸')[0])\n",
    "print(getmean('python')[0])\n",
    "    "
   ]
  }
 ],
 "metadata": {
  "kernelspec": {
   "display_name": "Python 3",
   "language": "python",
   "name": "python3"
  },
  "language_info": {
   "codemirror_mode": {
    "name": "ipython",
    "version": 3
   },
   "file_extension": ".py",
   "mimetype": "text/x-python",
   "name": "python",
   "nbconvert_exporter": "python",
   "pygments_lexer": "ipython3",
   "version": "3.7.4"
  }
 },
 "nbformat": 4,
 "nbformat_minor": 2
}
