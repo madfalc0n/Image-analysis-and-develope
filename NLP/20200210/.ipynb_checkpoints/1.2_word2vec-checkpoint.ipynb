{
 "cells": [
  {
   "cell_type": "code",
   "execution_count": 1,
   "metadata": {
    "ExecuteTime": {
     "end_time": "2020-02-10T04:27:55.792226Z",
     "start_time": "2020-02-10T04:27:53.021604Z"
    }
   },
   "outputs": [],
   "source": [
    "from gensim.models import Word2Vec\n",
    "import matplotlib.pyplot as plt\n",
    "import codecs\n",
    "from konlpy.tag import Twitter\n",
    "from gensim.models import word2vec\n",
    "from konlpy.utils import pprint\n",
    "from sklearn.manifold import TSNE"
   ]
  },
  {
   "cell_type": "code",
   "execution_count": 2,
   "metadata": {
    "ExecuteTime": {
     "end_time": "2020-02-10T04:31:41.718161Z",
     "start_time": "2020-02-10T04:31:41.701202Z"
    }
   },
   "outputs": [],
   "source": [
    "sentences = [\n",
    "                ['this', 'is', 'a',   'good',      'product'],\n",
    "                ['it',   'is', 'a',   'excellent', 'product'],\n",
    "                ['it',   'is', 'a',   'bad',       'product'],\n",
    "                ['that', 'is', 'the', 'worst',     'product']\n",
    "            ]\n",
    "# 문장을 이용하여 단어와 벡터를 생성한다.\n",
    "# 문장, 줄이고싶은 차원(M) , 중심단어 주변으로 몇개 단어까지 선택할지 , 최소 단어가 한번이상 반복되는 것들만 고려하겟다(다쓰겠다는말).\n",
    "model = Word2Vec(sentences, size=20, window=3, min_count=1)  "
   ]
  },
  {
   "cell_type": "code",
   "execution_count": 3,
   "metadata": {
    "ExecuteTime": {
     "end_time": "2020-02-10T04:32:19.209058Z",
     "start_time": "2020-02-10T04:32:19.206104Z"
    }
   },
   "outputs": [],
   "source": [
    "# 단어벡터를 구한다.\n",
    "word_vectors = model.wv"
   ]
  },
  {
   "cell_type": "code",
   "execution_count": 9,
   "metadata": {
    "ExecuteTime": {
     "end_time": "2020-02-10T04:34:48.665336Z",
     "start_time": "2020-02-10T04:34:48.660350Z"
    },
    "scrolled": true
   },
   "outputs": [
    {
     "name": "stdout",
     "output_type": "stream",
     "text": [
      "<gensim.models.keyedvectors.Word2VecKeyedVectors object at 0x000001914E95F748>\n",
      "[ 0.01898836  0.01099312 -0.01618253 -0.00703015 -0.00052808  0.00671247\n",
      " -0.01965438 -0.0109596   0.00524843  0.00868691  0.01925845  0.0175457\n",
      "  0.00325898 -0.02328938  0.00639926  0.00428182 -0.00026243 -0.01880239\n",
      "  0.01348029  0.00972941]\n",
      "(20,)\n"
     ]
    }
   ],
   "source": [
    "print(word_vectors)\n",
    "print(word_vectors['this'])\n",
    "print(word_vectors['this'].shape) #20차원의 벡터가 생성"
   ]
  },
  {
   "cell_type": "code",
   "execution_count": null,
   "metadata": {},
   "outputs": [],
   "source": [
    "print(model.similarity(w1='it', w2='this'))"
   ]
  },
  {
   "cell_type": "code",
   "execution_count": null,
   "metadata": {},
   "outputs": [],
   "source": []
  }
 ],
 "metadata": {
  "kernelspec": {
   "display_name": "Python 3",
   "language": "python",
   "name": "python3"
  },
  "language_info": {
   "codemirror_mode": {
    "name": "ipython",
    "version": 3
   },
   "file_extension": ".py",
   "mimetype": "text/x-python",
   "name": "python",
   "nbconvert_exporter": "python",
   "pygments_lexer": "ipython3",
   "version": "3.7.4"
  }
 },
 "nbformat": 4,
 "nbformat_minor": 2
}
