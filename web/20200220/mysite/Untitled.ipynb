{
 "cells": [
  {
   "cell_type": "code",
   "execution_count": 1,
   "metadata": {
    "ExecuteTime": {
     "end_time": "2020-02-17T06:20:00.289035Z",
     "start_time": "2020-02-17T06:20:00.286043Z"
    }
   },
   "outputs": [],
   "source": [
    "from myapp.models import User"
   ]
  },
  {
   "cell_type": "code",
   "execution_count": 2,
   "metadata": {
    "ExecuteTime": {
     "end_time": "2020-02-17T06:20:07.790321Z",
     "start_time": "2020-02-17T06:20:07.786333Z"
    }
   },
   "outputs": [],
   "source": [
    "datas = User.objects.all()"
   ]
  },
  {
   "cell_type": "code",
   "execution_count": 3,
   "metadata": {
    "ExecuteTime": {
     "end_time": "2020-02-17T06:20:10.923133Z",
     "start_time": "2020-02-17T06:20:10.916183Z"
    }
   },
   "outputs": [
    {
     "name": "stdout",
     "output_type": "stream",
     "text": [
      "<QuerySet [<User: Kim / 김유신 / 40>, <User: lee / 임꺽쩡 / 40>, <User: leeel / 이순신 / 50>]>\n"
     ]
    }
   ],
   "source": [
    "print(datas)"
   ]
  },
  {
   "cell_type": "code",
   "execution_count": 9,
   "metadata": {
    "ExecuteTime": {
     "end_time": "2020-02-17T06:33:28.645951Z",
     "start_time": "2020-02-17T06:33:28.640981Z"
    }
   },
   "outputs": [
    {
     "name": "stdout",
     "output_type": "stream",
     "text": [
      "Kim / 김유신 / 40\n",
      "lee / 임꺽쩡 / 40\n",
      "leeel / 이순신 / 50\n"
     ]
    }
   ],
   "source": [
    "for d in datas:\n",
    "    if d.age>20 : print(d)"
   ]
  },
  {
   "cell_type": "code",
   "execution_count": 13,
   "metadata": {
    "ExecuteTime": {
     "end_time": "2020-02-17T06:34:13.213550Z",
     "start_time": "2020-02-17T06:34:13.209561Z"
    }
   },
   "outputs": [
    {
     "name": "stdout",
     "output_type": "stream",
     "text": [
      "<QuerySet [<User: leeel / 이순신 / 50>]>\n"
     ]
    }
   ],
   "source": [
    "print(datas.filter(age__gte=45)) #gte(grater thane equal) 나이가 45보다 크거나 같거나"
   ]
  },
  {
   "cell_type": "code",
   "execution_count": 20,
   "metadata": {
    "ExecuteTime": {
     "end_time": "2020-02-17T06:37:23.984678Z",
     "start_time": "2020-02-17T06:37:23.976700Z"
    }
   },
   "outputs": [
    {
     "name": "stdout",
     "output_type": "stream",
     "text": [
      "<QuerySet [<User: Kim / 김유신 / 40>]>\n",
      "<QuerySet [<User: Kim / 김유신 / 40>]>\n",
      "<QuerySet [<User: Kim / 김유신 / 40>]>\n"
     ]
    }
   ],
   "source": [
    "print(datas.filter(name='김유신' , age__gte=30)) #name 이 김유신이고, 나이가 30 보다 크거나 같은놈\n",
    "print(datas.filter(name='김유신').filter(age__gte=30)) #위와 같은 표현이다\n",
    "print(datas.filter(age__gte=30).filter(name='김유신')) #위와 같은 표현이다"
   ]
  },
  {
   "cell_type": "code",
   "execution_count": 44,
   "metadata": {
    "ExecuteTime": {
     "end_time": "2020-02-17T06:52:00.725555Z",
     "start_time": "2020-02-17T06:52:00.719570Z"
    },
    "scrolled": true
   },
   "outputs": [
    {
     "name": "stdout",
     "output_type": "stream",
     "text": [
      "<QuerySet [<User: Kim / 김유신 / 40>]>\n",
      "<QuerySet [<User: Kim / 김유신 / 40>]>\n"
     ]
    }
   ],
   "source": [
    "print(datas.filter(userid__contains='I'))\n",
    "print(datas.filter(userid__icontains='I')) # i(ignore) 붙이면 대소문자를 가리지 않는다, 영문검색시 사용"
   ]
  },
  {
   "cell_type": "code",
   "execution_count": 30,
   "metadata": {
    "ExecuteTime": {
     "end_time": "2020-02-17T06:44:27.462007Z",
     "start_time": "2020-02-17T06:44:27.456010Z"
    }
   },
   "outputs": [
    {
     "name": "stdout",
     "output_type": "stream",
     "text": [
      "<QuerySet [<User: Kim / 김유신 / 40>, <User: leeel / 이순신 / 50>]>\n"
     ]
    }
   ],
   "source": [
    "print(datas.filter(Q(age__gte=45) | Q(name__contains='유'))) #이름에 유가 들어가거나 나이가 45이상이거나 같은 놈들"
   ]
  }
 ],
 "metadata": {
  "kernelspec": {
   "display_name": "Django Shell-Plus",
   "language": "python",
   "name": "django_extensions"
  },
  "language_info": {
   "codemirror_mode": {
    "name": "ipython",
    "version": 3
   },
   "file_extension": ".py",
   "mimetype": "text/x-python",
   "name": "python",
   "nbconvert_exporter": "python",
   "pygments_lexer": "ipython3",
   "version": "3.7.4"
  }
 },
 "nbformat": 4,
 "nbformat_minor": 2
}
