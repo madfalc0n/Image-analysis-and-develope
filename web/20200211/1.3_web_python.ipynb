{
 "cells": [
  {
   "cell_type": "code",
   "execution_count": null,
   "metadata": {
    "ExecuteTime": {
     "end_time": "2020-02-11T07:00:09.238532Z",
     "start_time": "2020-02-11T07:00:09.235286Z"
    }
   },
   "outputs": [],
   "source": [
    "import socket\n",
    "import subprocess"
   ]
  },
  {
   "cell_type": "code",
   "execution_count": null,
   "metadata": {
    "ExecuteTime": {
     "end_time": "2020-02-11T05:51:10.267895Z",
     "start_time": "2020-02-11T05:39:23.756260Z"
    },
    "scrolled": true
   },
   "outputs": [],
   "source": [
    "server_socket = socket.socket(socket.AF_INET, socket.SOCK_STREAM)\n",
    "\n",
    "server_socket.bind(('localhost', 80))\n",
    "server_socket.listen(0)\n",
    "print(\"listening\")\n",
    "\n",
    "while  True :\n",
    "    client_socket, addr = server_socket.accept()\n",
    "    print(\"accepting\")\n",
    "    data = client_socket.recv(65535)    \n",
    "    data = data.decode()\n",
    "    print(data)\n",
    "    headers = data.split(\"\\r\\n\")\n",
    "    filename = headers[0].split(\" \")[1]\n",
    "    send_header = 'HTTP/1.0 200 OK\\r\\n\\r\\n'\n",
    "    \n",
    "    if '.py' in filename:\n",
    "        html = subprocess.check_output(['python.exe', '.'+filename ]) #실행시킬 프로그램 이름, 프로그램 파일 \n",
    "        # bash 에서 `python test.py`를 실행 시키는 것과 똑같음\n",
    "        print(html.decode('cp949')) #30 , string 으로 바꾼 결과, 한글이 들어간경우 `cp949`로 인코딩 해주어야 함\n",
    "        client_socket.send(send_header.encode('utf-8'))\n",
    "        client_socket.send(html)\n",
    "        \n",
    "    elif '.html' in filename :\n",
    "        print(\"html로 빠짐\")\n",
    "        file = open(\".\"+ filename, 'rt', encoding='utf-8') #텍스트로 읽어옴, w-쓰기, r-읽기, t-텍스트, b-바이너리\n",
    "        html = file.read()          \n",
    "        client_socket.send(send_header.encode(\"utf-8\")) # 인코드 타입 정해주어야 클라이언트는 깨진문장으로 받지 않음\n",
    "        client_socket.send(html.encode(\"utf-8\"))\n",
    "    \n",
    "    else :\n",
    "        send_header = 'HTTP/1.0 404 File Not Found\\r\\n\\r\\n'        \n",
    "        client_socket.send(send_header.encode(\"utf-8\"))\n",
    "    client_socket.close()"
   ]
  },
  {
   "cell_type": "code",
   "execution_count": null,
   "metadata": {
    "ExecuteTime": {
     "start_time": "2020-02-11T07:41:20.705Z"
    },
    "scrolled": false
   },
   "outputs": [
    {
     "name": "stdout",
     "output_type": "stream",
     "text": [
      "listening\n",
      "accepting\n",
      "GET /test2.py HTTP/1.1\n",
      "Host: localhost:82\n",
      "Connection: keep-alive\n",
      "Upgrade-Insecure-Requests: 1\n",
      "User-Agent: Mozilla/5.0 (Windows NT 10.0; Win64; x64) AppleWebKit/537.36 (KHTML, like Gecko) Chrome/79.0.3945.130 Safari/537.36\n",
      "Sec-Fetch-User: ?1\n",
      "Accept: text/html,application/xhtml+xml,application/xml;q=0.9,image/webp,image/apng,*/*;q=0.8,application/signed-exchange;v=b3;q=0.9\n",
      "Sec-Fetch-Site: none\n",
      "Sec-Fetch-Mode: navigate\n",
      "Accept-Encoding: gzip, deflate, br\n",
      "Accept-Language: ko-KR,ko;q=0.9,en-US;q=0.8,en;q=0.7\n",
      "Cookie: username-localhost-8890=\"2|1:0|10:1580373995|23:username-localhost-8890|44:NTU4NDQ0YTUzNTQzNDUzZjljZTBlOTQ5NDZmYjgyNjA=|c9d61a7d1bc3e6bcbaa128aeab2efddff7fed467fbb6ac311ca5b1d12c29ded4\"; username-localhost-8891=\"2|1:0|10:1580374324|23:username-localhost-8891|44:MmM0YzIzYTk1NTFhNDM4Y2EyY2IwZjdlNjdlYWQyNjE=|441435adc346b4a528bb36200f0ee7387740159594715080cfe9ec563bb33774\"; username-localhost-8889=\"2|1:0|10:1580431297|23:username-localhost-8889|44:NzMzZTY5OWQyY2NjNGMwMWE3ZjQ4ZDY5OThlNjdkYzk=|51f0afd48ff8897d5b8990e4d36bda3db121ff7b815ae736110bbbc0505f1974\"; _xsrf=2|2f1799be|30ec08942f319f6d15166e905d900c0a|1580868712; __utmz=111872281.1580962015.1.1.utmcsr=(direct)|utmccn=(direct)|utmcmd=(none); __utma=111872281.2047824518.1580962015.1581067746.1581292838.12; username-localhost-8888=\"2|1:0|10:1581381535|23:username-localhost-8888|44:Mzc0N2MwMDlmOTY1NDczYjk5ZmI2Y2RmODQ3YjYyY2I=|f1b7776f1d785383d7fdd69b74b5fe81c6afecfc340b7e872d02bed27ff13824\"\n",
      "\n",
      "\n",
      "accepting\n",
      "\n",
      "list index out of range\n",
      "accepting\n",
      "GET /test2.py HTTP/1.1\n",
      "Host: localhost:82\n",
      "Connection: keep-alive\n",
      "Cache-Control: max-age=0\n",
      "Upgrade-Insecure-Requests: 1\n",
      "User-Agent: Mozilla/5.0 (Windows NT 10.0; Win64; x64) AppleWebKit/537.36 (KHTML, like Gecko) Chrome/79.0.3945.130 Safari/537.36\n",
      "Sec-Fetch-User: ?1\n",
      "Accept: text/html,application/xhtml+xml,application/xml;q=0.9,image/webp,image/apng,*/*;q=0.8,application/signed-exchange;v=b3;q=0.9\n",
      "Sec-Fetch-Site: none\n",
      "Sec-Fetch-Mode: navigate\n",
      "Accept-Encoding: gzip, deflate, br\n",
      "Accept-Language: ko-KR,ko;q=0.9,en-US;q=0.8,en;q=0.7\n",
      "Cookie: username-localhost-8890=\"2|1:0|10:1580373995|23:username-localhost-8890|44:NTU4NDQ0YTUzNTQzNDUzZjljZTBlOTQ5NDZmYjgyNjA=|c9d61a7d1bc3e6bcbaa128aeab2efddff7fed467fbb6ac311ca5b1d12c29ded4\"; username-localhost-8891=\"2|1:0|10:1580374324|23:username-localhost-8891|44:MmM0YzIzYTk1NTFhNDM4Y2EyY2IwZjdlNjdlYWQyNjE=|441435adc346b4a528bb36200f0ee7387740159594715080cfe9ec563bb33774\"; username-localhost-8889=\"2|1:0|10:1580431297|23:username-localhost-8889|44:NzMzZTY5OWQyY2NjNGMwMWE3ZjQ4ZDY5OThlNjdkYzk=|51f0afd48ff8897d5b8990e4d36bda3db121ff7b815ae736110bbbc0505f1974\"; _xsrf=2|2f1799be|30ec08942f319f6d15166e905d900c0a|1580868712; __utmz=111872281.1580962015.1.1.utmcsr=(direct)|utmccn=(direct)|utmcmd=(none); __utma=111872281.2047824518.1580962015.1581067746.1581292838.12; username-localhost-8888=\"2|1:0|10:1581381535|23:username-localhost-8888|44:Mzc0N2MwMDlmOTY1NDczYjk5ZmI2Y2RmODQ3YjYyY2I=|f1b7776f1d785383d7fdd69b74b5fe81c6afecfc340b7e872d02bed27ff13824\"\n",
      "\n",
      "\n",
      "accepting\n",
      "GET /test2.py HTTP/1.1\n",
      "Host: localhost:82\n",
      "Connection: keep-alive\n",
      "Cache-Control: max-age=0\n",
      "Upgrade-Insecure-Requests: 1\n",
      "User-Agent: Mozilla/5.0 (Windows NT 10.0; Win64; x64) AppleWebKit/537.36 (KHTML, like Gecko) Chrome/79.0.3945.130 Safari/537.36\n",
      "Sec-Fetch-User: ?1\n",
      "Accept: text/html,application/xhtml+xml,application/xml;q=0.9,image/webp,image/apng,*/*;q=0.8,application/signed-exchange;v=b3;q=0.9\n",
      "Sec-Fetch-Site: none\n",
      "Sec-Fetch-Mode: navigate\n",
      "Accept-Encoding: gzip, deflate, br\n",
      "Accept-Language: ko-KR,ko;q=0.9,en-US;q=0.8,en;q=0.7\n",
      "Cookie: username-localhost-8890=\"2|1:0|10:1580373995|23:username-localhost-8890|44:NTU4NDQ0YTUzNTQzNDUzZjljZTBlOTQ5NDZmYjgyNjA=|c9d61a7d1bc3e6bcbaa128aeab2efddff7fed467fbb6ac311ca5b1d12c29ded4\"; username-localhost-8891=\"2|1:0|10:1580374324|23:username-localhost-8891|44:MmM0YzIzYTk1NTFhNDM4Y2EyY2IwZjdlNjdlYWQyNjE=|441435adc346b4a528bb36200f0ee7387740159594715080cfe9ec563bb33774\"; username-localhost-8889=\"2|1:0|10:1580431297|23:username-localhost-8889|44:NzMzZTY5OWQyY2NjNGMwMWE3ZjQ4ZDY5OThlNjdkYzk=|51f0afd48ff8897d5b8990e4d36bda3db121ff7b815ae736110bbbc0505f1974\"; _xsrf=2|2f1799be|30ec08942f319f6d15166e905d900c0a|1580868712; __utmz=111872281.1580962015.1.1.utmcsr=(direct)|utmccn=(direct)|utmcmd=(none); __utma=111872281.2047824518.1580962015.1581067746.1581292838.12; username-localhost-8888=\"2|1:0|10:1581381535|23:username-localhost-8888|44:Mzc0N2MwMDlmOTY1NDczYjk5ZmI2Y2RmODQ3YjYyY2I=|f1b7776f1d785383d7fdd69b74b5fe81c6afecfc340b7e872d02bed27ff13824\"\n",
      "\n",
      "\n"
     ]
    }
   ],
   "source": [
    "import socket\n",
    "import threading\n",
    "from datetime import datetime\n",
    "import subprocess\n",
    "\n",
    "def httpprocess(client_socket) :\n",
    "    data = client_socket.recv(65535)   \n",
    "    data = data.decode()\n",
    "    print(data)\n",
    "    try :    \n",
    "        headers = data.split(\"\\r\\n\")\n",
    "        filename = headers[0].split(\" \")[1]\n",
    "        \n",
    "        if '.py' in filename:\n",
    "            \n",
    "            html = subprocess.check_output(['python.exe', '.' + filename])\n",
    "            html = html.decode('cp949')\n",
    "            \n",
    "            header = 'HTTP/1.0 200 OK\\r\\n'               \n",
    "            client_socket.send(header.encode(\"utf-8\"))\n",
    "            client_socket.send(\"Content-Type: text/html\\r\\n\\r\\n\".encode())                                    \n",
    "            client_socket.send(html.encode(\"utf-8\"))            \n",
    "        elif '.html' in filename:\n",
    "            file = open(\".\"+ filename, 'rt', encoding='utf-8')\n",
    "            html = file.read()    \n",
    "            header = 'HTTP/1.0 200 OK\\r\\n'               \n",
    "            client_socket.send(header.encode(\"utf-8\"))\n",
    "            client_socket.send(\"Content-Type: text/html\\r\\n\\r\\n\".encode())            \n",
    "            client_socket.send(html.encode(\"utf-8\"))\n",
    "        elif '.jpg' in filename or '.png' in filename:         \n",
    "            client_socket.send('HTTP/1.1 200 OK\\r\\n'.encode())\n",
    "            client_socket.send(\"Content-Type: image/jpg\\r\\n\".encode())\n",
    "            client_socket.send(\"Accept-Ranges: bytes\\r\\n\\r\\n\".encode())\n",
    "            file = open(\".\" + filename, \"rb\")            \n",
    "            client_socket.send(file.read())  \n",
    "            file.close()               \n",
    "        else :\n",
    "            header = 'HTTP/1.0 404 File Not Found\\r\\n\\r\\n'        \n",
    "            client_socket.send(header.encode(\"utf-8\"))\n",
    "    except Exception as e :\n",
    "        print(e)         \n",
    "    client_socket.close()\n",
    "\n",
    "\n",
    "server_socket = socket.socket(socket.AF_INET, socket.SOCK_STREAM)\n",
    "server_socket.bind(('localhost', 82))\n",
    "server_socket.listen(0)\n",
    "print(\"listening\")\n",
    "\n",
    "while  True :\n",
    "    client_socket, addr = server_socket.accept()\n",
    "    print(\"accepting\")\n",
    "    t = threading.Thread(target=httpprocess, args=(client_socket,))\n",
    "    t.start()"
   ]
  },
  {
   "cell_type": "code",
   "execution_count": 10,
   "metadata": {
    "ExecuteTime": {
     "end_time": "2020-02-11T07:34:50.278034Z",
     "start_time": "2020-02-11T07:34:50.272839Z"
    }
   },
   "outputs": [
    {
     "name": "stdout",
     "output_type": "stream",
     "text": [
      "hello 안녕하세요     test 이순시     item ^^\n"
     ]
    }
   ],
   "source": [
    "def render(html, data):\n",
    "    sp_html = html.split(' ')\n",
    "    for i,k in data.items():\n",
    "        html = html.replace( '@'+i, k )\n",
    "    \n",
    "    return html\n",
    "    \n",
    "html = \"hello @v1     test @v2     item @v3\"\n",
    "data = {'v1':\"안녕하세요\" , 'v2':'이순시', 'v3': '^^'}\n",
    "html = render(html, data)\n",
    "print(html)"
   ]
  }
 ],
 "metadata": {
  "kernelspec": {
   "display_name": "Python 3",
   "language": "python",
   "name": "python3"
  },
  "language_info": {
   "codemirror_mode": {
    "name": "ipython",
    "version": 3
   },
   "file_extension": ".py",
   "mimetype": "text/x-python",
   "name": "python",
   "nbconvert_exporter": "python",
   "pygments_lexer": "ipython3",
   "version": "3.7.4"
  }
 },
 "nbformat": 4,
 "nbformat_minor": 2
}
