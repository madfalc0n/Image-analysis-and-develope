{
 "cells": [
  {
   "cell_type": "markdown",
   "metadata": {},
   "source": [
    "### 1. 모듈 import"
   ]
  },
  {
   "cell_type": "code",
   "execution_count": 23,
   "metadata": {},
   "outputs": [],
   "source": [
    "##cx_Oracle 모듈 설치\n",
    "##pip install cx_Oracle\n",
    "\n",
    "import cx_Oracle\n",
    "import os\n",
    "os.putenv('NLS_LANG', 'KOREAN_KOREA.KO16MSWIN949')"
   ]
  },
  {
   "cell_type": "markdown",
   "metadata": {},
   "source": [
    "#### 2. DB 연결부분(connection)\n",
    " - cx_Oracle.connect(\"[userID]/[PW]@[IP]:[PORT]/[DB이름]\") "
   ]
  },
  {
   "cell_type": "markdown",
   "metadata": {},
   "source": [
    "### 3. 테스트"
   ]
  },
  {
   "cell_type": "markdown",
   "metadata": {},
   "source": [
    "#### 3.0 예시"
   ]
  },
  {
   "cell_type": "code",
   "execution_count": 24,
   "metadata": {
    "scrolled": true
   },
   "outputs": [
    {
     "name": "stdout",
     "output_type": "stream",
     "text": [
      "<cx_Oracle.Connection to scott@127.0.0.1:1521/orcl>\n",
      "(30, 1566.6666666666667)\n",
      "(20, 2175)\n",
      "(10, 2916.6666666666665)\n"
     ]
    }
   ],
   "source": [
    "conn  =  cx_Oracle.connect(\"scott/oracle@127.0.0.1:1521/orcl\") #DB 연결\n",
    "print(conn)\n",
    "#result = pandas.read_sql(\"sql문장\", con=conn) #판다스모듈로 sql 읽어옴\n",
    "curs = conn.cursor()\n",
    "#curs.execute(\"select * from emp\")\n",
    "curs.execute(\"select deptno, avg(sal) from emp group by deptno \")\n",
    "#print(curs)\n",
    "#print(type(curs))\n",
    "for row in curs:\n",
    "    print(row)\n",
    "curs.close()\n",
    "conn.close()"
   ]
  },
  {
   "cell_type": "markdown",
   "metadata": {},
   "source": [
    "#### 3.1 실습1"
   ]
  },
  {
   "cell_type": "code",
   "execution_count": 25,
   "metadata": {},
   "outputs": [
    {
     "name": "stdout",
     "output_type": "stream",
     "text": [
      "(7369, 'SMITH', 'CLERK', 7902, datetime.datetime(1980, 12, 17, 0, 0), 800.0, None, 20)\n",
      "(7499, 'ALLEN', 'SALESMAN', 7698, datetime.datetime(1981, 2, 20, 0, 0), 1600.0, 300.0, 30)\n",
      "(7521, 'WARD', 'SALESMAN', 7698, datetime.datetime(1981, 2, 22, 0, 0), 1250.0, 500.0, 30)\n",
      "(7566, 'JONES', 'MANAGER', 7839, datetime.datetime(1981, 4, 2, 0, 0), 2975.0, None, 20)\n",
      "(7654, 'MARTIN', 'SALESMAN', 7698, datetime.datetime(1981, 9, 28, 0, 0), 1250.0, 1400.0, 30)\n",
      "(7698, 'BLAKE', 'MANAGER', 7839, datetime.datetime(1981, 5, 1, 0, 0), 2850.0, None, 30)\n",
      "(7782, 'CLARK', 'MANAGER', 7839, datetime.datetime(1981, 6, 9, 0, 0), 2450.0, None, 10)\n",
      "(7788, 'SCOTT', 'ANALYST', 7566, datetime.datetime(1987, 4, 19, 0, 0), 3000.0, None, 20)\n",
      "(7839, 'KING', 'PRESIDENT', None, datetime.datetime(1981, 11, 17, 0, 0), 5000.0, None, 10)\n",
      "(7844, 'TURNER', 'SALESMAN', 7698, datetime.datetime(1981, 9, 8, 0, 0), 1500.0, 0.0, 30)\n",
      "(7876, 'ADAMS', 'CLERK', 7788, datetime.datetime(1987, 5, 23, 0, 0), 1100.0, None, 20)\n",
      "(7900, 'JAMES', 'CLERK', 7698, datetime.datetime(1981, 12, 3, 0, 0), 950.0, None, 30)\n",
      "(7902, 'FORD', 'ANALYST', 7566, datetime.datetime(1981, 12, 3, 0, 0), 3000.0, None, 20)\n",
      "(7934, 'MILLER', 'CLERK', 7782, datetime.datetime(1982, 1, 23, 0, 0), 1300.0, None, 10)\n"
     ]
    }
   ],
   "source": [
    "import cx_Oracle\n",
    "import os\n",
    "os.putenv('NLS_LANG', 'KOREAN_KOREA.KO16MSWIN949')\n",
    "\n",
    "conn  =  cx_Oracle.connect(\"scott/oracle@127.0.0.1:1521/orcl\")   #DB 연결 \n",
    "#result = pandas.read_sql(\"sql문장\", con=conn)\n",
    "curs = conn.cursor()\n",
    "curs.execute(\"select * from emp\")\n",
    "\n",
    "for row in curs:\n",
    "    print(row)\n",
    "\n",
    "curs.close()\n",
    "conn.close()         \n"
   ]
  },
  {
   "cell_type": "markdown",
   "metadata": {},
   "source": [
    "#### 3.2 실습2"
   ]
  },
  {
   "cell_type": "code",
   "execution_count": 26,
   "metadata": {},
   "outputs": [
    {
     "name": "stdout",
     "output_type": "stream",
     "text": [
      "(30, 1566.6666666666667)\n",
      "(20, 2175)\n",
      "(10, 2916.6666666666665)\n"
     ]
    }
   ],
   "source": [
    "import cx_Oracle\n",
    "import os\n",
    "os.putenv('NLS_LANG', 'KOREAN_KOREA.KO16MSWIN949')\n",
    "\n",
    "conn  =  cx_Oracle.connect(\"scott/oracle@127.0.0.1:1521/orcl\")   #DB 연결 \n",
    "#result = pandas.read_sql(\"sql문장\", con=conn)\n",
    "curs = conn.cursor()\n",
    "curs.execute(\"select deptno, avg(sal) from emp group by deptno \")\n",
    "\n",
    "for row in curs:\n",
    "    print(row)\n",
    "\n",
    "curs.close()\n",
    "conn.close()  "
   ]
  },
  {
   "cell_type": "markdown",
   "metadata": {},
   "source": [
    "#### 3.3 실습3"
   ]
  },
  {
   "cell_type": "code",
   "execution_count": 34,
   "metadata": {},
   "outputs": [],
   "source": [
    "import cx_Oracle\n",
    "import os\n",
    "os.putenv('NLS_LANG', 'KOREAN_KOREA.KO16MSWIN949')\n",
    "\n",
    "conn  =  cx_Oracle.connect(\"scott/oracle@127.0.0.1:1521/orcl\")   #DB 연결 \n",
    "curs = conn.cursor()\n",
    "curs.prepare(\"insert into dept (deptno, dname) values (:d_val1, :d_val2)\")\n",
    "curs.execute(None, {'d_val1':100, 'd_val2':'빅데이터2'}) #만약 같은값 넣을경우 무결성 제약이 뜸..\n",
    "#curs.execute(\"insert into dept (deptno, dname) values (:d_val1, :d_val2)\", {'d_val1':60, 'd_val2':'IT'})\n",
    "conn.commit()\n",
    "\n",
    "    \n",
    "curs.close()\n",
    "conn.close() "
   ]
  },
  {
   "cell_type": "code",
   "execution_count": null,
   "metadata": {},
   "outputs": [],
   "source": []
  }
 ],
 "metadata": {
  "kernelspec": {
   "display_name": "Python 3",
   "language": "python",
   "name": "python3"
  },
  "language_info": {
   "codemirror_mode": {
    "name": "ipython",
    "version": 3
   },
   "file_extension": ".py",
   "mimetype": "text/x-python",
   "name": "python",
   "nbconvert_exporter": "python",
   "pygments_lexer": "ipython3",
   "version": "3.7.4"
  }
 },
 "nbformat": 4,
 "nbformat_minor": 2
}
