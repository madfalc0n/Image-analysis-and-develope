{
 "cells": [
  {
   "cell_type": "code",
   "execution_count": 1,
   "metadata": {},
   "outputs": [
    {
     "name": "stdout",
     "output_type": "stream",
     "text": [
      "1.15.0\n"
     ]
    }
   ],
   "source": [
    "#모듈 호출\n",
    "import tensorflow as tf\n",
    "\n",
    "#버전 출력\n",
    "print(tf.__version__)\n"
   ]
  },
  {
   "cell_type": "code",
   "execution_count": 22,
   "metadata": {},
   "outputs": [
    {
     "name": "stdout",
     "output_type": "stream",
     "text": [
      "6234\n"
     ]
    }
   ],
   "source": [
    "#상수 정의, 스칼라 값\n",
    "a = tf.constant(1234) \n",
    "b = tf.constant(5000)\n",
    "\n",
    "#계산 정의\n",
    "add_op = a+b\n",
    "\n",
    "#세션 시작 \n",
    "sess = tf.Session()\n",
    "#계산식 평가\n",
    "res = sess.run(add_op)\n",
    "print(res)"
   ]
  },
  {
   "cell_type": "code",
   "execution_count": 47,
   "metadata": {},
   "outputs": [
    {
     "name": "stdout",
     "output_type": "stream",
     "text": [
      "6234\n",
      "6234\n"
     ]
    }
   ],
   "source": [
    "#변수 v 선언하기\n",
    "# variable은 하나의 객체가 된다 즉 클래스의 인스턴스가 생성되는 것이고  해당 인스턴스를 그래프에 추가시켜주어야 한다.\n",
    "# 생성 후 global_variables_initializer()함수를 실행 해주어야 함,호출하기 전에 그래프의 상태는 각 노드에 값이 아직 없는 상태를 의미한다.따라서 해당 함수를 사용해주어야 Variable 의 값이 할당 되는 것이고 텐서의 그래프로써의 효력이 발생하는 것이다.\n",
    "v = tf.Variable(10) #클래스의 생성자 함수, tf.zeros()로 설정가능, \n",
    "\n",
    "# 변수 v에 add_op의 결과 대입하기\n",
    "let_op = tf.assign(v, add_op)\n",
    "\n",
    "#세션 시작 \n",
    "sess = tf.Session() \n",
    "\n",
    "# 변수 초기화히기 ,메모리에서 계산작업을 하기 위한 초기화(생성)\n",
    "sess.run(tf.global_variables_initializer())\n",
    "\n",
    "#계산식 실행\n",
    "print(sess.run(let_op))\n",
    "print(sess.run(v))"
   ]
  },
  {
   "cell_type": "code",
   "execution_count": 52,
   "metadata": {},
   "outputs": [
    {
     "name": "stdout",
     "output_type": "stream",
     "text": [
      "[2 4 6]\n",
      "[20 40 20]\n",
      "[ 20  40  20 160]\n"
     ]
    },
    {
     "data": {
      "text/plain": [
       "'\\ntensoflow.sqrt(x): x의 제곱근을 계산\\ntensoflow.reduce_mean(x): x의 평균을 계산\\ntensoflow.square(x): x의 제곱을 계산\\nrandom_uniform([1], 0, 10,…) : 0에서 10 사이에서 임의의 수 1개 생성 반환\\nVariable() : 변수의 값을 지정 \\n'"
      ]
     },
     "execution_count": 52,
     "metadata": {},
     "output_type": "execute_result"
    }
   ],
   "source": [
    "#placeholder 정의(정수 자료형 3개를 가진 배열)\n",
    "#템플릿처럼 값을 넣을 공간을 만들어두는 기능\n",
    "#데이터 플로우 그래프를 구축할 때는 값을 넣지 않고 값을 담을 수 있는 그릇만 만들어두고, 이후에 세션을 실행할 때 그릇에 값을 넣고 실행할 수 있다.\n",
    "\n",
    "#a = tf.placeholder(tf.int32, [3])  # 비어있는 배열\n",
    "a = tf.placeholder(tf.int32, [None])  # None 지정 시 , 가변으로 된다.\n",
    "b = tf.constant(2)\n",
    "x2_op = a* b\n",
    "\n",
    "#세션 시작 \n",
    "sess = tf.Session() \n",
    "# placeholder에 값 넣고 실행하기\n",
    "r1 = sess.run(x2_op, feed_dict = {a:[1, 2, 3]})\n",
    "print(r1)\n",
    "r2 = sess.run(x2_op, feed_dict = {a:[10, 20, 10]})\n",
    "print(r2)\n",
    "r3 = sess.run(x2_op, feed_dict = {a:[10, 20, 10, 80]})\n",
    "print(r3)\n",
    "\n",
    "#다양한 함수들\n",
    "\"\"\"\n",
    "tensoflow.sqrt(x): x의 제곱근을 계산\n",
    "tensoflow.reduce_mean(x): x의 평균을 계산\n",
    "tensoflow.square(x): x의 제곱을 계산\n",
    "random_uniform([1], 0, 10,…) : 0에서 10 사이에서 임의의 수 1개 생성 반환\n",
    "Variable() : 변수의 값을 지정 \n",
    "\"\"\"\n"
   ]
  },
  {
   "cell_type": "code",
   "execution_count": 53,
   "metadata": {},
   "outputs": [
    {
     "name": "stdout",
     "output_type": "stream",
     "text": [
      "600\n"
     ]
    }
   ],
   "source": [
    "# 데이터 플로우 그래프 구축하기  \n",
    "# 아나콘다 프롬프트에서 작업중인 주피터노트북 경로로 가서 'tensorboard --logdir=./logs' 입력 웹에서 localhost:6006 접속 후  그래프로 확인 가능,\n",
    "a = tf.constant(20, name=\"a\")\n",
    "b = tf.constant(30, name=\"b\")\n",
    "mul_op = a * b\n",
    "# 세션 생성하기  \n",
    "sess = tf.Session()\n",
    "# TensorBoard 사용하기  \n",
    "tw = tf.summary.FileWriter(\"log_dir\", graph=sess.graph)\n",
    "# 세션 실행하기 \n",
    "print(sess.run(mul_op))"
   ]
  },
  {
   "cell_type": "markdown",
   "metadata": {},
   "source": [
    "#### 선형 회귀 기울기 와 절편 구하기"
   ]
  },
  {
   "cell_type": "code",
   "execution_count": 60,
   "metadata": {},
   "outputs": [
    {
     "name": "stdout",
     "output_type": "stream",
     "text": [
      "기울기 :  2.3\n",
      "Y 절편 :  79.0\n"
     ]
    }
   ],
   "source": [
    "#최소 제곱법\n",
    "import numpy as np\n",
    "\n",
    "# x 값과 y 값\n",
    "x = [2, 4, 6, 8]\n",
    "y = [81, 93, 91, 97]\n",
    "\n",
    "# x와 y의 평균값\n",
    "mx = np.mean(x)\n",
    "my = np.mean(y)\n",
    "\n",
    "# 기울기 공식의 분모\n",
    "divisor = sum([(mx-i)**2 for i in x])\n",
    "\n",
    "\n",
    "# 기울기 공식의 분자\n",
    "def top(x, mx, y, my):\n",
    "    d = 0\n",
    "    for i in range(len(x)):\n",
    "        d += (x[i] - mx)*(y[i] - my)\n",
    "    return d\n",
    "\n",
    "\n",
    "# 기울기와 y 절편 구하기\n",
    "a = top(x, mx,y, my)/divisor  #기울기\n",
    "b = my - (mx * a) # y 절편\n",
    "\n",
    "# 출력으로 확인\n",
    "print(\"기울기 : \", a)\n",
    "print(\"Y 절편 : \", b)"
   ]
  },
  {
   "cell_type": "code",
   "execution_count": 73,
   "metadata": {},
   "outputs": [
    {
     "name": "stdout",
     "output_type": "stream",
     "text": [
      "공부한 시간= 2, 실제점수=81, 예측점수=81\n",
      "공부한 시간= 4, 실제점수=93, 예측점수=85\n",
      "공부한 시간= 6, 실제점수=91, 예측점수=90\n",
      "공부한 시간= 8, 실제점수=97, 예측점수=94\n",
      "rmse 최종값:  4.159326868617082\n"
     ]
    }
   ],
   "source": [
    "# 평균 제곱 오차 구하기\n",
    "import numpy as np\n",
    "\n",
    "# 기울기 a와 y 절편 b\n",
    "ab = [2.3,76]\n",
    "\n",
    "# x, y의 데이터 값\n",
    "data = [[2,81],[4,93],[6,91],[8,97]]\n",
    "x = [i[0] for i in data]\n",
    "y = [i[1] for i in data]\n",
    "\n",
    "\n",
    "# y = ax + b에 a와 b 값을 대입하여 결과를 출력하는 함수\n",
    "#print('y = {0}x + {1}',format(a, b))\n",
    "\n",
    "# 임의의 기울기와 절편의 모델로 부터 예측값 반환 함수\n",
    "def predict(x):\n",
    "    return ab[0]*x + ab[1]\n",
    "\n",
    "# 예측 값이 들어갈 빈 리스트\n",
    "predict_result = []\n",
    "\n",
    "# RMSE(평균 제곱근 오차 반환 함수)\n",
    "def rmse(p,a):\n",
    "    return np.sqrt(((p-a)**2).mean())\n",
    "\n",
    "\n",
    "for i in range(len(x)):\n",
    "    predict_result.append(predict(x[i]))\n",
    "    print(\"공부한 시간= %.f, 실제점수=%.f, 예측점수=%.f\" %(x[i], y[i], predict_result[i]) )\n",
    "\n",
    "# RMSE 함수를 각 y 값에 대입하여 최종 값을 구하는 함수\n",
    "def rmse_val(predict_result, y ):\n",
    "    return rmse(np.array(predict_result), np.array(y))\n",
    "\n",
    "\n",
    "\n",
    "# 최종 RMSE 출력\n",
    "print(\"rmse 최종값: \", str(rmse_val(predict_result,y))) \n"
   ]
  },
  {
   "cell_type": "code",
   "execution_count": 71,
   "metadata": {},
   "outputs": [
    {
     "name": "stdout",
     "output_type": "stream",
     "text": [
      "공부한 시간 =2, 실제 점수 =81,  예측점수=82\n",
      "공부한 시간 =4, 실제 점수 =93,  예측점수=88\n",
      "공부한 시간 =6, 실제 점수 =91,  예측점수=94\n",
      "공부한 시간 =8, 실제 점수 =97,  예측점수=100\n",
      "rmse  최종값 :3.3166247903554\n"
     ]
    }
   ],
   "source": [
    "import numpy as np\n",
    "\n",
    "#  임의의 기울기와 절편\n",
    "ab = [3, 76]\n",
    "\n",
    "data = [[2,81],[4,93],[6,91],[8,97]]\n",
    "\n",
    "# x 값과 y 값\n",
    "x= [ i[0] for i in data]\n",
    "y= [ i[1] for i in data]\n",
    "\n",
    "\n",
    "#  임의의 기울기와 절편의 모델로부터 예측값 반환 함수\n",
    "def predict(x):\n",
    "    return ab[0]*x+ab[1]\n",
    "\n",
    "# 평균 제곱근 오차 반환 함수\n",
    "def rmse(p, a):\n",
    "    return    np.sqrt(((p-a)**2).mean())\n",
    "\n",
    "predict_result = []\n",
    "\n",
    "for i in range(len(x)):\n",
    "    predict_result.append(predict(x[i]))\n",
    "    print(\"공부한 시간 =%.f, 실제 점수 =%.f,  예측점수=%.f\" % (x[i], y[i], predict_result[i]))\n",
    "\n",
    "# 평균 제곱근 오차 반환 함수를 이용해서 최종값 구하기\n",
    "def  rmse_val(predict_result, y) :\n",
    "    return rmse(np.array(predict_result), np.array(y))\n",
    "\n",
    "print(\"rmse  최종값 :\"+ str(rmse_val(predict_result, y)))\n",
    "\n"
   ]
  }
 ],
 "metadata": {
  "kernelspec": {
   "display_name": "Python 3",
   "language": "python",
   "name": "python3"
  },
  "language_info": {
   "codemirror_mode": {
    "name": "ipython",
    "version": 3
   },
   "file_extension": ".py",
   "mimetype": "text/x-python",
   "name": "python",
   "nbconvert_exporter": "python",
   "pygments_lexer": "ipython3",
   "version": "3.7.4"
  }
 },
 "nbformat": 4,
 "nbformat_minor": 4
}
