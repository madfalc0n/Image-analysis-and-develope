{
 "cells": [
  {
   "cell_type": "markdown",
   "metadata": {},
   "source": [
    "## 2. SVM (P.105)"
   ]
  },
  {
   "cell_type": "markdown",
   "metadata": {},
   "source": [
    "1. SVM 은 데이터의 특성 개수가 작아도 복잡한 결정 경계를 만들어 주는 분류 방식입니다.\n",
    "2. 데이터 전처리(dummy변수, 정규화) 가 필요하며, 매개변수(하이퍼파마미터) 설정에 따라 분류 분석의 성능에 영향이 큼"
   ]
  },
  {
   "cell_type": "code",
   "execution_count": 1,
   "metadata": {},
   "outputs": [],
   "source": [
    "import pandas as pd\n",
    "import numpy as np\n",
    "import seaborn as sns"
   ]
  },
  {
   "cell_type": "code",
   "execution_count": 2,
   "metadata": {},
   "outputs": [],
   "source": [
    "df = sns.load_dataset('titanic')"
   ]
  },
  {
   "cell_type": "code",
   "execution_count": 3,
   "metadata": {},
   "outputs": [
    {
     "name": "stdout",
     "output_type": "stream",
     "text": [
      "<class 'pandas.core.frame.DataFrame'>\n",
      "RangeIndex: 891 entries, 0 to 890\n",
      "Data columns (total 15 columns):\n",
      "survived       891 non-null int64\n",
      "pclass         891 non-null int64\n",
      "sex            891 non-null object\n",
      "age            714 non-null float64\n",
      "sibsp          891 non-null int64\n",
      "parch          891 non-null int64\n",
      "fare           891 non-null float64\n",
      "embarked       889 non-null object\n",
      "class          891 non-null category\n",
      "who            891 non-null object\n",
      "adult_male     891 non-null bool\n",
      "deck           203 non-null category\n",
      "embark_town    889 non-null object\n",
      "alive          891 non-null object\n",
      "alone          891 non-null bool\n",
      "dtypes: bool(2), category(2), float64(2), int64(4), object(5)\n",
      "memory usage: 80.6+ KB\n"
     ]
    }
   ],
   "source": [
    "df.info()"
   ]
  },
  {
   "cell_type": "code",
   "execution_count": 4,
   "metadata": {},
   "outputs": [
    {
     "name": "stdout",
     "output_type": "stream",
     "text": [
      "15\n",
      "13\n",
      "891\n",
      "714\n",
      "          survived      pclass   sex         age       sibsp       parch  \\\n",
      "count   714.000000  714.000000   714  714.000000  714.000000  714.000000   \n",
      "unique         NaN         NaN     2         NaN         NaN         NaN   \n",
      "top            NaN         NaN  male         NaN         NaN         NaN   \n",
      "freq           NaN         NaN   453         NaN         NaN         NaN   \n",
      "mean      0.406162    2.236695   NaN   29.699118    0.512605    0.431373   \n",
      "std       0.491460    0.838250   NaN   14.526497    0.929783    0.853289   \n",
      "min       0.000000    1.000000   NaN    0.420000    0.000000    0.000000   \n",
      "25%       0.000000    1.000000   NaN   20.125000    0.000000    0.000000   \n",
      "50%       0.000000    2.000000   NaN   28.000000    0.000000    0.000000   \n",
      "75%       1.000000    3.000000   NaN   38.000000    1.000000    1.000000   \n",
      "max       1.000000    3.000000   NaN   80.000000    5.000000    6.000000   \n",
      "\n",
      "              fare embarked  class  who adult_male alive alone  \n",
      "count   714.000000      712    714  714        714   714   714  \n",
      "unique         NaN        3      3    3          2     2     2  \n",
      "top            NaN        S  Third  man       True    no  True  \n",
      "freq           NaN      554    355  413        413   424   404  \n",
      "mean     34.694514      NaN    NaN  NaN        NaN   NaN   NaN  \n",
      "std      52.918930      NaN    NaN  NaN        NaN   NaN   NaN  \n",
      "min       0.000000      NaN    NaN  NaN        NaN   NaN   NaN  \n",
      "25%       8.050000      NaN    NaN  NaN        NaN   NaN   NaN  \n",
      "50%      15.741700      NaN    NaN  NaN        NaN   NaN   NaN  \n",
      "75%      33.375000      NaN    NaN  NaN        NaN   NaN   NaN  \n",
      "max     512.329200      NaN    NaN  NaN        NaN   NaN   NaN  \n",
      "S\n",
      "          survived      pclass   sex         age       sibsp       parch  \\\n",
      "count   714.000000  714.000000   714  714.000000  714.000000  714.000000   \n",
      "unique         NaN         NaN     2         NaN         NaN         NaN   \n",
      "top            NaN         NaN  male         NaN         NaN         NaN   \n",
      "freq           NaN         NaN   453         NaN         NaN         NaN   \n",
      "mean      0.406162    2.236695   NaN   29.699118    0.512605    0.431373   \n",
      "std       0.491460    0.838250   NaN   14.526497    0.929783    0.853289   \n",
      "min       0.000000    1.000000   NaN    0.420000    0.000000    0.000000   \n",
      "25%       0.000000    1.000000   NaN   20.125000    0.000000    0.000000   \n",
      "50%       0.000000    2.000000   NaN   28.000000    0.000000    0.000000   \n",
      "75%       1.000000    3.000000   NaN   38.000000    1.000000    1.000000   \n",
      "max       1.000000    3.000000   NaN   80.000000    5.000000    6.000000   \n",
      "\n",
      "              fare embarked  class  who adult_male alive alone  \n",
      "count   714.000000      714    714  714        714   714   714  \n",
      "unique         NaN        3      3    3          2     2     2  \n",
      "top            NaN        S  Third  man       True    no  True  \n",
      "freq           NaN      556    355  413        413   424   404  \n",
      "mean     34.694514      NaN    NaN  NaN        NaN   NaN   NaN  \n",
      "std      52.918930      NaN    NaN  NaN        NaN   NaN   NaN  \n",
      "min       0.000000      NaN    NaN  NaN        NaN   NaN   NaN  \n",
      "25%       8.050000      NaN    NaN  NaN        NaN   NaN   NaN  \n",
      "50%      15.741700      NaN    NaN  NaN        NaN   NaN   NaN  \n",
      "75%      33.375000      NaN    NaN  NaN        NaN   NaN   NaN  \n",
      "max     512.329200      NaN    NaN  NaN        NaN   NaN   NaN  \n",
      "     female  male\n",
      "0         0     1\n",
      "1         1     0\n",
      "2         1     0\n",
      "3         1     0\n",
      "4         0     1\n",
      "..      ...   ...\n",
      "885       1     0\n",
      "886       0     1\n",
      "887       1     0\n",
      "889       0     1\n",
      "890       0     1\n",
      "\n",
      "[714 rows x 2 columns]\n",
      "     survived  pclass     sex   age  sibsp  parch     fare embarked   class  \\\n",
      "0           0       3    male  22.0      1      0   7.2500        S   Third   \n",
      "1           1       1  female  38.0      1      0  71.2833        C   First   \n",
      "2           1       3  female  26.0      0      0   7.9250        S   Third   \n",
      "3           1       1  female  35.0      1      0  53.1000        S   First   \n",
      "4           0       3    male  35.0      0      0   8.0500        S   Third   \n",
      "..        ...     ...     ...   ...    ...    ...      ...      ...     ...   \n",
      "885         0       3  female  39.0      0      5  29.1250        Q   Third   \n",
      "886         0       2    male  27.0      0      0  13.0000        S  Second   \n",
      "887         1       1  female  19.0      0      0  30.0000        S   First   \n",
      "889         1       1    male  26.0      0      0  30.0000        C   First   \n",
      "890         0       3    male  32.0      0      0   7.7500        Q   Third   \n",
      "\n",
      "       who  adult_male alive  alone  female  male  \n",
      "0      man        True    no  False       0     1  \n",
      "1    woman       False   yes  False       1     0  \n",
      "2    woman       False   yes   True       1     0  \n",
      "3    woman       False   yes  False       1     0  \n",
      "4      man        True    no   True       0     1  \n",
      "..     ...         ...   ...    ...     ...   ...  \n",
      "885  woman       False    no  False       1     0  \n",
      "886    man        True    no   True       0     1  \n",
      "887  woman       False   yes   True       1     0  \n",
      "889    man        True   yes   True       0     1  \n",
      "890    man        True    no   True       0     1  \n",
      "\n",
      "[714 rows x 15 columns]\n",
      "     town_C  town_Q  town_S\n",
      "0         0       0       1\n",
      "1         1       0       0\n",
      "2         0       0       1\n",
      "3         0       0       1\n",
      "4         0       0       1\n",
      "..      ...     ...     ...\n",
      "885       0       1       0\n",
      "886       0       0       1\n",
      "887       0       0       1\n",
      "889       1       0       0\n",
      "890       0       1       0\n",
      "\n",
      "[714 rows x 3 columns]\n",
      "     survived  pclass     sex   age  sibsp  parch     fare embarked   class  \\\n",
      "0           0       3    male  22.0      1      0   7.2500        S   Third   \n",
      "1           1       1  female  38.0      1      0  71.2833        C   First   \n",
      "2           1       3  female  26.0      0      0   7.9250        S   Third   \n",
      "3           1       1  female  35.0      1      0  53.1000        S   First   \n",
      "4           0       3    male  35.0      0      0   8.0500        S   Third   \n",
      "..        ...     ...     ...   ...    ...    ...      ...      ...     ...   \n",
      "885         0       3  female  39.0      0      5  29.1250        Q   Third   \n",
      "886         0       2    male  27.0      0      0  13.0000        S  Second   \n",
      "887         1       1  female  19.0      0      0  30.0000        S   First   \n",
      "889         1       1    male  26.0      0      0  30.0000        C   First   \n",
      "890         0       3    male  32.0      0      0   7.7500        Q   Third   \n",
      "\n",
      "       who  adult_male alive  alone  female  male  town_C  town_Q  town_S  \n",
      "0      man        True    no  False       0     1       0       0       1  \n",
      "1    woman       False   yes  False       1     0       1       0       0  \n",
      "2    woman       False   yes   True       1     0       0       0       1  \n",
      "3    woman       False   yes  False       1     0       0       0       1  \n",
      "4      man        True    no   True       0     1       0       0       1  \n",
      "..     ...         ...   ...    ...     ...   ...     ...     ...     ...  \n",
      "885  woman       False    no  False       1     0       0       1       0  \n",
      "886    man        True    no   True       0     1       0       0       1  \n",
      "887  woman       False   yes   True       1     0       0       0       1  \n",
      "889    man        True   yes   True       0     1       1       0       0  \n",
      "890    man        True    no   True       0     1       0       1       0  \n",
      "\n",
      "[714 rows x 18 columns]\n"
     ]
    }
   ],
   "source": [
    "#NaN 값 많은 deck(열) 삭제\n",
    "#embarked와 embark_town 열(변수)는 의미가 동일하므로 embark_town 열 삭제\n",
    "#del df['embark_town']\n",
    "print(len(df.columns))\n",
    "ndf = df.drop(['deck', 'embark_town'], axis=1)\n",
    "print(len(ndf.columns))\n",
    "\n",
    "#age 변수값이 NaN인 행을 삭제\n",
    "print(len(ndf))\n",
    "ndf.dropna(subset=['age'], how='any', axis=0, inplace=True) #how any일경우 하나라도 포함된다면 해당 행(axis =0) 삭제)\n",
    "print(len(ndf))\n",
    "print(ndf.describe(include='all'))\n",
    "\n",
    "#embark 열 NaN값을 승선도시 중 가장 많이 출연한 데이터 값으로 치환\n",
    "#ndf['embarked'].value_counts(dropna=True).idxmax()\n",
    "most_freq = ndf['embarked'].value_counts(dropna=True).idxmax()\n",
    "print(most_freq)\n",
    "\n",
    "ndf['embarked'].fillna(most_freq, inplace=True)\n",
    "print(ndf.describe(include='all'))\n",
    "\n",
    "\n",
    "\n",
    "# 범주형(문자) 데이터를 숫자로 변환 해주어야 함\n",
    "# survived, pclass, sex, age, sibsp, parch, embarked\n",
    "# 범주형 데이터를 모델이 인식할 수 있는 숫자로 변환 : one-hot encoding\n",
    "onehot_sex = pd.get_dummies(ndf['sex'])\n",
    "print(onehot_sex)\n",
    "\n",
    "ndf = pd.concat([ndf, onehot_sex], axis=1)\n",
    "print(ndf)\n",
    "onehot_embarked = pd.get_dummies(ndf['embarked'], prefix='town') # embarked 의 컬럼을 각 변수에 따라 town_$로 지정한다.\n",
    "print(onehot_embarked)\n",
    "ndf = pd.concat([ndf, onehot_embarked], axis=1) # ndf에 onehot_embarked 결합한다.\n",
    "print(ndf)\n",
    "\n",
    "\n"
   ]
  },
  {
   "cell_type": "code",
   "execution_count": 5,
   "metadata": {},
   "outputs": [],
   "source": [
    "# 분류분석에 사용할 변수 선택\n",
    "\n",
    "X = ndf[['pclass','female', 'male', 'age', 'sibsp', 'parch', 'town_C', 'town_Q', 'town_S']]\n",
    "Y = ndf['survived']"
   ]
  },
  {
   "cell_type": "code",
   "execution_count": 6,
   "metadata": {},
   "outputs": [
    {
     "name": "stdout",
     "output_type": "stream",
     "text": [
      "(499, 9)\n",
      "(215, 9)\n"
     ]
    }
   ],
   "source": [
    "# train data와 test data 비율 7:3으로 데이터 분리\n",
    "from sklearn.model_selection import train_test_split\n",
    "X_train, X_test, Y_train, Y_test = train_test_split(X, Y, test_size=0.3, random_state=10)\n",
    "print(X_train.shape)\n",
    "print(X_test.shape)\n"
   ]
  },
  {
   "cell_type": "code",
   "execution_count": 8,
   "metadata": {},
   "outputs": [
    {
     "name": "stdout",
     "output_type": "stream",
     "text": [
      "[0 0 1 0 1 1 1 1 1 0]\n",
      "[0 0 1 0 0 1 1 1 0 0]\n",
      "[[108  17]\n",
      " [ 25  65]]\n",
      "              precision    recall  f1-score   support\n",
      "\n",
      "           0       0.81      0.86      0.84       125\n",
      "           1       0.79      0.72      0.76        90\n",
      "\n",
      "    accuracy                           0.80       215\n",
      "   macro avg       0.80      0.79      0.80       215\n",
      "weighted avg       0.80      0.80      0.80       215\n",
      "\n"
     ]
    },
    {
     "name": "stderr",
     "output_type": "stream",
     "text": [
      "C:\\Users\\student\\Anaconda3\\lib\\site-packages\\sklearn\\svm\\base.py:193: FutureWarning: The default value of gamma will change from 'auto' to 'scale' in version 0.22 to account better for unscaled features. Set gamma explicitly to 'auto' or 'scale' to avoid this warning.\n",
      "  \"avoid this warning.\", FutureWarning)\n"
     ]
    }
   ],
   "source": [
    "from sklearn import svm\n",
    "svm_model = svm.SVC(kernel = 'rbf')  # kernel 종류는 Linear, Polynimial, Sigmoid 등이 있다. 참고주소: https://bskyvision.com/163\n",
    "svm_model.fit(X_train, Y_train)  #학습, 모델 생성\n",
    "y_predict = svm_model.predict(X_test)\n",
    "print(y_predict[0:10])\n",
    "print(Y_test.values[0:10])\n",
    "\n",
    "from sklearn import metrics\n",
    "svm_matrix = metrics.confusion_matrix(Y_test, y_predict)\n",
    "print(svm_matrix)\n",
    "\n",
    "svm_report = metrics.classification_report(Y_test, y_predict)\n",
    "print(svm_report)\n"
   ]
  },
  {
   "cell_type": "code",
   "execution_count": null,
   "metadata": {},
   "outputs": [],
   "source": []
  }
 ],
 "metadata": {
  "kernelspec": {
   "display_name": "Python 3",
   "language": "python",
   "name": "python3"
  },
  "language_info": {
   "codemirror_mode": {
    "name": "ipython",
    "version": 3
   },
   "file_extension": ".py",
   "mimetype": "text/x-python",
   "name": "python",
   "nbconvert_exporter": "python",
   "pygments_lexer": "ipython3",
   "version": "3.7.4"
  }
 },
 "nbformat": 4,
 "nbformat_minor": 4
}
