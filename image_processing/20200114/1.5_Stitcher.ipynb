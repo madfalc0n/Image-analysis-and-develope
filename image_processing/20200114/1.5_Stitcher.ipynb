{
 "cells": [
  {
   "cell_type": "code",
   "execution_count": null,
   "metadata": {
    "ExecuteTime": {
     "end_time": "2020-01-14T08:41:49.028167Z",
     "start_time": "2020-01-14T08:41:48.319979Z"
    }
   },
   "outputs": [],
   "source": [
    "import cv2, numpy as np\n",
    "import math\n",
    "import time\n",
    "import random\n",
    "from matplotlib import pyplot as plt\n",
    "%matplotlib inline\n",
    "#import imutils\n",
    "\n",
    "import qrcode\n",
    "\n",
    "from pyzbar.pyzbar import decode #visual c 설치해야한다.\n",
    "from bokeh.plotting import figure\n",
    "from bokeh.io import output_notebook, show, push_notebook\n",
    "\n",
    "\n",
    "output_notebook()\n",
    "\n",
    "\n",
    "def imshow(tit, image) :\n",
    "    plt.title(tit)    \n",
    "    if len(image.shape) == 3 :\n",
    "        plt.imshow(cv2.cvtColor(image, cv2.COLOR_BGR2RGB))\n",
    "    else :\n",
    "        plt.imshow(image, cmap=\"gray\")\n",
    "    plt.show()\n",
    "    \n",
    "    \n",
    "def create_win(frames, scale=1.0) :    \n",
    "    global myImage\n",
    "    \n",
    "    all = []\n",
    "    for f in frames :\n",
    "        if len(f.shape ) !=  3 : f = cv2.cvtColor(f, cv2.COLOR_GRAY2BGR)\n",
    "        all.append(f)\n",
    "    frame = np.vstack(all)\n",
    "    \n",
    "    fr=cv2.cvtColor(frame, cv2.COLOR_BGR2RGBA) # because Bokeh expects a RGBA image\n",
    "    fr=cv2.flip(fr, -1) # because Bokeh flips vertically\n",
    "    width=fr.shape[1]\n",
    "    height=fr.shape[0]    \n",
    "\n",
    "    p = figure(x_range=(0,width), y_range=(0,height), output_backend=\"webgl\", width=int(width*scale), height=int(height*scale))    \n",
    "    myImage = p.image_rgba(image=[fr], x=0, y=0, dw=width, dh=height)\n",
    "    show(p, notebook_handle=True)   \n",
    "    \n",
    "    \n",
    "def update_win(frames) :\n",
    "    \n",
    "    all = []\n",
    "    for f in frames :\n",
    "        if len(f.shape ) !=  3 : f = cv2.cvtColor(f, cv2.COLOR_GRAY2BGR)\n",
    "        all.append(f)\n",
    "    frame = np.vstack(all)\n",
    "    \n",
    "    fr=cv2.cvtColor(frame, cv2.COLOR_BGR2RGBA)\n",
    "    fr=cv2.flip(fr, -1)\n",
    "    myImage.data_source.data['image']=[fr]\n",
    "    push_notebook()\n",
    "    time.sleep(0.05)"
   ]
  },
  {
   "cell_type": "code",
   "execution_count": null,
   "metadata": {
    "ExecuteTime": {
     "end_time": "2020-01-14T08:44:40.448112Z",
     "start_time": "2020-01-14T08:44:40.427461Z"
    }
   },
   "outputs": [],
   "source": [
    "files = ['img1.jpg', 'img2.jpg', 'img3.jpg']\n",
    "imgs = []\n",
    "for file in files:\n",
    "    img = cv2.imread('./data/'+file)\n",
    "    imgs.append(img)"
   ]
  },
  {
   "cell_type": "code",
   "execution_count": null,
   "metadata": {
    "ExecuteTime": {
     "start_time": "2020-01-14T08:45:55.411Z"
    }
   },
   "outputs": [],
   "source": [
    "#스티치가 오래걸린다...\n",
    "stitcher = cv2.Stitcher_create()\n",
    "status, dst = stitcher.stitch(imgs)\n",
    "cv2.imwrite('img123.png',dst)\n",
    "imshow('',dst)"
   ]
  },
  {
   "cell_type": "code",
   "execution_count": null,
   "metadata": {},
   "outputs": [],
   "source": []
  }
 ],
 "metadata": {
  "kernelspec": {
   "display_name": "Python 3",
   "language": "python",
   "name": "python3"
  },
  "language_info": {
   "codemirror_mode": {
    "name": "ipython",
    "version": 3
   },
   "file_extension": ".py",
   "mimetype": "text/x-python",
   "name": "python",
   "nbconvert_exporter": "python",
   "pygments_lexer": "ipython3",
   "version": "3.7.3"
  }
 },
 "nbformat": 4,
 "nbformat_minor": 2
}
