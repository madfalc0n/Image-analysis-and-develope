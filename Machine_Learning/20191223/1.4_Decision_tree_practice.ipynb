{
 "cells": [
  {
   "cell_type": "markdown",
   "metadata": {},
   "source": [
    "## 3. Decision Tree\n",
    " - P.116"
   ]
  },
  {
   "cell_type": "markdown",
   "metadata": {},
   "source": [
    "### 암세포 데이터로 분석"
   ]
  },
  {
   "cell_type": "code",
   "execution_count": 4,
   "metadata": {},
   "outputs": [],
   "source": [
    "import pandas as pd\n",
    "import numpy as np\n"
   ]
  },
  {
   "cell_type": "code",
   "execution_count": 18,
   "metadata": {},
   "outputs": [],
   "source": [
    "uci_path='http://archive.ics.uci.edu/ml/machine-learning-databases/breast-cancer-wisconsin/breast-cancer-wisconsin.data'\n",
    "df =pd.read_csv(uci_path, header=None)\n",
    "df.columns=['id', 'clump', 'cell_size', 'cell_shape', 'adhesion', 'epithlial', 'bare_nuclei', 'chromation', 'normal_nucleoli', 'mitoses', 'class']"
   ]
  },
  {
   "cell_type": "code",
   "execution_count": 19,
   "metadata": {},
   "outputs": [
    {
     "name": "stdout",
     "output_type": "stream",
     "text": [
      "<class 'pandas.core.frame.DataFrame'>\n",
      "RangeIndex: 699 entries, 0 to 698\n",
      "Data columns (total 11 columns):\n",
      "id                 699 non-null int64\n",
      "clump              699 non-null int64\n",
      "cell_size          699 non-null int64\n",
      "cell_shape         699 non-null int64\n",
      "adhesion           699 non-null int64\n",
      "epithlial          699 non-null int64\n",
      "bare_nuclei        699 non-null object\n",
      "chromation         699 non-null int64\n",
      "normal_nucleoli    699 non-null int64\n",
      "mitoses            699 non-null int64\n",
      "class              699 non-null int64\n",
      "dtypes: int64(10), object(1)\n",
      "memory usage: 60.2+ KB\n"
     ]
    }
   ],
   "source": [
    "df.info()"
   ]
  },
  {
   "cell_type": "code",
   "execution_count": 47,
   "metadata": {},
   "outputs": [
    {
     "data": {
      "text/plain": [
       "array([2, 4], dtype=int64)"
      ]
     },
     "execution_count": 47,
     "metadata": {},
     "output_type": "execute_result"
    }
   ],
   "source": [
    "df['class'].unique()"
   ]
  },
  {
   "cell_type": "code",
   "execution_count": 20,
   "metadata": {},
   "outputs": [
    {
     "data": {
      "text/html": [
       "<div>\n",
       "<style scoped>\n",
       "    .dataframe tbody tr th:only-of-type {\n",
       "        vertical-align: middle;\n",
       "    }\n",
       "\n",
       "    .dataframe tbody tr th {\n",
       "        vertical-align: top;\n",
       "    }\n",
       "\n",
       "    .dataframe thead th {\n",
       "        text-align: right;\n",
       "    }\n",
       "</style>\n",
       "<table border=\"1\" class=\"dataframe\">\n",
       "  <thead>\n",
       "    <tr style=\"text-align: right;\">\n",
       "      <th></th>\n",
       "      <th>id</th>\n",
       "      <th>clump</th>\n",
       "      <th>cell_size</th>\n",
       "      <th>cell_shape</th>\n",
       "      <th>adhesion</th>\n",
       "      <th>epithlial</th>\n",
       "      <th>chromation</th>\n",
       "      <th>normal_nucleoli</th>\n",
       "      <th>mitoses</th>\n",
       "      <th>class</th>\n",
       "    </tr>\n",
       "  </thead>\n",
       "  <tbody>\n",
       "    <tr>\n",
       "      <td>count</td>\n",
       "      <td>6.990000e+02</td>\n",
       "      <td>699.000000</td>\n",
       "      <td>699.000000</td>\n",
       "      <td>699.000000</td>\n",
       "      <td>699.000000</td>\n",
       "      <td>699.000000</td>\n",
       "      <td>699.000000</td>\n",
       "      <td>699.000000</td>\n",
       "      <td>699.000000</td>\n",
       "      <td>699.000000</td>\n",
       "    </tr>\n",
       "    <tr>\n",
       "      <td>mean</td>\n",
       "      <td>1.071704e+06</td>\n",
       "      <td>4.417740</td>\n",
       "      <td>3.134478</td>\n",
       "      <td>3.207439</td>\n",
       "      <td>2.806867</td>\n",
       "      <td>3.216023</td>\n",
       "      <td>3.437768</td>\n",
       "      <td>2.866953</td>\n",
       "      <td>1.589413</td>\n",
       "      <td>2.689557</td>\n",
       "    </tr>\n",
       "    <tr>\n",
       "      <td>std</td>\n",
       "      <td>6.170957e+05</td>\n",
       "      <td>2.815741</td>\n",
       "      <td>3.051459</td>\n",
       "      <td>2.971913</td>\n",
       "      <td>2.855379</td>\n",
       "      <td>2.214300</td>\n",
       "      <td>2.438364</td>\n",
       "      <td>3.053634</td>\n",
       "      <td>1.715078</td>\n",
       "      <td>0.951273</td>\n",
       "    </tr>\n",
       "    <tr>\n",
       "      <td>min</td>\n",
       "      <td>6.163400e+04</td>\n",
       "      <td>1.000000</td>\n",
       "      <td>1.000000</td>\n",
       "      <td>1.000000</td>\n",
       "      <td>1.000000</td>\n",
       "      <td>1.000000</td>\n",
       "      <td>1.000000</td>\n",
       "      <td>1.000000</td>\n",
       "      <td>1.000000</td>\n",
       "      <td>2.000000</td>\n",
       "    </tr>\n",
       "    <tr>\n",
       "      <td>25%</td>\n",
       "      <td>8.706885e+05</td>\n",
       "      <td>2.000000</td>\n",
       "      <td>1.000000</td>\n",
       "      <td>1.000000</td>\n",
       "      <td>1.000000</td>\n",
       "      <td>2.000000</td>\n",
       "      <td>2.000000</td>\n",
       "      <td>1.000000</td>\n",
       "      <td>1.000000</td>\n",
       "      <td>2.000000</td>\n",
       "    </tr>\n",
       "    <tr>\n",
       "      <td>50%</td>\n",
       "      <td>1.171710e+06</td>\n",
       "      <td>4.000000</td>\n",
       "      <td>1.000000</td>\n",
       "      <td>1.000000</td>\n",
       "      <td>1.000000</td>\n",
       "      <td>2.000000</td>\n",
       "      <td>3.000000</td>\n",
       "      <td>1.000000</td>\n",
       "      <td>1.000000</td>\n",
       "      <td>2.000000</td>\n",
       "    </tr>\n",
       "    <tr>\n",
       "      <td>75%</td>\n",
       "      <td>1.238298e+06</td>\n",
       "      <td>6.000000</td>\n",
       "      <td>5.000000</td>\n",
       "      <td>5.000000</td>\n",
       "      <td>4.000000</td>\n",
       "      <td>4.000000</td>\n",
       "      <td>5.000000</td>\n",
       "      <td>4.000000</td>\n",
       "      <td>1.000000</td>\n",
       "      <td>4.000000</td>\n",
       "    </tr>\n",
       "    <tr>\n",
       "      <td>max</td>\n",
       "      <td>1.345435e+07</td>\n",
       "      <td>10.000000</td>\n",
       "      <td>10.000000</td>\n",
       "      <td>10.000000</td>\n",
       "      <td>10.000000</td>\n",
       "      <td>10.000000</td>\n",
       "      <td>10.000000</td>\n",
       "      <td>10.000000</td>\n",
       "      <td>10.000000</td>\n",
       "      <td>4.000000</td>\n",
       "    </tr>\n",
       "  </tbody>\n",
       "</table>\n",
       "</div>"
      ],
      "text/plain": [
       "                 id       clump   cell_size  cell_shape    adhesion  \\\n",
       "count  6.990000e+02  699.000000  699.000000  699.000000  699.000000   \n",
       "mean   1.071704e+06    4.417740    3.134478    3.207439    2.806867   \n",
       "std    6.170957e+05    2.815741    3.051459    2.971913    2.855379   \n",
       "min    6.163400e+04    1.000000    1.000000    1.000000    1.000000   \n",
       "25%    8.706885e+05    2.000000    1.000000    1.000000    1.000000   \n",
       "50%    1.171710e+06    4.000000    1.000000    1.000000    1.000000   \n",
       "75%    1.238298e+06    6.000000    5.000000    5.000000    4.000000   \n",
       "max    1.345435e+07   10.000000   10.000000   10.000000   10.000000   \n",
       "\n",
       "        epithlial  chromation  normal_nucleoli     mitoses       class  \n",
       "count  699.000000  699.000000       699.000000  699.000000  699.000000  \n",
       "mean     3.216023    3.437768         2.866953    1.589413    2.689557  \n",
       "std      2.214300    2.438364         3.053634    1.715078    0.951273  \n",
       "min      1.000000    1.000000         1.000000    1.000000    2.000000  \n",
       "25%      2.000000    2.000000         1.000000    1.000000    2.000000  \n",
       "50%      2.000000    3.000000         1.000000    1.000000    2.000000  \n",
       "75%      4.000000    5.000000         4.000000    1.000000    4.000000  \n",
       "max     10.000000   10.000000        10.000000   10.000000    4.000000  "
      ]
     },
     "execution_count": 20,
     "metadata": {},
     "output_type": "execute_result"
    }
   ],
   "source": [
    "df.describe()"
   ]
  },
  {
   "cell_type": "code",
   "execution_count": 23,
   "metadata": {},
   "outputs": [
    {
     "name": "stdout",
     "output_type": "stream",
     "text": [
      "['1' '10' '2' '4' '3' '9' '7' '?' '5' '8' '6']\n",
      "<bound method IndexOpsMixin.value_counts of 0       1\n",
      "1      10\n",
      "2       2\n",
      "3       4\n",
      "4       1\n",
      "       ..\n",
      "694     2\n",
      "695     1\n",
      "696     3\n",
      "697     4\n",
      "698     5\n",
      "Name: bare_nuclei, Length: 699, dtype: object>\n"
     ]
    }
   ],
   "source": [
    "print(df['bare_nuclei'].unique())\n",
    "print(df['bare_nuclei'].value_counts)"
   ]
  },
  {
   "cell_type": "code",
   "execution_count": 25,
   "metadata": {},
   "outputs": [],
   "source": [
    "# Null 값을 만들고 삭제\n",
    "df['bare_nuclei'].replace('?', np.nan, inplace=True)\n",
    "df.dropna(subset=['bare_nuclei'], axis=0, inplace=True) #행 기준 삭제\n",
    "df['bare_nuclei'] = df['bare_nuclei'].astype('int')"
   ]
  },
  {
   "cell_type": "code",
   "execution_count": 26,
   "metadata": {},
   "outputs": [
    {
     "name": "stdout",
     "output_type": "stream",
     "text": [
      "<class 'pandas.core.frame.DataFrame'>\n",
      "Int64Index: 683 entries, 0 to 698\n",
      "Data columns (total 11 columns):\n",
      "id                 683 non-null int64\n",
      "clump              683 non-null int64\n",
      "cell_size          683 non-null int64\n",
      "cell_shape         683 non-null int64\n",
      "adhesion           683 non-null int64\n",
      "epithlial          683 non-null int64\n",
      "bare_nuclei        683 non-null int32\n",
      "chromation         683 non-null int64\n",
      "normal_nucleoli    683 non-null int64\n",
      "mitoses            683 non-null int64\n",
      "class              683 non-null int64\n",
      "dtypes: int32(1), int64(10)\n",
      "memory usage: 61.4 KB\n",
      "[ 1 10  2  4  3  9  7  5  8  6]\n"
     ]
    }
   ],
   "source": [
    "df.info()\n",
    "print(df['bare_nuclei'].unique())"
   ]
  },
  {
   "cell_type": "code",
   "execution_count": 29,
   "metadata": {},
   "outputs": [
    {
     "name": "stdout",
     "output_type": "stream",
     "text": [
      "          id  clump  cell_size  cell_shape  adhesion  epithlial  bare_nuclei  \\\n",
      "0    1000025      5          1           1         1          2            1   \n",
      "1    1002945      5          4           4         5          7           10   \n",
      "2    1015425      3          1           1         1          2            2   \n",
      "3    1016277      6          8           8         1          3            4   \n",
      "4    1017023      4          1           1         3          2            1   \n",
      "..       ...    ...        ...         ...       ...        ...          ...   \n",
      "694   776715      3          1           1         1          3            2   \n",
      "695   841769      2          1           1         1          2            1   \n",
      "696   888820      5         10          10         3          7            3   \n",
      "697   897471      4          8           6         4          3            4   \n",
      "698   897471      4          8           8         5          4            5   \n",
      "\n",
      "     chromation  normal_nucleoli  mitoses  \n",
      "0             3                1        1  \n",
      "1             3                2        1  \n",
      "2             3                1        1  \n",
      "3             3                7        1  \n",
      "4             3                1        1  \n",
      "..          ...              ...      ...  \n",
      "694           1                1        1  \n",
      "695           1                1        1  \n",
      "696           8               10        2  \n",
      "697          10                6        1  \n",
      "698          10                4        1  \n",
      "\n",
      "[683 rows x 10 columns]\n"
     ]
    }
   ],
   "source": [
    "#변수 설정\n",
    "\n",
    "#설명변수(독립변수)\n",
    "X = df[['id', 'clump', 'cell_size', 'cell_shape', 'adhesion', 'epithlial', 'bare_nuclei', 'chromation', 'normal_nucleoli', 'mitoses']]\n",
    "print(X)\n",
    "#종속변수(예측변수, 반응변수)\n",
    "Y = df['class']"
   ]
  },
  {
   "cell_type": "code",
   "execution_count": 30,
   "metadata": {},
   "outputs": [
    {
     "name": "stdout",
     "output_type": "stream",
     "text": [
      "[[-0.12366418  0.19790469 -0.70221201 ... -0.18182716 -0.61292736\n",
      "  -0.34839971]\n",
      " [-0.11895594  0.19790469  0.27725185 ... -0.18182716 -0.28510482\n",
      "  -0.34839971]\n",
      " [-0.09883306 -0.51164337 -0.70221201 ... -0.18182716 -0.61292736\n",
      "  -0.34839971]\n",
      " ...\n",
      " [-0.30297227  0.19790469  2.23617957 ...  1.86073779  2.33747554\n",
      "   0.22916583]\n",
      " [-0.2890233  -0.15686934  1.58320366 ...  2.67776377  1.02618536\n",
      "  -0.34839971]\n",
      " [-0.2890233  -0.15686934  1.58320366 ...  2.67776377  0.37054027\n",
      "  -0.34839971]]\n"
     ]
    }
   ],
   "source": [
    "# 설명변수 데이터 정규화\n",
    "from sklearn import preprocessing\n",
    "X = preprocessing.StandardScaler().fit(X).transform(X)\n",
    "print(X)\n",
    "\n"
   ]
  },
  {
   "cell_type": "code",
   "execution_count": 32,
   "metadata": {},
   "outputs": [
    {
     "name": "stdout",
     "output_type": "stream",
     "text": [
      "(478, 10)\n",
      "(205, 10)\n"
     ]
    }
   ],
   "source": [
    "#train/test set 7:3으로 분리\n",
    "from sklearn.model_selection import train_test_split\n",
    "X_train, X_test, Y_train, Y_test = train_test_split(X, Y , test_size= 0.3 , random_state=10)\n",
    "print(X_train.shape)\n",
    "print(X_test.shape)"
   ]
  },
  {
   "cell_type": "code",
   "execution_count": 56,
   "metadata": {},
   "outputs": [],
   "source": [
    "# Decision Tree 분류 생성\n",
    "from sklearn import tree\n",
    "\n",
    "tree_model = tree.DecisionTreeClassifier(criterion='gini', max_depth=100)\n",
    "tree_model.fit(X_train, Y_train)\n",
    "\n",
    "y_predict = tree_model.predict(X_test)"
   ]
  },
  {
   "cell_type": "code",
   "execution_count": 35,
   "metadata": {},
   "outputs": [
    {
     "name": "stdout",
     "output_type": "stream",
     "text": [
      "[4 4 4 4 4 4 2 2 4 4]\n",
      "[4 4 4 4 4 4 2 2 4 4]\n"
     ]
    }
   ],
   "source": [
    "print(y_predict[:10])\n",
    "print(Y_test.values[:10])"
   ]
  },
  {
   "cell_type": "code",
   "execution_count": 51,
   "metadata": {},
   "outputs": [
    {
     "name": "stdout",
     "output_type": "stream",
     "text": [
      "[[127   4]\n",
      " [  2  72]]\n",
      "              precision    recall  f1-score   support\n",
      "\n",
      "           2       0.98      0.97      0.98       131\n",
      "           4       0.95      0.97      0.96        74\n",
      "\n",
      "    accuracy                           0.97       205\n",
      "   macro avg       0.97      0.97      0.97       205\n",
      "weighted avg       0.97      0.97      0.97       205\n",
      "\n"
     ]
    }
   ],
   "source": [
    "#criterion='entropy'\n",
    "# max_depth = 5\n",
    "from sklearn import metrics\n",
    "tree_matrix = metrics.confusion_matrix(Y_test, y_predict)\n",
    "print(tree_matrix)\n",
    "\n",
    "tree_report = metrics.classification_report(Y_test, y_predict)\n",
    "print(tree_report)"
   ]
  },
  {
   "cell_type": "code",
   "execution_count": 49,
   "metadata": {},
   "outputs": [
    {
     "name": "stdout",
     "output_type": "stream",
     "text": [
      "[[127   4]\n",
      " [  2  72]]\n",
      "              precision    recall  f1-score   support\n",
      "\n",
      "           2       0.98      0.97      0.98       131\n",
      "           4       0.95      0.97      0.96        74\n",
      "\n",
      "    accuracy                           0.97       205\n",
      "   macro avg       0.97      0.97      0.97       205\n",
      "weighted avg       0.97      0.97      0.97       205\n",
      "\n"
     ]
    }
   ],
   "source": [
    "#criterion='entropy'\n",
    "# max_depth = 10\n",
    "from sklearn import metrics\n",
    "tree_matrix = metrics.confusion_matrix(Y_test, y_predict)\n",
    "print(tree_matrix)\n",
    "\n",
    "tree_report = metrics.classification_report(Y_test, y_predict)\n",
    "print(tree_report)"
   ]
  },
  {
   "cell_type": "code",
   "execution_count": 44,
   "metadata": {},
   "outputs": [
    {
     "name": "stdout",
     "output_type": "stream",
     "text": [
      "[[127   4]\n",
      " [  3  71]]\n",
      "              precision    recall  f1-score   support\n",
      "\n",
      "           2       0.98      0.97      0.97       131\n",
      "           4       0.95      0.96      0.95        74\n",
      "\n",
      "    accuracy                           0.97       205\n",
      "   macro avg       0.96      0.96      0.96       205\n",
      "weighted avg       0.97      0.97      0.97       205\n",
      "\n"
     ]
    }
   ],
   "source": [
    "#criterion='entropy'\n",
    "# max_depth = 100\n",
    "from sklearn import metrics\n",
    "tree_matrix = metrics.confusion_matrix(Y_test, y_predict)\n",
    "print(tree_matrix)\n",
    "\n",
    "tree_report = metrics.classification_report(Y_test, y_predict)\n",
    "print(tree_report)"
   ]
  },
  {
   "cell_type": "code",
   "execution_count": 53,
   "metadata": {},
   "outputs": [
    {
     "name": "stdout",
     "output_type": "stream",
     "text": [
      "[[127   4]\n",
      " [  5  69]]\n",
      "              precision    recall  f1-score   support\n",
      "\n",
      "           2       0.96      0.97      0.97       131\n",
      "           4       0.95      0.93      0.94        74\n",
      "\n",
      "    accuracy                           0.96       205\n",
      "   macro avg       0.95      0.95      0.95       205\n",
      "weighted avg       0.96      0.96      0.96       205\n",
      "\n"
     ]
    }
   ],
   "source": [
    "#criterion='gini'\n",
    "# max_depth = 5\n",
    "from sklearn import metrics\n",
    "tree_matrix = metrics.confusion_matrix(Y_test, y_predict)\n",
    "print(tree_matrix)\n",
    "\n",
    "tree_report = metrics.classification_report(Y_test, y_predict)\n",
    "print(tree_report)\n"
   ]
  },
  {
   "cell_type": "code",
   "execution_count": 55,
   "metadata": {},
   "outputs": [
    {
     "name": "stdout",
     "output_type": "stream",
     "text": [
      "[[127   4]\n",
      " [  7  67]]\n",
      "              precision    recall  f1-score   support\n",
      "\n",
      "           2       0.95      0.97      0.96       131\n",
      "           4       0.94      0.91      0.92        74\n",
      "\n",
      "    accuracy                           0.95       205\n",
      "   macro avg       0.95      0.94      0.94       205\n",
      "weighted avg       0.95      0.95      0.95       205\n",
      "\n"
     ]
    }
   ],
   "source": [
    "#criterion='gini'\n",
    "# max_depth = 10\n",
    "from sklearn import metrics\n",
    "tree_matrix = metrics.confusion_matrix(Y_test, y_predict)\n",
    "print(tree_matrix)\n",
    "\n",
    "tree_report = metrics.classification_report(Y_test, y_predict)\n",
    "print(tree_report)\n"
   ]
  },
  {
   "cell_type": "code",
   "execution_count": 57,
   "metadata": {},
   "outputs": [
    {
     "name": "stdout",
     "output_type": "stream",
     "text": [
      "[[127   4]\n",
      " [  5  69]]\n",
      "              precision    recall  f1-score   support\n",
      "\n",
      "           2       0.96      0.97      0.97       131\n",
      "           4       0.95      0.93      0.94        74\n",
      "\n",
      "    accuracy                           0.96       205\n",
      "   macro avg       0.95      0.95      0.95       205\n",
      "weighted avg       0.96      0.96      0.96       205\n",
      "\n"
     ]
    }
   ],
   "source": [
    "#criterion='gini'\n",
    "# max_depth = 100\n",
    "from sklearn import metrics\n",
    "tree_matrix = metrics.confusion_matrix(Y_test, y_predict)\n",
    "print(tree_matrix)\n",
    "\n",
    "tree_report = metrics.classification_report(Y_test, y_predict)\n",
    "print(tree_report)\n"
   ]
  },
  {
   "cell_type": "markdown",
   "metadata": {},
   "source": [
    "```bash\n",
    "[[127   4]\n",
    " [  5  69]]\n",
    "              precision    recall  f1-score   support\n",
    "\n",
    "           2       0.96      0.97      0.97       131\n",
    "           4       0.95      0.93      0.94        74\n",
    "\n",
    "    accuracy                           0.96       205\n",
    "   macro avg       0.95      0.95      0.95       205\n",
    "weighted avg       0.96      0.96      0.96       205\n",
    "```"
   ]
  },
  {
   "cell_type": "code",
   "execution_count": 58,
   "metadata": {},
   "outputs": [
    {
     "name": "stdout",
     "output_type": "stream",
     "text": [
      "Collecting pydotplus\n",
      "  Downloading https://files.pythonhosted.org/packages/60/bf/62567830b700d9f6930e9ab6831d6ba256f7b0b730acb37278b0ccdffacf/pydotplus-2.0.2.tar.gz (278kB)\n",
      "Requirement already satisfied: pyparsing>=2.0.1 in c:\\users\\student\\anaconda3\\lib\\site-packages (from pydotplus) (2.4.2)\n",
      "Building wheels for collected packages: pydotplus\n",
      "  Building wheel for pydotplus (setup.py): started\n",
      "  Building wheel for pydotplus (setup.py): finished with status 'done'\n",
      "  Created wheel for pydotplus: filename=pydotplus-2.0.2-cp37-none-any.whl size=24573 sha256=da441403d8882804208f89cacfcbd3c99cec4de8191c5065ce4e8d90c20ab466\n",
      "  Stored in directory: C:\\Users\\student\\AppData\\Local\\pip\\Cache\\wheels\\35\\7b\\ab\\66fb7b2ac1f6df87475b09dc48e707b6e0de80a6d8444e3628\n",
      "Successfully built pydotplus\n",
      "Installing collected packages: pydotplus\n",
      "Successfully installed pydotplus-2.0.2\n",
      "Note: you may need to restart the kernel to use updated packages.\n"
     ]
    }
   ],
   "source": [
    "pip install pydotplus"
   ]
  },
  {
   "cell_type": "code",
   "execution_count": null,
   "metadata": {},
   "outputs": [],
   "source": [
    "from pydotplus import graph_from_dot_data\n",
    "from sklearn.tree import export_graphviz\n",
    "dot_data = export_graphviz(tree, filled = True)"
   ]
  }
 ],
 "metadata": {
  "kernelspec": {
   "display_name": "Python 3",
   "language": "python",
   "name": "python3"
  },
  "language_info": {
   "codemirror_mode": {
    "name": "ipython",
    "version": 3
   },
   "file_extension": ".py",
   "mimetype": "text/x-python",
   "name": "python",
   "nbconvert_exporter": "python",
   "pygments_lexer": "ipython3",
   "version": "3.7.4"
  }
 },
 "nbformat": 4,
 "nbformat_minor": 4
}
