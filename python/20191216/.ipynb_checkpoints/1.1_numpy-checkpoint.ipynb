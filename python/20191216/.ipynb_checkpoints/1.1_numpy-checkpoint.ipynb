{
 "cells": [
  {
   "cell_type": "markdown",
   "metadata": {},
   "source": [
    "# NUMPY \n",
    "\n",
    "## TIP:\n",
    "1. ndim - 배열의 차원의 수를 반환\n",
    "2. shape - 배열의 차원의 크기를 알려줌\n",
    "3. dtype - 배열에 저장된 자료형을 알려줌\n",
    "4. np.zero - 지정된 shape(행,열)을 지정하고 모든 요소를 0으로 초기화 해줌, np.ones()경우 1로 초기화\n",
    "5. np.empty - 메모리를 할당하여 새로운 배열을 생성, 값이 없다."
   ]
  },
  {
   "cell_type": "code",
   "execution_count": 1,
   "metadata": {},
   "outputs": [],
   "source": [
    "import numpy as np"
   ]
  },
  {
   "cell_type": "code",
   "execution_count": 2,
   "metadata": {},
   "outputs": [],
   "source": [
    "my_arr = np.arange(1000000)\n",
    "my_list = list(range(1000000))"
   ]
  },
  {
   "cell_type": "code",
   "execution_count": 3,
   "metadata": {
    "scrolled": true
   },
   "outputs": [
    {
     "name": "stdout",
     "output_type": "stream",
     "text": [
      "Wall time: 15.7 ms\n",
      "Wall time: 650 ms\n"
     ]
    }
   ],
   "source": [
    "%time for _ in range(10): my_arr2 = my_arr * 2\n",
    "%time for _ in range(10): my_list2 = [ x*2 for x in my_list]"
   ]
  },
  {
   "cell_type": "code",
   "execution_count": 15,
   "metadata": {},
   "outputs": [],
   "source": [
    "def pprint(arr): #만들어서 사용할 수도 있음\n",
    "    print(\"type:{}\".format(type(arr)))\n",
    "    print(\"shape: {}, dimension: {}, dtype:{}\".format(arr.shape, arr.ndim, arr.dtype))\n",
    "    print(\"Array's Data:\\n\", arr)"
   ]
  },
  {
   "cell_type": "code",
   "execution_count": 8,
   "metadata": {},
   "outputs": [
    {
     "data": {
      "text/plain": [
       "array([6. , 7.5, 8. , 0. , 1. ])"
      ]
     },
     "execution_count": 8,
     "metadata": {},
     "output_type": "execute_result"
    }
   ],
   "source": [
    "data1 = [6, 7.5, 8, 0, 1]\n",
    "arr1 = np.array(data1)\n",
    "print(arr1)\n",
    "data2 = [[1,2,3,4], [5,6,7,8]]\n",
    "arr2 = np.array(data2)\n",
    "print(arr2)"
   ]
  },
  {
   "cell_type": "code",
   "execution_count": 13,
   "metadata": {},
   "outputs": [
    {
     "name": "stdout",
     "output_type": "stream",
     "text": [
      "1\n",
      "(5,)\n",
      "float64\n",
      "2\n",
      "(2, 4)\n",
      "int32\n"
     ]
    }
   ],
   "source": [
    "print(arr1.ndim)\n",
    "print(arr1.shape)\n",
    "print(arr1.dtype)\n",
    "print(arr2.ndim)\n",
    "print(arr2.shape)\n",
    "print(arr2.dtype)"
   ]
  },
  {
   "cell_type": "code",
   "execution_count": 16,
   "metadata": {},
   "outputs": [
    {
     "name": "stdout",
     "output_type": "stream",
     "text": [
      "type:<class 'numpy.ndarray'>\n",
      "shape: (5,), dimension: 1, dtype:float64\n",
      "Array's Data:\n",
      " [6.  7.5 8.  0.  1. ]\n"
     ]
    }
   ],
   "source": [
    "pprint(arr1)"
   ]
  },
  {
   "cell_type": "code",
   "execution_count": 17,
   "metadata": {},
   "outputs": [
    {
     "data": {
      "text/plain": [
       "array([[[0., 0.],\n",
       "        [0., 0.],\n",
       "        [0., 0.]],\n",
       "\n",
       "       [[0., 0.],\n",
       "        [0., 0.],\n",
       "        [0., 0.]]])"
      ]
     },
     "execution_count": 17,
     "metadata": {},
     "output_type": "execute_result"
    }
   ],
   "source": [
    "np.zeros(10)\n",
    "np.zeros((3,6))\n",
    "np.zeros((2,3,2))"
   ]
  },
  {
   "cell_type": "code",
   "execution_count": null,
   "metadata": {},
   "outputs": [],
   "source": [
    "a = np.zeros(3,4)\n",
    "pprint(a)\n",
    "\n",
    "a = np.ones()"
   ]
  },
  {
   "cell_type": "markdown",
   "metadata": {},
   "source": [
    "## dtype \n",
    "1. dtype은 ndarray가 메모리에 있는 특정 데이터를 해석하기 위해 필요한 정보(또는 메타데이터)를 담고있는 특수객체"
   ]
  },
  {
   "cell_type": "code",
   "execution_count": 26,
   "metadata": {},
   "outputs": [
    {
     "name": "stdout",
     "output_type": "stream",
     "text": [
      "int32\n",
      "float64\n"
     ]
    }
   ],
   "source": [
    "arr = np.array([1,2,3,4,5])\n",
    "print(arr.dtype)\n",
    "float_arr = arr.astype(np.float64)\n",
    "print(float_arr.dtype)\n"
   ]
  },
  {
   "cell_type": "code",
   "execution_count": 28,
   "metadata": {},
   "outputs": [
    {
     "name": "stdout",
     "output_type": "stream",
     "text": [
      "[ 3.7 -1.2 -2.6  0.5 12.9 10.1]\n",
      "[ 3 -1 -2  0 12 10]\n"
     ]
    }
   ],
   "source": [
    "arr = np.array([3.7, -1.2, -2.6, 0.5, 12.9, 10.1])\n",
    "print(arr)\n",
    "print(arr.astype(np.int32))\n"
   ]
  },
  {
   "cell_type": "code",
   "execution_count": 29,
   "metadata": {},
   "outputs": [
    {
     "data": {
      "text/plain": [
       "array([0., 1., 2., 3., 4., 5., 6., 7., 8., 9.])"
      ]
     },
     "execution_count": 29,
     "metadata": {},
     "output_type": "execute_result"
    }
   ],
   "source": [
    "int_array = np.arange(10)\n",
    "calibers = np.array([.22, .270, .357, .380, .44, .50], dtype=np.float64)\n",
    "int_array.astype(calibers.dtype)"
   ]
  },
  {
   "cell_type": "code",
   "execution_count": 30,
   "metadata": {},
   "outputs": [
    {
     "data": {
      "text/plain": [
       "array([         0, 1075314688,          0, 1075707904,          0,\n",
       "       1075838976,          0, 1072693248], dtype=uint32)"
      ]
     },
     "execution_count": 30,
     "metadata": {},
     "output_type": "execute_result"
    }
   ],
   "source": [
    "empty_uint32 = np.empty(8, dtype='u4')\n",
    "empty_uint32"
   ]
  },
  {
   "cell_type": "markdown",
   "metadata": {},
   "source": [
    "## TIP:\n",
    "1. numpy는 for문을 작성하지 않고 데이터를 일괄 처리 할 수 있다. 이를 벡터화라고 한다.\n",
    "2. 같은 크기의 배열간의 산술 연산은 배열의 각 원소 단위로 적용된다."
   ]
  },
  {
   "cell_type": "code",
   "execution_count": 18,
   "metadata": {},
   "outputs": [
    {
     "data": {
      "text/plain": [
       "array([[1., 2., 3.],\n",
       "       [4., 5., 6.]])"
      ]
     },
     "execution_count": 18,
     "metadata": {},
     "output_type": "execute_result"
    }
   ],
   "source": [
    "arr = np.array([[1.,2.,3.], [4., 5., 6.]])\n",
    "arr"
   ]
  },
  {
   "cell_type": "code",
   "execution_count": 19,
   "metadata": {},
   "outputs": [
    {
     "data": {
      "text/plain": [
       "array([[ 1.,  4.,  9.],\n",
       "       [16., 25., 36.]])"
      ]
     },
     "execution_count": 19,
     "metadata": {},
     "output_type": "execute_result"
    }
   ],
   "source": [
    "arr = np.array([[1.,2.,3.], [4., 5., 6.]])\n",
    "arr * arr"
   ]
  },
  {
   "cell_type": "code",
   "execution_count": 20,
   "metadata": {},
   "outputs": [
    {
     "data": {
      "text/plain": [
       "array([[1.        , 0.5       , 0.33333333],\n",
       "       [0.25      , 0.2       , 0.16666667]])"
      ]
     },
     "execution_count": 20,
     "metadata": {},
     "output_type": "execute_result"
    }
   ],
   "source": [
    "arr = np.array([[1.,2.,3.], [4., 5., 6.]])\n",
    "1 / arr"
   ]
  },
  {
   "cell_type": "code",
   "execution_count": 22,
   "metadata": {},
   "outputs": [
    {
     "data": {
      "text/plain": [
       "array([[False,  True, False],\n",
       "       [ True, False,  True]])"
      ]
     },
     "execution_count": 22,
     "metadata": {},
     "output_type": "execute_result"
    }
   ],
   "source": [
    "arr2 = np.array([[0., 4., 1.], [7., 2., 12.]])\n",
    "arr2\n",
    "arr2 > arr"
   ]
  },
  {
   "cell_type": "markdown",
   "metadata": {},
   "source": [
    "1. np.linspace\n",
    "2. np.aragne\n",
    "3. np.logspace"
   ]
  },
  {
   "cell_type": "code",
   "execution_count": 145,
   "metadata": {},
   "outputs": [
    {
     "name": "stdout",
     "output_type": "stream",
     "text": [
      "type:<class 'numpy.ndarray'>\n",
      "shape: (5,), dimension: 1, dtype:float64\n",
      "Array's Data:\n",
      " [0.   0.25 0.5  0.75 1.  ]\n"
     ]
    },
    {
     "data": {
      "image/png": "[encoded data removed]",
      "text/plain": [
       "<Figure size 432x288 with 1 Axes>"
      ]
     },
     "metadata": {
      "needs_background": "light"
     },
     "output_type": "display_data"
    },
    {
     "name": "stdout",
     "output_type": "stream",
     "text": [
      "type:<class 'numpy.ndarray'>\n",
      "shape: (5,), dimension: 1, dtype:float64\n",
      "Array's Data:\n",
      " [0. 2. 4. 6. 8.]\n"
     ]
    },
    {
     "data": {
      "image/png": "[encoded data removed]",
      "text/plain": [
       "<Figure size 432x288 with 1 Axes>"
      ]
     },
     "metadata": {
      "needs_background": "light"
     },
     "output_type": "display_data"
    },
    {
     "name": "stdout",
     "output_type": "stream",
     "text": [
      "type:<class 'numpy.ndarray'>\n",
      "shape: (20,), dimension: 1, dtype:float64\n",
      "Array's Data:\n",
      " [ 1.25892541  1.40400425  1.565802    1.74624535  1.94748304  2.1719114\n",
      "  2.42220294  2.70133812  3.0126409   3.35981829  3.74700446  4.17881006\n",
      "  4.66037703  5.19743987  5.79639395  6.46437163  7.2093272   8.04013161\n",
      "  8.9666781  10.        ]\n"
     ]
    },
    {
     "data": {
      "image/png": "[encoded data removed]",
      "text/plain": [
       "<Figure size 432x288 with 1 Axes>"
      ]
     },
     "metadata": {
      "needs_background": "light"
     },
     "output_type": "display_data"
    }
   ],
   "source": [
    "%matplotlib inline\n",
    "import matplotlib.pyplot as plt\n",
    "\n",
    "a = np.linspace(0,1,5)\n",
    "pprint(a)\n",
    "plt.plot(a,'o')\n",
    "plt.show()\n",
    "\n",
    "\n",
    "a = np.arange(0, 10, 2, np.float)\n",
    "pprint(a)\n",
    "plt.plot(a,'o')\n",
    "plt.show()\n",
    "\n",
    "a = np.logspace(0.1,1,20, endpoint=True)\n",
    "pprint(a)\n",
    "plt.plot(a,'o')\n",
    "plt.show()\n"
   ]
  },
  {
   "cell_type": "code",
   "execution_count": 33,
   "metadata": {},
   "outputs": [
    {
     "name": "stdout",
     "output_type": "stream",
     "text": [
      "type:<class 'numpy.ndarray'>\n",
      "shape: (2, 3), dimension: 2, dtype:float64\n",
      "Array's Data:\n",
      " [[-0.1645833   0.35079902  0.45025371]\n",
      " [ 1.56808175  2.06562799  1.33652948]]\n"
     ]
    },
    {
     "data": {
      "image/png": "[encoded data removed]",
      "text/plain": [
       "<Figure size 432x288 with 1 Axes>"
      ]
     },
     "metadata": {
      "needs_background": "light"
     },
     "output_type": "display_data"
    },
    {
     "name": "stdout",
     "output_type": "stream",
     "text": [
      "type:<class 'numpy.ndarray'>\n",
      "shape: (3, 2), dimension: 2, dtype:float64\n",
      "Array's Data:\n",
      " [[0.79754074 0.30591009]\n",
      " [0.03665015 0.90565509]\n",
      " [0.32820428 0.59495926]]\n"
     ]
    },
    {
     "data": {
      "image/png": "[encoded data removed]",
      "text/plain": [
       "<Figure size 432x288 with 1 Axes>"
      ]
     },
     "metadata": {
      "needs_background": "light"
     },
     "output_type": "display_data"
    },
    {
     "name": "stdout",
     "output_type": "stream",
     "text": [
      "type:<class 'numpy.ndarray'>\n",
      "shape: (2, 4), dimension: 2, dtype:float64\n",
      "Array's Data:\n",
      " [[ 0.56495905 -0.56645886  0.51100771  0.30524731]\n",
      " [-0.58654468  0.86357657 -0.09663709 -0.27819833]]\n"
     ]
    },
    {
     "data": {
      "image/png": "[encoded data removed]",
      "text/plain": [
       "<Figure size 432x288 with 1 Axes>"
      ]
     },
     "metadata": {
      "needs_background": "light"
     },
     "output_type": "display_data"
    }
   ],
   "source": [
    "mean = 0\n",
    "std = 1\n",
    "a = np.random.normal(mean, std, (2, 3))\n",
    "pprint(a)\n",
    "data = np.random.normal(0, 1, 10000)\n",
    "import matplotlib.pyplot as plt\n",
    "plt.hist(data, bins=100)\n",
    "plt.show()\n",
    "\n",
    "a = np.random.rand(3,2)\n",
    "pprint(a)\n",
    "data = np.random.rand(10000)\n",
    "import matplotlib.pyplot as plt\n",
    "plt.hist(data, bins=10)\n",
    "plt.show()\n",
    "\n",
    "a = np.random.randn(2, 4)\n",
    "pprint(a)\n",
    "data = np.random.randn(10000)\n",
    "import matplotlib.pyplot as plt\n",
    "plt.hist(data, bins=10)\n",
    "plt.show()\n"
   ]
  },
  {
   "cell_type": "code",
   "execution_count": 38,
   "metadata": {},
   "outputs": [
    {
     "name": "stdout",
     "output_type": "stream",
     "text": [
      "type:<class 'numpy.ndarray'>\n",
      "shape: (2, 4), dimension: 2, dtype:int32\n",
      "Array's Data:\n",
      " [[9 7 8 7]\n",
      " [7 7 6 7]]\n",
      "type:<class 'numpy.ndarray'>\n",
      "shape: (10,), dimension: 1, dtype:int32\n",
      "Array's Data:\n",
      " [0 0 0 0 0 0 0 0 0 0]\n"
     ]
    },
    {
     "data": {
      "image/png": "[encoded data removed]",
      "text/plain": [
       "<Figure size 432x288 with 1 Axes>"
      ]
     },
     "metadata": {
      "needs_background": "light"
     },
     "output_type": "display_data"
    },
    {
     "name": "stdout",
     "output_type": "stream",
     "text": [
      "type:<class 'numpy.ndarray'>\n",
      "shape: (2, 4), dimension: 2, dtype:float64\n",
      "Array's Data:\n",
      " [[0.40817839 0.67936771 0.70190628 0.6550118 ]\n",
      " [0.0725164  0.50322607 0.53348823 0.38231615]]\n"
     ]
    },
    {
     "data": {
      "image/png": "[encoded data removed]",
      "text/plain": [
       "<Figure size 432x288 with 1 Axes>"
      ]
     },
     "metadata": {
      "needs_background": "light"
     },
     "output_type": "display_data"
    }
   ],
   "source": [
    "a = np.random.randint(5, 10, size=(2, 4))\n",
    "pprint(a)\n",
    "a = np.random.randint(1, size=10)\n",
    "pprint(a)\n",
    "\n",
    "data = np.random.randint(-100, 100, 10000)\n",
    "import matplotlib.pyplot as plt\n",
    "plt.hist(data, bins=10)\n",
    "plt.show()\n",
    "\n",
    "\n",
    "a = np.random.random((2, 4))\n",
    "pprint(a)\n",
    "\n",
    "data = np.random.random(100000)\n",
    "import matplotlib.pyplot as plt\n",
    "plt.hist(data, bins=10)\n",
    "plt.show()"
   ]
  },
  {
   "cell_type": "markdown",
   "metadata": {},
   "source": []
  },
  {
   "cell_type": "code",
   "execution_count": 52,
   "metadata": {},
   "outputs": [
    {
     "name": "stdout",
     "output_type": "stream",
     "text": [
      "['Bob' 'Joe' 'Will' 'Bob' 'Will' 'Joe' 'Joe']\n",
      "[[-0.20016422 -0.89011945  1.16870204  0.40739131]\n",
      " [-0.11209566  0.77316534 -0.23922324  1.24732452]\n",
      " [-1.08968081 -0.07430434 -0.98941991 -0.03026002]\n",
      " [ 0.15081769  0.36931438 -0.31399005  0.69926018]\n",
      " [-1.04784424 -0.22484088 -0.59257549 -2.73305925]\n",
      " [ 0.77459848 -0.04764005  0.05471486 -0.29938826]\n",
      " [-0.88654745 -0.46164392 -1.05553265 -0.45310569]]\n"
     ]
    }
   ],
   "source": [
    "names = np.array(['Bob','Joe','Will','Bob','Will','Joe','Joe'])\n",
    "data = np.random.randn(7,4)\n",
    "print(names)\n",
    "print(data)"
   ]
  },
  {
   "cell_type": "code",
   "execution_count": 55,
   "metadata": {},
   "outputs": [
    {
     "name": "stdout",
     "output_type": "stream",
     "text": [
      "[[-0.20016422 -0.89011945  1.16870204  0.40739131]\n",
      " [ 0.15081769  0.36931438 -0.31399005  0.69926018]]\n",
      "[[ 1.16870204  0.40739131]\n",
      " [-0.31399005  0.69926018]]\n",
      "[0.40739131 0.69926018]\n"
     ]
    }
   ],
   "source": [
    "print(data[names=='Bob'])\n",
    "print(data[names=='Bob', 2:])\n",
    "print(data[names=='Bob', 3])"
   ]
  },
  {
   "cell_type": "code",
   "execution_count": 56,
   "metadata": {},
   "outputs": [
    {
     "data": {
      "text/plain": [
       "array([False,  True,  True, False,  True,  True,  True])"
      ]
     },
     "execution_count": 56,
     "metadata": {},
     "output_type": "execute_result"
    }
   ],
   "source": [
    "names != 'Bob'"
   ]
  },
  {
   "cell_type": "code",
   "execution_count": 58,
   "metadata": {},
   "outputs": [
    {
     "data": {
      "text/plain": [
       "array([[-0.11209566,  0.77316534, -0.23922324,  1.24732452],\n",
       "       [-1.08968081, -0.07430434, -0.98941991, -0.03026002],\n",
       "       [-1.04784424, -0.22484088, -0.59257549, -2.73305925],\n",
       "       [ 0.77459848, -0.04764005,  0.05471486, -0.29938826],\n",
       "       [-0.88654745, -0.46164392, -1.05553265, -0.45310569]])"
      ]
     },
     "execution_count": 58,
     "metadata": {},
     "output_type": "execute_result"
    }
   ],
   "source": [
    "data[~(names == 'Bob')]"
   ]
  },
  {
   "cell_type": "code",
   "execution_count": 59,
   "metadata": {},
   "outputs": [
    {
     "data": {
      "text/plain": [
       "array([[-0.11209566,  0.77316534, -0.23922324,  1.24732452],\n",
       "       [-1.08968081, -0.07430434, -0.98941991, -0.03026002],\n",
       "       [-1.04784424, -0.22484088, -0.59257549, -2.73305925],\n",
       "       [ 0.77459848, -0.04764005,  0.05471486, -0.29938826],\n",
       "       [-0.88654745, -0.46164392, -1.05553265, -0.45310569]])"
      ]
     },
     "execution_count": 59,
     "metadata": {},
     "output_type": "execute_result"
    }
   ],
   "source": [
    "cond = names == 'Bob'\n",
    "data[~cond]"
   ]
  },
  {
   "cell_type": "code",
   "execution_count": 61,
   "metadata": {},
   "outputs": [
    {
     "data": {
      "text/plain": [
       "array([ True, False,  True,  True,  True, False, False])"
      ]
     },
     "execution_count": 61,
     "metadata": {},
     "output_type": "execute_result"
    }
   ],
   "source": [
    "mask = (names == 'Bob') | (names == 'Will')\n",
    "mask"
   ]
  },
  {
   "cell_type": "code",
   "execution_count": 62,
   "metadata": {},
   "outputs": [
    {
     "data": {
      "text/plain": [
       "array([[-0.20016422, -0.89011945,  1.16870204,  0.40739131],\n",
       "       [-1.08968081, -0.07430434, -0.98941991, -0.03026002],\n",
       "       [ 0.15081769,  0.36931438, -0.31399005,  0.69926018],\n",
       "       [-1.04784424, -0.22484088, -0.59257549, -2.73305925]])"
      ]
     },
     "execution_count": 62,
     "metadata": {},
     "output_type": "execute_result"
    }
   ],
   "source": [
    "data[mask]"
   ]
  },
  {
   "cell_type": "code",
   "execution_count": 63,
   "metadata": {},
   "outputs": [
    {
     "name": "stdout",
     "output_type": "stream",
     "text": [
      "type:<class 'numpy.ndarray'>\n",
      "shape: (3, 3), dimension: 2, dtype:float64\n",
      "Array's Data:\n",
      " [[0.99750607 0.94306633 0.10033606]\n",
      " [0.18967749 0.98452925 0.60634901]\n",
      " [0.27582679 0.73955568 0.38056286]]\n",
      "type:<class 'numpy.ndarray'>\n",
      "shape: (3, 3), dimension: 2, dtype:float64\n",
      "Array's Data:\n",
      " [[0.10033606 0.94306633 0.99750607]\n",
      " [0.18967749 0.60634901 0.98452925]\n",
      " [0.27582679 0.38056286 0.73955568]]\n",
      "type:<class 'numpy.ndarray'>\n",
      "shape: (3, 3), dimension: 2, dtype:float64\n",
      "Array's Data:\n",
      " [[0.18967749 0.73955568 0.10033606]\n",
      " [0.27582679 0.94306633 0.38056286]\n",
      " [0.99750607 0.98452925 0.60634901]]\n",
      "type:<class 'numpy.ndarray'>\n",
      "shape: (3, 3), dimension: 2, dtype:float64\n",
      "Array's Data:\n",
      " [[0.10033606 0.94306633 0.99750607]\n",
      " [0.18967749 0.60634901 0.98452925]\n",
      " [0.27582679 0.38056286 0.73955568]]\n"
     ]
    }
   ],
   "source": [
    "#ndarray 객체는 axis를 기준으로 요소 정렬하는 sort 함수를 제공합니다.\n",
    "unsorted_arr = np.random.random((3, 3))\n",
    "pprint(unsorted_arr)\n",
    "#데모를 위한 배열 복사\n",
    "unsorted_arr1 = unsorted_arr.copy()\n",
    "unsorted_arr2 = unsorted_arr.copy()\n",
    "unsorted_arr3 = unsorted_arr.copy()\n",
    "\n",
    "unsorted_arr1.sort()  #배열 정렬 , 행 기준 정렬\n",
    "pprint(unsorted_arr1)\n",
    "\n",
    "unsorted_arr2.sort(axis=0)   #배열 정렬, axis=0 , 열 기준 정렬 \n",
    "pprint(unsorted_arr2)\n",
    "\n",
    "unsorted_arr3.sort(axis=1) #배열 정렬, axis=1 , 행 기준 정렬\n",
    "pprint(unsorted_arr3)"
   ]
  },
  {
   "cell_type": "code",
   "execution_count": null,
   "metadata": {},
   "outputs": [],
   "source": [
    "#NumPy는 불린 인덱싱은 배열 각 요소의 선택 여부를 True, False 지정하는 방식입니다. \n",
    "a1 = np.arange(1, 25).reshape((4, 6)) #2차원 배열\n",
    "pprint(a1)\n",
    "# 짝수인 요소 확인\n",
    "# numpy broadcasting을 이용하여 짝수인 배열 요소 확인\n",
    "even_arr = a1%2==0\n",
    "pprint(even_arr)\n",
    "# a1[a1%2==0] 동일한 의미입니다. \n",
    "a1[even_arr]\n",
    "np.sum(a1)\n"
   ]
  },
  {
   "cell_type": "markdown",
   "metadata": {},
   "source": [
    "## Fancy index\n",
    "1. 배열에 인데스 배열을 전달하여 요소를 참조하는 방법\n",
    "```\n",
    "arr = np.arange(1, 25).reshape((4, 6))\n",
    "pprint(arr)\n",
    "[arr[0,0], arr[1, 1], arr[2, 2], arr[3, 3]]\n",
    "두 배열을 전달==> (0, 0), (1,1), (2,2), (3, 3)\n",
    "arr[[0, 1, 2, 3], [0, 1, 2, 3]]\n",
    "전체 행에 대해서, 1, 2번 컬럼 참조\n",
    "arr[:, [1, 2]]\n",
    "```\n"
   ]
  },
  {
   "cell_type": "code",
   "execution_count": 65,
   "metadata": {},
   "outputs": [
    {
     "data": {
      "text/plain": [
       "array([[0., 0., 0., 0.],\n",
       "       [1., 1., 1., 1.],\n",
       "       [2., 2., 2., 2.],\n",
       "       [3., 3., 3., 3.],\n",
       "       [4., 4., 4., 4.],\n",
       "       [5., 5., 5., 5.],\n",
       "       [6., 6., 6., 6.],\n",
       "       [7., 7., 7., 7.]])"
      ]
     },
     "execution_count": 65,
     "metadata": {},
     "output_type": "execute_result"
    }
   ],
   "source": [
    "arr = np.empty((8,4))\n",
    "for i in range(8):\n",
    "    arr[i] = i\n",
    "arr"
   ]
  },
  {
   "cell_type": "code",
   "execution_count": 66,
   "metadata": {},
   "outputs": [
    {
     "data": {
      "text/plain": [
       "array([[4., 4., 4., 4.],\n",
       "       [3., 3., 3., 3.],\n",
       "       [0., 0., 0., 0.],\n",
       "       [6., 6., 6., 6.]])"
      ]
     },
     "execution_count": 66,
     "metadata": {},
     "output_type": "execute_result"
    }
   ],
   "source": [
    "arr[[4,3,0,6]]"
   ]
  },
  {
   "cell_type": "code",
   "execution_count": 68,
   "metadata": {
    "scrolled": true
   },
   "outputs": [
    {
     "data": {
      "text/plain": [
       "array([[5., 5., 5., 5.],\n",
       "       [3., 3., 3., 3.],\n",
       "       [1., 1., 1., 1.]])"
      ]
     },
     "execution_count": 68,
     "metadata": {},
     "output_type": "execute_result"
    }
   ],
   "source": [
    "arr[[-3,-5,-7]]"
   ]
  },
  {
   "cell_type": "code",
   "execution_count": 69,
   "metadata": {},
   "outputs": [],
   "source": [
    "arr = np.arange(32).reshape((8,4))"
   ]
  },
  {
   "cell_type": "code",
   "execution_count": 70,
   "metadata": {},
   "outputs": [
    {
     "data": {
      "text/plain": [
       "array([[ 0,  1,  2,  3],\n",
       "       [ 4,  5,  6,  7],\n",
       "       [ 8,  9, 10, 11],\n",
       "       [12, 13, 14, 15],\n",
       "       [16, 17, 18, 19],\n",
       "       [20, 21, 22, 23],\n",
       "       [24, 25, 26, 27],\n",
       "       [28, 29, 30, 31]])"
      ]
     },
     "execution_count": 70,
     "metadata": {},
     "output_type": "execute_result"
    }
   ],
   "source": [
    "arr"
   ]
  },
  {
   "cell_type": "code",
   "execution_count": 73,
   "metadata": {},
   "outputs": [
    {
     "data": {
      "text/plain": [
       "array([[ 4,  5,  6,  7],\n",
       "       [20, 21, 22, 23],\n",
       "       [28, 29, 30, 31],\n",
       "       [ 8,  9, 10, 11]])"
      ]
     },
     "execution_count": 73,
     "metadata": {},
     "output_type": "execute_result"
    }
   ],
   "source": [
    "arr[[1,5,7,2]] "
   ]
  },
  {
   "cell_type": "code",
   "execution_count": 75,
   "metadata": {},
   "outputs": [
    {
     "data": {
      "text/plain": [
       "array([ 4, 23, 29, 10])"
      ]
     },
     "execution_count": 75,
     "metadata": {},
     "output_type": "execute_result"
    }
   ],
   "source": [
    "arr[[1,5,7,2], [0,3,1,2]]# (1,0) ,(5,3) , (7,1) , (2,2)"
   ]
  },
  {
   "cell_type": "code",
   "execution_count": 72,
   "metadata": {},
   "outputs": [
    {
     "data": {
      "text/plain": [
       "array([[ 4,  7,  5,  6],\n",
       "       [20, 23, 21, 22],\n",
       "       [28, 31, 29, 30],\n",
       "       [ 8, 11,  9, 10]])"
      ]
     },
     "execution_count": 72,
     "metadata": {},
     "output_type": "execute_result"
    }
   ],
   "source": [
    "arr[[1,5,7,2]][:,[0,3,1,2]]"
   ]
  },
  {
   "cell_type": "markdown",
   "metadata": {},
   "source": [
    "## 배열 전치\n",
    "1. 데이터를 복사하지 않고 데이터의 모양이 바꾼 뷰를 반환하는 기능"
   ]
  },
  {
   "cell_type": "code",
   "execution_count": 76,
   "metadata": {},
   "outputs": [
    {
     "data": {
      "text/plain": [
       "array([[ 0,  1,  2,  3,  4],\n",
       "       [ 5,  6,  7,  8,  9],\n",
       "       [10, 11, 12, 13, 14]])"
      ]
     },
     "execution_count": 76,
     "metadata": {},
     "output_type": "execute_result"
    }
   ],
   "source": [
    "arr = np.arange(15).reshape((3,5))\n",
    "arr"
   ]
  },
  {
   "cell_type": "code",
   "execution_count": 78,
   "metadata": {},
   "outputs": [
    {
     "data": {
      "text/plain": [
       "array([[ 0,  5, 10],\n",
       "       [ 1,  6, 11],\n",
       "       [ 2,  7, 12],\n",
       "       [ 3,  8, 13],\n",
       "       [ 4,  9, 14]])"
      ]
     },
     "execution_count": 78,
     "metadata": {},
     "output_type": "execute_result"
    }
   ],
   "source": [
    "arr.T #행과 열이 바뀜"
   ]
  },
  {
   "cell_type": "code",
   "execution_count": 80,
   "metadata": {},
   "outputs": [
    {
     "data": {
      "text/plain": [
       "array([[ 7.49362975, -2.59927415,  0.49324446],\n",
       "       [-2.59927415,  5.37720109,  2.36643458],\n",
       "       [ 0.49324446,  2.36643458,  4.0819987 ]])"
      ]
     },
     "execution_count": 80,
     "metadata": {},
     "output_type": "execute_result"
    }
   ],
   "source": [
    "arr = np.random.randn(6,3)\n",
    "arr\n",
    "np.dot(arr.T, arr)"
   ]
  },
  {
   "cell_type": "code",
   "execution_count": 96,
   "metadata": {},
   "outputs": [
    {
     "data": {
      "text/plain": [
       "array([[[ 0,  1,  2,  3],\n",
       "        [ 4,  5,  6,  7]],\n",
       "\n",
       "       [[ 8,  9, 10, 11],\n",
       "        [12, 13, 14, 15]]])"
      ]
     },
     "execution_count": 96,
     "metadata": {},
     "output_type": "execute_result"
    }
   ],
   "source": [
    "arr = np.arange(16).reshape((2,2,4))\n",
    "arr"
   ]
  },
  {
   "cell_type": "code",
   "execution_count": 128,
   "metadata": {},
   "outputs": [
    {
     "data": {
      "text/plain": [
       "array([[[ 0,  1,  2,  3],\n",
       "        [ 8,  9, 10, 11]],\n",
       "\n",
       "       [[ 4,  5,  6,  7],\n",
       "        [12, 13, 14, 15]]])"
      ]
     },
     "execution_count": 128,
     "metadata": {},
     "output_type": "execute_result"
    }
   ],
   "source": [
    "arr.transpose((1,0,2)) #첫 번재와 두번째의 축 순서가 바뀜"
   ]
  },
  {
   "cell_type": "markdown",
   "metadata": {},
   "source": [
    "1. numpy 배열 객체의 산술연산\n",
    "2. arange로 9부터 0까지 범위에서 1씩 감소하는 배열 생성\n",
    "3. 배열의 shape을 (3, 3)으로 지정"
   ]
  },
  {
   "cell_type": "code",
   "execution_count": 114,
   "metadata": {
    "scrolled": true
   },
   "outputs": [
    {
     "name": "stdout",
     "output_type": "stream",
     "text": [
      "[[[ 0  1  2]\n",
      "  [ 3  4  5]\n",
      "  [ 6  7  8]]\n",
      "\n",
      " [[ 9 10 11]\n",
      "  [12 13 14]\n",
      "  [15 16 17]]\n",
      "\n",
      " [[18 19 20]\n",
      "  [21 22 23]\n",
      "  [24 25 26]]]\n",
      "\n",
      "[[ 3 12 21]\n",
      " [30 39 48]\n",
      " [57 66 75]]\n"
     ]
    }
   ],
   "source": [
    "a1 = np.arange(27).reshape(3,3,3)\n",
    "print(a1)\n",
    "print()\n",
    "#print(a1.sum(axis=0)) # 면 ( 각 면에서 동일한 위치의 요소의 누적합)\n",
    "#print(a1.sum(axis=1)) #  열의 합계\n",
    "print(a1.sum(axis=2)) # 각 행의 합계"
   ]
  },
  {
   "cell_type": "code",
   "execution_count": 129,
   "metadata": {},
   "outputs": [
    {
     "data": {
      "text/plain": [
       "array([[[ 0,  1,  2,  3],\n",
       "        [ 4,  5,  6,  7]],\n",
       "\n",
       "       [[ 8,  9, 10, 11],\n",
       "        [12, 13, 14, 15]]])"
      ]
     },
     "execution_count": 129,
     "metadata": {},
     "output_type": "execute_result"
    }
   ],
   "source": [
    "arr"
   ]
  },
  {
   "cell_type": "code",
   "execution_count": 131,
   "metadata": {},
   "outputs": [
    {
     "data": {
      "text/plain": [
       "array([[[ 0,  4],\n",
       "        [ 1,  5],\n",
       "        [ 2,  6],\n",
       "        [ 3,  7]],\n",
       "\n",
       "       [[ 8, 12],\n",
       "        [ 9, 13],\n",
       "        [10, 14],\n",
       "        [11, 15]]])"
      ]
     },
     "execution_count": 131,
     "metadata": {},
     "output_type": "execute_result"
    }
   ],
   "source": [
    "arr.swapaxes(1,2) #행과 열만 바뀜"
   ]
  },
  {
   "cell_type": "markdown",
   "metadata": {},
   "source": [
    "## Universal Function (P.158)\n",
    "1. 배열의 각 원소를 빠르게 처리하는 함수\n",
    "2. 하나 이상의 스칼라 값을 받고 하나 이상의 스칼라 결과값을 반환하는 함수\n",
    "3. 1개의 인자를 받아서 전체 원소에 적용하는 단항 유니버셜 함수(sqrt, exp...)가 있다.\n",
    "4. 2개의 인자를 받아서 사용하는 이항 유니버셜 함수(add, maximum)도 있고."
   ]
  },
  {
   "cell_type": "code",
   "execution_count": 132,
   "metadata": {},
   "outputs": [
    {
     "data": {
      "text/plain": [
       "array([0, 1, 2, 3, 4, 5, 6, 7, 8, 9])"
      ]
     },
     "execution_count": 132,
     "metadata": {},
     "output_type": "execute_result"
    }
   ],
   "source": [
    "arr = np.arange(10)\n",
    "arr"
   ]
  },
  {
   "cell_type": "code",
   "execution_count": 134,
   "metadata": {},
   "outputs": [
    {
     "name": "stdout",
     "output_type": "stream",
     "text": [
      "[ 0.46100708 -1.27119028 -0.87781104 -1.58419693 -0.98599893 -1.36623095\n",
      " -1.64889627 -0.18581941]\n",
      "[ 2.59815022 -1.56237154 -0.17215777 -1.15024697 -2.78990282 -0.41668499\n",
      "  0.27696868 -1.50915628]\n",
      "[ 1.43142368  9.73126418 -1.48793871 -6.30128847  2.09318344 -1.87765101\n",
      " -0.71236957  1.28083464]\n",
      "[ 1.63446426  0.20627003 -0.18522848 -0.29665296  1.70284097 -0.42324016\n",
      " -0.66053681  0.56075595]\n",
      "False\n"
     ]
    }
   ],
   "source": [
    "a = np.random.randn(8)\n",
    "b = np.random.randn(8)\n",
    "\n",
    "\n",
    "#a - b\n",
    "print(np.subtract(a, b))\n",
    "\n",
    "#a+b\n",
    "print(np.add(a, b))\n",
    "\n",
    "#a/b\n",
    "print(np.divide(a, b))\n",
    "\n",
    "#a*b\n",
    "print(np.multiply(a, b))\n",
    "\n",
    "#a==b\n",
    "print(np.array_equal(a, b))"
   ]
  },
  {
   "cell_type": "code",
   "execution_count": 136,
   "metadata": {},
   "outputs": [
    {
     "name": "stdout",
     "output_type": "stream",
     "text": [
      "type:<class 'numpy.ndarray'>\n",
      "shape: (3, 3), dimension: 2, dtype:int32\n",
      "Array's Data:\n",
      " [[1 2 3]\n",
      " [4 5 6]\n",
      " [7 8 9]]\n",
      "\n",
      "45\n",
      "45\n",
      "\n",
      "[12 15 18]\n",
      "[12 15 18]\n",
      "\n",
      "[ 6 15 24]\n",
      "[ 6 15 24]\n"
     ]
    }
   ],
   "source": [
    "a = np.arange(1, 10).reshape(3, 3)\n",
    "pprint(a)\n",
    "print()\n",
    "# np.sum(): 합계\n",
    "print(a.sum())\n",
    "print(np.sum(a))\n",
    "\n",
    "print()\n",
    "print(a.sum(axis=0))\n",
    "print(np.sum(a, axis=0))\n",
    "\n",
    "print()\n",
    "print(a.sum(axis=1))\n",
    "print(np.sum(a, axis=1))\n",
    "# np.min(): 최소값\n",
    "#a.min(), np.min(a)\n",
    "#a.min(axis=0), np.min(a, axis=0)\n",
    "#a.min(axis=1), np.min(a, axis=1)\n",
    "# np.max(): 최대값\n",
    "#a.max(), np.max(a)\n",
    "#a.max(axis=0), np.max(a, axis=0)\n",
    "#a.max(axis=1), np.max(a, axis=1)"
   ]
  },
  {
   "cell_type": "code",
   "execution_count": 143,
   "metadata": {},
   "outputs": [
    {
     "name": "stdout",
     "output_type": "stream",
     "text": [
      "\n",
      "누적합계\n",
      "[ 1  3  6 10 15 21 28 36 45]\n",
      "[[ 1  2  3]\n",
      " [ 5  7  9]\n",
      " [12 15 18]]\n",
      "[[ 1  3  6]\n",
      " [ 4  9 15]\n",
      " [ 7 15 24]]\n",
      "\n",
      "평균\n",
      "5.0\n",
      "[4. 5. 6.]\n",
      "[2. 5. 8.]\n",
      "\n",
      "중앙값\n",
      "5.0\n",
      "[4. 5. 6.]\n",
      "[2. 5. 8.]\n",
      "\n",
      "상관계수\n",
      "[[1. 1. 1.]\n",
      " [1. 1. 1.]\n",
      " [1. 1. 1.]]\n",
      "\n",
      "표준편차\n",
      "2.581988897471611\n",
      "[2.44948974 2.44948974 2.44948974]\n",
      "[0.81649658 0.81649658 0.81649658]\n"
     ]
    }
   ],
   "source": [
    "\n",
    "print()\n",
    "print(\"누적합계\")\n",
    "# np.cumsum(): 누적 합계\n",
    "print(a.cumsum()) #np.cumsum(a)\n",
    "print(a.cumsum(axis=0)) #np.cumsum(a, axis=0)\n",
    "print(a.cumsum(axis=1)) # np.cumsum(a, axis=1)\n",
    "\n",
    "print()\n",
    "print(\"평균\")\n",
    "# np.mean(): 평균\n",
    "print(a.mean()) #np.mean(a)\n",
    "print(a.mean(axis=0)) #np.mean(a, axis=0)\n",
    "print(a.mean(axis=1)) #np.mean(a, axis=1)\n",
    "\n",
    "print()\n",
    "print(\"중앙값\")\n",
    "#np.median(): 중앙값\n",
    "print(np.median(a))\n",
    "print(np.mean(a, axis=0))\n",
    "print(np.mean(a, axis=1))\n",
    "\n",
    "print()\n",
    "print(\"상관계수\")\n",
    "# np.corrcoef(): 상관계수\n",
    "print(np.corrcoef(a))\n",
    "\n",
    "print()\n",
    "print(\"표준편차\")\n",
    "#np.std(): 표준편차\n",
    "print(a.std()) #np.std(a)\n",
    "print(a.std(axis=0)) #np.std(a, axis=0)\n",
    "print(a.std(axis=1)) #np.std(a, axis=1)"
   ]
  },
  {
   "cell_type": "markdown",
   "metadata": {},
   "source": [
    "## NUMPY 입출력\n"
   ]
  },
  {
   "cell_type": "code",
   "execution_count": 155,
   "metadata": {},
   "outputs": [
    {
     "name": "stdout",
     "output_type": "stream",
     "text": [
      "type:<class 'numpy.ndarray'>\n",
      "shape: (2, 3), dimension: 2, dtype:int32\n",
      "Array's Data:\n",
      " [[0 9 5]\n",
      " [7 7 0]]\n",
      "type:<class 'numpy.ndarray'>\n",
      "shape: (2, 3), dimension: 2, dtype:int32\n",
      "Array's Data:\n",
      " [[6 5 7]\n",
      " [7 7 3]]\n"
     ]
    }
   ],
   "source": [
    "a = np.random.randint(0, 10, (2, 3))\n",
    "b = np.random.randint(0, 10, (2, 3))\n",
    "pprint(a)\n",
    "pprint(b)\n"
   ]
  },
  {
   "cell_type": "code",
   "execution_count": 156,
   "metadata": {},
   "outputs": [],
   "source": [
    "# a배열 파일에 저장\n",
    "np.save(\"./my_array1\", a) #.npy로 저장됨\n",
    "# a, b 두 개 배열을 파일에 저장\n",
    "np.savez(\"my_array2\", a, b) #.npz로 저장됨\n"
   ]
  },
  {
   "cell_type": "code",
   "execution_count": 157,
   "metadata": {},
   "outputs": [
    {
     "name": "stdout",
     "output_type": "stream",
     "text": [
      " C 드라이브의 볼륨에는 이름이 없습니다.\n",
      " 볼륨 일련 번호: 78D5-6279\n",
      "\n",
      " C:\\Users\\student\\KMH\\Image-analysis-and-develope\\python\\20191213 디렉터리\n",
      "\n",
      "[.]\n",
      "[..]\n",
      "[.ipynb_checkpoints]\n",
      "1.0_복습.md\n",
      "1.0_복습코드.py\n",
      "1.1_넘파이.ipynb\n",
      "1.1_파일다루기.py\n",
      "1.2_python_oracledb_연동.md\n",
      "1.2_python_oracle_연동.ipynb\n",
      "1.3_python_oracleDB_연동_실습.py\n",
      "1.4_csv파일불러오기.ipynb\n",
      "csvfile.csv\n",
      "korea_floating_population_data.csv\n",
      "my_array1.npy\n",
      "my_array2.npz\n",
      "seoung_nam_floating_population_data.csv\n",
      "seoung_nam_floating_population_data2.csv\n",
      "              14개 파일           6,275,561 바이트\n",
      "               3개 디렉터리  198,282,964,992 바이트 남음\n"
     ]
    }
   ],
   "source": [
    "# !를 쓰면 운영체제 명령어 사용가능\n",
    "!dir/w\n",
    "del a\n",
    "del b"
   ]
  },
  {
   "cell_type": "code",
   "execution_count": 163,
   "metadata": {},
   "outputs": [
    {
     "name": "stdout",
     "output_type": "stream",
     "text": [
      "type:<class 'numpy.ndarray'>\n",
      "shape: (2, 3), dimension: 2, dtype:int32\n",
      "Array's Data:\n",
      " [[0 9 5]\n",
      " [7 7 0]]\n"
     ]
    }
   ],
   "source": [
    "c = np.load(\"./my_array1.npy\")\n",
    "pprint(c)"
   ]
  },
  {
   "cell_type": "code",
   "execution_count": 165,
   "metadata": {},
   "outputs": [
    {
     "name": "stdout",
     "output_type": "stream",
     "text": [
      "[[0 9 5]\n",
      " [7 7 0]]\n",
      "[[6 5 7]\n",
      " [7 7 3]]\n"
     ]
    }
   ],
   "source": [
    "d = np.load(\"./my_array2.npz\")\n",
    "d.files\n",
    "print(d['arr_0'])\n",
    "print(d['arr_1'])\n"
   ]
  },
  {
   "cell_type": "code",
   "execution_count": 174,
   "metadata": {},
   "outputs": [
    {
     "name": "stdout",
     "output_type": "stream",
     "text": [
      "type:<class 'numpy.ndarray'>\n",
      "shape: (2, 3), dimension: 2, dtype:float64\n",
      "Array's Data:\n",
      " [[1. 2. 3.]\n",
      " [4. 5. 6.]]\n"
     ]
    }
   ],
   "source": [
    "#기본 데이터 타입은 float을 설정됩니다. \n",
    "#파일 데이터 배열로 로딩\n",
    "data1 = np.loadtxt(\"C:/Users/student/KMH/Image-analysis-and-develope/python/20191216/data/sample.csv\")\n",
    "pprint(data1)"
   ]
  },
  {
   "cell_type": "code",
   "execution_count": 175,
   "metadata": {
    "scrolled": true
   },
   "outputs": [
    {
     "name": "stdout",
     "output_type": "stream",
     "text": [
      "type:<class 'numpy.ndarray'>\n",
      "shape: (2, 3), dimension: 2, dtype:int32\n",
      "Array's Data:\n",
      " [[1 2 3]\n",
      " [4 5 6]]\n"
     ]
    }
   ],
   "source": [
    "#dype 속성으로 데이터 타입 변경 가능합니다. \n",
    "#파일 데이터 배열로 로딩 및 데이터 타입 지정\n",
    "data2 = np.loadtxt(\"C:/Users/student/KMH/Image-analysis-and-develope/python/20191216/data/sample.csv\", dtype=np.int)\n",
    "pprint(data2)"
   ]
  },
  {
   "cell_type": "code",
   "execution_count": 177,
   "metadata": {},
   "outputs": [
    {
     "data": {
      "text/plain": [
       "'\\n\"order\",\"name\",\"height\"\\n1, \\'George Washington\\', 178.5\\n2, \\'John Adams\\', 169\\n3, \\'Tomas Jefferson\\', 175.5\\n'"
      ]
     },
     "execution_count": 177,
     "metadata": {},
     "output_type": "execute_result"
    }
   ],
   "source": [
    "#파일 샘플\n",
    "\"\"\"\n",
    "\"order\",\"name\",\"height\"\n",
    "1, 'George Washington', 178.5\n",
    "2, 'John Adams', 169\n",
    "3, 'Tomas Jefferson', 175.5\n",
    "\"\"\""
   ]
  },
  {
   "cell_type": "code",
   "execution_count": 183,
   "metadata": {},
   "outputs": [
    {
     "name": "stdout",
     "output_type": "stream",
     "text": [
      "type:<class 'numpy.ndarray'>\n",
      "shape: (3, 4), dimension: 2, dtype:float64\n",
      "Array's Data:\n",
      " [[0.40229802 0.88433341 0.62613595 0.83780816]\n",
      " [0.88494459 0.74699599 0.37050708 0.55865213]\n",
      " [0.47202748 0.6974575  0.10205491 0.61918564]]\n"
     ]
    }
   ],
   "source": [
    "# dtype에 dict 형식으로 데이터 ㅌ입 지정\n",
    "data = np.loadtxt(\"C:/Users/student/KMH/Image-analysis-and-develope/python/20191216/data/sample2.csv\", delimiter=\",\", skiprows=1, dtype={\n",
    "  'names': (\"order\",\"name\",\"height\"),\n",
    "  'formats':('i', 'S20', 'f') \n",
    "})## i-정수형, S20 - 문자20길이, f-실수\n",
    "# 배열 데이터 출력\n",
    "data[:3]\n",
    "# 데모 데이터 생성\n",
    "data = np.random.random((3, 4))\n",
    "pprint(data)"
   ]
  },
  {
   "cell_type": "code",
   "execution_count": 184,
   "metadata": {},
   "outputs": [
    {
     "data": {
      "text/plain": [
       "array([[0.40229802, 0.88433341, 0.62613595, 0.83780816],\n",
       "       [0.88494459, 0.74699599, 0.37050708, 0.55865213],\n",
       "       [0.47202748, 0.6974575 , 0.10205491, 0.61918564]])"
      ]
     },
     "execution_count": 184,
     "metadata": {},
     "output_type": "execute_result"
    }
   ],
   "source": [
    "# 배열 객체 텍스트 파일로 저장\n",
    "np.savetxt(\"C:/Users/student/KMH/Image-analysis-and-develope/python/20191216/data/saved.csv\", data, delimiter=\",\")\n",
    "# 데이터 파일 로딩\n",
    "np.loadtxt('C:/Users/student/KMH/Image-analysis-and-develope/python/20191216/data/saved.csv', delimiter=',')"
   ]
  },
  {
   "cell_type": "markdown",
   "metadata": {},
   "source": [
    "## 배열 형태 변경\n",
    "### 1. ravel 함수 \n",
    " - 배열의 shape를 1차원 배열로 만드는 메서드\n",
    " - numpy.ndarry 배열 객체의 View를 반환\n",
    " - ravel 메서드가 반환하는 배열은 원본 배열이 View 이다.\n",
    " \n",
    "### 2. reshape 함수\n",
    " - 데이터 변경없이 지정된 shape로 변환하는 메서드\n",
    " - 실제 데이터를 변경하는 것이아님\n",
    " - 배열 객체의 shape 정보만을 수정함"
   ]
  },
  {
   "cell_type": "code",
   "execution_count": 186,
   "metadata": {},
   "outputs": [
    {
     "name": "stdout",
     "output_type": "stream",
     "text": [
      "type:<class 'numpy.ndarray'>\n",
      "shape: (2, 3), dimension: 2, dtype:int32\n",
      "Array's Data:\n",
      " [[6 1 8]\n",
      " [6 5 8]]\n",
      "type:<class 'numpy.ndarray'>\n",
      "shape: (6,), dimension: 1, dtype:int32\n",
      "Array's Data:\n",
      " [6 1 8 6 5 8]\n",
      "type:<class 'numpy.ndarray'>\n",
      "shape: (6,), dimension: 1, dtype:int32\n",
      "Array's Data:\n",
      " [99  1  8  6  5  8]\n",
      "type:<class 'numpy.ndarray'>\n",
      "shape: (2, 3), dimension: 2, dtype:int32\n",
      "Array's Data:\n",
      " [[99  1  8]\n",
      " [ 6  5  8]]\n",
      "type:<class 'numpy.ndarray'>\n",
      "shape: (2, 3), dimension: 2, dtype:int32\n",
      "Array's Data:\n",
      " [[4 6 9]\n",
      " [9 6 3]]\n",
      "type:<class 'numpy.ndarray'>\n",
      "shape: (3, 2, 1), dimension: 3, dtype:int32\n",
      "Array's Data:\n",
      " [[[4]\n",
      "  [6]]\n",
      "\n",
      " [[9]\n",
      "  [9]]\n",
      "\n",
      " [[6]\n",
      "  [3]]]\n"
     ]
    }
   ],
   "source": [
    "a = np.random.randint(1, 10, (2,3))\n",
    "pprint(a)\n",
    "a.ravel()\n",
    "b = a.ravel()\n",
    "pprint(b)\n",
    "b[0] = 99\n",
    "pprint(b)\n",
    "pprint(a)\n",
    "\n",
    "a = np.random.randint(1,10, (2,3))\n",
    "pprint(a)\n",
    "result = a.reshape(3,2,1)\n",
    "pprint(result)"
   ]
  },
  {
   "cell_type": "markdown",
   "metadata": {},
   "source": [
    "### 3. resize 함수\n",
    " - 배열의 shape 크기를 변경\n",
    " - np.resize(a, new_shape)\n",
    " - np.ndarry.resize(new_shape, refcheck=True)\n",
    " - np.resize와 np.reshape 함수는 배열의 shape를 변경한다는 부분에서 유사\n",
    " - reshape 전후 배열의 요소 수는 같다.\n",
    " - resize는 shape를 변경하는 과정에서 배열 요소 수를 줄이거나 늘린다"
   ]
  },
  {
   "cell_type": "code",
   "execution_count": 188,
   "metadata": {},
   "outputs": [
    {
     "name": "stdout",
     "output_type": "stream",
     "text": [
      "type:<class 'numpy.ndarray'>\n",
      "shape: (2, 6), dimension: 2, dtype:int32\n",
      "Array's Data:\n",
      " [[2 1 7 9 5 5]\n",
      " [9 2 6 8 3 6]]\n",
      "type:<class 'numpy.ndarray'>\n",
      "shape: (6, 2), dimension: 2, dtype:int32\n",
      "Array's Data:\n",
      " [[2 1]\n",
      " [7 9]\n",
      " [5 5]\n",
      " [9 2]\n",
      " [6 8]\n",
      " [3 6]]\n"
     ]
    }
   ],
   "source": [
    "a = np.random.randint(1,10,(2,6))\n",
    "pprint(a)\n",
    "a.resize((6,2))\n",
    "pprint(a)"
   ]
  },
  {
   "cell_type": "code",
   "execution_count": 190,
   "metadata": {},
   "outputs": [
    {
     "name": "stdout",
     "output_type": "stream",
     "text": [
      "type:<class 'numpy.ndarray'>\n",
      "shape: (2, 6), dimension: 2, dtype:int32\n",
      "Array's Data:\n",
      " [[9 8 8 2 3 7]\n",
      " [5 1 6 7 5 1]]\n",
      "type:<class 'numpy.ndarray'>\n",
      "shape: (2, 10), dimension: 2, dtype:int32\n",
      "Array's Data:\n",
      " [[9 8 8 2 3 7 5 1 6 7]\n",
      " [5 1 0 0 0 0 0 0 0 0]]\n"
     ]
    }
   ],
   "source": [
    "a = np.random.randint(1,10,(2,6))\n",
    "pprint(a)\n",
    "a.resize((2,10)) #늘어난 요소는 0으로 채워짐\n",
    "pprint(a)"
   ]
  },
  {
   "cell_type": "code",
   "execution_count": 191,
   "metadata": {},
   "outputs": [
    {
     "name": "stdout",
     "output_type": "stream",
     "text": [
      "type:<class 'numpy.ndarray'>\n",
      "shape: (2, 6), dimension: 2, dtype:int32\n",
      "Array's Data:\n",
      " [[5 9 5 2 5 1]\n",
      " [2 4 5 2 7 9]]\n",
      "type:<class 'numpy.ndarray'>\n",
      "shape: (3, 3), dimension: 2, dtype:int32\n",
      "Array's Data:\n",
      " [[5 9 5]\n",
      " [2 5 1]\n",
      " [2 4 5]]\n"
     ]
    }
   ],
   "source": [
    "a = np.random.randint(1,10,(2,6))\n",
    "pprint(a)\n",
    "a.resize((3,3))\n",
    "pprint(a)"
   ]
  },
  {
   "cell_type": "markdown",
   "metadata": {},
   "source": [
    "### 4. append() 함수\n",
    " - 배열의 끝에 값을 추가\n",
    " - np.append(arr, values, axis=None)\n",
    " - arr의 끝에 values(배열)을 추가\n",
    " - axis로 배열이 추가되는 방향을 지정할 수 있다."
   ]
  },
  {
   "cell_type": "code",
   "execution_count": 193,
   "metadata": {},
   "outputs": [
    {
     "name": "stdout",
     "output_type": "stream",
     "text": [
      "type:<class 'numpy.ndarray'>\n",
      "shape: (3, 3), dimension: 2, dtype:int32\n",
      "Array's Data:\n",
      " [[1 2 3]\n",
      " [4 5 6]\n",
      " [7 8 9]]\n",
      "type:<class 'numpy.ndarray'>\n",
      "shape: (3, 3), dimension: 2, dtype:int32\n",
      "Array's Data:\n",
      " [[10 11 12]\n",
      " [13 14 15]\n",
      " [16 17 18]]\n",
      "type:<class 'numpy.ndarray'>\n",
      "shape: (18,), dimension: 1, dtype:int32\n",
      "Array's Data:\n",
      " [ 1  2  3  4  5  6  7  8  9 10 11 12 13 14 15 16 17 18]\n",
      "type:<class 'numpy.ndarray'>\n",
      "shape: (3, 3), dimension: 2, dtype:int32\n",
      "Array's Data:\n",
      " [[1 2 3]\n",
      " [4 5 6]\n",
      " [7 8 9]]\n"
     ]
    }
   ],
   "source": [
    "a = np.arange(1,10).reshape(3,3)\n",
    "pprint(a)\n",
    "b = np.arange(10,19).reshape(3,3)\n",
    "pprint(b)\n",
    "result = np.append(a,b)\n",
    "pprint(result)\n",
    "pprint(a)"
   ]
  },
  {
   "cell_type": "code",
   "execution_count": 194,
   "metadata": {},
   "outputs": [
    {
     "name": "stdout",
     "output_type": "stream",
     "text": [
      "type:<class 'numpy.ndarray'>\n",
      "shape: (6, 3), dimension: 2, dtype:int32\n",
      "Array's Data:\n",
      " [[ 1  2  3]\n",
      " [ 4  5  6]\n",
      " [ 7  8  9]\n",
      " [10 11 12]\n",
      " [13 14 15]\n",
      " [16 17 18]]\n"
     ]
    }
   ],
   "source": [
    "#axis 0일 때 행으로 추가, axis 0으로 설정 시 , shape[0]를 제외한 나머지 shape는 같아야한다.\n",
    "result = np.append(a,b, axis =0)\n",
    "pprint(result)"
   ]
  },
  {
   "cell_type": "code",
   "execution_count": 195,
   "metadata": {},
   "outputs": [
    {
     "name": "stdout",
     "output_type": "stream",
     "text": [
      "type:<class 'numpy.ndarray'>\n",
      "shape: (2, 5), dimension: 2, dtype:int32\n",
      "Array's Data:\n",
      " [[10 11 12 13 14]\n",
      " [15 16 17 18 19]]\n"
     ]
    }
   ],
   "source": [
    "#shape[0]을 제외한 나머지  shape이 다를 경우 append는 오류를 발생\n",
    "different_shape_arr = np.arange(10,20).reshape(2,5)\n",
    "pprint(different_shape_arr)"
   ]
  },
  {
   "cell_type": "markdown",
   "metadata": {},
   "source": [
    "### 5. insert()함수\n",
    "1. axis를 지정하지 않으며 1차원 배열로 변환\n",
    "2. np.insert(arr, obj, values, axis=None)\n",
    "3. 추가할 방향을 axis로 지정"
   ]
  },
  {
   "cell_type": "code",
   "execution_count": 197,
   "metadata": {},
   "outputs": [
    {
     "name": "stdout",
     "output_type": "stream",
     "text": [
      "type:<class 'numpy.ndarray'>\n",
      "shape: (3, 3), dimension: 2, dtype:int32\n",
      "Array's Data:\n",
      " [[1 2 3]\n",
      " [4 5 6]\n",
      " [7 8 9]]\n",
      "type:<class 'numpy.ndarray'>\n",
      "shape: (3, 3), dimension: 2, dtype:int32\n",
      "Array's Data:\n",
      " [[1 2 3]\n",
      " [4 5 6]\n",
      " [7 8 9]]\n"
     ]
    }
   ],
   "source": [
    "a = np.arange(1,10).reshape(3,3)\n",
    "pprint(a)\n",
    "np.insert(a,1,999)\n",
    "pprint(a)"
   ]
  },
  {
   "cell_type": "code",
   "execution_count": 198,
   "metadata": {},
   "outputs": [
    {
     "name": "stdout",
     "output_type": "stream",
     "text": [
      "type:<class 'numpy.ndarray'>\n",
      "shape: (3, 3), dimension: 2, dtype:int32\n",
      "Array's Data:\n",
      " [[1 2 3]\n",
      " [4 5 6]\n",
      " [7 8 9]]\n"
     ]
    }
   ],
   "source": [
    "np.insert(a,1,999, axis=0)\n",
    "pprint(a)"
   ]
  },
  {
   "cell_type": "markdown",
   "metadata": {},
   "source": [
    "### 6. delete() 함수\n",
    "1. 원본배열은 변경하지 않고 새로운배열을 반환\n",
    "2. np.delete(arr, obj, axis=None)\n",
    "3. axis를 지정하지 않으면 1차원 배열로 변환\n",
    "4. 삭제할 방향을 axis로 지정"
   ]
  },
  {
   "cell_type": "code",
   "execution_count": 203,
   "metadata": {},
   "outputs": [
    {
     "name": "stdout",
     "output_type": "stream",
     "text": [
      "type:<class 'numpy.ndarray'>\n",
      "shape: (3, 3), dimension: 2, dtype:int32\n",
      "Array's Data:\n",
      " [[1 2 3]\n",
      " [4 5 6]\n",
      " [7 8 9]]\n"
     ]
    }
   ],
   "source": [
    "a = np.arange(1,10).reshape(3,3)\n",
    "pprint(a)"
   ]
  },
  {
   "cell_type": "code",
   "execution_count": 213,
   "metadata": {},
   "outputs": [
    {
     "data": {
      "text/plain": [
       "array([1, 3, 4, 5, 6, 7, 8, 9])"
      ]
     },
     "execution_count": 213,
     "metadata": {},
     "output_type": "execute_result"
    }
   ],
   "source": [
    "np.delete(a,1)"
   ]
  },
  {
   "cell_type": "code",
   "execution_count": 206,
   "metadata": {},
   "outputs": [
    {
     "data": {
      "text/plain": [
       "array([[1, 2, 3],\n",
       "       [7, 8, 9]])"
      ]
     },
     "execution_count": 206,
     "metadata": {},
     "output_type": "execute_result"
    }
   ],
   "source": [
    "np.delete(a,1,axis=0)"
   ]
  },
  {
   "cell_type": "code",
   "execution_count": 207,
   "metadata": {},
   "outputs": [
    {
     "data": {
      "text/plain": [
       "array([[1, 3],\n",
       "       [4, 6],\n",
       "       [7, 9]])"
      ]
     },
     "execution_count": 207,
     "metadata": {},
     "output_type": "execute_result"
    }
   ],
   "source": [
    "np.delete(a,1,axis=1)"
   ]
  },
  {
   "cell_type": "markdown",
   "metadata": {},
   "source": [
    "### 7. concatenate 함수\n",
    "1. 두 배열을 결합시켜줌\n",
    "2. np.concatenate(a1,a2...), axis =0)\n",
    "\n",
    "### 8. vstack 함수\n",
    "1. 수직 방향 배열 결합\n",
    "2. np.vstack(tup) , tup는 튜플이며 튜플로 설정된 여러 배열을 수직 방향으로 연결(axis = 0 방향)\n",
    "3. np.concatenate(tup,axis=0)과 동일\n",
    "\n",
    "### 9. hstack 함수\n",
    "1. 수평 방향 배열 결합\n",
    "2. np.concatenate(tup,axis=1)과 동일"
   ]
  },
  {
   "cell_type": "markdown",
   "metadata": {},
   "source": [
    "### 10. hsplit 함수\n",
    "1. 수평 방향으로 배열 분리\n",
    "2. np.hsplit(a,2) # 수평으로 두 그룹으로 분할하는 함수\n",
    "3. 수직은 vsplit"
   ]
  },
  {
   "cell_type": "code",
   "execution_count": 220,
   "metadata": {},
   "outputs": [
    {
     "name": "stdout",
     "output_type": "stream",
     "text": [
      "[[ 1  2  3  4  5  6]\n",
      " [ 7  8  9 10 11 12]\n",
      " [13 14 15 16 17 18]\n",
      " [19 20 21 22 23 24]]\n",
      "[array([[ 1,  2],\n",
      "       [ 7,  8],\n",
      "       [13, 14],\n",
      "       [19, 20]]), array([[ 3,  4],\n",
      "       [ 9, 10],\n",
      "       [15, 16],\n",
      "       [21, 22]]), array([[ 5,  6],\n",
      "       [11, 12],\n",
      "       [17, 18],\n",
      "       [23, 24]])]\n",
      "[array([[ 1],\n",
      "       [ 7],\n",
      "       [13],\n",
      "       [19]]), array([[ 2,  3],\n",
      "       [ 8,  9],\n",
      "       [14, 15],\n",
      "       [20, 21]]), array([[ 4,  5],\n",
      "       [10, 11],\n",
      "       [16, 17],\n",
      "       [22, 23]]), array([[ 6],\n",
      "       [12],\n",
      "       [18],\n",
      "       [24]])]\n"
     ]
    }
   ],
   "source": [
    "a = np.arange(1,25).reshape((4,6))\n",
    "print(a)\n",
    "result = np.hsplit(a,3)\n",
    "print(result)\n",
    "print(np.hsplit(a,[1,3,5])) # :1 , 1:3, 3:5 , 5:"
   ]
  },
  {
   "cell_type": "code",
   "execution_count": null,
   "metadata": {},
   "outputs": [],
   "source": []
  }
 ],
 "metadata": {
  "kernelspec": {
   "display_name": "Python 3",
   "language": "python",
   "name": "python3"
  },
  "language_info": {
   "codemirror_mode": {
    "name": "ipython",
    "version": 3
   },
   "file_extension": ".py",
   "mimetype": "text/x-python",
   "name": "python",
   "nbconvert_exporter": "python",
   "pygments_lexer": "ipython3",
   "version": "3.7.3"
  }
 },
 "nbformat": 4,
 "nbformat_minor": 2
}
