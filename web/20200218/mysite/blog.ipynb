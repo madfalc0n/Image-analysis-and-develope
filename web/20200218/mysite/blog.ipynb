{
 "cells": [
  {
   "cell_type": "markdown",
   "metadata": {},
   "source": [
    "#  POST 레코드 생성\n",
    "1. 포스트 클래스 가져와야 함"
   ]
  },
  {
   "cell_type": "code",
   "execution_count": 7,
   "metadata": {
    "ExecuteTime": {
     "end_time": "2020-02-18T01:22:00.341955Z",
     "start_time": "2020-02-18T01:22:00.337880Z"
    }
   },
   "outputs": [],
   "source": [
    "from blog.models import Post # Post 클래스 호출 \n",
    "from django.contrib.auth.models import User #시스템 테이블 불러오는 모듈"
   ]
  },
  {
   "cell_type": "code",
   "execution_count": 9,
   "metadata": {
    "ExecuteTime": {
     "end_time": "2020-02-18T01:26:30.049419Z",
     "start_time": "2020-02-18T01:26:30.035732Z"
    },
    "scrolled": true
   },
   "outputs": [
    {
     "data": {
      "text/plain": [
       "<QuerySet [<User: home>, <User: 이순신>, <User: 김맹만>]>"
      ]
     },
     "execution_count": 9,
     "metadata": {},
     "output_type": "execute_result"
    }
   ],
   "source": [
    "User.objects.all()"
   ]
  },
  {
   "cell_type": "code",
   "execution_count": 12,
   "metadata": {
    "ExecuteTime": {
     "end_time": "2020-02-18T01:27:34.750643Z",
     "start_time": "2020-02-18T01:27:34.745657Z"
    }
   },
   "outputs": [],
   "source": [
    "u = User.objects.all().get(username='김맹만')"
   ]
  },
  {
   "cell_type": "code",
   "execution_count": 13,
   "metadata": {
    "ExecuteTime": {
     "end_time": "2020-02-18T01:28:02.285114Z",
     "start_time": "2020-02-18T01:28:02.273157Z"
    }
   },
   "outputs": [
    {
     "name": "stdout",
     "output_type": "stream",
     "text": [
      "오늘 점심 메뉴\n"
     ]
    }
   ],
   "source": [
    "p = Post(title='오늘 점심 메뉴', text='뭐지?', author=u) \n",
    "print(p)\n",
    "p.save()"
   ]
  },
  {
   "cell_type": "code",
   "execution_count": 17,
   "metadata": {
    "ExecuteTime": {
     "end_time": "2020-02-18T01:31:47.163595Z",
     "start_time": "2020-02-18T01:31:47.159605Z"
    },
    "scrolled": true
   },
   "outputs": [
    {
     "name": "stdout",
     "output_type": "stream",
     "text": [
      "오늘 점심 메뉴\n",
      "뭐지?\n",
      "김맹만\n"
     ]
    }
   ],
   "source": [
    "print(p.title)\n",
    "print(p.text)\n",
    "print(p.author)\n"
   ]
  },
  {
   "cell_type": "code",
   "execution_count": 18,
   "metadata": {
    "ExecuteTime": {
     "end_time": "2020-02-18T01:35:07.762963Z",
     "start_time": "2020-02-18T01:35:07.751993Z"
    },
    "scrolled": false
   },
   "outputs": [
    {
     "data": {
      "text/plain": [
       "<Post: 오늘 저녁 메뉴>"
      ]
     },
     "execution_count": 18,
     "metadata": {},
     "output_type": "execute_result"
    }
   ],
   "source": [
    "Post.objects.create(title='오늘 저녁 메뉴', text='뭐지??' , author=u)"
   ]
  },
  {
   "cell_type": "code",
   "execution_count": 35,
   "metadata": {
    "ExecuteTime": {
     "end_time": "2020-02-18T04:49:56.891422Z",
     "start_time": "2020-02-18T04:49:56.837565Z"
    }
   },
   "outputs": [
    {
     "name": "stdout",
     "output_type": "stream",
     "text": [
      "home\n"
     ]
    }
   ],
   "source": [
    "from django.contrib.auth import authenticate\n",
    "\n",
    "user = authenticate(username = 'home', password = 'home1234')\n",
    "print(user)"
   ]
  }
 ],
 "metadata": {
  "kernelspec": {
   "display_name": "Django Shell-Plus",
   "language": "python",
   "name": "django_extensions"
  },
  "language_info": {
   "codemirror_mode": {
    "name": "ipython",
    "version": 3
   },
   "file_extension": ".py",
   "mimetype": "text/x-python",
   "name": "python",
   "nbconvert_exporter": "python",
   "pygments_lexer": "ipython3",
   "version": "3.7.4"
  }
 },
 "nbformat": 4,
 "nbformat_minor": 2
}
