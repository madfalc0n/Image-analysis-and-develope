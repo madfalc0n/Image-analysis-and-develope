{
 "cells": [
  {
   "cell_type": "code",
   "execution_count": 2,
   "metadata": {},
   "outputs": [
    {
     "name": "stdout",
     "output_type": "stream",
     "text": [
      "[('수원시장안구', 287474, 285803, 290798, 293692, 290999, 291757, 300908, 301196, 299016, 296479, 293828)\n",
      " ('수원시권선구', 310553, 308177, 304097, 306783, 321176, 332633, 331773, 339835, 351053, 358393, 365653)\n",
      " ('수원시팔달구', 216945, 213235, 219833, 216503, 209772, 206794, 204805, 203479, 199180, 198515, 193311)\n",
      " ('수원시영통구', 252730, 260210, 258421, 260557, 266542, 289074, 310671, 329718, 335375, 340654, 349836)\n",
      " ('성남시수정구', 256744, 248452, 242161, 241070, 236123, 233997, 228167, 223539, 219531, 232841, 236932)]\n"
     ]
    }
   ],
   "source": [
    "import numpy as np\n",
    "\n",
    "arr = np.loadtxt('C:/Users/student/KMH/Image-analysis-and-develope/python/20191216/datas/datas/경기도인구데이터.csv', delimiter = ',', skiprows = 1, dtype = {'names': (\"city\", \"2007\", \"2008\", \"2009\", \"2010\", \"2011\", \"2012\", \"2013\", \"2014\", \"2015\", \"2016\", \"2017\"), 'formats':('object', 'i', 'i', 'i', 'i', 'i', 'i', 'i', 'i', 'i', 'i', 'i')})\n",
    "\n",
    "#상위 5개 데이터 확인\n",
    "print(arr[:5])\n"
   ]
  },
  {
   "cell_type": "code",
   "execution_count": 3,
   "metadata": {},
   "outputs": [
    {
     "name": "stdout",
     "output_type": "stream",
     "text": [
      "44\n",
      "(44,)\n"
     ]
    }
   ],
   "source": [
    "#배열 크기 확인\n",
    "print(len(arr))\n",
    "\n",
    "#배열 크기 확인\n",
    "print(arr.shape)"
   ]
  },
  {
   "cell_type": "code",
   "execution_count": 4,
   "metadata": {},
   "outputs": [
    {
     "name": "stdout",
     "output_type": "stream",
     "text": [
      "중복 지역 없음\n"
     ]
    }
   ],
   "source": [
    "#중복 지역 존재 여부 확인\n",
    "if len(arr['city']) == len(np.unique(arr['city'])):\n",
    "    print('중복 지역 없음')\n",
    "else:\n",
    "    print('중복 지역 있음')"
   ]
  },
  {
   "cell_type": "code",
   "execution_count": 5,
   "metadata": {},
   "outputs": [
    {
     "name": "stdout",
     "output_type": "stream",
     "text": [
      "2017년 수원시 총 인구는 1202628명\n"
     ]
    }
   ],
   "source": [
    "#2017년 수원시 인구 합\n",
    "import re\n",
    "\n",
    "char = r'수원시.'\n",
    "\n",
    "selected_indexes = []\n",
    "\n",
    "for k in range(len(arr)):\n",
    "    if re.match(char, arr[k]['city']) != None:\n",
    "        selected_indexes.append(k)\n",
    "       \n",
    "selected_arr = arr[selected_indexes]\n",
    "suwon_sum = np.sum(selected_arr['2017'])\n",
    "\n",
    "print('2017년 수원시 총 인구는 %d명'%suwon_sum)"
   ]
  },
  {
   "cell_type": "code",
   "execution_count": 6,
   "metadata": {},
   "outputs": [
    {
     "name": "stdout",
     "output_type": "stream",
     "text": [
      "2017년 인구가 50만 이상인 지역은 ['성남시분당구', '남양주시', '화성시']\n"
     ]
    }
   ],
   "source": [
    "#2017년 인구가 50만 이상인 지역 출력\n",
    "over_halfM = [arr['city'][k] for k in range(len(arr)) if arr['2017'][k] >= 500000]\n",
    "print('2017년 인구가 50만 이상인 지역은', over_halfM)"
   ]
  },
  {
   "cell_type": "code",
   "execution_count": 7,
   "metadata": {},
   "outputs": [
    {
     "name": "stdout",
     "output_type": "stream",
     "text": [
      "2017년 경기도 시별 인구 평군은 292558명\n"
     ]
    }
   ],
   "source": [
    "#2017년 경기도 전체 인구의 시별 인구 평균\n",
    "average17 = np.mean(arr['2017'])\n",
    "print('2017년 경기도 시별 인구 평군은 %d명'%average17)"
   ]
  },
  {
   "cell_type": "code",
   "execution_count": null,
   "metadata": {},
   "outputs": [],
   "source": []
  }
 ],
 "metadata": {
  "kernelspec": {
   "display_name": "Python 3",
   "language": "python",
   "name": "python3"
  },
  "language_info": {
   "codemirror_mode": {
    "name": "ipython",
    "version": 3
   },
   "file_extension": ".py",
   "mimetype": "text/x-python",
   "name": "python",
   "nbconvert_exporter": "python",
   "pygments_lexer": "ipython3",
   "version": "3.7.4"
  }
 },
 "nbformat": 4,
 "nbformat_minor": 2
}
