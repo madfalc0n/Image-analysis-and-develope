{
 "cells": [
  {
   "cell_type": "code",
   "execution_count": 1,
   "metadata": {},
   "outputs": [
    {
     "name": "stdout",
     "output_type": "stream",
     "text": [
      "1.15.0\n"
     ]
    }
   ],
   "source": [
    "#모듈 호출\n",
    "import tensorflow as tf\n",
    "\n",
    "#버전 출력\n",
    "print(tf.__version__)\n"
   ]
  },
  {
   "cell_type": "code",
   "execution_count": 22,
   "metadata": {},
   "outputs": [
    {
     "name": "stdout",
     "output_type": "stream",
     "text": [
      "6234\n"
     ]
    }
   ],
   "source": [
    "#상수 정의, 스칼라 값\n",
    "a = tf.constant(1234) \n",
    "b = tf.constant(5000)\n",
    "\n",
    "#계산 정의\n",
    "add_op = a+b\n",
    "\n",
    "#세션 시작 \n",
    "sess = tf.Session()\n",
    "#계산식 평가\n",
    "res = sess.run(add_op)\n",
    "print(res)"
   ]
  },
  {
   "cell_type": "code",
   "execution_count": 47,
   "metadata": {},
   "outputs": [
    {
     "name": "stdout",
     "output_type": "stream",
     "text": [
      "6234\n",
      "6234\n"
     ]
    }
   ],
   "source": [
    "#변수 v 선언하기\n",
    "# variable은 하나의 객체가 된다 즉 클래스의 인스턴스가 생성되는 것이고  해당 인스턴스를 그래프에 추가시켜주어야 한다.\n",
    "# 생성 후 global_variables_initializer()함수를 실행 해주어야 함,호출하기 전에 그래프의 상태는 각 노드에 값이 아직 없는 상태를 의미한다.따라서 해당 함수를 사용해주어야 Variable 의 값이 할당 되는 것이고 텐서의 그래프로써의 효력이 발생하는 것이다.\n",
    "v = tf.Variable(10) #클래스의 생성자 함수, tf.zeros()로 설정가능, \n",
    "\n",
    "# 변수 v에 add_op의 결과 대입하기\n",
    "let_op = tf.assign(v, add_op)\n",
    "\n",
    "#세션 시작 \n",
    "sess = tf.Session() \n",
    "\n",
    "# 변수 초기화히기 ,메모리에서 계산작업을 하기 위한 초기화(생성)\n",
    "sess.run(tf.global_variables_initializer())\n",
    "\n",
    "#계산식 실행\n",
    "print(sess.run(let_op))\n",
    "print(sess.run(v))"
   ]
  },
  {
   "cell_type": "code",
   "execution_count": 52,
   "metadata": {},
   "outputs": [
    {
     "name": "stdout",
     "output_type": "stream",
     "text": [
      "[2 4 6]\n",
      "[20 40 20]\n",
      "[ 20  40  20 160]\n"
     ]
    },
    {
     "data": {
      "text/plain": [
       "'\\ntensoflow.sqrt(x): x의 제곱근을 계산\\ntensoflow.reduce_mean(x): x의 평균을 계산\\ntensoflow.square(x): x의 제곱을 계산\\nrandom_uniform([1], 0, 10,…) : 0에서 10 사이에서 임의의 수 1개 생성 반환\\nVariable() : 변수의 값을 지정 \\n'"
      ]
     },
     "execution_count": 52,
     "metadata": {},
     "output_type": "execute_result"
    }
   ],
   "source": [
    "#placeholder 정의(정수 자료형 3개를 가진 배열)\n",
    "#템플릿처럼 값을 넣을 공간을 만들어두는 기능\n",
    "#데이터 플로우 그래프를 구축할 때는 값을 넣지 않고 값을 담을 수 있는 그릇만 만들어두고, 이후에 세션을 실행할 때 그릇에 값을 넣고 실행할 수 있다.\n",
    "\n",
    "#a = tf.placeholder(tf.int32, [3])  # 비어있는 배열\n",
    "a = tf.placeholder(tf.int32, [None])  # None 지정 시 , 가변으로 된다.\n",
    "b = tf.constant(2)\n",
    "x2_op = a* b\n",
    "\n",
    "#세션 시작 \n",
    "sess = tf.Session() \n",
    "# placeholder에 값 넣고 실행하기\n",
    "r1 = sess.run(x2_op, feed_dict = {a:[1, 2, 3]})\n",
    "print(r1)\n",
    "r2 = sess.run(x2_op, feed_dict = {a:[10, 20, 10]})\n",
    "print(r2)\n",
    "r3 = sess.run(x2_op, feed_dict = {a:[10, 20, 10, 80]})\n",
    "print(r3)\n",
    "\n",
    "#다양한 함수들\n",
    "\"\"\"\n",
    "tensoflow.sqrt(x): x의 제곱근을 계산\n",
    "tensoflow.reduce_mean(x): x의 평균을 계산\n",
    "tensoflow.square(x): x의 제곱을 계산\n",
    "random_uniform([1], 0, 10,…) : 0에서 10 사이에서 임의의 수 1개 생성 반환\n",
    "Variable() : 변수의 값을 지정 \n",
    "\"\"\"\n"
   ]
  },
  {
   "cell_type": "code",
   "execution_count": 53,
   "metadata": {},
   "outputs": [
    {
     "name": "stdout",
     "output_type": "stream",
     "text": [
      "600\n"
     ]
    }
   ],
   "source": [
    "# 데이터 플로우 그래프 구축하기  \n",
    "# 아나콘다 프롬프트에서 작업중인 주피터노트북 경로로 가서 'tensorboard --logdir=./logs' 입력 웹에서 localhost:6006 접속 후  그래프로 확인 가능,\n",
    "a = tf.constant(20, name=\"a\")\n",
    "b = tf.constant(30, name=\"b\")\n",
    "mul_op = a * b\n",
    "# 세션 생성하기  \n",
    "sess = tf.Session()\n",
    "# TensorBoard 사용하기  \n",
    "tw = tf.summary.FileWriter(\"log_dir\", graph=sess.graph)\n",
    "# 세션 실행하기 \n",
    "print(sess.run(mul_op))"
   ]
  },
  {
   "cell_type": "code",
   "execution_count": 55,
   "metadata": {},
   "outputs": [
    {
     "ename": "SyntaxError",
     "evalue": "can't assign to operator (<ipython-input-55-9b793cab0dc3>, line 1)",
     "output_type": "error",
     "traceback": [
      "\u001b[1;36m  File \u001b[1;32m\"<ipython-input-55-9b793cab0dc3>\"\u001b[1;36m, line \u001b[1;32m1\u001b[0m\n\u001b[1;33m    tensorboard --logdir='./logs'\u001b[0m\n\u001b[1;37m                                 ^\u001b[0m\n\u001b[1;31mSyntaxError\u001b[0m\u001b[1;31m:\u001b[0m can't assign to operator\n"
     ]
    }
   ],
   "source": []
  }
 ],
 "metadata": {
  "kernelspec": {
   "display_name": "Python 3",
   "language": "python",
   "name": "python3"
  },
  "language_info": {
   "codemirror_mode": {
    "name": "ipython",
    "version": 3
   },
   "file_extension": ".py",
   "mimetype": "text/x-python",
   "name": "python",
   "nbconvert_exporter": "python",
   "pygments_lexer": "ipython3",
   "version": "3.7.4"
  }
 },
 "nbformat": 4,
 "nbformat_minor": 4
}
