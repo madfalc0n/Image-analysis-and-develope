{
 "cells": [
  {
   "cell_type": "code",
   "execution_count": null,
   "metadata": {
    "ExecuteTime": {
     "start_time": "2020-01-08T06:11:22.179Z"
    }
   },
   "outputs": [],
   "source": [
    "import scipy.stats as sp\n",
    "import numpy as np\n",
    "import matplotlib.pyplot as plt\n",
    "%matplotlib inline\n",
    "import cv2 \n",
    "from PIL import ImageFont, ImageDraw, Image"
   ]
  },
  {
   "cell_type": "code",
   "execution_count": null,
   "metadata": {
    "ExecuteTime": {
     "start_time": "2020-01-08T06:11:18.671Z"
    }
   },
   "outputs": [],
   "source": [
    "img = np.array([\n",
    "      [1,2,3],\n",
    "    [200,5,200],\n",
    "    [7,8,9]\n",
    "], dtype=\"float\")\n",
    "\n",
    "kernel = np.array([[0,0,0],\n",
    "                   [1,0,-1],\n",
    "                   [0,0,0]\n",
    "                  ])\n",
    "filtered = cv2.filter2D(img, -1, kernel)\n",
    "print(filtered)"
   ]
  },
  {
   "cell_type": "code",
   "execution_count": null,
   "metadata": {},
   "outputs": [],
   "source": [
    "ma = np.max(filtered)\n",
    "mm = np.min(filtered)\n",
    "\n",
    "n = ( filtered - mm) / (np.ptp(filtered) ) * 255   #  -2  ~ 0 ->  0 ~ 255\n",
    "print(n)\n",
    "\n",
    "\n",
    "n2 =  np.abs(filtered) / np.max(np.abs(filtered))*255   # 0-2 ->  0  ~ 255\n",
    "print(n2)\n",
    "\n",
    "norm = cv2.normalize(filtered, None , 0, 255, cv2.NORM_MINMAX)\n",
    "norm = norm.astype('uint8')\n",
    "\n",
    "print(norm)"
   ]
  },
  {
   "cell_type": "code",
   "execution_count": null,
   "metadata": {},
   "outputs": [],
   "source": [
    "src = cv2.imread('lena.png', cv2.IMREAD_GRAYSCALE)\n",
    "src2 = src.astype('int16')\n",
    "\n",
    "kernel = np.array([[0,+1,0],\n",
    "                   [0,0,0],\n",
    "                   [0,-1,0]\n",
    "                  ])\n",
    "filtered = cv2.filter2D(src2, -1, kernel) + 128\n",
    "\n",
    "filtered2 = cv2.filter2D(src2, -1, kernel)\n",
    "filtered2 = cv2.normalize(filtered2, None , 0, 255, cv2.NORM_MINMAX)\n",
    "\n",
    "print(np.min(filtered))\n",
    "print(np.max(filtered))\n",
    "print(np.min(filtered2))\n",
    "print(np.max(filtered2))\n",
    "\n",
    "\n",
    "cv2.imwrite(\"output.png\", filtered)\n",
    "cv2.imwrite(\"output2.png\", filtered2)"
   ]
  }
 ],
 "metadata": {
  "kernelspec": {
   "display_name": "Python 3",
   "language": "python",
   "name": "python3"
  },
  "language_info": {
   "codemirror_mode": {
    "name": "ipython",
    "version": 3
   },
   "file_extension": ".py",
   "mimetype": "text/x-python",
   "name": "python",
   "nbconvert_exporter": "python",
   "pygments_lexer": "ipython3",
   "version": "3.7.4"
  },
  "varInspector": {
   "cols": {
    "lenName": 16,
    "lenType": 16,
    "lenVar": 40
   },
   "kernels_config": {
    "python": {
     "delete_cmd_postfix": "",
     "delete_cmd_prefix": "del ",
     "library": "var_list.py",
     "varRefreshCmd": "print(var_dic_list())"
    },
    "r": {
     "delete_cmd_postfix": ") ",
     "delete_cmd_prefix": "rm(",
     "library": "var_list.r",
     "varRefreshCmd": "cat(var_dic_list()) "
    }
   },
   "types_to_exclude": [
    "module",
    "function",
    "builtin_function_or_method",
    "instance",
    "_Feature"
   ],
   "window_display": false
  }
 },
 "nbformat": 4,
 "nbformat_minor": 2
}
