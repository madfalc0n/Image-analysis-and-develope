{
 "cells": [
  {
   "cell_type": "markdown",
   "metadata": {},
   "source": [
    "# Keras model 을 opencv 에서 써보기\n",
    "- keras 에서 저장된 모델(hd5)을 opencv에서 이해할 수 없으므로 따로 pb 파일로 변환을 해주어야 함"
   ]
  },
  {
   "cell_type": "code",
   "execution_count": 1,
   "metadata": {
    "ExecuteTime": {
     "end_time": "2020-01-30T01:25:24.538582Z",
     "start_time": "2020-01-30T01:25:22.395638Z"
    }
   },
   "outputs": [
    {
     "name": "stderr",
     "output_type": "stream",
     "text": [
      "Using TensorFlow backend.\n"
     ]
    }
   ],
   "source": [
    "import numpy as np\n",
    "import tensorflow as tf\n",
    "import matplotlib.pyplot as plt\n",
    "%matplotlib inline\n",
    "from keras import backend as K #이건 뭐하는 모듈? \n",
    "\n",
    "# from tensorflow.compat.v1.keras import backend as K\n",
    "# import tensorflow.compat.v1 as tf #호환성을 위해 별도로 만들어진 패키지, 하위버전\n",
    "# tf.disable_v2_behavior()"
   ]
  },
  {
   "cell_type": "code",
   "execution_count": 2,
   "metadata": {
    "ExecuteTime": {
     "end_time": "2020-01-30T01:25:27.363019Z",
     "start_time": "2020-01-30T01:25:26.650776Z"
    }
   },
   "outputs": [
    {
     "name": "stdout",
     "output_type": "stream",
     "text": [
      "Model: \"sequential\"\n",
      "_________________________________________________________________\n",
      "Layer (type)                 Output Shape              Param #   \n",
      "=================================================================\n",
      "dense (Dense)                (None, 64)                192       \n",
      "_________________________________________________________________\n",
      "dense_1 (Dense)              (None, 64)                4160      \n",
      "_________________________________________________________________\n",
      "dense_2 (Dense)              (None, 64)                4160      \n",
      "_________________________________________________________________\n",
      "dense_3 (Dense)              (None, 64)                4160      \n",
      "_________________________________________________________________\n",
      "Output (Dense)               (None, 1)                 65        \n",
      "=================================================================\n",
      "Total params: 12,737\n",
      "Trainable params: 12,737\n",
      "Non-trainable params: 0\n",
      "_________________________________________________________________\n",
      "inputs:  ['dense_input']\n",
      "outputs:  ['Output/Identity']\n"
     ]
    }
   ],
   "source": [
    "\n",
    "X = np.array([[0,0], [0,1], [1,0], [1,1]], 'float32')\n",
    "Y = np.array([[0], [1], [1], [0]], 'float32')\n",
    "\n",
    "model = tf.keras.models.Sequential()\n",
    "model.add(tf.keras.layers.Dense(64, input_dim=2, activation='relu'))\n",
    "model.add(tf.keras.layers.Dense(64, activation='relu'))\n",
    "\n",
    "model.add(tf.keras.layers.Dense(64, activation='relu'))\n",
    "model.add(tf.keras.layers.Dense(64, activation='relu'))\n",
    "model.add(tf.keras.layers.Dense(1, activation ='sigmoid', name='Output'))\n",
    "\n",
    "\n",
    "model.compile(loss='mean_squared_error', optimizer='adam', metrics=['binary_accuracy'])\n",
    "\n",
    "model.fit(X, Y, batch_size=1, epochs=100, verbose=0)\n",
    "\n",
    "\n",
    "model.summary()\n",
    "\n",
    "#input.op.name 텐서플로우가 가지고 있는 실제 name\n",
    "\n",
    "# inputs:  ['dense_input']\n",
    "print('inputs: ', [input.op.name for input in model.inputs])\n",
    "\n",
    "# outputs:  ['dense_4/Sigmoid']\n",
    "print('outputs: ', [output.op.name for output in model.outputs])\n",
    "\n",
    "#model save\n",
    "model.save('xor.h5')"
   ]
  },
  {
   "cell_type": "code",
   "execution_count": null,
   "metadata": {
    "ExecuteTime": {
     "end_time": "2020-01-30T01:16:42.539122Z",
     "start_time": "2020-01-30T01:16:42.515187Z"
    }
   },
   "outputs": [],
   "source": [
    "model.predict(np.array([[1, 1], [0,1]]))"
   ]
  },
  {
   "cell_type": "code",
   "execution_count": null,
   "metadata": {
    "ExecuteTime": {
     "end_time": "2020-01-30T01:16:44.632973Z",
     "start_time": "2020-01-30T01:16:44.562873Z"
    }
   },
   "outputs": [],
   "source": [
    "# from tensorflow.compat.v1.keras import backend as K\n",
    "# import tensorflow.compat.v1 as tf\n",
    "# tf.disable_v2_behavior()\n",
    "\n",
    "\n",
    "def freeze_session(session, keep_var_names=None, output_names=None, clear_devices=True):\n",
    "    \"\"\"\n",
    "    Freezes the state of a session into a pruned computation graph.\n",
    "\n",
    "    Creates a new computation graph where variable nodes are replaced by\n",
    "    constants taking their current value in the session. The new graph will be\n",
    "    pruned so subgraphs that are not necessary to compute the requested\n",
    "    outputs are removed.\n",
    "    @param session The TensorFlow session to be frozen.\n",
    "    @param keep_var_names A list of variable names that should not be frozen,\n",
    "                          or None to freeze all the variables in the graph.\n",
    "    @param output_names Names of the relevant graph outputs.\n",
    "    @param clear_devices Remove the device directives from the graph for better portability.\n",
    "    @return The frozen graph definition.\n",
    "    \"\"\"\n",
    "    graph = session.graph\n",
    "    with graph.as_default():\n",
    "        freeze_var_names = list(set(v.op.name for v in tf.global_variables()).difference(keep_var_names or []))\n",
    "        output_names = output_names or []\n",
    "        output_names += [v.op.name for v in tf.global_variables()]\n",
    "        input_graph_def = graph.as_graph_def()\n",
    "        if clear_devices:\n",
    "            for node in input_graph_def.node:\n",
    "                node.device = ''\n",
    "        frozen_graph = tf.graph_util.convert_variables_to_constants(\n",
    "            session, input_graph_def, output_names, freeze_var_names)\n",
    "        return frozen_graph\n",
    "\n",
    "\n",
    "#K.get_session() 열려있는 세션을 가져옴\n",
    "frozen_graph = freeze_session(K.get_session(), output_names=[out.op.name for out in model.outputs]) #'output/Sigmoid'\n",
    "tf.train.write_graph(frozen_graph, './', 'xor.pbtxt', as_text=True) #txt로 저장\n",
    "tf.train.write_graph(frozen_graph, './', 'xor.pb', as_text=False) #바이너리로 저장"
   ]
  },
  {
   "cell_type": "code",
   "execution_count": null,
   "metadata": {
    "ExecuteTime": {
     "end_time": "2020-01-30T01:16:48.606598Z",
     "start_time": "2020-01-30T01:16:48.586458Z"
    }
   },
   "outputs": [],
   "source": [
    "import cv2 as cv2\n",
    "net = cv2.dnn.readNetFromTensorflow('xor.pb')\n",
    "layersNames = net.getLayerNames()\n",
    "print(layersNames)"
   ]
  },
  {
   "cell_type": "code",
   "execution_count": null,
   "metadata": {
    "ExecuteTime": {
     "end_time": "2020-01-30T01:16:50.306173Z",
     "start_time": "2020-01-30T01:16:50.298201Z"
    }
   },
   "outputs": [],
   "source": [
    "net.setInput(np.array([[0, 0], [0,1], [1,0], [1,1]]))\n",
    "out = net.forward(outputName='Output/Sigmoid')\n",
    "print(out)\n",
    "\n",
    "out = net.forward()\n",
    "print(out)"
   ]
  },
  {
   "cell_type": "code",
   "execution_count": null,
   "metadata": {},
   "outputs": [],
   "source": []
  }
 ],
 "metadata": {
  "kernelspec": {
   "display_name": "Python 3",
   "language": "python",
   "name": "python3"
  },
  "language_info": {
   "codemirror_mode": {
    "name": "ipython",
    "version": 3
   },
   "file_extension": ".py",
   "mimetype": "text/x-python",
   "name": "python",
   "nbconvert_exporter": "python",
   "pygments_lexer": "ipython3",
   "version": "3.6.10"
  },
  "toc": {
   "base_numbering": 1,
   "nav_menu": {},
   "number_sections": false,
   "sideBar": true,
   "skip_h1_title": false,
   "title_cell": "Table of Contents",
   "title_sidebar": "Contents",
   "toc_cell": false,
   "toc_position": {},
   "toc_section_display": true,
   "toc_window_display": false
  },
  "varInspector": {
   "cols": {
    "lenName": 16,
    "lenType": 16,
    "lenVar": 40
   },
   "kernels_config": {
    "python": {
     "delete_cmd_postfix": "",
     "delete_cmd_prefix": "del ",
     "library": "var_list.py",
     "varRefreshCmd": "print(var_dic_list())"
    },
    "r": {
     "delete_cmd_postfix": ") ",
     "delete_cmd_prefix": "rm(",
     "library": "var_list.r",
     "varRefreshCmd": "cat(var_dic_list()) "
    }
   },
   "types_to_exclude": [
    "module",
    "function",
    "builtin_function_or_method",
    "instance",
    "_Feature"
   ],
   "window_display": false
  }
 },
 "nbformat": 4,
 "nbformat_minor": 2
}
