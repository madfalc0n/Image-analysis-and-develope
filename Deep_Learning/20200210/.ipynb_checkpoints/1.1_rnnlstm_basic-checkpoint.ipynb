{
 "cells": [
  {
   "cell_type": "code",
   "execution_count": 1,
   "metadata": {
    "ExecuteTime": {
     "end_time": "2020-02-10T08:16:56.662983Z",
     "start_time": "2020-02-10T08:16:51.551348Z"
    }
   },
   "outputs": [
    {
     "name": "stderr",
     "output_type": "stream",
     "text": [
      "Using TensorFlow backend.\n"
     ]
    }
   ],
   "source": [
    "import pandas as pd\n",
    "import numpy as np\n",
    "import matplotlib.pyplot as plt\n",
    "\n",
    "from keras.models import Sequential\n",
    "from keras.layers import SimpleRNN\n",
    "from keras.layers import Dense, Dropout, Activation\n",
    "from keras.layers import Embedding\n",
    "from keras.layers import LSTM\n",
    "from keras.preprocessing.text import Tokenizer\n",
    "\n",
    "from keras.preprocessing import sequence\n",
    "from keras.preprocessing.sequence import  pad_sequences\n",
    "from keras.datasets import imdb\n",
    "\n",
    "from konlpy.tag import Okt\n",
    "import statsmodels.api as sm\n",
    "%matplotlib inline"
   ]
  },
  {
   "cell_type": "markdown",
   "metadata": {},
   "source": [
    "# RNN "
   ]
  },
  {
   "cell_type": "code",
   "execution_count": 2,
   "metadata": {
    "ExecuteTime": {
     "end_time": "2020-02-10T08:17:39.465064Z",
     "start_time": "2020-02-10T08:17:39.361672Z"
    }
   },
   "outputs": [
    {
     "name": "stdout",
     "output_type": "stream",
     "text": [
      "WARNING:tensorflow:From C:\\ProgramData\\Anaconda3\\lib\\site-packages\\tensorflow_core\\python\\ops\\resource_variable_ops.py:1630: calling BaseResourceVariable.__init__ (from tensorflow.python.ops.resource_variable_ops) with constraint is deprecated and will be removed in a future version.\n",
      "Instructions for updating:\n",
      "If using Keras pass *_constraint arguments to layers.\n",
      "Model: \"sequential_1\"\n",
      "_________________________________________________________________\n",
      "Layer (type)                 Output Shape              Param #   \n",
      "=================================================================\n",
      "simple_rnn_1 (SimpleRNN)     (None, 3)                 42        \n",
      "=================================================================\n",
      "Total params: 42\n",
      "Trainable params: 42\n",
      "Non-trainable params: 0\n",
      "_________________________________________________________________\n"
     ]
    }
   ],
   "source": [
    "model = Sequential()\n",
    "model.add(SimpleRNN(3, input_shape=(2,10)))   #   input_lengtg는 입력 시컨스의 길이\n",
    "# model.add(SimpleRNN(3, input_length=2, input_dim=10))와 동일함.\n",
    "model.summary()\n",
    "# 크기는 hidden 갯수와 dim에 의해 결정됨\n",
    "# wx = 3 *  10  = 30      입력에서 hidden으로   \n",
    "# wh = 3 * 3    = 9       출력이 hidden*hidden이므로   \n",
    "# b = 3         = 3              -> 42개   # 출력층의 hidden"
   ]
  },
  {
   "cell_type": "markdown",
   "metadata": {},
   "source": [
    "# RNN을 이용한 시계열 데이터 분석 예"
   ]
  },
  {
   "cell_type": "code",
   "execution_count": 3,
   "metadata": {
    "ExecuteTime": {
     "end_time": "2020-02-10T08:17:41.952371Z",
     "start_time": "2020-02-10T08:17:41.945390Z"
    }
   },
   "outputs": [
    {
     "name": "stdout",
     "output_type": "stream",
     "text": [
      "(800, 1)\n",
      "(200, 1)\n"
     ]
    }
   ],
   "source": [
    "step = 4\n",
    "N = 1000    \n",
    "Tp = 800    \n",
    "\n",
    "t=np.arange(0,N)\n",
    "x=np.sin(0.02*t)+2*np.random.rand(N)\n",
    "df = pd.DataFrame(x)\n",
    "\n",
    "values=df.values\n",
    "train,test = values[0:Tp,:], values[Tp:N,:]   # 800, 200개로 분할\n",
    "\n",
    "print(train.shape)\n",
    "print(test.shape)"
   ]
  },
  {
   "cell_type": "code",
   "execution_count": 4,
   "metadata": {
    "ExecuteTime": {
     "end_time": "2020-02-10T08:17:42.420938Z",
     "start_time": "2020-02-10T08:17:42.416948Z"
    }
   },
   "outputs": [],
   "source": [
    "seq = [1,2,3,4,5,6,7]\n",
    "sp = 3\n",
    "\n",
    "seq = [1,2,3,4,5,6,7,7,7,7]\n",
    "#아래의 인풋과 출력 처럼 나오도록 코딩해야 함\n",
    "#  3개의 seq 길이를 갖도록 학습 데이터 seq 생성\n",
    "#  1,2,3,4,5,6,7,0,0,0                   [1,2,3]      [4]  1,2,3 인풋이 들어오면 4를 내보냄\n",
    "#                                      [2,3,4]       [5]   2,3,4 인풋이 들어오면 5를 내보내줌\n",
    "#                                   [3,4,5]         [6]\n",
    "#                                   [4,5,6]         [7]\n",
    "#                                   [5,6,7]         [7]\n",
    "#                                   [6,7,7]         [7]\n",
    "#                                       [7,7,7]       [7] "
   ]
  },
  {
   "cell_type": "code",
   "execution_count": 5,
   "metadata": {
    "ExecuteTime": {
     "end_time": "2020-02-10T08:17:51.748214Z",
     "start_time": "2020-02-10T08:17:51.745233Z"
    }
   },
   "outputs": [],
   "source": [
    "train = np.append(train,np.repeat(train[-1,],step))  # 마지막값을 step(3)만큼 반복\n",
    "test = np.append(test,np.repeat(test[-1,],step))"
   ]
  },
  {
   "cell_type": "code",
   "execution_count": 6,
   "metadata": {
    "ExecuteTime": {
     "end_time": "2020-02-10T08:17:52.068780Z",
     "start_time": "2020-02-10T08:17:52.064790Z"
    }
   },
   "outputs": [
    {
     "name": "stdout",
     "output_type": "stream",
     "text": [
      "(804,)\n",
      "(204,)\n"
     ]
    }
   ],
   "source": [
    "print(train.shape)\n",
    "print(test.shape)"
   ]
  },
  {
   "cell_type": "code",
   "execution_count": 8,
   "metadata": {
    "ExecuteTime": {
     "end_time": "2020-02-10T08:18:32.213579Z",
     "start_time": "2020-02-10T08:18:32.209597Z"
    }
   },
   "outputs": [
    {
     "name": "stdout",
     "output_type": "stream",
     "text": [
      "[0.86555384 1.52845252 1.01000411 1.29556018 1.50827426 1.74423427\n",
      " 1.83252315 2.13852001 1.84384908 0.39755542]\n",
      "[1.73683928 1.34727951 1.34727951 1.34727951 1.34727951 1.34727951]\n"
     ]
    }
   ],
   "source": [
    "print(train[:10])\n",
    "print(train[798:])"
   ]
  },
  {
   "cell_type": "code",
   "execution_count": 14,
   "metadata": {},
   "outputs": [
    {
     "name": "stdout",
     "output_type": "stream",
     "text": [
      "(800, 4)\n",
      "(800,)\n"
     ]
    }
   ],
   "source": [
    "def convertToMatrix(data, step):\n",
    " X, Y =[], []\n",
    " for i in range(len(data)-step):\n",
    "  d=i+step  \n",
    "  X.append(data[i:d,])\n",
    "  Y.append(data[d,])\n",
    " return np.array(X), np.array(Y)\n",
    "\n",
    "trainX,trainY =convertToMatrix(train,step)\n",
    "testX,testY =convertToMatrix(test,step)\n",
    "\n",
    "print(trainX.shape)\n",
    "print(trainY.shape)"
   ]
  },
  {
   "cell_type": "code",
   "execution_count": 15,
   "metadata": {},
   "outputs": [
    {
     "name": "stdout",
     "output_type": "stream",
     "text": [
      "[0.0512367  0.89888906 0.87486672 1.36969566 0.87087437 0.41950665\n",
      " 1.25699592 0.30188751 1.09722892 1.12342759]\n",
      "[0.0512367  0.89888906 0.87486672 1.36969566]\n",
      "[0.89888906 0.87486672 1.36969566 0.87087437]\n",
      "0.870874366160523\n",
      "0.4195066541845182\n"
     ]
    }
   ],
   "source": [
    "print(train[:10])\n",
    "print(trainX[0])\n",
    "print(trainX[1])\n",
    "print(trainY[0])\n",
    "print(trainY[1])"
   ]
  },
  {
   "cell_type": "code",
   "execution_count": 16,
   "metadata": {},
   "outputs": [
    {
     "name": "stdout",
     "output_type": "stream",
     "text": [
      "(800, 1, 4)\n"
     ]
    }
   ],
   "source": [
    "#3차원 shape으로 구성\n",
    "trainX = np.reshape(trainX, (trainX.shape[0], 1, trainX.shape[1]))\n",
    "testX = np.reshape(testX, (testX.shape[0], 1, testX.shape[1]))\n",
    "print(trainX.shape)"
   ]
  },
  {
   "cell_type": "code",
   "execution_count": 20,
   "metadata": {},
   "outputs": [
    {
     "data": {
      "text/plain": [
       "<keras.callbacks.callbacks.History at 0x1dfffbf28d0>"
      ]
     },
     "execution_count": 20,
     "metadata": {},
     "output_type": "execute_result"
    }
   ],
   "source": [
    "model = Sequential()\n",
    "model.add(SimpleRNN(units=32, input_shape=(1,step), activation=\"tanh\"))\n",
    "model.add(Dense(8, activation=\"tanh\")) \n",
    "model.add(Dense(1))\n",
    "model.compile(loss='mse', optimizer='adam')\n",
    "model.fit(trainX,trainY, epochs=100, batch_size=16, verbose=0)"
   ]
  },
  {
   "cell_type": "code",
   "execution_count": 21,
   "metadata": {},
   "outputs": [
    {
     "data": {
      "text/plain": [
       "[<matplotlib.lines.Line2D at 0x1dfffdcac50>]"
      ]
     },
     "execution_count": 21,
     "metadata": {},
     "output_type": "execute_result"
    },
    {
     "data": {
      "image/png": "[encoded data removed]",
      "text/plain": [
       "<Figure size 432x288 with 1 Axes>"
      ]
     },
     "metadata": {
      "needs_background": "light"
     },
     "output_type": "display_data"
    }
   ],
   "source": [
    "plt.plot(trainY, 'ro-', label=\"target\")\n",
    "plt.plot(model.predict(trainX), 'bs-', label=\"output\")"
   ]
  },
  {
   "cell_type": "code",
   "execution_count": 19,
   "metadata": {},
   "outputs": [
    {
     "data": {
      "text/plain": [
       "(-3, 3)"
      ]
     },
     "execution_count": 19,
     "metadata": {},
     "output_type": "execute_result"
    },
    {
     "data": {
      "image/png": "[encoded data removed]",
      "text/plain": [
       "<Figure size 432x288 with 1 Axes>"
      ]
     },
     "metadata": {
      "needs_background": "light"
     },
     "output_type": "display_data"
    }
   ],
   "source": [
    "plt.plot(testY[0::5], 'ro-', label=\"target\")\n",
    "plt.plot(model.predict(testX[0::5]), 'bs-', label=\"output\") #0부터 끝까지 5씩 증가\n",
    "plt.ylim([-3,3])"
   ]
  },
  {
   "cell_type": "markdown",
   "metadata": {},
   "source": [
    " # \"영국의 호흡기 질환으로 인한 사망자 수\" 시계열 데이터분석"
   ]
  },
  {
   "cell_type": "code",
   "execution_count": 23,
   "metadata": {},
   "outputs": [
    {
     "name": "stderr",
     "output_type": "stream",
     "text": [
      "d:\\Anaconda3\\lib\\site-packages\\statsmodels\\datasets\\utils.py:192: FutureWarning: `item` has been deprecated and will be removed in a future version\n",
      "  return dataset_meta[\"Title\"].item()\n"
     ]
    },
    {
     "data": {
      "text/html": [
       "<div>\n",
       "<style scoped>\n",
       "    .dataframe tbody tr th:only-of-type {\n",
       "        vertical-align: middle;\n",
       "    }\n",
       "\n",
       "    .dataframe tbody tr th {\n",
       "        vertical-align: top;\n",
       "    }\n",
       "\n",
       "    .dataframe thead th {\n",
       "        text-align: right;\n",
       "    }\n",
       "</style>\n",
       "<table border=\"1\" class=\"dataframe\">\n",
       "  <thead>\n",
       "    <tr style=\"text-align: right;\">\n",
       "      <th></th>\n",
       "      <th>time</th>\n",
       "      <th>value</th>\n",
       "    </tr>\n",
       "  </thead>\n",
       "  <tbody>\n",
       "    <tr>\n",
       "      <th>67</th>\n",
       "      <td>1979.583333</td>\n",
       "      <td>1354</td>\n",
       "    </tr>\n",
       "    <tr>\n",
       "      <th>68</th>\n",
       "      <td>1979.666667</td>\n",
       "      <td>1333</td>\n",
       "    </tr>\n",
       "    <tr>\n",
       "      <th>69</th>\n",
       "      <td>1979.750000</td>\n",
       "      <td>1492</td>\n",
       "    </tr>\n",
       "    <tr>\n",
       "      <th>70</th>\n",
       "      <td>1979.833333</td>\n",
       "      <td>1781</td>\n",
       "    </tr>\n",
       "    <tr>\n",
       "      <th>71</th>\n",
       "      <td>1979.916667</td>\n",
       "      <td>1915</td>\n",
       "    </tr>\n",
       "  </tbody>\n",
       "</table>\n",
       "</div>"
      ],
      "text/plain": [
       "           time  value\n",
       "67  1979.583333   1354\n",
       "68  1979.666667   1333\n",
       "69  1979.750000   1492\n",
       "70  1979.833333   1781\n",
       "71  1979.916667   1915"
      ]
     },
     "execution_count": 23,
     "metadata": {},
     "output_type": "execute_result"
    }
   ],
   "source": [
    "data = sm.datasets.get_rdataset(\"deaths\", \"MASS\")\n",
    "df = data.data\n",
    "df.tail()"
   ]
  },
  {
   "cell_type": "code",
   "execution_count": 24,
   "metadata": {},
   "outputs": [
    {
     "data": {
      "image/png": "[encoded data removed]",
      "text/plain": [
       "<Figure size 432x288 with 1 Axes>"
      ]
     },
     "metadata": {
      "needs_background": "light"
     },
     "output_type": "display_data"
    }
   ],
   "source": [
    "df.value.plot()\n",
    "plt.show()"
   ]
  },
  {
   "cell_type": "code",
   "execution_count": 25,
   "metadata": {},
   "outputs": [
    {
     "name": "stderr",
     "output_type": "stream",
     "text": [
      "d:\\Anaconda3\\lib\\site-packages\\ipykernel_launcher.py:1: FutureWarning: clip_upper(threshold) is deprecated, use clip(upper=threshold) instead\n",
      "  \"\"\"Entry point for launching an IPython kernel.\n"
     ]
    },
    {
     "data": {
      "image/png": "[encoded data removed]",
      "text/plain": [
       "<Figure size 432x288 with 1 Axes>"
      ]
     },
     "metadata": {
      "needs_background": "light"
     },
     "output_type": "display_data"
    }
   ],
   "source": [
    "df[\"cliped_value\"] = df.value.clip_upper(2000)\n",
    "df.cliped_value.plot()\n",
    "plt.show()"
   ]
  },
  {
   "cell_type": "code",
   "execution_count": 26,
   "metadata": {},
   "outputs": [
    {
     "name": "stdout",
     "output_type": "stream",
     "text": [
      "0     2000\n",
      "1     2000\n",
      "2     2000\n",
      "3     2000\n",
      "4     2000\n",
      "      ... \n",
      "67    1354\n",
      "68    1333\n",
      "69    1492\n",
      "70    1781\n",
      "71    1915\n",
      "Name: cliped_value, Length: 72, dtype: int64\n",
      "[2000 2000 2000 2000 2000 1655 1721 1524 1596 2000 2000 2000 2000 2000\n",
      " 2000 2000 1870 1726 1607 1545 1396 1787 2000 2000 2000 2000 2000 2000\n",
      " 1636 1580 1489 1300 1356 1653 2000 2000 2000 2000 2000 2000 1748 1554\n",
      " 1498 1361 1346 1564 1640 2000 2000 2000 2000 1969 1870 1633 1529 1366\n",
      " 1357 1570 1535 2000 2000 2000 2000 2000 1693 1504 1461 1354 1333 1492\n",
      " 1781 1915]\n"
     ]
    }
   ],
   "source": [
    "print(df.cliped_value)\n",
    "print(df.cliped_value.values)"
   ]
  },
  {
   "cell_type": "code",
   "execution_count": 27,
   "metadata": {},
   "outputs": [
    {
     "name": "stdout",
     "output_type": "stream",
     "text": [
      "(4, 3, 1)\n",
      "[[[1]\n",
      "  [2]\n",
      "  [3]]\n",
      "\n",
      " [[2]\n",
      "  [3]\n",
      "  [4]]\n",
      "\n",
      " [[3]\n",
      "  [4]\n",
      "  [5]]\n",
      "\n",
      " [[4]\n",
      "  [5]\n",
      "  [6]]]\n",
      "[4, 5, 6, 7]\n"
     ]
    }
   ],
   "source": [
    "seq = [1,2,3,4,5,6,7]\n",
    "ts = 3;\n",
    "\n",
    "#  3개의 seq 길이를 갖도록 학습 데이터 생성,   y값은 ts 다음값(즉 4번째 부터 가져옴)\n",
    "#  1,2,3,4,5,6,7,8,9                   [1,2,3]      [4] \n",
    "#                                      [2,3,4]     [5]      \n",
    "x = np.array([np.array([seq[i+j] for j in range(ts)])  \n",
    "                      for i in range(len(seq) - ts)]).reshape(-1,ts,1)   \n",
    "y = seq[ts:]\n",
    "\n",
    "print(x.shape)\n",
    "print(x)\n",
    "print(y)"
   ]
  },
  {
   "cell_type": "code",
   "execution_count": 28,
   "metadata": {},
   "outputs": [
    {
     "name": "stdout",
     "output_type": "stream",
     "text": [
      "(65, 7, 1)\n",
      "(65,)\n"
     ]
    }
   ],
   "source": [
    "ts = 7\n",
    "\n",
    "df[\"cliped_std_value\"] = df.cliped_value.map(lambda x : (x - df.cliped_value.mean()) / np.std(df.cliped_value))\n",
    "#df[\"cliped_std_value\"] = df.cliped_value\n",
    "X_train = np.array([np.array([df.cliped_std_value.values[i+j] for j in range(ts)])  # ts만큼 만복\n",
    "                      for i in range(len(df.cliped_std_value) - ts)]).reshape(-1,ts,1)\n",
    "y_train = df.cliped_std_value.values[ts:]\n",
    "print(X_train.shape)\n",
    "print(y_train.shape)"
   ]
  },
  {
   "cell_type": "code",
   "execution_count": 29,
   "metadata": {},
   "outputs": [],
   "source": [
    "model_RNN = Sequential()\n",
    "model_RNN.add(SimpleRNN(100, input_shape=(ts, 1)))\n",
    "model_RNN.add(Dense(1, activation=\"linear\"))\n",
    "model_RNN.compile(loss='mse', optimizer='adam')"
   ]
  },
  {
   "cell_type": "code",
   "execution_count": 30,
   "metadata": {},
   "outputs": [],
   "source": [
    "history_RNN = model_RNN.fit(X_train, y_train, epochs=1000,verbose=0)"
   ]
  },
  {
   "cell_type": "code",
   "execution_count": 33,
   "metadata": {},
   "outputs": [
    {
     "data": {
      "image/png": "[encoded data removed]",
      "text/plain": [
       "<Figure size 432x288 with 1 Axes>"
      ]
     },
     "metadata": {
      "needs_background": "light"
     },
     "output_type": "display_data"
    }
   ],
   "source": [
    "plt.plot(y_train, 'ro-', label=\"target\")\n",
    "plt.plot(model_RNN.predict(X_train), 'bs-', label=\"output\")\n",
    "plt.legend()\n",
    "plt.show()"
   ]
  },
  {
   "cell_type": "code",
   "execution_count": 34,
   "metadata": {},
   "outputs": [],
   "source": [
    "model_LSTM = Sequential()\n",
    "model_LSTM.add(LSTM(100, input_shape=(ts, 1)))\n",
    "model_LSTM.add(Dense(1, activation=\"linear\"))\n",
    "model_LSTM.compile(loss='mse', optimizer='adam')\n",
    "\n",
    "history_LSTM = model_LSTM.fit(X_train, y_train, epochs=1000,verbose=0)\n"
   ]
  },
  {
   "cell_type": "code",
   "execution_count": 35,
   "metadata": {},
   "outputs": [
    {
     "data": {
      "image/png": "[encoded data removed]",
      "text/plain": [
       "<Figure size 432x288 with 1 Axes>"
      ]
     },
     "metadata": {
      "needs_background": "light"
     },
     "output_type": "display_data"
    }
   ],
   "source": [
    "plt.plot(y_train, 'ro-', label=\"target\")\n",
    "plt.plot(model_LSTM.predict(X_train), 'bs-', label=\"output\")\n",
    "plt.legend()\n",
    "plt.show()"
   ]
  },
  {
   "cell_type": "markdown",
   "metadata": {},
   "source": [
    "# 문장 분석(imdb)"
   ]
  },
  {
   "cell_type": "code",
   "execution_count": 151,
   "metadata": {},
   "outputs": [
    {
     "name": "stdout",
     "output_type": "stream",
     "text": [
      "Loading data...\n",
      "25000 train sequences\n",
      "25000 test sequences\n"
     ]
    }
   ],
   "source": [
    "max_features = 20000\n",
    "# cut texts after this number of words (among top max_features most common words)\n",
    "maxlen = 80\n",
    "batch_size = 32 \n",
    "\n",
    "print('Loading data...')\n",
    "(x_train, y_train), (x_test, y_test) = imdb.load_data(num_words=max_features)\n",
    "print(len(x_train), 'train sequences')\n",
    "print(len(x_test), 'test sequences')"
   ]
  },
  {
   "cell_type": "code",
   "execution_count": 152,
   "metadata": {},
   "outputs": [
    {
     "name": "stdout",
     "output_type": "stream",
     "text": [
      "218\n",
      "[1, 14, 22, 16, 43, 530, 973, 1622, 1385, 65, 458, 4468, 66, 3941, 4, 173, 36, 256, 5, 25, 100, 43, 838, 112, 50, 670, 2, 9, 35, 480, 284, 5, 150, 4, 172, 112, 167, 2, 336, 385, 39, 4, 172, 4536, 1111, 17, 546, 38, 13, 447, 4, 192, 50, 16, 6, 147, 2025, 19, 14, 22, 4, 1920, 4613, 469, 4, 22, 71, 87, 12, 16, 43, 530, 38, 76, 15, 13, 1247, 4, 22, 17, 515, 17, 12, 16, 626, 18, 19193, 5, 62, 386, 12, 8, 316, 8, 106, 5, 4, 2223, 5244, 16, 480, 66, 3785, 33, 4, 130, 12, 16, 38, 619, 5, 25, 124, 51, 36, 135, 48, 25, 1415, 33, 6, 22, 12, 215, 28, 77, 52, 5, 14, 407, 16, 82, 10311, 8, 4, 107, 117, 5952, 15, 256, 4, 2, 7, 3766, 5, 723, 36, 71, 43, 530, 476, 26, 400, 317, 46, 7, 4, 12118, 1029, 13, 104, 88, 4, 381, 15, 297, 98, 32, 2071, 56, 26, 141, 6, 194, 7486, 18, 4, 226, 22, 21, 134, 476, 26, 480, 5, 144, 30, 5535, 18, 51, 36, 28, 224, 92, 25, 104, 4, 226, 65, 16, 38, 1334, 88, 12, 16, 283, 5, 16, 4472, 113, 103, 32, 15, 16, 5345, 19, 178, 32]\n",
      "189\n",
      "[1, 194, 1153, 194, 8255, 78, 228, 5, 6, 1463, 4369, 5012, 134, 26, 4, 715, 8, 118, 1634, 14, 394, 20, 13, 119, 954, 189, 102, 5, 207, 110, 3103, 21, 14, 69, 188, 8, 30, 23, 7, 4, 249, 126, 93, 4, 114, 9, 2300, 1523, 5, 647, 4, 116, 9, 35, 8163, 4, 229, 9, 340, 1322, 4, 118, 9, 4, 130, 4901, 19, 4, 1002, 5, 89, 29, 952, 46, 37, 4, 455, 9, 45, 43, 38, 1543, 1905, 398, 4, 1649, 26, 6853, 5, 163, 11, 3215, 10156, 4, 1153, 9, 194, 775, 7, 8255, 11596, 349, 2637, 148, 605, 15358, 8003, 15, 123, 125, 68, 2, 6853, 15, 349, 165, 4362, 98, 5, 4, 228, 9, 43, 2, 1157, 15, 299, 120, 5, 120, 174, 11, 220, 175, 136, 50, 9, 4373, 228, 8255, 5, 2, 656, 245, 2350, 5, 4, 9837, 131, 152, 491, 18, 2, 32, 7464, 1212, 14, 9, 6, 371, 78, 22, 625, 64, 1382, 9, 8, 168, 145, 23, 4, 1690, 15, 16, 4, 1355, 5, 28, 6, 52, 154, 462, 33, 89, 78, 285, 16, 145, 95]\n"
     ]
    }
   ],
   "source": [
    "print(len(x_train[0]))\n",
    "print(x_train[0])\n",
    "print(len(x_train[1]))\n",
    "print(x_train[1])"
   ]
  },
  {
   "cell_type": "code",
   "execution_count": 154,
   "metadata": {},
   "outputs": [
    {
     "name": "stdout",
     "output_type": "stream",
     "text": [
      "Pad sequences (samples x time)\n",
      "x_train shape: (25000, 80)\n",
      "x_test shape: (25000, 80)\n"
     ]
    }
   ],
   "source": [
    "print('Pad sequences (samples x time)')\n",
    "x_train = sequence.pad_sequences(x_train, maxlen=maxlen)\n",
    "x_test = sequence.pad_sequences(x_test, maxlen=maxlen)\n",
    "print('x_train shape:', x_train.shape)\n",
    "print('x_test shape:', x_test.shape)"
   ]
  },
  {
   "cell_type": "code",
   "execution_count": 156,
   "metadata": {},
   "outputs": [
    {
     "name": "stdout",
     "output_type": "stream",
     "text": [
      "[   15   256     4     2     7  3766     5   723    36    71    43   530\n",
      "   476    26   400   317    46     7     4 12118  1029    13   104    88\n",
      "     4   381    15   297    98    32  2071    56    26   141     6   194\n",
      "  7486    18     4   226    22    21   134   476    26   480     5   144\n",
      "    30  5535    18    51    36    28   224    92    25   104     4   226\n",
      "    65    16    38  1334    88    12    16   283     5    16  4472   113\n",
      "   103    32    15    16  5345    19   178    32]\n",
      "[ 125   68    2 6853   15  349  165 4362   98    5    4  228    9   43\n",
      "    2 1157   15  299  120    5  120  174   11  220  175  136   50    9\n",
      " 4373  228 8255    5    2  656  245 2350    5    4 9837  131  152  491\n",
      "   18    2   32 7464 1212   14    9    6  371   78   22  625   64 1382\n",
      "    9    8  168  145   23    4 1690   15   16    4 1355    5   28    6\n",
      "   52  154  462   33   89   78  285   16  145   95]\n"
     ]
    }
   ],
   "source": [
    "print(x_train[0])\n",
    "print(x_train[1])"
   ]
  },
  {
   "cell_type": "code",
   "execution_count": 157,
   "metadata": {},
   "outputs": [
    {
     "name": "stdout",
     "output_type": "stream",
     "text": [
      "Build model...\n"
     ]
    }
   ],
   "source": [
    "print('Build model...')\n",
    "model = Sequential()\n",
    "model.add(Embedding(max_features, 128))\n",
    "model.add(LSTM(128))\n",
    "model.add(Dense(1, activation='sigmoid'))\n",
    "\n",
    "# try using different optimizers and different optimizer configs\n",
    "model.compile(loss='binary_crossentropy',\n",
    "              optimizer='adam',\n",
    "              metrics=['accuracy'])"
   ]
  },
  {
   "cell_type": "code",
   "execution_count": 158,
   "metadata": {},
   "outputs": [
    {
     "name": "stdout",
     "output_type": "stream",
     "text": [
      "Train...\n",
      "Train on 25000 samples, validate on 25000 samples\n",
      "Epoch 1/2\n",
      "25000/25000 [==============================] - 109s 4ms/step - loss: 0.4292 - accuracy: 0.7968 - val_loss: 0.3567 - val_accuracy: 0.8427\n",
      "Epoch 2/2\n",
      "25000/25000 [==============================] - 107s 4ms/step - loss: 0.2526 - accuracy: 0.9000 - val_loss: 0.4002 - val_accuracy: 0.8204\n",
      "Wall time: 3min 37s\n"
     ]
    }
   ],
   "source": [
    "%%time\n",
    "print('Train...')\n",
    "model.fit(x_train, y_train,\n",
    "          batch_size=batch_size,\n",
    "          epochs=2, #15\n",
    "          validation_data=(x_test, y_test))"
   ]
  },
  {
   "cell_type": "code",
   "execution_count": 159,
   "metadata": {},
   "outputs": [
    {
     "name": "stdout",
     "output_type": "stream",
     "text": [
      "25000/25000 [==============================] - 21s 836us/step\n",
      "Test score: 0.4001913144683838\n",
      "Test accuracy: 0.8204399943351746\n"
     ]
    }
   ],
   "source": [
    "score, acc = model.evaluate(x_test, y_test,\n",
    "                            batch_size=batch_size)\n",
    "print('Test score:', score)\n",
    "print('Test accuracy:', acc)"
   ]
  },
  {
   "cell_type": "markdown",
   "metadata": {},
   "source": [
    "# 네이버"
   ]
  },
  {
   "cell_type": "code",
   "execution_count": 2,
   "metadata": {
    "ExecuteTime": {
     "end_time": "2020-02-10T08:00:16.932745Z",
     "start_time": "2020-02-10T08:00:16.380967Z"
    }
   },
   "outputs": [],
   "source": [
    "train_data= pd.read_table('./ratings_train.txt')\n",
    "test_data= pd.read_table('./ratings_test.txt')\n",
    "\n",
    "train_data=train_data.dropna(how='any') # Null 값이 존재하는 행 제거\n",
    "train_data['document'] = train_data['document'].str.replace(\"[^ㄱ-ㅎㅏ-ㅣ가-힣 ]\",\"\")\n",
    "stopwords=['의','가','이','은','들','는','좀','잘','걍','과','도','를','으로','자','에','와','한','하다']"
   ]
  },
  {
   "cell_type": "code",
   "execution_count": 3,
   "metadata": {
    "ExecuteTime": {
     "end_time": "2020-02-10T08:03:26.550018Z",
     "start_time": "2020-02-10T08:00:18.980735Z"
    }
   },
   "outputs": [],
   "source": [
    "okt = Okt()\n",
    "X_train=[]\n",
    "for sentence in train_data['document']:\n",
    "    temp_X = []\n",
    "    temp_X=okt.morphs(sentence, stem=True) # 토큰화\n",
    "    temp_X=[word for word in temp_X if not word in stopwords] # 불용어 제거\n",
    "    X_train.append(temp_X)   "
   ]
  },
  {
   "cell_type": "code",
   "execution_count": 5,
   "metadata": {
    "ExecuteTime": {
     "end_time": "2020-02-10T08:04:32.446824Z",
     "start_time": "2020-02-10T08:03:31.116792Z"
    }
   },
   "outputs": [],
   "source": [
    "test_data=test_data.dropna(how='any') # Null 값 제거\n",
    "test_data['document'] = test_data['document'].str.replace(\"[^ㄱ-ㅎㅏ-ㅣ가-힣 ]\",\"\") # 정규 표현식 수행\n",
    "\n",
    "X_test=[]\n",
    "for sentence in test_data['document']:\n",
    "    temp_X = []\n",
    "    temp_X=okt.morphs(sentence, stem=True) # 토큰화\n",
    "    temp_X=[word for word in temp_X if not word in stopwords] # 불용어 제거\n",
    "    X_test.append(temp_X)"
   ]
  },
  {
   "cell_type": "code",
   "execution_count": 6,
   "metadata": {
    "ExecuteTime": {
     "end_time": "2020-02-10T08:05:27.967159Z",
     "start_time": "2020-02-10T08:05:26.036158Z"
    }
   },
   "outputs": [],
   "source": [
    "max_words = 35000\n",
    "tokenizer = Tokenizer(num_words=max_words) # 상위 35,000개의 단어만 보존\n",
    "tokenizer.fit_on_texts(X_train)\n",
    "X_train = tokenizer.texts_to_sequences(X_train)\n",
    "X_test = tokenizer.texts_to_sequences(X_test)"
   ]
  },
  {
   "cell_type": "code",
   "execution_count": 14,
   "metadata": {
    "ExecuteTime": {
     "end_time": "2020-02-10T08:07:53.810081Z",
     "start_time": "2020-02-10T08:07:53.187430Z"
    }
   },
   "outputs": [],
   "source": [
    "max_len=30\n",
    "# 전체 데이터의 길이는 30으로 맞춘다.\n",
    "X_train = pad_sequences(X_train, maxlen=max_len)\n",
    "X_test = pad_sequences(X_test, maxlen=max_len)\n",
    "y_train=np.array(train_data['label'])\n",
    "y_test=np.array(test_data['label'])"
   ]
  },
  {
   "cell_type": "code",
   "execution_count": 15,
   "metadata": {
    "ExecuteTime": {
     "end_time": "2020-02-10T08:07:55.554653Z",
     "start_time": "2020-02-10T08:07:55.259680Z"
    }
   },
   "outputs": [],
   "source": [
    "model = Sequential()\n",
    "model.add(Embedding(max_words, 100))\n",
    "model.add(LSTM(128))\n",
    "model.add(Dense(1, activation='sigmoid'))\n",
    "\n",
    "model.compile(optimizer='adam', loss='binary_crossentropy', metrics=['accuracy'])\n"
   ]
  },
  {
   "cell_type": "code",
   "execution_count": null,
   "metadata": {
    "ExecuteTime": {
     "start_time": "2020-02-10T08:08:09.865Z"
    }
   },
   "outputs": [
    {
     "name": "stderr",
     "output_type": "stream",
     "text": [
      "C:\\ProgramData\\Anaconda3\\lib\\site-packages\\tensorflow_core\\python\\framework\\indexed_slices.py:433: UserWarning: Converting sparse IndexedSlices to a dense Tensor of unknown shape. This may consume a large amount of memory.\n",
      "  \"Converting sparse IndexedSlices to a dense Tensor of unknown shape. \"\n"
     ]
    },
    {
     "name": "stdout",
     "output_type": "stream",
     "text": [
      "Train on 119996 samples, validate on 29999 samples\n",
      "Epoch 1/2\n",
      " 90900/119996 [=====================>........] - ETA: 31s - loss: 0.3995 - accuracy: 0.8156"
     ]
    }
   ],
   "source": [
    "history = model.fit(X_train, y_train, epochs=2, batch_size=60, validation_split=0.2)  # 1번 2분  84% -> 85%"
   ]
  },
  {
   "cell_type": "code",
   "execution_count": null,
   "metadata": {
    "ExecuteTime": {
     "start_time": "2020-02-10T08:08:13.416Z"
    }
   },
   "outputs": [],
   "source": [
    "# 9:48\n",
    "print(\"\\n 테스트 정확도: %.4f\" % (model.evaluate(X_test, y_test)[1]))"
   ]
  },
  {
   "cell_type": "code",
   "execution_count": null,
   "metadata": {},
   "outputs": [],
   "source": [
    "model.evaluate(x_test, y_test)"
   ]
  }
 ],
 "metadata": {
  "kernelspec": {
   "display_name": "Python 3",
   "language": "python",
   "name": "python3"
  },
  "language_info": {
   "codemirror_mode": {
    "name": "ipython",
    "version": 3
   },
   "file_extension": ".py",
   "mimetype": "text/x-python",
   "name": "python",
   "nbconvert_exporter": "python",
   "pygments_lexer": "ipython3",
   "version": "3.7.4"
  },
  "varInspector": {
   "cols": {
    "lenName": 16,
    "lenType": 16,
    "lenVar": 40
   },
   "kernels_config": {
    "python": {
     "delete_cmd_postfix": "",
     "delete_cmd_prefix": "del ",
     "library": "var_list.py",
     "varRefreshCmd": "print(var_dic_list())"
    },
    "r": {
     "delete_cmd_postfix": ") ",
     "delete_cmd_prefix": "rm(",
     "library": "var_list.r",
     "varRefreshCmd": "cat(var_dic_list()) "
    }
   },
   "types_to_exclude": [
    "module",
    "function",
    "builtin_function_or_method",
    "instance",
    "_Feature"
   ],
   "window_display": false
  }
 },
 "nbformat": 4,
 "nbformat_minor": 2
}
