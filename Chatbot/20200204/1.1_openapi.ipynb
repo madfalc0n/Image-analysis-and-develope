{
 "cells": [
  {
   "cell_type": "code",
   "execution_count": 1,
   "metadata": {
    "ExecuteTime": {
     "end_time": "2020-02-05T05:26:59.060256Z",
     "start_time": "2020-02-05T05:26:58.936738Z"
    }
   },
   "outputs": [],
   "source": [
    "import requests\n",
    "import json\n"
   ]
  },
  {
   "cell_type": "code",
   "execution_count": 2,
   "metadata": {
    "ExecuteTime": {
     "end_time": "2020-02-05T05:27:00.019311Z",
     "start_time": "2020-02-05T05:27:00.014298Z"
    }
   },
   "outputs": [],
   "source": [
    "def get_answer(text, sessionId):\n",
    "    data_send = {\n",
    "        'query': text, \n",
    "        'sessionId': sessionId,\n",
    "        'lang': 'ko', \n",
    "        'timezone' : 'Asia/Seoul'\n",
    "    }\n",
    "    data_header = {\n",
    "        'Authorization': 'Bearer 개인 키값', #개인 키값 \n",
    "        'Content-Type': 'application/json; charset=utf-8'     \n",
    "    }\n",
    "\n",
    "    dialogflow_url = 'https://api.dialogflow.com/v1/query?v=20150910'\n",
    "    \n",
    "    res = requests.post(dialogflow_url, data=json.dumps(data_send), headers=data_header) \n",
    "    # post 형식으로 전송, url, data 는 문자열(json.dumps는 dict 타입을 문자열로 만듬), 추가할 헤더(dict 타입) \n",
    "    # json() 함수는 문자열을 dict 로 변경 json.dumps()는 dict를 문자로\n",
    "    \n",
    "    if res.status_code == requests.codes.ok:\n",
    "        return res.json()    \n",
    "    return {}"
   ]
  },
  {
   "cell_type": "code",
   "execution_count": 5,
   "metadata": {
    "ExecuteTime": {
     "end_time": "2020-02-04T06:37:45.085083Z",
     "start_time": "2020-02-04T06:37:44.479871Z"
    }
   },
   "outputs": [
    {
     "name": "stdout",
     "output_type": "stream",
     "text": [
      "Bot:날짜도 알려줘!\n"
     ]
    }
   ],
   "source": [
    "dict = get_answer(\"부산 날씨 어때\", 'user01') # 다이얼로그에 입력할 내용 , 세션아이디(유저구분용)\n",
    "answer = dict['result']['fulfillment']['speech']\n",
    "print(\"Bot:\" + answer)"
   ]
  },
  {
   "cell_type": "code",
   "execution_count": 19,
   "metadata": {
    "ExecuteTime": {
     "end_time": "2020-02-04T07:27:24.328259Z",
     "start_time": "2020-02-04T07:27:15.796351Z"
    }
   },
   "outputs": [
    {
     "name": "stdout",
     "output_type": "stream",
     "text": [
      "안녕\n",
      "나: 안녕\n",
      "Bot:반갑습니다\n",
      "exit\n"
     ]
    }
   ],
   "source": [
    "while(True):\n",
    "    a = input()\n",
    "    if a == 'exit':\n",
    "        break\n",
    "        \n",
    "    dict = get_answer(a, 'user01') # 다이얼로그에 입력할 내용 , 세션아이디(유저구분용)\n",
    "    answer = dict['result']['fulfillment']['speech']\n",
    "    print(\"나: \"+a)\n",
    "    print(\"Bot:\" + answer)"
   ]
  },
  {
   "cell_type": "code",
   "execution_count": 195,
   "metadata": {
    "ExecuteTime": {
     "end_time": "2020-02-04T11:12:57.156917Z",
     "start_time": "2020-02-04T11:12:56.532369Z"
    },
    "scrolled": false
   },
   "outputs": [
    {
     "name": "stdout",
     "output_type": "stream",
     "text": [
      "16000\n"
     ]
    }
   ],
   "source": [
    "a = \"짜장면 2개, 짬뽕 1개, 라조기 3개 주세요\"\n",
    "\n",
    "dict = get_answer(a, 'user01') # 다이얼로그에 입력할 내용 , 세션아이디(유저구분용)\n",
    "answer = dict['result']['fulfillment']['speech']\n",
    "    \n",
    "if res['result']['metadata']['intentName'] == 'weather' and res['result']['actionIncomplete'] == False:\n",
    "    date = res['result']['parameters']['date']\n",
    "    geo_city = res['result']['parameters']['geo-city']\n",
    "    print(\"날씨 \", data, geo_city)\n",
    "\n",
    "    \n",
    "elif res['result']['metadata']['intentName'] == 'order2' and res['result']['actionIncomplete'] == False:\n",
    "    price = {'짜장면':5000 , '짬뽕':6000, '탕수육': 12000}\n",
    "    params = dict['result']['parameters']['food_number']\n",
    "    output = [ int(food.get('foodnumber', 1)*price[food[\"foodname\"]]) for food in params]\n",
    "    print(sum(output))\n",
    "    \n",
    "#     order_food = dict['result']['parameters']['food_number']\n",
    "#     order_set = {}\n",
    "#     sum = 0\n",
    "#     for i in range(len(order_food)):\n",
    "#         foodname = order_food[i]['foodname']\n",
    "#         foodnumber = int(order_food[i]['foodnumber'])\n",
    "#         if foodname == '짜장면':\n",
    "#             sum += foodnumber*5000\n",
    "#         elif foodname == '짬뽕':    \n",
    "#             sum += foodnumber*6000\n",
    "#         elif foodname == '탕수육':    \n",
    "#             sum += foodnumber*12000\n",
    "#         order_set[foodname] = foodnumber\n",
    "    \n",
    "#     print(order_set)\n",
    "#     print(\"총 지불해야 할 금액은 {0}원 입니다.\".format(sum))\n",
    "    \n",
    "else:\n",
    "    print(\"Bot: \" + answer)\n",
    "    \n",
    "    \n",
    "#dict['result']['parameters']['food_number']"
   ]
  },
  {
   "cell_type": "code",
   "execution_count": 6,
   "metadata": {
    "ExecuteTime": {
     "end_time": "2020-02-05T00:48:58.285907Z",
     "start_time": "2020-02-05T00:48:58.278958Z"
    }
   },
   "outputs": [
    {
     "name": "stdout",
     "output_type": "stream",
     "text": [
      "2.0\n",
      "60000.0\n"
     ]
    }
   ],
   "source": [
    "data = [{'number-integer': 2.0, 'food': '짜장면'}, {'number-integer': 5.0, 'food': '짬뽕'}]\n",
    "price = {\"짜장면\":5000, \"짬뽕\":10000, \"탕수육\":20000}\n",
    "print(data[0].get(\"number-integer\", 1))\n",
    "\n",
    "\n",
    "\n",
    "\n",
    "\n",
    "output = [  food.get(\"number-integer\", 1)*price[food[\"food\"]]   for food in data   ] \n",
    "\n",
    "print(sum(output))"
   ]
  }
 ],
 "metadata": {
  "kernelspec": {
   "display_name": "Python 3",
   "language": "python",
   "name": "python3"
  },
  "language_info": {
   "codemirror_mode": {
    "name": "ipython",
    "version": 3
   },
   "file_extension": ".py",
   "mimetype": "text/x-python",
   "name": "python",
   "nbconvert_exporter": "python",
   "pygments_lexer": "ipython3",
   "version": "3.7.4"
  },
  "varInspector": {
   "cols": {
    "lenName": 16,
    "lenType": 16,
    "lenVar": 40
   },
   "kernels_config": {
    "python": {
     "delete_cmd_postfix": "",
     "delete_cmd_prefix": "del ",
     "library": "var_list.py",
     "varRefreshCmd": "print(var_dic_list())"
    },
    "r": {
     "delete_cmd_postfix": ") ",
     "delete_cmd_prefix": "rm(",
     "library": "var_list.r",
     "varRefreshCmd": "cat(var_dic_list()) "
    }
   },
   "types_to_exclude": [
    "module",
    "function",
    "builtin_function_or_method",
    "instance",
    "_Feature"
   ],
   "window_display": false
  }
 },
 "nbformat": 4,
 "nbformat_minor": 2
}
