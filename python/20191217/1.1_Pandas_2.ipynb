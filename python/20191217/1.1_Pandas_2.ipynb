{
 "cells": [
  {
   "cell_type": "markdown",
   "metadata": {},
   "source": [
    "## Pandas"
   ]
  },
  {
   "cell_type": "markdown",
   "metadata": {},
   "source": [
    "## DataFrame\n",
    "1. 판다스의 2차원 자료 구조 객체(Matrix)\n",
    " - 데이터프레임(컬럼, 데이터, 인덱스)\n",
    "2. ndarray, dict, list 등 다양한 데이터 타입으로부터 pandas의 DataFrame 생성"
   ]
  },
  {
   "cell_type": "code",
   "execution_count": 20,
   "metadata": {},
   "outputs": [],
   "source": [
    "import pandas as pd\n",
    "import numpy as np"
   ]
  },
  {
   "cell_type": "code",
   "execution_count": 2,
   "metadata": {},
   "outputs": [
    {
     "name": "stdout",
     "output_type": "stream",
     "text": [
      "<class 'pandas.core.frame.DataFrame'>\n",
      "   c0  c1  c2  c3  c4\n",
      "0   1   4   7  10  13\n",
      "1   2   5   8  11  14\n",
      "2   3   6   9  12  15\n"
     ]
    }
   ],
   "source": [
    "dict_data = {'c0': [1,2,3], 'c1': [4,5,6], 'c2': [7,8,9], 'c3': [10,11,12], 'c4': [13,14,15]}\n",
    "df = pd.DataFrame(dict_data)\n",
    "print(type(df))\n",
    "print(df)"
   ]
  },
  {
   "cell_type": "code",
   "execution_count": 13,
   "metadata": {},
   "outputs": [],
   "source": [
    "# 데이터와 행인덱스, 열 이름을 지정해서 DataFrame 생성\n",
    "df2 = pd.DataFrame([[25,'남' , '율도국'],[17, '여', '인당수']], index=['홍길동', '심청'], columns=['나이', '성별', '주소'])"
   ]
  },
  {
   "cell_type": "code",
   "execution_count": 14,
   "metadata": {},
   "outputs": [
    {
     "name": "stdout",
     "output_type": "stream",
     "text": [
      "<class 'pandas.core.frame.DataFrame'>\n",
      "     나이 성별   주소\n",
      "홍길동  25  남  율도국\n",
      "심청   17  여  인당수\n",
      "Index(['홍길동', '심청'], dtype='object')\n",
      "Index(['나이', '성별', '주소'], dtype='object')\n",
      "2047088462792\n"
     ]
    }
   ],
   "source": [
    "print(type(df2))\n",
    "print(df2)\n",
    "print(df2.index)\n",
    "print(df2.columns)\n",
    "print(id(df2))"
   ]
  },
  {
   "cell_type": "code",
   "execution_count": 15,
   "metadata": {},
   "outputs": [
    {
     "data": {
      "text/html": [
       "<div>\n",
       "<style scoped>\n",
       "    .dataframe tbody tr th:only-of-type {\n",
       "        vertical-align: middle;\n",
       "    }\n",
       "\n",
       "    .dataframe tbody tr th {\n",
       "        vertical-align: top;\n",
       "    }\n",
       "\n",
       "    .dataframe thead th {\n",
       "        text-align: right;\n",
       "    }\n",
       "</style>\n",
       "<table border=\"1\" class=\"dataframe\">\n",
       "  <thead>\n",
       "    <tr style=\"text-align: right;\">\n",
       "      <th></th>\n",
       "      <th>나이</th>\n",
       "      <th>성별</th>\n",
       "      <th>주소</th>\n",
       "    </tr>\n",
       "  </thead>\n",
       "  <tbody>\n",
       "    <tr>\n",
       "      <td>주인공1</td>\n",
       "      <td>25</td>\n",
       "      <td>남</td>\n",
       "      <td>율도국</td>\n",
       "    </tr>\n",
       "    <tr>\n",
       "      <td>주인공2</td>\n",
       "      <td>17</td>\n",
       "      <td>여</td>\n",
       "      <td>인당수</td>\n",
       "    </tr>\n",
       "  </tbody>\n",
       "</table>\n",
       "</div>"
      ],
      "text/plain": [
       "      나이 성별   주소\n",
       "주인공1  25  남  율도국\n",
       "주인공2  17  여  인당수"
      ]
     },
     "execution_count": 15,
     "metadata": {},
     "output_type": "execute_result"
    }
   ],
   "source": [
    "df2.index = ['주인공1','주인공2'] #행 변경\n",
    "df2"
   ]
  },
  {
   "cell_type": "code",
   "execution_count": 16,
   "metadata": {},
   "outputs": [],
   "source": [
    "df2.columns = ['age','gender','address'] #열 변경"
   ]
  },
  {
   "cell_type": "code",
   "execution_count": 17,
   "metadata": {},
   "outputs": [
    {
     "data": {
      "text/html": [
       "<div>\n",
       "<style scoped>\n",
       "    .dataframe tbody tr th:only-of-type {\n",
       "        vertical-align: middle;\n",
       "    }\n",
       "\n",
       "    .dataframe tbody tr th {\n",
       "        vertical-align: top;\n",
       "    }\n",
       "\n",
       "    .dataframe thead th {\n",
       "        text-align: right;\n",
       "    }\n",
       "</style>\n",
       "<table border=\"1\" class=\"dataframe\">\n",
       "  <thead>\n",
       "    <tr style=\"text-align: right;\">\n",
       "      <th></th>\n",
       "      <th>age</th>\n",
       "      <th>gender</th>\n",
       "      <th>address</th>\n",
       "    </tr>\n",
       "  </thead>\n",
       "  <tbody>\n",
       "    <tr>\n",
       "      <td>주인공1</td>\n",
       "      <td>25</td>\n",
       "      <td>남</td>\n",
       "      <td>율도국</td>\n",
       "    </tr>\n",
       "    <tr>\n",
       "      <td>주인공2</td>\n",
       "      <td>17</td>\n",
       "      <td>여</td>\n",
       "      <td>인당수</td>\n",
       "    </tr>\n",
       "  </tbody>\n",
       "</table>\n",
       "</div>"
      ],
      "text/plain": [
       "      age gender address\n",
       "주인공1   25      남     율도국\n",
       "주인공2   17      여     인당수"
      ]
     },
     "execution_count": 17,
     "metadata": {},
     "output_type": "execute_result"
    }
   ],
   "source": [
    "df2"
   ]
  },
  {
   "cell_type": "code",
   "execution_count": 18,
   "metadata": {},
   "outputs": [
    {
     "name": "stdout",
     "output_type": "stream",
     "text": [
      "2047088462792\n"
     ]
    }
   ],
   "source": [
    "print(id(df2))"
   ]
  },
  {
   "cell_type": "code",
   "execution_count": 24,
   "metadata": {},
   "outputs": [
    {
     "data": {
      "text/html": [
       "<div>\n",
       "<style scoped>\n",
       "    .dataframe tbody tr th:only-of-type {\n",
       "        vertical-align: middle;\n",
       "    }\n",
       "\n",
       "    .dataframe tbody tr th {\n",
       "        vertical-align: top;\n",
       "    }\n",
       "\n",
       "    .dataframe thead th {\n",
       "        text-align: right;\n",
       "    }\n",
       "</style>\n",
       "<table border=\"1\" class=\"dataframe\">\n",
       "  <thead>\n",
       "    <tr style=\"text-align: right;\">\n",
       "      <th></th>\n",
       "      <th>0</th>\n",
       "      <th>1</th>\n",
       "      <th>2</th>\n",
       "    </tr>\n",
       "  </thead>\n",
       "  <tbody>\n",
       "    <tr>\n",
       "      <td>0</td>\n",
       "      <td>1</td>\n",
       "      <td>2</td>\n",
       "      <td>3</td>\n",
       "    </tr>\n",
       "    <tr>\n",
       "      <td>1</td>\n",
       "      <td>4</td>\n",
       "      <td>5</td>\n",
       "      <td>6</td>\n",
       "    </tr>\n",
       "  </tbody>\n",
       "</table>\n",
       "</div>"
      ],
      "text/plain": [
       "   0  1  2\n",
       "0  1  2  3\n",
       "1  4  5  6"
      ]
     },
     "metadata": {},
     "output_type": "display_data"
    },
    {
     "data": {
      "text/html": [
       "<div>\n",
       "<style scoped>\n",
       "    .dataframe tbody tr th:only-of-type {\n",
       "        vertical-align: middle;\n",
       "    }\n",
       "\n",
       "    .dataframe tbody tr th {\n",
       "        vertical-align: top;\n",
       "    }\n",
       "\n",
       "    .dataframe thead th {\n",
       "        text-align: right;\n",
       "    }\n",
       "</style>\n",
       "<table border=\"1\" class=\"dataframe\">\n",
       "  <thead>\n",
       "    <tr style=\"text-align: right;\">\n",
       "      <th></th>\n",
       "      <th>age</th>\n",
       "      <th>gender</th>\n",
       "      <th>address</th>\n",
       "    </tr>\n",
       "  </thead>\n",
       "  <tbody>\n",
       "    <tr>\n",
       "      <td>주인공1</td>\n",
       "      <td>25</td>\n",
       "      <td>남</td>\n",
       "      <td>율도국</td>\n",
       "    </tr>\n",
       "    <tr>\n",
       "      <td>주인공2</td>\n",
       "      <td>17</td>\n",
       "      <td>여</td>\n",
       "      <td>인당수</td>\n",
       "    </tr>\n",
       "  </tbody>\n",
       "</table>\n",
       "</div>"
      ],
      "text/plain": [
       "      age gender address\n",
       "주인공1   25      남     율도국\n",
       "주인공2   17      여     인당수"
      ]
     },
     "metadata": {},
     "output_type": "display_data"
    }
   ],
   "source": [
    "# IPython.display은 IPython 셸 환경에서 dataframe을 테이블 형식으로 표현합니다.\n",
    "from IPython.display import display\n",
    "my_2darray = np.array([[1,2,3], [4,5,6]])\n",
    "display(pd.DataFrame(my_2darray))\n",
    "display(df2)"
   ]
  },
  {
   "cell_type": "code",
   "execution_count": 35,
   "metadata": {},
   "outputs": [
    {
     "name": "stdout",
     "output_type": "stream",
     "text": [
      "    수학  영어   국어  과학\n",
      "영희  90  95  100  70\n",
      "철수  80  89   80  70\n",
      "삼식  70  90   75  70\n",
      "2047122734344\n"
     ]
    }
   ],
   "source": [
    "exam_data= {'수학': [90,80,70],\n",
    "                  '영어': [95,89,90],\n",
    "                  '국어': [100,80,75],\n",
    "                  '과학': [70,70,70]}\n",
    "df = pd.DataFrame(exam_data, index=['영희', '철수', '삼식'])\n",
    "print(df)\n",
    "print(id(df))"
   ]
  },
  {
   "cell_type": "code",
   "execution_count": 34,
   "metadata": {},
   "outputs": [
    {
     "name": "stdout",
     "output_type": "stream",
     "text": [
      "    수학  영어   국어  과학\n",
      "영희  90  95  100  70\n",
      "철수  80  89   80  70\n",
      "삼식  70  90   75  70\n",
      "2047090024520\n",
      "    수학  영어   국어  과학\n",
      "영희  90  95  100  70\n",
      "철수  80  89   80  70\n",
      "삼식  70  90   75  70\n",
      "    수학  영어   국어  과학\n",
      "영희  90  95  100  70\n",
      "철수  80  89   80  70\n"
     ]
    }
   ],
   "source": [
    "#행삭제\n",
    "df2 = df[:]  # 새로운 DataFrame 객체를 복제\n",
    "print(id(df2))\n",
    "result = df2.drop('삼식') # 행 인덱스(label)로 행 삭제한 새로운 데이터프레임 객체 생성 반환\n",
    "print(df2)\n",
    "print(id(df2))\n",
    "print(df)\n",
    "df2.drop('삼식', inplace=True) #행 삭제한 새로운 데이터프레임 객체 반환대신 자기자신의 행 삭제\n",
    "print(df2)"
   ]
  },
  {
   "cell_type": "code",
   "execution_count": 37,
   "metadata": {},
   "outputs": [
    {
     "name": "stdout",
     "output_type": "stream",
     "text": [
      "2047122709000\n",
      "    영어   국어  과학\n",
      "영희  95  100  70\n",
      "철수  89   80  70\n",
      "삼식  90   75  70\n"
     ]
    }
   ],
   "source": [
    "#열삭제\n",
    "df2 = df[ : ]  # 새로운 DataFrame객체를 복제함\n",
    "print(id(df2))\n",
    "df2.drop('수학', axis=1,  inplace=True) \n",
    "print(df2)"
   ]
  },
  {
   "cell_type": "code",
   "execution_count": 38,
   "metadata": {},
   "outputs": [
    {
     "name": "stdout",
     "output_type": "stream",
     "text": [
      "수학    80\n",
      "영어    89\n",
      "국어    80\n",
      "과학    70\n",
      "Name: 철수, dtype: int64\n",
      "수학     90\n",
      "영어     95\n",
      "국어    100\n",
      "과학     70\n",
      "Name: 영희, dtype: int64\n"
     ]
    }
   ],
   "source": [
    "student1 = df.loc['철수']   #label 을 사용해서 행을 선택 - 라벨 인덱스라고 함\n",
    "print(student1)\n",
    "student2 = df.iloc[0]  #index 을 사용해서 행을 선택 - 인덱스라고 함\n",
    "print(student2)"
   ]
  },
  {
   "cell_type": "code",
   "execution_count": 53,
   "metadata": {},
   "outputs": [
    {
     "name": "stdout",
     "output_type": "stream",
     "text": [
      "    수학  영어  국어  과학\n",
      "철수  80  89  80  70\n",
      "삼식  70  90  75  70\n",
      "\n",
      "    수학  영어   국어  과학\n",
      "영희  90  95  100  70\n",
      "철수  80  89   80  70\n",
      "\n",
      "    수학  영어   국어  과학\n",
      "영희  90  95  100  70\n",
      "철수  80  89   80  70\n",
      "삼식  70  90   75  70\n",
      "\n",
      "    수학  영어   국어  과학\n",
      "영희  90  95  100  70\n",
      "철수  80  89   80  70\n",
      "\n"
     ]
    }
   ],
   "source": [
    "exam_data= {'수학': [90,80,70],\n",
    "                  '영어': [95,89,90],\n",
    "                  '국어': [100,80,75],\n",
    "                  '과학': [70,70,70]}\n",
    "df = pd.DataFrame(exam_data, index=['영희', '철수', '삼식'])\n",
    "\n",
    "students1 = df.loc[['철수','삼식']]   #label 을 사용해서 2개 이상 행을 선택\n",
    "print(students1)\n",
    "print()\n",
    "students2 = df.iloc[[0,1]]  #index 을 사용해서 2개 이상 행을 선택\n",
    "print(students2)\n",
    "print()\n",
    "\n",
    "students3 = df.loc['영희':'삼식']   #label 을 사용해서 2개 이상 행을 선택\n",
    "print(students3)\n",
    "print()\n",
    "students4 = df.iloc[0:2]  #index 을 사용해서 2개 이상 행을 선택\n",
    "print(students4)\n",
    "print()"
   ]
  },
  {
   "cell_type": "code",
   "execution_count": 54,
   "metadata": {},
   "outputs": [
    {
     "name": "stdout",
     "output_type": "stream",
     "text": [
      "   이름  수학  영어   국어  과학\n",
      "0  영희  90  95  100  70\n",
      "1  철수  80  89   80  70\n",
      "2  삼식  70  90   75  70\n"
     ]
    }
   ],
   "source": [
    "exam_data= {'이름' : ['영희', '철수', '삼식'],\n",
    "                  '수학': [90,80,70],\n",
    "                  '영어': [95,89,90],\n",
    "                  '국어': [100,80,75],\n",
    "                  '과학': [70,70,70]}\n",
    "df = pd.DataFrame(exam_data)\n",
    "print(df)"
   ]
  },
  {
   "cell_type": "code",
   "execution_count": 56,
   "metadata": {},
   "outputs": [
    {
     "name": "stdout",
     "output_type": "stream",
     "text": [
      "0    90\n",
      "1    80\n",
      "2    70\n",
      "Name: 수학, dtype: int64\n",
      "0    90\n",
      "1    80\n",
      "2    70\n",
      "Name: 수학, dtype: int64\n"
     ]
    }
   ],
   "source": [
    "print(df['수학'])\n",
    "print(df.수학)"
   ]
  },
  {
   "cell_type": "code",
   "execution_count": 58,
   "metadata": {},
   "outputs": [
    {
     "name": "stdout",
     "output_type": "stream",
     "text": [
      "0    95\n",
      "1    89\n",
      "2    90\n",
      "Name: 영어, dtype: int64\n",
      "<class 'pandas.core.series.Series'>\n"
     ]
    }
   ],
   "source": [
    "eng = df.영어\n",
    "print(eng)\n",
    "print(type(eng)) #Series"
   ]
  },
  {
   "cell_type": "code",
   "execution_count": 64,
   "metadata": {},
   "outputs": [
    {
     "name": "stdout",
     "output_type": "stream",
     "text": [
      "   수학   국어\n",
      "0  90  100\n",
      "1  80   80\n",
      "2  70   75\n",
      "<class 'pandas.core.frame.DataFrame'>\n"
     ]
    }
   ],
   "source": [
    "sub = df[['수학','국어']]\n",
    "print(sub)\n",
    "print(type(sub)) #DataFrame"
   ]
  },
  {
   "cell_type": "code",
   "execution_count": 65,
   "metadata": {},
   "outputs": [
    {
     "name": "stdout",
     "output_type": "stream",
     "text": [
      "   이름  수학  영어   국어  과학\n",
      "0  영희  90  95  100  70\n",
      "1  철수  80  89   80  70\n",
      "2  삼식  70  90   75  70\n",
      "    수학  영어   국어  과학\n",
      "이름                 \n",
      "영희  90  95  100  70\n",
      "철수  80  89   80  70\n",
      "삼식  70  90   75  70\n"
     ]
    }
   ],
   "source": [
    "print(df)\n",
    "df.set_index('이름',inplace = True) #인덱스를 컬럼'이름'으로 지정함\n",
    "print(df)"
   ]
  },
  {
   "cell_type": "code",
   "execution_count": 71,
   "metadata": {},
   "outputs": [
    {
     "name": "stdout",
     "output_type": "stream",
     "text": [
      "수학    80\n",
      "과학    70\n",
      "Name: 철수, dtype: int64\n",
      "수학    80\n",
      "과학    70\n",
      "Name: 철수, dtype: int64\n"
     ]
    }
   ],
   "source": [
    "#철수의 수학,과학 점수 선택 출력\n",
    "print(df.loc['철수', ['수학','과학']])\n",
    "print(df.iloc[1, [0,3]])"
   ]
  },
  {
   "cell_type": "code",
   "execution_count": 73,
   "metadata": {},
   "outputs": [
    {
     "name": "stdout",
     "output_type": "stream",
     "text": [
      "수학    80\n",
      "과학    70\n",
      "Name: 철수, dtype: int64\n",
      "수학    80\n",
      "과학    70\n",
      "Name: 철수, dtype: int64\n",
      "국어    80\n",
      "과학    70\n",
      "Name: 철수, dtype: int64\n",
      "국어    80\n",
      "과학    70\n",
      "Name: 철수, dtype: int64\n"
     ]
    }
   ],
   "source": [
    "# 철수의 수학, 과학 점수 선택 출력 (label인덱스와 index 사용합니다.)\n",
    "a = df.loc[ '철수', ['수학', '과학' ]]\n",
    "print(a)\n",
    "\n",
    "b = df.iloc[ 1, [0, 3 ]]\n",
    "print(b)\n",
    "\n",
    "# 철수의 국어, 과학 점수 선택 출력\n",
    "a = df.loc[ '철수',  '국어':'과학']\n",
    "print(a)\n",
    "\n",
    "b = df.iloc[ 1, 2: ]\n",
    "print(b)\n"
   ]
  },
  {
   "cell_type": "code",
   "execution_count": 78,
   "metadata": {},
   "outputs": [
    {
     "name": "stdout",
     "output_type": "stream",
     "text": [
      "   이름  수학  영어   국어  과학\n",
      "0  영희  90  95  100  70\n",
      "1  철수  80  89   80  70\n",
      "2  삼식  70  90   75  70\n",
      "   이름  수학  영어   국어  과학\n",
      "0  영희  90  95  100  95\n",
      "1  철수  80  89   80  95\n",
      "2  삼식  70  90   75  95\n",
      "   이름  수학  영어   국어  과학\n",
      "0  영희  90  95  100  95\n",
      "1  철수  80  89   80  95\n",
      "2  삼식  70  90   75  95\n",
      "3   0   0   0    0   0\n",
      "   이름  수학  영어   국어   과학\n",
      "0  영희  90  95  100   95\n",
      "1  철수  80  89   80   95\n",
      "2  삼식  70  90   75   95\n",
      "3   0   0   0    0    0\n",
      "4  동식  70  80   90  100\n",
      "   이름  수학  영어   국어   과학\n",
      "0  영희  90  95  100   95\n",
      "1  철수  80  89   80   95\n",
      "2  삼식  70  90   75   95\n",
      "3   0   0   0    0    0\n",
      "4  동식  70  80   90  100\n",
      "5   0   0   0    0    0\n"
     ]
    }
   ],
   "source": [
    "exam_data= {'이름' : ['영희', '철수', '삼식'],\n",
    "                  '수학': [90,80,70],\n",
    "                  '영어': [95,89,90],\n",
    "                  '국어': [100,80,75],\n",
    "                  '과학': [70,70,70]}\n",
    "df = pd.DataFrame(exam_data)\n",
    "print(df)\n",
    "#컬럼의 데이터 단일값으로 일괄 변경, 과학컬럼에 데이터 추가\n",
    "df['과학']= 95\n",
    "print(df) # 과학점수가 95로 추가됨\n",
    "df.loc[3] = 0\n",
    "print(df)\n",
    "\n",
    "#서로다르게 추가하려면 일일이 넣어줘야 함\n",
    "df.loc[4] = ['동식', 70, 80, 90, 100]\n",
    "print(df)\n",
    "\n",
    "#기존 행 복사\n",
    "df.loc[5] = df.loc[3]\n",
    "print(df)"
   ]
  },
  {
   "cell_type": "code",
   "execution_count": 81,
   "metadata": {},
   "outputs": [
    {
     "data": {
      "text/html": [
       "<div>\n",
       "<style scoped>\n",
       "    .dataframe tbody tr th:only-of-type {\n",
       "        vertical-align: middle;\n",
       "    }\n",
       "\n",
       "    .dataframe tbody tr th {\n",
       "        vertical-align: top;\n",
       "    }\n",
       "\n",
       "    .dataframe thead th {\n",
       "        text-align: right;\n",
       "    }\n",
       "</style>\n",
       "<table border=\"1\" class=\"dataframe\">\n",
       "  <thead>\n",
       "    <tr style=\"text-align: right;\">\n",
       "      <th></th>\n",
       "      <th>수학</th>\n",
       "      <th>영어</th>\n",
       "      <th>국어</th>\n",
       "      <th>과학</th>\n",
       "    </tr>\n",
       "    <tr>\n",
       "      <th>이름</th>\n",
       "      <th></th>\n",
       "      <th></th>\n",
       "      <th></th>\n",
       "      <th></th>\n",
       "    </tr>\n",
       "  </thead>\n",
       "  <tbody>\n",
       "    <tr>\n",
       "      <td>영희</td>\n",
       "      <td>90</td>\n",
       "      <td>95</td>\n",
       "      <td>100</td>\n",
       "      <td>95</td>\n",
       "    </tr>\n",
       "    <tr>\n",
       "      <td>철수</td>\n",
       "      <td>50</td>\n",
       "      <td>89</td>\n",
       "      <td>80</td>\n",
       "      <td>50</td>\n",
       "    </tr>\n",
       "    <tr>\n",
       "      <td>삼식</td>\n",
       "      <td>70</td>\n",
       "      <td>90</td>\n",
       "      <td>75</td>\n",
       "      <td>95</td>\n",
       "    </tr>\n",
       "    <tr>\n",
       "      <td>0</td>\n",
       "      <td>0</td>\n",
       "      <td>0</td>\n",
       "      <td>0</td>\n",
       "      <td>0</td>\n",
       "    </tr>\n",
       "    <tr>\n",
       "      <td>동식</td>\n",
       "      <td>70</td>\n",
       "      <td>80</td>\n",
       "      <td>90</td>\n",
       "      <td>100</td>\n",
       "    </tr>\n",
       "    <tr>\n",
       "      <td>0</td>\n",
       "      <td>0</td>\n",
       "      <td>0</td>\n",
       "      <td>0</td>\n",
       "      <td>0</td>\n",
       "    </tr>\n",
       "  </tbody>\n",
       "</table>\n",
       "</div>"
      ],
      "text/plain": [
       "    수학  영어   국어   과학\n",
       "이름                  \n",
       "영희  90  95  100   95\n",
       "철수  50  89   80   50\n",
       "삼식  70  90   75   95\n",
       "0    0   0    0    0\n",
       "동식  70  80   90  100\n",
       "0    0   0    0    0"
      ]
     },
     "execution_count": 81,
     "metadata": {},
     "output_type": "execute_result"
    }
   ],
   "source": [
    "#철수의 수학,과학 점수 50으로 변경\n",
    "df.set_index('이름', inplace=True)\n",
    "df.loc['철수', ['수학','과학']] = 50,50,\n",
    "df"
   ]
  },
  {
   "cell_type": "code",
   "execution_count": 85,
   "metadata": {},
   "outputs": [
    {
     "name": "stdout",
     "output_type": "stream",
     "text": [
      "이름   영희  철수  삼식  0   동식  0\n",
      "수학   90  50  70  0   70  0\n",
      "영어   95  89  90  0   80  0\n",
      "국어  100  80  75  0   90  0\n",
      "과학   95  50  95  0  100  0\n",
      "    수학  영어   국어   과학\n",
      "이름                  \n",
      "영희  90  95  100   95\n",
      "철수  50  89   80   50\n",
      "삼식  70  90   75   95\n",
      "0    0   0    0    0\n",
      "동식  70  80   90  100\n",
      "0    0   0    0    0\n",
      "이름   영희  철수  삼식  0   동식  0\n",
      "수학   90  50  70  0   70  0\n",
      "영어   95  89  90  0   80  0\n",
      "국어  100  80  75  0   90  0\n",
      "과학   95  50  95  0  100  0\n"
     ]
    }
   ],
   "source": [
    "#데이터 프레임에서 전치를 수행하려면 메소드 활용, df.transpose()\n",
    "print(df)\n",
    "df = df.transpose()\n",
    "print(df)\n",
    "\n",
    "df = df.T #데이터 프레임 클래스의 속성활용\n",
    "print(df)"
   ]
  },
  {
   "cell_type": "code",
   "execution_count": 99,
   "metadata": {
    "collapsed": true
   },
   "outputs": [
    {
     "name": "stdout",
     "output_type": "stream",
     "text": [
      "    c0  c1  c2  c3  c4\n",
      "r0   1   4   7  10  13\n",
      "r1   2   5   8  11  14\n",
      "r2   3   6   9  12  15\n",
      "     c0   c1   c2    c3    c4\n",
      "r0  1.0  4.0  7.0  10.0  13.0\n",
      "r1  2.0  5.0  8.0  11.0  14.0\n",
      "r2  3.0  6.0  9.0  12.0  15.0\n",
      "r3  NaN  NaN  NaN   NaN   NaN\n",
      "r4  NaN  NaN  NaN   NaN   NaN\n",
      "    c0  c1  c2  c3  c4\n",
      "r0   1   4   7  10  13\n",
      "r1   2   5   8  11  14\n",
      "r2   3   6   9  12  15\n",
      "r3   0   0   0   0   0\n",
      "r4   0   0   0   0   0\n",
      "  index  c0  c1  c2  c3  c4\n",
      "0    r0   1   4   7  10  13\n",
      "1    r1   2   5   8  11  14\n",
      "2    r2   3   6   9  12  15\n",
      "    c0  c1  c2  c3  c4\n",
      "r2   3   6   9  12  15\n",
      "r1   2   5   8  11  14\n",
      "r0   1   4   7  10  13\n",
      "    c0  c1  c2  c3  c4\n",
      "r2   3   6   9  12  15\n",
      "r1   2   5   8  11  14\n",
      "r0   1   4   7  10  13\n"
     ]
    }
   ],
   "source": [
    "#인데스 재 지정할 때, reindex()\n",
    "dict_data = {'c0': [1,2,3], 'c1': [4,5,6], 'c2': [7,8,9], 'c3': [10,11,12], 'c4': [13,14,15]}\n",
    "df2 = pd.DataFrame(dict_data, index=['r0','r1','r2'])\n",
    "print(df2)\n",
    "\n",
    "new_index = ['r0','r1','r2','r3','r4']\n",
    "new_df = df2.reindex(new_index) #새로운 데이터프레임 객체를 생성 반환\n",
    "print(new_df) #'r3','r4' 행의 데이터는 NaN으로 채워짐\n",
    "\n",
    "new_df2 = df2.reindex(new_index, fill_value=0) #새로운 데이터프레임 객체를 생성 반환, fill_value를 통해 Na를 0으로 채움\n",
    "print(new_df2) #'r3','r4' 행의 데이터는 0으로 채워짐\n",
    "\n",
    "# 행 인덱스를 정수형으로 초기화 시킴, reset_index()\n",
    "new_df = df2.reset_index()\n",
    "print(new_df)\n",
    "\n",
    "# 행 인덱스 기준으로 정렬, sort_index(ascending=False) \n",
    "new_df = df2.sort_index(ascending=False)\n",
    "print(new_df)\n",
    "\n",
    "# 새로운 데이터프레임 객체를 생성 반환 , 행 인덱스기준으로 내림차순 정렬, \n",
    "new_df = df2.sort_values(by='c2', ascending=False )  \n",
    "print(new_df )"
   ]
  },
  {
   "cell_type": "code",
   "execution_count": 102,
   "metadata": {},
   "outputs": [
    {
     "name": "stdout",
     "output_type": "stream",
     "text": [
      "국어    0.333333\n",
      "영어    0.300000\n",
      "수학    0.266667\n",
      "dtype: float64\n",
      "<class 'pandas.core.series.Series'>\n",
      "국어     NaN\n",
      "영어    90.0\n",
      "수학    80.0\n",
      "dtype: float64\n",
      "영어    90\n",
      "수학    80\n",
      "dtype: int64\n",
      "국어      NaN\n",
      "수학    160.0\n",
      "영어    180.0\n",
      "dtype: float64\n",
      "국어    NaN\n",
      "수학    0.0\n",
      "영어    0.0\n",
      "dtype: float64\n",
      "국어       NaN\n",
      "수학    6400.0\n",
      "영어    8100.0\n",
      "dtype: float64\n",
      "국어    NaN\n",
      "수학    1.0\n",
      "영어    1.0\n",
      "dtype: float64\n"
     ]
    }
   ],
   "source": [
    "#시리즈는 라벨인덱스가 일치한 애들끼리 연산을 수행함\n",
    "\n",
    "student1 = pd.Series({'국어':100, '영어':90, '수학':80})\n",
    "percentage = student1/300 #벡터라이징 연산을 수행\n",
    "print(percentage)\n",
    "print(type(percentage))\n",
    "\n",
    "student1 = pd.Series({'국어':np.nan, '영어':90, '수학':80})\n",
    "student2 = pd.Series({'영어':90, '수학':80})\n",
    "print(student1)\n",
    "print(student2)\n",
    "print(student1 + student2) #student1.add(student2, fill_value = 0)\n",
    "print(student1 - student2) #student1.sub(student2, fill_value = 0)\n",
    "print(student1 * student2) #student1.mul(student2, fill_value = 0)\n",
    "print(student1 / student2) #student1.div(student2, fill_value = 0)\n"
   ]
  },
  {
   "cell_type": "code",
   "execution_count": 105,
   "metadata": {},
   "outputs": [
    {
     "data": {
      "text/html": [
       "<div>\n",
       "<style scoped>\n",
       "    .dataframe tbody tr th:only-of-type {\n",
       "        vertical-align: middle;\n",
       "    }\n",
       "\n",
       "    .dataframe tbody tr th {\n",
       "        vertical-align: top;\n",
       "    }\n",
       "\n",
       "    .dataframe thead th {\n",
       "        text-align: right;\n",
       "    }\n",
       "</style>\n",
       "<table border=\"1\" class=\"dataframe\">\n",
       "  <thead>\n",
       "    <tr style=\"text-align: right;\">\n",
       "      <th></th>\n",
       "      <th>국어</th>\n",
       "      <th>수학</th>\n",
       "      <th>영어</th>\n",
       "    </tr>\n",
       "  </thead>\n",
       "  <tbody>\n",
       "    <tr>\n",
       "      <td>덧셈</td>\n",
       "      <td>NaN</td>\n",
       "      <td>160.0</td>\n",
       "      <td>180.0</td>\n",
       "    </tr>\n",
       "    <tr>\n",
       "      <td>뺄셈</td>\n",
       "      <td>NaN</td>\n",
       "      <td>0.0</td>\n",
       "      <td>0.0</td>\n",
       "    </tr>\n",
       "    <tr>\n",
       "      <td>곱셈</td>\n",
       "      <td>NaN</td>\n",
       "      <td>6400.0</td>\n",
       "      <td>8100.0</td>\n",
       "    </tr>\n",
       "    <tr>\n",
       "      <td>나눗셈</td>\n",
       "      <td>NaN</td>\n",
       "      <td>1.0</td>\n",
       "      <td>1.0</td>\n",
       "    </tr>\n",
       "  </tbody>\n",
       "</table>\n",
       "</div>"
      ],
      "text/plain": [
       "     국어      수학      영어\n",
       "덧셈  NaN   160.0   180.0\n",
       "뺄셈  NaN     0.0     0.0\n",
       "곱셈  NaN  6400.0  8100.0\n",
       "나눗셈 NaN     1.0     1.0"
      ]
     },
     "execution_count": 105,
     "metadata": {},
     "output_type": "execute_result"
    }
   ],
   "source": [
    "re_add = student1.add(student2, fill_value=0)\n",
    "re_sub = student1.sub(student2, fill_value=0)\n",
    "re_mul = student1.mul(student2, fill_value=0)\n",
    "re_div = student1.div(student2, fill_value=0)\n",
    "result = pd.DataFrame([re_add,re_sub,re_mul,re_div], index=['덧셈','뺄셈','곱셈','나눗셈'])\n",
    "result"
   ]
  },
  {
   "cell_type": "code",
   "execution_count": 106,
   "metadata": {},
   "outputs": [],
   "source": [
    "#데이터 프레임에 산술연산\n",
    "import seaborn as sns"
   ]
  },
  {
   "cell_type": "code",
   "execution_count": 115,
   "metadata": {},
   "outputs": [
    {
     "name": "stdout",
     "output_type": "stream",
     "text": [
      "Index(['survived', 'pclass', 'sex', 'age', 'sibsp', 'parch', 'fare',\n",
      "       'embarked', 'class', 'who', 'adult_male', 'deck', 'embark_town',\n",
      "       'alive', 'alone'],\n",
      "      dtype='object')\n",
      "    age     fare\n",
      "0  22.0   7.2500\n",
      "1  38.0  71.2833\n",
      "2  26.0   7.9250\n",
      "3  35.0  53.1000\n",
      "4  35.0   8.0500\n",
      "    age     fare\n",
      "0  32.0  17.2500\n",
      "1  48.0  81.2833\n",
      "2  36.0  17.9250\n",
      "3  45.0  63.1000\n",
      "4  45.0  18.0500\n",
      "<class 'pandas.core.frame.DataFrame'>\n",
      "    age  fare\n",
      "0  10.0  10.0\n",
      "1  10.0  10.0\n",
      "2  10.0  10.0\n",
      "3  10.0  10.0\n",
      "4  10.0  10.0\n",
      "      age  fare\n",
      "886  10.0  10.0\n",
      "887  10.0  10.0\n",
      "888   NaN  10.0\n",
      "889  10.0  10.0\n",
      "890  10.0  10.0\n",
      "<class 'pandas.core.frame.DataFrame'>\n"
     ]
    }
   ],
   "source": [
    "titanic = sns.load_dataset('titanic') #시본에서 타이타닉 데이터셋을 제공한다.\n",
    "print(titanic.columns)\n",
    "df = titanic[['age','fare']]\n",
    "print(df.head(5))\n",
    "addition = df + 10 #스칼라 연산 지원\n",
    "print(addition.head())\n",
    "print(type(addition))\n",
    "subtraction = addition - df\n",
    "print(subtraction.head())\n",
    "print(subtraction.tail())\n",
    "print(type(subtraction))"
   ]
  },
  {
   "cell_type": "code",
   "execution_count": 118,
   "metadata": {},
   "outputs": [
    {
     "name": "stdout",
     "output_type": "stream",
     "text": [
      "     survived  pclass     sex   age  sibsp  parch     fare embarked   class  \\\n",
      "0           0       3    male  22.0      1      0   7.2500        S   Third   \n",
      "1           1       1  female  38.0      1      0  71.2833        C   First   \n",
      "2           1       3  female  26.0      0      0   7.9250        S   Third   \n",
      "3           1       1  female  35.0      1      0  53.1000        S   First   \n",
      "4           0       3    male  35.0      0      0   8.0500        S   Third   \n",
      "..        ...     ...     ...   ...    ...    ...      ...      ...     ...   \n",
      "885         0       3  female  39.0      0      5  29.1250        Q   Third   \n",
      "886         0       2    male  27.0      0      0  13.0000        S  Second   \n",
      "887         1       1  female  19.0      0      0  30.0000        S   First   \n",
      "889         1       1    male  26.0      0      0  30.0000        C   First   \n",
      "890         0       3    male  32.0      0      0   7.7500        Q   Third   \n",
      "\n",
      "       who  adult_male deck  embark_town alive  alone  \n",
      "0      man        True  NaN  Southampton    no  False  \n",
      "1    woman       False    C    Cherbourg   yes  False  \n",
      "2    woman       False  NaN  Southampton   yes   True  \n",
      "3    woman       False    C  Southampton   yes  False  \n",
      "4      man        True  NaN  Southampton    no   True  \n",
      "..     ...         ...  ...          ...   ...    ...  \n",
      "885  woman       False  NaN   Queenstown    no  False  \n",
      "886    man        True  NaN  Southampton    no   True  \n",
      "887  woman       False    B  Southampton   yes   True  \n",
      "889    man        True    C    Cherbourg   yes   True  \n",
      "890    man        True  NaN   Queenstown    no   True  \n",
      "\n",
      "[650 rows x 15 columns]\n"
     ]
    }
   ],
   "source": [
    "print(titanic[titanic['age'] > 10])"
   ]
  }
 ],
 "metadata": {
  "kernelspec": {
   "display_name": "Python 3",
   "language": "python",
   "name": "python3"
  },
  "language_info": {
   "codemirror_mode": {
    "name": "ipython",
    "version": 3
   },
   "file_extension": ".py",
   "mimetype": "text/x-python",
   "name": "python",
   "nbconvert_exporter": "python",
   "pygments_lexer": "ipython3",
   "version": "3.7.4"
  }
 },
 "nbformat": 4,
 "nbformat_minor": 2
}
