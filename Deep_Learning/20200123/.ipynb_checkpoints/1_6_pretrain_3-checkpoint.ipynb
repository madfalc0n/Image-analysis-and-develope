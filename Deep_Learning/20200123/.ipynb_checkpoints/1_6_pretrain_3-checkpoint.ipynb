{
 "cells": [
  {
   "cell_type": "code",
   "execution_count": 1,
   "metadata": {
    "colab": {
     "base_uri": "https://localhost:8080/",
     "height": 323
    },
    "colab_type": "code",
    "id": "rrNftsgeNQ4v",
    "outputId": "2fdef90c-32f1-407c-8f87-3c9589360080"
   },
   "outputs": [
    {
     "name": "stdout",
     "output_type": "stream",
     "text": [
      "Thu Jan 23 07:01:46 2020       \n",
      "+-----------------------------------------------------------------------------+\n",
      "| NVIDIA-SMI 440.44       Driver Version: 418.67       CUDA Version: 10.1     |\n",
      "|-------------------------------+----------------------+----------------------+\n",
      "| GPU  Name        Persistence-M| Bus-Id        Disp.A | Volatile Uncorr. ECC |\n",
      "| Fan  Temp  Perf  Pwr:Usage/Cap|         Memory-Usage | GPU-Util  Compute M. |\n",
      "|===============================+======================+======================|\n",
      "|   0  Tesla T4            Off  | 00000000:00:04.0 Off |                    0 |\n",
      "| N/A   47C    P8     9W /  70W |      0MiB / 15079MiB |      0%      Default |\n",
      "+-------------------------------+----------------------+----------------------+\n",
      "                                                                               \n",
      "+-----------------------------------------------------------------------------+\n",
      "| Processes:                                                       GPU Memory |\n",
      "|  GPU       PID   Type   Process name                             Usage      |\n",
      "|=============================================================================|\n",
      "|  No running processes found                                                 |\n",
      "+-----------------------------------------------------------------------------+\n"
     ]
    }
   ],
   "source": [
    "!nvidia-smi"
   ]
  },
  {
   "cell_type": "code",
   "execution_count": 2,
   "metadata": {
    "colab": {
     "base_uri": "https://localhost:8080/",
     "height": 82
    },
    "colab_type": "code",
    "id": "LiderRZwNeWi",
    "outputId": "5405ce6b-225d-48fd-b4fe-18987f87fad7"
   },
   "outputs": [
    {
     "name": "stderr",
     "output_type": "stream",
     "text": [
      "Using TensorFlow backend.\n"
     ]
    },
    {
     "data": {
      "text/html": [
       "<p style=\"color: red;\">\n",
       "The default version of TensorFlow in Colab will soon switch to TensorFlow 2.x.<br>\n",
       "We recommend you <a href=\"https://www.tensorflow.org/guide/migrate\" target=\"_blank\">upgrade</a> now \n",
       "or ensure your notebook will continue to use TensorFlow 1.x via the <code>%tensorflow_version 1.x</code> magic:\n",
       "<a href=\"https://colab.research.google.com/notebooks/tensorflow_version.ipynb\" target=\"_blank\">more info</a>.</p>\n"
      ],
      "text/plain": [
       "<IPython.core.display.HTML object>"
      ]
     },
     "metadata": {
      "tags": []
     },
     "output_type": "display_data"
    }
   ],
   "source": [
    "from keras.models import Sequential\n",
    "from keras.layers import Dense\n",
    "from keras.layers import Flatten\n",
    "from keras.layers.convolutional import Conv2D\n",
    "from keras.layers.convolutional import MaxPooling2D\n",
    "from keras.layers import Activation, Dropout, Flatten, Dense\n",
    "import keras\n",
    "import tensorflow as tf\n",
    "import numpy as np\n",
    "from numpy  import expand_dims\n",
    "import cv2\n",
    "from matplotlib import pyplot as plt\n",
    "from keras.preprocessing.image import ImageDataGenerator, array_to_img, img_to_array, load_img\n",
    "np.random.seed(15)\n",
    "import matplotlib.pyplot as plt\n",
    "import PIL"
   ]
  },
  {
   "cell_type": "code",
   "execution_count": 0,
   "metadata": {
    "colab": {},
    "colab_type": "code",
    "id": "9LEXTGlENiiX"
   },
   "outputs": [],
   "source": [
    "import zipfile\n",
    "zip_ref = zipfile.ZipFile(\"clean-dataset.zip\", 'r')\n",
    "zip_ref.extractall()\n",
    "zip_ref.close()"
   ]
  },
  {
   "cell_type": "markdown",
   "metadata": {
    "colab_type": "text",
    "id": "x1NAHDEKXUSO"
   },
   "source": [
    "# Augmentation 미적용"
   ]
  },
  {
   "cell_type": "code",
   "execution_count": 0,
   "metadata": {
    "colab": {},
    "colab_type": "code",
    "id": "nBYwHuNLNp7Z"
   },
   "outputs": [],
   "source": [
    "train_dir = 'clean-dataset/train'\n",
    "validation_dir = 'clean-dataset/validation'\n",
    "image_size = 224"
   ]
  },
  {
   "cell_type": "code",
   "execution_count": 5,
   "metadata": {
    "colab": {
     "base_uri": "https://localhost:8080/",
     "height": 775
    },
    "colab_type": "code",
    "id": "0GOFNimtNlcB",
    "outputId": "31145e61-f634-49ed-814a-f7c9f2bb6024"
   },
   "outputs": [
    {
     "name": "stdout",
     "output_type": "stream",
     "text": [
      "WARNING:tensorflow:From /usr/local/lib/python3.6/dist-packages/keras/backend/tensorflow_backend.py:66: The name tf.get_default_graph is deprecated. Please use tf.compat.v1.get_default_graph instead.\n",
      "\n",
      "WARNING:tensorflow:From /usr/local/lib/python3.6/dist-packages/keras/backend/tensorflow_backend.py:541: The name tf.placeholder is deprecated. Please use tf.compat.v1.placeholder instead.\n",
      "\n",
      "WARNING:tensorflow:From /usr/local/lib/python3.6/dist-packages/keras/backend/tensorflow_backend.py:4432: The name tf.random_uniform is deprecated. Please use tf.random.uniform instead.\n",
      "\n",
      "WARNING:tensorflow:From /usr/local/lib/python3.6/dist-packages/keras/backend/tensorflow_backend.py:4267: The name tf.nn.max_pool is deprecated. Please use tf.nn.max_pool2d instead.\n",
      "\n",
      "Downloading data from https://github.com/fchollet/deep-learning-models/releases/download/v0.1/vgg16_weights_tf_dim_ordering_tf_kernels_notop.h5\n",
      "58892288/58889256 [==============================] - 1s 0us/step\n",
      "WARNING:tensorflow:From /usr/local/lib/python3.6/dist-packages/keras/backend/tensorflow_backend.py:190: The name tf.get_default_session is deprecated. Please use tf.compat.v1.get_default_session instead.\n",
      "\n",
      "WARNING:tensorflow:From /usr/local/lib/python3.6/dist-packages/keras/backend/tensorflow_backend.py:197: The name tf.ConfigProto is deprecated. Please use tf.compat.v1.ConfigProto instead.\n",
      "\n",
      "WARNING:tensorflow:From /usr/local/lib/python3.6/dist-packages/keras/backend/tensorflow_backend.py:203: The name tf.Session is deprecated. Please use tf.compat.v1.Session instead.\n",
      "\n",
      "WARNING:tensorflow:From /usr/local/lib/python3.6/dist-packages/keras/backend/tensorflow_backend.py:207: The name tf.global_variables is deprecated. Please use tf.compat.v1.global_variables instead.\n",
      "\n",
      "WARNING:tensorflow:From /usr/local/lib/python3.6/dist-packages/keras/backend/tensorflow_backend.py:216: The name tf.is_variable_initialized is deprecated. Please use tf.compat.v1.is_variable_initialized instead.\n",
      "\n",
      "WARNING:tensorflow:From /usr/local/lib/python3.6/dist-packages/keras/backend/tensorflow_backend.py:223: The name tf.variables_initializer is deprecated. Please use tf.compat.v1.variables_initializer instead.\n",
      "\n",
      "<keras.engine.input_layer.InputLayer object at 0x7fcbcab41e80> False\n",
      "<keras.layers.convolutional.Conv2D object at 0x7fcbcaace0b8> False\n",
      "<keras.layers.convolutional.Conv2D object at 0x7fcbcaace400> False\n",
      "<keras.layers.pooling.MaxPooling2D object at 0x7fcbca277390> False\n",
      "<keras.layers.convolutional.Conv2D object at 0x7fcbca287ac8> False\n",
      "<keras.layers.convolutional.Conv2D object at 0x7fcbca28fc88> False\n",
      "<keras.layers.pooling.MaxPooling2D object at 0x7fcbca295a90> False\n",
      "<keras.layers.convolutional.Conv2D object at 0x7fcbca2a09b0> False\n",
      "<keras.layers.convolutional.Conv2D object at 0x7fcbca2a4278> False\n",
      "<keras.layers.convolutional.Conv2D object at 0x7fcbca22b630> False\n",
      "<keras.layers.pooling.MaxPooling2D object at 0x7fcbca231a20> False\n",
      "<keras.layers.convolutional.Conv2D object at 0x7fcbca23f978> False\n",
      "<keras.layers.convolutional.Conv2D object at 0x7fcbca242278> False\n",
      "<keras.layers.convolutional.Conv2D object at 0x7fcbca24a5f8> False\n",
      "<keras.layers.pooling.MaxPooling2D object at 0x7fcbca2509e8> False\n",
      "<keras.layers.convolutional.Conv2D object at 0x7fcbca25c940> False\n",
      "<keras.layers.convolutional.Conv2D object at 0x7fcbca263208> False\n",
      "<keras.layers.convolutional.Conv2D object at 0x7fcbca1ea2b0> False\n",
      "<keras.layers.pooling.MaxPooling2D object at 0x7fcbca1ee978> False\n"
     ]
    }
   ],
   "source": [
    "import numpy as np\n",
    "import matplotlib.pyplot as plt\n",
    "%matplotlib inline\n",
    "import keras\n",
    "from keras.preprocessing.image import ImageDataGenerator, load_img\n",
    "from keras.applications import VGG16\n",
    "\n",
    "#Load the VGG model\n",
    "vgg_conv = VGG16(weights='imagenet', include_top=False, input_shape=(image_size, image_size, 3))\n",
    "\n",
    "# Freeze all the layers\n",
    "for layer in vgg_conv.layers[:]:\n",
    "    layer.trainable = False  #모든 레이어 학습 안되도록 설정\n",
    "\n",
    "# Check the trainable status of the individual layers\n",
    "for layer in vgg_conv.layers:\n",
    "    print(layer, layer.trainable)"
   ]
  },
  {
   "cell_type": "code",
   "execution_count": 6,
   "metadata": {
    "colab": {
     "base_uri": "https://localhost:8080/",
     "height": 451
    },
    "colab_type": "code",
    "id": "77973bIRN1rg",
    "outputId": "29221d97-2da1-4948-935e-711b779db7c5"
   },
   "outputs": [
    {
     "name": "stdout",
     "output_type": "stream",
     "text": [
      "WARNING:tensorflow:From /usr/local/lib/python3.6/dist-packages/keras/backend/tensorflow_backend.py:148: The name tf.placeholder_with_default is deprecated. Please use tf.compat.v1.placeholder_with_default instead.\n",
      "\n",
      "WARNING:tensorflow:From /usr/local/lib/python3.6/dist-packages/keras/backend/tensorflow_backend.py:3733: calling dropout (from tensorflow.python.ops.nn_ops) with keep_prob is deprecated and will be removed in a future version.\n",
      "Instructions for updating:\n",
      "Please use `rate` instead of `keep_prob`. Rate should be set to `rate = 1 - keep_prob`.\n",
      "Model: \"sequential_1\"\n",
      "_________________________________________________________________\n",
      "Layer (type)                 Output Shape              Param #   \n",
      "=================================================================\n",
      "vgg16 (Model)                (None, 7, 7, 512)         14714688  \n",
      "_________________________________________________________________\n",
      "flatten_1 (Flatten)          (None, 25088)             0         \n",
      "_________________________________________________________________\n",
      "dense_1 (Dense)              (None, 64)                1605696   \n",
      "_________________________________________________________________\n",
      "dropout_1 (Dropout)          (None, 64)                0         \n",
      "_________________________________________________________________\n",
      "dense_2 (Dense)              (None, 3)                 195       \n",
      "=================================================================\n",
      "Total params: 16,320,579\n",
      "Trainable params: 1,605,891\n",
      "Non-trainable params: 14,714,688\n",
      "_________________________________________________________________\n"
     ]
    }
   ],
   "source": [
    "from keras import models\n",
    "from keras import layers\n",
    "from keras import optimizers\n",
    "\n",
    "# Create the model\n",
    "model = models.Sequential()\n",
    "\n",
    "# Add the vgg convolutional base model\n",
    "model.add(vgg_conv) ##시퀀셜 네트웍이면 붙일 수 있다.\n",
    "\n",
    "# Add new layers\n",
    "model.add(layers.Flatten())\n",
    "model.add(layers.Dense(64, activation='relu'))\n",
    "model.add(layers.Dropout(0.5))\n",
    "model.add(layers.Dense(3, activation='softmax'))\n",
    "\n",
    "# Show a summary of the model. Check the number of trainable parameters\n",
    "model.summary()"
   ]
  },
  {
   "cell_type": "code",
   "execution_count": 7,
   "metadata": {
    "colab": {
     "base_uri": "https://localhost:8080/",
     "height": 125
    },
    "colab_type": "code",
    "id": "Z3P4fVGzN4fP",
    "outputId": "8b6d3057-2454-4eea-d4cb-559f3b5defe7"
   },
   "outputs": [
    {
     "name": "stdout",
     "output_type": "stream",
     "text": [
      "Found 600 images belonging to 3 classes.\n",
      "Found 150 images belonging to 3 classes.\n",
      "WARNING:tensorflow:From /usr/local/lib/python3.6/dist-packages/keras/optimizers.py:793: The name tf.train.Optimizer is deprecated. Please use tf.compat.v1.train.Optimizer instead.\n",
      "\n",
      "WARNING:tensorflow:From /usr/local/lib/python3.6/dist-packages/keras/backend/tensorflow_backend.py:3576: The name tf.log is deprecated. Please use tf.math.log instead.\n",
      "\n"
     ]
    }
   ],
   "source": [
    "# No Data augmentation \n",
    "train_datagen = ImageDataGenerator(rescale=1./255)\n",
    "validation_datagen = ImageDataGenerator(rescale=1./255)\n",
    "\n",
    "# Change the batchsize according to your system RAM\n",
    "train_batchsize = 20\n",
    "val_batchsize = 2\n",
    "\n",
    "# Data Generator for Training data\n",
    "train_generator = train_datagen.flow_from_directory(\n",
    "        train_dir,\n",
    "        target_size=(image_size, image_size),\n",
    "        batch_size=train_batchsize,\n",
    "        class_mode='categorical')\n",
    "\n",
    "# Data Generator for Validation data\n",
    "validation_generator = validation_datagen.flow_from_directory(\n",
    "        validation_dir,\n",
    "        target_size=(image_size, image_size),\n",
    "        batch_size=val_batchsize,\n",
    "        class_mode='categorical',\n",
    "        shuffle=False)\n",
    "\n",
    "# Compile the model\n",
    "model.compile(loss='categorical_crossentropy',\n",
    "              optimizer=\"adam\",\n",
    "              metrics=['accuracy'])"
   ]
  },
  {
   "cell_type": "code",
   "execution_count": 8,
   "metadata": {
    "colab": {
     "base_uri": "https://localhost:8080/",
     "height": 1000
    },
    "colab_type": "code",
    "id": "Th3Kz5KHN4_v",
    "outputId": "9b15c1c1-a868-42e2-b445-22f22b05ee43"
   },
   "outputs": [
    {
     "name": "stdout",
     "output_type": "stream",
     "text": [
      "WARNING:tensorflow:From /usr/local/lib/python3.6/dist-packages/tensorflow_core/python/ops/math_grad.py:1424: where (from tensorflow.python.ops.array_ops) is deprecated and will be removed in a future version.\n",
      "Instructions for updating:\n",
      "Use tf.where in 2.0, which has the same broadcast rule as np.where\n",
      "WARNING:tensorflow:From /usr/local/lib/python3.6/dist-packages/keras/backend/tensorflow_backend.py:1033: The name tf.assign_add is deprecated. Please use tf.compat.v1.assign_add instead.\n",
      "\n",
      "WARNING:tensorflow:From /usr/local/lib/python3.6/dist-packages/keras/backend/tensorflow_backend.py:1020: The name tf.assign is deprecated. Please use tf.compat.v1.assign instead.\n",
      "\n",
      "Epoch 1/50\n",
      "30/30 [==============================] - 14s 483ms/step - loss: 1.3104 - acc: 0.4000 - val_loss: 0.8841 - val_acc: 0.5333\n",
      "Epoch 2/50\n",
      "30/30 [==============================] - 5s 153ms/step - loss: 0.8905 - acc: 0.4683 - val_loss: 0.8182 - val_acc: 0.6467\n",
      "Epoch 3/50\n",
      "30/30 [==============================] - 5s 153ms/step - loss: 0.8060 - acc: 0.6033 - val_loss: 0.6875 - val_acc: 0.7533\n",
      "Epoch 4/50\n",
      "30/30 [==============================] - 5s 155ms/step - loss: 0.7001 - acc: 0.7000 - val_loss: 0.5184 - val_acc: 0.8733\n",
      "Epoch 5/50\n",
      "30/30 [==============================] - 5s 154ms/step - loss: 0.6117 - acc: 0.7300 - val_loss: 0.4584 - val_acc: 0.8600\n",
      "Epoch 6/50\n",
      "30/30 [==============================] - 5s 155ms/step - loss: 0.5969 - acc: 0.7667 - val_loss: 0.4138 - val_acc: 0.9000\n",
      "Epoch 7/50\n",
      "30/30 [==============================] - 5s 156ms/step - loss: 0.5083 - acc: 0.7867 - val_loss: 0.4020 - val_acc: 0.8867\n",
      "Epoch 8/50\n",
      "30/30 [==============================] - 5s 158ms/step - loss: 0.4939 - acc: 0.8033 - val_loss: 0.4268 - val_acc: 0.8800\n",
      "Epoch 9/50\n",
      "30/30 [==============================] - 5s 156ms/step - loss: 0.4869 - acc: 0.8067 - val_loss: 0.3566 - val_acc: 0.9000\n",
      "Epoch 10/50\n",
      "30/30 [==============================] - 5s 158ms/step - loss: 0.4624 - acc: 0.7983 - val_loss: 0.3633 - val_acc: 0.8933\n",
      "Epoch 11/50\n",
      "30/30 [==============================] - 5s 160ms/step - loss: 0.4960 - acc: 0.8050 - val_loss: 0.3876 - val_acc: 0.8867\n",
      "Epoch 12/50\n",
      "30/30 [==============================] - 5s 160ms/step - loss: 0.4129 - acc: 0.8367 - val_loss: 0.4117 - val_acc: 0.8733\n",
      "Epoch 13/50\n",
      "30/30 [==============================] - 5s 160ms/step - loss: 0.4451 - acc: 0.8100 - val_loss: 0.3826 - val_acc: 0.8333\n",
      "Epoch 14/50\n",
      "30/30 [==============================] - 5s 161ms/step - loss: 0.3746 - acc: 0.8533 - val_loss: 0.3471 - val_acc: 0.8867\n",
      "Epoch 15/50\n",
      "30/30 [==============================] - 5s 163ms/step - loss: 0.4095 - acc: 0.8267 - val_loss: 0.3371 - val_acc: 0.9133\n",
      "Epoch 16/50\n",
      "30/30 [==============================] - 5s 163ms/step - loss: 0.3807 - acc: 0.8383 - val_loss: 0.3123 - val_acc: 0.9067\n",
      "Epoch 17/50\n",
      "30/30 [==============================] - 5s 164ms/step - loss: 0.3697 - acc: 0.8600 - val_loss: 0.3605 - val_acc: 0.8800\n",
      "Epoch 18/50\n",
      "30/30 [==============================] - 5s 165ms/step - loss: 0.3840 - acc: 0.8383 - val_loss: 0.3190 - val_acc: 0.9133\n",
      "Epoch 19/50\n",
      "30/30 [==============================] - 5s 165ms/step - loss: 0.4053 - acc: 0.8167 - val_loss: 0.3581 - val_acc: 0.8733\n",
      "Epoch 20/50\n",
      "30/30 [==============================] - 5s 166ms/step - loss: 0.3910 - acc: 0.8367 - val_loss: 0.3057 - val_acc: 0.9200\n",
      "Epoch 21/50\n",
      "30/30 [==============================] - 5s 165ms/step - loss: 0.3765 - acc: 0.8283 - val_loss: 0.3560 - val_acc: 0.8667\n",
      "Epoch 22/50\n",
      "30/30 [==============================] - 5s 165ms/step - loss: 0.4079 - acc: 0.8300 - val_loss: 0.3537 - val_acc: 0.8733\n",
      "Epoch 23/50\n",
      "30/30 [==============================] - 5s 165ms/step - loss: 0.3771 - acc: 0.8517 - val_loss: 0.3291 - val_acc: 0.8867\n",
      "Epoch 24/50\n",
      "30/30 [==============================] - 5s 164ms/step - loss: 0.3435 - acc: 0.8667 - val_loss: 0.3018 - val_acc: 0.9067\n",
      "Epoch 25/50\n",
      "30/30 [==============================] - 5s 162ms/step - loss: 0.3527 - acc: 0.8450 - val_loss: 0.3158 - val_acc: 0.8800\n",
      "Epoch 26/50\n",
      "30/30 [==============================] - 5s 163ms/step - loss: 0.3785 - acc: 0.8417 - val_loss: 0.3467 - val_acc: 0.8867\n",
      "Epoch 27/50\n",
      "30/30 [==============================] - 5s 162ms/step - loss: 0.3931 - acc: 0.8400 - val_loss: 0.3615 - val_acc: 0.8867\n",
      "Epoch 28/50\n",
      "30/30 [==============================] - 5s 162ms/step - loss: 0.3552 - acc: 0.8433 - val_loss: 0.3160 - val_acc: 0.8933\n",
      "Epoch 29/50\n",
      "30/30 [==============================] - 5s 162ms/step - loss: 0.3329 - acc: 0.8467 - val_loss: 0.3653 - val_acc: 0.8733\n",
      "Epoch 30/50\n",
      "30/30 [==============================] - 5s 164ms/step - loss: 0.3924 - acc: 0.8283 - val_loss: 0.3227 - val_acc: 0.9000\n",
      "Epoch 31/50\n",
      "30/30 [==============================] - 5s 162ms/step - loss: 0.3616 - acc: 0.8550 - val_loss: 0.3705 - val_acc: 0.8733\n",
      "Epoch 32/50\n",
      "30/30 [==============================] - 5s 164ms/step - loss: 0.3455 - acc: 0.8467 - val_loss: 0.3798 - val_acc: 0.8667\n",
      "Epoch 33/50\n",
      "30/30 [==============================] - 5s 164ms/step - loss: 0.3474 - acc: 0.8383 - val_loss: 0.3848 - val_acc: 0.8533\n",
      "Epoch 34/50\n",
      "30/30 [==============================] - 5s 164ms/step - loss: 0.3621 - acc: 0.8367 - val_loss: 0.3786 - val_acc: 0.8867\n",
      "Epoch 35/50\n",
      "30/30 [==============================] - 5s 164ms/step - loss: 0.3434 - acc: 0.8533 - val_loss: 0.3663 - val_acc: 0.8733\n",
      "Epoch 36/50\n",
      "30/30 [==============================] - 5s 163ms/step - loss: 0.3814 - acc: 0.8217 - val_loss: 0.3225 - val_acc: 0.9067\n",
      "Epoch 37/50\n",
      "30/30 [==============================] - 5s 163ms/step - loss: 0.3371 - acc: 0.8550 - val_loss: 0.3934 - val_acc: 0.8800\n",
      "Epoch 38/50\n",
      "30/30 [==============================] - 5s 164ms/step - loss: 0.3454 - acc: 0.8533 - val_loss: 0.3638 - val_acc: 0.8867\n",
      "Epoch 39/50\n",
      "30/30 [==============================] - 5s 164ms/step - loss: 0.3813 - acc: 0.8283 - val_loss: 0.3604 - val_acc: 0.8867\n",
      "Epoch 40/50\n",
      "30/30 [==============================] - 5s 164ms/step - loss: 0.3537 - acc: 0.8367 - val_loss: 0.3561 - val_acc: 0.8800\n",
      "Epoch 41/50\n",
      "30/30 [==============================] - 5s 164ms/step - loss: 0.3567 - acc: 0.8350 - val_loss: 0.3489 - val_acc: 0.9000\n",
      "Epoch 42/50\n",
      "30/30 [==============================] - 5s 164ms/step - loss: 0.3144 - acc: 0.8717 - val_loss: 0.3871 - val_acc: 0.8800\n",
      "Epoch 43/50\n",
      "30/30 [==============================] - 5s 165ms/step - loss: 0.3447 - acc: 0.8483 - val_loss: 0.3370 - val_acc: 0.8867\n",
      "Epoch 44/50\n",
      "30/30 [==============================] - 5s 163ms/step - loss: 0.3299 - acc: 0.8533 - val_loss: 0.3092 - val_acc: 0.9133\n",
      "Epoch 45/50\n",
      "30/30 [==============================] - 5s 163ms/step - loss: 0.3593 - acc: 0.8417 - val_loss: 0.3560 - val_acc: 0.8933\n",
      "Epoch 46/50\n",
      "30/30 [==============================] - 5s 164ms/step - loss: 0.3781 - acc: 0.8333 - val_loss: 0.3679 - val_acc: 0.8933\n",
      "Epoch 47/50\n",
      "30/30 [==============================] - 5s 164ms/step - loss: 0.3585 - acc: 0.8400 - val_loss: 0.3848 - val_acc: 0.9000\n",
      "Epoch 48/50\n",
      "30/30 [==============================] - 5s 164ms/step - loss: 0.3668 - acc: 0.8383 - val_loss: 0.3929 - val_acc: 0.8933\n",
      "Epoch 49/50\n",
      "30/30 [==============================] - 5s 163ms/step - loss: 0.3740 - acc: 0.8283 - val_loss: 0.3700 - val_acc: 0.8800\n",
      "Epoch 50/50\n",
      "30/30 [==============================] - 5s 163ms/step - loss: 0.3327 - acc: 0.8467 - val_loss: 0.3449 - val_acc: 0.9000\n"
     ]
    }
   ],
   "source": [
    "# Train the Model\n",
    "history = model.fit_generator(\n",
    "      train_generator,\n",
    "      steps_per_epoch=train_generator.samples/train_generator.batch_size ,\n",
    "      epochs=50,\n",
    "      validation_data=validation_generator,\n",
    "      validation_steps=validation_generator.samples/validation_generator.batch_size,\n",
    "      verbose=1)"
   ]
  },
  {
   "cell_type": "code",
   "execution_count": 12,
   "metadata": {
    "colab": {
     "base_uri": "https://localhost:8080/",
     "height": 545
    },
    "colab_type": "code",
    "id": "0fVpmu02N6-X",
    "outputId": "63adfbaa-0137-4736-95f3-5005b7df9933"
   },
   "outputs": [
    {
     "data": {
      "image/png": "[encoded data removed]",
      "text/plain": [
       "<Figure size 432x288 with 1 Axes>"
      ]
     },
     "metadata": {
      "tags": []
     },
     "output_type": "display_data"
    },
    {
     "data": {
      "image/png": "[encoded data removed]",
      "text/plain": [
       "<Figure size 432x288 with 1 Axes>"
      ]
     },
     "metadata": {
      "tags": []
     },
     "output_type": "display_data"
    }
   ],
   "source": [
    "# Save the Model\n",
    "model.save('all_freezed.h5')\n",
    "\n",
    "# Plot the accuracy and loss curves\n",
    "acc = history.history['acc']\n",
    "val_acc = history.history['val_acc']\n",
    "loss = history.history['loss']\n",
    "val_loss = history.history['val_loss']\n",
    "\n",
    "epochs = range(len(acc))\n",
    "\n",
    "plt.plot(epochs, acc, 'b', label='Training acc')\n",
    "plt.plot(epochs, val_acc, 'r', label='Validation acc')\n",
    "plt.title('Training and validation accuracy')\n",
    "plt.legend()\n",
    "\n",
    "plt.figure()\n",
    "\n",
    "plt.plot(epochs, loss, 'b', label='Training loss')\n",
    "plt.plot(epochs, val_loss, 'r', label='Validation loss')\n",
    "plt.title('Training and validation loss')\n",
    "plt.legend()\n",
    "\n",
    "plt.show()"
   ]
  },
  {
   "cell_type": "markdown",
   "metadata": {
    "colab_type": "text",
    "id": "WOxrOxLiOBXP"
   },
   "source": [
    "# Augmentation 적용"
   ]
  },
  {
   "cell_type": "code",
   "execution_count": 0,
   "metadata": {
    "colab": {},
    "colab_type": "code",
    "id": "c5RqKj4sS4S-"
   },
   "outputs": [],
   "source": [
    "from keras.models import Sequential\n",
    "from keras.layers import Dense\n",
    "from keras.layers import Flatten\n",
    "from keras.layers.convolutional import Conv2D\n",
    "from keras.layers.convolutional import MaxPooling2D\n",
    "from keras.layers import Activation, Dropout, Flatten, Dense\n",
    "import keras\n",
    "import tensorflow as tf\n",
    "import numpy as np\n",
    "from numpy  import expand_dims\n",
    "import cv2\n",
    "from matplotlib import pyplot as plt\n",
    "from keras.preprocessing.image import ImageDataGenerator, array_to_img, img_to_array, load_img\n",
    "np.random.seed(15)\n",
    "import matplotlib.pyplot as plt\n",
    "import PIL"
   ]
  },
  {
   "cell_type": "code",
   "execution_count": 15,
   "metadata": {
    "colab": {
     "base_uri": "https://localhost:8080/",
     "height": 1000
    },
    "colab_type": "code",
    "id": "wqDPYiHyTgSP",
    "outputId": "f25bffc6-370b-4fe9-d259-6dc9ffac4a29"
   },
   "outputs": [
    {
     "name": "stdout",
     "output_type": "stream",
     "text": [
      "<keras.engine.input_layer.InputLayer object at 0x7fc9add83ac8> False\n",
      "<keras.layers.convolutional.Conv2D object at 0x7fc9ae2d9898> False\n",
      "<keras.layers.convolutional.Conv2D object at 0x7fc9adde08d0> False\n",
      "<keras.layers.pooling.MaxPooling2D object at 0x7fc9addca7b8> False\n",
      "<keras.layers.convolutional.Conv2D object at 0x7fcb4af2d4e0> False\n",
      "<keras.layers.convolutional.Conv2D object at 0x7fcb4af544a8> False\n",
      "<keras.layers.pooling.MaxPooling2D object at 0x7fcb4af57518> False\n",
      "<keras.layers.convolutional.Conv2D object at 0x7fcb4af5a908> False\n",
      "<keras.layers.convolutional.Conv2D object at 0x7fcb4af63a20> False\n",
      "<keras.layers.convolutional.Conv2D object at 0x7fcb4aeed780> False\n",
      "<keras.layers.pooling.MaxPooling2D object at 0x7fcb4aef9208> False\n",
      "<keras.layers.convolutional.Conv2D object at 0x7fcb4aeff828> False\n",
      "<keras.layers.convolutional.Conv2D object at 0x7fcb4af07940> False\n",
      "<keras.layers.convolutional.Conv2D object at 0x7fcb4af0e6a0> False\n",
      "<keras.layers.pooling.MaxPooling2D object at 0x7fcb4af19080> False\n",
      "<keras.layers.convolutional.Conv2D object at 0x7fcb4af206d8> False\n",
      "<keras.layers.convolutional.Conv2D object at 0x7fcb4af28860> False\n",
      "<keras.layers.convolutional.Conv2D object at 0x7fcb4aeae5c0> False\n",
      "<keras.layers.pooling.MaxPooling2D object at 0x7fcb4aebc588> False\n",
      "Model: \"sequential_3\"\n",
      "_________________________________________________________________\n",
      "Layer (type)                 Output Shape              Param #   \n",
      "=================================================================\n",
      "vgg16 (Model)                (None, 7, 7, 512)         14714688  \n",
      "_________________________________________________________________\n",
      "flatten_3 (Flatten)          (None, 25088)             0         \n",
      "_________________________________________________________________\n",
      "dense_5 (Dense)              (None, 64)                1605696   \n",
      "_________________________________________________________________\n",
      "dropout_3 (Dropout)          (None, 64)                0         \n",
      "_________________________________________________________________\n",
      "dense_6 (Dense)              (None, 3)                 195       \n",
      "=================================================================\n",
      "Total params: 16,320,579\n",
      "Trainable params: 1,605,891\n",
      "Non-trainable params: 14,714,688\n",
      "_________________________________________________________________\n",
      "Found 600 images belonging to 3 classes.\n",
      "Found 150 images belonging to 3 classes.\n",
      "Epoch 1/50\n",
      "12/12 [==============================] - 12s 1s/step - loss: 1.8955 - acc: 0.4183 - val_loss: 0.8427 - val_acc: 0.6067\n",
      "Epoch 2/50\n",
      "12/12 [==============================] - 8s 647ms/step - loss: 0.8141 - acc: 0.6300 - val_loss: 0.6025 - val_acc: 0.8000\n",
      "Epoch 3/50\n",
      "12/12 [==============================] - 9s 718ms/step - loss: 0.5965 - acc: 0.7500 - val_loss: 0.4267 - val_acc: 0.8867\n",
      "Epoch 4/50\n",
      "12/12 [==============================] - 9s 721ms/step - loss: 0.4515 - acc: 0.8283 - val_loss: 0.3665 - val_acc: 0.8867\n",
      "Epoch 5/50\n",
      "12/12 [==============================] - 8s 703ms/step - loss: 0.4067 - acc: 0.8283 - val_loss: 0.3687 - val_acc: 0.9067\n",
      "Epoch 6/50\n",
      "12/12 [==============================] - 8s 676ms/step - loss: 0.3674 - acc: 0.8550 - val_loss: 0.3325 - val_acc: 0.8933\n",
      "Epoch 7/50\n",
      "12/12 [==============================] - 8s 674ms/step - loss: 0.3632 - acc: 0.8450 - val_loss: 0.3196 - val_acc: 0.9000\n",
      "Epoch 8/50\n",
      "12/12 [==============================] - 8s 690ms/step - loss: 0.3129 - acc: 0.8883 - val_loss: 0.2893 - val_acc: 0.9333\n",
      "Epoch 9/50\n",
      "12/12 [==============================] - 8s 660ms/step - loss: 0.2667 - acc: 0.8983 - val_loss: 0.2788 - val_acc: 0.9200\n",
      "Epoch 10/50\n",
      "12/12 [==============================] - 8s 688ms/step - loss: 0.2370 - acc: 0.9017 - val_loss: 0.2616 - val_acc: 0.9200\n",
      "Epoch 11/50\n",
      "12/12 [==============================] - 8s 682ms/step - loss: 0.2474 - acc: 0.9067 - val_loss: 0.2593 - val_acc: 0.9067\n",
      "Epoch 12/50\n",
      "12/12 [==============================] - 8s 657ms/step - loss: 0.2069 - acc: 0.9200 - val_loss: 0.2575 - val_acc: 0.9200\n",
      "Epoch 13/50\n",
      "12/12 [==============================] - 8s 686ms/step - loss: 0.2126 - acc: 0.9117 - val_loss: 0.2683 - val_acc: 0.9133\n",
      "Epoch 14/50\n",
      "12/12 [==============================] - 8s 703ms/step - loss: 0.1949 - acc: 0.9183 - val_loss: 0.2678 - val_acc: 0.9200\n",
      "Epoch 15/50\n",
      "12/12 [==============================] - 8s 681ms/step - loss: 0.1955 - acc: 0.9317 - val_loss: 0.2637 - val_acc: 0.9267\n",
      "Epoch 16/50\n",
      "12/12 [==============================] - 8s 693ms/step - loss: 0.1399 - acc: 0.9550 - val_loss: 0.2776 - val_acc: 0.9067\n",
      "Epoch 17/50\n",
      "12/12 [==============================] - 8s 680ms/step - loss: 0.1566 - acc: 0.9383 - val_loss: 0.2549 - val_acc: 0.9133\n",
      "Epoch 18/50\n",
      "12/12 [==============================] - 8s 674ms/step - loss: 0.1416 - acc: 0.9517 - val_loss: 0.2401 - val_acc: 0.9200\n",
      "Epoch 19/50\n",
      "12/12 [==============================] - 8s 669ms/step - loss: 0.1445 - acc: 0.9433 - val_loss: 0.2563 - val_acc: 0.9067\n",
      "Epoch 20/50\n",
      "12/12 [==============================] - 8s 664ms/step - loss: 0.1428 - acc: 0.9350 - val_loss: 0.2463 - val_acc: 0.9267\n",
      "Epoch 21/50\n",
      "12/12 [==============================] - 8s 687ms/step - loss: 0.1343 - acc: 0.9617 - val_loss: 0.2591 - val_acc: 0.9267\n",
      "Epoch 22/50\n",
      "12/12 [==============================] - 8s 690ms/step - loss: 0.1302 - acc: 0.9533 - val_loss: 0.2724 - val_acc: 0.8933\n",
      "Epoch 23/50\n",
      "12/12 [==============================] - 8s 671ms/step - loss: 0.1212 - acc: 0.9583 - val_loss: 0.2797 - val_acc: 0.9333\n",
      "Epoch 24/50\n",
      "12/12 [==============================] - 8s 668ms/step - loss: 0.1063 - acc: 0.9533 - val_loss: 0.2554 - val_acc: 0.9133\n",
      "Epoch 25/50\n",
      "12/12 [==============================] - 8s 642ms/step - loss: 0.1272 - acc: 0.9567 - val_loss: 0.2601 - val_acc: 0.9067\n",
      "Epoch 26/50\n",
      "12/12 [==============================] - 7s 613ms/step - loss: 0.1270 - acc: 0.9483 - val_loss: 0.2707 - val_acc: 0.9267\n",
      "Epoch 27/50\n",
      "12/12 [==============================] - 7s 597ms/step - loss: 0.0951 - acc: 0.9617 - val_loss: 0.2569 - val_acc: 0.9333\n",
      "Epoch 28/50\n",
      "12/12 [==============================] - 7s 608ms/step - loss: 0.0758 - acc: 0.9733 - val_loss: 0.2884 - val_acc: 0.9200\n",
      "Epoch 29/50\n",
      "12/12 [==============================] - 7s 588ms/step - loss: 0.1042 - acc: 0.9583 - val_loss: 0.2667 - val_acc: 0.9267\n",
      "Epoch 30/50\n",
      "12/12 [==============================] - 7s 619ms/step - loss: 0.0936 - acc: 0.9650 - val_loss: 0.2772 - val_acc: 0.9133\n",
      "Epoch 31/50\n",
      "12/12 [==============================] - 8s 673ms/step - loss: 0.1009 - acc: 0.9550 - val_loss: 0.2955 - val_acc: 0.9333\n",
      "Epoch 32/50\n",
      "12/12 [==============================] - 8s 692ms/step - loss: 0.0795 - acc: 0.9750 - val_loss: 0.2616 - val_acc: 0.9267\n",
      "Epoch 33/50\n",
      "12/12 [==============================] - 8s 680ms/step - loss: 0.0974 - acc: 0.9583 - val_loss: 0.2596 - val_acc: 0.9267\n",
      "Epoch 34/50\n",
      "12/12 [==============================] - 8s 693ms/step - loss: 0.0785 - acc: 0.9700 - val_loss: 0.2858 - val_acc: 0.9333\n",
      "Epoch 35/50\n",
      "12/12 [==============================] - 8s 657ms/step - loss: 0.0739 - acc: 0.9700 - val_loss: 0.3040 - val_acc: 0.9133\n",
      "Epoch 36/50\n",
      "12/12 [==============================] - 8s 658ms/step - loss: 0.0781 - acc: 0.9683 - val_loss: 0.3013 - val_acc: 0.9133\n",
      "Epoch 37/50\n",
      "12/12 [==============================] - 8s 648ms/step - loss: 0.0753 - acc: 0.9700 - val_loss: 0.2874 - val_acc: 0.9133\n",
      "Epoch 38/50\n",
      "12/12 [==============================] - 8s 666ms/step - loss: 0.0891 - acc: 0.9667 - val_loss: 0.3410 - val_acc: 0.9000\n",
      "Epoch 39/50\n",
      "12/12 [==============================] - 8s 679ms/step - loss: 0.0891 - acc: 0.9633 - val_loss: 0.2908 - val_acc: 0.9200\n",
      "Epoch 40/50\n",
      "12/12 [==============================] - 8s 660ms/step - loss: 0.0758 - acc: 0.9717 - val_loss: 0.2956 - val_acc: 0.9200\n",
      "Epoch 41/50\n",
      "12/12 [==============================] - 8s 638ms/step - loss: 0.0496 - acc: 0.9850 - val_loss: 0.3329 - val_acc: 0.9133\n",
      "Epoch 42/50\n",
      "12/12 [==============================] - 8s 640ms/step - loss: 0.0552 - acc: 0.9783 - val_loss: 0.3590 - val_acc: 0.9000\n",
      "Epoch 43/50\n",
      "12/12 [==============================] - 8s 672ms/step - loss: 0.0702 - acc: 0.9700 - val_loss: 0.3245 - val_acc: 0.9067\n",
      "Epoch 44/50\n",
      "12/12 [==============================] - 8s 647ms/step - loss: 0.0875 - acc: 0.9650 - val_loss: 0.3207 - val_acc: 0.9200\n",
      "Epoch 45/50\n",
      "12/12 [==============================] - 8s 636ms/step - loss: 0.0837 - acc: 0.9600 - val_loss: 0.2953 - val_acc: 0.9267\n",
      "Epoch 46/50\n",
      "12/12 [==============================] - 8s 682ms/step - loss: 0.0622 - acc: 0.9733 - val_loss: 0.3370 - val_acc: 0.9133\n",
      "Epoch 47/50\n",
      "12/12 [==============================] - 8s 683ms/step - loss: 0.1078 - acc: 0.9517 - val_loss: 0.3087 - val_acc: 0.9267\n",
      "Epoch 48/50\n",
      "12/12 [==============================] - 8s 656ms/step - loss: 0.0673 - acc: 0.9800 - val_loss: 0.3195 - val_acc: 0.9200\n",
      "Epoch 49/50\n",
      "12/12 [==============================] - 8s 652ms/step - loss: 0.0861 - acc: 0.9683 - val_loss: 0.2859 - val_acc: 0.9267\n",
      "Epoch 50/50\n",
      "12/12 [==============================] - 8s 701ms/step - loss: 0.0658 - acc: 0.9733 - val_loss: 0.3101 - val_acc: 0.9267\n"
     ]
    },
    {
     "data": {
      "image/png": "[encoded data removed]",
      "text/plain": [
       "<Figure size 432x288 with 1 Axes>"
      ]
     },
     "metadata": {
      "tags": []
     },
     "output_type": "display_data"
    },
    {
     "data": {
      "image/png": "[encoded data removed]",
      "text/plain": [
       "<Figure size 432x288 with 1 Axes>"
      ]
     },
     "metadata": {
      "tags": []
     },
     "output_type": "display_data"
    }
   ],
   "source": [
    "#데이터 호출\n",
    "train_dir = 'clean-dataset/train'\n",
    "validation_dir = 'clean-dataset/validation'\n",
    "image_size = 224\n",
    "\n",
    "import numpy as np\n",
    "import matplotlib.pyplot as plt\n",
    "%matplotlib inline\n",
    "import keras\n",
    "from keras.preprocessing.image import ImageDataGenerator, load_img\n",
    "from keras.applications import VGG16\n",
    "\n",
    "#Load the VGG model\n",
    "vgg_conv = VGG16(weights='imagenet', include_top=False, input_shape=(image_size, image_size, 3))\n",
    "\n",
    "# Freeze all the layers\n",
    "for layer in vgg_conv.layers[:]:\n",
    "    layer.trainable = False  #모든 레이어 학습 안되도록 설정\n",
    "\n",
    "# Check the trainable status of the individual layers\n",
    "for layer in vgg_conv.layers:\n",
    "    print(layer, layer.trainable)\n",
    "\n",
    "\n",
    "from keras import models\n",
    "from keras import layers\n",
    "from keras import optimizers\n",
    "\n",
    "# Create the model\n",
    "model = models.Sequential()\n",
    "\n",
    "# Add the vgg convolutional base model\n",
    "model.add(vgg_conv) ##시퀀셜 네트웍이면 붙일 수 있다.\n",
    "\n",
    "# Add new layers\n",
    "model.add(layers.Flatten())\n",
    "model.add(layers.Dense(64, activation='relu'))\n",
    "model.add(layers.Dropout(0.5))\n",
    "model.add(layers.Dense(3, activation='softmax'))\n",
    "\n",
    "# Show a summary of the model. Check the number of trainable parameters\n",
    "model.summary()\n",
    "\n",
    "# No Data augmentation \n",
    "train_datagen = ImageDataGenerator(rescale=1./255,\n",
    "        shear_range=0.2,\n",
    "        zoom_range=0.2,\n",
    "        horizontal_flip=True)\n",
    "validation_datagen = ImageDataGenerator(rescale=1./255)\n",
    "\n",
    "# Change the batchsize according to your system RAM\n",
    "train_batchsize = 50\n",
    "val_batchsize = 20\n",
    "\n",
    "# Data Generator for Training data\n",
    "train_generator = train_datagen.flow_from_directory(\n",
    "        train_dir,\n",
    "        target_size=(image_size, image_size),\n",
    "        batch_size=train_batchsize,\n",
    "        class_mode='categorical')\n",
    "\n",
    "# Data Generator for Validation data\n",
    "validation_generator = validation_datagen.flow_from_directory(\n",
    "        validation_dir,\n",
    "        target_size=(image_size, image_size),\n",
    "        batch_size=val_batchsize,\n",
    "        class_mode='categorical',\n",
    "        shuffle=False)\n",
    "\n",
    "# Compile the model\n",
    "model.compile(loss='categorical_crossentropy',\n",
    "              optimizer=\"adam\",\n",
    "              metrics=['accuracy'])\n",
    "\n",
    "# Train the Model\n",
    "history = model.fit_generator(\n",
    "      train_generator,\n",
    "      steps_per_epoch=train_generator.samples/train_generator.batch_size ,\n",
    "      epochs=50,\n",
    "      validation_data=validation_generator,\n",
    "      validation_steps=validation_generator.samples/validation_generator.batch_size,\n",
    "      verbose=1)\n",
    "\n",
    "\n",
    "# Save the Model\n",
    "model.save('all_freezed_use_aug.h5')\n",
    "\n",
    "# Plot the accuracy and loss curves\n",
    "acc = history.history['acc']\n",
    "val_acc = history.history['val_acc']\n",
    "loss = history.history['loss']\n",
    "val_loss = history.history['val_loss']\n",
    "\n",
    "epochs = range(len(acc))\n",
    "\n",
    "plt.plot(epochs, acc, 'b', label='Training acc')\n",
    "plt.plot(epochs, val_acc, 'r', label='Validation acc')\n",
    "plt.title('Training and validation accuracy')\n",
    "plt.legend()\n",
    "\n",
    "plt.figure()\n",
    "\n",
    "plt.plot(epochs, loss, 'b', label='Training loss')\n",
    "plt.plot(epochs, val_loss, 'r', label='Validation loss')\n",
    "plt.title('Training and validation loss')\n",
    "plt.legend()\n",
    "\n",
    "plt.show()"
   ]
  }
 ],
 "metadata": {
  "accelerator": "GPU",
  "colab": {
   "name": "1.6_pretrain_3",
   "provenance": []
  },
  "kernelspec": {
   "display_name": "Python 3",
   "language": "python",
   "name": "python3"
  },
  "language_info": {
   "codemirror_mode": {
    "name": "ipython",
    "version": 3
   },
   "file_extension": ".py",
   "mimetype": "text/x-python",
   "name": "python",
   "nbconvert_exporter": "python",
   "pygments_lexer": "ipython3",
   "version": "3.6.10"
  },
  "toc": {
   "base_numbering": 1,
   "nav_menu": {},
   "number_sections": false,
   "sideBar": true,
   "skip_h1_title": false,
   "title_cell": "Table of Contents",
   "title_sidebar": "Contents",
   "toc_cell": false,
   "toc_position": {},
   "toc_section_display": true,
   "toc_window_display": false
  },
  "varInspector": {
   "cols": {
    "lenName": 16,
    "lenType": 16,
    "lenVar": 40
   },
   "kernels_config": {
    "python": {
     "delete_cmd_postfix": "",
     "delete_cmd_prefix": "del ",
     "library": "var_list.py",
     "varRefreshCmd": "print(var_dic_list())"
    },
    "r": {
     "delete_cmd_postfix": ") ",
     "delete_cmd_prefix": "rm(",
     "library": "var_list.r",
     "varRefreshCmd": "cat(var_dic_list()) "
    }
   },
   "types_to_exclude": [
    "module",
    "function",
    "builtin_function_or_method",
    "instance",
    "_Feature"
   ],
   "window_display": false
  }
 },
 "nbformat": 4,
 "nbformat_minor": 1
}
