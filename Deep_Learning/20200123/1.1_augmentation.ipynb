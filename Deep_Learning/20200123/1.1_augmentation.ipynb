{
 "cells": [
  {
   "cell_type": "code",
   "execution_count": 1,
   "metadata": {
    "ExecuteTime": {
     "end_time": "2020-01-23T01:34:15.442531Z",
     "start_time": "2020-01-23T01:34:13.151220Z"
    }
   },
   "outputs": [
    {
     "name": "stderr",
     "output_type": "stream",
     "text": [
      "Using TensorFlow backend.\n"
     ]
    }
   ],
   "source": [
    "from keras.models import Sequential\n",
    "from keras.layers import Dense\n",
    "from keras.layers import Flatten\n",
    "from keras.layers.convolutional import Conv2D\n",
    "from keras.layers.convolutional import MaxPooling2D\n",
    "from keras.layers import Activation, Dropout, Flatten, Dense\n",
    "import keras\n",
    "import tensorflow as tf\n",
    "import numpy as np\n",
    "from numpy  import expand_dims\n",
    "import cv2\n",
    "from matplotlib import pyplot as plt\n",
    "from keras.preprocessing.image import ImageDataGenerator, array_to_img, img_to_array, load_img\n",
    "np.random.seed(15)\n",
    "import matplotlib.pyplot as plt\n",
    "import PIL"
   ]
  },
  {
   "cell_type": "markdown",
   "metadata": {},
   "source": [
    "# 개 고양이 인식\n",
    "\n",
    "- https://keraskorea.github.io/posts/2018-10-24-little_data_powerful_model/\n",
    "- https://www.kaggle.com/c/dogs-vs-cats/data\n",
    "- 학습 데이터로 1,000장의 고양이 사진과 1,000장의 강아지 사진을 사용 (kaggle  25,000자)\n",
    "- 검증 데이터로는 각각 400장 사용"
   ]
  },
  {
   "cell_type": "markdown",
   "metadata": {},
   "source": [
    "## 1. Augmentation 사용 했을 때"
   ]
  },
  {
   "cell_type": "code",
   "execution_count": 2,
   "metadata": {
    "ExecuteTime": {
     "end_time": "2020-01-23T00:20:27.504985Z",
     "start_time": "2020-01-23T00:20:27.153918Z"
    }
   },
   "outputs": [
    {
     "name": "stdout",
     "output_type": "stream",
     "text": [
      "Found 2000 images belonging to 2 classes.\n",
      "Found 800 images belonging to 2 classes.\n",
      "Found 800 images belonging to 2 classes.\n"
     ]
    }
   ],
   "source": [
    "#데이터 호출\n",
    "\n",
    "batch_size = 16\n",
    "\n",
    "train_datagen = ImageDataGenerator(\n",
    "        rescale=1./255,\n",
    "        shear_range=0.2,\n",
    "        zoom_range=0.2,\n",
    "        horizontal_flip=True)\n",
    "\n",
    "# 검증 및 테스트 이미지는 augmentation을 적용하지 않음(이미지 원본을 사용)\n",
    "validation_datagen = ImageDataGenerator(rescale=1./255)\n",
    "test_datagen = ImageDataGenerator(rescale=1./255)\n",
    "\n",
    "# 이미지를 배치 단위로 불러와 줄 generator입니다.\n",
    "train_generator = train_datagen.flow_from_directory(\n",
    "        'smallcatdog/train', \n",
    "        target_size=(150, 150), \n",
    "        batch_size=batch_size,\n",
    "        class_mode='binary') \n",
    "\n",
    "validation_generator = validation_datagen.flow_from_directory(\n",
    "        'smallcatdog/validation',\n",
    "        target_size=(150, 150),\n",
    "        batch_size=batch_size,\n",
    "        class_mode='binary')\n",
    "\n",
    "test_generator = test_datagen.flow_from_directory(\n",
    "        'smallcatdog/validation',\n",
    "        target_size=(150, 150),\n",
    "        batch_size=batch_size,\n",
    "        class_mode='binary')"
   ]
  },
  {
   "cell_type": "code",
   "execution_count": 3,
   "metadata": {
    "ExecuteTime": {
     "end_time": "2020-01-23T00:24:19.955683Z",
     "start_time": "2020-01-23T00:24:19.760821Z"
    }
   },
   "outputs": [],
   "source": [
    "#CNN 구현 \n",
    "\n",
    "\n",
    "model = Sequential()\n",
    "\n",
    "\n",
    "model.add(Conv2D(32, (3, 3), input_shape=(150, 150,3)))\n",
    "model.add(Activation('relu'))\n",
    "model.add(MaxPooling2D(pool_size=(2, 2)))\n",
    "\n",
    "model.add(Conv2D(32, (3, 3)))\n",
    "model.add(Activation('relu'))\n",
    "model.add(MaxPooling2D(pool_size=(2, 2)))\n",
    "\n",
    "model.add(Conv2D(64, (3, 3)))\n",
    "model.add(Activation('relu'))\n",
    "model.add(MaxPooling2D(pool_size=(2, 2))) \n",
    "#맥스풀링 여러개쓰는 이유는 작은사이즈의 고양이도 있기 때문에 작게 들어가서 잡아줄 필요가 있다.계층구조를 많이 주면 성능에 도움이 된다.\n",
    "\n",
    "\n",
    "model.add(Flatten())  # this converts our 3D feature maps to 1D feature vectors\n",
    "\n",
    "\n",
    "model.add(Dense(64))\n",
    "model.add(Activation('relu'))\n",
    "model.add(Dropout(0.5))\n",
    "\n",
    "\n",
    "model.add(Dense(1))\n",
    "model.add(Activation('sigmoid'))# 0~ 1값나옴\n",
    "\n",
    "model.compile(loss='binary_crossentropy',\n",
    "              optimizer='adam',\n",
    "              metrics=['accuracy'])"
   ]
  },
  {
   "cell_type": "code",
   "execution_count": 11,
   "metadata": {
    "ExecuteTime": {
     "end_time": "2020-01-23T01:33:42.895041Z",
     "start_time": "2020-01-23T01:32:14.905425Z"
    }
   },
   "outputs": [
    {
     "name": "stdout",
     "output_type": "stream",
     "text": [
      "Epoch 1/5\n",
      "125/125 [==============================] - 18s 141ms/step - loss: 0.2517 - accuracy: 0.9115 - val_loss: 1.3727 - val_accuracy: 0.7200\n",
      "Epoch 2/5\n",
      "125/125 [==============================] - 18s 143ms/step - loss: 0.2397 - accuracy: 0.9220 - val_loss: 0.4486 - val_accuracy: 0.7125\n",
      "Epoch 3/5\n",
      "125/125 [==============================] - 18s 141ms/step - loss: 0.2571 - accuracy: 0.9130 - val_loss: 2.5709 - val_accuracy: 0.7275\n",
      "Epoch 4/5\n",
      "125/125 [==============================] - 17s 139ms/step - loss: 0.2438 - accuracy: 0.9220 - val_loss: 1.4916 - val_accuracy: 0.7300\n",
      "Epoch 5/5\n",
      "125/125 [==============================] - 17s 138ms/step - loss: 0.2745 - accuracy: 0.9205 - val_loss: 1.8981 - val_accuracy: 0.7225\n",
      "0.7875000238418579\n"
     ]
    }
   ],
   "source": [
    "# steps_per_epoch는 한 세대마다 몇 번 생성기로부터 데이터를 얻을지를 나타내는 값\n",
    "# 한 세대마다 사용되는 학습데이터의 수는 steps_per_epoch * batch_size\n",
    "        \n",
    "model.fit_generator(\n",
    "        train_generator,\n",
    "        steps_per_epoch=2000 // batch_size,    # 2000/16     한번에 125개씩 생성\n",
    "        epochs=5,  #50\n",
    "        validation_data=validation_generator,\n",
    "        validation_steps=800 // batch_size)     # 800/16   한번에 50개씩 생성\n",
    "\n",
    "#모델 저장\n",
    "model.save(\"smallcatdog_use_aug.h5\")\n",
    "scores = model.evaluate_generator( test_generator,       steps = 5)\n",
    "print(scores[1])"
   ]
  },
  {
   "cell_type": "code",
   "execution_count": 12,
   "metadata": {
    "ExecuteTime": {
     "end_time": "2020-01-23T01:33:50.140252Z",
     "start_time": "2020-01-23T01:33:48.607403Z"
    }
   },
   "outputs": [
    {
     "name": "stdout",
     "output_type": "stream",
     "text": [
      "-- Evaluate --\n",
      "0.7225000262260437\n"
     ]
    }
   ],
   "source": [
    "# 모델 평가하기\n",
    "print(\"-- Evaluate --\")\n",
    "scores = model.evaluate_generator( test_generator,       steps = 800/16) #전체 800개 , 한번에 16개 씩 가져옴\n",
    "print(scores[1])"
   ]
  },
  {
   "cell_type": "markdown",
   "metadata": {},
   "source": [
    "## 2. Augmentation 없이 학습\n",
    "- 기본 이미지만 사용 했을 때\n",
    "- scale 만 사용"
   ]
  },
  {
   "cell_type": "code",
   "execution_count": 7,
   "metadata": {
    "ExecuteTime": {
     "end_time": "2020-01-23T00:34:57.038203Z",
     "start_time": "2020-01-23T00:34:56.689053Z"
    }
   },
   "outputs": [
    {
     "name": "stdout",
     "output_type": "stream",
     "text": [
      "Found 2000 images belonging to 2 classes.\n",
      "Found 800 images belonging to 2 classes.\n",
      "Found 800 images belonging to 2 classes.\n"
     ]
    }
   ],
   "source": [
    "# augmentation 없이  학습\n",
    "batch_size = 16\n",
    "\n",
    "train_datagen = ImageDataGenerator(rescale=1./255 )\n",
    "validation_datagen = ImageDataGenerator(rescale=1./255)\n",
    "test_datagen = ImageDataGenerator(rescale=1./255)\n",
    "\n",
    "# 이미지를 배치 단위로 불러와 줄 generator입니다.\n",
    "train_generator = train_datagen.flow_from_directory(\n",
    "        'smallcatdog/train',  # this is the target directory\n",
    "        target_size=(150, 150),  # 모든 이미지의 크기가 150x150로 조정됩니다.\n",
    "        batch_size=batch_size,\n",
    "        class_mode='binary')  # binary_crossentropy 손실 함수를 사용하므로 binary 형태로 라벨을 불러와야 합니다.\n",
    "\n",
    "validation_generator = validation_datagen.flow_from_directory(\n",
    "        'smallcatdog/validation',\n",
    "        target_size=(150, 150),\n",
    "        batch_size=batch_size,\n",
    "        class_mode='binary')\n",
    "\n",
    "test_generator = test_datagen.flow_from_directory(\n",
    "        'smallcatdog/validation',\n",
    "        target_size=(150, 150),\n",
    "        batch_size=batch_size,\n",
    "        class_mode='binary')"
   ]
  },
  {
   "cell_type": "code",
   "execution_count": 9,
   "metadata": {
    "ExecuteTime": {
     "end_time": "2020-01-23T01:00:20.358398Z",
     "start_time": "2020-01-23T00:45:35.697328Z"
    },
    "scrolled": true
   },
   "outputs": [
    {
     "name": "stdout",
     "output_type": "stream",
     "text": [
      "Epoch 1/50\n",
      "125/125 [==============================] - 18s 140ms/step - loss: 0.7383 - accuracy: 0.5220 - val_loss: 0.6874 - val_accuracy: 0.5263\n",
      "Epoch 2/50\n",
      "125/125 [==============================] - 18s 142ms/step - loss: 0.6698 - accuracy: 0.5925 - val_loss: 0.6642 - val_accuracy: 0.6550\n",
      "Epoch 3/50\n",
      "125/125 [==============================] - 18s 144ms/step - loss: 0.6130 - accuracy: 0.6695 - val_loss: 0.8499 - val_accuracy: 0.6900\n",
      "Epoch 4/50\n",
      "125/125 [==============================] - 18s 143ms/step - loss: 0.5769 - accuracy: 0.7000 - val_loss: 0.6919 - val_accuracy: 0.6825\n",
      "Epoch 5/50\n",
      "125/125 [==============================] - 17s 137ms/step - loss: 0.5442 - accuracy: 0.7275 - val_loss: 0.4901 - val_accuracy: 0.6875\n",
      "Epoch 6/50\n",
      "125/125 [==============================] - 18s 141ms/step - loss: 0.4808 - accuracy: 0.7765 - val_loss: 0.5820 - val_accuracy: 0.7250\n",
      "Epoch 7/50\n",
      "125/125 [==============================] - 18s 140ms/step - loss: 0.4602 - accuracy: 0.7870 - val_loss: 0.5028 - val_accuracy: 0.6963\n",
      "Epoch 8/50\n",
      "125/125 [==============================] - 18s 141ms/step - loss: 0.4205 - accuracy: 0.8040 - val_loss: 0.5121 - val_accuracy: 0.7325\n",
      "Epoch 9/50\n",
      "125/125 [==============================] - 18s 144ms/step - loss: 0.3841 - accuracy: 0.8215 - val_loss: 0.4771 - val_accuracy: 0.7425\n",
      "Epoch 10/50\n",
      "125/125 [==============================] - 17s 140ms/step - loss: 0.3407 - accuracy: 0.8555 - val_loss: 0.5726 - val_accuracy: 0.7513\n",
      "Epoch 11/50\n",
      "125/125 [==============================] - 18s 144ms/step - loss: 0.3159 - accuracy: 0.8705 - val_loss: 0.5857 - val_accuracy: 0.7387\n",
      "Epoch 12/50\n",
      "125/125 [==============================] - 17s 140ms/step - loss: 0.2889 - accuracy: 0.8820 - val_loss: 0.4793 - val_accuracy: 0.7163\n",
      "Epoch 13/50\n",
      "125/125 [==============================] - 19s 152ms/step - loss: 0.2555 - accuracy: 0.8980 - val_loss: 0.5588 - val_accuracy: 0.7150\n",
      "Epoch 14/50\n",
      "125/125 [==============================] - 17s 140ms/step - loss: 0.2314 - accuracy: 0.9065 - val_loss: 0.6748 - val_accuracy: 0.7400\n",
      "Epoch 15/50\n",
      "125/125 [==============================] - 18s 140ms/step - loss: 0.2288 - accuracy: 0.9060 - val_loss: 0.6922 - val_accuracy: 0.7300\n",
      "Epoch 16/50\n",
      "125/125 [==============================] - 17s 140ms/step - loss: 0.1909 - accuracy: 0.9260 - val_loss: 0.5496 - val_accuracy: 0.6862\n",
      "Epoch 17/50\n",
      "125/125 [==============================] - 17s 140ms/step - loss: 0.1813 - accuracy: 0.9330 - val_loss: 0.8925 - val_accuracy: 0.7125\n",
      "Epoch 18/50\n",
      "125/125 [==============================] - 18s 147ms/step - loss: 0.1833 - accuracy: 0.9325 - val_loss: 1.1883 - val_accuracy: 0.7300\n",
      "Epoch 19/50\n",
      "125/125 [==============================] - 18s 146ms/step - loss: 0.1591 - accuracy: 0.9455 - val_loss: 1.9284 - val_accuracy: 0.7150\n",
      "Epoch 20/50\n",
      "125/125 [==============================] - 19s 149ms/step - loss: 0.1573 - accuracy: 0.9395 - val_loss: 0.2995 - val_accuracy: 0.7150\n",
      "Epoch 21/50\n",
      "125/125 [==============================] - 18s 145ms/step - loss: 0.1577 - accuracy: 0.9375 - val_loss: 1.4724 - val_accuracy: 0.7125\n",
      "Epoch 22/50\n",
      "125/125 [==============================] - 18s 144ms/step - loss: 0.1843 - accuracy: 0.9440 - val_loss: 1.2417 - val_accuracy: 0.7250\n",
      "Epoch 23/50\n",
      "125/125 [==============================] - 18s 145ms/step - loss: 0.1529 - accuracy: 0.9445 - val_loss: 0.6762 - val_accuracy: 0.6913\n",
      "Epoch 24/50\n",
      "125/125 [==============================] - 18s 141ms/step - loss: 0.1563 - accuracy: 0.9525 - val_loss: 0.9872 - val_accuracy: 0.7000\n",
      "Epoch 25/50\n",
      "125/125 [==============================] - 17s 139ms/step - loss: 0.1574 - accuracy: 0.9465 - val_loss: 1.2786 - val_accuracy: 0.7225\n",
      "Epoch 26/50\n",
      "125/125 [==============================] - 18s 140ms/step - loss: 0.1717 - accuracy: 0.9385 - val_loss: 1.3153 - val_accuracy: 0.7188\n",
      "Epoch 27/50\n",
      "125/125 [==============================] - 18s 141ms/step - loss: 0.1715 - accuracy: 0.9390 - val_loss: 1.5496 - val_accuracy: 0.7063\n",
      "Epoch 28/50\n",
      "125/125 [==============================] - 17s 138ms/step - loss: 0.1606 - accuracy: 0.9490 - val_loss: 2.1040 - val_accuracy: 0.7287\n",
      "Epoch 29/50\n",
      "125/125 [==============================] - 17s 138ms/step - loss: 0.1672 - accuracy: 0.9395 - val_loss: 0.9349 - val_accuracy: 0.7000\n",
      "Epoch 30/50\n",
      "125/125 [==============================] - 17s 138ms/step - loss: 0.1773 - accuracy: 0.9405 - val_loss: 1.3910 - val_accuracy: 0.7250\n",
      "Epoch 31/50\n",
      "125/125 [==============================] - 17s 138ms/step - loss: 0.1591 - accuracy: 0.9410 - val_loss: 0.8976 - val_accuracy: 0.6837\n",
      "Epoch 32/50\n",
      "125/125 [==============================] - 17s 138ms/step - loss: 0.1807 - accuracy: 0.9350 - val_loss: 1.0593 - val_accuracy: 0.6675\n",
      "Epoch 33/50\n",
      "125/125 [==============================] - 17s 138ms/step - loss: 0.2027 - accuracy: 0.9340 - val_loss: 1.0973 - val_accuracy: 0.6712\n",
      "Epoch 34/50\n",
      "125/125 [==============================] - 17s 139ms/step - loss: 0.1720 - accuracy: 0.9380 - val_loss: 2.8595 - val_accuracy: 0.6913\n",
      "Epoch 35/50\n",
      "125/125 [==============================] - 17s 139ms/step - loss: 0.2162 - accuracy: 0.9405 - val_loss: 2.2916 - val_accuracy: 0.7212\n",
      "Epoch 36/50\n",
      "125/125 [==============================] - 18s 143ms/step - loss: 0.1715 - accuracy: 0.9310 - val_loss: 2.7638 - val_accuracy: 0.7237\n",
      "Epoch 37/50\n",
      "125/125 [==============================] - 18s 141ms/step - loss: 0.2547 - accuracy: 0.9165 - val_loss: 1.6269 - val_accuracy: 0.7125\n",
      "Epoch 38/50\n",
      "125/125 [==============================] - 17s 138ms/step - loss: 0.2017 - accuracy: 0.9310 - val_loss: 0.5852 - val_accuracy: 0.6600\n",
      "Epoch 39/50\n",
      "125/125 [==============================] - 17s 138ms/step - loss: 0.2410 - accuracy: 0.9270 - val_loss: 1.3444 - val_accuracy: 0.7013\n",
      "Epoch 40/50\n",
      "125/125 [==============================] - 17s 139ms/step - loss: 0.2023 - accuracy: 0.9275 - val_loss: 0.4654 - val_accuracy: 0.7500\n",
      "Epoch 41/50\n",
      "125/125 [==============================] - 18s 145ms/step - loss: 0.2089 - accuracy: 0.9270 - val_loss: 1.5214 - val_accuracy: 0.7487\n",
      "Epoch 42/50\n",
      "125/125 [==============================] - 17s 138ms/step - loss: 0.2089 - accuracy: 0.9260 - val_loss: 0.3706 - val_accuracy: 0.7225\n",
      "Epoch 43/50\n",
      "125/125 [==============================] - 18s 142ms/step - loss: 0.2443 - accuracy: 0.9185 - val_loss: 0.8635 - val_accuracy: 0.7163\n",
      "Epoch 44/50\n",
      "125/125 [==============================] - 18s 143ms/step - loss: 0.2318 - accuracy: 0.9315 - val_loss: 1.2773 - val_accuracy: 0.6963\n",
      "Epoch 45/50\n",
      "125/125 [==============================] - 18s 141ms/step - loss: 0.2477 - accuracy: 0.9225 - val_loss: 0.9096 - val_accuracy: 0.7000\n",
      "Epoch 46/50\n",
      "125/125 [==============================] - 18s 142ms/step - loss: 0.2200 - accuracy: 0.9200 - val_loss: 1.3277 - val_accuracy: 0.6712\n",
      "Epoch 47/50\n",
      "125/125 [==============================] - 18s 144ms/step - loss: 0.2455 - accuracy: 0.9155 - val_loss: 0.4232 - val_accuracy: 0.7100\n",
      "Epoch 48/50\n",
      "125/125 [==============================] - 17s 140ms/step - loss: 0.2575 - accuracy: 0.9170 - val_loss: 0.5330 - val_accuracy: 0.7287\n",
      "Epoch 49/50\n",
      "125/125 [==============================] - 18s 141ms/step - loss: 0.2777 - accuracy: 0.9140 - val_loss: 0.9203 - val_accuracy: 0.7038\n",
      "Epoch 50/50\n",
      "125/125 [==============================] - 18s 147ms/step - loss: 0.2617 - accuracy: 0.9130 - val_loss: 0.5438 - val_accuracy: 0.7250\n"
     ]
    },
    {
     "data": {
      "text/plain": [
       "<keras.callbacks.callbacks.History at 0x15dd2447ef0>"
      ]
     },
     "execution_count": 9,
     "metadata": {},
     "output_type": "execute_result"
    }
   ],
   "source": [
    "#네트워크 생성\n",
    "model = Sequential()\n",
    "model.add(Conv2D(32, (3, 3), input_shape=(150, 150,3)))\n",
    "model.add(Activation('relu'))\n",
    "model.add(MaxPooling2D(pool_size=(2, 2)))\n",
    "\n",
    "model.add(Conv2D(32, (3, 3)))\n",
    "model.add(Activation('relu'))\n",
    "model.add(MaxPooling2D(pool_size=(2, 2)))\n",
    "\n",
    "model.add(Conv2D(64, (3, 3)))\n",
    "model.add(Activation('relu'))\n",
    "model.add(MaxPooling2D(pool_size=(2, 2)))\n",
    "\n",
    "model.add(Flatten())  # this converts our 3D feature maps to 1D feature vectors\n",
    "model.add(Dense(64))\n",
    "model.add(Activation('relu'))\n",
    "model.add(Dropout(0.5))\n",
    "model.add(Dense(1))\n",
    "model.add(Activation('sigmoid'))\n",
    "\n",
    "model.compile(loss='binary_crossentropy',\n",
    "              optimizer='rmsprop',\n",
    "              metrics=['accuracy'])\n",
    "\n",
    "model.fit_generator(\n",
    "        train_generator,\n",
    "        steps_per_epoch=2000 // batch_size,\n",
    "        epochs=50, # 50\n",
    "        validation_data=validation_generator,\n",
    "        validation_steps=800 // batch_size)"
   ]
  },
  {
   "cell_type": "code",
   "execution_count": 10,
   "metadata": {
    "ExecuteTime": {
     "end_time": "2020-01-23T01:00:20.646657Z",
     "start_time": "2020-01-23T01:00:20.380339Z"
    }
   },
   "outputs": [
    {
     "name": "stdout",
     "output_type": "stream",
     "text": [
      "0.7250000238418579\n"
     ]
    }
   ],
   "source": [
    "#모델 저장\n",
    "model.save(\"smallcatdog_without_aug.h5\")\n",
    "scores = model.evaluate_generator( test_generator,       steps = 5)\n",
    "print(scores[1])"
   ]
  },
  {
   "cell_type": "markdown",
   "metadata": {},
   "source": [
    "## 3. Model 불러와서 재적용"
   ]
  },
  {
   "cell_type": "code",
   "execution_count": 2,
   "metadata": {
    "ExecuteTime": {
     "end_time": "2020-01-23T01:35:26.144232Z",
     "start_time": "2020-01-23T01:35:25.741244Z"
    },
    "scrolled": true
   },
   "outputs": [
    {
     "name": "stdout",
     "output_type": "stream",
     "text": [
      "Model: \"sequential_3\"\n",
      "_________________________________________________________________\n",
      "Layer (type)                 Output Shape              Param #   \n",
      "=================================================================\n",
      "conv2d_7 (Conv2D)            (None, 148, 148, 32)      896       \n",
      "_________________________________________________________________\n",
      "activation_11 (Activation)   (None, 148, 148, 32)      0         \n",
      "_________________________________________________________________\n",
      "max_pooling2d_7 (MaxPooling2 (None, 74, 74, 32)        0         \n",
      "_________________________________________________________________\n",
      "conv2d_8 (Conv2D)            (None, 72, 72, 32)        9248      \n",
      "_________________________________________________________________\n",
      "activation_12 (Activation)   (None, 72, 72, 32)        0         \n",
      "_________________________________________________________________\n",
      "max_pooling2d_8 (MaxPooling2 (None, 36, 36, 32)        0         \n",
      "_________________________________________________________________\n",
      "conv2d_9 (Conv2D)            (None, 34, 34, 64)        18496     \n",
      "_________________________________________________________________\n",
      "activation_13 (Activation)   (None, 34, 34, 64)        0         \n",
      "_________________________________________________________________\n",
      "max_pooling2d_9 (MaxPooling2 (None, 17, 17, 64)        0         \n",
      "_________________________________________________________________\n",
      "flatten_3 (Flatten)          (None, 18496)             0         \n",
      "_________________________________________________________________\n",
      "dense_5 (Dense)              (None, 64)                1183808   \n",
      "_________________________________________________________________\n",
      "activation_14 (Activation)   (None, 64)                0         \n",
      "_________________________________________________________________\n",
      "dropout_3 (Dropout)          (None, 64)                0         \n",
      "_________________________________________________________________\n",
      "dense_6 (Dense)              (None, 1)                 65        \n",
      "_________________________________________________________________\n",
      "activation_15 (Activation)   (None, 1)                 0         \n",
      "=================================================================\n",
      "Total params: 1,212,513\n",
      "Trainable params: 1,212,513\n",
      "Non-trainable params: 0\n",
      "_________________________________________________________________\n"
     ]
    }
   ],
   "source": [
    "from keras.models import load_model\n",
    "model = load_model(\"smallcatdog_use_aug.h5\")\n",
    "model.summary()"
   ]
  },
  {
   "cell_type": "code",
   "execution_count": 4,
   "metadata": {
    "ExecuteTime": {
     "end_time": "2020-01-23T01:38:15.332461Z",
     "start_time": "2020-01-23T01:38:13.591307Z"
    }
   },
   "outputs": [
    {
     "name": "stdout",
     "output_type": "stream",
     "text": [
      "Found 800 images belonging to 2 classes.\n",
      "0.7225000262260437\n"
     ]
    }
   ],
   "source": [
    "# augmentation 없이  학습\n",
    "batch_size = 16\n",
    "\n",
    "test_datagen = ImageDataGenerator(rescale=1./255)\n",
    "\n",
    "test_generator = test_datagen.flow_from_directory(\n",
    "        'smallcatdog/validation',\n",
    "        target_size=(150, 150),\n",
    "        batch_size=batch_size,\n",
    "        class_mode='binary')\n",
    "\n",
    "scores = model.evaluate_generator( test_generator, steps = 800//16) #전체테스트사이즈/배치사이즈\n",
    "print(scores[1])"
   ]
  }
 ],
 "metadata": {
  "kernelspec": {
   "display_name": "Python 3",
   "language": "python",
   "name": "python3"
  },
  "language_info": {
   "codemirror_mode": {
    "name": "ipython",
    "version": 3
   },
   "file_extension": ".py",
   "mimetype": "text/x-python",
   "name": "python",
   "nbconvert_exporter": "python",
   "pygments_lexer": "ipython3",
   "version": "3.6.10"
  },
  "toc": {
   "base_numbering": 1,
   "nav_menu": {},
   "number_sections": false,
   "sideBar": true,
   "skip_h1_title": false,
   "title_cell": "Table of Contents",
   "title_sidebar": "Contents",
   "toc_cell": false,
   "toc_position": {},
   "toc_section_display": true,
   "toc_window_display": false
  },
  "varInspector": {
   "cols": {
    "lenName": 16,
    "lenType": 16,
    "lenVar": 40
   },
   "kernels_config": {
    "python": {
     "delete_cmd_postfix": "",
     "delete_cmd_prefix": "del ",
     "library": "var_list.py",
     "varRefreshCmd": "print(var_dic_list())"
    },
    "r": {
     "delete_cmd_postfix": ") ",
     "delete_cmd_prefix": "rm(",
     "library": "var_list.r",
     "varRefreshCmd": "cat(var_dic_list()) "
    }
   },
   "types_to_exclude": [
    "module",
    "function",
    "builtin_function_or_method",
    "instance",
    "_Feature"
   ],
   "window_display": false
  }
 },
 "nbformat": 4,
 "nbformat_minor": 2
}
