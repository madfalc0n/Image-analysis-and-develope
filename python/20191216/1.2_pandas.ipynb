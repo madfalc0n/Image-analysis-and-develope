{
 "cells": [
  {
   "cell_type": "markdown",
   "metadata": {},
   "source": [
    "## 1.2 Pandas"
   ]
  },
  {
   "cell_type": "code",
   "execution_count": 35,
   "metadata": {},
   "outputs": [],
   "source": [
    "import pandas as pd\n",
    "import numpy as np"
   ]
  },
  {
   "cell_type": "code",
   "execution_count": 2,
   "metadata": {},
   "outputs": [],
   "source": [
    "#Series는 일련의 객체를 담을 수 있는 1차원 배열 같은 자료구조"
   ]
  },
  {
   "cell_type": "code",
   "execution_count": 6,
   "metadata": {},
   "outputs": [],
   "source": [
    "def pprint(arr):\n",
    "    print(\"type:{}\".format(type(arr)))\n",
    "    print(\"shape: {}, dimension: {}, dtype:{}\".format(arr.shape, arr.ndim, arr.dtype))\n",
    "    print(\"Array's Data:\\n\", arr)"
   ]
  },
  {
   "cell_type": "code",
   "execution_count": 11,
   "metadata": {},
   "outputs": [
    {
     "name": "stdout",
     "output_type": "stream",
     "text": [
      "type:<class 'pandas.core.series.Series'>\n",
      "shape: (3,), dimension: 1, dtype:int64\n",
      "Array's Data:\n",
      " a    1\n",
      "b    2\n",
      "c    3\n",
      "dtype: int64\n"
     ]
    }
   ],
   "source": [
    "dict_data = {'a':1, 'b':2, 'c':3}\n",
    "sr = pd.Series(dict_data)\n",
    "pprint(sr)\n"
   ]
  },
  {
   "cell_type": "code",
   "execution_count": 13,
   "metadata": {},
   "outputs": [
    {
     "name": "stdout",
     "output_type": "stream",
     "text": [
      "type:<class 'pandas.core.series.Series'>\n",
      "shape: (5,), dimension: 1, dtype:object\n",
      "Array's Data:\n",
      " 0    2019-12-15\n",
      "1          3.14\n",
      "2           ABC\n",
      "3           100\n",
      "4          True\n",
      "dtype: object\n",
      "RangeIndex(start=0, stop=5, step=1) ['2019-12-15' 3.14 'ABC' 100 True]\n"
     ]
    }
   ],
   "source": [
    "list_data = ['2019-12-15', 3.14,'ABC',100,True]\n",
    "sr1 = pd.Series(list_data)\n",
    "pprint(sr1) #모든 타입을 포괄하는 object로 정의 되어있음\n",
    "print(sr1.index, sr1.values) #인덱스객체(RangeIndex) 자동생성"
   ]
  },
  {
   "cell_type": "markdown",
   "metadata": {},
   "source": [
    "### 슬라이싱"
   ]
  },
  {
   "cell_type": "code",
   "execution_count": 31,
   "metadata": {},
   "outputs": [
    {
     "name": "stdout",
     "output_type": "stream",
     "text": [
      "type:<class 'pandas.core.series.Series'>\n",
      "shape: (5,), dimension: 1, dtype:object\n",
      "Array's Data:\n",
      " today    2019-12-15\n",
      "원주율            3.14\n",
      "초콜렛             ABC\n",
      "점수              100\n",
      "승인             True\n",
      "dtype: object\n",
      "원주율    3.14\n",
      "초콜렛     ABC\n",
      "dtype: object\n",
      "today    2019-12-15\n",
      "점수              100\n",
      "dtype: object\n",
      "원주율    3.14\n",
      "초콜렛     ABC\n",
      "dtype: object\n",
      "today    2019-12-15\n",
      "원주율            3.14\n",
      "초콜렛             ABC\n",
      "점수              100\n",
      "dtype: object\n"
     ]
    }
   ],
   "source": [
    "tup_data = ['2019-12-15', 3.14,'ABC',100,True]\n",
    "sr2 = pd.Series(list_data, index=['today', '원주율','초콜렛','점수','승인'])\n",
    "pprint(sr2)\n",
    "print(sr2[[1,2]]) #여러 요소에 접근할 때 인덱스를 리스트로 활용\n",
    "print(sr2[['today','점수']])#여러 요소에 접근할 때 라벨을 리스트로 활용\n",
    "print(sr2[1:3]) #인덱스 범위 지정\n",
    "print(sr2['today':'점수']) #라벨의 범위 지정"
   ]
  },
  {
   "cell_type": "markdown",
   "metadata": {},
   "source": [
    "## isnull, notnull 함수-누락된 데이터를 확인하는 함수\n",
    "1. boolean 형식으로 나온다"
   ]
  },
  {
   "cell_type": "code",
   "execution_count": 45,
   "metadata": {},
   "outputs": [
    {
     "name": "stdout",
     "output_type": "stream",
     "text": [
      "a    1.0\n",
      "b    2.0\n",
      "d    NaN\n",
      "c    3.0\n",
      "dtype: float64\n"
     ]
    }
   ],
   "source": [
    "dict_data = {'a':1, 'b':2, 'd':np.nan, 'c':3}\n",
    "sr = pd.Series(dict_data)\n",
    "print(sr)"
   ]
  },
  {
   "cell_type": "code",
   "execution_count": 50,
   "metadata": {},
   "outputs": [
    {
     "name": "stdout",
     "output_type": "stream",
     "text": [
      "a    False\n",
      "b    False\n",
      "d     True\n",
      "c    False\n",
      "dtype: bool\n",
      "a     True\n",
      "b     True\n",
      "d    False\n",
      "c     True\n",
      "dtype: bool\n",
      "a    2.0\n",
      "b    4.0\n",
      "c    6.0\n",
      "d    NaN\n",
      "dtype: float64\n"
     ]
    }
   ],
   "source": [
    "print(pd.isnull(sr)) #print(sr.isnull())\n",
    "print(pd.notnull(sr)) #print(sr.notnull())\n",
    "dict_data2 = {'a':1, 'b':2, 'c':3, 'd':4}\n",
    "sr2 = pd.Series(dict_data2)\n",
    "print(sr+sr2) #시리즈는 색인이나 라벨로 자동 정렬 된다. , Na + 숫자는 Na이다"
   ]
  },
  {
   "cell_type": "code",
   "execution_count": 54,
   "metadata": {},
   "outputs": [
    {
     "name": "stdout",
     "output_type": "stream",
     "text": [
      "0    4\n",
      "1    4\n",
      "2    6\n",
      "3    4\n",
      "dtype: int64\n",
      "Bob      4\n",
      "Steve    4\n",
      "Jeff     6\n",
      "Ryan     4\n",
      "dtype: int64\n"
     ]
    }
   ],
   "source": [
    "dict_data3 = {'0':4, '1':4, '2':6, '3':4}\n",
    "sr3 = pd.Series(dict_data3)\n",
    "print(sr3)\n",
    "sr3.index = ['Bob', 'Steve', 'Jeff', 'Ryan'] #index name도 변경 가능하다\n",
    "print(sr3)"
   ]
  },
  {
   "cell_type": "code",
   "execution_count": null,
   "metadata": {},
   "outputs": [],
   "source": []
  }
 ],
 "metadata": {
  "kernelspec": {
   "display_name": "Python 3",
   "language": "python",
   "name": "python3"
  },
  "language_info": {
   "codemirror_mode": {
    "name": "ipython",
    "version": 3
   },
   "file_extension": ".py",
   "mimetype": "text/x-python",
   "name": "python",
   "nbconvert_exporter": "python",
   "pygments_lexer": "ipython3",
   "version": "3.7.4"
  }
 },
 "nbformat": 4,
 "nbformat_minor": 2
}
