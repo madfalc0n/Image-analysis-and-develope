{
 "cells": [
  {
   "cell_type": "markdown",
   "metadata": {},
   "source": [
    "## Keras 를 통해 폐암 수술 환자의 생존율 예측하기 실습"
   ]
  },
  {
   "cell_type": "code",
   "execution_count": 17,
   "metadata": {},
   "outputs": [
    {
     "name": "stdout",
     "output_type": "stream",
     "text": [
      "Epoch 1/30\n",
      "470/470 [==============================] - 0s 185us/step - loss: 0.8510 - accuracy: 0.1489\n",
      "Epoch 2/30\n",
      "470/470 [==============================] - 0s 59us/step - loss: 0.8510 - accuracy: 0.1489\n",
      "Epoch 3/30\n",
      "470/470 [==============================] - 0s 62us/step - loss: 0.8510 - accuracy: 0.1489\n",
      "Epoch 4/30\n",
      "470/470 [==============================] - 0s 66us/step - loss: 0.8510 - accuracy: 0.1489\n",
      "Epoch 5/30\n",
      "470/470 [==============================] - 0s 66us/step - loss: 0.8510 - accuracy: 0.1489\n",
      "Epoch 6/30\n",
      "470/470 [==============================] - 0s 64us/step - loss: 0.8509 - accuracy: 0.1489\n",
      "Epoch 7/30\n",
      "470/470 [==============================] - 0s 64us/step - loss: 0.8503 - accuracy: 0.1489\n",
      "Epoch 8/30\n",
      "470/470 [==============================] - 0s 62us/step - loss: 0.2943 - accuracy: 0.6979\n",
      "Epoch 9/30\n",
      "470/470 [==============================] - 0s 62us/step - loss: 0.1488 - accuracy: 0.8511\n",
      "Epoch 10/30\n",
      "470/470 [==============================] - 0s 64us/step - loss: 0.1488 - accuracy: 0.8511\n",
      "Epoch 11/30\n",
      "470/470 [==============================] - 0s 62us/step - loss: 0.1488 - accuracy: 0.8511\n",
      "Epoch 12/30\n",
      "470/470 [==============================] - 0s 64us/step - loss: 0.1488 - accuracy: 0.8511\n",
      "Epoch 13/30\n",
      "470/470 [==============================] - 0s 64us/step - loss: 0.1488 - accuracy: 0.8511\n",
      "Epoch 14/30\n",
      "470/470 [==============================] - 0s 64us/step - loss: 0.1488 - accuracy: 0.8511\n",
      "Epoch 15/30\n",
      "470/470 [==============================] - 0s 66us/step - loss: 0.1488 - accuracy: 0.8511\n",
      "Epoch 16/30\n",
      "470/470 [==============================] - 0s 64us/step - loss: 0.1489 - accuracy: 0.8511\n",
      "Epoch 17/30\n",
      "470/470 [==============================] - 0s 64us/step - loss: 0.1488 - accuracy: 0.8511\n",
      "Epoch 18/30\n",
      "470/470 [==============================] - 0s 68us/step - loss: 0.1488 - accuracy: 0.8511\n",
      "Epoch 19/30\n",
      "470/470 [==============================] - 0s 62us/step - loss: 0.1488 - accuracy: 0.8511\n",
      "Epoch 20/30\n",
      "470/470 [==============================] - 0s 59us/step - loss: 0.1488 - accuracy: 0.8511\n",
      "Epoch 21/30\n",
      "470/470 [==============================] - 0s 64us/step - loss: 0.1488 - accuracy: 0.8511\n",
      "Epoch 22/30\n",
      "470/470 [==============================] - 0s 62us/step - loss: 0.1488 - accuracy: 0.8511\n",
      "Epoch 23/30\n",
      "470/470 [==============================] - 0s 62us/step - loss: 0.1488 - accuracy: 0.8511\n",
      "Epoch 24/30\n",
      "470/470 [==============================] - 0s 60us/step - loss: 0.1488 - accuracy: 0.8511\n",
      "Epoch 25/30\n",
      "470/470 [==============================] - 0s 62us/step - loss: 0.1488 - accuracy: 0.8511\n",
      "Epoch 26/30\n",
      "470/470 [==============================] - 0s 59us/step - loss: 0.1488 - accuracy: 0.8511\n",
      "Epoch 27/30\n",
      "470/470 [==============================] - 0s 59us/step - loss: 0.1488 - accuracy: 0.8511\n",
      "Epoch 28/30\n",
      "470/470 [==============================] - 0s 59us/step - loss: 0.1488 - accuracy: 0.8511\n",
      "Epoch 29/30\n",
      "470/470 [==============================] - 0s 59us/step - loss: 0.1488 - accuracy: 0.8511\n",
      "Epoch 30/30\n",
      "470/470 [==============================] - 0s 59us/step - loss: 0.1488 - accuracy: 0.8511\n",
      "470/470 [==============================] - 0s 81us/step\n",
      "\n",
      " Accuracy: 0.8511\n"
     ]
    }
   ],
   "source": [
    "##############폐암수술 환자 예측 분석 모델 #################\n",
    "# 라이브러리 호출\n",
    "import numpy\n",
    "import tensorflow as tf\n",
    "from keras.models import Sequential\n",
    "from keras.layers import Dense\n",
    "\n",
    "# 실행할 때마다 같은 결과를 출력하기 위해 설정하는 부분입니다.\n",
    "seed = 0\n",
    "numpy.random.seed(seed)\n",
    "tf.set_random_seed(seed)\n",
    "\n",
    "# 준비된 수술 환자 데이터를 불러들입니다.\n",
    "Data_set = numpy.loadtxt('./data/ThoraricSurgery.csv',delimiter=',')\n",
    "\n",
    "# 환자의 기록과 수술 결과를 X와 Y로 구분하여 저장합니다.\n",
    "X = Data_set[:,0:17]\n",
    "Y = Data_set[:,17]\n",
    "\n",
    "# 딥러닝 구조를 결정합니다(모델을 설정하고 실행).\n",
    "model = Sequential()\n",
    "\n",
    "# 첫 번째 은닉층에 input_dim을 적어 줌으로써 첫 번째 Dense가 은닉층 + 입력층의 역할을 겸합니다.\n",
    "# 데이터에서 17개의 값을 받아 은닉층의 30개 노드로 보낸다 \n",
    "model.add(Dense(30, input_dim=17, activation='relu'))  #activation : 출력층으로 전달할 때 사용할 활성화 함수, 은닉층에서 기울기 손실이 발생하는걸 막기위해 Relu 사용,\n",
    "model.add(Dense(1, activation='sigmoid'))  #출력층의 노드 수는 1개, 최종 출력 값에 사용될 활성화 함수\n",
    "\n",
    "# 딥러닝 실행 (오차 함수 :  평균제곱오차 함수 사용, optimizer: 'adam' -모멘텀 + 알엠에스프롭)\n",
    "model.compile(loss='mean_squared_error', optimizer='SGD',metrics=['accuracy'])  \n",
    "model.fit(X, Y, epochs=30, batch_size=10)\n",
    "\n",
    "# 결과를 출력합니다.\n",
    "print(\"\\n Accuracy: %.4f\" % (model.evaluate(X, Y)[1]))"
   ]
  },
  {
   "cell_type": "code",
   "execution_count": 20,
   "metadata": {},
   "outputs": [
    {
     "data": {
      "text/plain": [
       "array([[293.  ,   1.  ,   3.8 , ...,   0.  ,  62.  ,   0.  ],\n",
       "       [  1.  ,   2.  ,   2.88, ...,   0.  ,  60.  ,   0.  ],\n",
       "       [  8.  ,   2.  ,   3.19, ...,   0.  ,  66.  ,   1.  ],\n",
       "       ...,\n",
       "       [406.  ,   6.  ,   5.36, ...,   0.  ,  62.  ,   0.  ],\n",
       "       [ 25.  ,   8.  ,   4.32, ...,   0.  ,  58.  ,   1.  ],\n",
       "       [447.  ,   8.  ,   5.2 , ...,   0.  ,  49.  ,   0.  ]])"
      ]
     },
     "execution_count": 20,
     "metadata": {},
     "output_type": "execute_result"
    }
   ],
   "source": [
    "Data_set"
   ]
  }
 ],
 "metadata": {
  "kernelspec": {
   "display_name": "Python 3",
   "language": "python",
   "name": "python3"
  },
  "language_info": {
   "codemirror_mode": {
    "name": "ipython",
    "version": 3
   },
   "file_extension": ".py",
   "mimetype": "text/x-python",
   "name": "python",
   "nbconvert_exporter": "python",
   "pygments_lexer": "ipython3",
   "version": "3.7.4"
  }
 },
 "nbformat": 4,
 "nbformat_minor": 4
}
