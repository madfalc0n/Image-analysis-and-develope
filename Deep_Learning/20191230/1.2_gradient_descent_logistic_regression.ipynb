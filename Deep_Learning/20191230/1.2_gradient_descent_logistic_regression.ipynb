{
 "cells": [
  {
   "cell_type": "markdown",
   "metadata": {},
   "source": [
    "###  로그지스틱 회귀분석 : 로그함수를 이용한 오차 구하기"
   ]
  },
  {
   "cell_type": "code",
   "execution_count": 10,
   "metadata": {},
   "outputs": [
    {
     "name": "stdout",
     "output_type": "stream",
     "text": [
      "Epoch: 0 , loss=1.2676,  기울기 a=0.1849, 절편 b= -0.4334\n",
      "Epoch: 1000 , loss=0.0557,  기울기 a=-1.6009, 절편 b= 11.0208\n",
      "Epoch: 2000 , loss=0.0361,  기울기 a=-2.0366, 절편 b= 14.0909\n",
      "Epoch: 3000 , loss=0.0269,  기울기 a=-2.3380, 절편 b= 16.2087\n",
      "Epoch: 4000 , loss=0.0214,  기울기 a=-2.5708, 절편 b= 17.8417\n",
      "Epoch: 5000 , loss=0.0178,  기울기 a=-2.7607, 절편 b= 19.1734\n",
      "Epoch: 6000 , loss=0.0152,  기울기 a=-2.9211, 절편 b= 20.2982\n"
     ]
    }
   ],
   "source": [
    "import tensorflow as tf \n",
    "import numpy as np\n",
    "\n",
    "data =[[2, 0], [4, 0], [6, 0], [8, 1], [10, 1], [12, 1], [14, 1]]\n",
    "\n",
    "x_data = [i[0] for i in data]\n",
    "y_data = [i[1] for i in data]\n",
    "\n",
    "#임의의 a, b 값을 변수로 정의\n",
    "a = tf.Variable(tf.random_normal([1], dtype=tf.float64, seed=0))\n",
    "b = tf.Variable(tf.random_normal([1], dtype=tf.float64, seed=0))\n",
    "\n",
    "#시그모이드 함수 방정식 정의\n",
    "y = 1/ (1+ np.e**(a*x_data+b))\n",
    "\n",
    "#오차 loss 구하는 함수\n",
    "loss = -tf.reduce_mean(np.array(y_data)*tf.log(y)+(1-np.array(y_data))*tf.log(1-y))\n",
    "\n",
    "#학습률 \n",
    "learning_rate = 0.5\n",
    "\n",
    "#오차 계산(평균 제곱근, rmse, )\n",
    "rmse = tf.sqrt(tf.reduce_mean(tf.square(y-y_data))) #1.y와 y데이터를 빼고 2.서로 제곱하고 3.평균규하고 4.제곱근\n",
    "\n",
    "# 오차 loss 값이 최소인 값 찾는 식 정의\n",
    "gradient_descent = tf.train.GradientDescentOptimizer(learning_rate).minimize(loss)\n",
    "\n",
    "#텐서플로 이용하여 학습\n",
    "with tf.Session() as sess:\n",
    "    sess.run(tf.global_variables_initializer())     # 변수들을 메모리에 생성, 초기화\n",
    "    for step in range(6001):\n",
    "        sess.run(gradient_descent)\n",
    "        if step % 1000 == 0:\n",
    "            print(\"Epoch: %.f , loss=%.4f,  기울기 a=%.4f, 절편 b= %.4f\" % (step, sess.run(loss), sess.run(a), sess.run(b)))"
   ]
  },
  {
   "cell_type": "markdown",
   "metadata": {},
   "source": [
    "### 다중 입력값을 갖는 로지스틱 회귀 ( + 시그모이드)"
   ]
  },
  {
   "cell_type": "code",
   "execution_count": 16,
   "metadata": {},
   "outputs": [
    {
     "name": "stdout",
     "output_type": "stream",
     "text": [
      "Epoch: 0 , loss=1.9920,  기울기 a1=0.6889, 기울기 a2=0.2127, 절편 b= -0.0246\n",
      "Epoch: 500 , loss=0.2040,  기울기 a1=0.8227, 기울기 a2=-0.3460, 절편 b= -3.6150\n",
      "Epoch: 1000 , loss=0.1364,  기울기 a1=0.6800, 기울기 a2=0.1837, 절편 b= -5.3555\n",
      "Epoch: 1500 , loss=0.1018,  기울기 a1=0.5165, 기울기 a2=0.6467, 절편 b= -6.5704\n",
      "Epoch: 2000 , loss=0.0808,  기울기 a1=0.3769, 기울기 a2=1.0243, 절편 b= -7.5078\n",
      "Epoch: 2500 , loss=0.0669,  기울기 a1=0.2623, 기울기 a2=1.3336, 절편 b= -8.2720\n",
      "Epoch: 3000 , loss=0.0571,  기울기 a1=0.1683, 기울기 a2=1.5916, 절편 b= -8.9174\n",
      "Epoch: 3500 , loss=0.0497,  기울기 a1=0.0900, 기울기 a2=1.8108, 절편 b= -9.4761\n",
      "Epoch: 4000 , loss=0.0441,  기울기 a1=0.0238, 기울기 a2=2.0002, 절편 b= -9.9688\n",
      "Epoch: 4500 , loss=0.0396,  기울기 a1=-0.0331, 기울기 a2=2.1665, 절편 b= -10.4095\n",
      "Epoch: 5000 , loss=0.0359,  기울기 a1=-0.0826, 기울기 a2=2.3144, 절편 b= -10.8080\n",
      "Epoch: 5500 , loss=0.0328,  기울기 a1=-0.1263, 기울기 a2=2.4473, 절편 b= -11.1719\n",
      "Epoch: 6000 , loss=0.0303,  기울기 a1=-0.1653, 기울기 a2=2.5680, 절편 b= -11.5066\n",
      "Epoch: 6500 , loss=0.0281,  기울기 a1=-0.2004, 기울기 a2=2.6783, 절편 b= -11.8165\n",
      "Epoch: 7000 , loss=0.0262,  기울기 a1=-0.2324, 기울기 a2=2.7801, 절편 b= -12.1049\n",
      "Epoch: 7500 , loss=0.0246,  기울기 a1=-0.2616, 기울기 a2=2.8743, 절편 b= -12.3748\n",
      "Epoch: 8000 , loss=0.0231,  기울기 a1=-0.2885, 기울기 a2=2.9622, 절편 b= -12.6282\n",
      "Epoch: 8500 , loss=0.0218,  기울기 a1=-0.3134, 기울기 a2=3.0444, 절편 b= -12.8672\n",
      "Epoch: 9000 , loss=0.0207,  기울기 a1=-0.3366, 기울기 a2=3.1217, 절편 b= -13.0932\n",
      "Epoch: 9500 , loss=0.0196,  기울기 a1=-0.3583, 기울기 a2=3.1946, 절편 b= -13.3077\n",
      "Epoch: 10000 , loss=0.0187,  기울기 a1=-0.3787, 기울기 a2=3.2636, 절편 b= -13.5117\n"
     ]
    }
   ],
   "source": [
    "import tensorflow as tf \n",
    "import numpy as np\n",
    "\n",
    "# 변수 지정\n",
    "x_data = np.array([[2,3],[4,3],[6,4],[8,6],[10,7],[12,8],[14,9]]) #행렬 곱을 수행하기 위해 넘파이 배열로 지정\n",
    "y_data = np.array([0,0,0,1,1,1,1]).reshape(7,1)\n",
    "\n",
    "#입력값을 placeholder에 저장,  다른 텐서에 할당하는 것\n",
    "X = tf.placeholder(tf.float64, shape=[None, 2])\n",
    "Y = tf.placeholder(tf.float64, shape=[None, 1])\n",
    "\n",
    "#실행할 때마다 동일한 출력(결과)를 얻기 위한 값 설정\n",
    "seed = 0\n",
    "np.random.seed(seed)\n",
    "tf.set_random_seed(seed)\n",
    "\n",
    "#학습률 \n",
    "learning_rate = 0.1\n",
    "\n",
    "#임의의 a, b 값을 변수로 정의\n",
    "a = tf.Variable(tf.random_uniform([2, 1], dtype=tf.float64))  #[2, 1]은 들어오는  값은 2개 나가는 값은 1개\n",
    "b = tf.Variable(tf.random_uniform([1], dtype=tf.float64))\n",
    "\n",
    "#시그모이드 함수 방정식 정의\n",
    "y = tf.sigmoid(tf.matmul(X, a) + b)\n",
    "\n",
    "#오차 loss 구하는 함수\n",
    "loss = -tf.reduce_mean(Y*tf.log(y)+(1-Y)*tf.log(1-y))\n",
    "\n",
    "# 오차 loss 값이 최소인 값 찾는 식 정의\n",
    "gradient_descent = tf.train.GradientDescentOptimizer(learning_rate).minimize(loss)\n",
    "\n",
    "predicted = tf.cast(y >0.5, dtype=tf.float64)\n",
    "accuracy = tf.reduce_mean(tf.cast(tf.equal(predicted, Y), dtype=tf.float64))\n",
    "\n",
    "#tf.cast() 함수는 형변환(캐스팅) 수행 => 부동소수점형(실수)를 정수형으로 변환할때는 소수점이하 버림\n",
    "#bool (논리) 자료형을 정수형으로 변환할때는 True는 1, False는 0으로\n",
    "\n",
    "#텐서플로 이용하여 학습\n",
    "with tf.Session() as sess:\n",
    "    sess.run(tf.global_variables_initializer())     # 변수들을 메모리에 생성, 초기화\n",
    "    for step in range(10001):\n",
    "        a_, b_, loss_, _ = sess.run([a, b, loss, gradient_descent], feed_dict={X:x_data, Y:y_data})\n",
    "        if step % 500 == 0:\n",
    "            print(\"Epoch: %.f , loss=%.4f,  기울기 a1=%.4f, 기울기 a2=%.4f, 절편 b= %.4f\" % (step,  loss_,  a_[0], a_[1],  b_))\n"
   ]
  },
  {
   "cell_type": "code",
   "execution_count": null,
   "metadata": {},
   "outputs": [],
   "source": []
  }
 ],
 "metadata": {
  "kernelspec": {
   "display_name": "Python 3",
   "language": "python",
   "name": "python3"
  },
  "language_info": {
   "codemirror_mode": {
    "name": "ipython",
    "version": 3
   },
   "file_extension": ".py",
   "mimetype": "text/x-python",
   "name": "python",
   "nbconvert_exporter": "python",
   "pygments_lexer": "ipython3",
   "version": "3.7.4"
  }
 },
 "nbformat": 4,
 "nbformat_minor": 4
}
