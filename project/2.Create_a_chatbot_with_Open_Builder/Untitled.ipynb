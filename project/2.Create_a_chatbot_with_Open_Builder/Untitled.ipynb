{
 "cells": [
  {
   "cell_type": "markdown",
   "metadata": {},
   "source": [
    "# 프레임워크 \n",
    "- 플라스크 마이크로서비스에 만드는거에 편리한 서비스\n",
    "- 장고도 있다, 장고는 올인원 패키지, DB에 관련된 프레임워크도 있고 \n",
    "- ORM 객체 만들었다 지웠다 하는 테이블이 동일하게 DB에서도 동일한 역활을 한다. 객체를 통해 DB를 관리"
   ]
  },
  {
   "cell_type": "code",
   "execution_count": 1,
   "metadata": {
    "ExecuteTime": {
     "end_time": "2020-01-15T06:07:07.466025Z",
     "start_time": "2020-01-15T06:07:07.138435Z"
    }
   },
   "outputs": [],
   "source": [
    "import flask"
   ]
  },
  {
   "cell_type": "code",
   "execution_count": null,
   "metadata": {},
   "outputs": [],
   "source": []
  }
 ],
 "metadata": {
  "kernelspec": {
   "display_name": "Python 3",
   "language": "python",
   "name": "python3"
  },
  "language_info": {
   "codemirror_mode": {
    "name": "ipython",
    "version": 3
   },
   "file_extension": ".py",
   "mimetype": "text/x-python",
   "name": "python",
   "nbconvert_exporter": "python",
   "pygments_lexer": "ipython3",
   "version": "3.7.4"
  }
 },
 "nbformat": 4,
 "nbformat_minor": 2
}
