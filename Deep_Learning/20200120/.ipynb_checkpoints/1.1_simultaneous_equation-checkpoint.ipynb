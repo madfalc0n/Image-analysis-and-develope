{
 "cells": [
  {
   "cell_type": "code",
   "execution_count": 2,
   "metadata": {
    "ExecuteTime": {
     "end_time": "2020-01-20T02:06:20.235205Z",
     "start_time": "2020-01-20T02:06:20.232198Z"
    }
   },
   "outputs": [],
   "source": [
    "import numpy as np\n",
    "import numpy.linalg as lin \n",
    "\n",
    "#numpy는 다차원 배열을 처리하는데 빠르다."
   ]
  },
  {
   "cell_type": "code",
   "execution_count": 15,
   "metadata": {
    "ExecuteTime": {
     "end_time": "2020-01-20T02:23:55.904109Z",
     "start_time": "2020-01-20T02:23:55.895423Z"
    }
   },
   "outputs": [
    {
     "name": "stdout",
     "output_type": "stream",
     "text": [
      "[[1 1]\n",
      " [2 1]]\n",
      "(2, 2)\n",
      "[[-1.  1.]\n",
      " [ 2. -1.]]\n"
     ]
    }
   ],
   "source": [
    "a = np.array([[1,1],[2,1]])\n",
    "print(a)\n",
    "print(a.shape)\n",
    "\n",
    "#역행렬 구하기\n",
    "a_ = lin.inv(a)\n",
    "print(a_)"
   ]
  },
  {
   "cell_type": "code",
   "execution_count": 23,
   "metadata": {
    "ExecuteTime": {
     "end_time": "2020-01-20T02:27:35.854097Z",
     "start_time": "2020-01-20T02:27:35.848113Z"
    }
   },
   "outputs": [
    {
     "name": "stdout",
     "output_type": "stream",
     "text": [
      "[2 4]\n",
      "(2,)\n",
      "\n",
      "[[2 4]]\n",
      "(1, 2)\n",
      "\n",
      "[[2]\n",
      " [4]]\n",
      "(2, 1)\n",
      "\n"
     ]
    }
   ],
   "source": [
    "y = np.array([2,4]) \n",
    "print(y)\n",
    "print(y.shape) #1차원 벡터\n",
    "print()\n",
    "\n",
    "y_1 = np.array([[2,4]])\n",
    "print(y_1)\n",
    "print(y_1.shape) #컬럼 벡터가 아님\n",
    "print()\n",
    "\n",
    "y_2 = np.array([[2], [4]])\n",
    "print(y_2)\n",
    "print(y_2.shape) #컬럼 벡터가 아님\n",
    "print()"
   ]
  },
  {
   "cell_type": "code",
   "execution_count": 28,
   "metadata": {
    "ExecuteTime": {
     "end_time": "2020-01-20T02:30:52.381405Z",
     "start_time": "2020-01-20T02:30:52.376419Z"
    }
   },
   "outputs": [
    {
     "name": "stdout",
     "output_type": "stream",
     "text": [
      "[[2]\n",
      " [4]]\n",
      "(2, 1)\n",
      "\n",
      "[[2.]\n",
      " [0.]]\n",
      "(2, 1)\n"
     ]
    }
   ],
   "source": [
    "#reshape 를 통해 배열 사이즈 재조정\n",
    "y = np.array([2,4]).reshape(2,1)\n",
    "print(y)\n",
    "print(y.shape)\n",
    "print()"
   ]
  },
  {
   "cell_type": "code",
   "execution_count": 29,
   "metadata": {
    "ExecuteTime": {
     "end_time": "2020-01-20T02:32:03.246721Z",
     "start_time": "2020-01-20T02:32:03.240736Z"
    }
   },
   "outputs": [
    {
     "name": "stdout",
     "output_type": "stream",
     "text": [
      "[[-2.  2.]\n",
      " [ 8. -4.]]\n",
      "(2, 2)\n",
      "\n",
      "[[2.]\n",
      " [0.]]\n",
      "(2, 1)\n"
     ]
    }
   ],
   "source": [
    "#넘파이는 일반연산(산술)과 행렬연산을 구별한다.\n",
    "#일반연산\n",
    "w = a_ * y\n",
    "print(w)\n",
    "print(w.shape)\n",
    "print()\n",
    "\n",
    "#행렬연산\n",
    "w = np.matmul(a_,y)\n",
    "print(w)\n",
    "print(w.shape)"
   ]
  },
  {
   "cell_type": "code",
   "execution_count": 34,
   "metadata": {
    "ExecuteTime": {
     "end_time": "2020-01-20T02:36:59.558714Z",
     "start_time": "2020-01-20T02:36:59.552776Z"
    }
   },
   "outputs": [
    {
     "name": "stdout",
     "output_type": "stream",
     "text": [
      "[[-5.00000000e-01 -3.19189120e-16  5.00000000e-01]\n",
      " [ 1.33333333e+00  3.33333333e-01 -6.66666667e-01]]\n",
      "\n",
      "[[ 2.2       ]\n",
      " [-0.26666667]]\n"
     ]
    }
   ],
   "source": [
    "a = np.array([[1,1], [2,1], [3,1]   ]) #정방행렬이 아니라 에러가 발생, P를 넣어줘야 함\n",
    "#lin.inv(a)\n",
    "a_ = lin.pinv(a)\n",
    "print(a_)\n",
    "print()\n",
    "\n",
    "y = np.array([2,4,6.4]).reshape(3,1)\n",
    "w = np.matmul(a_, y)\n",
    "print(w)"
   ]
  },
  {
   "cell_type": "code",
   "execution_count": 36,
   "metadata": {
    "ExecuteTime": {
     "end_time": "2020-01-20T02:38:27.355539Z",
     "start_time": "2020-01-20T02:38:27.351550Z"
    }
   },
   "outputs": [
    {
     "name": "stdout",
     "output_type": "stream",
     "text": [
      "2.2000000000000006\n"
     ]
    }
   ],
   "source": [
    "print(w[0][0]) #이차원 행렬이므로 [0][0] 으로 사용"
   ]
  },
  {
   "cell_type": "code",
   "execution_count": 40,
   "metadata": {
    "ExecuteTime": {
     "end_time": "2020-01-20T02:44:30.773130Z",
     "start_time": "2020-01-20T02:44:30.769099Z"
    }
   },
   "outputs": [
    {
     "name": "stdout",
     "output_type": "stream",
     "text": [
      "[-22.26666667 -20.06666667 -17.86666667 -15.66666667 -13.46666667\n",
      " -11.26666667  -9.06666667  -6.86666667  -4.66666667  -2.46666667\n",
      "  -0.26666667   1.93333333   4.13333333   6.33333333   8.53333333\n",
      "  10.73333333  12.93333333  15.13333333  17.33333333  19.53333333]\n"
     ]
    }
   ],
   "source": [
    "#x가 1일 떄 y는?\n",
    "#y= wx + b\n",
    "#y = w[0,0] * 1 + w[1,0]\n",
    "\n",
    "y = w[0,0] * np.arange(-10,10) + w[1,0] # w[0,0]은 w값, w[1,0]은 b 값\n",
    "print(y)#1.9333333333333322\n"
   ]
  },
  {
   "cell_type": "code",
   "execution_count": null,
   "metadata": {},
   "outputs": [],
   "source": []
  }
 ],
 "metadata": {
  "kernelspec": {
   "display_name": "Python 3",
   "language": "python",
   "name": "python3"
  },
  "language_info": {
   "codemirror_mode": {
    "name": "ipython",
    "version": 3
   },
   "file_extension": ".py",
   "mimetype": "text/x-python",
   "name": "python",
   "nbconvert_exporter": "python",
   "pygments_lexer": "ipython3",
   "version": "3.7.4"
  },
  "toc": {
   "base_numbering": 1,
   "nav_menu": {},
   "number_sections": false,
   "sideBar": true,
   "skip_h1_title": false,
   "title_cell": "Table of Contents",
   "title_sidebar": "Contents",
   "toc_cell": false,
   "toc_position": {},
   "toc_section_display": true,
   "toc_window_display": false
  },
  "varInspector": {
   "cols": {
    "lenName": 16,
    "lenType": 16,
    "lenVar": 40
   },
   "kernels_config": {
    "python": {
     "delete_cmd_postfix": "",
     "delete_cmd_prefix": "del ",
     "library": "var_list.py",
     "varRefreshCmd": "print(var_dic_list())"
    },
    "r": {
     "delete_cmd_postfix": ") ",
     "delete_cmd_prefix": "rm(",
     "library": "var_list.r",
     "varRefreshCmd": "cat(var_dic_list()) "
    }
   },
   "types_to_exclude": [
    "module",
    "function",
    "builtin_function_or_method",
    "instance",
    "_Feature"
   ],
   "window_display": false
  }
 },
 "nbformat": 4,
 "nbformat_minor": 2
}
