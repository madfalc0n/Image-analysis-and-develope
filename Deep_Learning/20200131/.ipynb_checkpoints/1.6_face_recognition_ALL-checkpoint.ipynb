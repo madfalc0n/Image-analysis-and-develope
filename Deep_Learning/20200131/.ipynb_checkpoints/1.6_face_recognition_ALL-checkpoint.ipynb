{
 "cells": [
  {
   "cell_type": "code",
   "execution_count": 1,
   "metadata": {
    "ExecuteTime": {
     "end_time": "2020-01-31T05:41:51.586250Z",
     "start_time": "2020-01-31T05:41:49.288091Z"
    }
   },
   "outputs": [],
   "source": [
    "from imutils import face_utils\n",
    "import numpy as np\n",
    "import imutils\n",
    "import dlib\n",
    "import cv2\n",
    "import matplotlib.pyplot as plt\n",
    "import face_recognition \n",
    "import os\n",
    "from imutils import paths\n",
    "\n",
    "\n",
    "def imshow(tit, image) :\n",
    "    plt.title(tit)    \n",
    "    if len(image.shape) == 3 :\n",
    "        plt.imshow(cv2.cvtColor(image, cv2.COLOR_BGR2RGB))\n",
    "    else :\n",
    "        plt.imshow(image, cmap=\"gray\")\n",
    "    plt.show()"
   ]
  },
  {
   "cell_type": "code",
   "execution_count": 20,
   "metadata": {
    "ExecuteTime": {
     "end_time": "2020-01-31T05:50:23.671034Z",
     "start_time": "2020-01-31T05:50:13.988584Z"
    },
    "scrolled": true
   },
   "outputs": [
    {
     "name": "stdout",
     "output_type": "stream",
     "text": [
      "billieeilish   -   girl\\billieeilish\\bil1.jpg\n",
      "billieeilish   -   girl\\billieeilish\\bil2.jpg\n",
      "billieeilish   -   girl\\billieeilish\\bil3.jpg\n",
      "billieeilish   -   girl\\billieeilish\\bil4.jpg\n",
      "billieeilish   -   girl\\billieeilish\\bil5.jpg\n",
      "billieeilish   -   girl\\billieeilish\\bil6.jpg\n",
      "billieeilish   -   girl\\billieeilish\\bil7.jpg\n",
      "billieeilish   -   girl\\billieeilish\\bil8.jpg\n",
      "hanyeseol   -   girl\\hanyeseol\\han1.jpg\n",
      "hanyeseol   -   girl\\hanyeseol\\han2.jpg\n",
      "hanyeseol   -   girl\\hanyeseol\\han3.jpg\n",
      "hanyeseol   -   girl\\hanyeseol\\han4.jpg\n",
      "hanyeseol   -   girl\\hanyeseol\\han5.jpg\n",
      "jungchaeyeon   -   girl\\jungchaeyeon\\jeong1.jpg\n",
      "jungchaeyeon   -   girl\\jungchaeyeon\\jeong2.jpg\n",
      "jungchaeyeon   -   girl\\jungchaeyeon\\jeong3.jpg\n",
      "jungchaeyeon   -   girl\\jungchaeyeon\\jeong4.jpg\n",
      "jungchaeyeon   -   girl\\jungchaeyeon\\jeong5.jpg\n",
      "onyeonseo   -   girl\\onyeonseo\\oh1.jpg\n",
      "onyeonseo   -   girl\\onyeonseo\\oh2.jpg\n",
      "onyeonseo   -   girl\\onyeonseo\\oh3.jpg\n",
      "onyeonseo   -   girl\\onyeonseo\\oh4.jpg\n",
      "onyeonseo   -   girl\\onyeonseo\\oh5.jpg\n",
      "parkboyeong   -   girl\\parkboyeong\\park1.jpg\n",
      "parkboyeong   -   girl\\parkboyeong\\park2.jpg\n",
      "parkboyeong   -   girl\\parkboyeong\\park3.jpg\n",
      "parkboyeong   -   girl\\parkboyeong\\park4.jpg\n",
      "parkboyeong   -   girl\\parkboyeong\\park5.jpg\n",
      "sinmina   -   girl\\sinmina\\sin1.jpg\n",
      "sinmina   -   girl\\sinmina\\sin2.jpg\n",
      "sinmina   -   girl\\sinmina\\sin3.jpg\n",
      "sinmina   -   girl\\sinmina\\sin4.jpg\n",
      "sinmina   -   girl\\sinmina\\sin5.jpg\n"
     ]
    }
   ],
   "source": [
    "#시스템적으로 맞게 변경한 코드\n",
    "from imutils import paths\n",
    "\n",
    "imagePaths = list(paths.list_images(\"girl\")) # 이미지파일의 목록만 알려주는 함수,girl 폴더 안(하위폴더 포함)에 다 리스트로 저장\n",
    " \n",
    "knownEncodings = []\n",
    "knownNames = []\n",
    "\n",
    "for (i, imagePath) in enumerate(imagePaths):    \n",
    "    #imagePath.split(os.path.sep) #['pic', 'oh', 'oh.jpg'] , 이미지의 full path가 리스트 형식으로 나온다.\n",
    "    name = imagePath.split(os.path.sep)[-2] \n",
    "    print(f\"{name}   -   {imagePath}\") \n",
    "    image = cv2.imread(imagePath)\n",
    "    boxes = face_recognition.face_locations(image)\n",
    "    encodings = face_recognition.face_encodings(image, boxes) \n",
    "\n",
    "    for encoding in encodings: \n",
    "        knownEncodings.append(encoding)\n",
    "        knownNames.append(name)\n",
    "        \n",
    "import pickle\n",
    "data = {\"encodings\": knownEncodings, \"names\": knownNames}\n",
    "f = open(\"girl.bin\", \"wb\") #open 함수를 통해 파일오픈, 쓰기(w)와 바이너리(b) 모드\n",
    "f.write(pickle.dumps(data)) # 딕셔너리를 known.bin 이라는 파일에 저장\n",
    "f.close()        "
   ]
  },
  {
   "cell_type": "code",
   "execution_count": 22,
   "metadata": {
    "ExecuteTime": {
     "end_time": "2020-01-31T05:50:37.481406Z",
     "start_time": "2020-01-31T05:50:37.475423Z"
    }
   },
   "outputs": [
    {
     "name": "stdout",
     "output_type": "stream",
     "text": [
      "(array([0, 0, 0, 0, 0, 1, 1, 1, 1, 1, 2, 2, 2, 2, 2, 3, 3, 3, 3, 3, 4, 4,\n",
      "       4, 4, 4, 5, 5, 5, 5, 5], dtype=int64), array(['billieeilish', 'hanyeseol', 'jungchaeyeon', 'onyeonseo',\n",
      "       'parkboyeong', 'sinmina'], dtype=object))\n",
      "[0 0 0 0 0 1 1 1 1 1 2 2 2 2 2 3 3 3 3 3 4 4 4 4 4 5 5 5 5 5]\n"
     ]
    }
   ],
   "source": [
    "import pandas as pd\n",
    "c = pd.factorize(data[\"names\"])\n",
    "print(c)\n",
    "label = c[0]\n",
    "print(label)"
   ]
  },
  {
   "cell_type": "code",
   "execution_count": null,
   "metadata": {},
   "outputs": [],
   "source": []
  }
 ],
 "metadata": {
  "kernelspec": {
   "display_name": "Python 3",
   "language": "python",
   "name": "python3"
  },
  "language_info": {
   "codemirror_mode": {
    "name": "ipython",
    "version": 3
   },
   "file_extension": ".py",
   "mimetype": "text/x-python",
   "name": "python",
   "nbconvert_exporter": "python",
   "pygments_lexer": "ipython3",
   "version": "3.6.10"
  },
  "toc": {
   "base_numbering": 1,
   "nav_menu": {},
   "number_sections": false,
   "sideBar": true,
   "skip_h1_title": false,
   "title_cell": "Table of Contents",
   "title_sidebar": "Contents",
   "toc_cell": false,
   "toc_position": {},
   "toc_section_display": true,
   "toc_window_display": false
  },
  "varInspector": {
   "cols": {
    "lenName": 16,
    "lenType": 16,
    "lenVar": 40
   },
   "kernels_config": {
    "python": {
     "delete_cmd_postfix": "",
     "delete_cmd_prefix": "del ",
     "library": "var_list.py",
     "varRefreshCmd": "print(var_dic_list())"
    },
    "r": {
     "delete_cmd_postfix": ") ",
     "delete_cmd_prefix": "rm(",
     "library": "var_list.r",
     "varRefreshCmd": "cat(var_dic_list()) "
    }
   },
   "types_to_exclude": [
    "module",
    "function",
    "builtin_function_or_method",
    "instance",
    "_Feature"
   ],
   "window_display": false
  }
 },
 "nbformat": 4,
 "nbformat_minor": 4
}
