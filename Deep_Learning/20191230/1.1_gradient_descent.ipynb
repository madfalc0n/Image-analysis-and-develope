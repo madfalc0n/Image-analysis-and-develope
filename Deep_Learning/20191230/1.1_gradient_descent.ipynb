{
 "cells": [
  {
   "cell_type": "markdown",
   "metadata": {},
   "source": [
    "## 텐서플로우 경사 하강법으로 기울기와 y 절편 찾기(학습률 지정)\n",
    "- y = a1 * x1 + b"
   ]
  },
  {
   "cell_type": "code",
   "execution_count": 1,
   "metadata": {},
   "outputs": [
    {
     "name": "stdout",
     "output_type": "stream",
     "text": [
      "Epoch: 0, RMSE: 32.9672, 기울기a: 8.0145, 절편b: 80.6810\n",
      "Epoch: 100, RMSE: 4.2414, 기울기a: 2.7341, 절편b: 79.7873\n",
      "Epoch: 200, RMSE: 2.8935, 기울기a: 2.1897, 절편b: 79.6581\n",
      "Epoch: 300, RMSE: 2.8922, 기울기a: 2.1957, 절편b: 79.6222\n",
      "Epoch: 400, RMSE: 2.8910, 기울기a: 2.2014, 절편b: 79.5883\n",
      "Epoch: 500, RMSE: 2.8899, 기울기a: 2.2068, 절편b: 79.5562\n",
      "Epoch: 600, RMSE: 2.8890, 기울기a: 2.2119, 절편b: 79.5258\n",
      "Epoch: 700, RMSE: 2.8881, 기울기a: 2.2167, 절편b: 79.4971\n",
      "Epoch: 800, RMSE: 2.8874, 기울기a: 2.2212, 절편b: 79.4700\n",
      "Epoch: 900, RMSE: 2.8867, 기울기a: 2.2255, 절편b: 79.4443\n",
      "Epoch: 1000, RMSE: 2.8861, 기울기a: 2.2296, 절편b: 79.4200\n",
      "Epoch: 1100, RMSE: 2.8855, 기울기a: 2.2335, 절편b: 79.3971\n",
      "Epoch: 1200, RMSE: 2.8850, 기울기a: 2.2371, 절편b: 79.3754\n",
      "Epoch: 1300, RMSE: 2.8846, 기울기a: 2.2405, 절편b: 79.3548\n",
      "Epoch: 1400, RMSE: 2.8842, 기울기a: 2.2438, 절편b: 79.3354\n",
      "Epoch: 1500, RMSE: 2.8839, 기울기a: 2.2469, 절편b: 79.3171\n",
      "Epoch: 1600, RMSE: 2.8836, 기울기a: 2.2498, 절편b: 79.2998\n",
      "Epoch: 1700, RMSE: 2.8833, 기울기a: 2.2525, 절편b: 79.2834\n",
      "Epoch: 1800, RMSE: 2.8830, 기울기a: 2.2551, 절편b: 79.2679\n",
      "Epoch: 1900, RMSE: 2.8828, 기울기a: 2.2576, 절편b: 79.2532\n",
      "Epoch: 2000, RMSE: 2.8826, 기울기a: 2.2599, 절편b: 79.2394\n"
     ]
    }
   ],
   "source": [
    "import tensorflow as tf\n",
    "\n",
    "data = [[2,81],[4,93],[6,91],[8,97]]\n",
    "x_data = [i[0] for i in data]\n",
    "y_data = [i[1] for i in data]\n",
    "\n",
    "#임의의 기울기와 y절편의 변수로 정의\n",
    "a = tf.Variable(tf.random_uniform([1], 0, 10 , dtype=tf.float64, seed=0 ) ) #1개 , 기울기 범위 0~10 사이 , float64형으로, 고정\n",
    "b = tf.Variable(tf.random_uniform([1], 0, 100 , dtype=tf.float64, seed=0 ) ) #1개 , y절편 범위 0~ 100\n",
    "\n",
    "y = a * x_data + b # 1차 방정식 계산식 정의\n",
    "\n",
    "#오차 계산(평균 제곱근, rmse)\n",
    "rmse = tf.sqrt(tf.reduce_mean( tf.square(y-y_data) ))\n",
    "\n",
    "#학습률\n",
    "learning_rate = 0.01\n",
    "\n",
    "#오차 rmse  값이 최소인 값 찾기\n",
    "gradient_descent = tf.train.GradientDescentOptimizer(learning_rate).minimize(rmse) # 오차가 최소가 되는..\n",
    "\n",
    "#텐서플로 학습\n",
    "with tf.Session() as sess:\n",
    "    sess.run(tf.global_variables_initializer())\n",
    "    for step in range(2001):\n",
    "        sess.run(gradient_descent)\n",
    "        if step % 100 ==0 :\n",
    "            print(\"Epoch: %.f, RMSE: %.4f, 기울기a: %.4f, 절편b: %.4f\" % (step, sess.run(rmse), sess.run(a), sess.run(b))   ) # 입력값에서 몇번 반복 실행했는지를 Epoch 라 부른다\n",
    "            \n",
    "tt = tf.summary.FileWriter(\"log_dir\", graph=sess.graph)"
   ]
  },
  {
   "cell_type": "markdown",
   "metadata": {},
   "source": [
    "## 경사 하강법으로 다중 선형 회귀 구현하기\n",
    " - y = a1 * x1 + a2 * x2 + b"
   ]
  },
  {
   "cell_type": "code",
   "execution_count": 4,
   "metadata": {},
   "outputs": [
    {
     "name": "stdout",
     "output_type": "stream",
     "text": [
      "Epoch: 0, RMSE: 52.4800, 기울기a: 8.0148, 기울기a2: 8.0437 절편b: 80.6809\n",
      "Epoch: 100, RMSE: 16.1029, 기울기a: 2.6323, 기울기a2: 5.4828 절편b: 79.7601\n",
      "Epoch: 200, RMSE: 1.9789, 기울기a: 0.6250, 기울기a2: 3.6776 절편b: 79.3031\n",
      "Epoch: 300, RMSE: 0.8996, 기울기a: 1.0697, 기울기a2: 2.7527 절편b: 79.1536\n",
      "Epoch: 400, RMSE: 0.4921, 기울기a: 1.3268, 기울기a2: 2.2932 절편b: 78.8650\n",
      "Epoch: 500, RMSE: 0.3886, 기울기a: 1.3969, 기울기a2: 2.2530 절편b: 78.5570\n",
      "Epoch: 600, RMSE: 0.3219, 기울기a: 1.4351, 기울기a2: 2.2634 절편b: 78.3025\n",
      "Epoch: 700, RMSE: 0.2875, 기울기a: 1.4617, 기울기a2: 2.2725 절편b: 78.1203\n",
      "Epoch: 800, RMSE: 0.2739, 기울기a: 1.4783, 기울기a2: 2.2782 절편b: 78.0061\n",
      "Epoch: 900, RMSE: 0.2693, 기울기a: 1.4879, 기울기a2: 2.2815 절편b: 77.9400\n",
      "Epoch: 1000, RMSE: 0.2679, 기울기a: 1.4933, 기울기a2: 2.2834 절편b: 77.9030\n",
      "Epoch: 1100, RMSE: 0.2675, 기울기a: 1.4963, 기울기a2: 2.2844 절편b: 77.8824\n",
      "Epoch: 1200, RMSE: 0.2673, 기울기a: 1.4980, 기울기a2: 2.2850 절편b: 77.8711\n",
      "Epoch: 1300, RMSE: 0.2673, 기울기a: 1.4989, 기울기a2: 2.2853 절편b: 77.8648\n",
      "Epoch: 1400, RMSE: 0.2673, 기울기a: 1.4994, 기울기a2: 2.2855 절편b: 77.8614\n",
      "Epoch: 1500, RMSE: 0.2673, 기울기a: 1.4997, 기울기a2: 2.2856 절편b: 77.8595\n",
      "Epoch: 1600, RMSE: 0.2673, 기울기a: 1.4998, 기울기a2: 2.2856 절편b: 77.8584\n",
      "Epoch: 1700, RMSE: 0.2673, 기울기a: 1.4999, 기울기a2: 2.2857 절편b: 77.8579\n",
      "Epoch: 1800, RMSE: 0.2673, 기울기a: 1.4999, 기울기a2: 2.2857 절편b: 77.8575\n",
      "Epoch: 1900, RMSE: 0.2673, 기울기a: 1.5000, 기울기a2: 2.2857 절편b: 77.8574\n",
      "Epoch: 2000, RMSE: 0.2673, 기울기a: 1.5000, 기울기a2: 2.2857 절편b: 77.8573\n"
     ]
    }
   ],
   "source": [
    "import tensorflow as tf\n",
    "\n",
    "\n",
    "data = [[2,0,81],[4,4,93],[6,2,91],[8,3,97]]\n",
    "x_data = [i[0] for i in data]\n",
    "x2_data = [i[1] for i in data]\n",
    "y_data = [i[2] for i in data]\n",
    "\n",
    "#임의의 기울기와 y절편의 변수로 정의\n",
    "a = tf.Variable(tf.random_uniform([1], 0, 10 , dtype=tf.float64, seed=0 ) ) #1개 , 기울기 범위 0~10 사이 , float64형으로, 고정\n",
    "a2 = tf.Variable(tf.random_uniform([1], 0, 10 , dtype=tf.float64, seed=0 ) ) #1개 , 기울기 범위 0~10 사이 , float64형으로, 고정\n",
    "b = tf.Variable(tf.random_uniform([1], 0, 100 , dtype=tf.float64, seed=0 ) ) #1개 , y절편 범위 0~ 100\n",
    "\n",
    "y = a * x_data + a2 * x2_data + b # 1차 방정식 계산식 정의\n",
    "\n",
    "#오차 계산(평균 제곱근, rmse, )\n",
    "rmse = tf.sqrt(tf.reduce_mean(tf.square(y-y_data))) #1.y와 y데이터를 빼고 2.서로 제곱하고 3.평균규하고 4.제곱근\n",
    "\n",
    "#학습률\n",
    "learning_rate = 0.01\n",
    "\n",
    "\n",
    "#오차 rmse  값이 최소인 값 찾기\n",
    "gradient_descent = tf.train.GradientDescentOptimizer(learning_rate).minimize(rmse) # 오차가 최소가 되는..\n",
    "\n",
    "\n",
    "#텐서플로 학습\n",
    "with tf.Session() as sess:\n",
    "    sess.run(tf.global_variables_initializer())\n",
    "    for step in range(2001):\n",
    "        sess.run(gradient_descent)\n",
    "        if step % 100 ==0 :\n",
    "            print(\"Epoch: %.f, RMSE: %.4f, 기울기a: %.4f, 기울기a2: %.4f 절편b: %.4f\" % (step, sess.run(rmse), sess.run(a), sess.run(a2), sess.run(b))   ) # 입력값에서 몇번 반복 실행했는지를 Epoch 라 부른다\n",
    "            \n"
   ]
  },
  {
   "cell_type": "code",
   "execution_count": null,
   "metadata": {},
   "outputs": [],
   "source": []
  }
 ],
 "metadata": {
  "kernelspec": {
   "display_name": "Python 3",
   "language": "python",
   "name": "python3"
  },
  "language_info": {
   "codemirror_mode": {
    "name": "ipython",
    "version": 3
   },
   "file_extension": ".py",
   "mimetype": "text/x-python",
   "name": "python",
   "nbconvert_exporter": "python",
   "pygments_lexer": "ipython3",
   "version": "3.7.4"
  }
 },
 "nbformat": 4,
 "nbformat_minor": 4
}
