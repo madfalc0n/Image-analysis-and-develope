{
 "cells": [
  {
   "cell_type": "markdown",
   "metadata": {},
   "source": [
    "## 2. 정적 웹 페이지 크롤링과 스크래핑 예제\n",
    " - url: https://movie.daum.net/moviedb/grade?movieId=3126&type=netizen&page=1\n",
    " - 박스오피스 1위- 5위 영화제목하고 평점, 댓글 내용을 추출하여 출력하는 웹 크롤링 소스를 구현\n",
    " - 단, 평점이 있더라도 댓글이 비어있는 것은 제외합니다.\n"
   ]
  },
  {
   "cell_type": "code",
   "execution_count": 1,
   "metadata": {},
   "outputs": [],
   "source": [
    "from bs4 import BeautifulSoup\n",
    "import re\n",
    "import requests"
   ]
  },
  {
   "cell_type": "code",
   "execution_count": 27,
   "metadata": {},
   "outputs": [],
   "source": [
    "req = requests.get('https://movie.daum.net/boxoffice/weekly')\n",
    "html =req.text"
   ]
  },
  {
   "cell_type": "code",
   "execution_count": 72,
   "metadata": {},
   "outputs": [
    {
     "name": "stdout",
     "output_type": "stream",
     "text": [
      "<div class=\"d_head d_head_type\">\n",
      "<h1 class=\"tit_logo\">\n",
      "<a class=\"link_logo #gnb #title #movie\" href=\"/main/new\"><span class=\"ir_wa\">영화</span></a>\n",
      "</h1>\n",
      "<strong class=\"screen_out\">관련서비스</strong>\n",
      "<ul class=\"list_relServices\">\n",
      "<li>\n",
      "<a class=\"link_services link_services1 #gnb #title #entertain\" href=\"http://media.daum.net/entertain/\"><span class=\"ir_wa\">연예</span></a>\n",
      "</li>\n",
      "</ul>\n",
      "<!-- 2017-03-21 검색 추가 -->\n",
      "<div class=\"wrap_searchbar rw_hide\">\n",
      "<form action=\"//search.daum.net/search\" class=\"form_search\" role=\"search\">\n",
      "<fieldset>\n",
      "<legend class=\"screen_out\">검색어 입력폼</legend>\n",
      "<label class=\"lab_search\" for=\"tfSearch\">통합 검색</label>\n",
      "<input autocapitalize=\"off\" autocomplete=\"off\" autocorrect=\"off\" class=\"tf_search\" id=\"tfSearch\" name=\"q\" spellcheck=\"false\" type=\"text\"/>\n",
      "<input name=\"w\" type=\"hidden\" value=\"tot\"/>\n",
      "<input name=\"DA\" type=\"hidden\" value=\"S43\"/>\n",
      "<button class=\"ico_popcorn\" type=\"submit\">검색하기</button>\n",
      "</fieldset>\n",
      "</form>\n",
      "</div>\n",
      "<div class=\"pcsgt_layer\">\n",
      "<div class=\"cate_pcsgt\" id=\"movie_suggest_pc\">\n",
      "<strong class=\"tit_pcsgt\" id=\"movie_suggest_title_pc\">영화</strong>\n",
      "<ul class=\"list_pcsgt\" id=\"movie_suggest_list_pc\">\n",
      "</ul>\n",
      "</div>\n",
      "<div class=\"cate_pcsgt cate_name\" id=\"person_suggest_pc\"> <!-- 영화인 cate_name클래스 -->\n",
      "<strong class=\"tit_pcsgt\" id=\"person_suggest_title_pc\">영화인</strong>\n",
      "<ul class=\"list_pcsgt\" id=\"person_suggest_list_pc\">\n",
      "</ul>\n",
      "</div>\n",
      "</div>\n",
      "<!-- 2016-09-05 추가 시작 : pc검색 서제스트 -->\n",
      "<script id=\"pc_suggest_template\" type=\"text/template\">\n",
      "\t\t\t\t<li>\n",
      "\t\t\t\t\t<%\n",
      "\t\t\t\t\t\tvar tiaraClass = '#gnb #search #suggest';\n",
      "\t\t\t\t\t\tvar titleName = (title && title.replace(keyword, '<span class=\"emph_sgt\">' + keyword + '</span>')) || '';\n",
      "\t\t\t\t\t\tvar imgAlt = title || '';\n",
      "\t\t\t\t\t\tvar titleEnName = '';\n",
      "\t\t\t\t\t%>\n",
      "\t\t\t\t\t<a href=\"<%=href%>\" class=\"link_item <%=tiaraClass%> @<%=index%>\">\n",
      "\t\t\t\t\t\t\t<span class=\"thumb_g thumb_noimage bg_noimage\">\n",
      "\t\t\t\t\t\t\t\t<img src=\"<%=photoConvert(photoUrl || '', 100, 144, 'C')%>\" width=\"35\" height=\"49\" class=\"thumb_img\" alt=\"<%=imgAlt%>\" onload=\"noImageOnLoad($(this))\">\n",
      "\t\t\t\t\t\t\t</span>\n",
      "\t\t\t\t\t\t\t<div class=\"cont_item\">\n",
      "\t\t\t\t\t\t\t\t<strong class=\"tit_item\"><%=titleName%></strong>\n",
      "\t\t\t\t\t\t\t\t<span class=\"txt_year\"><%=(year == 'null') ? '' : year%></span>\n",
      "\t\t\t\t\t\t\t</div>\n",
      "\t\t\t\t\t</a>\n",
      "\t\t\t\t</li>\n",
      "\t\t\t</script>\n",
      "</div>\n"
     ]
    }
   ],
   "source": [
    "soup = BeautifulSoup(html, 'html.parser')\n",
    "#print(soup)\n",
    "\n",
    "titles = soup.find('div', {'id' : ''})\n",
    "#titles = soup.select('into_tit')\n",
    "#points = soup.select('td.title > div > em')\n",
    "#reviews = soup.select('td.title')\n",
    "\n",
    "print(titles)\n",
    "#print(points)\n",
    "#print(reviews)"
   ]
  },
  {
   "cell_type": "code",
   "execution_count": null,
   "metadata": {},
   "outputs": [],
   "source": [
    "\n"
   ]
  }
 ],
 "metadata": {
  "kernelspec": {
   "display_name": "Python 3",
   "language": "python",
   "name": "python3"
  },
  "language_info": {
   "codemirror_mode": {
    "name": "ipython",
    "version": 3
   },
   "file_extension": ".py",
   "mimetype": "text/x-python",
   "name": "python",
   "nbconvert_exporter": "python",
   "pygments_lexer": "ipython3",
   "version": "3.7.4"
  }
 },
 "nbformat": 4,
 "nbformat_minor": 4
}
