{
 "cells": [
  {
   "cell_type": "code",
   "execution_count": 1,
   "metadata": {
    "ExecuteTime": {
     "end_time": "2020-01-22T00:23:41.270435Z",
     "start_time": "2020-01-22T00:23:32.527886Z"
    }
   },
   "outputs": [
    {
     "name": "stderr",
     "output_type": "stream",
     "text": [
      "Using TensorFlow backend.\n"
     ]
    }
   ],
   "source": [
    "import numpy as np\n",
    "import tensorflow as tf\n",
    "from matplotlib import pyplot as plt\n",
    "from keras.models import Sequential\n",
    "from keras.layers import Dense\n",
    "from keras.layers import Flatten\n",
    "from keras.layers.convolutional import Conv2D\n",
    "from keras.layers.convolutional import MaxPooling2D\n",
    "from keras.models import Sequential\n",
    "from keras.layers import Activation, Dense\n",
    "from keras import optimizers\n",
    "from keras.layers import BatchNormalization\n",
    "from keras.layers import Dropout\n",
    "from keras.utils.np_utils import to_categorical\n",
    "from keras.layers import BatchNormalization, Dropout\n",
    "import cv2\n"
   ]
  },
  {
   "cell_type": "code",
   "execution_count": 55,
   "metadata": {
    "ExecuteTime": {
     "end_time": "2020-01-22T01:32:59.591288Z",
     "start_time": "2020-01-22T01:32:59.549565Z"
    }
   },
   "outputs": [],
   "source": [
    "X_train = np.zeros((15*3, 24,24))\n",
    "y_train = np.zeros(15*3)\n",
    "\n",
    "for i in range(15) :    \n",
    "    img = cv2.imread('hard_handwriting_shape/train/circle/circle{0:03d}.png'.format(i+1), 0)        \n",
    "    X_train[i,:,:] = img\n",
    "    y_train[i] = 0\n",
    "    \n",
    "for i in range(15) :    \n",
    "    img = cv2.imread('hard_handwriting_shape/train/rectangle/rectangle{0:03d}.png'.format(i+1), 0)        \n",
    "    X_train[15+i,:,:] = img\n",
    "    y_train[15+i] = 1\n",
    "    \n",
    "for i in range(15) :    \n",
    "    img = cv2.imread('hard_handwriting_shape/train/triangle/triangle{0:03d}.png'.format(i+1), 0)        \n",
    "    X_train[30+i,:,:] = img\n",
    "    y_train[30+i] = 2     \n",
    "    \n",
    "\n"
   ]
  },
  {
   "cell_type": "code",
   "execution_count": 58,
   "metadata": {
    "ExecuteTime": {
     "end_time": "2020-01-22T01:34:22.474852Z",
     "start_time": "2020-01-22T01:34:22.452394Z"
    }
   },
   "outputs": [],
   "source": [
    "X_test = np.zeros((5*3, 24,24))\n",
    "y_test = np.zeros(5*3)\n",
    "\n",
    "for i in range(5) :    \n",
    "    img = cv2.imread('hard_handwriting_shape/test/circle/circle{0:03d}.png'.format(i+21), 0)        \n",
    "    X_test[i,:,:] = img\n",
    "    y_test[i] = 0\n",
    "    \n",
    "for i in range(5) :    \n",
    "    img = cv2.imread('hard_handwriting_shape/test/rectangle/rectangle{0:03d}.png'.format(i+21), 0)        \n",
    "    X_test[5+i,:,:] = img\n",
    "    y_test[5+i] = 1\n",
    "    \n",
    "for i in range(5) :    \n",
    "    img = cv2.imread('hard_handwriting_shape/test/triangle/triangle{0:03d}.png'.format(i+21), 0)        \n",
    "    X_test[10+i,:,:] = img\n",
    "    y_test[10+i] = 2"
   ]
  },
  {
   "cell_type": "code",
   "execution_count": 59,
   "metadata": {
    "ExecuteTime": {
     "end_time": "2020-01-22T01:34:26.015328Z",
     "start_time": "2020-01-22T01:34:25.932264Z"
    }
   },
   "outputs": [
    {
     "data": {
      "image/png": "[encoded data removed]",
      "text/plain": [
       "<Figure size 432x288 with 1 Axes>"
      ]
     },
     "metadata": {
      "needs_background": "light"
     },
     "output_type": "display_data"
    },
    {
     "name": "stdout",
     "output_type": "stream",
     "text": [
      "Label:  2.0\n"
     ]
    }
   ],
   "source": [
    "plt.imshow(X_test[14], cmap=\"gray\")    # show first number in the dataset\n",
    "plt.show()\n",
    "print('Label: ', y_test[14])"
   ]
  },
  {
   "cell_type": "code",
   "execution_count": 60,
   "metadata": {
    "ExecuteTime": {
     "end_time": "2020-01-22T01:34:29.481316Z",
     "start_time": "2020-01-22T01:34:29.476355Z"
    }
   },
   "outputs": [
    {
     "name": "stdout",
     "output_type": "stream",
     "text": [
      "(45, 24, 24) (15, 24, 24) (45, 3) (15, 3)\n"
     ]
    }
   ],
   "source": [
    "y_train = to_categorical(y_train)\n",
    "y_test = to_categorical(y_test)\n",
    "print(X_train.shape, X_test.shape, y_train.shape, y_test.shape)"
   ]
  },
  {
   "cell_type": "code",
   "execution_count": 61,
   "metadata": {
    "ExecuteTime": {
     "end_time": "2020-01-22T01:34:32.008506Z",
     "start_time": "2020-01-22T01:34:32.004460Z"
    }
   },
   "outputs": [
    {
     "name": "stdout",
     "output_type": "stream",
     "text": [
      "(45, 24, 24, 1)\n",
      "(15, 24, 24, 1)\n",
      "(45, 3)\n",
      "(15, 3)\n"
     ]
    }
   ],
   "source": [
    "# 4차원으로 변경\n",
    "X_train =  X_train.reshape(-1, 24,24,1)\n",
    "X_test =  X_test.reshape(-1, 24,24,1)\n",
    "print(X_train.shape)\n",
    "print(X_test.shape)\n",
    "print(y_train.shape)\n",
    "print(y_test.shape)"
   ]
  },
  {
   "cell_type": "code",
   "execution_count": 62,
   "metadata": {
    "ExecuteTime": {
     "end_time": "2020-01-22T01:34:34.935667Z",
     "start_time": "2020-01-22T01:34:34.852656Z"
    }
   },
   "outputs": [
    {
     "data": {
      "image/png": "[encoded data removed]",
      "text/plain": [
       "<Figure size 432x288 with 1 Axes>"
      ]
     },
     "metadata": {
      "needs_background": "light"
     },
     "output_type": "display_data"
    }
   ],
   "source": [
    "plt.imshow(X_train[2,:,:,0], cmap=\"gray\")  \n",
    "plt.show()"
   ]
  },
  {
   "cell_type": "code",
   "execution_count": 93,
   "metadata": {
    "ExecuteTime": {
     "end_time": "2020-01-22T02:45:11.286706Z",
     "start_time": "2020-01-22T02:45:11.133549Z"
    }
   },
   "outputs": [],
   "source": [
    "# 모델 구성하기\n",
    "model = Sequential()\n",
    "model.add(Conv2D(32, kernel_size=(3, 3),input_shape=(24,24,1)))\n",
    "model.add(BatchNormalization())\n",
    "model.add(Activation('relu'))\n",
    "model.add(MaxPooling2D(pool_size=(2, 2)))\n",
    "    \n",
    "model.add(Conv2D(64, (3, 3))) \n",
    "model.add(BatchNormalization())\n",
    "model.add(Activation('relu'))\n",
    "model.add(MaxPooling2D(pool_size=(2, 2)))\n",
    "\n",
    "model.add(Flatten())\n",
    "\n",
    "model.add(Dense(128)) \n",
    "model.add(BatchNormalization())\n",
    "model.add(Activation('relu'))\n",
    "\n",
    "model.add(Dense(64)) \n",
    "model.add(BatchNormalization())\n",
    "model.add(Activation('relu'))\n",
    "\n",
    "\n",
    "model.add(Dense(3, activation='softmax'))\n",
    "\n",
    "# 모델 엮기\n",
    "model.compile(loss='categorical_crossentropy', optimizer='adam', metrics=['accuracy'])"
   ]
  },
  {
   "cell_type": "code",
   "execution_count": 134,
   "metadata": {
    "ExecuteTime": {
     "end_time": "2020-01-22T04:08:35.807727Z",
     "start_time": "2020-01-22T04:08:33.197332Z"
    }
   },
   "outputs": [],
   "source": [
    "# 모델 학습시키기 #1\n",
    "history = model.fit(X_train, y_train, batch_size = 100, epochs = 100, validation_data =(X_test, y_test), verbose = 0)"
   ]
  },
  {
   "cell_type": "code",
   "execution_count": 77,
   "metadata": {
    "ExecuteTime": {
     "end_time": "2020-01-22T01:40:49.067514Z",
     "start_time": "2020-01-22T01:40:48.963464Z"
    }
   },
   "outputs": [
    {
     "data": {
      "image/png": "[encoded data removed]",
      "text/plain": [
       "<Figure size 432x288 with 1 Axes>"
      ]
     },
     "metadata": {
      "needs_background": "light"
     },
     "output_type": "display_data"
    },
    {
     "name": "stdout",
     "output_type": "stream",
     "text": [
      "15/15 [==============================] - 0s 262us/step\n",
      "[2.4486119747161865, 0.3333333432674408]\n"
     ]
    }
   ],
   "source": [
    "plt.plot(history.history['accuracy'])\n",
    "plt.plot(history.history['val_accuracy'])\n",
    "plt.legend(['training', 'validation'], loc = 'upper left')\n",
    "plt.show()\n",
    "results = model.evaluate(X_test, y_test)\n",
    "print(results)"
   ]
  },
  {
   "cell_type": "code",
   "execution_count": 103,
   "metadata": {
    "ExecuteTime": {
     "end_time": "2020-01-22T02:47:11.162114Z",
     "start_time": "2020-01-22T02:47:11.157156Z"
    }
   },
   "outputs": [
    {
     "name": "stdout",
     "output_type": "stream",
     "text": [
      "Model: \"sequential_18\"\n",
      "_________________________________________________________________\n",
      "Layer (type)                 Output Shape              Param #   \n",
      "=================================================================\n",
      "conv2d_35 (Conv2D)           (None, 22, 22, 32)        320       \n",
      "_________________________________________________________________\n",
      "batch_normalization_44 (Batc (None, 22, 22, 32)        128       \n",
      "_________________________________________________________________\n",
      "activation_56 (Activation)   (None, 22, 22, 32)        0         \n",
      "_________________________________________________________________\n",
      "max_pooling2d_23 (MaxPooling (None, 11, 11, 32)        0         \n",
      "_________________________________________________________________\n",
      "conv2d_36 (Conv2D)           (None, 9, 9, 64)          18496     \n",
      "_________________________________________________________________\n",
      "batch_normalization_45 (Batc (None, 9, 9, 64)          256       \n",
      "_________________________________________________________________\n",
      "activation_57 (Activation)   (None, 9, 9, 64)          0         \n",
      "_________________________________________________________________\n",
      "max_pooling2d_24 (MaxPooling (None, 4, 4, 64)          0         \n",
      "_________________________________________________________________\n",
      "flatten_18 (Flatten)         (None, 1024)              0         \n",
      "_________________________________________________________________\n",
      "dense_39 (Dense)             (None, 128)               131200    \n",
      "_________________________________________________________________\n",
      "batch_normalization_46 (Batc (None, 128)               512       \n",
      "_________________________________________________________________\n",
      "activation_58 (Activation)   (None, 128)               0         \n",
      "_________________________________________________________________\n",
      "dense_40 (Dense)             (None, 64)                8256      \n",
      "_________________________________________________________________\n",
      "batch_normalization_47 (Batc (None, 64)                256       \n",
      "_________________________________________________________________\n",
      "activation_59 (Activation)   (None, 64)                0         \n",
      "_________________________________________________________________\n",
      "dense_41 (Dense)             (None, 3)                 195       \n",
      "=================================================================\n",
      "Total params: 159,619\n",
      "Trainable params: 159,043\n",
      "Non-trainable params: 576\n",
      "_________________________________________________________________\n"
     ]
    }
   ],
   "source": [
    "model.summary()"
   ]
  },
  {
   "cell_type": "code",
   "execution_count": 87,
   "metadata": {
    "ExecuteTime": {
     "end_time": "2020-01-22T02:26:09.887234Z",
     "start_time": "2020-01-22T02:26:09.882236Z"
    }
   },
   "outputs": [
    {
     "name": "stdout",
     "output_type": "stream",
     "text": [
      "conv2d_31\n",
      "True\n",
      "batch_normalization_36\n",
      "True\n",
      "activation_48\n",
      "True\n",
      "max_pooling2d_19\n",
      "True\n",
      "conv2d_32\n",
      "True\n",
      "batch_normalization_37\n",
      "True\n",
      "activation_49\n",
      "True\n",
      "max_pooling2d_20\n",
      "True\n",
      "flatten_16\n",
      "True\n",
      "dense_33\n",
      "True\n",
      "batch_normalization_38\n",
      "True\n",
      "activation_50\n",
      "True\n",
      "dense_34\n",
      "True\n",
      "batch_normalization_39\n",
      "True\n",
      "activation_51\n",
      "True\n",
      "dense_35\n",
      "True\n"
     ]
    }
   ],
   "source": [
    "for l in model.layers:\n",
    "    print(l.name)\n",
    "    print(l.trainable)"
   ]
  },
  {
   "cell_type": "code",
   "execution_count": 90,
   "metadata": {
    "ExecuteTime": {
     "end_time": "2020-01-22T02:34:57.758075Z",
     "start_time": "2020-01-22T02:34:57.753125Z"
    }
   },
   "outputs": [
    {
     "name": "stdout",
     "output_type": "stream",
     "text": [
      "(3, 3, 1, 32)\n",
      "(32,)\n",
      "[[ 0.05411995 -0.10951243 -0.09120001]\n",
      " [ 0.10577349 -0.03272899 -0.03562424]\n",
      " [-0.13772908  0.02869546 -0.06775989]]\n",
      "-0.00010084312\n"
     ]
    }
   ],
   "source": [
    "w = model.layers[0].get_weights()\n",
    "print(w[0].shape)\n",
    "print(w[1].shape)\n",
    "\n",
    "print(w[0][:,:,0,0])\n",
    "print(w[1][0])\n"
   ]
  },
  {
   "cell_type": "code",
   "execution_count": 88,
   "metadata": {
    "ExecuteTime": {
     "end_time": "2020-01-22T02:30:02.669451Z",
     "start_time": "2020-01-22T02:30:02.664464Z"
    }
   },
   "outputs": [
    {
     "data": {
      "text/plain": [
       "<tf.Tensor 'conv2d_31/BiasAdd:0' shape=(None, 22, 22, 32) dtype=float32>"
      ]
     },
     "execution_count": 88,
     "metadata": {},
     "output_type": "execute_result"
    }
   ],
   "source": [
    "model.layers[0].output"
   ]
  },
  {
   "cell_type": "code",
   "execution_count": 106,
   "metadata": {
    "ExecuteTime": {
     "end_time": "2020-01-22T03:07:32.312291Z",
     "start_time": "2020-01-22T03:07:32.306341Z"
    }
   },
   "outputs": [
    {
     "name": "stdout",
     "output_type": "stream",
     "text": [
      "Model: \"sequential_18\"\n",
      "_________________________________________________________________\n",
      "Layer (type)                 Output Shape              Param #   \n",
      "=================================================================\n",
      "conv2d_35 (Conv2D)           (None, 22, 22, 32)        320       \n",
      "_________________________________________________________________\n",
      "batch_normalization_44 (Batc (None, 22, 22, 32)        128       \n",
      "_________________________________________________________________\n",
      "activation_56 (Activation)   (None, 22, 22, 32)        0         \n",
      "_________________________________________________________________\n",
      "max_pooling2d_23 (MaxPooling (None, 11, 11, 32)        0         \n",
      "_________________________________________________________________\n",
      "conv2d_36 (Conv2D)           (None, 9, 9, 64)          18496     \n",
      "_________________________________________________________________\n",
      "batch_normalization_45 (Batc (None, 9, 9, 64)          256       \n",
      "_________________________________________________________________\n",
      "activation_57 (Activation)   (None, 9, 9, 64)          0         \n",
      "_________________________________________________________________\n",
      "max_pooling2d_24 (MaxPooling (None, 4, 4, 64)          0         \n",
      "_________________________________________________________________\n",
      "flatten_18 (Flatten)         (None, 1024)              0         \n",
      "_________________________________________________________________\n",
      "dense_39 (Dense)             (None, 128)               131200    \n",
      "_________________________________________________________________\n",
      "batch_normalization_46 (Batc (None, 128)               512       \n",
      "_________________________________________________________________\n",
      "activation_58 (Activation)   (None, 128)               0         \n",
      "_________________________________________________________________\n",
      "dense_40 (Dense)             (None, 64)                8256      \n",
      "_________________________________________________________________\n",
      "batch_normalization_47 (Batc (None, 64)                256       \n",
      "_________________________________________________________________\n",
      "activation_59 (Activation)   (None, 64)                0         \n",
      "_________________________________________________________________\n",
      "dense_41 (Dense)             (None, 3)                 195       \n",
      "=================================================================\n",
      "Total params: 159,619\n",
      "Trainable params: 159,043\n",
      "Non-trainable params: 576\n",
      "_________________________________________________________________\n"
     ]
    }
   ],
   "source": [
    "model.summary()"
   ]
  },
  {
   "cell_type": "code",
   "execution_count": 116,
   "metadata": {
    "ExecuteTime": {
     "end_time": "2020-01-22T03:11:32.057140Z",
     "start_time": "2020-01-22T03:11:31.952124Z"
    }
   },
   "outputs": [
    {
     "data": {
      "text/plain": [
       "<matplotlib.image.AxesImage at 0x1de13c15e88>"
      ]
     },
     "execution_count": 116,
     "metadata": {},
     "output_type": "execute_result"
    },
    {
     "data": {
      "image/png": "[encoded data removed]",
      "text/plain": [
       "<Figure size 432x288 with 1 Axes>"
      ]
     },
     "metadata": {
      "needs_background": "light"
     },
     "output_type": "display_data"
    }
   ],
   "source": [
    "plt.imshow(w[0][:,:,0,0], cmap=\"gray\")"
   ]
  },
  {
   "cell_type": "code",
   "execution_count": 142,
   "metadata": {
    "ExecuteTime": {
     "end_time": "2020-01-22T04:36:09.480465Z",
     "start_time": "2020-01-22T04:36:09.215468Z"
    }
   },
   "outputs": [
    {
     "name": "stdout",
     "output_type": "stream",
     "text": [
      "(15, 22, 22, 32)\n"
     ]
    },
    {
     "data": {
      "image/png": "[encoded data removed]",
      "text/plain": [
       "<Figure size 432x288 with 1 Axes>"
      ]
     },
     "metadata": {
      "needs_background": "light"
     },
     "output_type": "display_data"
    },
    {
     "data": {
      "image/png": "[encoded data removed]",
      "text/plain": [
       "<Figure size 432x288 with 1 Axes>"
      ]
     },
     "metadata": {
      "needs_background": "light"
     },
     "output_type": "display_data"
    },
    {
     "data": {
      "image/png": "[encoded data removed]",
      "text/plain": [
       "<Figure size 432x288 with 1 Axes>"
      ]
     },
     "metadata": {
      "needs_background": "light"
     },
     "output_type": "display_data"
    }
   ],
   "source": [
    "from keras.models import Model\n",
    "my_layer_model = Model(inputs=model.input, \n",
    "                       outputs=model.layers[0].output)\n",
    "output = my_layer_model.predict(X_test)\n",
    "print(output.shape)\n",
    "\n",
    "iFilter = 5\n",
    "iImg = 1\n",
    "\n",
    "# 1번 이미지\n",
    "plt.imshow(X_test[iImg,:,:,0], cmap=\"gray\")\n",
    "plt.show()\n",
    "# filter\n",
    "w = model.layers[0].get_weights()\n",
    "w = w[0]\n",
    "f = w[:,:,0, iFilter]\n",
    "plt.imshow(f, cmap=\"gray\")\n",
    "plt.show()\n",
    "\n",
    "# 출력\n",
    "plt.imshow(output[iImg,:,:, iFilter], cmap=\"gray\")\n",
    "plt.show()"
   ]
  },
  {
   "cell_type": "code",
   "execution_count": 125,
   "metadata": {
    "ExecuteTime": {
     "end_time": "2020-01-22T03:47:15.965332Z",
     "start_time": "2020-01-22T03:47:15.897333Z"
    }
   },
   "outputs": [
    {
     "name": "stdout",
     "output_type": "stream",
     "text": [
      "(15, 1024)\n"
     ]
    }
   ],
   "source": [
    "my_layer_model = Model(inputs=model.input, \n",
    "                       outputs=model.get_layer(\"flatten_18\").output)\n",
    "output = my_layer_model.predict(X_test)\n",
    "\n",
    "print(output.shape)"
   ]
  },
  {
   "cell_type": "code",
   "execution_count": 153,
   "metadata": {
    "ExecuteTime": {
     "end_time": "2020-01-22T05:04:05.249628Z",
     "start_time": "2020-01-22T05:04:05.143625Z"
    }
   },
   "outputs": [
    {
     "name": "stdout",
     "output_type": "stream",
     "text": [
      "(15, 3)\n",
      "[2 0 2 2 2 0 2 2 2 2 2 2 2 2 2]\n",
      "[0 0 0 0 0 1 1 1 1 1 2 2 2 2 2]\n",
      "[0 1 0 0 0 0 0 0 0 0 1 1 1 1 1]\n",
      "6\n",
      "0.4\n"
     ]
    }
   ],
   "source": [
    "my_layer_model = Model(inputs=model.input, \n",
    "                       outputs=model.get_layer(\"dense_41\").output)\n",
    "output = my_layer_model.predict(X_test)\n",
    "\n",
    "print(output.shape)\n",
    "#print(output)\n",
    "p =np.argmax(output, axis=1)\n",
    "T = np.argmax(y_test, axis = 1)\n",
    "\n",
    "print(p)\n",
    "print(T)\n",
    "print(  (p == T)*1 )\n",
    "print(  sum(p == T)*1 )\n",
    "print(  sum(p == T)*1  / len(p))\n"
   ]
  },
  {
   "cell_type": "code",
   "execution_count": 126,
   "metadata": {
    "ExecuteTime": {
     "end_time": "2020-01-22T03:54:22.327831Z",
     "start_time": "2020-01-22T03:54:22.319834Z"
    }
   },
   "outputs": [],
   "source": [
    "from keras import backen"
   ]
  },
  {
   "cell_type": "code",
   "execution_count": null,
   "metadata": {},
   "outputs": [],
   "source": [
    "from keras import backend as K\n",
    "\n",
    "layer_name = 'conv2d_35'\n",
    "filter_index = 0  \n",
    "\n",
    "layer_output = model.layers[0].output\n",
    "loss = K.mean(layer_output[:, :, :, filter_index])\n",
    "\n",
    "\n",
    "\n",
    "# compute the gradient of the input picture wrt this loss\n",
    "grads = K.gradients(loss, input_img)[0]\n",
    "\n",
    "# normalization trick: we normalize the gradient\n",
    "grads /= (K.sqrt(K.mean(K.square(grads))) + 1e-5)\n",
    "\n",
    "# this function returns the loss and grads given the input picture\n",
    "iterate = K.function([input_img], [loss, grads])\n",
    "\n",
    "input_img_data = np.random.random((1, 3, img_width, img_height)) * 20 + 128.\n",
    "# run gradient ascent for 20 steps\n",
    "for i in range(20):\n",
    "    loss_value, grads_value = iterate([input_img_data])\n",
    "    input_img_data += grads_value * step\n",
    "    \n",
    "    "
   ]
  },
  {
   "cell_type": "code",
   "execution_count": null,
   "metadata": {},
   "outputs": [],
   "source": [
    "def deprocess_image(x):\n",
    "    # normalize tensor: center on 0., ensure std is 0.1\n",
    "    x -= x.mean()\n",
    "    x /= (x.std() + 1e-5)\n",
    "    x *= 0.1\n",
    "\n",
    "    # clip to [0, 1]\n",
    "    x += 0.5\n",
    "    x = np.clip(x, 0, 1)\n",
    "\n",
    "    # convert to RGB array\n",
    "    x *= 255\n",
    "    x = x.transpose((1, 2, 0))\n",
    "    x = np.clip(x, 0, 255).astype('uint8')\n",
    "    return x\n",
    "\n",
    "img = input_img_data[0]\n",
    "img = deprocess_image(img)\n",
    "imsave('%s_filter_%d.png' % (layer_name, filter_index), img)"
   ]
  }
 ],
 "metadata": {
  "kernelspec": {
   "display_name": "Python 3",
   "language": "python",
   "name": "python3"
  },
  "language_info": {
   "codemirror_mode": {
    "name": "ipython",
    "version": 3
   },
   "file_extension": ".py",
   "mimetype": "text/x-python",
   "name": "python",
   "nbconvert_exporter": "python",
   "pygments_lexer": "ipython3",
   "version": "3.7.4"
  },
  "varInspector": {
   "cols": {
    "lenName": 16,
    "lenType": 16,
    "lenVar": 40
   },
   "kernels_config": {
    "python": {
     "delete_cmd_postfix": "",
     "delete_cmd_prefix": "del ",
     "library": "var_list.py",
     "varRefreshCmd": "print(var_dic_list())"
    },
    "r": {
     "delete_cmd_postfix": ") ",
     "delete_cmd_prefix": "rm(",
     "library": "var_list.r",
     "varRefreshCmd": "cat(var_dic_list()) "
    }
   },
   "position": {
    "height": "216.667px",
    "left": "493.222px",
    "right": "20px",
    "top": "-13px",
    "width": "347.104px"
   },
   "types_to_exclude": [
    "module",
    "function",
    "builtin_function_or_method",
    "instance",
    "_Feature"
   ],
   "window_display": false
  }
 },
 "nbformat": 4,
 "nbformat_minor": 2
}
