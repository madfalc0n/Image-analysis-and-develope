{
 "cells": [
  {
   "cell_type": "markdown",
   "metadata": {},
   "source": [
    "## 로지스틱 회귀 분석을 수행하시오\n",
    "\n",
    "1. weather.csv파일을 읽어서 Temp, Sunshine,  Umidity, Pressure, Cloud, RainToday , RainTomorrow 특성을 읽어서 dataframe으로 생성하고\n",
    "2. RainTomorrow 변수(특성)을  로짓변환 (출력범위를 [0,1]로 조정) 합니다.\n",
    "\n",
    "3. 데이터를 train data 와 test data를 7:3 비율로 분리하여 \n",
    "4. 로지스틱 회귀분석을 수행하고, 모델의 정확도를 출력하고\n",
    "5. Temp, Sunshine,  Umidity, Pressure, Cloud가 내일 비가 올것이라고 예보하는 영향도를 평가하시오\n"
   ]
  },
  {
   "cell_type": "code",
   "execution_count": 1,
   "metadata": {},
   "outputs": [],
   "source": [
    "import pandas as pd\n",
    "import numpy as np"
   ]
  },
  {
   "cell_type": "code",
   "execution_count": 2,
   "metadata": {},
   "outputs": [
    {
     "data": {
      "text/html": [
       "<div>\n",
       "<style scoped>\n",
       "    .dataframe tbody tr th:only-of-type {\n",
       "        vertical-align: middle;\n",
       "    }\n",
       "\n",
       "    .dataframe tbody tr th {\n",
       "        vertical-align: top;\n",
       "    }\n",
       "\n",
       "    .dataframe thead th {\n",
       "        text-align: right;\n",
       "    }\n",
       "</style>\n",
       "<table border=\"1\" class=\"dataframe\">\n",
       "  <thead>\n",
       "    <tr style=\"text-align: right;\">\n",
       "      <th></th>\n",
       "      <th>Temp</th>\n",
       "      <th>Sunshine</th>\n",
       "      <th>Humidity</th>\n",
       "      <th>Pressure</th>\n",
       "      <th>Cloud</th>\n",
       "      <th>RainToday</th>\n",
       "      <th>RainTomorrow</th>\n",
       "    </tr>\n",
       "  </thead>\n",
       "  <tbody>\n",
       "    <tr>\n",
       "      <td>0</td>\n",
       "      <td>23.6</td>\n",
       "      <td>6.3</td>\n",
       "      <td>29</td>\n",
       "      <td>1015.0</td>\n",
       "      <td>7</td>\n",
       "      <td>No</td>\n",
       "      <td>Yes</td>\n",
       "    </tr>\n",
       "    <tr>\n",
       "      <td>1</td>\n",
       "      <td>25.7</td>\n",
       "      <td>9.7</td>\n",
       "      <td>36</td>\n",
       "      <td>1008.4</td>\n",
       "      <td>3</td>\n",
       "      <td>Yes</td>\n",
       "      <td>Yes</td>\n",
       "    </tr>\n",
       "    <tr>\n",
       "      <td>2</td>\n",
       "      <td>20.2</td>\n",
       "      <td>3.3</td>\n",
       "      <td>69</td>\n",
       "      <td>1007.2</td>\n",
       "      <td>7</td>\n",
       "      <td>Yes</td>\n",
       "      <td>Yes</td>\n",
       "    </tr>\n",
       "    <tr>\n",
       "      <td>3</td>\n",
       "      <td>14.1</td>\n",
       "      <td>9.1</td>\n",
       "      <td>56</td>\n",
       "      <td>1007.0</td>\n",
       "      <td>7</td>\n",
       "      <td>Yes</td>\n",
       "      <td>Yes</td>\n",
       "    </tr>\n",
       "    <tr>\n",
       "      <td>4</td>\n",
       "      <td>15.4</td>\n",
       "      <td>10.6</td>\n",
       "      <td>49</td>\n",
       "      <td>1018.5</td>\n",
       "      <td>7</td>\n",
       "      <td>Yes</td>\n",
       "      <td>No</td>\n",
       "    </tr>\n",
       "  </tbody>\n",
       "</table>\n",
       "</div>"
      ],
      "text/plain": [
       "   Temp  Sunshine  Humidity  Pressure  Cloud RainToday RainTomorrow\n",
       "0  23.6       6.3        29    1015.0      7        No          Yes\n",
       "1  25.7       9.7        36    1008.4      3       Yes          Yes\n",
       "2  20.2       3.3        69    1007.2      7       Yes          Yes\n",
       "3  14.1       9.1        56    1007.0      7       Yes          Yes\n",
       "4  15.4      10.6        49    1018.5      7       Yes           No"
      ]
     },
     "execution_count": 2,
     "metadata": {},
     "output_type": "execute_result"
    }
   ],
   "source": [
    "# 1.weather.csv 파일 호출 밑 특정 cols을 데이터프레임으로 생성\n",
    "df = pd.read_csv('./datas/weather.csv')\n",
    "#cols = ['Temp','Sunshine','Humidity','Pressure','Cloud','RainTomorrow']\n",
    "cols = ['Temp','Sunshine','Humidity','Pressure','Cloud','RainToday','RainTomorrow']\n",
    "df = df[cols]\n",
    "df.head()"
   ]
  },
  {
   "cell_type": "code",
   "execution_count": 3,
   "metadata": {},
   "outputs": [],
   "source": [
    "# 2. RainTomorrow 변수 특성을 로짓변환(0 또는 1)\n",
    "df['RainTomorrow'].replace(['Yes','No'],[1,0], inplace=True)\n",
    "df['RainToday'].replace(['Yes','No'],[1,0], inplace=True)"
   ]
  },
  {
   "cell_type": "code",
   "execution_count": 4,
   "metadata": {},
   "outputs": [
    {
     "data": {
      "text/plain": [
       "(366, 7)"
      ]
     },
     "execution_count": 4,
     "metadata": {},
     "output_type": "execute_result"
    }
   ],
   "source": [
    "df.shape"
   ]
  },
  {
   "cell_type": "code",
   "execution_count": 5,
   "metadata": {},
   "outputs": [
    {
     "data": {
      "text/plain": [
       "(363, 7)"
      ]
     },
     "execution_count": 5,
     "metadata": {},
     "output_type": "execute_result"
    }
   ],
   "source": [
    "df.dropna( axis=0, inplace=True)\n",
    "df.shape"
   ]
  },
  {
   "cell_type": "code",
   "execution_count": 6,
   "metadata": {},
   "outputs": [
    {
     "name": "stdout",
     "output_type": "stream",
     "text": [
      "train data  개수 : 254\n",
      "test data  개수 : 109\n"
     ]
    }
   ],
   "source": [
    "# 3. 데이터를 train data 와 test data를 7:3 비율로 분리하여\n",
    "X = df[['Temp','Sunshine','Humidity','Pressure','Cloud']]\n",
    "Y = df['RainTomorrow']\n",
    "from sklearn.model_selection import train_test_split\n",
    "X_train, X_test, Y_train, Y_test = train_test_split(X,Y, test_size=0.3, random_state=10)\n",
    "\n",
    "print('train data  개수 :', len(X_train))\n",
    "print('test data  개수 :', len(X_test))"
   ]
  },
  {
   "cell_type": "code",
   "execution_count": 7,
   "metadata": {},
   "outputs": [
    {
     "name": "stdout",
     "output_type": "stream",
     "text": [
      "로지스틱 회귀 파라미터\n",
      "  LogisticRegression(C=1.0, class_weight=None, dual=False, fit_intercept=True,\n",
      "                   intercept_scaling=1, l1_ratio=None, max_iter=100,\n",
      "                   multi_class='warn', n_jobs=None, penalty='l2',\n",
      "                   random_state=None, solver='warn', tol=0.0001, verbose=0,\n",
      "                   warm_start=False)\n",
      "\n",
      "train 정확도:  0.8582677165354331\n",
      "test 정확도:  0.8715596330275229\n"
     ]
    },
    {
     "name": "stderr",
     "output_type": "stream",
     "text": [
      "C:\\Users\\student\\Anaconda3\\lib\\site-packages\\sklearn\\linear_model\\logistic.py:432: FutureWarning: Default solver will be changed to 'lbfgs' in 0.22. Specify a solver to silence this warning.\n",
      "  FutureWarning)\n"
     ]
    }
   ],
   "source": [
    "# 4. 로지스틱 회귀분석을 수행하고, 모델의 정확도를 출력하고\n",
    "from sklearn.linear_model import LogisticRegression\n",
    "logR = LogisticRegression()\n",
    "print(\"로지스틱 회귀 파라미터\\n \",logR)\n",
    "print()\n",
    "logR.fit(X_train,Y_train) #학습 시키기\n",
    "\n",
    "print(\"train 정확도: \",logR.score(X_train,Y_train))\n",
    "print(\"test 정확도: \",logR.score(X_test,Y_test))"
   ]
  },
  {
   "cell_type": "code",
   "execution_count": 8,
   "metadata": {},
   "outputs": [
    {
     "name": "stdout",
     "output_type": "stream",
     "text": [
      "              precision    recall  f1-score   support\n",
      "\n",
      "           0       0.87      0.99      0.93        91\n",
      "           1       0.83      0.28      0.42        18\n",
      "\n",
      "    accuracy                           0.87       109\n",
      "   macro avg       0.85      0.63      0.67       109\n",
      "weighted avg       0.87      0.87      0.84       109\n",
      "\n"
     ]
    }
   ],
   "source": [
    "# 5. Temp, Sunshine, Umidity, Pressure, Cloud가 내일 비가 올것이라고 예보하는 영향도를 평가하시오\n",
    "from sklearn.metrics import classification_report\n",
    "y_predict = logR.predict(X_test)\n",
    "print(classification_report(Y_test,y_predict)) "
   ]
  },
  {
   "cell_type": "code",
   "execution_count": 9,
   "metadata": {},
   "outputs": [
    {
     "name": "stdout",
     "output_type": "stream",
     "text": [
      "Optimization terminated successfully.\n",
      "         Current function value: 0.335145\n",
      "         Iterations 7\n",
      "                         Results: Logit\n",
      "=================================================================\n",
      "Model:              Logit            Pseudo R-squared: 0.287     \n",
      "Dependent Variable: RainTomorrow     AIC:              253.3156  \n",
      "Date:               2019-12-20 17:22 BIC:              272.7876  \n",
      "No. Observations:   363              Log-Likelihood:   -121.66   \n",
      "Df Model:           4                LL-Null:          -170.60   \n",
      "Df Residuals:       358              LLR p-value:      2.7764e-20\n",
      "Converged:          1.0000           Scale:            1.0000    \n",
      "No. Iterations:     7.0000                                       \n",
      "------------------------------------------------------------------\n",
      "               Coef.   Std.Err.     z     P>|z|    [0.025   0.975]\n",
      "------------------------------------------------------------------\n",
      "Temp           0.1625    0.0349   4.6562  0.0000   0.0941   0.2309\n",
      "Sunshine      -0.0981    0.0738  -1.3297  0.1836  -0.2427   0.0465\n",
      "Humidity       0.0605    0.0158   3.8265  0.0001   0.0295   0.0915\n",
      "Pressure      -0.0081    0.0016  -5.2226  0.0000  -0.0111  -0.0051\n",
      "Cloud          0.2554    0.0924   2.7646  0.0057   0.0743   0.4364\n",
      "=================================================================\n",
      "\n",
      "Temp        0.162513\n",
      "Sunshine   -0.098113\n",
      "Humidity    0.060515\n",
      "Pressure   -0.008100\n",
      "Cloud       0.255374\n",
      "dtype: float64\n"
     ]
    }
   ],
   "source": [
    "import statsmodels.api as sm\n",
    "logit = sm.Logit(df['RainTomorrow'],X) #로지스틱 회귀분석 수행\n",
    "result = logit.fit()\n",
    "print(result.summary2())\n",
    "print(result.params)\n"
   ]
  },
  {
   "cell_type": "code",
   "execution_count": null,
   "metadata": {},
   "outputs": [],
   "source": []
  }
 ],
 "metadata": {
  "kernelspec": {
   "display_name": "Python 3",
   "language": "python",
   "name": "python3"
  },
  "language_info": {
   "codemirror_mode": {
    "name": "ipython",
    "version": 3
   },
   "file_extension": ".py",
   "mimetype": "text/x-python",
   "name": "python",
   "nbconvert_exporter": "python",
   "pygments_lexer": "ipython3",
   "version": "3.7.4"
  }
 },
 "nbformat": 4,
 "nbformat_minor": 4
}
