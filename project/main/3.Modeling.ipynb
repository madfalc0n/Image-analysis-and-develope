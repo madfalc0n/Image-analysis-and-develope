{
 "cells": [
  {
   "cell_type": "code",
   "execution_count": 1,
   "metadata": {},
   "outputs": [],
   "source": [
    "import pandas as pd\n",
    "import numpy as np\n",
    "from sklearn.linear_model import LinearRegression\n",
    "from sklearn.preprocessing import LabelEncoder\n",
    "import matplotlib.pyplot as plt\n",
    "import seaborn as sns"
   ]
  },
  {
   "cell_type": "code",
   "execution_count": 2,
   "metadata": {},
   "outputs": [
    {
     "name": "stdout",
     "output_type": "stream",
     "text": [
      "<class 'pandas.core.frame.DataFrame'>\n",
      "RangeIndex: 125 entries, 0 to 124\n",
      "Data columns (total 14 columns):\n",
      "년도              125 non-null int32\n",
      "지역              125 non-null object\n",
      "CCTV            125 non-null int64\n",
      "등록외국인           125 non-null int64\n",
      "한국인             125 non-null int64\n",
      "합계              125 non-null int64\n",
      "강간강제추행          125 non-null int64\n",
      "강도              125 non-null int64\n",
      "범죄합             125 non-null int64\n",
      "살인              125 non-null int64\n",
      "절도              125 non-null int64\n",
      "폭력              125 non-null int64\n",
      "10만명당 범죄 수      125 non-null int64\n",
      "10만명당 CCTV 수    125 non-null int64\n",
      "dtypes: int32(1), int64(12), object(1)\n",
      "memory usage: 13.3+ KB\n"
     ]
    }
   ],
   "source": [
    "df = pd.read_excel('./data/20191227_seoul_crime_sum_10man.xlsx')\n",
    "df['년도'].fillna(method='ffill', inplace=True)\n",
    "df['년도'] = df['년도'].astype(int)\n",
    "df.info()"
   ]
  },
  {
   "cell_type": "code",
   "execution_count": 3,
   "metadata": {},
   "outputs": [
    {
     "name": "stdout",
     "output_type": "stream",
     "text": [
      "['강남구', '강동구', '강북구', '강서구', '관악구', '광진구', '구로구', '금천구', '노원구', '도봉구', '동대문구', '동작구', '마포구', '서대문구', '서초구', '성동구', '성북구', '송파구', '양천구', '영등포구', '용산구', '은평구', '종로구', '중구', '중랑구']\n"
     ]
    }
   ],
   "source": [
    "print(list(df['지역'].unique()))"
   ]
  },
  {
   "cell_type": "code",
   "execution_count": 5,
   "metadata": {},
   "outputs": [
    {
     "name": "stdout",
     "output_type": "stream",
     "text": [
      "[ 0  1  2  3  4  5  6  7  8  9 10 11 12 13 14 15 16 17 18 19 20 21 22 23\n",
      " 24  0  1  2  3  4  5  6  7  8  9 10 11 12 13 14 15 16 17 18 19 20 21 22\n",
      " 23 24  0  1  2  3  4  5  6  7  8  9 10 11 12 13 14 15 16 17 18 19 20 21\n",
      " 22 23 24  0  1  2  3  4  5  6  7  8  9 10 11 12 13 14 15 16 17 18 19 20\n",
      " 21 22 23 24  0  1  2  3  4  5  6  7  8  9 10 11 12 13 14 15 16 17 18 19\n",
      " 20 21 22 23 24]\n",
      "[0 0 0 0 0 0 0 0 0 0 0 0 0 0 0 0 0 0 0 0 0 0 0 0 0 1 1 1 1 1 1 1 1 1 1 1 1\n",
      " 1 1 1 1 1 1 1 1 1 1 1 1 1 2 2 2 2 2 2 2 2 2 2 2 2 2 2 2 2 2 2 2 2 2 2 2 2\n",
      " 2 3 3 3 3 3 3 3 3 3 3 3 3 3 3 3 3 3 3 3 3 3 3 3 3 3 4 4 4 4 4 4 4 4 4 4 4\n",
      " 4 4 4 4 4 4 4 4 4 4 4 4 4 4]\n"
     ]
    }
   ],
   "source": [
    "#라벨 인코딩 문자열 -> 숫자\n",
    "encoder = LabelEncoder()\n",
    "encoder.fit(df['지역'])\n",
    "x_train_place_encoded = encoder.transform(df['지역'])\n",
    "print(x_train_place_encoded)\n",
    "\n",
    "encoder.fit(df['년도'])\n",
    "x_train_year_encoded = encoder.transform(df['년도'])\n",
    "print(x_train_year_encoded)"
   ]
  },
  {
   "cell_type": "code",
   "execution_count": 8,
   "metadata": {},
   "outputs": [
    {
     "name": "stdout",
     "output_type": "stream",
     "text": [
      "[0, 1, 2, 3, 4, 5, 6, 7, 8, 9, 10, 11, 12, 13, 14, 15, 16, 17, 18, 19, 20, 21, 22, 23, 24, 0, 1, 2, 3, 4, 5, 6, 7, 8, 9, 10, 11, 12, 13, 14, 15, 16, 17, 18, 19, 20, 21, 22, 23, 24, 0, 1, 2, 3, 4, 5, 6, 7, 8, 9, 10, 11, 12, 13, 14, 15, 16, 17, 18, 19, 20, 21, 22, 23, 24, 0, 1, 2, 3, 4, 5, 6, 7, 8, 9, 10, 11, 12, 13, 14, 15, 16, 17, 18, 19, 20, 21, 22, 23, 24, 0, 1, 2, 3, 4, 5, 6, 7, 8, 9, 10, 11, 12, 13, 14, 15, 16, 17, 18, 19, 20, 21, 22, 23, 24]\n",
      "[0, 0, 0, 0, 0, 0, 0, 0, 0, 0, 0, 0, 0, 0, 0, 0, 0, 0, 0, 0, 0, 0, 0, 0, 0, 1, 1, 1, 1, 1, 1, 1, 1, 1, 1, 1, 1, 1, 1, 1, 1, 1, 1, 1, 1, 1, 1, 1, 1, 1, 2, 2, 2, 2, 2, 2, 2, 2, 2, 2, 2, 2, 2, 2, 2, 2, 2, 2, 2, 2, 2, 2, 2, 2, 2, 3, 3, 3, 3, 3, 3, 3, 3, 3, 3, 3, 3, 3, 3, 3, 3, 3, 3, 3, 3, 3, 3, 3, 3, 3, 4, 4, 4, 4, 4, 4, 4, 4, 4, 4, 4, 4, 4, 4, 4, 4, 4, 4, 4, 4, 4, 4, 4, 4, 4]\n"
     ]
    }
   ],
   "source": [
    "df['지역'] = x_train_place_encoded\n",
    "print(list(df['지역']))\n",
    "df['년도'] = x_train_year_encoded\n",
    "print(list(df['년도']))"
   ]
  },
  {
   "cell_type": "code",
   "execution_count": 9,
   "metadata": {},
   "outputs": [
    {
     "data": {
      "text/plain": [
       "Index(['년도', '지역', 'CCTV', '등록외국인', '한국인', '합계', '강간강제추행', '강도', '범죄합', '살인',\n",
       "       '절도', '폭력', '10만명당 범죄 수', '10만명당 CCTV 수'],\n",
       "      dtype='object')"
      ]
     },
     "execution_count": 9,
     "metadata": {},
     "output_type": "execute_result"
    }
   ],
   "source": [
    "df.columns"
   ]
  },
  {
   "cell_type": "code",
   "execution_count": 10,
   "metadata": {},
   "outputs": [],
   "source": [
    "#분석에 사용할 특성(열, 변수) 선택 (연비, 실린더, 마력, 중력)\n",
    "ndf = df[['년도', '지역', 'CCTV', '등록외국인', '한국인', '합계', '강간강제추행', '강도', '범죄합', '살인',\n",
    "       '절도', '폭력', '10만명당 범죄 수', '10만명당 CCTV 수']]"
   ]
  },
  {
   "cell_type": "code",
   "execution_count": 11,
   "metadata": {},
   "outputs": [],
   "source": [
    "#독립변수와 종속변수 분리\n",
    "X= ndf[['년도','지역','CCTV']]    #독립변수 X : \n",
    "#X= df[['년도', '지역', 'CCTV', '등록외국인', '한국인', '합계']]   #독립변수 X :  전체 컬럼\n",
    "Y= ndf['범죄합']    #종속변수 Y : 연비\n",
    "#Y= df[['강간강제추행', '강도', '살인', '절도', '폭력', '범죄합']]    #종속변수 Y : 연비"
   ]
  },
  {
   "cell_type": "code",
   "execution_count": 12,
   "metadata": {},
   "outputs": [
    {
     "name": "stdout",
     "output_type": "stream",
     "text": [
      "train data  개수 : 87\n",
      "test data  개수 : 38\n"
     ]
    }
   ],
   "source": [
    "# train data 와 test data를 7:3 비율로 분리\n",
    "from sklearn.model_selection import train_test_split\n",
    "X_train, X_test, Y_train, Y_test = train_test_split(X, Y, test_size=0.3, random_state=10)  #랜덤하게 추출 -> 값 10\n",
    "\n",
    "print('train data  개수 :', len(X_train))\n",
    "print('test data  개수 :', len(X_test))"
   ]
  },
  {
   "cell_type": "code",
   "execution_count": 185,
   "metadata": {},
   "outputs": [
    {
     "name": "stdout",
     "output_type": "stream",
     "text": [
      "(125, 1)\n"
     ]
    }
   ],
   "source": [
    "#설정변수 정규화 \n",
    "from sklearn import preprocessing\n",
    "#print(X)\n",
    "X = preprocessing.StandardScaler().fit(X).transform(X)\n",
    "#print(X)\n",
    "print(X.shape)\n",
    "\n",
    "#다항식 변환\n",
    "from  sklearn.preprocessing import PolynomialFeatures  \n",
    "\n",
    "#다항식 변환\n",
    "poly = PolynomialFeatures(degree=2)  # 2차항 적용\n",
    "x_train_poly =poly.fit_transform(X_train)   # X학습데이터를 2차항으로 변형\n",
    "#print(x_train_poly.shape) #(87, 15)\n",
    "#print(X_train.shape) # (87, 4)"
   ]
  },
  {
   "cell_type": "code",
   "execution_count": 13,
   "metadata": {},
   "outputs": [
    {
     "data": {
      "text/plain": [
       "LinearRegression(copy_X=True, fit_intercept=True, n_jobs=None, normalize=False)"
      ]
     },
     "execution_count": 13,
     "metadata": {},
     "output_type": "execute_result"
    }
   ],
   "source": [
    "#선형회귀 라이브러리의 선형회귀분석 모듈 \n",
    "from sklearn.linear_model import LinearRegression\n",
    "\n",
    "#단순 선형회귀분석 객체 생성\n",
    "lr = LinearRegression()\n",
    "\n",
    "#학습\n",
    "lr.fit(X_train, Y_train)"
   ]
  },
  {
   "cell_type": "code",
   "execution_count": 14,
   "metadata": {},
   "outputs": [
    {
     "name": "stdout",
     "output_type": "stream",
     "text": [
      "0.0880852429404414\n",
      "기울기 a: [-556.02666819  -28.19405656    0.91923429]\n",
      "절편 b : 5516.678148106775\n",
      "[5911.94889348 5542.71891474 5528.31337255 5643.51986547 5851.56902184\n",
      " 5455.68124865 5519.41062124 5412.1624156  5364.66443892 5432.98998297\n",
      " 6453.64225308 5668.91837455 5242.69586974 5254.94812201 5245.13875127\n",
      " 5186.60996309 5287.10870734 5056.68310663 5164.53572522 5180.46491465\n",
      " 5051.15508601 5239.90032226 5017.74783018 4941.75359045 5547.83119506\n",
      " 5857.82414849 5119.06198454 5105.57567665 5259.39000981 5855.35603722\n",
      " 4958.48557513 5209.7387432  5207.2832468  5232.40477914 4931.19813798\n",
      " 5999.65059125 5232.39216427 4849.37367116 4799.1179916  4886.74745578\n",
      " 4867.74574213 4987.5484065  4653.24933085 4766.61735518 4960.87799718\n",
      " 4588.89031557 4849.33582656 4640.97184884 4610.9393237  5085.56642462\n",
      " 6005.01171335 4741.36676892 4783.03451852 4878.01785702 5868.33539551\n",
      " 4421.76282706 4953.38245406 4776.27244226 4950.30992984 4517.65278499\n",
      " 5657.805513   4909.85100614 4623.35211365 4497.71922218 4654.29125822\n",
      " 4496.48516655 4788.18464345 4189.14609182 4531.40345476 4670.51003926\n",
      " 4114.67549933 4565.40250867 4220.99185581 4303.10591423 4640.76710571\n",
      " 5979.3832314  4436.29106233 4227.92708462 4564.66904181 5950.25732567\n",
      " 4295.93780733 4893.74230332 4403.1733981  4495.39903373 4069.17652892\n",
      " 5226.79470847 4609.37147101 4409.28060193 4323.17478499 4325.31546005\n",
      " 4798.10409239 4494.13974836 3739.75060146 4101.31188451 4455.51929324\n",
      " 3613.80288864 4219.88049326 3923.27002356 4038.47651648 4145.40990077\n",
      " 5835.17352583 4234.1695964  3965.13615545 4242.12788368 6011.03686713\n",
      " 4057.96620403 4784.46350084 4334.34090444 4082.77291503 3578.41549543\n",
      " 4851.85719572 4287.74954718 4032.5046206  3945.47956937 4133.30557133\n",
      " 4512.33230592 4529.18072965 3547.74071273 4308.24967833 4628.44541827\n",
      " 3124.88032374 4001.21281008 3460.08601882 3783.95869592 3597.65634121]\n"
     ]
    }
   ],
   "source": [
    "#학습 후 결정계수 계산\n",
    "r_square = lr.score(X_test, Y_test)\n",
    "print(r_square) \n",
    "\n",
    "#기울기\n",
    "print(\"기울기 a: {0}\" .format(lr.coef_)) #\n",
    "#절편\n",
    "print('절편 b : {0}' .format( lr.intercept_)) #\n",
    "#예측값 구하기\n",
    "y_predict = lr.predict(X) # 독립변수(X)에 대한 예측된 종속변수값\n",
    "print(y_predict)"
   ]
  },
  {
   "cell_type": "code",
   "execution_count": 15,
   "metadata": {},
   "outputs": [
    {
     "name": "stdout",
     "output_type": "stream",
     "text": [
      "[5911.94889347943, 5542.718914744608, 5528.313372553611, 5643.519865473183, 5851.56902184075, 5455.681248650563, 5519.410621242533, 5412.1624156035405, 5364.664438916228, 5432.989982966021]\n",
      "[3227, 3820, 5444, 3665, 4726, 4184, 4229, 3437, 1999, 4029]\n"
     ]
    }
   ],
   "source": [
    "print(list(y_predict[:10]))\n",
    "print(list(Y_test[:10]))"
   ]
  },
  {
   "cell_type": "code",
   "execution_count": 16,
   "metadata": {
    "collapsed": true,
    "jupyter": {
     "outputs_hidden": true
    }
   },
   "outputs": [
    {
     "ename": "ValueError",
     "evalue": "Found input variables with inconsistent numbers of samples: [38, 125]",
     "output_type": "error",
     "traceback": [
      "\u001b[1;31m---------------------------------------------------------------------------\u001b[0m",
      "\u001b[1;31mValueError\u001b[0m                                Traceback (most recent call last)",
      "\u001b[1;32m<ipython-input-16-b8f1444f0861>\u001b[0m in \u001b[0;36m<module>\u001b[1;34m\u001b[0m\n\u001b[0;32m      1\u001b[0m \u001b[1;31m# 모델 검증\u001b[0m\u001b[1;33m\u001b[0m\u001b[1;33m\u001b[0m\u001b[1;33m\u001b[0m\u001b[0m\n\u001b[0;32m      2\u001b[0m \u001b[1;32mfrom\u001b[0m \u001b[0msklearn\u001b[0m \u001b[1;32mimport\u001b[0m \u001b[0mmetrics\u001b[0m\u001b[1;33m\u001b[0m\u001b[1;33m\u001b[0m\u001b[0m\n\u001b[1;32m----> 3\u001b[1;33m \u001b[0msimple_linear_regression_matrix\u001b[0m \u001b[1;33m=\u001b[0m \u001b[0mmetrics\u001b[0m\u001b[1;33m.\u001b[0m\u001b[0mconfusion_matrix\u001b[0m\u001b[1;33m(\u001b[0m\u001b[0mY_test\u001b[0m\u001b[1;33m,\u001b[0m \u001b[0my_predict\u001b[0m\u001b[1;33m)\u001b[0m\u001b[1;33m\u001b[0m\u001b[1;33m\u001b[0m\u001b[0m\n\u001b[0m\u001b[0;32m      4\u001b[0m \u001b[0mprint\u001b[0m\u001b[1;33m(\u001b[0m\u001b[0msimple_linear_regression_matrix\u001b[0m\u001b[1;33m)\u001b[0m \u001b[1;31m# 혼동매트릭스\u001b[0m\u001b[1;33m\u001b[0m\u001b[1;33m\u001b[0m\u001b[0m\n\u001b[0;32m      5\u001b[0m \u001b[1;31m#print(knn_matrix.shape)\u001b[0m\u001b[1;33m\u001b[0m\u001b[1;33m\u001b[0m\u001b[1;33m\u001b[0m\u001b[0m\n",
      "\u001b[1;32m~\\Anaconda3\\lib\\site-packages\\sklearn\\metrics\\classification.py\u001b[0m in \u001b[0;36mconfusion_matrix\u001b[1;34m(y_true, y_pred, labels, sample_weight)\u001b[0m\n\u001b[0;32m    251\u001b[0m \u001b[1;33m\u001b[0m\u001b[0m\n\u001b[0;32m    252\u001b[0m     \"\"\"\n\u001b[1;32m--> 253\u001b[1;33m     \u001b[0my_type\u001b[0m\u001b[1;33m,\u001b[0m \u001b[0my_true\u001b[0m\u001b[1;33m,\u001b[0m \u001b[0my_pred\u001b[0m \u001b[1;33m=\u001b[0m \u001b[0m_check_targets\u001b[0m\u001b[1;33m(\u001b[0m\u001b[0my_true\u001b[0m\u001b[1;33m,\u001b[0m \u001b[0my_pred\u001b[0m\u001b[1;33m)\u001b[0m\u001b[1;33m\u001b[0m\u001b[1;33m\u001b[0m\u001b[0m\n\u001b[0m\u001b[0;32m    254\u001b[0m     \u001b[1;32mif\u001b[0m \u001b[0my_type\u001b[0m \u001b[1;32mnot\u001b[0m \u001b[1;32min\u001b[0m \u001b[1;33m(\u001b[0m\u001b[1;34m\"binary\"\u001b[0m\u001b[1;33m,\u001b[0m \u001b[1;34m\"multiclass\"\u001b[0m\u001b[1;33m)\u001b[0m\u001b[1;33m:\u001b[0m\u001b[1;33m\u001b[0m\u001b[1;33m\u001b[0m\u001b[0m\n\u001b[0;32m    255\u001b[0m         \u001b[1;32mraise\u001b[0m \u001b[0mValueError\u001b[0m\u001b[1;33m(\u001b[0m\u001b[1;34m\"%s is not supported\"\u001b[0m \u001b[1;33m%\u001b[0m \u001b[0my_type\u001b[0m\u001b[1;33m)\u001b[0m\u001b[1;33m\u001b[0m\u001b[1;33m\u001b[0m\u001b[0m\n",
      "\u001b[1;32m~\\Anaconda3\\lib\\site-packages\\sklearn\\metrics\\classification.py\u001b[0m in \u001b[0;36m_check_targets\u001b[1;34m(y_true, y_pred)\u001b[0m\n\u001b[0;32m     69\u001b[0m     \u001b[0my_pred\u001b[0m \u001b[1;33m:\u001b[0m \u001b[0marray\u001b[0m \u001b[1;32mor\u001b[0m \u001b[0mindicator\u001b[0m \u001b[0mmatrix\u001b[0m\u001b[1;33m\u001b[0m\u001b[1;33m\u001b[0m\u001b[0m\n\u001b[0;32m     70\u001b[0m     \"\"\"\n\u001b[1;32m---> 71\u001b[1;33m     \u001b[0mcheck_consistent_length\u001b[0m\u001b[1;33m(\u001b[0m\u001b[0my_true\u001b[0m\u001b[1;33m,\u001b[0m \u001b[0my_pred\u001b[0m\u001b[1;33m)\u001b[0m\u001b[1;33m\u001b[0m\u001b[1;33m\u001b[0m\u001b[0m\n\u001b[0m\u001b[0;32m     72\u001b[0m     \u001b[0mtype_true\u001b[0m \u001b[1;33m=\u001b[0m \u001b[0mtype_of_target\u001b[0m\u001b[1;33m(\u001b[0m\u001b[0my_true\u001b[0m\u001b[1;33m)\u001b[0m\u001b[1;33m\u001b[0m\u001b[1;33m\u001b[0m\u001b[0m\n\u001b[0;32m     73\u001b[0m     \u001b[0mtype_pred\u001b[0m \u001b[1;33m=\u001b[0m \u001b[0mtype_of_target\u001b[0m\u001b[1;33m(\u001b[0m\u001b[0my_pred\u001b[0m\u001b[1;33m)\u001b[0m\u001b[1;33m\u001b[0m\u001b[1;33m\u001b[0m\u001b[0m\n",
      "\u001b[1;32m~\\Anaconda3\\lib\\site-packages\\sklearn\\utils\\validation.py\u001b[0m in \u001b[0;36mcheck_consistent_length\u001b[1;34m(*arrays)\u001b[0m\n\u001b[0;32m    203\u001b[0m     \u001b[1;32mif\u001b[0m \u001b[0mlen\u001b[0m\u001b[1;33m(\u001b[0m\u001b[0muniques\u001b[0m\u001b[1;33m)\u001b[0m \u001b[1;33m>\u001b[0m \u001b[1;36m1\u001b[0m\u001b[1;33m:\u001b[0m\u001b[1;33m\u001b[0m\u001b[1;33m\u001b[0m\u001b[0m\n\u001b[0;32m    204\u001b[0m         raise ValueError(\"Found input variables with inconsistent numbers of\"\n\u001b[1;32m--> 205\u001b[1;33m                          \" samples: %r\" % [int(l) for l in lengths])\n\u001b[0m\u001b[0;32m    206\u001b[0m \u001b[1;33m\u001b[0m\u001b[0m\n\u001b[0;32m    207\u001b[0m \u001b[1;33m\u001b[0m\u001b[0m\n",
      "\u001b[1;31mValueError\u001b[0m: Found input variables with inconsistent numbers of samples: [38, 125]"
     ]
    }
   ],
   "source": [
    "# 모델 검증\n",
    "from sklearn import metrics\n",
    "simple_linear_regression_matrix = metrics.confusion_matrix(Y_test, y_predict)\n",
    "print(simple_linear_regression_matrix) # 혼동매트릭스\n",
    "#print(knn_matrix.shape)\n",
    "\n",
    "simple_linear_regression_report = metrics.classification_report(Y_test, y_predict)\n",
    "print(simple_linear_regression_report)\n",
    "#precision 값이 0과 1이 0.81,0.80\n"
   ]
  },
  {
   "cell_type": "code",
   "execution_count": 17,
   "metadata": {},
   "outputs": [
    {
     "name": "stderr",
     "output_type": "stream",
     "text": [
      "C:\\Users\\student\\Anaconda3\\lib\\site-packages\\matplotlib\\backends\\backend_agg.py:211: RuntimeWarning: Glyph 48276 missing from current font.\n",
      "  font.set_text(s, 0.0, flags=flags)\n",
      "C:\\Users\\student\\Anaconda3\\lib\\site-packages\\matplotlib\\backends\\backend_agg.py:211: RuntimeWarning: Glyph 51396 missing from current font.\n",
      "  font.set_text(s, 0.0, flags=flags)\n",
      "C:\\Users\\student\\Anaconda3\\lib\\site-packages\\matplotlib\\backends\\backend_agg.py:211: RuntimeWarning: Glyph 54633 missing from current font.\n",
      "  font.set_text(s, 0.0, flags=flags)\n",
      "C:\\Users\\student\\Anaconda3\\lib\\site-packages\\matplotlib\\backends\\backend_agg.py:180: RuntimeWarning: Glyph 48276 missing from current font.\n",
      "  font.set_text(s, 0, flags=flags)\n",
      "C:\\Users\\student\\Anaconda3\\lib\\site-packages\\matplotlib\\backends\\backend_agg.py:180: RuntimeWarning: Glyph 51396 missing from current font.\n",
      "  font.set_text(s, 0, flags=flags)\n",
      "C:\\Users\\student\\Anaconda3\\lib\\site-packages\\matplotlib\\backends\\backend_agg.py:180: RuntimeWarning: Glyph 54633 missing from current font.\n",
      "  font.set_text(s, 0, flags=flags)\n"
     ]
    },
    {
     "data": {
      "image/png": "[encoded data removed]",
      "text/plain": [
       "<Figure size 720x360 with 1 Axes>"
      ]
     },
     "metadata": {
      "needs_background": "light"
     },
     "output_type": "display_data"
    }
   ],
   "source": [
    "#실제 테스트 결과 값(Y)과 예측 결과값(y_predict)\n",
    "#결과값이 떨어지는 것으로 보아 연비에 영향을 미치는 다른 변수가 있다.\n",
    "plt.figure(figsize=(10,5))\n",
    "ax1 = sns.distplot(Y, hist = False, label = 'Y')\n",
    "ax2 = sns.distplot(y_predict, hist = False , label = 'y_predict', ax=ax1)\n",
    "plt.show()\n",
    "plt.close()"
   ]
  },
  {
   "cell_type": "code",
   "execution_count": 191,
   "metadata": {},
   "outputs": [
    {
     "ename": "ValueError",
     "evalue": "Expected 2D array, got 1D array instead:\narray=[4699.6214258  4699.55713865 4699.55973787 4699.58676966 4699.6313028\n 4699.56199051 4699.57931859 4699.56441644 4699.56077755 4699.57897203\n 4699.77668533 4699.63407529 4699.55904474 4699.56666909 4699.57013471\n 4699.56441644 4699.58867575 4699.55055399 4699.57619953 4699.58451701\n 4699.56545613 4699.60635038 4699.56978815 4699.56077755 4699.68034125\n 4699.71603707 4699.58209108 4699.58486357 4699.61917315 4699.73683076\n 4699.57308048 4699.62575782 4699.63060968 4699.64065996 4699.58919559\n 4699.79591949 4699.65660179 4699.58971543 4699.58555669 4699.60739006\n 4699.60912287 4699.63702107 4699.57931859 4699.60600382 4699.64793775\n 4699.58313076 4699.63754091 4699.60357789 4699.60323133 4699.69801588\n 4699.84859682 4699.61570754 4699.62887687 4699.65209649 4699.84409153\n 4699.57671938 4699.68224733 4699.65417586 4699.69229762 4699.6160541\n 4699.83629389 4699.70061509 4699.65192321 4699.63355545 4699.66838488\n 4699.64395229 4699.70425399 4699.59664666 4699.66647879 4699.69801588\n 4699.59855275 4699.688832   4699.62922343 4699.65001712 4699.71898285\n 4699.9485798  4699.66301317 4699.62905015 4699.6978426  4699.96434834\n 4699.65781475 4699.77581892 4699.68865872 4699.71135849 4699.63632794\n 4699.85986007 4699.74878713 4699.71638364 4699.70546695 4699.71118521\n 4699.80562321 4699.75363899 4699.61674722 4699.69021825 4699.76230303\n 4699.60894959 4699.72851329 4699.67791532 4699.70494711 4699.73041937\n 4700.02620956 4699.72972625 4699.6843267  4699.7418559  4700.08061971\n 4699.71776988 4699.86003335 4699.7804975  4699.73839029 4699.64863087\n 4699.89399637 4699.79297371 4699.75017338 4699.73908341 4699.77980438\n 4699.85656774 4699.86505849 4699.68536639 4699.83404124 4699.89971464\n 4699.62159908 4699.79210731 4699.69541667 4699.76178318 4699.7319789 ].\nReshape your data either using array.reshape(-1, 1) if your data has a single feature or array.reshape(1, -1) if it contains a single sample.",
     "output_type": "error",
     "traceback": [
      "\u001b[1;31m---------------------------------------------------------------------------\u001b[0m",
      "\u001b[1;31mValueError\u001b[0m                                Traceback (most recent call last)",
      "\u001b[1;32m<ipython-input-191-71ebc42942e2>\u001b[0m in \u001b[0;36m<module>\u001b[1;34m\u001b[0m\n\u001b[1;32m----> 1\u001b[1;33m \u001b[0my_test_predict\u001b[0m \u001b[1;33m=\u001b[0m \u001b[0mlr\u001b[0m\u001b[1;33m.\u001b[0m\u001b[0mpredict\u001b[0m\u001b[1;33m(\u001b[0m\u001b[0my_predict\u001b[0m\u001b[1;33m)\u001b[0m  \u001b[1;31m#test 데이터에 대한 모델의 예측값 구하기\u001b[0m\u001b[1;33m\u001b[0m\u001b[1;33m\u001b[0m\u001b[0m\n\u001b[0m\u001b[0;32m      2\u001b[0m \u001b[0mfig\u001b[0m \u001b[1;33m=\u001b[0m \u001b[0mplt\u001b[0m\u001b[1;33m.\u001b[0m\u001b[0mfigure\u001b[0m\u001b[1;33m(\u001b[0m\u001b[0mfigsize\u001b[0m\u001b[1;33m=\u001b[0m\u001b[1;33m(\u001b[0m\u001b[1;36m10\u001b[0m\u001b[1;33m,\u001b[0m \u001b[1;36m5\u001b[0m\u001b[1;33m)\u001b[0m\u001b[1;33m)\u001b[0m\u001b[1;33m\u001b[0m\u001b[1;33m\u001b[0m\u001b[0m\n\u001b[0;32m      3\u001b[0m \u001b[0max\u001b[0m \u001b[1;33m=\u001b[0m \u001b[0mfig\u001b[0m\u001b[1;33m.\u001b[0m\u001b[0madd_subplot\u001b[0m\u001b[1;33m(\u001b[0m\u001b[1;36m1\u001b[0m\u001b[1;33m,\u001b[0m\u001b[1;36m1\u001b[0m\u001b[1;33m,\u001b[0m \u001b[1;36m1\u001b[0m\u001b[1;33m)\u001b[0m\u001b[1;33m\u001b[0m\u001b[1;33m\u001b[0m\u001b[0m\n\u001b[0;32m      4\u001b[0m \u001b[1;33m\u001b[0m\u001b[0m\n\u001b[0;32m      5\u001b[0m \u001b[0max\u001b[0m\u001b[1;33m.\u001b[0m\u001b[0mplot\u001b[0m\u001b[1;33m(\u001b[0m\u001b[0mX_train\u001b[0m\u001b[1;33m,\u001b[0m \u001b[0mY_train\u001b[0m\u001b[1;33m,\u001b[0m \u001b[1;34m'o'\u001b[0m\u001b[1;33m,\u001b[0m \u001b[0mlabel\u001b[0m\u001b[1;33m=\u001b[0m\u001b[1;34m'Train Data'\u001b[0m\u001b[1;33m)\u001b[0m\u001b[1;33m\u001b[0m\u001b[1;33m\u001b[0m\u001b[0m\n",
      "\u001b[1;32m~\\Anaconda3\\lib\\site-packages\\sklearn\\linear_model\\base.py\u001b[0m in \u001b[0;36mpredict\u001b[1;34m(self, X)\u001b[0m\n\u001b[0;32m    219\u001b[0m             \u001b[0mReturns\u001b[0m \u001b[0mpredicted\u001b[0m \u001b[0mvalues\u001b[0m\u001b[1;33m.\u001b[0m\u001b[1;33m\u001b[0m\u001b[1;33m\u001b[0m\u001b[0m\n\u001b[0;32m    220\u001b[0m         \"\"\"\n\u001b[1;32m--> 221\u001b[1;33m         \u001b[1;32mreturn\u001b[0m \u001b[0mself\u001b[0m\u001b[1;33m.\u001b[0m\u001b[0m_decision_function\u001b[0m\u001b[1;33m(\u001b[0m\u001b[0mX\u001b[0m\u001b[1;33m)\u001b[0m\u001b[1;33m\u001b[0m\u001b[1;33m\u001b[0m\u001b[0m\n\u001b[0m\u001b[0;32m    222\u001b[0m \u001b[1;33m\u001b[0m\u001b[0m\n\u001b[0;32m    223\u001b[0m     \u001b[0m_preprocess_data\u001b[0m \u001b[1;33m=\u001b[0m \u001b[0mstaticmethod\u001b[0m\u001b[1;33m(\u001b[0m\u001b[0m_preprocess_data\u001b[0m\u001b[1;33m)\u001b[0m\u001b[1;33m\u001b[0m\u001b[1;33m\u001b[0m\u001b[0m\n",
      "\u001b[1;32m~\\Anaconda3\\lib\\site-packages\\sklearn\\linear_model\\base.py\u001b[0m in \u001b[0;36m_decision_function\u001b[1;34m(self, X)\u001b[0m\n\u001b[0;32m    202\u001b[0m         \u001b[0mcheck_is_fitted\u001b[0m\u001b[1;33m(\u001b[0m\u001b[0mself\u001b[0m\u001b[1;33m,\u001b[0m \u001b[1;34m\"coef_\"\u001b[0m\u001b[1;33m)\u001b[0m\u001b[1;33m\u001b[0m\u001b[1;33m\u001b[0m\u001b[0m\n\u001b[0;32m    203\u001b[0m \u001b[1;33m\u001b[0m\u001b[0m\n\u001b[1;32m--> 204\u001b[1;33m         \u001b[0mX\u001b[0m \u001b[1;33m=\u001b[0m \u001b[0mcheck_array\u001b[0m\u001b[1;33m(\u001b[0m\u001b[0mX\u001b[0m\u001b[1;33m,\u001b[0m \u001b[0maccept_sparse\u001b[0m\u001b[1;33m=\u001b[0m\u001b[1;33m[\u001b[0m\u001b[1;34m'csr'\u001b[0m\u001b[1;33m,\u001b[0m \u001b[1;34m'csc'\u001b[0m\u001b[1;33m,\u001b[0m \u001b[1;34m'coo'\u001b[0m\u001b[1;33m]\u001b[0m\u001b[1;33m)\u001b[0m\u001b[1;33m\u001b[0m\u001b[1;33m\u001b[0m\u001b[0m\n\u001b[0m\u001b[0;32m    205\u001b[0m         return safe_sparse_dot(X, self.coef_.T,\n\u001b[0;32m    206\u001b[0m                                dense_output=True) + self.intercept_\n",
      "\u001b[1;32m~\\Anaconda3\\lib\\site-packages\\sklearn\\utils\\validation.py\u001b[0m in \u001b[0;36mcheck_array\u001b[1;34m(array, accept_sparse, accept_large_sparse, dtype, order, copy, force_all_finite, ensure_2d, allow_nd, ensure_min_samples, ensure_min_features, warn_on_dtype, estimator)\u001b[0m\n\u001b[0;32m    519\u001b[0m                     \u001b[1;34m\"Reshape your data either using array.reshape(-1, 1) if \"\u001b[0m\u001b[1;33m\u001b[0m\u001b[1;33m\u001b[0m\u001b[0m\n\u001b[0;32m    520\u001b[0m                     \u001b[1;34m\"your data has a single feature or array.reshape(1, -1) \"\u001b[0m\u001b[1;33m\u001b[0m\u001b[1;33m\u001b[0m\u001b[0m\n\u001b[1;32m--> 521\u001b[1;33m                     \"if it contains a single sample.\".format(array))\n\u001b[0m\u001b[0;32m    522\u001b[0m \u001b[1;33m\u001b[0m\u001b[0m\n\u001b[0;32m    523\u001b[0m         \u001b[1;31m# in the future np.flexible dtypes will be handled like object dtypes\u001b[0m\u001b[1;33m\u001b[0m\u001b[1;33m\u001b[0m\u001b[1;33m\u001b[0m\u001b[0m\n",
      "\u001b[1;31mValueError\u001b[0m: Expected 2D array, got 1D array instead:\narray=[4699.6214258  4699.55713865 4699.55973787 4699.58676966 4699.6313028\n 4699.56199051 4699.57931859 4699.56441644 4699.56077755 4699.57897203\n 4699.77668533 4699.63407529 4699.55904474 4699.56666909 4699.57013471\n 4699.56441644 4699.58867575 4699.55055399 4699.57619953 4699.58451701\n 4699.56545613 4699.60635038 4699.56978815 4699.56077755 4699.68034125\n 4699.71603707 4699.58209108 4699.58486357 4699.61917315 4699.73683076\n 4699.57308048 4699.62575782 4699.63060968 4699.64065996 4699.58919559\n 4699.79591949 4699.65660179 4699.58971543 4699.58555669 4699.60739006\n 4699.60912287 4699.63702107 4699.57931859 4699.60600382 4699.64793775\n 4699.58313076 4699.63754091 4699.60357789 4699.60323133 4699.69801588\n 4699.84859682 4699.61570754 4699.62887687 4699.65209649 4699.84409153\n 4699.57671938 4699.68224733 4699.65417586 4699.69229762 4699.6160541\n 4699.83629389 4699.70061509 4699.65192321 4699.63355545 4699.66838488\n 4699.64395229 4699.70425399 4699.59664666 4699.66647879 4699.69801588\n 4699.59855275 4699.688832   4699.62922343 4699.65001712 4699.71898285\n 4699.9485798  4699.66301317 4699.62905015 4699.6978426  4699.96434834\n 4699.65781475 4699.77581892 4699.68865872 4699.71135849 4699.63632794\n 4699.85986007 4699.74878713 4699.71638364 4699.70546695 4699.71118521\n 4699.80562321 4699.75363899 4699.61674722 4699.69021825 4699.76230303\n 4699.60894959 4699.72851329 4699.67791532 4699.70494711 4699.73041937\n 4700.02620956 4699.72972625 4699.6843267  4699.7418559  4700.08061971\n 4699.71776988 4699.86003335 4699.7804975  4699.73839029 4699.64863087\n 4699.89399637 4699.79297371 4699.75017338 4699.73908341 4699.77980438\n 4699.85656774 4699.86505849 4699.68536639 4699.83404124 4699.89971464\n 4699.62159908 4699.79210731 4699.69541667 4699.76178318 4699.7319789 ].\nReshape your data either using array.reshape(-1, 1) if your data has a single feature or array.reshape(1, -1) if it contains a single sample."
     ]
    }
   ],
   "source": [
    "y_test_predict = lr.predict(y_predict)  #test 데이터에 대한 모델의 예측값 구하기\n",
    "fig = plt.figure(figsize=(10, 5))\n",
    "ax = fig.add_subplot(1,1, 1)\n",
    "\n",
    "ax.plot(X_train, Y_train, 'o', label='Train Data')\n",
    "ax.plot(X_test, y_test_predict, 'r*', label='Predicted Value')  #학습한 회귀선\n",
    "\n",
    "ax.legend(loc='best')\n",
    "\n",
    "plt.xlabel('weight-label')\n",
    "plt.ylabel('mpg-label')\n",
    "\n",
    "plt.show()\n",
    "plt.close()"
   ]
  },
  {
   "cell_type": "code",
   "execution_count": null,
   "metadata": {},
   "outputs": [],
   "source": []
  }
 ],
 "metadata": {
  "kernelspec": {
   "display_name": "Python 3",
   "language": "python",
   "name": "python3"
  },
  "language_info": {
   "codemirror_mode": {
    "name": "ipython",
    "version": 3
   },
   "file_extension": ".py",
   "mimetype": "text/x-python",
   "name": "python",
   "nbconvert_exporter": "python",
   "pygments_lexer": "ipython3",
   "version": "3.7.4"
  }
 },
 "nbformat": 4,
 "nbformat_minor": 4
}
