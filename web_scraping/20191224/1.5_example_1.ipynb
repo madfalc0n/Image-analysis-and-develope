{
 "cells": [
  {
   "cell_type": "markdown",
   "metadata": {},
   "source": [
    "### 1. 정적 웹 페이지 크롤링과 스크래핑 실습\n",
    " - url: https://movie.naver.com/movie/point/af/list.nhn?page=1\n",
    " - 스크래핑 내용\n",
    "     - 영화 제목 : movie의 콘텐츠\n",
    "     - 평점 : td.title > div > em의 콘텐츠\n",
    "     - 댓글 : td.title의 콘텐츠 중  7번째 자식 콘텐츠\n"
   ]
  },
  {
   "cell_type": "code",
   "execution_count": 15,
   "metadata": {},
   "outputs": [],
   "source": [
    "from bs4 import BeautifulSoup\n",
    "import re\n",
    "import requests"
   ]
  },
  {
   "cell_type": "code",
   "execution_count": 30,
   "metadata": {},
   "outputs": [],
   "source": [
    "req = requests.get('https://movie.naver.com/movie/point/af/list.nhn?page=1')\n",
    "html =req.text"
   ]
  },
  {
   "cell_type": "code",
   "execution_count": 31,
   "metadata": {},
   "outputs": [
    {
     "name": "stdout",
     "output_type": "stream",
     "text": [
      "영화제목: 캣츠\n",
      "평점: 10\n",
      "리뷰: 연출, 연기, 노래, 안무 모두 훌륭했습니다. \n",
      "-----------------------------------------\n",
      "영화제목: 백두산\n",
      "평점: 2\n",
      "리뷰: 케이블tv에서 영화'2012' 다시보기 해서 보세요.'2012'의 재미와 영상미 10분의1도 안되는 재난영화네요.영화댓글 태어나서 처음 써봄 ㅜㅜ \n",
      "-----------------------------------------\n",
      "영화제목: 포드 V 페라리\n",
      "평점: 8\n",
      "리뷰: 포드2세도 맞고. 돼지도 맞아. \n",
      "-----------------------------------------\n",
      "영화제목: 캣츠\n",
      "평점: 1\n",
      "리뷰: 마지막 메모리 이분만 보면됨 \n",
      "-----------------------------------------\n",
      "영화제목: 스위트 노벰버\n",
      "평점: 10\n",
      "리뷰: 중생들아 영화를 전부 사실적으로 만들수는 없잖니?  그래서 허구와 비허구가 있는 것 아이겠나  뭔 불평들이 그리 많노 들.. \n",
      "-----------------------------------------\n",
      "영화제목: 아내를 죽였다\n",
      "평점: 1\n",
      "리뷰: 대배우님 코믹캐릭터로 밀고 나가시길. . \n",
      "-----------------------------------------\n",
      "영화제목: 타짜: 원 아이드 잭\n",
      "평점: 6\n",
      "리뷰: 스토리가 아쉬움, 진짜 박정민 연기밖에 안보임 \n",
      "-----------------------------------------\n",
      "영화제목: 백두산\n",
      "평점: 10\n",
      "리뷰: 이병헌은 연기로 깔수가 없다 \n",
      "-----------------------------------------\n",
      "영화제목: 캣츠\n",
      "평점: 10\n",
      "리뷰: \n",
      "-----------------------------------------\n",
      "영화제목: 더하우스\n",
      "평점: 1\n",
      "리뷰: 처음부터 끝까지 전부 이상하다 \n",
      "-----------------------------------------\n"
     ]
    }
   ],
   "source": [
    "soup = BeautifulSoup(html, 'html.parser')\n",
    "titles = soup.select('.movie.color_b')\n",
    "points = soup.select('td.title > div > em')\n",
    "reviews = soup.select('td.title')\n",
    "#print(reviews[0])#\n",
    "#print(titles)\n",
    "\n",
    "movie_title=[]\n",
    "movie_point=[]\n",
    "movie_review=[]\n",
    "for dom in titles :\n",
    "    movie_title.append(dom.text)\n",
    "\n",
    "for dom in points :\n",
    "     movie_point.append(dom.text)\n",
    "\n",
    "for dom in reviews :\n",
    "    content = dom.contents[6]\n",
    "    content = re.sub(\"[\\n\\t]\", \"\", content)    \n",
    "    content = re.sub(\"신고\", \"\", content)\n",
    "    movie_review.append(content)\n",
    "\n",
    "    \n",
    "for i  in range(len(movie_title)) :\n",
    "    print('영화제목:' , movie_title[i])\n",
    "    print('평점:' , movie_point[i])\n",
    "    print('리뷰:' , movie_review[i])\n",
    "    print('-----------------------------------------')\n",
    "\n",
    "    \n",
    "# print(movie_title)\n",
    "# print(movie_point)\n",
    "# print(movie_review)"
   ]
  },
  {
   "cell_type": "code",
   "execution_count": null,
   "metadata": {},
   "outputs": [],
   "source": []
  }
 ],
 "metadata": {
  "kernelspec": {
   "display_name": "Python 3",
   "language": "python",
   "name": "python3"
  },
  "language_info": {
   "codemirror_mode": {
    "name": "ipython",
    "version": 3
   },
   "file_extension": ".py",
   "mimetype": "text/x-python",
   "name": "python",
   "nbconvert_exporter": "python",
   "pygments_lexer": "ipython3",
   "version": "3.7.4"
  }
 },
 "nbformat": 4,
 "nbformat_minor": 4
}
