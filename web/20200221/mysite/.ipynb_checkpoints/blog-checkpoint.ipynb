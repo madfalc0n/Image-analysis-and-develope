{
 "cells": [
  {
   "cell_type": "markdown",
   "metadata": {},
   "source": [
    "#  POST 레코드 생성\n",
    "1. 포스트 클래스 가져와야 함"
   ]
  },
  {
   "cell_type": "code",
   "execution_count": 7,
   "metadata": {
    "ExecuteTime": {
     "end_time": "2020-02-18T01:22:00.341955Z",
     "start_time": "2020-02-18T01:22:00.337880Z"
    }
   },
   "outputs": [],
   "source": [
    "from blog.models import Post # Post 클래스 호출 \n",
    "from django.contrib.auth.models import User #시스템 테이블 불러오는 모듈"
   ]
  },
  {
   "cell_type": "code",
   "execution_count": 9,
   "metadata": {
    "ExecuteTime": {
     "end_time": "2020-02-18T01:26:30.049419Z",
     "start_time": "2020-02-18T01:26:30.035732Z"
    },
    "scrolled": true
   },
   "outputs": [
    {
     "data": {
      "text/plain": [
       "<QuerySet [<User: home>, <User: 이순신>, <User: 김맹만>]>"
      ]
     },
     "execution_count": 9,
     "metadata": {},
     "output_type": "execute_result"
    }
   ],
   "source": [
    "User.objects.all()"
   ]
  },
  {
   "cell_type": "code",
   "execution_count": 12,
   "metadata": {
    "ExecuteTime": {
     "end_time": "2020-02-18T01:27:34.750643Z",
     "start_time": "2020-02-18T01:27:34.745657Z"
    }
   },
   "outputs": [],
   "source": [
    "u = User.objects.all().get(username='김맹만')"
   ]
  },
  {
   "cell_type": "code",
   "execution_count": 13,
   "metadata": {
    "ExecuteTime": {
     "end_time": "2020-02-18T01:28:02.285114Z",
     "start_time": "2020-02-18T01:28:02.273157Z"
    }
   },
   "outputs": [
    {
     "name": "stdout",
     "output_type": "stream",
     "text": [
      "오늘 점심 메뉴\n"
     ]
    }
   ],
   "source": [
    "p = Post(title='오늘 점심 메뉴', text='뭐지?', author=u) \n",
    "print(p)\n",
    "p.save()"
   ]
  },
  {
   "cell_type": "code",
   "execution_count": 17,
   "metadata": {
    "ExecuteTime": {
     "end_time": "2020-02-18T01:31:47.163595Z",
     "start_time": "2020-02-18T01:31:47.159605Z"
    },
    "scrolled": true
   },
   "outputs": [
    {
     "name": "stdout",
     "output_type": "stream",
     "text": [
      "오늘 점심 메뉴\n",
      "뭐지?\n",
      "김맹만\n"
     ]
    }
   ],
   "source": [
    "print(p.title)\n",
    "print(p.text)\n",
    "print(p.author)\n"
   ]
  },
  {
   "cell_type": "code",
   "execution_count": 18,
   "metadata": {
    "ExecuteTime": {
     "end_time": "2020-02-18T01:35:07.762963Z",
     "start_time": "2020-02-18T01:35:07.751993Z"
    },
    "scrolled": false
   },
   "outputs": [
    {
     "data": {
      "text/plain": [
       "<Post: 오늘 저녁 메뉴>"
      ]
     },
     "execution_count": 18,
     "metadata": {},
     "output_type": "execute_result"
    }
   ],
   "source": [
    "Post.objects.create(title='오늘 저녁 메뉴', text='뭐지??' , author=u)"
   ]
  },
  {
   "cell_type": "code",
   "execution_count": 35,
   "metadata": {
    "ExecuteTime": {
     "end_time": "2020-02-18T04:49:56.891422Z",
     "start_time": "2020-02-18T04:49:56.837565Z"
    }
   },
   "outputs": [
    {
     "name": "stdout",
     "output_type": "stream",
     "text": [
      "home\n"
     ]
    }
   ],
   "source": [
    "from django.contrib.auth import authenticate\n",
    "\n",
    "user = authenticate(username = 'home', password = 'home1234')\n",
    "print(user)"
   ]
  },
  {
   "cell_type": "code",
   "execution_count": 1,
   "metadata": {
    "ExecuteTime": {
     "end_time": "2020-02-20T02:31:53.858751Z",
     "start_time": "2020-02-20T02:31:53.853764Z"
    }
   },
   "outputs": [],
   "source": [
    "from myboard import models"
   ]
  },
  {
   "cell_type": "code",
   "execution_count": 2,
   "metadata": {
    "ExecuteTime": {
     "end_time": "2020-02-20T02:32:19.720380Z",
     "start_time": "2020-02-20T02:32:19.713341Z"
    }
   },
   "outputs": [
    {
     "name": "stdout",
     "output_type": "stream",
     "text": [
      "<QuerySet [<Board: 첫 번째 글입니다.>, <Board: 두 번째 글입니다.>]>\n"
     ]
    }
   ],
   "source": [
    "datas = models.Board.objects.all().filter(category = 'common')\n",
    "print(datas)"
   ]
  },
  {
   "cell_type": "code",
   "execution_count": 7,
   "metadata": {
    "ExecuteTime": {
     "end_time": "2020-02-20T02:33:12.784968Z",
     "start_time": "2020-02-20T02:33:12.779982Z"
    }
   },
   "outputs": [
    {
     "data": {
      "text/plain": [
       "<QuerySet [<Board: 첫 번째 글입니다.>, <Board: 두 번째 글입니다.>]>"
      ]
     },
     "execution_count": 7,
     "metadata": {},
     "output_type": "execute_result"
    }
   ],
   "source": [
    "page = 1\n",
    "subs = datas[(page-1)*3:(page)*3] \n",
    "subs"
   ]
  },
  {
   "cell_type": "code",
   "execution_count": 31,
   "metadata": {
    "ExecuteTime": {
     "end_time": "2020-02-20T05:26:17.656908Z",
     "start_time": "2020-02-20T05:26:17.651924Z"
    },
    "scrolled": true
   },
   "outputs": [
    {
     "data": {
      "text/plain": [
       "{'datas': [{'pk': 9, 'title': '첫 번째 글입니다.', 'cnt': 0},\n",
       "  {'pk': 10, 'title': '두 번째 글입니다.', 'cnt': 0}]}"
      ]
     },
     "execution_count": 31,
     "metadata": {},
     "output_type": "execute_result"
    }
   ],
   "source": [
    "datas = []\n",
    "datas = {'datas': [{'pk':data.pk , 'title':data.title, 'cnt':data.cnt} for data in subs ]}\n",
    "datas"
   ]
  },
  {
   "cell_type": "markdown",
   "metadata": {},
   "source": [
    "##  ORM2"
   ]
  },
  {
   "cell_type": "code",
   "execution_count": 12,
   "metadata": {
    "ExecuteTime": {
     "end_time": "2020-02-21T00:27:27.676400Z",
     "start_time": "2020-02-21T00:27:27.446403Z"
    }
   },
   "outputs": [],
   "source": [
    "from django.test import RequestFactory\n",
    "rf = RequestFactory()"
   ]
  },
  {
   "cell_type": "code",
   "execution_count": 13,
   "metadata": {
    "ExecuteTime": {
     "end_time": "2020-02-21T00:27:27.953430Z",
     "start_time": "2020-02-21T00:27:27.950442Z"
    }
   },
   "outputs": [],
   "source": [
    "url = '/myboard/ajaxget?page=2'\n",
    "request = rf.get(url)"
   ]
  },
  {
   "cell_type": "code",
   "execution_count": 14,
   "metadata": {
    "ExecuteTime": {
     "end_time": "2020-02-21T00:27:28.402889Z",
     "start_time": "2020-02-21T00:27:28.398947Z"
    }
   },
   "outputs": [
    {
     "name": "stdout",
     "output_type": "stream",
     "text": [
      "2\n"
     ]
    }
   ],
   "source": [
    "page = request.GET.get('page',1)\n",
    "print(page)"
   ]
  },
  {
   "cell_type": "code",
   "execution_count": 15,
   "metadata": {
    "ExecuteTime": {
     "end_time": "2020-02-21T00:27:28.918880Z",
     "start_time": "2020-02-21T00:27:28.911900Z"
    }
   },
   "outputs": [
    {
     "name": "stdout",
     "output_type": "stream",
     "text": [
      "<QuerySet [<Board: 첫번째 글입니다.>, <Board: 두 번째 글입니다.>, <Board: 세번 째 작성이다>, <Board: gogogogogogo>, <Board: 555555555555555>, <Board: 6666666666666666666666>]>\n"
     ]
    }
   ],
   "source": [
    "datas = models.Board.objects.all().filter(category = 'common')\n",
    "print(datas)"
   ]
  },
  {
   "cell_type": "code",
   "execution_count": 16,
   "metadata": {
    "ExecuteTime": {
     "end_time": "2020-02-21T00:27:29.329897Z",
     "start_time": "2020-02-21T00:27:29.325907Z"
    }
   },
   "outputs": [
    {
     "ename": "SyntaxError",
     "evalue": "invalid syntax (<ipython-input-16-834e1831cd04>, line 1)",
     "output_type": "error",
     "traceback": [
      "\u001b[1;36m  File \u001b[1;32m\"<ipython-input-16-834e1831cd04>\"\u001b[1;36m, line \u001b[1;32m1\u001b[0m\n\u001b[1;33m    subs =\u001b[0m\n\u001b[1;37m           ^\u001b[0m\n\u001b[1;31mSyntaxError\u001b[0m\u001b[1;31m:\u001b[0m invalid syntax\n"
     ]
    }
   ],
   "source": [
    "subs = "
   ]
  },
  {
   "cell_type": "code",
   "execution_count": 17,
   "metadata": {
    "ExecuteTime": {
     "end_time": "2020-02-21T00:27:31.242144Z",
     "start_time": "2020-02-21T00:27:31.239093Z"
    }
   },
   "outputs": [],
   "source": [
    "from django.db import connection \n",
    "from django.contrib.auth.models import User\n",
    "from myboard import models"
   ]
  },
  {
   "cell_type": "code",
   "execution_count": 18,
   "metadata": {
    "ExecuteTime": {
     "end_time": "2020-02-21T00:27:32.776318Z",
     "start_time": "2020-02-21T00:27:32.758238Z"
    }
   },
   "outputs": [],
   "source": [
    "data = User.objects.all()"
   ]
  },
  {
   "cell_type": "code",
   "execution_count": 20,
   "metadata": {
    "ExecuteTime": {
     "end_time": "2020-02-21T00:27:41.203336Z",
     "start_time": "2020-02-21T00:27:41.198395Z"
    }
   },
   "outputs": [
    {
     "ename": "SyntaxError",
     "evalue": "invalid syntax (<ipython-input-20-ce1dda086fdc>, line 1)",
     "output_type": "error",
     "traceback": [
      "\u001b[1;36m  File \u001b[1;32m\"<ipython-input-20-ce1dda086fdc>\"\u001b[1;36m, line \u001b[1;32m1\u001b[0m\n\u001b[1;33m    models.Board??\u001b[0m\n\u001b[1;37m                ^\u001b[0m\n\u001b[1;31mSyntaxError\u001b[0m\u001b[1;31m:\u001b[0m invalid syntax\n"
     ]
    }
   ],
   "source": [
    "models.Board?? "
   ]
  },
  {
   "cell_type": "code",
   "execution_count": 21,
   "metadata": {
    "ExecuteTime": {
     "end_time": "2020-02-21T00:27:42.017889Z",
     "start_time": "2020-02-21T00:27:42.014885Z"
    }
   },
   "outputs": [],
   "source": [
    "# myboard 에 대한 소스코드를 출력한다."
   ]
  },
  {
   "cell_type": "code",
   "execution_count": 23,
   "metadata": {
    "ExecuteTime": {
     "end_time": "2020-02-21T00:27:48.731433Z",
     "start_time": "2020-02-21T00:27:48.726435Z"
    }
   },
   "outputs": [
    {
     "data": {
      "text/plain": [
       "{'sql': 'SELECT \"myboard_board\".\"id\", \"myboard_board\".\"author_id\", \"myboard_board\".\"title\", \"myboard_board\".\"text\", \"myboard_board\".\"created_date\", \"myboard_board\".\"cnt\", \"myboard_board\".\"image\", \"myboard_board\".\"category\" FROM \"myboard_board\" WHERE \"myboard_board\".\"category\" = \\'common\\' LIMIT 21',\n",
       " 'time': '0.000'}"
      ]
     },
     "execution_count": 23,
     "metadata": {},
     "output_type": "execute_result"
    }
   ],
   "source": [
    "connection.queries[-1]"
   ]
  },
  {
   "cell_type": "code",
   "execution_count": 24,
   "metadata": {
    "ExecuteTime": {
     "end_time": "2020-02-21T00:28:21.171868Z",
     "start_time": "2020-02-21T00:28:21.166882Z"
    }
   },
   "outputs": [
    {
     "data": {
      "text/plain": [
       "<RawQuerySet: SELECT max(age ) FROM myapp_user>"
      ]
     },
     "execution_count": 24,
     "metadata": {},
     "output_type": "execute_result"
    }
   ],
   "source": [
    "User.objects.raw('SELECT max(age ) FROM myapp_user')"
   ]
  },
  {
   "cell_type": "code",
   "execution_count": 25,
   "metadata": {
    "ExecuteTime": {
     "end_time": "2020-02-21T00:35:10.495180Z",
     "start_time": "2020-02-21T00:35:10.491213Z"
    }
   },
   "outputs": [
    {
     "name": "stdout",
     "output_type": "stream",
     "text": [
      "50\n"
     ]
    }
   ],
   "source": [
    "cursor = connection.cursor()\n",
    "cursor.execute('SELECT max(age) from myapp_user')  # myapp_user 에서 age 가 제일 큰놈을 가져옴\n",
    "max_value = cursor.fetchone()[0]\n",
    "\n",
    "print(max_value)"
   ]
  },
  {
   "cell_type": "code",
   "execution_count": 28,
   "metadata": {
    "ExecuteTime": {
     "end_time": "2020-02-21T00:48:36.176786Z",
     "start_time": "2020-02-21T00:48:36.172788Z"
    }
   },
   "outputs": [
    {
     "name": "stdout",
     "output_type": "stream",
     "text": [
      "[(14, '첫번째 글입니다.', 'ㅁㅁㅁㅁㅁㅁㅁㅁㅁㅁㅁㅁ', datetime.datetime(2020, 2, 20, 7, 18, 21, 736111), 1, None, 'common', 2), (15, '두 번째 글입니다.', '두 번째 글입니다.두 번째 글입니다.두 번째 글입니다.두 번째 글입니다.두 번째 글입니다.', datetime.datetime(2020, 2, 20, 7, 18, 28, 448951), 0, None, 'common', 2), (16, '세번 째 작성이다', '세번 째 작성이다세번 째 작성이다세번 째 작성이다세번 째 작성이다세번 째 작성이다세번 째 작성이다세번 째 작성이다', datetime.datetime(2020, 2, 20, 7, 18, 34, 726259), 1, None, 'common', 2), (17, 'gogogogogogo', 'gogogogogogogogogogogogogogogogo', datetime.datetime(2020, 2, 20, 7, 18, 45, 646196), 0, None, 'common', 2), (18, '555555555555555', '55555555555555555555555555555', datetime.datetime(2020, 2, 20, 7, 32, 14, 993007), 0, None, 'common', 2), (19, '6666666666666666666666', '6666666666666666666666666666666666666666', datetime.datetime(2020, 2, 20, 7, 32, 20, 180094), 0, None, 'common', 2)]\n"
     ]
    }
   ],
   "source": [
    "cursor = connection.cursor()\n",
    "cursor.execute('SELECT * from myboard_board')# 가급적 select * 는 좋지 않다. 필요한 애들만 필터링ㄱ\n",
    "results = cursor.fetchall()\n",
    "print(results)"
   ]
  },
  {
   "cell_type": "code",
   "execution_count": 30,
   "metadata": {
    "ExecuteTime": {
     "end_time": "2020-02-21T00:48:50.722106Z",
     "start_time": "2020-02-21T00:48:50.717120Z"
    }
   },
   "outputs": [
    {
     "name": "stdout",
     "output_type": "stream",
     "text": [
      "[(14, '첫번째 글입니다.', 1), (15, '두 번째 글입니다.', 0), (16, '세번 째 작성이다', 1), (17, 'gogogogogogo', 0), (18, '555555555555555', 0), (19, '6666666666666666666666', 0)]\n",
      "(14, '첫번째 글입니다.', 1)\n"
     ]
    }
   ],
   "source": [
    "cursor = connection.cursor()\n",
    "cursor.execute('SELECT id, title, cnt from myboard_board')\n",
    "results = cursor.fetchall()\n",
    "print(results)\n",
    "print(results[0])"
   ]
  },
  {
   "cell_type": "code",
   "execution_count": 31,
   "metadata": {
    "ExecuteTime": {
     "end_time": "2020-02-21T00:48:55.232938Z",
     "start_time": "2020-02-21T00:48:55.230006Z"
    },
    "scrolled": true
   },
   "outputs": [
    {
     "name": "stdout",
     "output_type": "stream",
     "text": [
      "(14, '첫번째 글입니다.', 1)\n",
      "(15, '두 번째 글입니다.', 0)\n",
      "(16, '세번 째 작성이다', 1)\n",
      "(17, 'gogogogogogo', 0)\n",
      "(18, '555555555555555', 0)\n",
      "(19, '6666666666666666666666', 0)\n"
     ]
    }
   ],
   "source": [
    "for r in results :\n",
    "    print(r)"
   ]
  },
  {
   "cell_type": "markdown",
   "metadata": {},
   "source": [
    "###  커서 실험"
   ]
  },
  {
   "cell_type": "code",
   "execution_count": 54,
   "metadata": {
    "ExecuteTime": {
     "end_time": "2020-02-21T01:20:56.079862Z",
     "start_time": "2020-02-21T01:20:56.074874Z"
    }
   },
   "outputs": [
    {
     "data": {
      "text/plain": [
       "<django.db.backends.sqlite3.base.SQLiteCursorWrapper at 0x21715063678>"
      ]
     },
     "execution_count": 54,
     "metadata": {},
     "output_type": "execute_result"
    }
   ],
   "source": [
    "cursor = connection.cursor() # db의 데이터를 불러오기 위한 객체 선언\n",
    "cursor.execute('SELECT author_id,id, title, cnt from myboard_board') # 해당 쿼리에 대한 결과를 커서함"
   ]
  },
  {
   "cell_type": "code",
   "execution_count": 55,
   "metadata": {
    "ExecuteTime": {
     "end_time": "2020-02-21T01:20:56.694429Z",
     "start_time": "2020-02-21T01:20:56.690440Z"
    }
   },
   "outputs": [
    {
     "data": {
      "text/plain": [
       "(('author_id', None, None, None, None, None, None),\n",
       " ('id', None, None, None, None, None, None),\n",
       " ('title', None, None, None, None, None, None),\n",
       " ('cnt', None, None, None, None, None, None))"
      ]
     },
     "execution_count": 55,
     "metadata": {},
     "output_type": "execute_result"
    }
   ],
   "source": [
    "cursor.description # 커서 익스큐트 하면서 요청한 데이터를 가지고 있음 , attribute 형태로 가지고 있음"
   ]
  },
  {
   "cell_type": "code",
   "execution_count": 44,
   "metadata": {
    "ExecuteTime": {
     "end_time": "2020-02-21T00:52:31.672098Z",
     "start_time": "2020-02-21T00:52:31.668155Z"
    }
   },
   "outputs": [
    {
     "name": "stdout",
     "output_type": "stream",
     "text": [
      "(14, '첫번째 글입니다.', 1)\n"
     ]
    }
   ],
   "source": [
    "r = cursor.fetchone() #하나의 커서만 가져오라\n",
    "print(r)"
   ]
  },
  {
   "cell_type": "code",
   "execution_count": 45,
   "metadata": {
    "ExecuteTime": {
     "end_time": "2020-02-21T00:52:48.512777Z",
     "start_time": "2020-02-21T00:52:48.508788Z"
    }
   },
   "outputs": [
    {
     "name": "stdout",
     "output_type": "stream",
     "text": [
      "[(15, '두 번째 글입니다.', 0), (16, '세번 째 작성이다', 1), (17, 'gogogogogogo', 0), (18, '555555555555555', 0), (19, '6666666666666666666666', 0)]\n"
     ]
    }
   ],
   "source": [
    "r = cursor.fetchall() #아직 소모되지 않은 나머지 데이터를 가져오라\n",
    "print(r)"
   ]
  },
  {
   "cell_type": "code",
   "execution_count": 61,
   "metadata": {
    "ExecuteTime": {
     "end_time": "2020-02-21T01:34:24.486421Z",
     "start_time": "2020-02-21T01:34:24.481477Z"
    }
   },
   "outputs": [],
   "source": [
    "def dictfetchall(cursor):    \n",
    "    desc = cursor.description # 컬럼을 뽑아내기 위한 선언\n",
    "    return [\n",
    "        dict(zip([col[0] for col in desc], row)) for row in cursor.fetchall()  # 모든 데이터를 조회 하면서 컬럼과 같이 묶어버림(ZIP)\n",
    "    ]\n"
   ]
  },
  {
   "cell_type": "code",
   "execution_count": 62,
   "metadata": {
    "ExecuteTime": {
     "end_time": "2020-02-21T01:34:25.262049Z",
     "start_time": "2020-02-21T01:34:25.258060Z"
    }
   },
   "outputs": [
    {
     "name": "stdout",
     "output_type": "stream",
     "text": [
      "첫번째 글입니다.\n"
     ]
    }
   ],
   "source": [
    "cursor = connection.cursor()\n",
    "cursor.execute('SELECT * from myboard_board')\n",
    "d = dictfetchall(cursor)\n",
    "print(d[0]['title'])"
   ]
  },
  {
   "cell_type": "code",
   "execution_count": null,
   "metadata": {},
   "outputs": [],
   "source": []
  }
 ],
 "metadata": {
  "kernelspec": {
   "display_name": "Django Shell-Plus",
   "language": "python",
   "name": "django_extensions"
  },
  "language_info": {
   "codemirror_mode": {
    "name": "ipython",
    "version": 3
   },
   "file_extension": ".py",
   "mimetype": "text/x-python",
   "name": "python",
   "nbconvert_exporter": "python",
   "pygments_lexer": "ipython3",
   "version": "3.7.4"
  }
 },
 "nbformat": 4,
 "nbformat_minor": 2
}
