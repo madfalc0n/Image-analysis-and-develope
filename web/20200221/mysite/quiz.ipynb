{
 "cells": [
  {
   "cell_type": "markdown",
   "metadata": {},
   "source": [
    "## 시험평가"
   ]
  },
  {
   "cell_type": "code",
   "execution_count": 1,
   "metadata": {
    "ExecuteTime": {
     "end_time": "2020-02-21T04:32:51.267883Z",
     "start_time": "2020-02-21T04:32:51.264891Z"
    }
   },
   "outputs": [],
   "source": [
    "from django.db import connection \n",
    "from django.contrib.auth.models import User\n",
    "\n",
    "\n",
    "#페이지 네비게이션\n",
    "from django.core.paginator import Paginator"
   ]
  },
  {
   "cell_type": "code",
   "execution_count": null,
   "metadata": {
    "ExecuteTime": {
     "end_time": "2020-02-21T03:30:09.764225Z",
     "start_time": "2020-02-21T03:30:09.760267Z"
    }
   },
   "outputs": [],
   "source": [
    "def dictfetchall(cursor):    \n",
    "    desc = cursor.description # 컬럼을 뽑아내기 위한 선언\n",
    "    return [\n",
    "        dict(zip([col[0] for col in desc], row)) for row in cursor.fetchall()  # 모든 데이터를 조회 하면서 컬럼과 같이 묶어버림(ZIP)\n",
    "    ]"
   ]
  },
  {
   "cell_type": "code",
   "execution_count": null,
   "metadata": {
    "ExecuteTime": {
     "end_time": "2020-02-21T02:31:18.778737Z",
     "start_time": "2020-02-21T02:31:18.770758Z"
    }
   },
   "outputs": [],
   "source": [
    "data = User.objects.all()\n",
    "print(data)"
   ]
  },
  {
   "cell_type": "code",
   "execution_count": null,
   "metadata": {
    "ExecuteTime": {
     "end_time": "2020-02-21T01:59:52.549337Z",
     "start_time": "2020-02-21T01:59:52.538623Z"
    }
   },
   "outputs": [],
   "source": [
    "connection.queries[-1]"
   ]
  },
  {
   "cell_type": "code",
   "execution_count": null,
   "metadata": {
    "ExecuteTime": {
     "end_time": "2020-02-21T03:30:14.971733Z",
     "start_time": "2020-02-21T03:30:14.966724Z"
    }
   },
   "outputs": [],
   "source": [
    "username = '이순신'\n",
    "category = 'common'\n",
    "page = 2"
   ]
  },
  {
   "cell_type": "code",
   "execution_count": 2,
   "metadata": {
    "ExecuteTime": {
     "end_time": "2020-02-21T04:32:59.182255Z",
     "start_time": "2020-02-21T04:32:59.129364Z"
    }
   },
   "outputs": [
    {
     "ename": "NameError",
     "evalue": "name 'username' is not defined",
     "output_type": "error",
     "traceback": [
      "\u001b[1;31m---------------------------------------------------------------------------\u001b[0m",
      "\u001b[1;31mNameError\u001b[0m                                 Traceback (most recent call last)",
      "\u001b[1;32m<ipython-input-2-77a8ccb7d73f>\u001b[0m in \u001b[0;36m<module>\u001b[1;34m\u001b[0m\n\u001b[0;32m      3\u001b[0m \u001b[1;32mfrom\u001b[0m \u001b[0mmyboard_board\u001b[0m\u001b[1;33m\u001b[0m\u001b[1;33m\u001b[0m\u001b[0m\n\u001b[0;32m      4\u001b[0m \u001b[0mwhere\u001b[0m \u001b[0mauthor_id\u001b[0m \u001b[1;33m=\u001b[0m \u001b[1;33m(\u001b[0m\u001b[0mSELECT\u001b[0m \u001b[0mid\u001b[0m \u001b[1;32mfrom\u001b[0m \u001b[0mauth_user\u001b[0m \u001b[0mwhere\u001b[0m \u001b[0musername\u001b[0m  \u001b[1;33m=\u001b[0m \u001b[1;34m'{username}'\u001b[0m\u001b[1;33m)\u001b[0m \u001b[1;32mand\u001b[0m \u001b[0mcategory\u001b[0m \u001b[1;33m=\u001b[0m\u001b[1;34m'{category}'\u001b[0m\u001b[1;33m\u001b[0m\u001b[1;33m\u001b[0m\u001b[0m\n\u001b[1;32m----> 5\u001b[1;33m \"\"\"\n\u001b[0m",
      "\u001b[1;31mNameError\u001b[0m: name 'username' is not defined"
     ]
    }
   ],
   "source": [
    "sql =f\"\"\"\n",
    "SELECT id, title, cnt\n",
    "from myboard_board\n",
    "where author_id = (SELECT id from auth_user where username  = '{username}') and category ='{category}'\n",
    "\"\"\""
   ]
  },
  {
   "cell_type": "code",
   "execution_count": 3,
   "metadata": {
    "ExecuteTime": {
     "end_time": "2020-02-21T04:33:08.940782Z",
     "start_time": "2020-02-21T04:33:08.936794Z"
    }
   },
   "outputs": [],
   "source": [
    "cursor = connection.cursor()"
   ]
  },
  {
   "cell_type": "code",
   "execution_count": null,
   "metadata": {
    "ExecuteTime": {
     "end_time": "2020-02-21T03:30:15.694554Z",
     "start_time": "2020-02-21T03:30:15.685627Z"
    }
   },
   "outputs": [],
   "source": [
    "cursor.execute(sql)"
   ]
  },
  {
   "cell_type": "code",
   "execution_count": null,
   "metadata": {
    "ExecuteTime": {
     "end_time": "2020-02-21T03:30:16.874138Z",
     "start_time": "2020-02-21T03:30:16.870135Z"
    }
   },
   "outputs": [],
   "source": [
    "d = dictfetchall(cursor)\n",
    "print(d)"
   ]
  },
  {
   "cell_type": "code",
   "execution_count": null,
   "metadata": {
    "ExecuteTime": {
     "end_time": "2020-02-21T02:32:10.801543Z",
     "start_time": "2020-02-21T02:32:10.795560Z"
    }
   },
   "outputs": [],
   "source": [
    "cursor = connection.cursor()\n",
    "cursor.execute(sql)\n",
    "datas = [dict(zip([col[0] for col in cursor.description], row)) for row in cursor.fetchall()]  # 모든 데이터를 조회 하면서 컬럼과 같이 묶어버림(ZIP)\n",
    "print(datas)"
   ]
  },
  {
   "cell_type": "code",
   "execution_count": null,
   "metadata": {
    "ExecuteTime": {
     "end_time": "2020-02-21T02:34:57.151433Z",
     "start_time": "2020-02-21T02:34:57.147437Z"
    }
   },
   "outputs": [],
   "source": [
    "p = int(page)\n",
    "subs_p = datas[(p-1)*3:(p)*3]\n",
    "print(subs_p)"
   ]
  },
  {
   "cell_type": "code",
   "execution_count": null,
   "metadata": {
    "ExecuteTime": {
     "end_time": "2020-02-21T02:36:08.731324Z",
     "start_time": "2020-02-21T02:36:08.722348Z"
    }
   },
   "outputs": [],
   "source": [
    "subs_p"
   ]
  },
  {
   "cell_type": "code",
   "execution_count": null,
   "metadata": {},
   "outputs": [],
   "source": []
  },
  {
   "cell_type": "code",
   "execution_count": null,
   "metadata": {},
   "outputs": [],
   "source": []
  }
 ],
 "metadata": {
  "kernelspec": {
   "display_name": "Django Shell-Plus",
   "language": "python",
   "name": "django_extensions"
  },
  "language_info": {
   "codemirror_mode": {
    "name": "ipython",
    "version": 3
   },
   "file_extension": ".py",
   "mimetype": "text/x-python",
   "name": "python",
   "nbconvert_exporter": "python",
   "pygments_lexer": "ipython3",
   "version": "3.7.4"
  }
 },
 "nbformat": 4,
 "nbformat_minor": 2
}
